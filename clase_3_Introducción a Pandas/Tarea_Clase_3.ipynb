{
  "nbformat": 4,
  "nbformat_minor": 0,
  "metadata": {
    "colab": {
      "name": "Tarea_Clase_3.ipynb",
      "provenance": [],
      "collapsed_sections": [],
      "toc_visible": true,
      "include_colab_link": true
    },
    "kernelspec": {
      "name": "python3",
      "display_name": "Python 3"
    }
  },
  "cells": [
    {
      "cell_type": "markdown",
      "metadata": {
        "id": "view-in-github",
        "colab_type": "text"
      },
      "source": [
        "<a href=\"https://colab.research.google.com/github/jons255-p/Python_Machi_Learning_Sta_Anita/blob/master/clase_3_Introducci%C3%B3n%20a%20Pandas/Tarea_Clase_3.ipynb\" target=\"_parent\"><img src=\"https://colab.research.google.com/assets/colab-badge.svg\" alt=\"Open In Colab\"/></a>"
      ]
    },
    {
      "cell_type": "markdown",
      "metadata": {
        "id": "OFgtgMaGnDHT",
        "colab_type": "text"
      },
      "source": [
        "#Introducción a Libreria Pandas"
      ]
    },
    {
      "cell_type": "markdown",
      "metadata": {
        "id": "qX8HTQvWnGYG",
        "colab_type": "text"
      },
      "source": [
        "**Contexto: Se va a analizar un archivo csv que contiene el rating que obtuvieron algunas películas por parte de algunas webs de reseñas**"
      ]
    },
    {
      "cell_type": "code",
      "metadata": {
        "id": "GzIZI2n-n9ss",
        "colab_type": "code",
        "colab": {}
      },
      "source": [
        "import pandas as pd\n",
        "import numpy as np"
      ],
      "execution_count": 0,
      "outputs": []
    },
    {
      "cell_type": "markdown",
      "metadata": {
        "id": "wbUVVdIUni_I",
        "colab_type": "text"
      },
      "source": [
        "####1- Importe el archivo \"movie_ratings.csv\" y visualice las 5 primeros filas"
      ]
    },
    {
      "cell_type": "code",
      "metadata": {
        "id": "KH4aFkbym-DV",
        "colab_type": "code",
        "outputId": "a2075bca-a474-4c1e-83c7-4f82f23ea2cc",
        "colab": {
          "base_uri": "https://localhost:8080/",
          "height": 204
        }
      },
      "source": [
        "df_1 = pd.read_csv(\"movie_ratings.csv\")\n",
        "df_1.head(5)"
      ],
      "execution_count": 0,
      "outputs": [
        {
          "output_type": "execute_result",
          "data": {
            "text/html": [
              "<div>\n",
              "<style scoped>\n",
              "    .dataframe tbody tr th:only-of-type {\n",
              "        vertical-align: middle;\n",
              "    }\n",
              "\n",
              "    .dataframe tbody tr th {\n",
              "        vertical-align: top;\n",
              "    }\n",
              "\n",
              "    .dataframe thead th {\n",
              "        text-align: right;\n",
              "    }\n",
              "</style>\n",
              "<table border=\"1\" class=\"dataframe\">\n",
              "  <thead>\n",
              "    <tr style=\"text-align: right;\">\n",
              "      <th></th>\n",
              "      <th>Unnamed: 0</th>\n",
              "      <th>movie</th>\n",
              "      <th>year</th>\n",
              "      <th>imdb</th>\n",
              "      <th>metascore</th>\n",
              "      <th>votes</th>\n",
              "    </tr>\n",
              "  </thead>\n",
              "  <tbody>\n",
              "    <tr>\n",
              "      <th>0</th>\n",
              "      <td>0</td>\n",
              "      <td>Gladiator</td>\n",
              "      <td>2000</td>\n",
              "      <td>8.5</td>\n",
              "      <td>67.0</td>\n",
              "      <td>1187559</td>\n",
              "    </tr>\n",
              "    <tr>\n",
              "      <th>1</th>\n",
              "      <td>1</td>\n",
              "      <td>Memento</td>\n",
              "      <td>2000</td>\n",
              "      <td>8.5</td>\n",
              "      <td>80.0</td>\n",
              "      <td>1014199</td>\n",
              "    </tr>\n",
              "    <tr>\n",
              "      <th>2</th>\n",
              "      <td>2</td>\n",
              "      <td>Snatch</td>\n",
              "      <td>2000</td>\n",
              "      <td>8.3</td>\n",
              "      <td>NaN</td>\n",
              "      <td>707162</td>\n",
              "    </tr>\n",
              "    <tr>\n",
              "      <th>3</th>\n",
              "      <td>3</td>\n",
              "      <td>Requiem for a Dream</td>\n",
              "      <td>2000</td>\n",
              "      <td>8.3</td>\n",
              "      <td>68.0</td>\n",
              "      <td>688394</td>\n",
              "    </tr>\n",
              "    <tr>\n",
              "      <th>4</th>\n",
              "      <td>4</td>\n",
              "      <td>X-Men</td>\n",
              "      <td>2000</td>\n",
              "      <td>7.4</td>\n",
              "      <td>64.0</td>\n",
              "      <td>526411</td>\n",
              "    </tr>\n",
              "  </tbody>\n",
              "</table>\n",
              "</div>"
            ],
            "text/plain": [
              "   Unnamed: 0                movie  year  imdb  metascore    votes\n",
              "0           0            Gladiator  2000   8.5       67.0  1187559\n",
              "1           1              Memento  2000   8.5       80.0  1014199\n",
              "2           2               Snatch  2000   8.3        NaN   707162\n",
              "3           3  Requiem for a Dream  2000   8.3       68.0   688394\n",
              "4           4                X-Men  2000   7.4       64.0   526411"
            ]
          },
          "metadata": {
            "tags": []
          },
          "execution_count": 11
        }
      ]
    },
    {
      "cell_type": "markdown",
      "metadata": {
        "id": "ATS8dfQrnsfd",
        "colab_type": "text"
      },
      "source": [
        "#### 2- Como podrá notar en la data existe una columna que no es necesaria para nuestro análisis (Unnamed: 0) Eliminela y compruebe que se eliminó correctamente"
      ]
    },
    {
      "cell_type": "code",
      "metadata": {
        "id": "pI97FASuoTXo",
        "colab_type": "code",
        "colab": {}
      },
      "source": [
        "del df_1[\"Unnamed: 0\"]"
      ],
      "execution_count": 0,
      "outputs": []
    },
    {
      "cell_type": "code",
      "metadata": {
        "id": "oE8hBmV-rm7Y",
        "colab_type": "code",
        "outputId": "68c27126-3cdd-4381-a576-84631c68a4ba",
        "colab": {
          "base_uri": "https://localhost:8080/",
          "height": 204
        }
      },
      "source": [
        "df_1.head()"
      ],
      "execution_count": 0,
      "outputs": [
        {
          "output_type": "execute_result",
          "data": {
            "text/html": [
              "<div>\n",
              "<style scoped>\n",
              "    .dataframe tbody tr th:only-of-type {\n",
              "        vertical-align: middle;\n",
              "    }\n",
              "\n",
              "    .dataframe tbody tr th {\n",
              "        vertical-align: top;\n",
              "    }\n",
              "\n",
              "    .dataframe thead th {\n",
              "        text-align: right;\n",
              "    }\n",
              "</style>\n",
              "<table border=\"1\" class=\"dataframe\">\n",
              "  <thead>\n",
              "    <tr style=\"text-align: right;\">\n",
              "      <th></th>\n",
              "      <th>movie</th>\n",
              "      <th>year</th>\n",
              "      <th>imdb</th>\n",
              "      <th>metascore</th>\n",
              "      <th>votes</th>\n",
              "    </tr>\n",
              "  </thead>\n",
              "  <tbody>\n",
              "    <tr>\n",
              "      <th>0</th>\n",
              "      <td>Gladiator</td>\n",
              "      <td>2000</td>\n",
              "      <td>8.5</td>\n",
              "      <td>67.0</td>\n",
              "      <td>1187559</td>\n",
              "    </tr>\n",
              "    <tr>\n",
              "      <th>1</th>\n",
              "      <td>Memento</td>\n",
              "      <td>2000</td>\n",
              "      <td>8.5</td>\n",
              "      <td>80.0</td>\n",
              "      <td>1014199</td>\n",
              "    </tr>\n",
              "    <tr>\n",
              "      <th>2</th>\n",
              "      <td>Snatch</td>\n",
              "      <td>2000</td>\n",
              "      <td>8.3</td>\n",
              "      <td>NaN</td>\n",
              "      <td>707162</td>\n",
              "    </tr>\n",
              "    <tr>\n",
              "      <th>3</th>\n",
              "      <td>Requiem for a Dream</td>\n",
              "      <td>2000</td>\n",
              "      <td>8.3</td>\n",
              "      <td>68.0</td>\n",
              "      <td>688394</td>\n",
              "    </tr>\n",
              "    <tr>\n",
              "      <th>4</th>\n",
              "      <td>X-Men</td>\n",
              "      <td>2000</td>\n",
              "      <td>7.4</td>\n",
              "      <td>64.0</td>\n",
              "      <td>526411</td>\n",
              "    </tr>\n",
              "  </tbody>\n",
              "</table>\n",
              "</div>"
            ],
            "text/plain": [
              "                 movie  year  imdb  metascore    votes\n",
              "0            Gladiator  2000   8.5       67.0  1187559\n",
              "1              Memento  2000   8.5       80.0  1014199\n",
              "2               Snatch  2000   8.3        NaN   707162\n",
              "3  Requiem for a Dream  2000   8.3       68.0   688394\n",
              "4                X-Men  2000   7.4       64.0   526411"
            ]
          },
          "metadata": {
            "tags": []
          },
          "execution_count": 15
        }
      ]
    },
    {
      "cell_type": "markdown",
      "metadata": {
        "id": "A9cnnOJ9otuw",
        "colab_type": "text"
      },
      "source": [
        "####3- En todo el Dataset existen valores duplicados, ejecutaremos la línea a continuación para demostrarlo:"
      ]
    },
    {
      "cell_type": "code",
      "metadata": {
        "id": "91DBlDdjo-b8",
        "colab_type": "code",
        "outputId": "e24f25a3-ba43-4110-bce8-516af773dd00",
        "colab": {
          "base_uri": "https://localhost:8080/",
          "height": 111
        }
      },
      "source": [
        "#El nombre de su DataFrame en lugar de df_1\n",
        "df_1[df_1['movie']=='Gladiator']"
      ],
      "execution_count": 0,
      "outputs": [
        {
          "output_type": "execute_result",
          "data": {
            "text/html": [
              "<div>\n",
              "<style scoped>\n",
              "    .dataframe tbody tr th:only-of-type {\n",
              "        vertical-align: middle;\n",
              "    }\n",
              "\n",
              "    .dataframe tbody tr th {\n",
              "        vertical-align: top;\n",
              "    }\n",
              "\n",
              "    .dataframe thead th {\n",
              "        text-align: right;\n",
              "    }\n",
              "</style>\n",
              "<table border=\"1\" class=\"dataframe\">\n",
              "  <thead>\n",
              "    <tr style=\"text-align: right;\">\n",
              "      <th></th>\n",
              "      <th>movie</th>\n",
              "      <th>year</th>\n",
              "      <th>imdb</th>\n",
              "      <th>metascore</th>\n",
              "      <th>votes</th>\n",
              "    </tr>\n",
              "  </thead>\n",
              "  <tbody>\n",
              "    <tr>\n",
              "      <th>0</th>\n",
              "      <td>Gladiator</td>\n",
              "      <td>2000</td>\n",
              "      <td>8.5</td>\n",
              "      <td>67.0</td>\n",
              "      <td>1187559</td>\n",
              "    </tr>\n",
              "    <tr>\n",
              "      <th>50</th>\n",
              "      <td>Gladiator</td>\n",
              "      <td>2000</td>\n",
              "      <td>8.5</td>\n",
              "      <td>67.0</td>\n",
              "      <td>1187559</td>\n",
              "    </tr>\n",
              "  </tbody>\n",
              "</table>\n",
              "</div>"
            ],
            "text/plain": [
              "        movie  year  imdb  metascore    votes\n",
              "0   Gladiator  2000   8.5       67.0  1187559\n",
              "50  Gladiator  2000   8.5       67.0  1187559"
            ]
          },
          "metadata": {
            "tags": []
          },
          "execution_count": 16
        }
      ]
    },
    {
      "cell_type": "markdown",
      "metadata": {
        "id": "Oti2YiHKpS3Y",
        "colab_type": "text"
      },
      "source": [
        "####4- Ejecutaremos la siguiente función para eliminar los valores duplicados:"
      ]
    },
    {
      "cell_type": "code",
      "metadata": {
        "id": "uNTqyEjapbYc",
        "colab_type": "code",
        "colab": {}
      },
      "source": [
        "df_1 = df_1.drop_duplicates()"
      ],
      "execution_count": 0,
      "outputs": []
    },
    {
      "cell_type": "code",
      "metadata": {
        "id": "ySPvg-6vpoNB",
        "colab_type": "code",
        "outputId": "a29d5c31-f671-46e1-912f-39521461bdac",
        "colab": {
          "base_uri": "https://localhost:8080/",
          "height": 80
        }
      },
      "source": [
        "#Comprobamos que se eliminaron los valores duplicados\n",
        "df_1[df_1['movie']=='Gladiator']"
      ],
      "execution_count": 0,
      "outputs": [
        {
          "output_type": "execute_result",
          "data": {
            "text/html": [
              "<div>\n",
              "<style scoped>\n",
              "    .dataframe tbody tr th:only-of-type {\n",
              "        vertical-align: middle;\n",
              "    }\n",
              "\n",
              "    .dataframe tbody tr th {\n",
              "        vertical-align: top;\n",
              "    }\n",
              "\n",
              "    .dataframe thead th {\n",
              "        text-align: right;\n",
              "    }\n",
              "</style>\n",
              "<table border=\"1\" class=\"dataframe\">\n",
              "  <thead>\n",
              "    <tr style=\"text-align: right;\">\n",
              "      <th></th>\n",
              "      <th>movie</th>\n",
              "      <th>year</th>\n",
              "      <th>imdb</th>\n",
              "      <th>metascore</th>\n",
              "      <th>votes</th>\n",
              "    </tr>\n",
              "  </thead>\n",
              "  <tbody>\n",
              "    <tr>\n",
              "      <th>0</th>\n",
              "      <td>Gladiator</td>\n",
              "      <td>2000</td>\n",
              "      <td>8.5</td>\n",
              "      <td>67.0</td>\n",
              "      <td>1187559</td>\n",
              "    </tr>\n",
              "  </tbody>\n",
              "</table>\n",
              "</div>"
            ],
            "text/plain": [
              "       movie  year  imdb  metascore    votes\n",
              "0  Gladiator  2000   8.5       67.0  1187559"
            ]
          },
          "metadata": {
            "tags": []
          },
          "execution_count": 18
        }
      ]
    },
    {
      "cell_type": "markdown",
      "metadata": {
        "id": "2A_-2ydxpx7H",
        "colab_type": "text"
      },
      "source": [
        "**Ahora con la data preparada, se le pide desarrollar:**\n",
        "\n",
        "**Tip: En este dataset los números no trabajan como texto (string) así que se trabajan como tal, sin comillas**"
      ]
    },
    {
      "cell_type": "markdown",
      "metadata": {
        "id": "m3Zm-glYqBNf",
        "colab_type": "text"
      },
      "source": [
        "####5- Halle el número de peliculas con rating 'imdb' mayor a 8.0"
      ]
    },
    {
      "cell_type": "code",
      "metadata": {
        "id": "AxTzp8iIsP9V",
        "colab_type": "code",
        "outputId": "f24c1909-5001-4044-af8a-cce27e729e6f",
        "colab": {
          "base_uri": "https://localhost:8080/",
          "height": 419
        }
      },
      "source": [
        "df_1[df_1[\"imdb\"]>8.0]"
      ],
      "execution_count": 0,
      "outputs": [
        {
          "output_type": "execute_result",
          "data": {
            "text/html": [
              "<div>\n",
              "<style scoped>\n",
              "    .dataframe tbody tr th:only-of-type {\n",
              "        vertical-align: middle;\n",
              "    }\n",
              "\n",
              "    .dataframe tbody tr th {\n",
              "        vertical-align: top;\n",
              "    }\n",
              "\n",
              "    .dataframe thead th {\n",
              "        text-align: right;\n",
              "    }\n",
              "</style>\n",
              "<table border=\"1\" class=\"dataframe\">\n",
              "  <thead>\n",
              "    <tr style=\"text-align: right;\">\n",
              "      <th></th>\n",
              "      <th>movie</th>\n",
              "      <th>year</th>\n",
              "      <th>imdb</th>\n",
              "      <th>metascore</th>\n",
              "      <th>votes</th>\n",
              "    </tr>\n",
              "  </thead>\n",
              "  <tbody>\n",
              "    <tr>\n",
              "      <th>0</th>\n",
              "      <td>Gladiator</td>\n",
              "      <td>2000</td>\n",
              "      <td>8.5</td>\n",
              "      <td>67.0</td>\n",
              "      <td>1187559</td>\n",
              "    </tr>\n",
              "    <tr>\n",
              "      <th>1</th>\n",
              "      <td>Memento</td>\n",
              "      <td>2000</td>\n",
              "      <td>8.5</td>\n",
              "      <td>80.0</td>\n",
              "      <td>1014199</td>\n",
              "    </tr>\n",
              "    <tr>\n",
              "      <th>2</th>\n",
              "      <td>Snatch</td>\n",
              "      <td>2000</td>\n",
              "      <td>8.3</td>\n",
              "      <td>NaN</td>\n",
              "      <td>707162</td>\n",
              "    </tr>\n",
              "    <tr>\n",
              "      <th>3</th>\n",
              "      <td>Requiem for a Dream</td>\n",
              "      <td>2000</td>\n",
              "      <td>8.3</td>\n",
              "      <td>68.0</td>\n",
              "      <td>688394</td>\n",
              "    </tr>\n",
              "    <tr>\n",
              "      <th>20</th>\n",
              "      <td>Amores perros</td>\n",
              "      <td>2000</td>\n",
              "      <td>8.1</td>\n",
              "      <td>83.0</td>\n",
              "      <td>204468</td>\n",
              "    </tr>\n",
              "    <tr>\n",
              "      <th>...</th>\n",
              "      <td>...</td>\n",
              "      <td>...</td>\n",
              "      <td>...</td>\n",
              "      <td>...</td>\n",
              "      <td>...</td>\n",
              "    </tr>\n",
              "    <tr>\n",
              "      <th>1715</th>\n",
              "      <td>Coco</td>\n",
              "      <td>2017</td>\n",
              "      <td>8.4</td>\n",
              "      <td>81.0</td>\n",
              "      <td>256973</td>\n",
              "    </tr>\n",
              "    <tr>\n",
              "      <th>1738</th>\n",
              "      <td>The Punisher</td>\n",
              "      <td>2017</td>\n",
              "      <td>8.6</td>\n",
              "      <td>NaN</td>\n",
              "      <td>135366</td>\n",
              "    </tr>\n",
              "    <tr>\n",
              "      <th>1744</th>\n",
              "      <td>La casa de papel</td>\n",
              "      <td>2017</td>\n",
              "      <td>8.6</td>\n",
              "      <td>NaN</td>\n",
              "      <td>114840</td>\n",
              "    </tr>\n",
              "    <tr>\n",
              "      <th>1746</th>\n",
              "      <td>Mindhunter</td>\n",
              "      <td>2017</td>\n",
              "      <td>8.5</td>\n",
              "      <td>NaN</td>\n",
              "      <td>111213</td>\n",
              "    </tr>\n",
              "    <tr>\n",
              "      <th>1748</th>\n",
              "      <td>The Handmaid's Tale</td>\n",
              "      <td>2017</td>\n",
              "      <td>8.6</td>\n",
              "      <td>NaN</td>\n",
              "      <td>106329</td>\n",
              "    </tr>\n",
              "  </tbody>\n",
              "</table>\n",
              "<p>133 rows × 5 columns</p>\n",
              "</div>"
            ],
            "text/plain": [
              "                    movie  year  imdb  metascore    votes\n",
              "0               Gladiator  2000   8.5       67.0  1187559\n",
              "1                 Memento  2000   8.5       80.0  1014199\n",
              "2                  Snatch  2000   8.3        NaN   707162\n",
              "3     Requiem for a Dream  2000   8.3       68.0   688394\n",
              "20          Amores perros  2000   8.1       83.0   204468\n",
              "...                   ...   ...   ...        ...      ...\n",
              "1715                 Coco  2017   8.4       81.0   256973\n",
              "1738         The Punisher  2017   8.6        NaN   135366\n",
              "1744     La casa de papel  2017   8.6        NaN   114840\n",
              "1746           Mindhunter  2017   8.5        NaN   111213\n",
              "1748  The Handmaid's Tale  2017   8.6        NaN   106329\n",
              "\n",
              "[133 rows x 5 columns]"
            ]
          },
          "metadata": {
            "tags": []
          },
          "execution_count": 20
        }
      ]
    },
    {
      "cell_type": "code",
      "metadata": {
        "id": "olWNa4jaqcC0",
        "colab_type": "code",
        "outputId": "81c67c01-6498-4e46-cfac-2d84317a14d1",
        "colab": {
          "base_uri": "https://localhost:8080/",
          "height": 34
        }
      },
      "source": [
        "df_1[df_1[\"imdb\"]>8.0].shape[0]"
      ],
      "execution_count": 0,
      "outputs": [
        {
          "output_type": "execute_result",
          "data": {
            "text/plain": [
              "133"
            ]
          },
          "metadata": {
            "tags": []
          },
          "execution_count": 19
        }
      ]
    },
    {
      "cell_type": "markdown",
      "metadata": {
        "id": "Iss7oTFfqre0",
        "colab_type": "text"
      },
      "source": [
        "####6- ¿Cúantas películas se estrenaron en el 2010?"
      ]
    },
    {
      "cell_type": "code",
      "metadata": {
        "id": "9w-jawcRqz9Q",
        "colab_type": "code",
        "outputId": "17137b26-10ec-4cdd-b208-1f2fe618a1d1",
        "colab": {
          "base_uri": "https://localhost:8080/",
          "height": 1000
        }
      },
      "source": [
        "df_1[df_1[\"year\"]==2010]"
      ],
      "execution_count": 0,
      "outputs": [
        {
          "output_type": "execute_result",
          "data": {
            "text/html": [
              "<div>\n",
              "<style scoped>\n",
              "    .dataframe tbody tr th:only-of-type {\n",
              "        vertical-align: middle;\n",
              "    }\n",
              "\n",
              "    .dataframe tbody tr th {\n",
              "        vertical-align: top;\n",
              "    }\n",
              "\n",
              "    .dataframe thead th {\n",
              "        text-align: right;\n",
              "    }\n",
              "</style>\n",
              "<table border=\"1\" class=\"dataframe\">\n",
              "  <thead>\n",
              "    <tr style=\"text-align: right;\">\n",
              "      <th></th>\n",
              "      <th>movie</th>\n",
              "      <th>year</th>\n",
              "      <th>imdb</th>\n",
              "      <th>metascore</th>\n",
              "      <th>votes</th>\n",
              "    </tr>\n",
              "  </thead>\n",
              "  <tbody>\n",
              "    <tr>\n",
              "      <th>1000</th>\n",
              "      <td>Inception</td>\n",
              "      <td>2010</td>\n",
              "      <td>8.8</td>\n",
              "      <td>74.0</td>\n",
              "      <td>1799695</td>\n",
              "    </tr>\n",
              "    <tr>\n",
              "      <th>1001</th>\n",
              "      <td>Shutter Island</td>\n",
              "      <td>2010</td>\n",
              "      <td>8.1</td>\n",
              "      <td>63.0</td>\n",
              "      <td>983982</td>\n",
              "    </tr>\n",
              "    <tr>\n",
              "      <th>1002</th>\n",
              "      <td>The Walking Dead</td>\n",
              "      <td>2010</td>\n",
              "      <td>8.3</td>\n",
              "      <td>NaN</td>\n",
              "      <td>771362</td>\n",
              "    </tr>\n",
              "    <tr>\n",
              "      <th>1003</th>\n",
              "      <td>Sherlock</td>\n",
              "      <td>2010</td>\n",
              "      <td>9.2</td>\n",
              "      <td>NaN</td>\n",
              "      <td>684885</td>\n",
              "    </tr>\n",
              "    <tr>\n",
              "      <th>1004</th>\n",
              "      <td>Toy Story 3</td>\n",
              "      <td>2010</td>\n",
              "      <td>8.3</td>\n",
              "      <td>92.0</td>\n",
              "      <td>667157</td>\n",
              "    </tr>\n",
              "    <tr>\n",
              "      <th>1005</th>\n",
              "      <td>Black Swan</td>\n",
              "      <td>2010</td>\n",
              "      <td>8.0</td>\n",
              "      <td>79.0</td>\n",
              "      <td>638580</td>\n",
              "    </tr>\n",
              "    <tr>\n",
              "      <th>1006</th>\n",
              "      <td>Iron Man 2</td>\n",
              "      <td>2010</td>\n",
              "      <td>7.0</td>\n",
              "      <td>NaN</td>\n",
              "      <td>633681</td>\n",
              "    </tr>\n",
              "    <tr>\n",
              "      <th>1007</th>\n",
              "      <td>How to Train Your Dragon</td>\n",
              "      <td>2010</td>\n",
              "      <td>8.1</td>\n",
              "      <td>74.0</td>\n",
              "      <td>595638</td>\n",
              "    </tr>\n",
              "    <tr>\n",
              "      <th>1008</th>\n",
              "      <td>The King's Speech</td>\n",
              "      <td>2010</td>\n",
              "      <td>8.0</td>\n",
              "      <td>88.0</td>\n",
              "      <td>584869</td>\n",
              "    </tr>\n",
              "    <tr>\n",
              "      <th>1009</th>\n",
              "      <td>The Social Network</td>\n",
              "      <td>2010</td>\n",
              "      <td>7.7</td>\n",
              "      <td>95.0</td>\n",
              "      <td>560871</td>\n",
              "    </tr>\n",
              "    <tr>\n",
              "      <th>1010</th>\n",
              "      <td>Kick-Ass</td>\n",
              "      <td>2010</td>\n",
              "      <td>7.6</td>\n",
              "      <td>66.0</td>\n",
              "      <td>491089</td>\n",
              "    </tr>\n",
              "    <tr>\n",
              "      <th>1011</th>\n",
              "      <td>Despicable Me</td>\n",
              "      <td>2010</td>\n",
              "      <td>7.7</td>\n",
              "      <td>72.0</td>\n",
              "      <td>456440</td>\n",
              "    </tr>\n",
              "    <tr>\n",
              "      <th>1012</th>\n",
              "      <td>Harry Potter and the Deathly Hallows: Part 1</td>\n",
              "      <td>2010</td>\n",
              "      <td>7.7</td>\n",
              "      <td>65.0</td>\n",
              "      <td>415351</td>\n",
              "    </tr>\n",
              "    <tr>\n",
              "      <th>1013</th>\n",
              "      <td>Tangled</td>\n",
              "      <td>2010</td>\n",
              "      <td>7.8</td>\n",
              "      <td>71.0</td>\n",
              "      <td>358425</td>\n",
              "    </tr>\n",
              "    <tr>\n",
              "      <th>1014</th>\n",
              "      <td>Alice in Wonderland</td>\n",
              "      <td>2010</td>\n",
              "      <td>6.5</td>\n",
              "      <td>NaN</td>\n",
              "      <td>353451</td>\n",
              "    </tr>\n",
              "    <tr>\n",
              "      <th>1015</th>\n",
              "      <td>Scott Pilgrim vs. the World</td>\n",
              "      <td>2010</td>\n",
              "      <td>7.5</td>\n",
              "      <td>69.0</td>\n",
              "      <td>331928</td>\n",
              "    </tr>\n",
              "    <tr>\n",
              "      <th>1016</th>\n",
              "      <td>Easy A</td>\n",
              "      <td>2010</td>\n",
              "      <td>7.1</td>\n",
              "      <td>72.0</td>\n",
              "      <td>324718</td>\n",
              "    </tr>\n",
              "    <tr>\n",
              "      <th>1017</th>\n",
              "      <td>127 Hours</td>\n",
              "      <td>2010</td>\n",
              "      <td>7.6</td>\n",
              "      <td>82.0</td>\n",
              "      <td>319032</td>\n",
              "    </tr>\n",
              "    <tr>\n",
              "      <th>1018</th>\n",
              "      <td>The Town</td>\n",
              "      <td>2010</td>\n",
              "      <td>7.6</td>\n",
              "      <td>74.0</td>\n",
              "      <td>318372</td>\n",
              "    </tr>\n",
              "    <tr>\n",
              "      <th>1019</th>\n",
              "      <td>The Fighter</td>\n",
              "      <td>2010</td>\n",
              "      <td>7.8</td>\n",
              "      <td>79.0</td>\n",
              "      <td>312613</td>\n",
              "    </tr>\n",
              "    <tr>\n",
              "      <th>1020</th>\n",
              "      <td>The Expendables</td>\n",
              "      <td>2010</td>\n",
              "      <td>6.5</td>\n",
              "      <td>NaN</td>\n",
              "      <td>304315</td>\n",
              "    </tr>\n",
              "    <tr>\n",
              "      <th>1021</th>\n",
              "      <td>Due Date</td>\n",
              "      <td>2010</td>\n",
              "      <td>6.6</td>\n",
              "      <td>NaN</td>\n",
              "      <td>300267</td>\n",
              "    </tr>\n",
              "    <tr>\n",
              "      <th>1022</th>\n",
              "      <td>Tron</td>\n",
              "      <td>2010</td>\n",
              "      <td>6.8</td>\n",
              "      <td>NaN</td>\n",
              "      <td>292660</td>\n",
              "    </tr>\n",
              "    <tr>\n",
              "      <th>1023</th>\n",
              "      <td>True Grit</td>\n",
              "      <td>2010</td>\n",
              "      <td>7.6</td>\n",
              "      <td>80.0</td>\n",
              "      <td>279638</td>\n",
              "    </tr>\n",
              "    <tr>\n",
              "      <th>1024</th>\n",
              "      <td>Salt</td>\n",
              "      <td>2010</td>\n",
              "      <td>6.4</td>\n",
              "      <td>65.0</td>\n",
              "      <td>274457</td>\n",
              "    </tr>\n",
              "    <tr>\n",
              "      <th>1025</th>\n",
              "      <td>RED</td>\n",
              "      <td>2010</td>\n",
              "      <td>7.1</td>\n",
              "      <td>NaN</td>\n",
              "      <td>268487</td>\n",
              "    </tr>\n",
              "    <tr>\n",
              "      <th>1026</th>\n",
              "      <td>The Book of Eli</td>\n",
              "      <td>2010</td>\n",
              "      <td>6.9</td>\n",
              "      <td>NaN</td>\n",
              "      <td>267072</td>\n",
              "    </tr>\n",
              "    <tr>\n",
              "      <th>1027</th>\n",
              "      <td>Clash of the Titans</td>\n",
              "      <td>2010</td>\n",
              "      <td>5.8</td>\n",
              "      <td>NaN</td>\n",
              "      <td>253262</td>\n",
              "    </tr>\n",
              "    <tr>\n",
              "      <th>1028</th>\n",
              "      <td>Prince of Persia: The Sands of Time</td>\n",
              "      <td>2010</td>\n",
              "      <td>6.6</td>\n",
              "      <td>NaN</td>\n",
              "      <td>251286</td>\n",
              "    </tr>\n",
              "    <tr>\n",
              "      <th>1029</th>\n",
              "      <td>Insidious</td>\n",
              "      <td>2010</td>\n",
              "      <td>6.9</td>\n",
              "      <td>NaN</td>\n",
              "      <td>249062</td>\n",
              "    </tr>\n",
              "    <tr>\n",
              "      <th>1030</th>\n",
              "      <td>Robin Hood</td>\n",
              "      <td>2010</td>\n",
              "      <td>6.7</td>\n",
              "      <td>NaN</td>\n",
              "      <td>236953</td>\n",
              "    </tr>\n",
              "    <tr>\n",
              "      <th>1031</th>\n",
              "      <td>The A-Team</td>\n",
              "      <td>2010</td>\n",
              "      <td>6.8</td>\n",
              "      <td>NaN</td>\n",
              "      <td>233044</td>\n",
              "    </tr>\n",
              "    <tr>\n",
              "      <th>1032</th>\n",
              "      <td>The Other Guys</td>\n",
              "      <td>2010</td>\n",
              "      <td>6.7</td>\n",
              "      <td>64.0</td>\n",
              "      <td>218263</td>\n",
              "    </tr>\n",
              "    <tr>\n",
              "      <th>1033</th>\n",
              "      <td>The Twilight Saga: Eclipse</td>\n",
              "      <td>2010</td>\n",
              "      <td>5.0</td>\n",
              "      <td>NaN</td>\n",
              "      <td>208612</td>\n",
              "    </tr>\n",
              "    <tr>\n",
              "      <th>1034</th>\n",
              "      <td>Grown Ups</td>\n",
              "      <td>2010</td>\n",
              "      <td>6.0</td>\n",
              "      <td>NaN</td>\n",
              "      <td>207311</td>\n",
              "    </tr>\n",
              "    <tr>\n",
              "      <th>1035</th>\n",
              "      <td>The Tourist</td>\n",
              "      <td>2010</td>\n",
              "      <td>6.0</td>\n",
              "      <td>NaN</td>\n",
              "      <td>204038</td>\n",
              "    </tr>\n",
              "    <tr>\n",
              "      <th>1036</th>\n",
              "      <td>Megamind</td>\n",
              "      <td>2010</td>\n",
              "      <td>7.3</td>\n",
              "      <td>63.0</td>\n",
              "      <td>203939</td>\n",
              "    </tr>\n",
              "    <tr>\n",
              "      <th>1037</th>\n",
              "      <td>Spartacus: Blood and Sand</td>\n",
              "      <td>2010</td>\n",
              "      <td>8.5</td>\n",
              "      <td>NaN</td>\n",
              "      <td>201831</td>\n",
              "    </tr>\n",
              "    <tr>\n",
              "      <th>1038</th>\n",
              "      <td>Predators</td>\n",
              "      <td>2010</td>\n",
              "      <td>6.4</td>\n",
              "      <td>NaN</td>\n",
              "      <td>197026</td>\n",
              "    </tr>\n",
              "    <tr>\n",
              "      <th>1039</th>\n",
              "      <td>Machete</td>\n",
              "      <td>2010</td>\n",
              "      <td>6.6</td>\n",
              "      <td>NaN</td>\n",
              "      <td>180656</td>\n",
              "    </tr>\n",
              "    <tr>\n",
              "      <th>1040</th>\n",
              "      <td>Unstoppable</td>\n",
              "      <td>2010</td>\n",
              "      <td>6.8</td>\n",
              "      <td>69.0</td>\n",
              "      <td>170865</td>\n",
              "    </tr>\n",
              "    <tr>\n",
              "      <th>1041</th>\n",
              "      <td>Knight and Day</td>\n",
              "      <td>2010</td>\n",
              "      <td>6.3</td>\n",
              "      <td>NaN</td>\n",
              "      <td>168068</td>\n",
              "    </tr>\n",
              "    <tr>\n",
              "      <th>1042</th>\n",
              "      <td>Blue Valentine</td>\n",
              "      <td>2010</td>\n",
              "      <td>7.4</td>\n",
              "      <td>81.0</td>\n",
              "      <td>167676</td>\n",
              "    </tr>\n",
              "    <tr>\n",
              "      <th>1043</th>\n",
              "      <td>The Next Three Days</td>\n",
              "      <td>2010</td>\n",
              "      <td>7.4</td>\n",
              "      <td>NaN</td>\n",
              "      <td>165338</td>\n",
              "    </tr>\n",
              "    <tr>\n",
              "      <th>1044</th>\n",
              "      <td>Love &amp; Other Drugs</td>\n",
              "      <td>2010</td>\n",
              "      <td>6.7</td>\n",
              "      <td>NaN</td>\n",
              "      <td>165204</td>\n",
              "    </tr>\n",
              "    <tr>\n",
              "      <th>1045</th>\n",
              "      <td>Shrek Forever After</td>\n",
              "      <td>2010</td>\n",
              "      <td>6.3</td>\n",
              "      <td>NaN</td>\n",
              "      <td>163980</td>\n",
              "    </tr>\n",
              "    <tr>\n",
              "      <th>1046</th>\n",
              "      <td>Percy Jackson &amp; the Olympians: The Lightning T...</td>\n",
              "      <td>2010</td>\n",
              "      <td>5.9</td>\n",
              "      <td>NaN</td>\n",
              "      <td>162846</td>\n",
              "    </tr>\n",
              "    <tr>\n",
              "      <th>1047</th>\n",
              "      <td>Get Him to the Greek</td>\n",
              "      <td>2010</td>\n",
              "      <td>6.4</td>\n",
              "      <td>65.0</td>\n",
              "      <td>160290</td>\n",
              "    </tr>\n",
              "    <tr>\n",
              "      <th>1048</th>\n",
              "      <td>Boardwalk Empire</td>\n",
              "      <td>2010</td>\n",
              "      <td>8.6</td>\n",
              "      <td>NaN</td>\n",
              "      <td>157334</td>\n",
              "    </tr>\n",
              "    <tr>\n",
              "      <th>1049</th>\n",
              "      <td>Hot Tub Time Machine</td>\n",
              "      <td>2010</td>\n",
              "      <td>6.4</td>\n",
              "      <td>63.0</td>\n",
              "      <td>152544</td>\n",
              "    </tr>\n",
              "  </tbody>\n",
              "</table>\n",
              "</div>"
            ],
            "text/plain": [
              "                                                  movie  ...    votes\n",
              "1000                                          Inception  ...  1799695\n",
              "1001                                     Shutter Island  ...   983982\n",
              "1002                                   The Walking Dead  ...   771362\n",
              "1003                                           Sherlock  ...   684885\n",
              "1004                                        Toy Story 3  ...   667157\n",
              "1005                                         Black Swan  ...   638580\n",
              "1006                                         Iron Man 2  ...   633681\n",
              "1007                           How to Train Your Dragon  ...   595638\n",
              "1008                                  The King's Speech  ...   584869\n",
              "1009                                 The Social Network  ...   560871\n",
              "1010                                           Kick-Ass  ...   491089\n",
              "1011                                      Despicable Me  ...   456440\n",
              "1012       Harry Potter and the Deathly Hallows: Part 1  ...   415351\n",
              "1013                                            Tangled  ...   358425\n",
              "1014                                Alice in Wonderland  ...   353451\n",
              "1015                        Scott Pilgrim vs. the World  ...   331928\n",
              "1016                                             Easy A  ...   324718\n",
              "1017                                          127 Hours  ...   319032\n",
              "1018                                           The Town  ...   318372\n",
              "1019                                        The Fighter  ...   312613\n",
              "1020                                    The Expendables  ...   304315\n",
              "1021                                           Due Date  ...   300267\n",
              "1022                                               Tron  ...   292660\n",
              "1023                                          True Grit  ...   279638\n",
              "1024                                               Salt  ...   274457\n",
              "1025                                                RED  ...   268487\n",
              "1026                                    The Book of Eli  ...   267072\n",
              "1027                                Clash of the Titans  ...   253262\n",
              "1028                Prince of Persia: The Sands of Time  ...   251286\n",
              "1029                                          Insidious  ...   249062\n",
              "1030                                         Robin Hood  ...   236953\n",
              "1031                                         The A-Team  ...   233044\n",
              "1032                                     The Other Guys  ...   218263\n",
              "1033                         The Twilight Saga: Eclipse  ...   208612\n",
              "1034                                          Grown Ups  ...   207311\n",
              "1035                                        The Tourist  ...   204038\n",
              "1036                                           Megamind  ...   203939\n",
              "1037                          Spartacus: Blood and Sand  ...   201831\n",
              "1038                                          Predators  ...   197026\n",
              "1039                                            Machete  ...   180656\n",
              "1040                                        Unstoppable  ...   170865\n",
              "1041                                     Knight and Day  ...   168068\n",
              "1042                                     Blue Valentine  ...   167676\n",
              "1043                                The Next Three Days  ...   165338\n",
              "1044                                 Love & Other Drugs  ...   165204\n",
              "1045                                Shrek Forever After  ...   163980\n",
              "1046  Percy Jackson & the Olympians: The Lightning T...  ...   162846\n",
              "1047                               Get Him to the Greek  ...   160290\n",
              "1048                                   Boardwalk Empire  ...   157334\n",
              "1049                               Hot Tub Time Machine  ...   152544\n",
              "\n",
              "[50 rows x 5 columns]"
            ]
          },
          "metadata": {
            "tags": []
          },
          "execution_count": 21
        }
      ]
    },
    {
      "cell_type": "code",
      "metadata": {
        "id": "ADUDi54KtDUY",
        "colab_type": "code",
        "outputId": "24f4b599-558c-42ff-9d32-2bffd4319b24",
        "colab": {
          "base_uri": "https://localhost:8080/",
          "height": 34
        }
      },
      "source": [
        "df_1[df_1[\"year\"]==2010].shape[0]"
      ],
      "execution_count": 0,
      "outputs": [
        {
          "output_type": "execute_result",
          "data": {
            "text/plain": [
              "50"
            ]
          },
          "metadata": {
            "tags": []
          },
          "execution_count": 22
        }
      ]
    },
    {
      "cell_type": "markdown",
      "metadata": {
        "id": "Zf_xQuBCrTjs",
        "colab_type": "text"
      },
      "source": [
        "####7- Muestre las películas se estrenaron en el 2000 y tienen un rating de metascore mayor a 70.0"
      ]
    },
    {
      "cell_type": "code",
      "metadata": {
        "id": "ObsDFdKWrxWS",
        "colab_type": "code",
        "outputId": "4c3ef9dd-f396-437c-fe10-f8e8d3657b3e",
        "colab": {
          "base_uri": "https://localhost:8080/",
          "height": 483
        }
      },
      "source": [
        "df_1[(df_1[\"year\"]==2000) &\n",
        "      (df_1[\"metascore\"]>70.0)]\n"
      ],
      "execution_count": 0,
      "outputs": [
        {
          "output_type": "execute_result",
          "data": {
            "text/html": [
              "<div>\n",
              "<style scoped>\n",
              "    .dataframe tbody tr th:only-of-type {\n",
              "        vertical-align: middle;\n",
              "    }\n",
              "\n",
              "    .dataframe tbody tr th {\n",
              "        vertical-align: top;\n",
              "    }\n",
              "\n",
              "    .dataframe thead th {\n",
              "        text-align: right;\n",
              "    }\n",
              "</style>\n",
              "<table border=\"1\" class=\"dataframe\">\n",
              "  <thead>\n",
              "    <tr style=\"text-align: right;\">\n",
              "      <th></th>\n",
              "      <th>movie</th>\n",
              "      <th>year</th>\n",
              "      <th>imdb</th>\n",
              "      <th>metascore</th>\n",
              "      <th>votes</th>\n",
              "    </tr>\n",
              "  </thead>\n",
              "  <tbody>\n",
              "    <tr>\n",
              "      <th>1</th>\n",
              "      <td>Memento</td>\n",
              "      <td>2000</td>\n",
              "      <td>8.5</td>\n",
              "      <td>80.0</td>\n",
              "      <td>1014199</td>\n",
              "    </tr>\n",
              "    <tr>\n",
              "      <th>5</th>\n",
              "      <td>Cast Away</td>\n",
              "      <td>2000</td>\n",
              "      <td>7.8</td>\n",
              "      <td>73.0</td>\n",
              "      <td>465125</td>\n",
              "    </tr>\n",
              "    <tr>\n",
              "      <th>8</th>\n",
              "      <td>Meet the Parents</td>\n",
              "      <td>2000</td>\n",
              "      <td>7.0</td>\n",
              "      <td>73.0</td>\n",
              "      <td>290126</td>\n",
              "    </tr>\n",
              "    <tr>\n",
              "      <th>12</th>\n",
              "      <td>Wo hu cang long</td>\n",
              "      <td>2000</td>\n",
              "      <td>7.9</td>\n",
              "      <td>93.0</td>\n",
              "      <td>237498</td>\n",
              "    </tr>\n",
              "    <tr>\n",
              "      <th>14</th>\n",
              "      <td>Almost Famous</td>\n",
              "      <td>2000</td>\n",
              "      <td>7.9</td>\n",
              "      <td>90.0</td>\n",
              "      <td>232474</td>\n",
              "    </tr>\n",
              "    <tr>\n",
              "      <th>20</th>\n",
              "      <td>Amores perros</td>\n",
              "      <td>2000</td>\n",
              "      <td>8.1</td>\n",
              "      <td>83.0</td>\n",
              "      <td>204468</td>\n",
              "    </tr>\n",
              "    <tr>\n",
              "      <th>21</th>\n",
              "      <td>Traffic</td>\n",
              "      <td>2000</td>\n",
              "      <td>7.6</td>\n",
              "      <td>86.0</td>\n",
              "      <td>184710</td>\n",
              "    </tr>\n",
              "    <tr>\n",
              "      <th>27</th>\n",
              "      <td>Chicken Run</td>\n",
              "      <td>2000</td>\n",
              "      <td>7.0</td>\n",
              "      <td>88.0</td>\n",
              "      <td>161403</td>\n",
              "    </tr>\n",
              "    <tr>\n",
              "      <th>29</th>\n",
              "      <td>Batoru rowaiaru</td>\n",
              "      <td>2000</td>\n",
              "      <td>7.7</td>\n",
              "      <td>81.0</td>\n",
              "      <td>157589</td>\n",
              "    </tr>\n",
              "    <tr>\n",
              "      <th>30</th>\n",
              "      <td>High Fidelity</td>\n",
              "      <td>2000</td>\n",
              "      <td>7.5</td>\n",
              "      <td>79.0</td>\n",
              "      <td>157024</td>\n",
              "    </tr>\n",
              "    <tr>\n",
              "      <th>32</th>\n",
              "      <td>Erin Brockovich</td>\n",
              "      <td>2000</td>\n",
              "      <td>7.3</td>\n",
              "      <td>73.0</td>\n",
              "      <td>156488</td>\n",
              "    </tr>\n",
              "    <tr>\n",
              "      <th>38</th>\n",
              "      <td>Billy Elliot</td>\n",
              "      <td>2000</td>\n",
              "      <td>7.7</td>\n",
              "      <td>74.0</td>\n",
              "      <td>112664</td>\n",
              "    </tr>\n",
              "    <tr>\n",
              "      <th>39</th>\n",
              "      <td>Shanghai Noon</td>\n",
              "      <td>2000</td>\n",
              "      <td>6.6</td>\n",
              "      <td>77.0</td>\n",
              "      <td>110410</td>\n",
              "    </tr>\n",
              "    <tr>\n",
              "      <th>44</th>\n",
              "      <td>Faa yeung nin wa</td>\n",
              "      <td>2000</td>\n",
              "      <td>8.1</td>\n",
              "      <td>85.0</td>\n",
              "      <td>103042</td>\n",
              "    </tr>\n",
              "  </tbody>\n",
              "</table>\n",
              "</div>"
            ],
            "text/plain": [
              "               movie  year  imdb  metascore    votes\n",
              "1            Memento  2000   8.5       80.0  1014199\n",
              "5          Cast Away  2000   7.8       73.0   465125\n",
              "8   Meet the Parents  2000   7.0       73.0   290126\n",
              "12   Wo hu cang long  2000   7.9       93.0   237498\n",
              "14     Almost Famous  2000   7.9       90.0   232474\n",
              "20     Amores perros  2000   8.1       83.0   204468\n",
              "21           Traffic  2000   7.6       86.0   184710\n",
              "27       Chicken Run  2000   7.0       88.0   161403\n",
              "29   Batoru rowaiaru  2000   7.7       81.0   157589\n",
              "30     High Fidelity  2000   7.5       79.0   157024\n",
              "32   Erin Brockovich  2000   7.3       73.0   156488\n",
              "38      Billy Elliot  2000   7.7       74.0   112664\n",
              "39     Shanghai Noon  2000   6.6       77.0   110410\n",
              "44  Faa yeung nin wa  2000   8.1       85.0   103042"
            ]
          },
          "metadata": {
            "tags": []
          },
          "execution_count": 23
        }
      ]
    },
    {
      "cell_type": "markdown",
      "metadata": {
        "id": "RKl3HFAzsD4A",
        "colab_type": "text"
      },
      "source": [
        "####8- Halle el mayor número de votos (Utilice la función .max( ))"
      ]
    },
    {
      "cell_type": "code",
      "metadata": {
        "id": "7b5HmNycsUbZ",
        "colab_type": "code",
        "outputId": "5c75d5c0-80c1-4ba6-f64f-526baf7307e9",
        "colab": {
          "base_uri": "https://localhost:8080/",
          "height": 34
        }
      },
      "source": [
        "df_1[\"votes\"].max()"
      ],
      "execution_count": 0,
      "outputs": [
        {
          "output_type": "execute_result",
          "data": {
            "text/plain": [
              "2020298"
            ]
          },
          "metadata": {
            "tags": []
          },
          "execution_count": 24
        }
      ]
    },
    {
      "cell_type": "markdown",
      "metadata": {
        "id": "4Hyg3rVPsZgn",
        "colab_type": "text"
      },
      "source": [
        "####9- Ahora con el mayor número de votos hallado, muestre la película con ese número de votos"
      ]
    },
    {
      "cell_type": "code",
      "metadata": {
        "id": "5pdj6kFbsmcY",
        "colab_type": "code",
        "outputId": "40dcf14f-ad3d-4bb4-9dbc-04590f318fd9",
        "colab": {
          "base_uri": "https://localhost:8080/",
          "height": 80
        }
      },
      "source": [
        "df_1[df_1[\"votes\"]==2020298]"
      ],
      "execution_count": 0,
      "outputs": [
        {
          "output_type": "execute_result",
          "data": {
            "text/html": [
              "<div>\n",
              "<style scoped>\n",
              "    .dataframe tbody tr th:only-of-type {\n",
              "        vertical-align: middle;\n",
              "    }\n",
              "\n",
              "    .dataframe tbody tr th {\n",
              "        vertical-align: top;\n",
              "    }\n",
              "\n",
              "    .dataframe thead th {\n",
              "        text-align: right;\n",
              "    }\n",
              "</style>\n",
              "<table border=\"1\" class=\"dataframe\">\n",
              "  <thead>\n",
              "    <tr style=\"text-align: right;\">\n",
              "      <th></th>\n",
              "      <th>movie</th>\n",
              "      <th>year</th>\n",
              "      <th>imdb</th>\n",
              "      <th>metascore</th>\n",
              "      <th>votes</th>\n",
              "    </tr>\n",
              "  </thead>\n",
              "  <tbody>\n",
              "    <tr>\n",
              "      <th>800</th>\n",
              "      <td>The Dark Knight</td>\n",
              "      <td>2008</td>\n",
              "      <td>9.0</td>\n",
              "      <td>84.0</td>\n",
              "      <td>2020298</td>\n",
              "    </tr>\n",
              "  </tbody>\n",
              "</table>\n",
              "</div>"
            ],
            "text/plain": [
              "               movie  year  imdb  metascore    votes\n",
              "800  The Dark Knight  2008   9.0       84.0  2020298"
            ]
          },
          "metadata": {
            "tags": []
          },
          "execution_count": 25
        }
      ]
    },
    {
      "cell_type": "code",
      "metadata": {
        "id": "2Ij8IEMnt4fw",
        "colab_type": "code",
        "outputId": "2ce20bed-69e2-42a0-be10-82f977586632",
        "colab": {
          "base_uri": "https://localhost:8080/",
          "height": 80
        }
      },
      "source": [
        "df_1[df_1[\"votes\"]==df_1[\"votes\"].max()]"
      ],
      "execution_count": 0,
      "outputs": [
        {
          "output_type": "execute_result",
          "data": {
            "text/html": [
              "<div>\n",
              "<style scoped>\n",
              "    .dataframe tbody tr th:only-of-type {\n",
              "        vertical-align: middle;\n",
              "    }\n",
              "\n",
              "    .dataframe tbody tr th {\n",
              "        vertical-align: top;\n",
              "    }\n",
              "\n",
              "    .dataframe thead th {\n",
              "        text-align: right;\n",
              "    }\n",
              "</style>\n",
              "<table border=\"1\" class=\"dataframe\">\n",
              "  <thead>\n",
              "    <tr style=\"text-align: right;\">\n",
              "      <th></th>\n",
              "      <th>movie</th>\n",
              "      <th>year</th>\n",
              "      <th>imdb</th>\n",
              "      <th>metascore</th>\n",
              "      <th>votes</th>\n",
              "    </tr>\n",
              "  </thead>\n",
              "  <tbody>\n",
              "    <tr>\n",
              "      <th>800</th>\n",
              "      <td>The Dark Knight</td>\n",
              "      <td>2008</td>\n",
              "      <td>9.0</td>\n",
              "      <td>84.0</td>\n",
              "      <td>2020298</td>\n",
              "    </tr>\n",
              "  </tbody>\n",
              "</table>\n",
              "</div>"
            ],
            "text/plain": [
              "               movie  year  imdb  metascore    votes\n",
              "800  The Dark Knight  2008   9.0       84.0  2020298"
            ]
          },
          "metadata": {
            "tags": []
          },
          "execution_count": 26
        }
      ]
    },
    {
      "cell_type": "markdown",
      "metadata": {
        "id": "6nFdIik_s_Ra",
        "colab_type": "text"
      },
      "source": [
        "10- Muestre las peliculas que tienen el rating mayor de 'imdb' o 'metascore'\n"
      ]
    },
    {
      "cell_type": "code",
      "metadata": {
        "id": "tO3m9DcOtMaW",
        "colab_type": "code",
        "outputId": "6dad1602-baac-4d4d-90eb-ef411a54fda8",
        "colab": {
          "base_uri": "https://localhost:8080/",
          "height": 111
        }
      },
      "source": [
        "df_1[(df_1[\"imdb\"]==df_1[\"imdb\"].max()) |\n",
        "      (df_1[\"metascore\"]==df_1[\"metascore\"].max())]"
      ],
      "execution_count": 0,
      "outputs": [
        {
          "output_type": "execute_result",
          "data": {
            "text/html": [
              "<div>\n",
              "<style scoped>\n",
              "    .dataframe tbody tr th:only-of-type {\n",
              "        vertical-align: middle;\n",
              "    }\n",
              "\n",
              "    .dataframe tbody tr th {\n",
              "        vertical-align: top;\n",
              "    }\n",
              "\n",
              "    .dataframe thead th {\n",
              "        text-align: right;\n",
              "    }\n",
              "</style>\n",
              "<table border=\"1\" class=\"dataframe\">\n",
              "  <thead>\n",
              "    <tr style=\"text-align: right;\">\n",
              "      <th></th>\n",
              "      <th>movie</th>\n",
              "      <th>year</th>\n",
              "      <th>imdb</th>\n",
              "      <th>metascore</th>\n",
              "      <th>votes</th>\n",
              "    </tr>\n",
              "  </thead>\n",
              "  <tbody>\n",
              "    <tr>\n",
              "      <th>1428</th>\n",
              "      <td>Boyhood</td>\n",
              "      <td>2014</td>\n",
              "      <td>7.9</td>\n",
              "      <td>100.0</td>\n",
              "      <td>312102</td>\n",
              "    </tr>\n",
              "    <tr>\n",
              "      <th>1640</th>\n",
              "      <td>Game of Thrones</td>\n",
              "      <td>2011</td>\n",
              "      <td>9.9</td>\n",
              "      <td>NaN</td>\n",
              "      <td>158728</td>\n",
              "    </tr>\n",
              "  </tbody>\n",
              "</table>\n",
              "</div>"
            ],
            "text/plain": [
              "                 movie  year  imdb  metascore   votes\n",
              "1428           Boyhood  2014   7.9      100.0  312102\n",
              "1640   Game of Thrones  2011   9.9        NaN  158728"
            ]
          },
          "metadata": {
            "tags": []
          },
          "execution_count": 27
        }
      ]
    }
  ]
}