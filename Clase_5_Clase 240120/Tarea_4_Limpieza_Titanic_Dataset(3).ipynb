{
  "nbformat": 4,
  "nbformat_minor": 0,
  "metadata": {
    "colab": {
      "name": "Tarea_4_Limpieza_Titanic_Dataset.ipynb",
      "provenance": [],
      "collapsed_sections": []
    },
    "kernelspec": {
      "name": "python3",
      "display_name": "Python 3"
    }
  },
  "cells": [
    {
      "cell_type": "markdown",
      "metadata": {
        "id": "Azdk17IVmevp",
        "colab_type": "text"
      },
      "source": [
        "#Titanic Dataset"
      ]
    },
    {
      "cell_type": "markdown",
      "metadata": {
        "id": "oHEz1MvNp6FS",
        "colab_type": "text"
      },
      "source": [
        "La tarea de esta semana consiste en preprocesar el dataset del Titanic, puede consultar la imagen \"Diccionario de datos\" para mayor detalle sobre los atributos utilizados"
      ]
    },
    {
      "cell_type": "code",
      "metadata": {
        "id": "IuhVezvgmNOq",
        "colab_type": "code",
        "colab": {}
      },
      "source": [
        "import pandas as pd\n",
        "import numpy as np"
      ],
      "execution_count": 0,
      "outputs": []
    },
    {
      "cell_type": "markdown",
      "metadata": {
        "id": "JufDDgZ-mo90",
        "colab_type": "text"
      },
      "source": [
        "###1. Importar el archivo \"titanic-data.csv\" con la librería pandas y mostrar los 5 primeros datos"
      ]
    },
    {
      "cell_type": "code",
      "metadata": {
        "id": "iGGRlmVYmnlE",
        "colab_type": "code",
        "outputId": "ff5887fb-d8cf-4a9a-b81b-1fac3796a66f",
        "colab": {
          "base_uri": "https://localhost:8080/",
          "height": 310
        }
      },
      "source": [
        "data = pd.read_csv(\"titanic-data.csv\")\n",
        "data.head()"
      ],
      "execution_count": 259,
      "outputs": [
        {
          "output_type": "execute_result",
          "data": {
            "text/html": [
              "<div>\n",
              "<style scoped>\n",
              "    .dataframe tbody tr th:only-of-type {\n",
              "        vertical-align: middle;\n",
              "    }\n",
              "\n",
              "    .dataframe tbody tr th {\n",
              "        vertical-align: top;\n",
              "    }\n",
              "\n",
              "    .dataframe thead th {\n",
              "        text-align: right;\n",
              "    }\n",
              "</style>\n",
              "<table border=\"1\" class=\"dataframe\">\n",
              "  <thead>\n",
              "    <tr style=\"text-align: right;\">\n",
              "      <th></th>\n",
              "      <th>PassengerId</th>\n",
              "      <th>Survived</th>\n",
              "      <th>Pclass</th>\n",
              "      <th>Name</th>\n",
              "      <th>Sex</th>\n",
              "      <th>Age</th>\n",
              "      <th>SibSp</th>\n",
              "      <th>Parch</th>\n",
              "      <th>Ticket</th>\n",
              "      <th>Fare</th>\n",
              "      <th>Cabin</th>\n",
              "      <th>Embarked</th>\n",
              "    </tr>\n",
              "  </thead>\n",
              "  <tbody>\n",
              "    <tr>\n",
              "      <th>0</th>\n",
              "      <td>1</td>\n",
              "      <td>0</td>\n",
              "      <td>3</td>\n",
              "      <td>Braund, Mr. Owen Harris</td>\n",
              "      <td>male</td>\n",
              "      <td>22.0</td>\n",
              "      <td>1</td>\n",
              "      <td>0</td>\n",
              "      <td>A/5 21171</td>\n",
              "      <td>7.2500</td>\n",
              "      <td>NaN</td>\n",
              "      <td>S</td>\n",
              "    </tr>\n",
              "    <tr>\n",
              "      <th>1</th>\n",
              "      <td>2</td>\n",
              "      <td>1</td>\n",
              "      <td>1</td>\n",
              "      <td>Cumings, Mrs. John Bradley (Florence Briggs Th...</td>\n",
              "      <td>female</td>\n",
              "      <td>38.0</td>\n",
              "      <td>1</td>\n",
              "      <td>0</td>\n",
              "      <td>PC 17599</td>\n",
              "      <td>71.2833</td>\n",
              "      <td>C85</td>\n",
              "      <td>C</td>\n",
              "    </tr>\n",
              "    <tr>\n",
              "      <th>2</th>\n",
              "      <td>3</td>\n",
              "      <td>1</td>\n",
              "      <td>3</td>\n",
              "      <td>Heikkinen, Miss. Laina</td>\n",
              "      <td>female</td>\n",
              "      <td>26.0</td>\n",
              "      <td>0</td>\n",
              "      <td>0</td>\n",
              "      <td>STON/O2. 3101282</td>\n",
              "      <td>7.9250</td>\n",
              "      <td>NaN</td>\n",
              "      <td>S</td>\n",
              "    </tr>\n",
              "    <tr>\n",
              "      <th>3</th>\n",
              "      <td>4</td>\n",
              "      <td>1</td>\n",
              "      <td>1</td>\n",
              "      <td>Futrelle, Mrs. Jacques Heath (Lily May Peel)</td>\n",
              "      <td>female</td>\n",
              "      <td>35.0</td>\n",
              "      <td>1</td>\n",
              "      <td>0</td>\n",
              "      <td>113803</td>\n",
              "      <td>53.1000</td>\n",
              "      <td>C123</td>\n",
              "      <td>S</td>\n",
              "    </tr>\n",
              "    <tr>\n",
              "      <th>4</th>\n",
              "      <td>5</td>\n",
              "      <td>0</td>\n",
              "      <td>3</td>\n",
              "      <td>Allen, Mr. William Henry</td>\n",
              "      <td>male</td>\n",
              "      <td>35.0</td>\n",
              "      <td>0</td>\n",
              "      <td>0</td>\n",
              "      <td>373450</td>\n",
              "      <td>8.0500</td>\n",
              "      <td>NaN</td>\n",
              "      <td>S</td>\n",
              "    </tr>\n",
              "  </tbody>\n",
              "</table>\n",
              "</div>"
            ],
            "text/plain": [
              "   PassengerId  Survived  Pclass  ...     Fare Cabin  Embarked\n",
              "0            1         0       3  ...   7.2500   NaN         S\n",
              "1            2         1       1  ...  71.2833   C85         C\n",
              "2            3         1       3  ...   7.9250   NaN         S\n",
              "3            4         1       1  ...  53.1000  C123         S\n",
              "4            5         0       3  ...   8.0500   NaN         S\n",
              "\n",
              "[5 rows x 12 columns]"
            ]
          },
          "metadata": {
            "tags": []
          },
          "execution_count": 259
        }
      ]
    },
    {
      "cell_type": "markdown",
      "metadata": {
        "id": "JRdefKB-uEgA",
        "colab_type": "text"
      },
      "source": [
        "###2. Revise cuantos datos faltantes existen en el dataset"
      ]
    },
    {
      "cell_type": "code",
      "metadata": {
        "id": "Z_1CvV8guP7p",
        "colab_type": "code",
        "outputId": "4afb1e85-951c-40e4-c054-dea9cd746ba2",
        "colab": {
          "base_uri": "https://localhost:8080/",
          "height": 256
        }
      },
      "source": [
        "#Funcion .isnull( )\n",
        "data.isnull().sum()"
      ],
      "execution_count": 260,
      "outputs": [
        {
          "output_type": "execute_result",
          "data": {
            "text/plain": [
              "PassengerId      0\n",
              "Survived         0\n",
              "Pclass           0\n",
              "Name             0\n",
              "Sex              0\n",
              "Age            177\n",
              "SibSp            0\n",
              "Parch            0\n",
              "Ticket           0\n",
              "Fare             0\n",
              "Cabin          687\n",
              "Embarked         2\n",
              "dtype: int64"
            ]
          },
          "metadata": {
            "tags": []
          },
          "execution_count": 260
        }
      ]
    },
    {
      "cell_type": "markdown",
      "metadata": {
        "id": "wbOWEXR9vzkN",
        "colab_type": "text"
      },
      "source": [
        "###3. Completando las edades faltantes:"
      ]
    },
    {
      "cell_type": "markdown",
      "metadata": {
        "id": "eBdt6AQ9wQFA",
        "colab_type": "text"
      },
      "source": [
        "####3a. Los datos de la columna \"Age\" que no contienen datos los completaremos con -0.5"
      ]
    },
    {
      "cell_type": "code",
      "metadata": {
        "id": "lMUv1s_Nwh1H",
        "colab_type": "code",
        "colab": {}
      },
      "source": [
        "#Funcion .fillna( )\n",
        "data['Age'] = data['Age'].fillna(-0.5)"
      ],
      "execution_count": 0,
      "outputs": []
    },
    {
      "cell_type": "markdown",
      "metadata": {
        "id": "NFl_H8jDw7Pf",
        "colab_type": "text"
      },
      "source": [
        "####3b. Clasificaremos las edades en los siguientes intervalos:\n",
        "\n"
      ]
    },
    {
      "cell_type": "markdown",
      "metadata": {
        "id": "gEHMDSGAyVBo",
        "colab_type": "text"
      },
      "source": [
        "Unknown: -1 - 0\n",
        "\n",
        "Baby: 0 - 5\n",
        "\n",
        "Child: 5 - 12\n",
        "\n",
        "Teenager: 12 - 18\n",
        "\n",
        "Student: 18 - 25\n",
        "\n",
        "Young Adult: 25 - 35\n",
        "\n",
        "Adult: 35 - 60\n",
        "\n",
        "Senior: 60 - 120"
      ]
    },
    {
      "cell_type": "code",
      "metadata": {
        "id": "F6sI3uqyyYBx",
        "colab_type": "code",
        "colab": {}
      },
      "source": [
        "bins = (-1, 0, 5, 12, 18, 25, 35, 60, 120)\n",
        "group_names = ['Unknown', 'Baby', 'Child', 'Teenager', 'Student', 'Young Adult', 'Adult', 'Senior']\n",
        "categories = pd.cut(data['Age'], bins, labels=group_names)\n",
        "data['Edad'] = categories"
      ],
      "execution_count": 0,
      "outputs": []
    },
    {
      "cell_type": "markdown",
      "metadata": {
        "id": "hvXLOkXvzB76",
        "colab_type": "text"
      },
      "source": [
        "####3c. Eliminamos la columna \"Age\", los datos ya no son necesarios"
      ]
    },
    {
      "cell_type": "code",
      "metadata": {
        "id": "uMB1GsWjzKAS",
        "colab_type": "code",
        "colab": {}
      },
      "source": [
        "del data['Age']"
      ],
      "execution_count": 0,
      "outputs": []
    },
    {
      "cell_type": "markdown",
      "metadata": {
        "id": "nlHf0jzxzR0X",
        "colab_type": "text"
      },
      "source": [
        "###4. Simplificando las tarifas (Fare):"
      ]
    },
    {
      "cell_type": "markdown",
      "metadata": {
        "id": "Ny5XqmiAza-e",
        "colab_type": "text"
      },
      "source": [
        "####4a. Al no contar con una clasificación determinada para la columna \"Fare\", utilizaremos los intervalos que nos proporciona los cuartiles. ¿Cúales son esos intervalos?"
      ]
    },
    {
      "cell_type": "code",
      "metadata": {
        "id": "0UI7S8dhznZY",
        "colab_type": "code",
        "outputId": "258debc5-e8df-4e00-c42a-4a22c8407dd6",
        "colab": {
          "base_uri": "https://localhost:8080/",
          "height": 182
        }
      },
      "source": [
        "data['Fare'].describe()"
      ],
      "execution_count": 264,
      "outputs": [
        {
          "output_type": "execute_result",
          "data": {
            "text/plain": [
              "count    891.000000\n",
              "mean      32.204208\n",
              "std       49.693429\n",
              "min        0.000000\n",
              "25%        7.910400\n",
              "50%       14.454200\n",
              "75%       31.000000\n",
              "max      512.329200\n",
              "Name: Fare, dtype: float64"
            ]
          },
          "metadata": {
            "tags": []
          },
          "execution_count": 264
        }
      ]
    },
    {
      "cell_type": "markdown",
      "metadata": {
        "id": "FQpBPGlt1gZN",
        "colab_type": "text"
      },
      "source": [
        "####4b. Ahora que tenemos los intervalos, clasificaremos la data \"Fare\", utilice nombres a su criterio"
      ]
    },
    {
      "cell_type": "code",
      "metadata": {
        "id": "WcStdy9211Vs",
        "colab_type": "code",
        "colab": {}
      },
      "source": [
        "bins = (0, 8, 15, 31, 513)\n",
        "group_names = ['1_quartile', '2_quartile', '3_quartile', '4_quartile']\n",
        "categories = pd.cut(data['Fare'], bins, labels=group_names,include_lowest=True)\n",
        "data['Tarifa'] = categories"
      ],
      "execution_count": 0,
      "outputs": []
    },
    {
      "cell_type": "markdown",
      "metadata": {
        "id": "FRgY4brd2Brm",
        "colab_type": "text"
      },
      "source": [
        "####4c. La columna \"Fare\" ya no es necesaria"
      ]
    },
    {
      "cell_type": "code",
      "metadata": {
        "id": "6yNXyVds2NK8",
        "colab_type": "code",
        "colab": {}
      },
      "source": [
        "del data['Fare']"
      ],
      "execution_count": 0,
      "outputs": []
    },
    {
      "cell_type": "markdown",
      "metadata": {
        "id": "J8Efr8_72Xh1",
        "colab_type": "text"
      },
      "source": [
        "###5. Dando formato a \"Name\""
      ]
    },
    {
      "cell_type": "markdown",
      "metadata": {
        "id": "Eqmz3n6u7w6Z",
        "colab_type": "text"
      },
      "source": [
        "####5a. En la columna \"Name\" solo es necesario el apellido y el prefijo que acompaña el nombre (Mr.)"
      ]
    },
    {
      "cell_type": "markdown",
      "metadata": {
        "id": "Hf_HHWGD8Enw",
        "colab_type": "text"
      },
      "source": [
        "Ejecutaremos el siguiente código para crear nuevas columnas con esa información:"
      ]
    },
    {
      "cell_type": "code",
      "metadata": {
        "id": "IySq9ujD8Lo_",
        "colab_type": "code",
        "colab": {}
      },
      "source": [
        "#Reemplazar \"data\" por el nombre de su dataset\n",
        "apellido = data['Name'].apply(lambda x: x.split(',')[0])\n",
        "data['Lname'] = apellido"
      ],
      "execution_count": 0,
      "outputs": []
    },
    {
      "cell_type": "markdown",
      "metadata": {
        "id": "6DCfeOLI8gk7",
        "colab_type": "text"
      },
      "source": [
        ".apply( ) -> Función de Pandas que ejecuta una función por cada elemento, en este caso por cada elemento de la columna \"Name\"\n",
        "\n",
        "lambda -> Crea una función de una línea con la variable x\n",
        "\n",
        "x.split('  ') -> Corta un texto con el caracter entre paréntesis\n",
        "\n",
        "Ejecutando el código en una linea:\n",
        "\n",
        "[Braund,  Mr. Owen Harris]\n",
        "\n",
        "Se crea una lista, se selecciona lo que queremos en este caso el apellido se encuentra en la primera posición, por ese motivo colocamos [0]"
      ]
    },
    {
      "cell_type": "code",
      "metadata": {
        "id": "A8YvMWeIButq",
        "colab_type": "code",
        "colab": {}
      },
      "source": [
        "nombre = data['Name'].apply(lambda x: x.split(',')[1])\n",
        "titulo = nombre.apply(lambda x: x.split('.')[0])\n",
        "data['NamePrefix'] = titulo"
      ],
      "execution_count": 0,
      "outputs": []
    },
    {
      "cell_type": "code",
      "metadata": {
        "id": "8QkRhTPXCELO",
        "colab_type": "code",
        "outputId": "91636ea8-e08b-49d9-f30a-889b277e4d25",
        "colab": {
          "base_uri": "https://localhost:8080/",
          "height": 348
        }
      },
      "source": [
        "data['NamePrefix'].value_counts()"
      ],
      "execution_count": 269,
      "outputs": [
        {
          "output_type": "execute_result",
          "data": {
            "text/plain": [
              " Mr              517\n",
              " Miss            182\n",
              " Mrs             125\n",
              " Master           40\n",
              " Dr                7\n",
              " Rev               6\n",
              " Col               2\n",
              " Mlle              2\n",
              " Major             2\n",
              " Capt              1\n",
              " Don               1\n",
              " Lady              1\n",
              " Sir               1\n",
              " Jonkheer          1\n",
              " the Countess      1\n",
              " Ms                1\n",
              " Mme               1\n",
              "Name: NamePrefix, dtype: int64"
            ]
          },
          "metadata": {
            "tags": []
          },
          "execution_count": 269
        }
      ]
    },
    {
      "cell_type": "markdown",
      "metadata": {
        "id": "bcJe63eW-CE_",
        "colab_type": "text"
      },
      "source": [
        "####5b. La columna \"Name\" ya no es necesaria"
      ]
    },
    {
      "cell_type": "code",
      "metadata": {
        "id": "pTMaufvp-Bdz",
        "colab_type": "code",
        "colab": {}
      },
      "source": [
        "del data['Name']"
      ],
      "execution_count": 0,
      "outputs": []
    },
    {
      "cell_type": "markdown",
      "metadata": {
        "id": "S1TpD6gz-Y-4",
        "colab_type": "text"
      },
      "source": [
        "###6. Completando datos faltantes en \"Embarked\""
      ]
    },
    {
      "cell_type": "markdown",
      "metadata": {
        "id": "264a6m4c-d_J",
        "colab_type": "text"
      },
      "source": [
        "Como hemos visto al comienzo del cuaderno, son 2 los datos faltantes en la columna \"Embarked\", como son letras no podemos llenarlo con la media, para eso completaremos estos datos con la letra que tenga mayor número de datos"
      ]
    },
    {
      "cell_type": "markdown",
      "metadata": {
        "id": "wF9uypf3DJDp",
        "colab_type": "text"
      },
      "source": [
        "####6a. Halle la letra que tiene más valores en la columna \"Embarked\""
      ]
    },
    {
      "cell_type": "code",
      "metadata": {
        "id": "WDftnlJNC9U4",
        "colab_type": "code",
        "outputId": "c75da983-588a-433b-c2db-24b7981b6470",
        "colab": {
          "base_uri": "https://localhost:8080/",
          "height": 90
        }
      },
      "source": [
        "data['Embarked'].value_counts()"
      ],
      "execution_count": 271,
      "outputs": [
        {
          "output_type": "execute_result",
          "data": {
            "text/plain": [
              "S    644\n",
              "C    168\n",
              "Q     77\n",
              "Name: Embarked, dtype: int64"
            ]
          },
          "metadata": {
            "tags": []
          },
          "execution_count": 271
        }
      ]
    },
    {
      "cell_type": "markdown",
      "metadata": {
        "id": "OOKZi6tRDP_M",
        "colab_type": "text"
      },
      "source": [
        "####6b. Complete los datos faltantes con la letra hallada en la pregunta anterior"
      ]
    },
    {
      "cell_type": "code",
      "metadata": {
        "id": "VkaAbZzfDQNA",
        "colab_type": "code",
        "colab": {}
      },
      "source": [
        "data['Embarked'] = data['Embarked'].fillna('S')"
      ],
      "execution_count": 0,
      "outputs": []
    },
    {
      "cell_type": "markdown",
      "metadata": {
        "id": "3zsMAsESqbNm",
        "colab_type": "text"
      },
      "source": [
        "###7. ¿Deberian considerarse todos los campos del dataset para analizar la información posteriormente? Justifique"
      ]
    },
    {
      "cell_type": "markdown",
      "metadata": {
        "id": "Y2yLPBwpu2p2",
        "colab_type": "text"
      },
      "source": [
        ""
      ]
    },
    {
      "cell_type": "markdown",
      "metadata": {
        "id": "svhRO36Cu3Yb",
        "colab_type": "text"
      },
      "source": [
        "####8. Según lo respondido en la pregunta anterior: Elimine las columnas de los datos que no serán relevantes para nuestro análisis"
      ]
    },
    {
      "cell_type": "code",
      "metadata": {
        "id": "fZdKJFPXvADE",
        "colab_type": "code",
        "outputId": "585b25a2-c48e-4910-b9a7-5eddbac53362",
        "colab": {
          "base_uri": "https://localhost:8080/",
          "height": 278
        }
      },
      "source": [
        "data.head()"
      ],
      "execution_count": 273,
      "outputs": [
        {
          "output_type": "execute_result",
          "data": {
            "text/html": [
              "<div>\n",
              "<style scoped>\n",
              "    .dataframe tbody tr th:only-of-type {\n",
              "        vertical-align: middle;\n",
              "    }\n",
              "\n",
              "    .dataframe tbody tr th {\n",
              "        vertical-align: top;\n",
              "    }\n",
              "\n",
              "    .dataframe thead th {\n",
              "        text-align: right;\n",
              "    }\n",
              "</style>\n",
              "<table border=\"1\" class=\"dataframe\">\n",
              "  <thead>\n",
              "    <tr style=\"text-align: right;\">\n",
              "      <th></th>\n",
              "      <th>PassengerId</th>\n",
              "      <th>Survived</th>\n",
              "      <th>Pclass</th>\n",
              "      <th>Sex</th>\n",
              "      <th>SibSp</th>\n",
              "      <th>Parch</th>\n",
              "      <th>Ticket</th>\n",
              "      <th>Cabin</th>\n",
              "      <th>Embarked</th>\n",
              "      <th>Edad</th>\n",
              "      <th>Tarifa</th>\n",
              "      <th>Lname</th>\n",
              "      <th>NamePrefix</th>\n",
              "    </tr>\n",
              "  </thead>\n",
              "  <tbody>\n",
              "    <tr>\n",
              "      <th>0</th>\n",
              "      <td>1</td>\n",
              "      <td>0</td>\n",
              "      <td>3</td>\n",
              "      <td>male</td>\n",
              "      <td>1</td>\n",
              "      <td>0</td>\n",
              "      <td>A/5 21171</td>\n",
              "      <td>NaN</td>\n",
              "      <td>S</td>\n",
              "      <td>Student</td>\n",
              "      <td>1_quartile</td>\n",
              "      <td>Braund</td>\n",
              "      <td>Mr</td>\n",
              "    </tr>\n",
              "    <tr>\n",
              "      <th>1</th>\n",
              "      <td>2</td>\n",
              "      <td>1</td>\n",
              "      <td>1</td>\n",
              "      <td>female</td>\n",
              "      <td>1</td>\n",
              "      <td>0</td>\n",
              "      <td>PC 17599</td>\n",
              "      <td>C85</td>\n",
              "      <td>C</td>\n",
              "      <td>Adult</td>\n",
              "      <td>4_quartile</td>\n",
              "      <td>Cumings</td>\n",
              "      <td>Mrs</td>\n",
              "    </tr>\n",
              "    <tr>\n",
              "      <th>2</th>\n",
              "      <td>3</td>\n",
              "      <td>1</td>\n",
              "      <td>3</td>\n",
              "      <td>female</td>\n",
              "      <td>0</td>\n",
              "      <td>0</td>\n",
              "      <td>STON/O2. 3101282</td>\n",
              "      <td>NaN</td>\n",
              "      <td>S</td>\n",
              "      <td>Young Adult</td>\n",
              "      <td>1_quartile</td>\n",
              "      <td>Heikkinen</td>\n",
              "      <td>Miss</td>\n",
              "    </tr>\n",
              "    <tr>\n",
              "      <th>3</th>\n",
              "      <td>4</td>\n",
              "      <td>1</td>\n",
              "      <td>1</td>\n",
              "      <td>female</td>\n",
              "      <td>1</td>\n",
              "      <td>0</td>\n",
              "      <td>113803</td>\n",
              "      <td>C123</td>\n",
              "      <td>S</td>\n",
              "      <td>Young Adult</td>\n",
              "      <td>4_quartile</td>\n",
              "      <td>Futrelle</td>\n",
              "      <td>Mrs</td>\n",
              "    </tr>\n",
              "    <tr>\n",
              "      <th>4</th>\n",
              "      <td>5</td>\n",
              "      <td>0</td>\n",
              "      <td>3</td>\n",
              "      <td>male</td>\n",
              "      <td>0</td>\n",
              "      <td>0</td>\n",
              "      <td>373450</td>\n",
              "      <td>NaN</td>\n",
              "      <td>S</td>\n",
              "      <td>Young Adult</td>\n",
              "      <td>2_quartile</td>\n",
              "      <td>Allen</td>\n",
              "      <td>Mr</td>\n",
              "    </tr>\n",
              "  </tbody>\n",
              "</table>\n",
              "</div>"
            ],
            "text/plain": [
              "   PassengerId  Survived  Pclass  ...      Tarifa      Lname  NamePrefix\n",
              "0            1         0       3  ...  1_quartile     Braund          Mr\n",
              "1            2         1       1  ...  4_quartile    Cumings         Mrs\n",
              "2            3         1       3  ...  1_quartile  Heikkinen        Miss\n",
              "3            4         1       1  ...  4_quartile   Futrelle         Mrs\n",
              "4            5         0       3  ...  2_quartile      Allen          Mr\n",
              "\n",
              "[5 rows x 13 columns]"
            ]
          },
          "metadata": {
            "tags": []
          },
          "execution_count": 273
        }
      ]
    },
    {
      "cell_type": "code",
      "metadata": {
        "id": "3U5Fzr-PKbbD",
        "colab_type": "code",
        "colab": {}
      },
      "source": [
        "del data['PassengerId']\n",
        "del data['Ticket']\n",
        "del data['Cabin']"
      ],
      "execution_count": 0,
      "outputs": []
    },
    {
      "cell_type": "code",
      "metadata": {
        "id": "EZfYcMQ66Xtm",
        "colab_type": "code",
        "colab": {
          "base_uri": "https://localhost:8080/",
          "height": 206
        },
        "outputId": "4f2e91d8-cc96-461c-f3ad-f8a42ec7184b"
      },
      "source": [
        "data.head()"
      ],
      "execution_count": 275,
      "outputs": [
        {
          "output_type": "execute_result",
          "data": {
            "text/html": [
              "<div>\n",
              "<style scoped>\n",
              "    .dataframe tbody tr th:only-of-type {\n",
              "        vertical-align: middle;\n",
              "    }\n",
              "\n",
              "    .dataframe tbody tr th {\n",
              "        vertical-align: top;\n",
              "    }\n",
              "\n",
              "    .dataframe thead th {\n",
              "        text-align: right;\n",
              "    }\n",
              "</style>\n",
              "<table border=\"1\" class=\"dataframe\">\n",
              "  <thead>\n",
              "    <tr style=\"text-align: right;\">\n",
              "      <th></th>\n",
              "      <th>Survived</th>\n",
              "      <th>Pclass</th>\n",
              "      <th>Sex</th>\n",
              "      <th>SibSp</th>\n",
              "      <th>Parch</th>\n",
              "      <th>Embarked</th>\n",
              "      <th>Edad</th>\n",
              "      <th>Tarifa</th>\n",
              "      <th>Lname</th>\n",
              "      <th>NamePrefix</th>\n",
              "    </tr>\n",
              "  </thead>\n",
              "  <tbody>\n",
              "    <tr>\n",
              "      <th>0</th>\n",
              "      <td>0</td>\n",
              "      <td>3</td>\n",
              "      <td>male</td>\n",
              "      <td>1</td>\n",
              "      <td>0</td>\n",
              "      <td>S</td>\n",
              "      <td>Student</td>\n",
              "      <td>1_quartile</td>\n",
              "      <td>Braund</td>\n",
              "      <td>Mr</td>\n",
              "    </tr>\n",
              "    <tr>\n",
              "      <th>1</th>\n",
              "      <td>1</td>\n",
              "      <td>1</td>\n",
              "      <td>female</td>\n",
              "      <td>1</td>\n",
              "      <td>0</td>\n",
              "      <td>C</td>\n",
              "      <td>Adult</td>\n",
              "      <td>4_quartile</td>\n",
              "      <td>Cumings</td>\n",
              "      <td>Mrs</td>\n",
              "    </tr>\n",
              "    <tr>\n",
              "      <th>2</th>\n",
              "      <td>1</td>\n",
              "      <td>3</td>\n",
              "      <td>female</td>\n",
              "      <td>0</td>\n",
              "      <td>0</td>\n",
              "      <td>S</td>\n",
              "      <td>Young Adult</td>\n",
              "      <td>1_quartile</td>\n",
              "      <td>Heikkinen</td>\n",
              "      <td>Miss</td>\n",
              "    </tr>\n",
              "    <tr>\n",
              "      <th>3</th>\n",
              "      <td>1</td>\n",
              "      <td>1</td>\n",
              "      <td>female</td>\n",
              "      <td>1</td>\n",
              "      <td>0</td>\n",
              "      <td>S</td>\n",
              "      <td>Young Adult</td>\n",
              "      <td>4_quartile</td>\n",
              "      <td>Futrelle</td>\n",
              "      <td>Mrs</td>\n",
              "    </tr>\n",
              "    <tr>\n",
              "      <th>4</th>\n",
              "      <td>0</td>\n",
              "      <td>3</td>\n",
              "      <td>male</td>\n",
              "      <td>0</td>\n",
              "      <td>0</td>\n",
              "      <td>S</td>\n",
              "      <td>Young Adult</td>\n",
              "      <td>2_quartile</td>\n",
              "      <td>Allen</td>\n",
              "      <td>Mr</td>\n",
              "    </tr>\n",
              "  </tbody>\n",
              "</table>\n",
              "</div>"
            ],
            "text/plain": [
              "   Survived  Pclass     Sex  ...      Tarifa      Lname NamePrefix\n",
              "0         0       3    male  ...  1_quartile     Braund         Mr\n",
              "1         1       1  female  ...  4_quartile    Cumings        Mrs\n",
              "2         1       3  female  ...  1_quartile  Heikkinen       Miss\n",
              "3         1       1  female  ...  4_quartile   Futrelle        Mrs\n",
              "4         0       3    male  ...  2_quartile      Allen         Mr\n",
              "\n",
              "[5 rows x 10 columns]"
            ]
          },
          "metadata": {
            "tags": []
          },
          "execution_count": 275
        }
      ]
    },
    {
      "cell_type": "markdown",
      "metadata": {
        "id": "i0irKYXuGjT7",
        "colab_type": "text"
      },
      "source": [
        "**Con esto nuestra data estaría limpia y lista para el análisis**"
      ]
    },
    {
      "cell_type": "markdown",
      "metadata": {
        "id": "lHk0konc6r6M",
        "colab_type": "text"
      },
      "source": [
        "#Label Encoding"
      ]
    },
    {
      "cell_type": "markdown",
      "metadata": {
        "id": "qn79sboD7Rbt",
        "colab_type": "text"
      },
      "source": [
        "Codifica las etiquetas de destino con un valor entre 0 y n_classes-1."
      ]
    },
    {
      "cell_type": "markdown",
      "metadata": {
        "id": "CQ0p2KS37y2Z",
        "colab_type": "text"
      },
      "source": [
        "###Mapear 'Sex'"
      ]
    },
    {
      "cell_type": "code",
      "metadata": {
        "id": "xImDv5gV65jW",
        "colab_type": "code",
        "colab": {}
      },
      "source": [
        "from sklearn import preprocessing"
      ],
      "execution_count": 0,
      "outputs": []
    },
    {
      "cell_type": "code",
      "metadata": {
        "id": "yJpfr-HN1Gwc",
        "colab_type": "code",
        "colab": {}
      },
      "source": [
        "le = preprocessing.LabelEncoder() \n",
        "le = le.fit(data['Sex'])\n",
        "data['Sex'] = le.transform(data['Sex'])"
      ],
      "execution_count": 0,
      "outputs": []
    },
    {
      "cell_type": "code",
      "metadata": {
        "id": "pbyOo8_c4mQb",
        "colab_type": "code",
        "colab": {
          "base_uri": "https://localhost:8080/",
          "height": 72
        },
        "outputId": "9c815f38-cc7b-484c-a96e-4e88ea936837"
      },
      "source": [
        "data['Sex'].value_counts()"
      ],
      "execution_count": 278,
      "outputs": [
        {
          "output_type": "execute_result",
          "data": {
            "text/plain": [
              "1    577\n",
              "0    314\n",
              "Name: Sex, dtype: int64"
            ]
          },
          "metadata": {
            "tags": []
          },
          "execution_count": 278
        }
      ]
    },
    {
      "cell_type": "code",
      "metadata": {
        "id": "jGK9ncyf7H-V",
        "colab_type": "code",
        "colab": {
          "base_uri": "https://localhost:8080/",
          "height": 206
        },
        "outputId": "c2b1c4b6-db5a-4725-ad24-d8219d2010a7"
      },
      "source": [
        "data.head()"
      ],
      "execution_count": 279,
      "outputs": [
        {
          "output_type": "execute_result",
          "data": {
            "text/html": [
              "<div>\n",
              "<style scoped>\n",
              "    .dataframe tbody tr th:only-of-type {\n",
              "        vertical-align: middle;\n",
              "    }\n",
              "\n",
              "    .dataframe tbody tr th {\n",
              "        vertical-align: top;\n",
              "    }\n",
              "\n",
              "    .dataframe thead th {\n",
              "        text-align: right;\n",
              "    }\n",
              "</style>\n",
              "<table border=\"1\" class=\"dataframe\">\n",
              "  <thead>\n",
              "    <tr style=\"text-align: right;\">\n",
              "      <th></th>\n",
              "      <th>Survived</th>\n",
              "      <th>Pclass</th>\n",
              "      <th>Sex</th>\n",
              "      <th>SibSp</th>\n",
              "      <th>Parch</th>\n",
              "      <th>Embarked</th>\n",
              "      <th>Edad</th>\n",
              "      <th>Tarifa</th>\n",
              "      <th>Lname</th>\n",
              "      <th>NamePrefix</th>\n",
              "    </tr>\n",
              "  </thead>\n",
              "  <tbody>\n",
              "    <tr>\n",
              "      <th>0</th>\n",
              "      <td>0</td>\n",
              "      <td>3</td>\n",
              "      <td>1</td>\n",
              "      <td>1</td>\n",
              "      <td>0</td>\n",
              "      <td>S</td>\n",
              "      <td>Student</td>\n",
              "      <td>1_quartile</td>\n",
              "      <td>Braund</td>\n",
              "      <td>Mr</td>\n",
              "    </tr>\n",
              "    <tr>\n",
              "      <th>1</th>\n",
              "      <td>1</td>\n",
              "      <td>1</td>\n",
              "      <td>0</td>\n",
              "      <td>1</td>\n",
              "      <td>0</td>\n",
              "      <td>C</td>\n",
              "      <td>Adult</td>\n",
              "      <td>4_quartile</td>\n",
              "      <td>Cumings</td>\n",
              "      <td>Mrs</td>\n",
              "    </tr>\n",
              "    <tr>\n",
              "      <th>2</th>\n",
              "      <td>1</td>\n",
              "      <td>3</td>\n",
              "      <td>0</td>\n",
              "      <td>0</td>\n",
              "      <td>0</td>\n",
              "      <td>S</td>\n",
              "      <td>Young Adult</td>\n",
              "      <td>1_quartile</td>\n",
              "      <td>Heikkinen</td>\n",
              "      <td>Miss</td>\n",
              "    </tr>\n",
              "    <tr>\n",
              "      <th>3</th>\n",
              "      <td>1</td>\n",
              "      <td>1</td>\n",
              "      <td>0</td>\n",
              "      <td>1</td>\n",
              "      <td>0</td>\n",
              "      <td>S</td>\n",
              "      <td>Young Adult</td>\n",
              "      <td>4_quartile</td>\n",
              "      <td>Futrelle</td>\n",
              "      <td>Mrs</td>\n",
              "    </tr>\n",
              "    <tr>\n",
              "      <th>4</th>\n",
              "      <td>0</td>\n",
              "      <td>3</td>\n",
              "      <td>1</td>\n",
              "      <td>0</td>\n",
              "      <td>0</td>\n",
              "      <td>S</td>\n",
              "      <td>Young Adult</td>\n",
              "      <td>2_quartile</td>\n",
              "      <td>Allen</td>\n",
              "      <td>Mr</td>\n",
              "    </tr>\n",
              "  </tbody>\n",
              "</table>\n",
              "</div>"
            ],
            "text/plain": [
              "   Survived  Pclass  Sex  SibSp  ...         Edad      Tarifa      Lname NamePrefix\n",
              "0         0       3    1      1  ...      Student  1_quartile     Braund         Mr\n",
              "1         1       1    0      1  ...        Adult  4_quartile    Cumings        Mrs\n",
              "2         1       3    0      0  ...  Young Adult  1_quartile  Heikkinen       Miss\n",
              "3         1       1    0      1  ...  Young Adult  4_quartile   Futrelle        Mrs\n",
              "4         0       3    1      0  ...  Young Adult  2_quartile      Allen         Mr\n",
              "\n",
              "[5 rows x 10 columns]"
            ]
          },
          "metadata": {
            "tags": []
          },
          "execution_count": 279
        }
      ]
    },
    {
      "cell_type": "markdown",
      "metadata": {
        "id": "hgu-a68O7OJm",
        "colab_type": "text"
      },
      "source": [
        "###Invertir Transformación"
      ]
    },
    {
      "cell_type": "code",
      "metadata": {
        "id": "rO7G5FlZ7eMe",
        "colab_type": "code",
        "colab": {}
      },
      "source": [
        "data['Sex'] = le.inverse_transform(data['Sex'])"
      ],
      "execution_count": 0,
      "outputs": []
    },
    {
      "cell_type": "code",
      "metadata": {
        "id": "Ilae-9PJ7i8j",
        "colab_type": "code",
        "colab": {
          "base_uri": "https://localhost:8080/",
          "height": 206
        },
        "outputId": "6eecd3c6-dbba-46ee-d892-094a3151f1da"
      },
      "source": [
        "data.head()"
      ],
      "execution_count": 281,
      "outputs": [
        {
          "output_type": "execute_result",
          "data": {
            "text/html": [
              "<div>\n",
              "<style scoped>\n",
              "    .dataframe tbody tr th:only-of-type {\n",
              "        vertical-align: middle;\n",
              "    }\n",
              "\n",
              "    .dataframe tbody tr th {\n",
              "        vertical-align: top;\n",
              "    }\n",
              "\n",
              "    .dataframe thead th {\n",
              "        text-align: right;\n",
              "    }\n",
              "</style>\n",
              "<table border=\"1\" class=\"dataframe\">\n",
              "  <thead>\n",
              "    <tr style=\"text-align: right;\">\n",
              "      <th></th>\n",
              "      <th>Survived</th>\n",
              "      <th>Pclass</th>\n",
              "      <th>Sex</th>\n",
              "      <th>SibSp</th>\n",
              "      <th>Parch</th>\n",
              "      <th>Embarked</th>\n",
              "      <th>Edad</th>\n",
              "      <th>Tarifa</th>\n",
              "      <th>Lname</th>\n",
              "      <th>NamePrefix</th>\n",
              "    </tr>\n",
              "  </thead>\n",
              "  <tbody>\n",
              "    <tr>\n",
              "      <th>0</th>\n",
              "      <td>0</td>\n",
              "      <td>3</td>\n",
              "      <td>male</td>\n",
              "      <td>1</td>\n",
              "      <td>0</td>\n",
              "      <td>S</td>\n",
              "      <td>Student</td>\n",
              "      <td>1_quartile</td>\n",
              "      <td>Braund</td>\n",
              "      <td>Mr</td>\n",
              "    </tr>\n",
              "    <tr>\n",
              "      <th>1</th>\n",
              "      <td>1</td>\n",
              "      <td>1</td>\n",
              "      <td>female</td>\n",
              "      <td>1</td>\n",
              "      <td>0</td>\n",
              "      <td>C</td>\n",
              "      <td>Adult</td>\n",
              "      <td>4_quartile</td>\n",
              "      <td>Cumings</td>\n",
              "      <td>Mrs</td>\n",
              "    </tr>\n",
              "    <tr>\n",
              "      <th>2</th>\n",
              "      <td>1</td>\n",
              "      <td>3</td>\n",
              "      <td>female</td>\n",
              "      <td>0</td>\n",
              "      <td>0</td>\n",
              "      <td>S</td>\n",
              "      <td>Young Adult</td>\n",
              "      <td>1_quartile</td>\n",
              "      <td>Heikkinen</td>\n",
              "      <td>Miss</td>\n",
              "    </tr>\n",
              "    <tr>\n",
              "      <th>3</th>\n",
              "      <td>1</td>\n",
              "      <td>1</td>\n",
              "      <td>female</td>\n",
              "      <td>1</td>\n",
              "      <td>0</td>\n",
              "      <td>S</td>\n",
              "      <td>Young Adult</td>\n",
              "      <td>4_quartile</td>\n",
              "      <td>Futrelle</td>\n",
              "      <td>Mrs</td>\n",
              "    </tr>\n",
              "    <tr>\n",
              "      <th>4</th>\n",
              "      <td>0</td>\n",
              "      <td>3</td>\n",
              "      <td>male</td>\n",
              "      <td>0</td>\n",
              "      <td>0</td>\n",
              "      <td>S</td>\n",
              "      <td>Young Adult</td>\n",
              "      <td>2_quartile</td>\n",
              "      <td>Allen</td>\n",
              "      <td>Mr</td>\n",
              "    </tr>\n",
              "  </tbody>\n",
              "</table>\n",
              "</div>"
            ],
            "text/plain": [
              "   Survived  Pclass     Sex  ...      Tarifa      Lname NamePrefix\n",
              "0         0       3    male  ...  1_quartile     Braund         Mr\n",
              "1         1       1  female  ...  4_quartile    Cumings        Mrs\n",
              "2         1       3  female  ...  1_quartile  Heikkinen       Miss\n",
              "3         1       1  female  ...  4_quartile   Futrelle        Mrs\n",
              "4         0       3    male  ...  2_quartile      Allen         Mr\n",
              "\n",
              "[5 rows x 10 columns]"
            ]
          },
          "metadata": {
            "tags": []
          },
          "execution_count": 281
        }
      ]
    },
    {
      "cell_type": "markdown",
      "metadata": {
        "id": "LT2r-yIe7mmZ",
        "colab_type": "text"
      },
      "source": [
        "###Diccionario de Mapeado"
      ]
    },
    {
      "cell_type": "code",
      "metadata": {
        "id": "xNzl4f7c4xVM",
        "colab_type": "code",
        "colab": {
          "base_uri": "https://localhost:8080/",
          "height": 35
        },
        "outputId": "abae7195-11b8-4097-8315-abcc84be7a11"
      },
      "source": [
        "le_name_mapping = dict(zip(le.classes_, le.transform(le.classes_)))\n",
        "print(le_name_mapping)"
      ],
      "execution_count": 282,
      "outputs": [
        {
          "output_type": "stream",
          "text": [
            "{'female': 0, 'male': 1}\n"
          ],
          "name": "stdout"
        }
      ]
    },
    {
      "cell_type": "markdown",
      "metadata": {
        "id": "AmIBH6Ns8Btl",
        "colab_type": "text"
      },
      "source": [
        "###Mapeado de Edad"
      ]
    },
    {
      "cell_type": "code",
      "metadata": {
        "id": "YfrbK_vs8NCL",
        "colab_type": "code",
        "colab": {}
      },
      "source": [
        "lEdad = preprocessing.LabelEncoder() \n",
        "lEdad = lEdad.fit(data['Edad'])\n",
        "data['Edad'] = lEdad.transform(data['Edad'])"
      ],
      "execution_count": 0,
      "outputs": []
    },
    {
      "cell_type": "code",
      "metadata": {
        "id": "J6OHiN1M8XX6",
        "colab_type": "code",
        "colab": {
          "base_uri": "https://localhost:8080/",
          "height": 182
        },
        "outputId": "317a4af3-c9ee-4bbb-fc98-ed702c9d3f69"
      },
      "source": [
        "data['Edad'].value_counts()"
      ],
      "execution_count": 284,
      "outputs": [
        {
          "output_type": "execute_result",
          "data": {
            "text/plain": [
              "7    196\n",
              "0    195\n",
              "6    177\n",
              "4    162\n",
              "5     70\n",
              "1     44\n",
              "2     25\n",
              "3     22\n",
              "Name: Edad, dtype: int64"
            ]
          },
          "metadata": {
            "tags": []
          },
          "execution_count": 284
        }
      ]
    },
    {
      "cell_type": "code",
      "metadata": {
        "id": "zSsr0ReJ8TEe",
        "colab_type": "code",
        "colab": {
          "base_uri": "https://localhost:8080/",
          "height": 206
        },
        "outputId": "26c7795f-ef70-4de2-c63a-1e992b11974b"
      },
      "source": [
        "data.head()"
      ],
      "execution_count": 285,
      "outputs": [
        {
          "output_type": "execute_result",
          "data": {
            "text/html": [
              "<div>\n",
              "<style scoped>\n",
              "    .dataframe tbody tr th:only-of-type {\n",
              "        vertical-align: middle;\n",
              "    }\n",
              "\n",
              "    .dataframe tbody tr th {\n",
              "        vertical-align: top;\n",
              "    }\n",
              "\n",
              "    .dataframe thead th {\n",
              "        text-align: right;\n",
              "    }\n",
              "</style>\n",
              "<table border=\"1\" class=\"dataframe\">\n",
              "  <thead>\n",
              "    <tr style=\"text-align: right;\">\n",
              "      <th></th>\n",
              "      <th>Survived</th>\n",
              "      <th>Pclass</th>\n",
              "      <th>Sex</th>\n",
              "      <th>SibSp</th>\n",
              "      <th>Parch</th>\n",
              "      <th>Embarked</th>\n",
              "      <th>Edad</th>\n",
              "      <th>Tarifa</th>\n",
              "      <th>Lname</th>\n",
              "      <th>NamePrefix</th>\n",
              "    </tr>\n",
              "  </thead>\n",
              "  <tbody>\n",
              "    <tr>\n",
              "      <th>0</th>\n",
              "      <td>0</td>\n",
              "      <td>3</td>\n",
              "      <td>male</td>\n",
              "      <td>1</td>\n",
              "      <td>0</td>\n",
              "      <td>S</td>\n",
              "      <td>4</td>\n",
              "      <td>1_quartile</td>\n",
              "      <td>Braund</td>\n",
              "      <td>Mr</td>\n",
              "    </tr>\n",
              "    <tr>\n",
              "      <th>1</th>\n",
              "      <td>1</td>\n",
              "      <td>1</td>\n",
              "      <td>female</td>\n",
              "      <td>1</td>\n",
              "      <td>0</td>\n",
              "      <td>C</td>\n",
              "      <td>0</td>\n",
              "      <td>4_quartile</td>\n",
              "      <td>Cumings</td>\n",
              "      <td>Mrs</td>\n",
              "    </tr>\n",
              "    <tr>\n",
              "      <th>2</th>\n",
              "      <td>1</td>\n",
              "      <td>3</td>\n",
              "      <td>female</td>\n",
              "      <td>0</td>\n",
              "      <td>0</td>\n",
              "      <td>S</td>\n",
              "      <td>7</td>\n",
              "      <td>1_quartile</td>\n",
              "      <td>Heikkinen</td>\n",
              "      <td>Miss</td>\n",
              "    </tr>\n",
              "    <tr>\n",
              "      <th>3</th>\n",
              "      <td>1</td>\n",
              "      <td>1</td>\n",
              "      <td>female</td>\n",
              "      <td>1</td>\n",
              "      <td>0</td>\n",
              "      <td>S</td>\n",
              "      <td>7</td>\n",
              "      <td>4_quartile</td>\n",
              "      <td>Futrelle</td>\n",
              "      <td>Mrs</td>\n",
              "    </tr>\n",
              "    <tr>\n",
              "      <th>4</th>\n",
              "      <td>0</td>\n",
              "      <td>3</td>\n",
              "      <td>male</td>\n",
              "      <td>0</td>\n",
              "      <td>0</td>\n",
              "      <td>S</td>\n",
              "      <td>7</td>\n",
              "      <td>2_quartile</td>\n",
              "      <td>Allen</td>\n",
              "      <td>Mr</td>\n",
              "    </tr>\n",
              "  </tbody>\n",
              "</table>\n",
              "</div>"
            ],
            "text/plain": [
              "   Survived  Pclass     Sex  SibSp  ...  Edad      Tarifa      Lname NamePrefix\n",
              "0         0       3    male      1  ...     4  1_quartile     Braund         Mr\n",
              "1         1       1  female      1  ...     0  4_quartile    Cumings        Mrs\n",
              "2         1       3  female      0  ...     7  1_quartile  Heikkinen       Miss\n",
              "3         1       1  female      1  ...     7  4_quartile   Futrelle        Mrs\n",
              "4         0       3    male      0  ...     7  2_quartile      Allen         Mr\n",
              "\n",
              "[5 rows x 10 columns]"
            ]
          },
          "metadata": {
            "tags": []
          },
          "execution_count": 285
        }
      ]
    },
    {
      "cell_type": "code",
      "metadata": {
        "id": "5XXi5egW8r-Y",
        "colab_type": "code",
        "colab": {
          "base_uri": "https://localhost:8080/",
          "height": 35
        },
        "outputId": "79864395-b7a6-4edd-89a1-192641b0b0d2"
      },
      "source": [
        "Edad_Mapeado = dict(zip(lEdad.classes_, lEdad.transform(lEdad.classes_)))\n",
        "print(Edad_Mapeado)"
      ],
      "execution_count": 286,
      "outputs": [
        {
          "output_type": "stream",
          "text": [
            "{'Adult': 0, 'Baby': 1, 'Child': 2, 'Senior': 3, 'Student': 4, 'Teenager': 5, 'Unknown': 6, 'Young Adult': 7}\n"
          ],
          "name": "stdout"
        }
      ]
    },
    {
      "cell_type": "markdown",
      "metadata": {
        "id": "EmEKehLfCX6V",
        "colab_type": "text"
      },
      "source": [
        "###Guardando CSV"
      ]
    },
    {
      "cell_type": "code",
      "metadata": {
        "id": "sDbEx8YuBD-d",
        "colab_type": "code",
        "colab": {}
      },
      "source": [
        "data.to_csv(\"modificado.csv\",index = False)"
      ],
      "execution_count": 0,
      "outputs": []
    },
    {
      "cell_type": "code",
      "metadata": {
        "id": "ksOXLkVrBbTs",
        "colab_type": "code",
        "colab": {
          "base_uri": "https://localhost:8080/",
          "height": 206
        },
        "outputId": "41096acc-a165-4e43-b891-5f9df3d27298"
      },
      "source": [
        "data2 = pd.read_csv(\"modificado.csv\")\n",
        "data2.head()"
      ],
      "execution_count": 304,
      "outputs": [
        {
          "output_type": "execute_result",
          "data": {
            "text/html": [
              "<div>\n",
              "<style scoped>\n",
              "    .dataframe tbody tr th:only-of-type {\n",
              "        vertical-align: middle;\n",
              "    }\n",
              "\n",
              "    .dataframe tbody tr th {\n",
              "        vertical-align: top;\n",
              "    }\n",
              "\n",
              "    .dataframe thead th {\n",
              "        text-align: right;\n",
              "    }\n",
              "</style>\n",
              "<table border=\"1\" class=\"dataframe\">\n",
              "  <thead>\n",
              "    <tr style=\"text-align: right;\">\n",
              "      <th></th>\n",
              "      <th>Survived</th>\n",
              "      <th>Pclass</th>\n",
              "      <th>Sex</th>\n",
              "      <th>SibSp</th>\n",
              "      <th>Parch</th>\n",
              "      <th>Embarked</th>\n",
              "      <th>Edad</th>\n",
              "      <th>Tarifa</th>\n",
              "      <th>Lname</th>\n",
              "      <th>NamePrefix</th>\n",
              "    </tr>\n",
              "  </thead>\n",
              "  <tbody>\n",
              "    <tr>\n",
              "      <th>0</th>\n",
              "      <td>0</td>\n",
              "      <td>3</td>\n",
              "      <td>1</td>\n",
              "      <td>1</td>\n",
              "      <td>0</td>\n",
              "      <td>2</td>\n",
              "      <td>4</td>\n",
              "      <td>0</td>\n",
              "      <td>73</td>\n",
              "      <td>11</td>\n",
              "    </tr>\n",
              "    <tr>\n",
              "      <th>1</th>\n",
              "      <td>1</td>\n",
              "      <td>1</td>\n",
              "      <td>0</td>\n",
              "      <td>1</td>\n",
              "      <td>0</td>\n",
              "      <td>0</td>\n",
              "      <td>0</td>\n",
              "      <td>3</td>\n",
              "      <td>136</td>\n",
              "      <td>12</td>\n",
              "    </tr>\n",
              "    <tr>\n",
              "      <th>2</th>\n",
              "      <td>1</td>\n",
              "      <td>3</td>\n",
              "      <td>0</td>\n",
              "      <td>0</td>\n",
              "      <td>0</td>\n",
              "      <td>2</td>\n",
              "      <td>7</td>\n",
              "      <td>0</td>\n",
              "      <td>251</td>\n",
              "      <td>8</td>\n",
              "    </tr>\n",
              "    <tr>\n",
              "      <th>3</th>\n",
              "      <td>1</td>\n",
              "      <td>1</td>\n",
              "      <td>0</td>\n",
              "      <td>1</td>\n",
              "      <td>0</td>\n",
              "      <td>2</td>\n",
              "      <td>7</td>\n",
              "      <td>3</td>\n",
              "      <td>198</td>\n",
              "      <td>12</td>\n",
              "    </tr>\n",
              "    <tr>\n",
              "      <th>4</th>\n",
              "      <td>0</td>\n",
              "      <td>3</td>\n",
              "      <td>1</td>\n",
              "      <td>0</td>\n",
              "      <td>0</td>\n",
              "      <td>2</td>\n",
              "      <td>7</td>\n",
              "      <td>1</td>\n",
              "      <td>11</td>\n",
              "      <td>11</td>\n",
              "    </tr>\n",
              "  </tbody>\n",
              "</table>\n",
              "</div>"
            ],
            "text/plain": [
              "   Survived  Pclass  Sex  SibSp  ...  Edad  Tarifa  Lname  NamePrefix\n",
              "0         0       3    1      1  ...     4       0     73          11\n",
              "1         1       1    0      1  ...     0       3    136          12\n",
              "2         1       3    0      0  ...     7       0    251           8\n",
              "3         1       1    0      1  ...     7       3    198          12\n",
              "4         0       3    1      0  ...     7       1     11          11\n",
              "\n",
              "[5 rows x 10 columns]"
            ]
          },
          "metadata": {
            "tags": []
          },
          "execution_count": 304
        }
      ]
    },
    {
      "cell_type": "markdown",
      "metadata": {
        "id": "X7k3bgXbHB5B",
        "colab_type": "text"
      },
      "source": [
        "#Ejercicios"
      ]
    },
    {
      "cell_type": "markdown",
      "metadata": {
        "id": "hzkpOD5HHG4q",
        "colab_type": "text"
      },
      "source": [
        "###¿Cuántas hombres y mujeres hay?"
      ]
    },
    {
      "cell_type": "code",
      "metadata": {
        "id": "pyPItttmLaiQ",
        "colab_type": "code",
        "outputId": "d0598ffd-2dd4-4f19-f0da-c809ec468544",
        "colab": {
          "base_uri": "https://localhost:8080/",
          "height": 72
        }
      },
      "source": [
        "data['Sex'].value_counts()"
      ],
      "execution_count": 0,
      "outputs": [
        {
          "output_type": "execute_result",
          "data": {
            "text/plain": [
              "male      577\n",
              "female    314\n",
              "Name: Sex, dtype: int64"
            ]
          },
          "metadata": {
            "tags": []
          },
          "execution_count": 141
        }
      ]
    },
    {
      "cell_type": "markdown",
      "metadata": {
        "id": "mzsqdg6yLdDM",
        "colab_type": "text"
      },
      "source": [
        "###¿Cuántas personas de la clase 1 sobrevivieron?"
      ]
    },
    {
      "cell_type": "code",
      "metadata": {
        "id": "d5p1LZTbL_yj",
        "colab_type": "code",
        "outputId": "a2be1cc0-ff96-42c9-eef7-671dbef5641e",
        "colab": {
          "base_uri": "https://localhost:8080/",
          "height": 35
        }
      },
      "source": [
        "data[(data['Pclass']==1 & (data['Survived']==1))].shape[0]"
      ],
      "execution_count": 0,
      "outputs": [
        {
          "output_type": "execute_result",
          "data": {
            "text/plain": [
              "136"
            ]
          },
          "metadata": {
            "tags": []
          },
          "execution_count": 143
        }
      ]
    },
    {
      "cell_type": "markdown",
      "metadata": {
        "id": "UUgp_BzwMdVn",
        "colab_type": "text"
      },
      "source": [
        "###¿Cúal es la familia más numerosa que abordó el titanic?"
      ]
    },
    {
      "cell_type": "code",
      "metadata": {
        "id": "_kKkWXrqMtCY",
        "colab_type": "code",
        "outputId": "e4e6edc3-013b-45c0-caf5-78d3b078087d",
        "colab": {
          "base_uri": "https://localhost:8080/",
          "height": 237
        }
      },
      "source": [
        "data['Lname'].value_counts()"
      ],
      "execution_count": 0,
      "outputs": [
        {
          "output_type": "execute_result",
          "data": {
            "text/plain": [
              "Andersson     9\n",
              "Sage          7\n",
              "Carter        6\n",
              "Panula        6\n",
              "Skoog         6\n",
              "             ..\n",
              "Lewy          1\n",
              "Moutal        1\n",
              "Willey        1\n",
              "Augustsson    1\n",
              "Cherry        1\n",
              "Name: Lname, Length: 667, dtype: int64"
            ]
          },
          "metadata": {
            "tags": []
          },
          "execution_count": 144
        }
      ]
    },
    {
      "cell_type": "markdown",
      "metadata": {
        "id": "ngkUd0gpOFmT",
        "colab_type": "text"
      },
      "source": [
        "###¿Cúantos Child de la clase 3 sobrevivieron?"
      ]
    },
    {
      "cell_type": "code",
      "metadata": {
        "id": "kpxgf2KsOSPa",
        "colab_type": "code",
        "outputId": "88c9d073-85ca-4643-e412-b078679241bb",
        "colab": {
          "base_uri": "https://localhost:8080/",
          "height": 175
        }
      },
      "source": [
        "data[(data['Edad']=='Child') & (data['Pclass']==3) & (data['Survived']==1)]"
      ],
      "execution_count": 0,
      "outputs": [
        {
          "output_type": "execute_result",
          "data": {
            "text/html": [
              "<div>\n",
              "<style scoped>\n",
              "    .dataframe tbody tr th:only-of-type {\n",
              "        vertical-align: middle;\n",
              "    }\n",
              "\n",
              "    .dataframe tbody tr th {\n",
              "        vertical-align: top;\n",
              "    }\n",
              "\n",
              "    .dataframe thead th {\n",
              "        text-align: right;\n",
              "    }\n",
              "</style>\n",
              "<table border=\"1\" class=\"dataframe\">\n",
              "  <thead>\n",
              "    <tr style=\"text-align: right;\">\n",
              "      <th></th>\n",
              "      <th>Survived</th>\n",
              "      <th>Pclass</th>\n",
              "      <th>Sex</th>\n",
              "      <th>SibSp</th>\n",
              "      <th>Parch</th>\n",
              "      <th>Embarked</th>\n",
              "      <th>Edad</th>\n",
              "      <th>Tarifa</th>\n",
              "      <th>Lname</th>\n",
              "      <th>NamePrefix</th>\n",
              "    </tr>\n",
              "  </thead>\n",
              "  <tbody>\n",
              "    <tr>\n",
              "      <th>125</th>\n",
              "      <td>1</td>\n",
              "      <td>3</td>\n",
              "      <td>male</td>\n",
              "      <td>1</td>\n",
              "      <td>0</td>\n",
              "      <td>C</td>\n",
              "      <td>Child</td>\n",
              "      <td>2_quartile</td>\n",
              "      <td>Nicola-Yarred</td>\n",
              "      <td>Master</td>\n",
              "    </tr>\n",
              "    <tr>\n",
              "      <th>165</th>\n",
              "      <td>1</td>\n",
              "      <td>3</td>\n",
              "      <td>male</td>\n",
              "      <td>0</td>\n",
              "      <td>2</td>\n",
              "      <td>S</td>\n",
              "      <td>Child</td>\n",
              "      <td>3_quartile</td>\n",
              "      <td>Goldsmith</td>\n",
              "      <td>Master</td>\n",
              "    </tr>\n",
              "    <tr>\n",
              "      <th>489</th>\n",
              "      <td>1</td>\n",
              "      <td>3</td>\n",
              "      <td>male</td>\n",
              "      <td>1</td>\n",
              "      <td>1</td>\n",
              "      <td>S</td>\n",
              "      <td>Child</td>\n",
              "      <td>3_quartile</td>\n",
              "      <td>Coutts</td>\n",
              "      <td>Master</td>\n",
              "    </tr>\n",
              "    <tr>\n",
              "      <th>751</th>\n",
              "      <td>1</td>\n",
              "      <td>3</td>\n",
              "      <td>male</td>\n",
              "      <td>0</td>\n",
              "      <td>1</td>\n",
              "      <td>S</td>\n",
              "      <td>Child</td>\n",
              "      <td>2_quartile</td>\n",
              "      <td>Moor</td>\n",
              "      <td>Master</td>\n",
              "    </tr>\n",
              "  </tbody>\n",
              "</table>\n",
              "</div>"
            ],
            "text/plain": [
              "     Survived  Pclass   Sex  SibSp  ...   Edad      Tarifa          Lname NamePrefix\n",
              "125         1       3  male      1  ...  Child  2_quartile  Nicola-Yarred     Master\n",
              "165         1       3  male      0  ...  Child  3_quartile      Goldsmith     Master\n",
              "489         1       3  male      1  ...  Child  3_quartile         Coutts     Master\n",
              "751         1       3  male      0  ...  Child  2_quartile           Moor     Master\n",
              "\n",
              "[4 rows x 10 columns]"
            ]
          },
          "metadata": {
            "tags": []
          },
          "execution_count": 146
        }
      ]
    },
    {
      "cell_type": "markdown",
      "metadata": {
        "id": "aPuCqfz2OSro",
        "colab_type": "text"
      },
      "source": [
        "###¿Cúal es el cuartil de Tarifa que tuvo más sobrevivientes?"
      ]
    },
    {
      "cell_type": "code",
      "metadata": {
        "id": "KT6pi-RiOzhx",
        "colab_type": "code",
        "outputId": "d3d6c4f3-16e8-4855-b664-04fa0de7b3e2",
        "colab": {
          "base_uri": "https://localhost:8080/",
          "height": 109
        }
      },
      "source": [
        "data[data['Survived']==1]['Tarifa'].value_counts()"
      ],
      "execution_count": 0,
      "outputs": [
        {
          "output_type": "execute_result",
          "data": {
            "text/plain": [
              "4_quartile    129\n",
              "3_quartile     99\n",
              "2_quartile     62\n",
              "1_quartile     51\n",
              "Name: Tarifa, dtype: int64"
            ]
          },
          "metadata": {
            "tags": []
          },
          "execution_count": 147
        }
      ]
    }
  ]
}