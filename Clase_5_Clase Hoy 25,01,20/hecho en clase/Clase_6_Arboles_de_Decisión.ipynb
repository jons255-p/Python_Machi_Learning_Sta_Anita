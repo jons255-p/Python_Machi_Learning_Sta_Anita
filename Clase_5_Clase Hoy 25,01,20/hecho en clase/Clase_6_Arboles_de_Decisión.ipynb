{
  "nbformat": 4,
  "nbformat_minor": 0,
  "metadata": {
    "colab": {
      "name": "Clase_6_Arboles_de_Decisión.ipynb",
      "provenance": []
    },
    "kernelspec": {
      "name": "python3",
      "display_name": "Python 3"
    }
  },
  "cells": [
    {
      "cell_type": "markdown",
      "metadata": {
        "id": "f1Ov_sYMIs75",
        "colab_type": "text"
      },
      "source": [
        "#Importar Data"
      ]
    },
    {
      "cell_type": "code",
      "metadata": {
        "id": "ZI5g9Oo0IoYs",
        "colab_type": "code",
        "colab": {}
      },
      "source": [
        "import pandas as pd"
      ],
      "execution_count": 0,
      "outputs": []
    },
    {
      "cell_type": "code",
      "metadata": {
        "id": "2fUUgSkAI1yz",
        "colab_type": "code",
        "outputId": "0156be0e-307b-4615-a4e1-7f44568736f1",
        "colab": {
          "base_uri": "https://localhost:8080/",
          "height": 197
        }
      },
      "source": [
        "df = pd.read_csv(\"Titanic_Limpio.csv\")\n",
        "df.head()"
      ],
      "execution_count": 2,
      "outputs": [
        {
          "output_type": "execute_result",
          "data": {
            "text/html": [
              "<div>\n",
              "<style scoped>\n",
              "    .dataframe tbody tr th:only-of-type {\n",
              "        vertical-align: middle;\n",
              "    }\n",
              "\n",
              "    .dataframe tbody tr th {\n",
              "        vertical-align: top;\n",
              "    }\n",
              "\n",
              "    .dataframe thead th {\n",
              "        text-align: right;\n",
              "    }\n",
              "</style>\n",
              "<table border=\"1\" class=\"dataframe\">\n",
              "  <thead>\n",
              "    <tr style=\"text-align: right;\">\n",
              "      <th></th>\n",
              "      <th>Survived</th>\n",
              "      <th>Pclass</th>\n",
              "      <th>Sex</th>\n",
              "      <th>SibSp</th>\n",
              "      <th>Parch</th>\n",
              "      <th>Embarked</th>\n",
              "      <th>Edad</th>\n",
              "      <th>Tarifa</th>\n",
              "      <th>Lname</th>\n",
              "      <th>NamePrefix</th>\n",
              "    </tr>\n",
              "  </thead>\n",
              "  <tbody>\n",
              "    <tr>\n",
              "      <th>0</th>\n",
              "      <td>0</td>\n",
              "      <td>3</td>\n",
              "      <td>1</td>\n",
              "      <td>1</td>\n",
              "      <td>0</td>\n",
              "      <td>2</td>\n",
              "      <td>4</td>\n",
              "      <td>0</td>\n",
              "      <td>73</td>\n",
              "      <td>11</td>\n",
              "    </tr>\n",
              "    <tr>\n",
              "      <th>1</th>\n",
              "      <td>1</td>\n",
              "      <td>1</td>\n",
              "      <td>0</td>\n",
              "      <td>1</td>\n",
              "      <td>0</td>\n",
              "      <td>0</td>\n",
              "      <td>0</td>\n",
              "      <td>3</td>\n",
              "      <td>136</td>\n",
              "      <td>12</td>\n",
              "    </tr>\n",
              "    <tr>\n",
              "      <th>2</th>\n",
              "      <td>1</td>\n",
              "      <td>3</td>\n",
              "      <td>0</td>\n",
              "      <td>0</td>\n",
              "      <td>0</td>\n",
              "      <td>2</td>\n",
              "      <td>7</td>\n",
              "      <td>0</td>\n",
              "      <td>251</td>\n",
              "      <td>8</td>\n",
              "    </tr>\n",
              "    <tr>\n",
              "      <th>3</th>\n",
              "      <td>1</td>\n",
              "      <td>1</td>\n",
              "      <td>0</td>\n",
              "      <td>1</td>\n",
              "      <td>0</td>\n",
              "      <td>2</td>\n",
              "      <td>7</td>\n",
              "      <td>3</td>\n",
              "      <td>198</td>\n",
              "      <td>12</td>\n",
              "    </tr>\n",
              "    <tr>\n",
              "      <th>4</th>\n",
              "      <td>0</td>\n",
              "      <td>3</td>\n",
              "      <td>1</td>\n",
              "      <td>0</td>\n",
              "      <td>0</td>\n",
              "      <td>2</td>\n",
              "      <td>7</td>\n",
              "      <td>1</td>\n",
              "      <td>11</td>\n",
              "      <td>11</td>\n",
              "    </tr>\n",
              "  </tbody>\n",
              "</table>\n",
              "</div>"
            ],
            "text/plain": [
              "   Survived  Pclass  Sex  SibSp  ...  Edad  Tarifa  Lname  NamePrefix\n",
              "0         0       3    1      1  ...     4       0     73          11\n",
              "1         1       1    0      1  ...     0       3    136          12\n",
              "2         1       3    0      0  ...     7       0    251           8\n",
              "3         1       1    0      1  ...     7       3    198          12\n",
              "4         0       3    1      0  ...     7       1     11          11\n",
              "\n",
              "[5 rows x 10 columns]"
            ]
          },
          "metadata": {
            "tags": []
          },
          "execution_count": 2
        }
      ]
    },
    {
      "cell_type": "markdown",
      "metadata": {
        "id": "vOIgsWv9JLTU",
        "colab_type": "text"
      },
      "source": [
        "#Árbol de Clasificación"
      ]
    },
    {
      "cell_type": "code",
      "metadata": {
        "id": "jWIZuIb2JELZ",
        "colab_type": "code",
        "colab": {}
      },
      "source": [
        "x = df.drop('Survived', axis=1)\n",
        "y = df['Survived']"
      ],
      "execution_count": 0,
      "outputs": []
    },
    {
      "cell_type": "code",
      "metadata": {
        "id": "grcpx52VJVEi",
        "colab_type": "code",
        "colab": {}
      },
      "source": [
        "# Entrenamos un arbol con poca profundidad, para visualizarlo comodamente:\n",
        "from sklearn.tree import DecisionTreeClassifier\n",
        "m = DecisionTreeClassifier(max_depth=3)\n",
        "m = m.fit(x, y)"
      ],
      "execution_count": 0,
      "outputs": []
    },
    {
      "cell_type": "code",
      "metadata": {
        "id": "BVKJGCe_JO-f",
        "colab_type": "code",
        "outputId": "a2d05ce7-a72f-4cad-aea1-830fbab3c66c",
        "colab": {
          "base_uri": "https://localhost:8080/",
          "height": 34
        }
      },
      "source": [
        "m.score(x,y)"
      ],
      "execution_count": 5,
      "outputs": [
        {
          "output_type": "execute_result",
          "data": {
            "text/plain": [
              "0.8316498316498316"
            ]
          },
          "metadata": {
            "tags": []
          },
          "execution_count": 5
        }
      ]
    },
    {
      "cell_type": "markdown",
      "metadata": {
        "id": "NC-CZusEW2Rk",
        "colab_type": "text"
      },
      "source": [
        "# ¿Cómo saber si el modelo esta haciendo un buen trabajo?"
      ]
    },
    {
      "cell_type": "markdown",
      "metadata": {
        "id": "Q4IbGwdUW2Rl",
        "colab_type": "text"
      },
      "source": [
        "Vamos a separar la data en 2 conjuntos: uno para entrenar el modelo (**train set**) y otro para validar el modelo (**validation set**)."
      ]
    },
    {
      "cell_type": "code",
      "metadata": {
        "id": "yuHgZe3jW2Rl",
        "colab_type": "code",
        "outputId": "341cc882-4fdc-4618-c303-14b27562a485",
        "colab": {
          "base_uri": "https://localhost:8080/",
          "height": 52
        }
      },
      "source": [
        "from sklearn.model_selection import train_test_split\n",
        "\n",
        "# Usamos método \"train_test_split\" para usar el 20% de la data para validar el modelo.\n",
        "# El parámetro \"random state\" nos sirve para poder replicar la misma separación.\n",
        "#tes_size mayor, entonces la formacion de arbol es menor\n",
        "x_train, x_val, y_train, y_val = train_test_split(x, y, test_size=0.2, random_state=11) # random_state=42 la data es fija para cada corrida, sin esto es aleatorio cambiante\n",
        "print('Train shape: ',x_train.shape)\n",
        "print('Validation shape: ',x_val.shape)"
      ],
      "execution_count": 21,
      "outputs": [
        {
          "output_type": "stream",
          "text": [
            "Train shape:  (712, 9)\n",
            "Validation shape:  (179, 9)\n"
          ],
          "name": "stdout"
        }
      ]
    },
    {
      "cell_type": "code",
      "metadata": {
        "id": "ooUrdDdcLDoE",
        "colab_type": "code",
        "outputId": "13466a81-d900-431e-b8b2-9c1c85e3422e",
        "colab": {
          "base_uri": "https://localhost:8080/",
          "height": 197
        }
      },
      "source": [
        "x_train.head()"
      ],
      "execution_count": 22,
      "outputs": [
        {
          "output_type": "execute_result",
          "data": {
            "text/html": [
              "<div>\n",
              "<style scoped>\n",
              "    .dataframe tbody tr th:only-of-type {\n",
              "        vertical-align: middle;\n",
              "    }\n",
              "\n",
              "    .dataframe tbody tr th {\n",
              "        vertical-align: top;\n",
              "    }\n",
              "\n",
              "    .dataframe thead th {\n",
              "        text-align: right;\n",
              "    }\n",
              "</style>\n",
              "<table border=\"1\" class=\"dataframe\">\n",
              "  <thead>\n",
              "    <tr style=\"text-align: right;\">\n",
              "      <th></th>\n",
              "      <th>Pclass</th>\n",
              "      <th>Sex</th>\n",
              "      <th>SibSp</th>\n",
              "      <th>Parch</th>\n",
              "      <th>Embarked</th>\n",
              "      <th>Edad</th>\n",
              "      <th>Tarifa</th>\n",
              "      <th>Lname</th>\n",
              "      <th>NamePrefix</th>\n",
              "    </tr>\n",
              "  </thead>\n",
              "  <tbody>\n",
              "    <tr>\n",
              "      <th>333</th>\n",
              "      <td>3</td>\n",
              "      <td>1</td>\n",
              "      <td>2</td>\n",
              "      <td>0</td>\n",
              "      <td>2</td>\n",
              "      <td>5</td>\n",
              "      <td>2</td>\n",
              "      <td>625</td>\n",
              "      <td>11</td>\n",
              "    </tr>\n",
              "    <tr>\n",
              "      <th>662</th>\n",
              "      <td>1</td>\n",
              "      <td>1</td>\n",
              "      <td>0</td>\n",
              "      <td>0</td>\n",
              "      <td>2</td>\n",
              "      <td>0</td>\n",
              "      <td>2</td>\n",
              "      <td>121</td>\n",
              "      <td>11</td>\n",
              "    </tr>\n",
              "    <tr>\n",
              "      <th>382</th>\n",
              "      <td>3</td>\n",
              "      <td>1</td>\n",
              "      <td>0</td>\n",
              "      <td>0</td>\n",
              "      <td>2</td>\n",
              "      <td>7</td>\n",
              "      <td>0</td>\n",
              "      <td>602</td>\n",
              "      <td>11</td>\n",
              "    </tr>\n",
              "    <tr>\n",
              "      <th>331</th>\n",
              "      <td>1</td>\n",
              "      <td>1</td>\n",
              "      <td>0</td>\n",
              "      <td>0</td>\n",
              "      <td>2</td>\n",
              "      <td>0</td>\n",
              "      <td>2</td>\n",
              "      <td>468</td>\n",
              "      <td>11</td>\n",
              "    </tr>\n",
              "    <tr>\n",
              "      <th>149</th>\n",
              "      <td>2</td>\n",
              "      <td>1</td>\n",
              "      <td>0</td>\n",
              "      <td>0</td>\n",
              "      <td>2</td>\n",
              "      <td>0</td>\n",
              "      <td>1</td>\n",
              "      <td>83</td>\n",
              "      <td>14</td>\n",
              "    </tr>\n",
              "  </tbody>\n",
              "</table>\n",
              "</div>"
            ],
            "text/plain": [
              "     Pclass  Sex  SibSp  Parch  Embarked  Edad  Tarifa  Lname  NamePrefix\n",
              "333       3    1      2      0         2     5       2    625          11\n",
              "662       1    1      0      0         2     0       2    121          11\n",
              "382       3    1      0      0         2     7       0    602          11\n",
              "331       1    1      0      0         2     0       2    468          11\n",
              "149       2    1      0      0         2     0       1     83          14"
            ]
          },
          "metadata": {
            "tags": []
          },
          "execution_count": 22
        }
      ]
    },
    {
      "cell_type": "markdown",
      "metadata": {
        "id": "akUAmZ06W2Ro",
        "colab_type": "text"
      },
      "source": [
        "### a. Entrenar un árbol de decisión con la data de entrenamiento."
      ]
    },
    {
      "cell_type": "code",
      "metadata": {
        "id": "SCh-8L-4Lu1R",
        "colab_type": "code",
        "colab": {}
      },
      "source": [
        "m2 = DecisionTreeClassifier(max_depth=3)  #(max_depth=3,random_state=3)\n",
        "m2 = m2.fit(x_train,y_train)"
      ],
      "execution_count": 0,
      "outputs": []
    },
    {
      "cell_type": "code",
      "metadata": {
        "id": "9UaoeavxzrG2",
        "colab_type": "code",
        "colab": {
          "base_uri": "https://localhost:8080/",
          "height": 34
        },
        "outputId": "43e7f626-1540-4381-c175-67ccac38abd5"
      },
      "source": [
        "m2.tree_.max_depth"
      ],
      "execution_count": 25,
      "outputs": [
        {
          "output_type": "execute_result",
          "data": {
            "text/plain": [
              "3"
            ]
          },
          "metadata": {
            "tags": []
          },
          "execution_count": 25
        }
      ]
    },
    {
      "cell_type": "markdown",
      "metadata": {
        "id": "IR_31RL8W2Rq",
        "colab_type": "text"
      },
      "source": [
        "### b. Evaluar el resultado con la data de entrenamiento."
      ]
    },
    {
      "cell_type": "code",
      "metadata": {
        "id": "UZ5a4dDFOHpT",
        "colab_type": "code",
        "outputId": "870da8c3-846c-4434-ece1-ba26ba4afe84",
        "colab": {
          "base_uri": "https://localhost:8080/",
          "height": 34
        }
      },
      "source": [
        "m2.score(x_train,y_train)"
      ],
      "execution_count": 26,
      "outputs": [
        {
          "output_type": "execute_result",
          "data": {
            "text/plain": [
              "0.824438202247191"
            ]
          },
          "metadata": {
            "tags": []
          },
          "execution_count": 26
        }
      ]
    },
    {
      "cell_type": "markdown",
      "metadata": {
        "id": "wp4bofyCW2Rt",
        "colab_type": "text"
      },
      "source": [
        "### c. Evaluar el resultado con la data de validación."
      ]
    },
    {
      "cell_type": "code",
      "metadata": {
        "id": "ums6KLX9OqTJ",
        "colab_type": "code",
        "outputId": "c421d250-f1a9-4e08-d114-62db3896f270",
        "colab": {
          "base_uri": "https://localhost:8080/",
          "height": 34
        }
      },
      "source": [
        "m2.score(x_val,y_val)"
      ],
      "execution_count": 19,
      "outputs": [
        {
          "output_type": "execute_result",
          "data": {
            "text/plain": [
              "0.8547486033519553"
            ]
          },
          "metadata": {
            "tags": []
          },
          "execution_count": 19
        }
      ]
    },
    {
      "cell_type": "code",
      "metadata": {
        "id": "CmfQ75651mhb",
        "colab_type": "code",
        "colab": {
          "base_uri": "https://localhost:8080/",
          "height": 176
        },
        "outputId": "ec301c58-f640-459c-862b-649914834cca"
      },
      "source": [
        "m2.predict(x_val)"
      ],
      "execution_count": 27,
      "outputs": [
        {
          "output_type": "execute_result",
          "data": {
            "text/plain": [
              "array([0, 0, 0, 0, 0, 0, 0, 1, 0, 1, 0, 0, 0, 0, 0, 0, 0, 0, 0, 1, 0, 0,\n",
              "       0, 0, 0, 0, 0, 0, 0, 0, 1, 1, 0, 1, 0, 0, 0, 0, 0, 0, 0, 0, 1, 1,\n",
              "       1, 1, 1, 0, 1, 0, 0, 0, 0, 1, 0, 0, 0, 0, 0, 0, 1, 0, 0, 0, 1, 0,\n",
              "       0, 0, 1, 0, 0, 0, 0, 1, 0, 0, 1, 0, 1, 0, 1, 1, 1, 0, 1, 1, 0, 0,\n",
              "       1, 0, 0, 0, 0, 0, 1, 0, 1, 0, 0, 1, 0, 0, 0, 0, 0, 0, 0, 0, 0, 1,\n",
              "       1, 0, 1, 0, 0, 0, 0, 0, 1, 0, 0, 0, 0, 0, 0, 0, 0, 0, 0, 0, 1, 0,\n",
              "       1, 1, 0, 0, 1, 1, 0, 1, 1, 0, 0, 0, 0, 1, 0, 0, 1, 0, 0, 0, 0, 0,\n",
              "       1, 1, 0, 0, 1, 1, 0, 1, 0, 0, 0, 0, 1, 0, 0, 1, 0, 1, 0, 0, 0, 0,\n",
              "       0, 0, 0])"
            ]
          },
          "metadata": {
            "tags": []
          },
          "execution_count": 27
        }
      ]
    },
    {
      "cell_type": "code",
      "metadata": {
        "id": "GYCASKTt1s96",
        "colab_type": "code",
        "colab": {
          "base_uri": "https://localhost:8080/",
          "height": 230
        },
        "outputId": "d474da62-82e1-4191-8c15-fd16017cabcb"
      },
      "source": [
        "y_val"
      ],
      "execution_count": 28,
      "outputs": [
        {
          "output_type": "execute_result",
          "data": {
            "text/plain": [
              "431    1\n",
              "821    1\n",
              "629    0\n",
              "626    0\n",
              "665    0\n",
              "      ..\n",
              "638    0\n",
              "771    0\n",
              "521    0\n",
              "711    0\n",
              "484    1\n",
              "Name: Survived, Length: 179, dtype: int64"
            ]
          },
          "metadata": {
            "tags": []
          },
          "execution_count": 28
        }
      ]
    },
    {
      "cell_type": "markdown",
      "metadata": {
        "id": "YcU1r-aeZwl6",
        "colab_type": "text"
      },
      "source": [
        "###d. Encontrando el valor optimo para max_depth"
      ]
    },
    {
      "cell_type": "code",
      "metadata": {
        "id": "RSJX-XTATtB-",
        "colab_type": "code",
        "colab": {}
      },
      "source": [
        "# List of values to try for max_depth:\n",
        "max_depth_range = list(range(2, 15))# List to store the average RMSE for each value of max_depth:\n",
        "accuracy = []\n",
        "for depth in max_depth_range:\n",
        "    clf = DecisionTreeClassifier(max_depth = depth,random_state=3)#random state sin\n",
        "    clf.fit(x_train, y_train)    \n",
        "    score = clf.score(x_val, y_val)\n",
        "    \n",
        "    accuracy.append(score)"
      ],
      "execution_count": 0,
      "outputs": []
    },
    {
      "cell_type": "code",
      "metadata": {
        "id": "MfBEMUSBT8-a",
        "colab_type": "code",
        "colab": {}
      },
      "source": [
        "import matplotlib.pyplot as plt\n",
        "%matplotlib inline"
      ],
      "execution_count": 0,
      "outputs": []
    },
    {
      "cell_type": "code",
      "metadata": {
        "id": "BT7mZCbAT_Ji",
        "colab_type": "code",
        "colab": {
          "base_uri": "https://localhost:8080/",
          "height": 264
        },
        "outputId": "b73ade64-4bdc-4a00-bbbb-91363470f4a3"
      },
      "source": [
        "plt.plot(accuracy)\n",
        "plt.xticks(list(range(len(max_depth_range))),max_depth_range)\n",
        "plt.grid()\n",
        "plt.show() # x profundiad, y scores"
      ],
      "execution_count": 34,
      "outputs": [
        {
          "output_type": "display_data",
          "data": {
            "image/png": "[encoded data removed]",
            "text/plain": [
              "<Figure size 432x288 with 1 Axes>"
            ]
          },
          "metadata": {
            "tags": []
          }
        }
      ]
    },
    {
      "cell_type": "markdown",
      "metadata": {
        "id": "sbHH-bhhgDua",
        "colab_type": "text"
      },
      "source": [
        "###e. Graficando nuestro arbol"
      ]
    },
    {
      "cell_type": "code",
      "metadata": {
        "id": "sSgT6sl8gnaD",
        "colab_type": "code",
        "colab": {}
      },
      "source": [
        "from sklearn.tree import export_graphviz\n",
        "import graphviz"
      ],
      "execution_count": 0,
      "outputs": []
    },
    {
      "cell_type": "code",
      "metadata": {
        "id": "RKjtR7LigH2d",
        "colab_type": "code",
        "colab": {
          "base_uri": "https://localhost:8080/",
          "height": 618
        },
        "outputId": "950de481-5d82-4ac7-848e-fffbc2788fcf"
      },
      "source": [
        "dot_data = export_graphviz(m2,feature_names= x.columns, class_names= ['Muerto','Vivo'],filled=True, rounded=True,special_characters=True) \n",
        "graph = graphviz.Source(dot_data)\n",
        "graph\n",
        "#graph.render(\"arbol\",format='png') "
      ],
      "execution_count": 36,
      "outputs": [
        {
          "output_type": "execute_result",
          "data": {
            "text/plain": [
              "<graphviz.files.Source at 0x7fb90677d278>"
            ],
            "image/svg+xml": "<?xml version=\"1.0\" encoding=\"UTF-8\" standalone=\"no\"?>\n<!DOCTYPE svg PUBLIC \"-//W3C//DTD SVG 1.1//EN\"\n \"http://www.w3.org/Graphics/SVG/1.1/DTD/svg11.dtd\">\n<!-- Generated by graphviz version 2.40.1 (20161225.0304)\n -->\n<!-- Title: Tree Pages: 1 -->\n<svg width=\"1053pt\" height=\"433pt\"\n viewBox=\"0.00 0.00 1052.50 433.00\" xmlns=\"http://www.w3.org/2000/svg\" xmlns:xlink=\"http://www.w3.org/1999/xlink\">\n<g id=\"graph0\" class=\"graph\" transform=\"scale(1 1) rotate(0) translate(4 429)\">\n<title>Tree</title>\n<polygon fill=\"#ffffff\" stroke=\"transparent\" points=\"-4,4 -4,-429 1048.5,-429 1048.5,4 -4,4\"/>\n<!-- 0 -->\n<g id=\"node1\" class=\"node\">\n<title>0</title>\n<path fill=\"#f6d3ba\" stroke=\"#000000\" d=\"M567.5,-425C567.5,-425 459.5,-425 459.5,-425 453.5,-425 447.5,-419 447.5,-413 447.5,-413 447.5,-354 447.5,-354 447.5,-348 453.5,-342 459.5,-342 459.5,-342 567.5,-342 567.5,-342 573.5,-342 579.5,-348 579.5,-354 579.5,-354 579.5,-413 579.5,-413 579.5,-419 573.5,-425 567.5,-425\"/>\n<text text-anchor=\"start\" x=\"483\" y=\"-409.8\" font-family=\"Helvetica,sans-Serif\" font-size=\"14.00\" fill=\"#000000\">Sex ≤ 0.5</text>\n<text text-anchor=\"start\" x=\"475.5\" y=\"-394.8\" font-family=\"Helvetica,sans-Serif\" font-size=\"14.00\" fill=\"#000000\">gini = 0.478</text>\n<text text-anchor=\"start\" x=\"465.5\" y=\"-379.8\" font-family=\"Helvetica,sans-Serif\" font-size=\"14.00\" fill=\"#000000\">samples = 712</text>\n<text text-anchor=\"start\" x=\"455.5\" y=\"-364.8\" font-family=\"Helvetica,sans-Serif\" font-size=\"14.00\" fill=\"#000000\">value = [431, 281]</text>\n<text text-anchor=\"start\" x=\"466\" y=\"-349.8\" font-family=\"Helvetica,sans-Serif\" font-size=\"14.00\" fill=\"#000000\">class = Muerto</text>\n</g>\n<!-- 1 -->\n<g id=\"node2\" class=\"node\">\n<title>1</title>\n<path fill=\"#7fc0ee\" stroke=\"#000000\" d=\"M432.5,-306C432.5,-306 332.5,-306 332.5,-306 326.5,-306 320.5,-300 320.5,-294 320.5,-294 320.5,-235 320.5,-235 320.5,-229 326.5,-223 332.5,-223 332.5,-223 432.5,-223 432.5,-223 438.5,-223 444.5,-229 444.5,-235 444.5,-235 444.5,-294 444.5,-294 444.5,-300 438.5,-306 432.5,-306\"/>\n<text text-anchor=\"start\" x=\"343\" y=\"-290.8\" font-family=\"Helvetica,sans-Serif\" font-size=\"14.00\" fill=\"#000000\">Pclass ≤ 2.5</text>\n<text text-anchor=\"start\" x=\"344.5\" y=\"-275.8\" font-family=\"Helvetica,sans-Serif\" font-size=\"14.00\" fill=\"#000000\">gini = 0.386</text>\n<text text-anchor=\"start\" x=\"334.5\" y=\"-260.8\" font-family=\"Helvetica,sans-Serif\" font-size=\"14.00\" fill=\"#000000\">samples = 253</text>\n<text text-anchor=\"start\" x=\"328.5\" y=\"-245.8\" font-family=\"Helvetica,sans-Serif\" font-size=\"14.00\" fill=\"#000000\">value = [66, 187]</text>\n<text text-anchor=\"start\" x=\"343\" y=\"-230.8\" font-family=\"Helvetica,sans-Serif\" font-size=\"14.00\" fill=\"#000000\">class = Vivo</text>\n</g>\n<!-- 0&#45;&gt;1 -->\n<g id=\"edge1\" class=\"edge\">\n<title>0&#45;&gt;1</title>\n<path fill=\"none\" stroke=\"#000000\" d=\"M467.6826,-341.8796C457.4706,-332.6031 446.555,-322.6874 436.0624,-313.1559\"/>\n<polygon fill=\"#000000\" stroke=\"#000000\" points=\"438.2684,-310.4313 428.513,-306.2981 433.5616,-315.6127 438.2684,-310.4313\"/>\n<text text-anchor=\"middle\" x=\"429.7116\" y=\"-327.5693\" font-family=\"Helvetica,sans-Serif\" font-size=\"14.00\" fill=\"#000000\">True</text>\n</g>\n<!-- 8 -->\n<g id=\"node9\" class=\"node\">\n<title>8</title>\n<path fill=\"#eca16c\" stroke=\"#000000\" d=\"M697.5,-306C697.5,-306 593.5,-306 593.5,-306 587.5,-306 581.5,-300 581.5,-294 581.5,-294 581.5,-235 581.5,-235 581.5,-229 587.5,-223 593.5,-223 593.5,-223 697.5,-223 697.5,-223 703.5,-223 709.5,-229 709.5,-235 709.5,-235 709.5,-294 709.5,-294 709.5,-300 703.5,-306 697.5,-306\"/>\n<text text-anchor=\"start\" x=\"589.5\" y=\"-290.8\" font-family=\"Helvetica,sans-Serif\" font-size=\"14.00\" fill=\"#000000\">NamePrefix ≤ 9.0</text>\n<text text-anchor=\"start\" x=\"607.5\" y=\"-275.8\" font-family=\"Helvetica,sans-Serif\" font-size=\"14.00\" fill=\"#000000\">gini = 0.326</text>\n<text text-anchor=\"start\" x=\"597.5\" y=\"-260.8\" font-family=\"Helvetica,sans-Serif\" font-size=\"14.00\" fill=\"#000000\">samples = 459</text>\n<text text-anchor=\"start\" x=\"591.5\" y=\"-245.8\" font-family=\"Helvetica,sans-Serif\" font-size=\"14.00\" fill=\"#000000\">value = [365, 94]</text>\n<text text-anchor=\"start\" x=\"598\" y=\"-230.8\" font-family=\"Helvetica,sans-Serif\" font-size=\"14.00\" fill=\"#000000\">class = Muerto</text>\n</g>\n<!-- 0&#45;&gt;8 -->\n<g id=\"edge8\" class=\"edge\">\n<title>0&#45;&gt;8</title>\n<path fill=\"none\" stroke=\"#000000\" d=\"M559.6672,-341.8796C569.9571,-332.6031 580.956,-322.6874 591.5287,-313.1559\"/>\n<polygon fill=\"#000000\" stroke=\"#000000\" points=\"594.0519,-315.5935 599.1358,-306.2981 589.3648,-310.3944 594.0519,-315.5935\"/>\n<text text-anchor=\"middle\" x=\"597.8427\" y=\"-327.5646\" font-family=\"Helvetica,sans-Serif\" font-size=\"14.00\" fill=\"#000000\">False</text>\n</g>\n<!-- 2 -->\n<g id=\"node3\" class=\"node\">\n<title>2</title>\n<path fill=\"#45a3e7\" stroke=\"#000000\" d=\"M233.5,-187C233.5,-187 141.5,-187 141.5,-187 135.5,-187 129.5,-181 129.5,-175 129.5,-175 129.5,-116 129.5,-116 129.5,-110 135.5,-104 141.5,-104 141.5,-104 233.5,-104 233.5,-104 239.5,-104 245.5,-110 245.5,-116 245.5,-116 245.5,-175 245.5,-175 245.5,-181 239.5,-187 233.5,-187\"/>\n<text text-anchor=\"start\" x=\"143\" y=\"-171.8\" font-family=\"Helvetica,sans-Serif\" font-size=\"14.00\" fill=\"#000000\">Lname ≤ 15.5</text>\n<text text-anchor=\"start\" x=\"149.5\" y=\"-156.8\" font-family=\"Helvetica,sans-Serif\" font-size=\"14.00\" fill=\"#000000\">gini = 0.108</text>\n<text text-anchor=\"start\" x=\"139.5\" y=\"-141.8\" font-family=\"Helvetica,sans-Serif\" font-size=\"14.00\" fill=\"#000000\">samples = 139</text>\n<text text-anchor=\"start\" x=\"137.5\" y=\"-126.8\" font-family=\"Helvetica,sans-Serif\" font-size=\"14.00\" fill=\"#000000\">value = [8, 131]</text>\n<text text-anchor=\"start\" x=\"148\" y=\"-111.8\" font-family=\"Helvetica,sans-Serif\" font-size=\"14.00\" fill=\"#000000\">class = Vivo</text>\n</g>\n<!-- 1&#45;&gt;2 -->\n<g id=\"edge2\" class=\"edge\">\n<title>1&#45;&gt;2</title>\n<path fill=\"none\" stroke=\"#000000\" d=\"M320.2646,-226.5205C299.2024,-213.6671 275.6027,-199.2652 254.2075,-186.2087\"/>\n<polygon fill=\"#000000\" stroke=\"#000000\" points=\"255.8615,-183.1178 245.5022,-180.8962 252.215,-189.0931 255.8615,-183.1178\"/>\n</g>\n<!-- 5 -->\n<g id=\"node6\" class=\"node\">\n<title>5</title>\n<path fill=\"#fefbf8\" stroke=\"#000000\" d=\"M430,-187C430,-187 335,-187 335,-187 329,-187 323,-181 323,-175 323,-175 323,-116 323,-116 323,-110 329,-104 335,-104 335,-104 430,-104 430,-104 436,-104 442,-110 442,-116 442,-116 442,-175 442,-175 442,-181 436,-187 430,-187\"/>\n<text text-anchor=\"start\" x=\"331\" y=\"-171.8\" font-family=\"Helvetica,sans-Serif\" font-size=\"14.00\" fill=\"#000000\">Embarked ≤ 1.5</text>\n<text text-anchor=\"start\" x=\"353\" y=\"-156.8\" font-family=\"Helvetica,sans-Serif\" font-size=\"14.00\" fill=\"#000000\">gini = 0.5</text>\n<text text-anchor=\"start\" x=\"334.5\" y=\"-141.8\" font-family=\"Helvetica,sans-Serif\" font-size=\"14.00\" fill=\"#000000\">samples = 114</text>\n<text text-anchor=\"start\" x=\"332.5\" y=\"-126.8\" font-family=\"Helvetica,sans-Serif\" font-size=\"14.00\" fill=\"#000000\">value = [58, 56]</text>\n<text text-anchor=\"start\" x=\"335\" y=\"-111.8\" font-family=\"Helvetica,sans-Serif\" font-size=\"14.00\" fill=\"#000000\">class = Muerto</text>\n</g>\n<!-- 1&#45;&gt;5 -->\n<g id=\"edge5\" class=\"edge\">\n<title>1&#45;&gt;5</title>\n<path fill=\"none\" stroke=\"#000000\" d=\"M382.5,-222.8796C382.5,-214.6838 382.5,-205.9891 382.5,-197.5013\"/>\n<polygon fill=\"#000000\" stroke=\"#000000\" points=\"386.0001,-197.298 382.5,-187.2981 379.0001,-197.2981 386.0001,-197.298\"/>\n</g>\n<!-- 3 -->\n<g id=\"node4\" class=\"node\">\n<title>3</title>\n<path fill=\"#f2c09c\" stroke=\"#000000\" d=\"M99,-68C99,-68 12,-68 12,-68 6,-68 0,-62 0,-56 0,-56 0,-12 0,-12 0,-6 6,0 12,0 12,0 99,0 99,0 105,0 111,-6 111,-12 111,-12 111,-56 111,-56 111,-62 105,-68 99,-68\"/>\n<text text-anchor=\"start\" x=\"17.5\" y=\"-52.8\" font-family=\"Helvetica,sans-Serif\" font-size=\"14.00\" fill=\"#000000\">gini = 0.444</text>\n<text text-anchor=\"start\" x=\"16\" y=\"-37.8\" font-family=\"Helvetica,sans-Serif\" font-size=\"14.00\" fill=\"#000000\">samples = 3</text>\n<text text-anchor=\"start\" x=\"14\" y=\"-22.8\" font-family=\"Helvetica,sans-Serif\" font-size=\"14.00\" fill=\"#000000\">value = [2, 1]</text>\n<text text-anchor=\"start\" x=\"8\" y=\"-7.8\" font-family=\"Helvetica,sans-Serif\" font-size=\"14.00\" fill=\"#000000\">class = Muerto</text>\n</g>\n<!-- 2&#45;&gt;3 -->\n<g id=\"edge3\" class=\"edge\">\n<title>2&#45;&gt;3</title>\n<path fill=\"none\" stroke=\"#000000\" d=\"M138.3481,-103.9815C127.0324,-94.4232 115.0087,-84.2668 103.7325,-74.7419\"/>\n<polygon fill=\"#000000\" stroke=\"#000000\" points=\"105.9612,-72.0429 96.0633,-68.2637 101.4441,-77.3904 105.9612,-72.0429\"/>\n</g>\n<!-- 4 -->\n<g id=\"node5\" class=\"node\">\n<title>4</title>\n<path fill=\"#42a2e6\" stroke=\"#000000\" d=\"M233.5,-68C233.5,-68 141.5,-68 141.5,-68 135.5,-68 129.5,-62 129.5,-56 129.5,-56 129.5,-12 129.5,-12 129.5,-6 135.5,0 141.5,0 141.5,0 233.5,0 233.5,0 239.5,0 245.5,-6 245.5,-12 245.5,-12 245.5,-56 245.5,-56 245.5,-62 239.5,-68 233.5,-68\"/>\n<text text-anchor=\"start\" x=\"149.5\" y=\"-52.8\" font-family=\"Helvetica,sans-Serif\" font-size=\"14.00\" fill=\"#000000\">gini = 0.084</text>\n<text text-anchor=\"start\" x=\"139.5\" y=\"-37.8\" font-family=\"Helvetica,sans-Serif\" font-size=\"14.00\" fill=\"#000000\">samples = 136</text>\n<text text-anchor=\"start\" x=\"137.5\" y=\"-22.8\" font-family=\"Helvetica,sans-Serif\" font-size=\"14.00\" fill=\"#000000\">value = [6, 130]</text>\n<text text-anchor=\"start\" x=\"148\" y=\"-7.8\" font-family=\"Helvetica,sans-Serif\" font-size=\"14.00\" fill=\"#000000\">class = Vivo</text>\n</g>\n<!-- 2&#45;&gt;4 -->\n<g id=\"edge4\" class=\"edge\">\n<title>2&#45;&gt;4</title>\n<path fill=\"none\" stroke=\"#000000\" d=\"M187.5,-103.9815C187.5,-95.618 187.5,-86.7965 187.5,-78.3409\"/>\n<polygon fill=\"#000000\" stroke=\"#000000\" points=\"191.0001,-78.2636 187.5,-68.2637 184.0001,-78.2637 191.0001,-78.2636\"/>\n</g>\n<!-- 6 -->\n<g id=\"node7\" class=\"node\">\n<title>6</title>\n<path fill=\"#95cbf1\" stroke=\"#000000\" d=\"M367.5,-68C367.5,-68 275.5,-68 275.5,-68 269.5,-68 263.5,-62 263.5,-56 263.5,-56 263.5,-12 263.5,-12 263.5,-6 269.5,0 275.5,0 275.5,0 367.5,0 367.5,0 373.5,0 379.5,-6 379.5,-12 379.5,-12 379.5,-56 379.5,-56 379.5,-62 373.5,-68 367.5,-68\"/>\n<text text-anchor=\"start\" x=\"283.5\" y=\"-52.8\" font-family=\"Helvetica,sans-Serif\" font-size=\"14.00\" fill=\"#000000\">gini = 0.434</text>\n<text text-anchor=\"start\" x=\"277.5\" y=\"-37.8\" font-family=\"Helvetica,sans-Serif\" font-size=\"14.00\" fill=\"#000000\">samples = 44</text>\n<text text-anchor=\"start\" x=\"271.5\" y=\"-22.8\" font-family=\"Helvetica,sans-Serif\" font-size=\"14.00\" fill=\"#000000\">value = [14, 30]</text>\n<text text-anchor=\"start\" x=\"282\" y=\"-7.8\" font-family=\"Helvetica,sans-Serif\" font-size=\"14.00\" fill=\"#000000\">class = Vivo</text>\n</g>\n<!-- 5&#45;&gt;6 -->\n<g id=\"edge6\" class=\"edge\">\n<title>5&#45;&gt;6</title>\n<path fill=\"none\" stroke=\"#000000\" d=\"M359.7859,-103.9815C355.0092,-95.2504 349.9595,-86.0202 345.1494,-77.2281\"/>\n<polygon fill=\"#000000\" stroke=\"#000000\" points=\"348.1153,-75.3568 340.2451,-68.2637 341.9742,-78.7165 348.1153,-75.3568\"/>\n</g>\n<!-- 7 -->\n<g id=\"node8\" class=\"node\">\n<title>7</title>\n<path fill=\"#f4cbae\" stroke=\"#000000\" d=\"M501.5,-68C501.5,-68 409.5,-68 409.5,-68 403.5,-68 397.5,-62 397.5,-56 397.5,-56 397.5,-12 397.5,-12 397.5,-6 403.5,0 409.5,0 409.5,0 501.5,0 501.5,0 507.5,0 513.5,-6 513.5,-12 513.5,-12 513.5,-56 513.5,-56 513.5,-62 507.5,-68 501.5,-68\"/>\n<text text-anchor=\"start\" x=\"417.5\" y=\"-52.8\" font-family=\"Helvetica,sans-Serif\" font-size=\"14.00\" fill=\"#000000\">gini = 0.467</text>\n<text text-anchor=\"start\" x=\"411.5\" y=\"-37.8\" font-family=\"Helvetica,sans-Serif\" font-size=\"14.00\" fill=\"#000000\">samples = 70</text>\n<text text-anchor=\"start\" x=\"405.5\" y=\"-22.8\" font-family=\"Helvetica,sans-Serif\" font-size=\"14.00\" fill=\"#000000\">value = [44, 26]</text>\n<text text-anchor=\"start\" x=\"408\" y=\"-7.8\" font-family=\"Helvetica,sans-Serif\" font-size=\"14.00\" fill=\"#000000\">class = Muerto</text>\n</g>\n<!-- 5&#45;&gt;7 -->\n<g id=\"edge7\" class=\"edge\">\n<title>5&#45;&gt;7</title>\n<path fill=\"none\" stroke=\"#000000\" d=\"M409.6825,-103.9815C415.5192,-95.0666 421.6966,-85.6313 427.5614,-76.6734\"/>\n<polygon fill=\"#000000\" stroke=\"#000000\" points=\"430.5179,-78.5472 433.0673,-68.2637 424.6614,-74.7129 430.5179,-78.5472\"/>\n</g>\n<!-- 9 -->\n<g id=\"node10\" class=\"node\">\n<title>9</title>\n<path fill=\"#eef6fd\" stroke=\"#000000\" d=\"M691.5,-187C691.5,-187 599.5,-187 599.5,-187 593.5,-187 587.5,-181 587.5,-175 587.5,-175 587.5,-116 587.5,-116 587.5,-110 593.5,-104 599.5,-104 599.5,-104 691.5,-104 691.5,-104 697.5,-104 703.5,-110 703.5,-116 703.5,-116 703.5,-175 703.5,-175 703.5,-181 697.5,-187 691.5,-187\"/>\n<text text-anchor=\"start\" x=\"608\" y=\"-171.8\" font-family=\"Helvetica,sans-Serif\" font-size=\"14.00\" fill=\"#000000\">SibSp ≤ 2.5</text>\n<text text-anchor=\"start\" x=\"607.5\" y=\"-156.8\" font-family=\"Helvetica,sans-Serif\" font-size=\"14.00\" fill=\"#000000\">gini = 0.499</text>\n<text text-anchor=\"start\" x=\"601.5\" y=\"-141.8\" font-family=\"Helvetica,sans-Serif\" font-size=\"14.00\" fill=\"#000000\">samples = 44</text>\n<text text-anchor=\"start\" x=\"595.5\" y=\"-126.8\" font-family=\"Helvetica,sans-Serif\" font-size=\"14.00\" fill=\"#000000\">value = [21, 23]</text>\n<text text-anchor=\"start\" x=\"606\" y=\"-111.8\" font-family=\"Helvetica,sans-Serif\" font-size=\"14.00\" fill=\"#000000\">class = Vivo</text>\n</g>\n<!-- 8&#45;&gt;9 -->\n<g id=\"edge9\" class=\"edge\">\n<title>8&#45;&gt;9</title>\n<path fill=\"none\" stroke=\"#000000\" d=\"M645.5,-222.8796C645.5,-214.6838 645.5,-205.9891 645.5,-197.5013\"/>\n<polygon fill=\"#000000\" stroke=\"#000000\" points=\"649.0001,-197.298 645.5,-187.2981 642.0001,-197.2981 649.0001,-197.298\"/>\n</g>\n<!-- 12 -->\n<g id=\"node13\" class=\"node\">\n<title>12</title>\n<path fill=\"#ea9b62\" stroke=\"#000000\" d=\"M894.5,-187C894.5,-187 794.5,-187 794.5,-187 788.5,-187 782.5,-181 782.5,-175 782.5,-175 782.5,-116 782.5,-116 782.5,-110 788.5,-104 794.5,-104 794.5,-104 894.5,-104 894.5,-104 900.5,-104 906.5,-110 906.5,-116 906.5,-116 906.5,-175 906.5,-175 906.5,-181 900.5,-187 894.5,-187\"/>\n<text text-anchor=\"start\" x=\"805\" y=\"-171.8\" font-family=\"Helvetica,sans-Serif\" font-size=\"14.00\" fill=\"#000000\">Pclass ≤ 1.5</text>\n<text text-anchor=\"start\" x=\"806.5\" y=\"-156.8\" font-family=\"Helvetica,sans-Serif\" font-size=\"14.00\" fill=\"#000000\">gini = 0.284</text>\n<text text-anchor=\"start\" x=\"796.5\" y=\"-141.8\" font-family=\"Helvetica,sans-Serif\" font-size=\"14.00\" fill=\"#000000\">samples = 415</text>\n<text text-anchor=\"start\" x=\"790.5\" y=\"-126.8\" font-family=\"Helvetica,sans-Serif\" font-size=\"14.00\" fill=\"#000000\">value = [344, 71]</text>\n<text text-anchor=\"start\" x=\"797\" y=\"-111.8\" font-family=\"Helvetica,sans-Serif\" font-size=\"14.00\" fill=\"#000000\">class = Muerto</text>\n</g>\n<!-- 8&#45;&gt;12 -->\n<g id=\"edge12\" class=\"edge\">\n<title>8&#45;&gt;12</title>\n<path fill=\"none\" stroke=\"#000000\" d=\"M709.5602,-226.1926C729.941,-214.0051 752.6038,-200.453 773.448,-187.9884\"/>\n<polygon fill=\"#000000\" stroke=\"#000000\" points=\"775.4717,-190.8563 782.2579,-182.7201 771.8791,-184.8486 775.4717,-190.8563\"/>\n</g>\n<!-- 10 -->\n<g id=\"node11\" class=\"node\">\n<title>10</title>\n<path fill=\"#6fb8ec\" stroke=\"#000000\" d=\"M627,-68C627,-68 544,-68 544,-68 538,-68 532,-62 532,-56 532,-56 532,-12 532,-12 532,-6 538,0 544,0 544,0 627,0 627,0 633,0 639,-6 639,-12 639,-12 639,-56 639,-56 639,-62 633,-68 627,-68\"/>\n<text text-anchor=\"start\" x=\"547.5\" y=\"-52.8\" font-family=\"Helvetica,sans-Serif\" font-size=\"14.00\" fill=\"#000000\">gini = 0.337</text>\n<text text-anchor=\"start\" x=\"541.5\" y=\"-37.8\" font-family=\"Helvetica,sans-Serif\" font-size=\"14.00\" fill=\"#000000\">samples = 28</text>\n<text text-anchor=\"start\" x=\"540\" y=\"-22.8\" font-family=\"Helvetica,sans-Serif\" font-size=\"14.00\" fill=\"#000000\">value = [6, 22]</text>\n<text text-anchor=\"start\" x=\"546\" y=\"-7.8\" font-family=\"Helvetica,sans-Serif\" font-size=\"14.00\" fill=\"#000000\">class = Vivo</text>\n</g>\n<!-- 9&#45;&gt;10 -->\n<g id=\"edge10\" class=\"edge\">\n<title>9&#45;&gt;10</title>\n<path fill=\"none\" stroke=\"#000000\" d=\"M623.1582,-103.9815C618.4598,-95.2504 613.4929,-86.0202 608.7617,-77.2281\"/>\n<polygon fill=\"#000000\" stroke=\"#000000\" points=\"611.7586,-75.4111 603.9379,-68.2637 605.5944,-78.7282 611.7586,-75.4111\"/>\n</g>\n<!-- 11 -->\n<g id=\"node12\" class=\"node\">\n<title>11</title>\n<path fill=\"#e78946\" stroke=\"#000000\" d=\"M756,-68C756,-68 669,-68 669,-68 663,-68 657,-62 657,-56 657,-56 657,-12 657,-12 657,-6 663,0 669,0 669,0 756,0 756,0 762,0 768,-6 768,-12 768,-12 768,-56 768,-56 768,-62 762,-68 756,-68\"/>\n<text text-anchor=\"start\" x=\"674.5\" y=\"-52.8\" font-family=\"Helvetica,sans-Serif\" font-size=\"14.00\" fill=\"#000000\">gini = 0.117</text>\n<text text-anchor=\"start\" x=\"668.5\" y=\"-37.8\" font-family=\"Helvetica,sans-Serif\" font-size=\"14.00\" fill=\"#000000\">samples = 16</text>\n<text text-anchor=\"start\" x=\"667\" y=\"-22.8\" font-family=\"Helvetica,sans-Serif\" font-size=\"14.00\" fill=\"#000000\">value = [15, 1]</text>\n<text text-anchor=\"start\" x=\"665\" y=\"-7.8\" font-family=\"Helvetica,sans-Serif\" font-size=\"14.00\" fill=\"#000000\">class = Muerto</text>\n</g>\n<!-- 9&#45;&gt;11 -->\n<g id=\"edge11\" class=\"edge\">\n<title>9&#45;&gt;11</title>\n<path fill=\"none\" stroke=\"#000000\" d=\"M670.4483,-103.9815C675.7501,-95.1585 681.3581,-85.8258 686.6911,-76.9506\"/>\n<polygon fill=\"#000000\" stroke=\"#000000\" points=\"689.7605,-78.638 691.9111,-68.2637 683.7604,-75.0325 689.7605,-78.638\"/>\n</g>\n<!-- 13 -->\n<g id=\"node14\" class=\"node\">\n<title>13</title>\n<path fill=\"#f4c9aa\" stroke=\"#000000\" d=\"M890.5,-68C890.5,-68 798.5,-68 798.5,-68 792.5,-68 786.5,-62 786.5,-56 786.5,-56 786.5,-12 786.5,-12 786.5,-6 792.5,0 798.5,0 798.5,0 890.5,0 890.5,0 896.5,0 902.5,-6 902.5,-12 902.5,-12 902.5,-56 902.5,-56 902.5,-62 896.5,-68 890.5,-68\"/>\n<text text-anchor=\"start\" x=\"806.5\" y=\"-52.8\" font-family=\"Helvetica,sans-Serif\" font-size=\"14.00\" fill=\"#000000\">gini = 0.463</text>\n<text text-anchor=\"start\" x=\"800.5\" y=\"-37.8\" font-family=\"Helvetica,sans-Serif\" font-size=\"14.00\" fill=\"#000000\">samples = 88</text>\n<text text-anchor=\"start\" x=\"794.5\" y=\"-22.8\" font-family=\"Helvetica,sans-Serif\" font-size=\"14.00\" fill=\"#000000\">value = [56, 32]</text>\n<text text-anchor=\"start\" x=\"797\" y=\"-7.8\" font-family=\"Helvetica,sans-Serif\" font-size=\"14.00\" fill=\"#000000\">class = Muerto</text>\n</g>\n<!-- 12&#45;&gt;13 -->\n<g id=\"edge13\" class=\"edge\">\n<title>12&#45;&gt;13</title>\n<path fill=\"none\" stroke=\"#000000\" d=\"M844.5,-103.9815C844.5,-95.618 844.5,-86.7965 844.5,-78.3409\"/>\n<polygon fill=\"#000000\" stroke=\"#000000\" points=\"848.0001,-78.2636 844.5,-68.2637 841.0001,-78.2637 848.0001,-78.2636\"/>\n</g>\n<!-- 14 -->\n<g id=\"node15\" class=\"node\">\n<title>14</title>\n<path fill=\"#e99254\" stroke=\"#000000\" d=\"M1032.5,-68C1032.5,-68 932.5,-68 932.5,-68 926.5,-68 920.5,-62 920.5,-56 920.5,-56 920.5,-12 920.5,-12 920.5,-6 926.5,0 932.5,0 932.5,0 1032.5,0 1032.5,0 1038.5,0 1044.5,-6 1044.5,-12 1044.5,-12 1044.5,-56 1044.5,-56 1044.5,-62 1038.5,-68 1032.5,-68\"/>\n<text text-anchor=\"start\" x=\"949\" y=\"-52.8\" font-family=\"Helvetica,sans-Serif\" font-size=\"14.00\" fill=\"#000000\">gini = 0.21</text>\n<text text-anchor=\"start\" x=\"934.5\" y=\"-37.8\" font-family=\"Helvetica,sans-Serif\" font-size=\"14.00\" fill=\"#000000\">samples = 327</text>\n<text text-anchor=\"start\" x=\"928.5\" y=\"-22.8\" font-family=\"Helvetica,sans-Serif\" font-size=\"14.00\" fill=\"#000000\">value = [288, 39]</text>\n<text text-anchor=\"start\" x=\"935\" y=\"-7.8\" font-family=\"Helvetica,sans-Serif\" font-size=\"14.00\" fill=\"#000000\">class = Muerto</text>\n</g>\n<!-- 12&#45;&gt;14 -->\n<g id=\"edge14\" class=\"edge\">\n<title>12&#45;&gt;14</title>\n<path fill=\"none\" stroke=\"#000000\" d=\"M895.8861,-103.9815C907.7161,-94.4232 920.2864,-84.2668 932.0751,-74.7419\"/>\n<polygon fill=\"#000000\" stroke=\"#000000\" points=\"934.5142,-77.2708 940.0929,-68.2637 930.1149,-71.826 934.5142,-77.2708\"/>\n</g>\n</g>\n</svg>\n"
          },
          "metadata": {
            "tags": []
          },
          "execution_count": 36
        }
      ]
    },
    {
      "cell_type": "markdown",
      "metadata": {
        "id": "6WHeq4lBe--Q",
        "colab_type": "text"
      },
      "source": [
        "#Árbol de Regresión"
      ]
    },
    {
      "cell_type": "code",
      "metadata": {
        "id": "B8FuDuzkfSu0",
        "colab_type": "code",
        "colab": {}
      },
      "source": [
        "from sklearn.tree import DecisionTreeRegressor"
      ],
      "execution_count": 0,
      "outputs": []
    },
    {
      "cell_type": "code",
      "metadata": {
        "id": "EP23sKEOfivV",
        "colab_type": "code",
        "colab": {}
      },
      "source": [
        "regresion = DecisionTreeRegressor(max_depth = 3)\n",
        "regresion = regresion.fit (x_train, y_train)"
      ],
      "execution_count": 0,
      "outputs": []
    },
    {
      "cell_type": "code",
      "metadata": {
        "id": "zEZnIzHRf7FE",
        "colab_type": "code",
        "outputId": "ec25e9b5-e922-4d46-e24e-9e3019aa17ab",
        "colab": {
          "base_uri": "https://localhost:8080/",
          "height": 34
        }
      },
      "source": [
        "regresion.score(x_val,y_val)"
      ],
      "execution_count": 41,
      "outputs": [
        {
          "output_type": "execute_result",
          "data": {
            "text/plain": [
              "0.5175236428973454"
            ]
          },
          "metadata": {
            "tags": []
          },
          "execution_count": 41
        }
      ]
    },
    {
      "cell_type": "code",
      "metadata": {
        "id": "bhhkOGZEf_je",
        "colab_type": "code",
        "colab": {
          "base_uri": "https://localhost:8080/",
          "height": 518
        },
        "outputId": "88a9cf8c-e607-45c4-f85f-e0f0f093e7f0"
      },
      "source": [
        "dot_data = export_graphviz(regresion,feature_names= x.columns, class_names= ['Muerto','Vivo'],filled=True, rounded=True,special_characters=True) \n",
        "graph = graphviz.Source(dot_data)\n",
        "graph"
      ],
      "execution_count": 42,
      "outputs": [
        {
          "output_type": "execute_result",
          "data": {
            "text/plain": [
              "<graphviz.files.Source at 0x7fb90677d710>"
            ],
            "image/svg+xml": "<?xml version=\"1.0\" encoding=\"UTF-8\" standalone=\"no\"?>\n<!DOCTYPE svg PUBLIC \"-//W3C//DTD SVG 1.1//EN\"\n \"http://www.w3.org/Graphics/SVG/1.1/DTD/svg11.dtd\">\n<!-- Generated by graphviz version 2.40.1 (20161225.0304)\n -->\n<!-- Title: Tree Pages: 1 -->\n<svg width=\"982pt\" height=\"373pt\"\n viewBox=\"0.00 0.00 982.00 373.00\" xmlns=\"http://www.w3.org/2000/svg\" xmlns:xlink=\"http://www.w3.org/1999/xlink\">\n<g id=\"graph0\" class=\"graph\" transform=\"scale(1 1) rotate(0) translate(4 369)\">\n<title>Tree</title>\n<polygon fill=\"#ffffff\" stroke=\"transparent\" points=\"-4,4 -4,-369 978,-369 978,4 -4,4\"/>\n<!-- 0 -->\n<g id=\"node1\" class=\"node\">\n<title>0</title>\n<path fill=\"#f5d0b5\" stroke=\"#000000\" d=\"M523,-365C523,-365 435,-365 435,-365 429,-365 423,-359 423,-353 423,-353 423,-309 423,-309 423,-303 429,-297 435,-297 435,-297 523,-297 523,-297 529,-297 535,-303 535,-309 535,-309 535,-353 535,-353 535,-359 529,-365 523,-365\"/>\n<text text-anchor=\"start\" x=\"448.5\" y=\"-349.8\" font-family=\"Helvetica,sans-Serif\" font-size=\"14.00\" fill=\"#000000\">Sex ≤ 0.5</text>\n<text text-anchor=\"start\" x=\"438.5\" y=\"-334.8\" font-family=\"Helvetica,sans-Serif\" font-size=\"14.00\" fill=\"#000000\">mse = 0.239</text>\n<text text-anchor=\"start\" x=\"431\" y=\"-319.8\" font-family=\"Helvetica,sans-Serif\" font-size=\"14.00\" fill=\"#000000\">samples = 712</text>\n<text text-anchor=\"start\" x=\"435\" y=\"-304.8\" font-family=\"Helvetica,sans-Serif\" font-size=\"14.00\" fill=\"#000000\">value = 0.395</text>\n</g>\n<!-- 1 -->\n<g id=\"node2\" class=\"node\">\n<title>1</title>\n<path fill=\"#eba069\" stroke=\"#000000\" d=\"M405,-261C405,-261 317,-261 317,-261 311,-261 305,-255 305,-249 305,-249 305,-205 305,-205 305,-199 311,-193 317,-193 317,-193 405,-193 405,-193 411,-193 417,-199 417,-205 417,-205 417,-249 417,-249 417,-255 411,-261 405,-261\"/>\n<text text-anchor=\"start\" x=\"321.5\" y=\"-245.8\" font-family=\"Helvetica,sans-Serif\" font-size=\"14.00\" fill=\"#000000\">Pclass ≤ 2.5</text>\n<text text-anchor=\"start\" x=\"320.5\" y=\"-230.8\" font-family=\"Helvetica,sans-Serif\" font-size=\"14.00\" fill=\"#000000\">mse = 0.193</text>\n<text text-anchor=\"start\" x=\"313\" y=\"-215.8\" font-family=\"Helvetica,sans-Serif\" font-size=\"14.00\" fill=\"#000000\">samples = 253</text>\n<text text-anchor=\"start\" x=\"317\" y=\"-200.8\" font-family=\"Helvetica,sans-Serif\" font-size=\"14.00\" fill=\"#000000\">value = 0.739</text>\n</g>\n<!-- 0&#45;&gt;1 -->\n<g id=\"edge1\" class=\"edge\">\n<title>0&#45;&gt;1</title>\n<path fill=\"none\" stroke=\"#000000\" d=\"M440.3624,-296.9465C429.8696,-287.6986 418.3974,-277.5876 407.5186,-267.9994\"/>\n<polygon fill=\"#000000\" stroke=\"#000000\" points=\"409.5407,-265.1163 399.7244,-261.13 404.9123,-270.3678 409.5407,-265.1163\"/>\n<text text-anchor=\"middle\" x=\"401.2979\" y=\"-282.3804\" font-family=\"Helvetica,sans-Serif\" font-size=\"14.00\" fill=\"#000000\">True</text>\n</g>\n<!-- 8 -->\n<g id=\"node9\" class=\"node\">\n<title>8</title>\n<path fill=\"#fbebdf\" stroke=\"#000000\" d=\"M659,-261C659,-261 555,-261 555,-261 549,-261 543,-255 543,-249 543,-249 543,-205 543,-205 543,-199 549,-193 555,-193 555,-193 659,-193 659,-193 665,-193 671,-199 671,-205 671,-205 671,-249 671,-249 671,-255 665,-261 659,-261\"/>\n<text text-anchor=\"start\" x=\"551\" y=\"-245.8\" font-family=\"Helvetica,sans-Serif\" font-size=\"14.00\" fill=\"#000000\">NamePrefix ≤ 9.0</text>\n<text text-anchor=\"start\" x=\"566.5\" y=\"-230.8\" font-family=\"Helvetica,sans-Serif\" font-size=\"14.00\" fill=\"#000000\">mse = 0.163</text>\n<text text-anchor=\"start\" x=\"559\" y=\"-215.8\" font-family=\"Helvetica,sans-Serif\" font-size=\"14.00\" fill=\"#000000\">samples = 459</text>\n<text text-anchor=\"start\" x=\"563\" y=\"-200.8\" font-family=\"Helvetica,sans-Serif\" font-size=\"14.00\" fill=\"#000000\">value = 0.205</text>\n</g>\n<!-- 0&#45;&gt;8 -->\n<g id=\"edge8\" class=\"edge\">\n<title>0&#45;&gt;8</title>\n<path fill=\"none\" stroke=\"#000000\" d=\"M520.912,-296.9465C532.515,-287.519 545.2221,-277.1946 557.2259,-267.4415\"/>\n<polygon fill=\"#000000\" stroke=\"#000000\" points=\"559.4398,-270.1524 564.9939,-261.13 555.0256,-264.7196 559.4398,-270.1524\"/>\n<text text-anchor=\"middle\" x=\"562.4214\" y=\"-282.2973\" font-family=\"Helvetica,sans-Serif\" font-size=\"14.00\" fill=\"#000000\">False</text>\n</g>\n<!-- 2 -->\n<g id=\"node3\" class=\"node\">\n<title>2</title>\n<path fill=\"#e5833c\" stroke=\"#000000\" d=\"M222,-157C222,-157 134,-157 134,-157 128,-157 122,-151 122,-145 122,-145 122,-101 122,-101 122,-95 128,-89 134,-89 134,-89 222,-89 222,-89 228,-89 234,-95 234,-101 234,-101 234,-145 234,-145 234,-151 228,-157 222,-157\"/>\n<text text-anchor=\"start\" x=\"133.5\" y=\"-141.8\" font-family=\"Helvetica,sans-Serif\" font-size=\"14.00\" fill=\"#000000\">Lname ≤ 15.5</text>\n<text text-anchor=\"start\" x=\"137.5\" y=\"-126.8\" font-family=\"Helvetica,sans-Serif\" font-size=\"14.00\" fill=\"#000000\">mse = 0.054</text>\n<text text-anchor=\"start\" x=\"130\" y=\"-111.8\" font-family=\"Helvetica,sans-Serif\" font-size=\"14.00\" fill=\"#000000\">samples = 139</text>\n<text text-anchor=\"start\" x=\"134\" y=\"-96.8\" font-family=\"Helvetica,sans-Serif\" font-size=\"14.00\" fill=\"#000000\">value = 0.942</text>\n</g>\n<!-- 1&#45;&gt;2 -->\n<g id=\"edge2\" class=\"edge\">\n<title>1&#45;&gt;2</title>\n<path fill=\"none\" stroke=\"#000000\" d=\"M304.6007,-194.948C285.1152,-183.8742 263.1264,-171.3779 243.0077,-159.9442\"/>\n<polygon fill=\"#000000\" stroke=\"#000000\" points=\"244.6365,-156.8442 234.213,-154.9462 241.1778,-162.9301 244.6365,-156.8442\"/>\n</g>\n<!-- 5 -->\n<g id=\"node6\" class=\"node\">\n<title>5</title>\n<path fill=\"#f3c3a0\" stroke=\"#000000\" d=\"M408.5,-157C408.5,-157 313.5,-157 313.5,-157 307.5,-157 301.5,-151 301.5,-145 301.5,-145 301.5,-101 301.5,-101 301.5,-95 307.5,-89 313.5,-89 313.5,-89 408.5,-89 408.5,-89 414.5,-89 420.5,-95 420.5,-101 420.5,-101 420.5,-145 420.5,-145 420.5,-151 414.5,-157 408.5,-157\"/>\n<text text-anchor=\"start\" x=\"309.5\" y=\"-141.8\" font-family=\"Helvetica,sans-Serif\" font-size=\"14.00\" fill=\"#000000\">Embarked ≤ 1.5</text>\n<text text-anchor=\"start\" x=\"324.5\" y=\"-126.8\" font-family=\"Helvetica,sans-Serif\" font-size=\"14.00\" fill=\"#000000\">mse = 0.25</text>\n<text text-anchor=\"start\" x=\"313\" y=\"-111.8\" font-family=\"Helvetica,sans-Serif\" font-size=\"14.00\" fill=\"#000000\">samples = 114</text>\n<text text-anchor=\"start\" x=\"317\" y=\"-96.8\" font-family=\"Helvetica,sans-Serif\" font-size=\"14.00\" fill=\"#000000\">value = 0.491</text>\n</g>\n<!-- 1&#45;&gt;5 -->\n<g id=\"edge5\" class=\"edge\">\n<title>1&#45;&gt;5</title>\n<path fill=\"none\" stroke=\"#000000\" d=\"M361,-192.9465C361,-184.776 361,-175.9318 361,-167.3697\"/>\n<polygon fill=\"#000000\" stroke=\"#000000\" points=\"364.5001,-167.13 361,-157.13 357.5001,-167.13 364.5001,-167.13\"/>\n</g>\n<!-- 3 -->\n<g id=\"node4\" class=\"node\">\n<title>3</title>\n<path fill=\"#f7d9c3\" stroke=\"#000000\" d=\"M92,-53C92,-53 12,-53 12,-53 6,-53 0,-47 0,-41 0,-41 0,-12 0,-12 0,-6 6,0 12,0 12,0 92,0 92,0 98,0 104,-6 104,-12 104,-12 104,-41 104,-41 104,-47 98,-53 92,-53\"/>\n<text text-anchor=\"start\" x=\"11.5\" y=\"-37.8\" font-family=\"Helvetica,sans-Serif\" font-size=\"14.00\" fill=\"#000000\">mse = 0.222</text>\n<text text-anchor=\"start\" x=\"12.5\" y=\"-22.8\" font-family=\"Helvetica,sans-Serif\" font-size=\"14.00\" fill=\"#000000\">samples = 3</text>\n<text text-anchor=\"start\" x=\"8\" y=\"-7.8\" font-family=\"Helvetica,sans-Serif\" font-size=\"14.00\" fill=\"#000000\">value = 0.333</text>\n</g>\n<!-- 2&#45;&gt;3 -->\n<g id=\"edge3\" class=\"edge\">\n<title>2&#45;&gt;3</title>\n<path fill=\"none\" stroke=\"#000000\" d=\"M133.5771,-88.9777C121.023,-79.3629 107.3881,-68.9203 94.924,-59.3743\"/>\n<polygon fill=\"#000000\" stroke=\"#000000\" points=\"96.9927,-56.5502 86.9255,-53.2485 92.7365,-62.1076 96.9927,-56.5502\"/>\n</g>\n<!-- 4 -->\n<g id=\"node5\" class=\"node\">\n<title>4</title>\n<path fill=\"#e58139\" stroke=\"#000000\" d=\"M222,-53C222,-53 134,-53 134,-53 128,-53 122,-47 122,-41 122,-41 122,-12 122,-12 122,-6 128,0 134,0 134,0 222,0 222,0 228,0 234,-6 234,-12 234,-12 234,-41 234,-41 234,-47 228,-53 222,-53\"/>\n<text text-anchor=\"start\" x=\"137.5\" y=\"-37.8\" font-family=\"Helvetica,sans-Serif\" font-size=\"14.00\" fill=\"#000000\">mse = 0.042</text>\n<text text-anchor=\"start\" x=\"130\" y=\"-22.8\" font-family=\"Helvetica,sans-Serif\" font-size=\"14.00\" fill=\"#000000\">samples = 136</text>\n<text text-anchor=\"start\" x=\"134\" y=\"-7.8\" font-family=\"Helvetica,sans-Serif\" font-size=\"14.00\" fill=\"#000000\">value = 0.956</text>\n</g>\n<!-- 2&#45;&gt;4 -->\n<g id=\"edge4\" class=\"edge\">\n<title>2&#45;&gt;4</title>\n<path fill=\"none\" stroke=\"#000000\" d=\"M178,-88.9777C178,-80.7364 178,-71.887 178,-63.5153\"/>\n<polygon fill=\"#000000\" stroke=\"#000000\" points=\"181.5001,-63.2484 178,-53.2485 174.5001,-63.2485 181.5001,-63.2484\"/>\n</g>\n<!-- 6 -->\n<g id=\"node7\" class=\"node\">\n<title>6</title>\n<path fill=\"#eda876\" stroke=\"#000000\" d=\"M344,-53C344,-53 264,-53 264,-53 258,-53 252,-47 252,-41 252,-41 252,-12 252,-12 252,-6 258,0 264,0 264,0 344,0 344,0 350,0 356,-6 356,-12 356,-12 356,-41 356,-41 356,-47 350,-53 344,-53\"/>\n<text text-anchor=\"start\" x=\"263.5\" y=\"-37.8\" font-family=\"Helvetica,sans-Serif\" font-size=\"14.00\" fill=\"#000000\">mse = 0.217</text>\n<text text-anchor=\"start\" x=\"260\" y=\"-22.8\" font-family=\"Helvetica,sans-Serif\" font-size=\"14.00\" fill=\"#000000\">samples = 44</text>\n<text text-anchor=\"start\" x=\"260\" y=\"-7.8\" font-family=\"Helvetica,sans-Serif\" font-size=\"14.00\" fill=\"#000000\">value = 0.682</text>\n</g>\n<!-- 5&#45;&gt;6 -->\n<g id=\"edge6\" class=\"edge\">\n<title>5&#45;&gt;6</title>\n<path fill=\"none\" stroke=\"#000000\" d=\"M340.9039,-88.9777C335.7656,-80.2786 330.227,-70.9018 325.0425,-62.1247\"/>\n<polygon fill=\"#000000\" stroke=\"#000000\" points=\"327.899,-60.0786 319.7996,-53.2485 321.8719,-63.6387 327.899,-60.0786\"/>\n</g>\n<!-- 7 -->\n<g id=\"node8\" class=\"node\">\n<title>7</title>\n<path fill=\"#f6d3bb\" stroke=\"#000000\" d=\"M466,-53C466,-53 386,-53 386,-53 380,-53 374,-47 374,-41 374,-41 374,-12 374,-12 374,-6 380,0 386,0 386,0 466,0 466,0 472,0 478,-6 478,-12 478,-12 478,-41 478,-41 478,-47 472,-53 466,-53\"/>\n<text text-anchor=\"start\" x=\"385.5\" y=\"-37.8\" font-family=\"Helvetica,sans-Serif\" font-size=\"14.00\" fill=\"#000000\">mse = 0.233</text>\n<text text-anchor=\"start\" x=\"382\" y=\"-22.8\" font-family=\"Helvetica,sans-Serif\" font-size=\"14.00\" fill=\"#000000\">samples = 70</text>\n<text text-anchor=\"start\" x=\"382\" y=\"-7.8\" font-family=\"Helvetica,sans-Serif\" font-size=\"14.00\" fill=\"#000000\">value = 0.371</text>\n</g>\n<!-- 5&#45;&gt;7 -->\n<g id=\"edge7\" class=\"edge\">\n<title>5&#45;&gt;7</title>\n<path fill=\"none\" stroke=\"#000000\" d=\"M383.9166,-88.9777C389.8994,-80.0954 396.3582,-70.5067 402.377,-61.5711\"/>\n<polygon fill=\"#000000\" stroke=\"#000000\" points=\"405.2991,-63.4978 407.9829,-53.2485 399.4933,-59.5871 405.2991,-63.4978\"/>\n</g>\n<!-- 9 -->\n<g id=\"node10\" class=\"node\">\n<title>9</title>\n<path fill=\"#f2be99\" stroke=\"#000000\" d=\"M647,-157C647,-157 567,-157 567,-157 561,-157 555,-151 555,-145 555,-145 555,-101 555,-101 555,-95 561,-89 567,-89 567,-89 647,-89 647,-89 653,-89 659,-95 659,-101 659,-101 659,-145 659,-145 659,-151 653,-157 647,-157\"/>\n<text text-anchor=\"start\" x=\"569.5\" y=\"-141.8\" font-family=\"Helvetica,sans-Serif\" font-size=\"14.00\" fill=\"#000000\">SibSp ≤ 2.5</text>\n<text text-anchor=\"start\" x=\"566.5\" y=\"-126.8\" font-family=\"Helvetica,sans-Serif\" font-size=\"14.00\" fill=\"#000000\">mse = 0.249</text>\n<text text-anchor=\"start\" x=\"563\" y=\"-111.8\" font-family=\"Helvetica,sans-Serif\" font-size=\"14.00\" fill=\"#000000\">samples = 44</text>\n<text text-anchor=\"start\" x=\"563\" y=\"-96.8\" font-family=\"Helvetica,sans-Serif\" font-size=\"14.00\" fill=\"#000000\">value = 0.523</text>\n</g>\n<!-- 8&#45;&gt;9 -->\n<g id=\"edge9\" class=\"edge\">\n<title>8&#45;&gt;9</title>\n<path fill=\"none\" stroke=\"#000000\" d=\"M607,-192.9465C607,-184.776 607,-175.9318 607,-167.3697\"/>\n<polygon fill=\"#000000\" stroke=\"#000000\" points=\"610.5001,-167.13 607,-157.13 603.5001,-167.13 610.5001,-167.13\"/>\n</g>\n<!-- 12 -->\n<g id=\"node13\" class=\"node\">\n<title>12</title>\n<path fill=\"#fcf0e7\" stroke=\"#000000\" d=\"M836,-157C836,-157 748,-157 748,-157 742,-157 736,-151 736,-145 736,-145 736,-101 736,-101 736,-95 742,-89 748,-89 748,-89 836,-89 836,-89 842,-89 848,-95 848,-101 848,-101 848,-145 848,-145 848,-151 842,-157 836,-157\"/>\n<text text-anchor=\"start\" x=\"752.5\" y=\"-141.8\" font-family=\"Helvetica,sans-Serif\" font-size=\"14.00\" fill=\"#000000\">Pclass ≤ 1.5</text>\n<text text-anchor=\"start\" x=\"751.5\" y=\"-126.8\" font-family=\"Helvetica,sans-Serif\" font-size=\"14.00\" fill=\"#000000\">mse = 0.142</text>\n<text text-anchor=\"start\" x=\"744\" y=\"-111.8\" font-family=\"Helvetica,sans-Serif\" font-size=\"14.00\" fill=\"#000000\">samples = 415</text>\n<text text-anchor=\"start\" x=\"748\" y=\"-96.8\" font-family=\"Helvetica,sans-Serif\" font-size=\"14.00\" fill=\"#000000\">value = 0.171</text>\n</g>\n<!-- 8&#45;&gt;12 -->\n<g id=\"edge12\" class=\"edge\">\n<title>8&#45;&gt;12</title>\n<path fill=\"none\" stroke=\"#000000\" d=\"M667.5759,-192.9465C686.675,-182.2098 707.8436,-170.3095 727.2234,-159.4149\"/>\n<polygon fill=\"#000000\" stroke=\"#000000\" points=\"728.9861,-162.4393 735.9879,-154.4879 725.5558,-156.3373 728.9861,-162.4393\"/>\n</g>\n<!-- 10 -->\n<g id=\"node11\" class=\"node\">\n<title>10</title>\n<path fill=\"#ea995f\" stroke=\"#000000\" d=\"M588,-53C588,-53 508,-53 508,-53 502,-53 496,-47 496,-41 496,-41 496,-12 496,-12 496,-6 502,0 508,0 508,0 588,0 588,0 594,0 600,-6 600,-12 600,-12 600,-41 600,-41 600,-47 594,-53 588,-53\"/>\n<text text-anchor=\"start\" x=\"507.5\" y=\"-37.8\" font-family=\"Helvetica,sans-Serif\" font-size=\"14.00\" fill=\"#000000\">mse = 0.168</text>\n<text text-anchor=\"start\" x=\"504\" y=\"-22.8\" font-family=\"Helvetica,sans-Serif\" font-size=\"14.00\" fill=\"#000000\">samples = 28</text>\n<text text-anchor=\"start\" x=\"504\" y=\"-7.8\" font-family=\"Helvetica,sans-Serif\" font-size=\"14.00\" fill=\"#000000\">value = 0.786</text>\n</g>\n<!-- 9&#45;&gt;10 -->\n<g id=\"edge10\" class=\"edge\">\n<title>9&#45;&gt;10</title>\n<path fill=\"none\" stroke=\"#000000\" d=\"M586.1988,-88.9777C580.8242,-80.187 575.0265,-70.7044 569.6115,-61.8477\"/>\n<polygon fill=\"#000000\" stroke=\"#000000\" points=\"572.5564,-59.9545 564.354,-53.2485 566.5842,-63.6059 572.5564,-59.9545\"/>\n</g>\n<!-- 11 -->\n<g id=\"node12\" class=\"node\">\n<title>11</title>\n<path fill=\"#ffffff\" stroke=\"#000000\" d=\"M710,-53C710,-53 630,-53 630,-53 624,-53 618,-47 618,-41 618,-41 618,-12 618,-12 618,-6 624,0 630,0 630,0 710,0 710,0 716,0 722,-6 722,-12 722,-12 722,-41 722,-41 722,-47 716,-53 710,-53\"/>\n<text text-anchor=\"start\" x=\"629.5\" y=\"-37.8\" font-family=\"Helvetica,sans-Serif\" font-size=\"14.00\" fill=\"#000000\">mse = 0.059</text>\n<text text-anchor=\"start\" x=\"626\" y=\"-22.8\" font-family=\"Helvetica,sans-Serif\" font-size=\"14.00\" fill=\"#000000\">samples = 16</text>\n<text text-anchor=\"start\" x=\"626\" y=\"-7.8\" font-family=\"Helvetica,sans-Serif\" font-size=\"14.00\" fill=\"#000000\">value = 0.062</text>\n</g>\n<!-- 9&#45;&gt;11 -->\n<g id=\"edge11\" class=\"edge\">\n<title>9&#45;&gt;11</title>\n<path fill=\"none\" stroke=\"#000000\" d=\"M629.2114,-88.9777C634.9504,-80.187 641.1412,-70.7044 646.9233,-61.8477\"/>\n<polygon fill=\"#000000\" stroke=\"#000000\" points=\"650.0013,-63.5354 652.5373,-53.2485 644.1398,-59.7087 650.0013,-63.5354\"/>\n</g>\n<!-- 13 -->\n<g id=\"node14\" class=\"node\">\n<title>13</title>\n<path fill=\"#f6d5bc\" stroke=\"#000000\" d=\"M832,-53C832,-53 752,-53 752,-53 746,-53 740,-47 740,-41 740,-41 740,-12 740,-12 740,-6 746,0 752,0 752,0 832,0 832,0 838,0 844,-6 844,-12 844,-12 844,-41 844,-41 844,-47 838,-53 832,-53\"/>\n<text text-anchor=\"start\" x=\"751.5\" y=\"-37.8\" font-family=\"Helvetica,sans-Serif\" font-size=\"14.00\" fill=\"#000000\">mse = 0.231</text>\n<text text-anchor=\"start\" x=\"748\" y=\"-22.8\" font-family=\"Helvetica,sans-Serif\" font-size=\"14.00\" fill=\"#000000\">samples = 88</text>\n<text text-anchor=\"start\" x=\"748\" y=\"-7.8\" font-family=\"Helvetica,sans-Serif\" font-size=\"14.00\" fill=\"#000000\">value = 0.364</text>\n</g>\n<!-- 12&#45;&gt;13 -->\n<g id=\"edge13\" class=\"edge\">\n<title>12&#45;&gt;13</title>\n<path fill=\"none\" stroke=\"#000000\" d=\"M792,-88.9777C792,-80.7364 792,-71.887 792,-63.5153\"/>\n<polygon fill=\"#000000\" stroke=\"#000000\" points=\"795.5001,-63.2484 792,-53.2485 788.5001,-63.2485 795.5001,-63.2484\"/>\n</g>\n<!-- 14 -->\n<g id=\"node15\" class=\"node\">\n<title>14</title>\n<path fill=\"#fdf7f2\" stroke=\"#000000\" d=\"M962,-53C962,-53 874,-53 874,-53 868,-53 862,-47 862,-41 862,-41 862,-12 862,-12 862,-6 868,0 874,0 874,0 962,0 962,0 968,0 974,-6 974,-12 974,-12 974,-41 974,-41 974,-47 968,-53 962,-53\"/>\n<text text-anchor=\"start\" x=\"877.5\" y=\"-37.8\" font-family=\"Helvetica,sans-Serif\" font-size=\"14.00\" fill=\"#000000\">mse = 0.105</text>\n<text text-anchor=\"start\" x=\"870\" y=\"-22.8\" font-family=\"Helvetica,sans-Serif\" font-size=\"14.00\" fill=\"#000000\">samples = 327</text>\n<text text-anchor=\"start\" x=\"874\" y=\"-7.8\" font-family=\"Helvetica,sans-Serif\" font-size=\"14.00\" fill=\"#000000\">value = 0.119</text>\n</g>\n<!-- 12&#45;&gt;14 -->\n<g id=\"edge14\" class=\"edge\">\n<title>12&#45;&gt;14</title>\n<path fill=\"none\" stroke=\"#000000\" d=\"M836.4229,-88.9777C848.977,-79.3629 862.6119,-68.9203 875.076,-59.3743\"/>\n<polygon fill=\"#000000\" stroke=\"#000000\" points=\"877.2635,-62.1076 883.0745,-53.2485 873.0073,-56.5502 877.2635,-62.1076\"/>\n</g>\n</g>\n</svg>\n"
          },
          "metadata": {
            "tags": []
          },
          "execution_count": 42
        }
      ]
    },
    {
      "cell_type": "markdown",
      "metadata": {
        "id": "oZSehI8c5fOp",
        "colab_type": "text"
      },
      "source": [
        "**REGRESION LINEAL CON ARBOL DE DESCICION** PETROL"
      ]
    },
    {
      "cell_type": "code",
      "metadata": {
        "id": "bDJAoAMN5LiO",
        "colab_type": "code",
        "colab": {}
      },
      "source": [
        "import pandas as pd\n"
      ],
      "execution_count": 0,
      "outputs": []
    },
    {
      "cell_type": "code",
      "metadata": {
        "id": "DzFgH8E35WLy",
        "colab_type": "code",
        "colab": {
          "base_uri": "https://localhost:8080/",
          "height": 197
        },
        "outputId": "828294e3-2b61-481e-caaf-35bfdee00fc1"
      },
      "source": [
        "df=pd.read_csv(\"petrol_consumption.csv\")\n",
        "df.head()"
      ],
      "execution_count": 44,
      "outputs": [
        {
          "output_type": "execute_result",
          "data": {
            "text/html": [
              "<div>\n",
              "<style scoped>\n",
              "    .dataframe tbody tr th:only-of-type {\n",
              "        vertical-align: middle;\n",
              "    }\n",
              "\n",
              "    .dataframe tbody tr th {\n",
              "        vertical-align: top;\n",
              "    }\n",
              "\n",
              "    .dataframe thead th {\n",
              "        text-align: right;\n",
              "    }\n",
              "</style>\n",
              "<table border=\"1\" class=\"dataframe\">\n",
              "  <thead>\n",
              "    <tr style=\"text-align: right;\">\n",
              "      <th></th>\n",
              "      <th>Petrol_tax</th>\n",
              "      <th>Average_income</th>\n",
              "      <th>Paved_Highways</th>\n",
              "      <th>Population_Driver_licence(%)</th>\n",
              "      <th>Petrol_Consumption</th>\n",
              "    </tr>\n",
              "  </thead>\n",
              "  <tbody>\n",
              "    <tr>\n",
              "      <th>0</th>\n",
              "      <td>9.0</td>\n",
              "      <td>3571</td>\n",
              "      <td>1976</td>\n",
              "      <td>0.525</td>\n",
              "      <td>541</td>\n",
              "    </tr>\n",
              "    <tr>\n",
              "      <th>1</th>\n",
              "      <td>9.0</td>\n",
              "      <td>4092</td>\n",
              "      <td>1250</td>\n",
              "      <td>0.572</td>\n",
              "      <td>524</td>\n",
              "    </tr>\n",
              "    <tr>\n",
              "      <th>2</th>\n",
              "      <td>9.0</td>\n",
              "      <td>3865</td>\n",
              "      <td>1586</td>\n",
              "      <td>0.580</td>\n",
              "      <td>561</td>\n",
              "    </tr>\n",
              "    <tr>\n",
              "      <th>3</th>\n",
              "      <td>7.5</td>\n",
              "      <td>4870</td>\n",
              "      <td>2351</td>\n",
              "      <td>0.529</td>\n",
              "      <td>414</td>\n",
              "    </tr>\n",
              "    <tr>\n",
              "      <th>4</th>\n",
              "      <td>8.0</td>\n",
              "      <td>4399</td>\n",
              "      <td>431</td>\n",
              "      <td>0.544</td>\n",
              "      <td>410</td>\n",
              "    </tr>\n",
              "  </tbody>\n",
              "</table>\n",
              "</div>"
            ],
            "text/plain": [
              "   Petrol_tax  Average_income  ...  Population_Driver_licence(%)  Petrol_Consumption\n",
              "0         9.0            3571  ...                         0.525                 541\n",
              "1         9.0            4092  ...                         0.572                 524\n",
              "2         9.0            3865  ...                         0.580                 561\n",
              "3         7.5            4870  ...                         0.529                 414\n",
              "4         8.0            4399  ...                         0.544                 410\n",
              "\n",
              "[5 rows x 5 columns]"
            ]
          },
          "metadata": {
            "tags": []
          },
          "execution_count": 44
        }
      ]
    },
    {
      "cell_type": "code",
      "metadata": {
        "id": "MOwud4u052Hw",
        "colab_type": "code",
        "colab": {}
      },
      "source": [
        "x = df.drop('Petrol_Consumption', axis=1)\n",
        "y = df['Petrol_Consumption']"
      ],
      "execution_count": 0,
      "outputs": []
    },
    {
      "cell_type": "code",
      "metadata": {
        "id": "EwVfQNK36M6a",
        "colab_type": "code",
        "colab": {
          "base_uri": "https://localhost:8080/",
          "height": 52
        },
        "outputId": "330db628-a5f9-4895-8532-98c6e1ab329e"
      },
      "source": [
        "from sklearn.model_selection import train_test_split\n",
        "\n",
        "# Usamos método \"train_test_split\" para usar el 20% de la data para validar el modelo.\n",
        "# El parámetro \"random state\" nos sirve para poder replicar la misma separación.\n",
        "#tes_size mayor, entonces la formacion de arbol es menor\n",
        "x_train, x_val, y_train, y_val = train_test_split(x, y, test_size=0.2) # random_state=11,  random_state=42 la data es fija para cada corrida, sin esto es aleatorio cambiante\n",
        "print('Train shape: ',x_train.shape)\n",
        "print('Validation shape: ',x_val.shape)"
      ],
      "execution_count": 62,
      "outputs": [
        {
          "output_type": "stream",
          "text": [
            "Train shape:  (38, 4)\n",
            "Validation shape:  (10, 4)\n"
          ],
          "name": "stdout"
        }
      ]
    },
    {
      "cell_type": "code",
      "metadata": {
        "id": "rM6SVfY36am8",
        "colab_type": "code",
        "colab": {}
      },
      "source": [
        "from sklearn.tree import DecisionTreeRegressor"
      ],
      "execution_count": 0,
      "outputs": []
    },
    {
      "cell_type": "code",
      "metadata": {
        "id": "GLtp8Zj46fxk",
        "colab_type": "code",
        "colab": {}
      },
      "source": [
        "regresion = DecisionTreeRegressor() # max_depth = 3 eliminado\n",
        "regresion = regresion.fit (x_train, y_train)"
      ],
      "execution_count": 0,
      "outputs": []
    },
    {
      "cell_type": "code",
      "metadata": {
        "id": "zAWBcIFA6kdm",
        "colab_type": "code",
        "colab": {
          "base_uri": "https://localhost:8080/",
          "height": 34
        },
        "outputId": "7b1481f3-e1f0-4a23-99a9-e391c467ed18"
      },
      "source": [
        "regresion.score(x_train,y_train)"
      ],
      "execution_count": 71,
      "outputs": [
        {
          "output_type": "execute_result",
          "data": {
            "text/plain": [
              "1.0"
            ]
          },
          "metadata": {
            "tags": []
          },
          "execution_count": 71
        }
      ]
    },
    {
      "cell_type": "code",
      "metadata": {
        "id": "xh70JIo766e1",
        "colab_type": "code",
        "colab": {
          "base_uri": "https://localhost:8080/",
          "height": 34
        },
        "outputId": "a522a9f4-9217-4c3a-ec4c-9955cf8c2378"
      },
      "source": [
        "regresion.score(x_val,y_val)"
      ],
      "execution_count": 72,
      "outputs": [
        {
          "output_type": "execute_result",
          "data": {
            "text/plain": [
              "0.8364921953137051"
            ]
          },
          "metadata": {
            "tags": []
          },
          "execution_count": 72
        }
      ]
    },
    {
      "cell_type": "markdown",
      "metadata": {
        "id": "E6NTTHJ58MN1",
        "colab_type": "text"
      },
      "source": [
        "DATA DE CLASIFICACION"
      ]
    },
    {
      "cell_type": "code",
      "metadata": {
        "id": "2PTTYP-_8Q3E",
        "colab_type": "code",
        "colab": {
          "base_uri": "https://localhost:8080/",
          "height": 34
        },
        "outputId": "462d70fb-ebbc-40b6-9ee8-5673d8eecba9"
      },
      "source": [
        "regresion.predict(x_val)"
      ],
      "execution_count": 74,
      "outputs": [
        {
          "output_type": "execute_result",
          "data": {
            "text/plain": [
              "array([574., 464., 457., 574., 510., 714., 498., 561., 566., 628.])"
            ]
          },
          "metadata": {
            "tags": []
          },
          "execution_count": 74
        }
      ]
    },
    {
      "cell_type": "code",
      "metadata": {
        "id": "19XB4xRSF6Rk",
        "colab_type": "code",
        "colab": {
          "base_uri": "https://localhost:8080/",
          "height": 212
        },
        "outputId": "de2c5ccf-5c5f-411f-93c9-592f72a91459"
      },
      "source": [
        "y_val"
      ],
      "execution_count": 75,
      "outputs": [
        {
          "output_type": "execute_result",
          "data": {
            "text/plain": [
              "42    632\n",
              "3     414\n",
              "7     467\n",
              "46    610\n",
              "24    460\n",
              "41    699\n",
              "8     464\n",
              "1     524\n",
              "0     541\n",
              "27    631\n",
              "Name: Petrol_Consumption, dtype: int64"
            ]
          },
          "metadata": {
            "tags": []
          },
          "execution_count": 75
        }
      ]
    }
  ]
}