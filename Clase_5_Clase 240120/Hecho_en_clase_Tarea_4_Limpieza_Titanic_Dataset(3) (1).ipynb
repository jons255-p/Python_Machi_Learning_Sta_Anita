{
  "nbformat": 4,
  "nbformat_minor": 0,
  "metadata": {
    "colab": {
      "name": "Tarea_4_Limpieza_Titanic_Dataset(3).ipynb",
      "provenance": [],
      "collapsed_sections": [],
      "toc_visible": true
    },
    "kernelspec": {
      "name": "python3",
      "display_name": "Python 3"
    }
  },
  "cells": [
    {
      "cell_type": "markdown",
      "metadata": {
        "id": "Azdk17IVmevp",
        "colab_type": "text"
      },
      "source": [
        "#Titanic Dataset"
      ]
    },
    {
      "cell_type": "markdown",
      "metadata": {
        "id": "oHEz1MvNp6FS",
        "colab_type": "text"
      },
      "source": [
        "La tarea de esta semana consiste en preprocesar el dataset del Titanic, puede consultar la imagen \"Diccionario de datos\" para mayor detalle sobre los atributos utilizados"
      ]
    },
    {
      "cell_type": "code",
      "metadata": {
        "id": "IuhVezvgmNOq",
        "colab_type": "code",
        "colab": {}
      },
      "source": [
        "import pandas as pd\n",
        "import numpy as np"
      ],
      "execution_count": 0,
      "outputs": []
    },
    {
      "cell_type": "markdown",
      "metadata": {
        "id": "JufDDgZ-mo90",
        "colab_type": "text"
      },
      "source": [
        "###1. Importar el archivo \"titanic-data.csv\" con la librería pandas y mostrar los 5 primeros datos"
      ]
    },
    {
      "cell_type": "code",
      "metadata": {
        "id": "iGGRlmVYmnlE",
        "colab_type": "code",
        "outputId": "4a0a30ec-4fcb-4a62-ad1a-2615773d3676",
        "colab": {
          "base_uri": "https://localhost:8080/",
          "height": 484
        }
      },
      "source": [
        "data = pd.read_csv(\"titanic-data.csv\")\n",
        "data.head()"
      ],
      "execution_count": 9,
      "outputs": [
        {
          "output_type": "execute_result",
          "data": {
            "text/html": [
              "<div>\n",
              "<style scoped>\n",
              "    .dataframe tbody tr th:only-of-type {\n",
              "        vertical-align: middle;\n",
              "    }\n",
              "\n",
              "    .dataframe tbody tr th {\n",
              "        vertical-align: top;\n",
              "    }\n",
              "\n",
              "    .dataframe thead th {\n",
              "        text-align: right;\n",
              "    }\n",
              "</style>\n",
              "<table border=\"1\" class=\"dataframe\">\n",
              "  <thead>\n",
              "    <tr style=\"text-align: right;\">\n",
              "      <th></th>\n",
              "      <th>PassengerId</th>\n",
              "      <th>Survived</th>\n",
              "      <th>Pclass</th>\n",
              "      <th>Name</th>\n",
              "      <th>Sex</th>\n",
              "      <th>Age</th>\n",
              "      <th>SibSp</th>\n",
              "      <th>Parch</th>\n",
              "      <th>Ticket</th>\n",
              "      <th>Fare</th>\n",
              "      <th>Cabin</th>\n",
              "      <th>Embarked</th>\n",
              "    </tr>\n",
              "  </thead>\n",
              "  <tbody>\n",
              "    <tr>\n",
              "      <th>0</th>\n",
              "      <td>1</td>\n",
              "      <td>0</td>\n",
              "      <td>3</td>\n",
              "      <td>Braund, Mr. Owen Harris</td>\n",
              "      <td>male</td>\n",
              "      <td>22.0</td>\n",
              "      <td>1</td>\n",
              "      <td>0</td>\n",
              "      <td>A/5 21171</td>\n",
              "      <td>7.2500</td>\n",
              "      <td>NaN</td>\n",
              "      <td>S</td>\n",
              "    </tr>\n",
              "    <tr>\n",
              "      <th>1</th>\n",
              "      <td>2</td>\n",
              "      <td>1</td>\n",
              "      <td>1</td>\n",
              "      <td>Cumings, Mrs. John Bradley (Florence Briggs Th...</td>\n",
              "      <td>female</td>\n",
              "      <td>38.0</td>\n",
              "      <td>1</td>\n",
              "      <td>0</td>\n",
              "      <td>PC 17599</td>\n",
              "      <td>71.2833</td>\n",
              "      <td>C85</td>\n",
              "      <td>C</td>\n",
              "    </tr>\n",
              "    <tr>\n",
              "      <th>2</th>\n",
              "      <td>3</td>\n",
              "      <td>1</td>\n",
              "      <td>3</td>\n",
              "      <td>Heikkinen, Miss. Laina</td>\n",
              "      <td>female</td>\n",
              "      <td>26.0</td>\n",
              "      <td>0</td>\n",
              "      <td>0</td>\n",
              "      <td>STON/O2. 3101282</td>\n",
              "      <td>7.9250</td>\n",
              "      <td>NaN</td>\n",
              "      <td>S</td>\n",
              "    </tr>\n",
              "    <tr>\n",
              "      <th>3</th>\n",
              "      <td>4</td>\n",
              "      <td>1</td>\n",
              "      <td>1</td>\n",
              "      <td>Futrelle, Mrs. Jacques Heath (Lily May Peel)</td>\n",
              "      <td>female</td>\n",
              "      <td>35.0</td>\n",
              "      <td>1</td>\n",
              "      <td>0</td>\n",
              "      <td>113803</td>\n",
              "      <td>53.1000</td>\n",
              "      <td>C123</td>\n",
              "      <td>S</td>\n",
              "    </tr>\n",
              "    <tr>\n",
              "      <th>4</th>\n",
              "      <td>5</td>\n",
              "      <td>0</td>\n",
              "      <td>3</td>\n",
              "      <td>Allen, Mr. William Henry</td>\n",
              "      <td>male</td>\n",
              "      <td>35.0</td>\n",
              "      <td>0</td>\n",
              "      <td>0</td>\n",
              "      <td>373450</td>\n",
              "      <td>8.0500</td>\n",
              "      <td>NaN</td>\n",
              "      <td>S</td>\n",
              "    </tr>\n",
              "  </tbody>\n",
              "</table>\n",
              "</div>"
            ],
            "text/plain": [
              "   PassengerId  Survived  Pclass  ...     Fare Cabin  Embarked\n",
              "0            1         0       3  ...   7.2500   NaN         S\n",
              "1            2         1       1  ...  71.2833   C85         C\n",
              "2            3         1       3  ...   7.9250   NaN         S\n",
              "3            4         1       1  ...  53.1000  C123         S\n",
              "4            5         0       3  ...   8.0500   NaN         S\n",
              "\n",
              "[5 rows x 12 columns]"
            ]
          },
          "metadata": {
            "tags": []
          },
          "execution_count": 9
        }
      ]
    },
    {
      "cell_type": "markdown",
      "metadata": {
        "id": "JRdefKB-uEgA",
        "colab_type": "text"
      },
      "source": [
        "###2. Revise cuantos datos faltantes existen en el dataset"
      ]
    },
    {
      "cell_type": "code",
      "metadata": {
        "id": "Z_1CvV8guP7p",
        "colab_type": "code",
        "outputId": "1118564b-ff55-4cd2-fa0c-839f01a525bd",
        "colab": {
          "base_uri": "https://localhost:8080/"
        }
      },
      "source": [
        "#Funcion .isnull( )\n",
        "data.isnull().sum()"
      ],
      "execution_count": 10,
      "outputs": [
        {
          "output_type": "execute_result",
          "data": {
            "text/plain": [
              "PassengerId      0\n",
              "Survived         0\n",
              "Pclass           0\n",
              "Name             0\n",
              "Sex              0\n",
              "Age            177\n",
              "SibSp            0\n",
              "Parch            0\n",
              "Ticket           0\n",
              "Fare             0\n",
              "Cabin          687\n",
              "Embarked         2\n",
              "dtype: int64"
            ]
          },
          "metadata": {
            "tags": []
          },
          "execution_count": 10
        }
      ]
    },
    {
      "cell_type": "markdown",
      "metadata": {
        "id": "wbOWEXR9vzkN",
        "colab_type": "text"
      },
      "source": [
        "###3. Completando las edades faltantes:"
      ]
    },
    {
      "cell_type": "markdown",
      "metadata": {
        "id": "eBdt6AQ9wQFA",
        "colab_type": "text"
      },
      "source": [
        "####3a. Los datos de la columna \"Age\" que no contienen datos los completaremos con -0.5"
      ]
    },
    {
      "cell_type": "code",
      "metadata": {
        "id": "lMUv1s_Nwh1H",
        "colab_type": "code",
        "colab": {}
      },
      "source": [
        "#Funcion .fillna( )\n",
        "data['Age'] = data['Age'].fillna(-0.5)"
      ],
      "execution_count": 0,
      "outputs": []
    },
    {
      "cell_type": "markdown",
      "metadata": {
        "id": "NFl_H8jDw7Pf",
        "colab_type": "text"
      },
      "source": [
        "####3b. Clasificaremos las edades en los siguientes intervalos:\n",
        "\n"
      ]
    },
    {
      "cell_type": "markdown",
      "metadata": {
        "id": "gEHMDSGAyVBo",
        "colab_type": "text"
      },
      "source": [
        "Unknown: -1 - 0\n",
        "\n",
        "Baby: 0 - 5\n",
        "\n",
        "Child: 5 - 12\n",
        "\n",
        "Teenager: 12 - 18\n",
        "\n",
        "Student: 18 - 25\n",
        "\n",
        "Young Adult: 25 - 35\n",
        "\n",
        "Adult: 35 - 60\n",
        "\n",
        "Senior: 60 - 120"
      ]
    },
    {
      "cell_type": "code",
      "metadata": {
        "id": "F6sI3uqyyYBx",
        "colab_type": "code",
        "colab": {}
      },
      "source": [
        "bins = (-1, 0, 5, 12, 18, 25, 35, 60, 120)\n",
        "group_names = ['Unknown', 'Baby', 'Child', 'Teenager', 'Student', 'Young Adult', 'Adult', 'Senior']\n",
        "categories = pd.cut(data['Age'], bins, labels=group_names)\n",
        "data['Edad'] = categories"
      ],
      "execution_count": 0,
      "outputs": []
    },
    {
      "cell_type": "markdown",
      "metadata": {
        "id": "hvXLOkXvzB76",
        "colab_type": "text"
      },
      "source": [
        "####3c. Eliminamos la columna \"Age\", los datos ya no son necesarios"
      ]
    },
    {
      "cell_type": "code",
      "metadata": {
        "id": "uMB1GsWjzKAS",
        "colab_type": "code",
        "colab": {}
      },
      "source": [
        "del data['Age']"
      ],
      "execution_count": 0,
      "outputs": []
    },
    {
      "cell_type": "markdown",
      "metadata": {
        "id": "nlHf0jzxzR0X",
        "colab_type": "text"
      },
      "source": [
        "###4. Simplificando las tarifas (Fare):"
      ]
    },
    {
      "cell_type": "markdown",
      "metadata": {
        "id": "Ny5XqmiAza-e",
        "colab_type": "text"
      },
      "source": [
        "####4a. Al no contar con una clasificación determinada para la columna \"Fare\", utilizaremos los intervalos que nos proporciona los cuartiles. ¿Cúales son esos intervalos?"
      ]
    },
    {
      "cell_type": "code",
      "metadata": {
        "id": "0UI7S8dhznZY",
        "colab_type": "code",
        "outputId": "c245f173-760d-4102-a5c3-c14762a2298d",
        "colab": {
          "base_uri": "https://localhost:8080/",
          "height": 168
        }
      },
      "source": [
        "data['Fare'].describe()"
      ],
      "execution_count": 14,
      "outputs": [
        {
          "output_type": "execute_result",
          "data": {
            "text/plain": [
              "count    891.000000\n",
              "mean      32.204208\n",
              "std       49.693429\n",
              "min        0.000000\n",
              "25%        7.910400\n",
              "50%       14.454200\n",
              "75%       31.000000\n",
              "max      512.329200\n",
              "Name: Fare, dtype: float64"
            ]
          },
          "metadata": {
            "tags": []
          },
          "execution_count": 14
        }
      ]
    },
    {
      "cell_type": "markdown",
      "metadata": {
        "id": "FQpBPGlt1gZN",
        "colab_type": "text"
      },
      "source": [
        "####4b. Ahora que tenemos los intervalos, clasificaremos la data \"Fare\", utilice nombres a su criterio"
      ]
    },
    {
      "cell_type": "code",
      "metadata": {
        "id": "WcStdy9211Vs",
        "colab_type": "code",
        "colab": {}
      },
      "source": [
        "bins = (0, 8, 15, 31, 513)\n",
        "group_names = ['1_quartile', '2_quartile', '3_quartile', '4_quartile']\n",
        "categories = pd.cut(data['Fare'], bins, labels=group_names,include_lowest=True)\n",
        "data['Tarifa'] = categories"
      ],
      "execution_count": 0,
      "outputs": []
    },
    {
      "cell_type": "markdown",
      "metadata": {
        "id": "FRgY4brd2Brm",
        "colab_type": "text"
      },
      "source": [
        "####4c. La columna \"Fare\" ya no es necesaria"
      ]
    },
    {
      "cell_type": "code",
      "metadata": {
        "id": "6yNXyVds2NK8",
        "colab_type": "code",
        "colab": {}
      },
      "source": [
        "del data['Fare']"
      ],
      "execution_count": 0,
      "outputs": []
    },
    {
      "cell_type": "markdown",
      "metadata": {
        "id": "J8Efr8_72Xh1",
        "colab_type": "text"
      },
      "source": [
        "###5. Dando formato a \"Name\""
      ]
    },
    {
      "cell_type": "markdown",
      "metadata": {
        "id": "Eqmz3n6u7w6Z",
        "colab_type": "text"
      },
      "source": [
        "####5a. En la columna \"Name\" solo es necesario el apellido y el prefijo que acompaña el nombre (Mr.)"
      ]
    },
    {
      "cell_type": "markdown",
      "metadata": {
        "id": "Hf_HHWGD8Enw",
        "colab_type": "text"
      },
      "source": [
        "Ejecutaremos el siguiente código para crear nuevas columnas con esa información:"
      ]
    },
    {
      "cell_type": "code",
      "metadata": {
        "id": "IySq9ujD8Lo_",
        "colab_type": "code",
        "colab": {}
      },
      "source": [
        "#Reemplazar \"data\" por el nombre de su dataset\n",
        "apellido = data['Name'].apply(lambda x: x.split(',')[0])\n",
        "data['Lname'] = apellido"
      ],
      "execution_count": 0,
      "outputs": []
    },
    {
      "cell_type": "markdown",
      "metadata": {
        "id": "6DCfeOLI8gk7",
        "colab_type": "text"
      },
      "source": [
        ".apply( ) -> Función de Pandas que ejecuta una función por cada elemento, en este caso por cada elemento de la columna \"Name\"\n",
        "\n",
        "lambda -> Crea una función de una línea con la variable x\n",
        "\n",
        "x.split('  ') -> Corta un texto con el caracter entre paréntesis\n",
        "\n",
        "Ejecutando el código en una linea:\n",
        "\n",
        "[Braund,  Mr. Owen Harris]\n",
        "\n",
        "Se crea una lista, se selecciona lo que queremos en este caso el apellido se encuentra en la primera posición, por ese motivo colocamos [0]"
      ]
    },
    {
      "cell_type": "code",
      "metadata": {
        "id": "A8YvMWeIButq",
        "colab_type": "code",
        "colab": {}
      },
      "source": [
        "nombre = data['Name'].apply(lambda x: x.split(',')[1])\n",
        "titulo = nombre.apply(lambda x: x.split('.')[0])\n",
        "data['NamePrefix'] = titulo"
      ],
      "execution_count": 0,
      "outputs": []
    },
    {
      "cell_type": "code",
      "metadata": {
        "id": "8QkRhTPXCELO",
        "colab_type": "code",
        "outputId": "ee6cf683-c5c2-4271-970c-6d7cac32060d",
        "colab": {
          "base_uri": "https://localhost:8080/",
          "height": 319
        }
      },
      "source": [
        "data['NamePrefix'].value_counts()"
      ],
      "execution_count": 19,
      "outputs": [
        {
          "output_type": "execute_result",
          "data": {
            "text/plain": [
              " Mr              517\n",
              " Miss            182\n",
              " Mrs             125\n",
              " Master           40\n",
              " Dr                7\n",
              " Rev               6\n",
              " Major             2\n",
              " Mlle              2\n",
              " Col               2\n",
              " Capt              1\n",
              " the Countess      1\n",
              " Ms                1\n",
              " Jonkheer          1\n",
              " Mme               1\n",
              " Sir               1\n",
              " Lady              1\n",
              " Don               1\n",
              "Name: NamePrefix, dtype: int64"
            ]
          },
          "metadata": {
            "tags": []
          },
          "execution_count": 19
        }
      ]
    },
    {
      "cell_type": "markdown",
      "metadata": {
        "id": "bcJe63eW-CE_",
        "colab_type": "text"
      },
      "source": [
        "####5b. La columna \"Name\" ya no es necesaria"
      ]
    },
    {
      "cell_type": "code",
      "metadata": {
        "id": "pTMaufvp-Bdz",
        "colab_type": "code",
        "colab": {}
      },
      "source": [
        "del data['Name']"
      ],
      "execution_count": 0,
      "outputs": []
    },
    {
      "cell_type": "markdown",
      "metadata": {
        "id": "S1TpD6gz-Y-4",
        "colab_type": "text"
      },
      "source": [
        "###6. Completando datos faltantes en \"Embarked\""
      ]
    },
    {
      "cell_type": "markdown",
      "metadata": {
        "id": "264a6m4c-d_J",
        "colab_type": "text"
      },
      "source": [
        "Como hemos visto al comienzo del cuaderno, son 2 los datos faltantes en la columna \"Embarked\", como son letras no podemos llenarlo con la media, para eso completaremos estos datos con la letra que tenga mayor número de datos"
      ]
    },
    {
      "cell_type": "markdown",
      "metadata": {
        "id": "wF9uypf3DJDp",
        "colab_type": "text"
      },
      "source": [
        "####6a. Halle la letra que tiene más valores en la columna \"Embarked\""
      ]
    },
    {
      "cell_type": "code",
      "metadata": {
        "id": "WDftnlJNC9U4",
        "colab_type": "code",
        "outputId": "8e1370b0-722c-4f1e-a07a-4cec38ea636b",
        "colab": {
          "base_uri": "https://localhost:8080/",
          "height": 84
        }
      },
      "source": [
        "data['Embarked'].value_counts()"
      ],
      "execution_count": 21,
      "outputs": [
        {
          "output_type": "execute_result",
          "data": {
            "text/plain": [
              "S    644\n",
              "C    168\n",
              "Q     77\n",
              "Name: Embarked, dtype: int64"
            ]
          },
          "metadata": {
            "tags": []
          },
          "execution_count": 21
        }
      ]
    },
    {
      "cell_type": "markdown",
      "metadata": {
        "id": "OOKZi6tRDP_M",
        "colab_type": "text"
      },
      "source": [
        "####6b. Complete los datos faltantes con la letra hallada en la pregunta anterior"
      ]
    },
    {
      "cell_type": "code",
      "metadata": {
        "id": "VkaAbZzfDQNA",
        "colab_type": "code",
        "colab": {}
      },
      "source": [
        "data['Embarked'] = data['Embarked'].fillna('S')"
      ],
      "execution_count": 0,
      "outputs": []
    },
    {
      "cell_type": "markdown",
      "metadata": {
        "id": "3zsMAsESqbNm",
        "colab_type": "text"
      },
      "source": [
        "###7. ¿Deberian considerarse todos los campos del dataset para analizar la información posteriormente? Justifique"
      ]
    },
    {
      "cell_type": "markdown",
      "metadata": {
        "id": "Y2yLPBwpu2p2",
        "colab_type": "text"
      },
      "source": [
        ""
      ]
    },
    {
      "cell_type": "markdown",
      "metadata": {
        "id": "svhRO36Cu3Yb",
        "colab_type": "text"
      },
      "source": [
        "####8. Según lo respondido en la pregunta anterior: Elimine las columnas de los datos que no serán relevantes para nuestro análisis"
      ]
    },
    {
      "cell_type": "code",
      "metadata": {
        "id": "fZdKJFPXvADE",
        "colab_type": "code",
        "outputId": "cd59b638-44cf-4f03-d458-b837a6021f51",
        "colab": {
          "base_uri": "https://localhost:8080/",
          "height": 266
        }
      },
      "source": [
        "data.head()"
      ],
      "execution_count": 23,
      "outputs": [
        {
          "output_type": "execute_result",
          "data": {
            "text/html": [
              "<div>\n",
              "<style scoped>\n",
              "    .dataframe tbody tr th:only-of-type {\n",
              "        vertical-align: middle;\n",
              "    }\n",
              "\n",
              "    .dataframe tbody tr th {\n",
              "        vertical-align: top;\n",
              "    }\n",
              "\n",
              "    .dataframe thead th {\n",
              "        text-align: right;\n",
              "    }\n",
              "</style>\n",
              "<table border=\"1\" class=\"dataframe\">\n",
              "  <thead>\n",
              "    <tr style=\"text-align: right;\">\n",
              "      <th></th>\n",
              "      <th>PassengerId</th>\n",
              "      <th>Survived</th>\n",
              "      <th>Pclass</th>\n",
              "      <th>Sex</th>\n",
              "      <th>SibSp</th>\n",
              "      <th>Parch</th>\n",
              "      <th>Ticket</th>\n",
              "      <th>Cabin</th>\n",
              "      <th>Embarked</th>\n",
              "      <th>Edad</th>\n",
              "      <th>Tarifa</th>\n",
              "      <th>Lname</th>\n",
              "      <th>NamePrefix</th>\n",
              "    </tr>\n",
              "  </thead>\n",
              "  <tbody>\n",
              "    <tr>\n",
              "      <th>0</th>\n",
              "      <td>1</td>\n",
              "      <td>0</td>\n",
              "      <td>3</td>\n",
              "      <td>male</td>\n",
              "      <td>1</td>\n",
              "      <td>0</td>\n",
              "      <td>A/5 21171</td>\n",
              "      <td>NaN</td>\n",
              "      <td>S</td>\n",
              "      <td>Student</td>\n",
              "      <td>1_quartile</td>\n",
              "      <td>Braund</td>\n",
              "      <td>Mr</td>\n",
              "    </tr>\n",
              "    <tr>\n",
              "      <th>1</th>\n",
              "      <td>2</td>\n",
              "      <td>1</td>\n",
              "      <td>1</td>\n",
              "      <td>female</td>\n",
              "      <td>1</td>\n",
              "      <td>0</td>\n",
              "      <td>PC 17599</td>\n",
              "      <td>C85</td>\n",
              "      <td>C</td>\n",
              "      <td>Adult</td>\n",
              "      <td>4_quartile</td>\n",
              "      <td>Cumings</td>\n",
              "      <td>Mrs</td>\n",
              "    </tr>\n",
              "    <tr>\n",
              "      <th>2</th>\n",
              "      <td>3</td>\n",
              "      <td>1</td>\n",
              "      <td>3</td>\n",
              "      <td>female</td>\n",
              "      <td>0</td>\n",
              "      <td>0</td>\n",
              "      <td>STON/O2. 3101282</td>\n",
              "      <td>NaN</td>\n",
              "      <td>S</td>\n",
              "      <td>Young Adult</td>\n",
              "      <td>1_quartile</td>\n",
              "      <td>Heikkinen</td>\n",
              "      <td>Miss</td>\n",
              "    </tr>\n",
              "    <tr>\n",
              "      <th>3</th>\n",
              "      <td>4</td>\n",
              "      <td>1</td>\n",
              "      <td>1</td>\n",
              "      <td>female</td>\n",
              "      <td>1</td>\n",
              "      <td>0</td>\n",
              "      <td>113803</td>\n",
              "      <td>C123</td>\n",
              "      <td>S</td>\n",
              "      <td>Young Adult</td>\n",
              "      <td>4_quartile</td>\n",
              "      <td>Futrelle</td>\n",
              "      <td>Mrs</td>\n",
              "    </tr>\n",
              "    <tr>\n",
              "      <th>4</th>\n",
              "      <td>5</td>\n",
              "      <td>0</td>\n",
              "      <td>3</td>\n",
              "      <td>male</td>\n",
              "      <td>0</td>\n",
              "      <td>0</td>\n",
              "      <td>373450</td>\n",
              "      <td>NaN</td>\n",
              "      <td>S</td>\n",
              "      <td>Young Adult</td>\n",
              "      <td>2_quartile</td>\n",
              "      <td>Allen</td>\n",
              "      <td>Mr</td>\n",
              "    </tr>\n",
              "  </tbody>\n",
              "</table>\n",
              "</div>"
            ],
            "text/plain": [
              "   PassengerId  Survived  Pclass  ...      Tarifa      Lname  NamePrefix\n",
              "0            1         0       3  ...  1_quartile     Braund          Mr\n",
              "1            2         1       1  ...  4_quartile    Cumings         Mrs\n",
              "2            3         1       3  ...  1_quartile  Heikkinen        Miss\n",
              "3            4         1       1  ...  4_quartile   Futrelle         Mrs\n",
              "4            5         0       3  ...  2_quartile      Allen          Mr\n",
              "\n",
              "[5 rows x 13 columns]"
            ]
          },
          "metadata": {
            "tags": []
          },
          "execution_count": 23
        }
      ]
    },
    {
      "cell_type": "code",
      "metadata": {
        "id": "3U5Fzr-PKbbD",
        "colab_type": "code",
        "colab": {}
      },
      "source": [
        "del data['PassengerId']\n",
        "del data['Ticket']\n",
        "del data['Cabin']"
      ],
      "execution_count": 0,
      "outputs": []
    },
    {
      "cell_type": "code",
      "metadata": {
        "id": "EZfYcMQ66Xtm",
        "colab_type": "code",
        "outputId": "c1a65f16-11eb-40ef-a24d-91f0ea5524ca",
        "colab": {
          "base_uri": "https://localhost:8080/",
          "height": 266
        }
      },
      "source": [
        "data.head()"
      ],
      "execution_count": 25,
      "outputs": [
        {
          "output_type": "execute_result",
          "data": {
            "text/html": [
              "<div>\n",
              "<style scoped>\n",
              "    .dataframe tbody tr th:only-of-type {\n",
              "        vertical-align: middle;\n",
              "    }\n",
              "\n",
              "    .dataframe tbody tr th {\n",
              "        vertical-align: top;\n",
              "    }\n",
              "\n",
              "    .dataframe thead th {\n",
              "        text-align: right;\n",
              "    }\n",
              "</style>\n",
              "<table border=\"1\" class=\"dataframe\">\n",
              "  <thead>\n",
              "    <tr style=\"text-align: right;\">\n",
              "      <th></th>\n",
              "      <th>Survived</th>\n",
              "      <th>Pclass</th>\n",
              "      <th>Sex</th>\n",
              "      <th>SibSp</th>\n",
              "      <th>Parch</th>\n",
              "      <th>Embarked</th>\n",
              "      <th>Edad</th>\n",
              "      <th>Tarifa</th>\n",
              "      <th>Lname</th>\n",
              "      <th>NamePrefix</th>\n",
              "    </tr>\n",
              "  </thead>\n",
              "  <tbody>\n",
              "    <tr>\n",
              "      <th>0</th>\n",
              "      <td>0</td>\n",
              "      <td>3</td>\n",
              "      <td>male</td>\n",
              "      <td>1</td>\n",
              "      <td>0</td>\n",
              "      <td>S</td>\n",
              "      <td>Student</td>\n",
              "      <td>1_quartile</td>\n",
              "      <td>Braund</td>\n",
              "      <td>Mr</td>\n",
              "    </tr>\n",
              "    <tr>\n",
              "      <th>1</th>\n",
              "      <td>1</td>\n",
              "      <td>1</td>\n",
              "      <td>female</td>\n",
              "      <td>1</td>\n",
              "      <td>0</td>\n",
              "      <td>C</td>\n",
              "      <td>Adult</td>\n",
              "      <td>4_quartile</td>\n",
              "      <td>Cumings</td>\n",
              "      <td>Mrs</td>\n",
              "    </tr>\n",
              "    <tr>\n",
              "      <th>2</th>\n",
              "      <td>1</td>\n",
              "      <td>3</td>\n",
              "      <td>female</td>\n",
              "      <td>0</td>\n",
              "      <td>0</td>\n",
              "      <td>S</td>\n",
              "      <td>Young Adult</td>\n",
              "      <td>1_quartile</td>\n",
              "      <td>Heikkinen</td>\n",
              "      <td>Miss</td>\n",
              "    </tr>\n",
              "    <tr>\n",
              "      <th>3</th>\n",
              "      <td>1</td>\n",
              "      <td>1</td>\n",
              "      <td>female</td>\n",
              "      <td>1</td>\n",
              "      <td>0</td>\n",
              "      <td>S</td>\n",
              "      <td>Young Adult</td>\n",
              "      <td>4_quartile</td>\n",
              "      <td>Futrelle</td>\n",
              "      <td>Mrs</td>\n",
              "    </tr>\n",
              "    <tr>\n",
              "      <th>4</th>\n",
              "      <td>0</td>\n",
              "      <td>3</td>\n",
              "      <td>male</td>\n",
              "      <td>0</td>\n",
              "      <td>0</td>\n",
              "      <td>S</td>\n",
              "      <td>Young Adult</td>\n",
              "      <td>2_quartile</td>\n",
              "      <td>Allen</td>\n",
              "      <td>Mr</td>\n",
              "    </tr>\n",
              "  </tbody>\n",
              "</table>\n",
              "</div>"
            ],
            "text/plain": [
              "   Survived  Pclass     Sex  ...      Tarifa      Lname NamePrefix\n",
              "0         0       3    male  ...  1_quartile     Braund         Mr\n",
              "1         1       1  female  ...  4_quartile    Cumings        Mrs\n",
              "2         1       3  female  ...  1_quartile  Heikkinen       Miss\n",
              "3         1       1  female  ...  4_quartile   Futrelle        Mrs\n",
              "4         0       3    male  ...  2_quartile      Allen         Mr\n",
              "\n",
              "[5 rows x 10 columns]"
            ]
          },
          "metadata": {
            "tags": []
          },
          "execution_count": 25
        }
      ]
    },
    {
      "cell_type": "markdown",
      "metadata": {
        "id": "i0irKYXuGjT7",
        "colab_type": "text"
      },
      "source": [
        "**Con esto nuestra data estaría limpia y lista para el análisis**"
      ]
    },
    {
      "cell_type": "markdown",
      "metadata": {
        "id": "lHk0konc6r6M",
        "colab_type": "text"
      },
      "source": [
        "#Label Encoding"
      ]
    },
    {
      "cell_type": "markdown",
      "metadata": {
        "id": "qn79sboD7Rbt",
        "colab_type": "text"
      },
      "source": [
        "Codifica las etiquetas de destino con un valor entre 0 y n_classes-1."
      ]
    },
    {
      "cell_type": "markdown",
      "metadata": {
        "id": "CQ0p2KS37y2Z",
        "colab_type": "text"
      },
      "source": [
        "###Mapear 'Sex'"
      ]
    },
    {
      "cell_type": "code",
      "metadata": {
        "id": "xImDv5gV65jW",
        "colab_type": "code",
        "colab": {}
      },
      "source": [
        "from sklearn import preprocessing"
      ],
      "execution_count": 0,
      "outputs": []
    },
    {
      "cell_type": "code",
      "metadata": {
        "id": "yJpfr-HN1Gwc",
        "colab_type": "code",
        "colab": {}
      },
      "source": [
        "le = preprocessing.LabelEncoder() \n",
        "le = le.fit(data['Sex'])\n",
        "data['Sex'] = le.transform(data['Sex'])"
      ],
      "execution_count": 0,
      "outputs": []
    },
    {
      "cell_type": "code",
      "metadata": {
        "id": "pbyOo8_c4mQb",
        "colab_type": "code",
        "outputId": "6d158b33-11bb-4b9d-b241-0ebcfe062d67",
        "colab": {
          "base_uri": "https://localhost:8080/",
          "height": 67
        }
      },
      "source": [
        "data['Sex'].value_counts()"
      ],
      "execution_count": 28,
      "outputs": [
        {
          "output_type": "execute_result",
          "data": {
            "text/plain": [
              "1    577\n",
              "0    314\n",
              "Name: Sex, dtype: int64"
            ]
          },
          "metadata": {
            "tags": []
          },
          "execution_count": 28
        }
      ]
    },
    {
      "cell_type": "code",
      "metadata": {
        "id": "jGK9ncyf7H-V",
        "colab_type": "code",
        "outputId": "d155c6d8-1eb8-4e52-f133-345662384c00",
        "colab": {
          "base_uri": "https://localhost:8080/",
          "height": 266
        }
      },
      "source": [
        "data.head()"
      ],
      "execution_count": 29,
      "outputs": [
        {
          "output_type": "execute_result",
          "data": {
            "text/html": [
              "<div>\n",
              "<style scoped>\n",
              "    .dataframe tbody tr th:only-of-type {\n",
              "        vertical-align: middle;\n",
              "    }\n",
              "\n",
              "    .dataframe tbody tr th {\n",
              "        vertical-align: top;\n",
              "    }\n",
              "\n",
              "    .dataframe thead th {\n",
              "        text-align: right;\n",
              "    }\n",
              "</style>\n",
              "<table border=\"1\" class=\"dataframe\">\n",
              "  <thead>\n",
              "    <tr style=\"text-align: right;\">\n",
              "      <th></th>\n",
              "      <th>Survived</th>\n",
              "      <th>Pclass</th>\n",
              "      <th>Sex</th>\n",
              "      <th>SibSp</th>\n",
              "      <th>Parch</th>\n",
              "      <th>Embarked</th>\n",
              "      <th>Edad</th>\n",
              "      <th>Tarifa</th>\n",
              "      <th>Lname</th>\n",
              "      <th>NamePrefix</th>\n",
              "    </tr>\n",
              "  </thead>\n",
              "  <tbody>\n",
              "    <tr>\n",
              "      <th>0</th>\n",
              "      <td>0</td>\n",
              "      <td>3</td>\n",
              "      <td>1</td>\n",
              "      <td>1</td>\n",
              "      <td>0</td>\n",
              "      <td>S</td>\n",
              "      <td>Student</td>\n",
              "      <td>1_quartile</td>\n",
              "      <td>Braund</td>\n",
              "      <td>Mr</td>\n",
              "    </tr>\n",
              "    <tr>\n",
              "      <th>1</th>\n",
              "      <td>1</td>\n",
              "      <td>1</td>\n",
              "      <td>0</td>\n",
              "      <td>1</td>\n",
              "      <td>0</td>\n",
              "      <td>C</td>\n",
              "      <td>Adult</td>\n",
              "      <td>4_quartile</td>\n",
              "      <td>Cumings</td>\n",
              "      <td>Mrs</td>\n",
              "    </tr>\n",
              "    <tr>\n",
              "      <th>2</th>\n",
              "      <td>1</td>\n",
              "      <td>3</td>\n",
              "      <td>0</td>\n",
              "      <td>0</td>\n",
              "      <td>0</td>\n",
              "      <td>S</td>\n",
              "      <td>Young Adult</td>\n",
              "      <td>1_quartile</td>\n",
              "      <td>Heikkinen</td>\n",
              "      <td>Miss</td>\n",
              "    </tr>\n",
              "    <tr>\n",
              "      <th>3</th>\n",
              "      <td>1</td>\n",
              "      <td>1</td>\n",
              "      <td>0</td>\n",
              "      <td>1</td>\n",
              "      <td>0</td>\n",
              "      <td>S</td>\n",
              "      <td>Young Adult</td>\n",
              "      <td>4_quartile</td>\n",
              "      <td>Futrelle</td>\n",
              "      <td>Mrs</td>\n",
              "    </tr>\n",
              "    <tr>\n",
              "      <th>4</th>\n",
              "      <td>0</td>\n",
              "      <td>3</td>\n",
              "      <td>1</td>\n",
              "      <td>0</td>\n",
              "      <td>0</td>\n",
              "      <td>S</td>\n",
              "      <td>Young Adult</td>\n",
              "      <td>2_quartile</td>\n",
              "      <td>Allen</td>\n",
              "      <td>Mr</td>\n",
              "    </tr>\n",
              "  </tbody>\n",
              "</table>\n",
              "</div>"
            ],
            "text/plain": [
              "   Survived  Pclass  Sex  SibSp  ...         Edad      Tarifa      Lname NamePrefix\n",
              "0         0       3    1      1  ...      Student  1_quartile     Braund         Mr\n",
              "1         1       1    0      1  ...        Adult  4_quartile    Cumings        Mrs\n",
              "2         1       3    0      0  ...  Young Adult  1_quartile  Heikkinen       Miss\n",
              "3         1       1    0      1  ...  Young Adult  4_quartile   Futrelle        Mrs\n",
              "4         0       3    1      0  ...  Young Adult  2_quartile      Allen         Mr\n",
              "\n",
              "[5 rows x 10 columns]"
            ]
          },
          "metadata": {
            "tags": []
          },
          "execution_count": 29
        }
      ]
    },
    {
      "cell_type": "markdown",
      "metadata": {
        "id": "hgu-a68O7OJm",
        "colab_type": "text"
      },
      "source": [
        "###Invertir Transformación"
      ]
    },
    {
      "cell_type": "code",
      "metadata": {
        "id": "rO7G5FlZ7eMe",
        "colab_type": "code",
        "colab": {}
      },
      "source": [
        "data['Sex'] = le.inverse_transform(data['Sex'])"
      ],
      "execution_count": 0,
      "outputs": []
    },
    {
      "cell_type": "code",
      "metadata": {
        "id": "Ilae-9PJ7i8j",
        "colab_type": "code",
        "outputId": "c613773b-abd3-4f68-cc3e-12b86dfe11ec",
        "colab": {
          "base_uri": "https://localhost:8080/",
          "height": 266
        }
      },
      "source": [
        "data.head()"
      ],
      "execution_count": 31,
      "outputs": [
        {
          "output_type": "execute_result",
          "data": {
            "text/html": [
              "<div>\n",
              "<style scoped>\n",
              "    .dataframe tbody tr th:only-of-type {\n",
              "        vertical-align: middle;\n",
              "    }\n",
              "\n",
              "    .dataframe tbody tr th {\n",
              "        vertical-align: top;\n",
              "    }\n",
              "\n",
              "    .dataframe thead th {\n",
              "        text-align: right;\n",
              "    }\n",
              "</style>\n",
              "<table border=\"1\" class=\"dataframe\">\n",
              "  <thead>\n",
              "    <tr style=\"text-align: right;\">\n",
              "      <th></th>\n",
              "      <th>Survived</th>\n",
              "      <th>Pclass</th>\n",
              "      <th>Sex</th>\n",
              "      <th>SibSp</th>\n",
              "      <th>Parch</th>\n",
              "      <th>Embarked</th>\n",
              "      <th>Edad</th>\n",
              "      <th>Tarifa</th>\n",
              "      <th>Lname</th>\n",
              "      <th>NamePrefix</th>\n",
              "    </tr>\n",
              "  </thead>\n",
              "  <tbody>\n",
              "    <tr>\n",
              "      <th>0</th>\n",
              "      <td>0</td>\n",
              "      <td>3</td>\n",
              "      <td>male</td>\n",
              "      <td>1</td>\n",
              "      <td>0</td>\n",
              "      <td>S</td>\n",
              "      <td>Student</td>\n",
              "      <td>1_quartile</td>\n",
              "      <td>Braund</td>\n",
              "      <td>Mr</td>\n",
              "    </tr>\n",
              "    <tr>\n",
              "      <th>1</th>\n",
              "      <td>1</td>\n",
              "      <td>1</td>\n",
              "      <td>female</td>\n",
              "      <td>1</td>\n",
              "      <td>0</td>\n",
              "      <td>C</td>\n",
              "      <td>Adult</td>\n",
              "      <td>4_quartile</td>\n",
              "      <td>Cumings</td>\n",
              "      <td>Mrs</td>\n",
              "    </tr>\n",
              "    <tr>\n",
              "      <th>2</th>\n",
              "      <td>1</td>\n",
              "      <td>3</td>\n",
              "      <td>female</td>\n",
              "      <td>0</td>\n",
              "      <td>0</td>\n",
              "      <td>S</td>\n",
              "      <td>Young Adult</td>\n",
              "      <td>1_quartile</td>\n",
              "      <td>Heikkinen</td>\n",
              "      <td>Miss</td>\n",
              "    </tr>\n",
              "    <tr>\n",
              "      <th>3</th>\n",
              "      <td>1</td>\n",
              "      <td>1</td>\n",
              "      <td>female</td>\n",
              "      <td>1</td>\n",
              "      <td>0</td>\n",
              "      <td>S</td>\n",
              "      <td>Young Adult</td>\n",
              "      <td>4_quartile</td>\n",
              "      <td>Futrelle</td>\n",
              "      <td>Mrs</td>\n",
              "    </tr>\n",
              "    <tr>\n",
              "      <th>4</th>\n",
              "      <td>0</td>\n",
              "      <td>3</td>\n",
              "      <td>male</td>\n",
              "      <td>0</td>\n",
              "      <td>0</td>\n",
              "      <td>S</td>\n",
              "      <td>Young Adult</td>\n",
              "      <td>2_quartile</td>\n",
              "      <td>Allen</td>\n",
              "      <td>Mr</td>\n",
              "    </tr>\n",
              "  </tbody>\n",
              "</table>\n",
              "</div>"
            ],
            "text/plain": [
              "   Survived  Pclass     Sex  ...      Tarifa      Lname NamePrefix\n",
              "0         0       3    male  ...  1_quartile     Braund         Mr\n",
              "1         1       1  female  ...  4_quartile    Cumings        Mrs\n",
              "2         1       3  female  ...  1_quartile  Heikkinen       Miss\n",
              "3         1       1  female  ...  4_quartile   Futrelle        Mrs\n",
              "4         0       3    male  ...  2_quartile      Allen         Mr\n",
              "\n",
              "[5 rows x 10 columns]"
            ]
          },
          "metadata": {
            "tags": []
          },
          "execution_count": 31
        }
      ]
    },
    {
      "cell_type": "markdown",
      "metadata": {
        "id": "LT2r-yIe7mmZ",
        "colab_type": "text"
      },
      "source": [
        "###Diccionario de Mapeado"
      ]
    },
    {
      "cell_type": "code",
      "metadata": {
        "id": "xNzl4f7c4xVM",
        "colab_type": "code",
        "outputId": "2a8b37b5-0d3c-4422-942f-a99df7d71414",
        "colab": {
          "base_uri": "https://localhost:8080/",
          "height": 34
        }
      },
      "source": [
        "le_name_mapping = dict(zip(le.classes_, le.transform(le.classes_)))\n",
        "print(le_name_mapping)"
      ],
      "execution_count": 32,
      "outputs": [
        {
          "output_type": "stream",
          "text": [
            "{'female': 0, 'male': 1}\n"
          ],
          "name": "stdout"
        }
      ]
    },
    {
      "cell_type": "markdown",
      "metadata": {
        "id": "AmIBH6Ns8Btl",
        "colab_type": "text"
      },
      "source": [
        "###Mapeado de Edad"
      ]
    },
    {
      "cell_type": "code",
      "metadata": {
        "id": "YfrbK_vs8NCL",
        "colab_type": "code",
        "colab": {}
      },
      "source": [
        "lEdad = preprocessing.LabelEncoder() \n",
        "lEdad = lEdad.fit(data['Edad'])\n",
        "data['Edad'] = lEdad.transform(data['Edad'])"
      ],
      "execution_count": 0,
      "outputs": []
    },
    {
      "cell_type": "code",
      "metadata": {
        "id": "J6OHiN1M8XX6",
        "colab_type": "code",
        "outputId": "05a4b24e-7641-4957-89d0-3f81dce61d57",
        "colab": {
          "base_uri": "https://localhost:8080/",
          "height": 168
        }
      },
      "source": [
        "data['Edad'].value_counts()"
      ],
      "execution_count": 34,
      "outputs": [
        {
          "output_type": "execute_result",
          "data": {
            "text/plain": [
              "7    196\n",
              "0    195\n",
              "6    177\n",
              "4    162\n",
              "5     70\n",
              "1     44\n",
              "2     25\n",
              "3     22\n",
              "Name: Edad, dtype: int64"
            ]
          },
          "metadata": {
            "tags": []
          },
          "execution_count": 34
        }
      ]
    },
    {
      "cell_type": "code",
      "metadata": {
        "id": "zSsr0ReJ8TEe",
        "colab_type": "code",
        "outputId": "31c6f781-2187-4dd9-d1a4-2de3330620fe",
        "colab": {
          "base_uri": "https://localhost:8080/",
          "height": 215
        }
      },
      "source": [
        "data.head()"
      ],
      "execution_count": 35,
      "outputs": [
        {
          "output_type": "execute_result",
          "data": {
            "text/html": [
              "<div>\n",
              "<style scoped>\n",
              "    .dataframe tbody tr th:only-of-type {\n",
              "        vertical-align: middle;\n",
              "    }\n",
              "\n",
              "    .dataframe tbody tr th {\n",
              "        vertical-align: top;\n",
              "    }\n",
              "\n",
              "    .dataframe thead th {\n",
              "        text-align: right;\n",
              "    }\n",
              "</style>\n",
              "<table border=\"1\" class=\"dataframe\">\n",
              "  <thead>\n",
              "    <tr style=\"text-align: right;\">\n",
              "      <th></th>\n",
              "      <th>Survived</th>\n",
              "      <th>Pclass</th>\n",
              "      <th>Sex</th>\n",
              "      <th>SibSp</th>\n",
              "      <th>Parch</th>\n",
              "      <th>Embarked</th>\n",
              "      <th>Edad</th>\n",
              "      <th>Tarifa</th>\n",
              "      <th>Lname</th>\n",
              "      <th>NamePrefix</th>\n",
              "    </tr>\n",
              "  </thead>\n",
              "  <tbody>\n",
              "    <tr>\n",
              "      <th>0</th>\n",
              "      <td>0</td>\n",
              "      <td>3</td>\n",
              "      <td>male</td>\n",
              "      <td>1</td>\n",
              "      <td>0</td>\n",
              "      <td>S</td>\n",
              "      <td>4</td>\n",
              "      <td>1_quartile</td>\n",
              "      <td>Braund</td>\n",
              "      <td>Mr</td>\n",
              "    </tr>\n",
              "    <tr>\n",
              "      <th>1</th>\n",
              "      <td>1</td>\n",
              "      <td>1</td>\n",
              "      <td>female</td>\n",
              "      <td>1</td>\n",
              "      <td>0</td>\n",
              "      <td>C</td>\n",
              "      <td>0</td>\n",
              "      <td>4_quartile</td>\n",
              "      <td>Cumings</td>\n",
              "      <td>Mrs</td>\n",
              "    </tr>\n",
              "    <tr>\n",
              "      <th>2</th>\n",
              "      <td>1</td>\n",
              "      <td>3</td>\n",
              "      <td>female</td>\n",
              "      <td>0</td>\n",
              "      <td>0</td>\n",
              "      <td>S</td>\n",
              "      <td>7</td>\n",
              "      <td>1_quartile</td>\n",
              "      <td>Heikkinen</td>\n",
              "      <td>Miss</td>\n",
              "    </tr>\n",
              "    <tr>\n",
              "      <th>3</th>\n",
              "      <td>1</td>\n",
              "      <td>1</td>\n",
              "      <td>female</td>\n",
              "      <td>1</td>\n",
              "      <td>0</td>\n",
              "      <td>S</td>\n",
              "      <td>7</td>\n",
              "      <td>4_quartile</td>\n",
              "      <td>Futrelle</td>\n",
              "      <td>Mrs</td>\n",
              "    </tr>\n",
              "    <tr>\n",
              "      <th>4</th>\n",
              "      <td>0</td>\n",
              "      <td>3</td>\n",
              "      <td>male</td>\n",
              "      <td>0</td>\n",
              "      <td>0</td>\n",
              "      <td>S</td>\n",
              "      <td>7</td>\n",
              "      <td>2_quartile</td>\n",
              "      <td>Allen</td>\n",
              "      <td>Mr</td>\n",
              "    </tr>\n",
              "  </tbody>\n",
              "</table>\n",
              "</div>"
            ],
            "text/plain": [
              "   Survived  Pclass     Sex  SibSp  ...  Edad      Tarifa      Lname NamePrefix\n",
              "0         0       3    male      1  ...     4  1_quartile     Braund         Mr\n",
              "1         1       1  female      1  ...     0  4_quartile    Cumings        Mrs\n",
              "2         1       3  female      0  ...     7  1_quartile  Heikkinen       Miss\n",
              "3         1       1  female      1  ...     7  4_quartile   Futrelle        Mrs\n",
              "4         0       3    male      0  ...     7  2_quartile      Allen         Mr\n",
              "\n",
              "[5 rows x 10 columns]"
            ]
          },
          "metadata": {
            "tags": []
          },
          "execution_count": 35
        }
      ]
    },
    {
      "cell_type": "code",
      "metadata": {
        "id": "5XXi5egW8r-Y",
        "colab_type": "code",
        "outputId": "107be262-bf87-4115-fdf9-954db13ce830",
        "colab": {
          "base_uri": "https://localhost:8080/",
          "height": 54
        }
      },
      "source": [
        "Edad_Mapeado = dict(zip(lEdad.classes_, lEdad.transform(lEdad.classes_)))\n",
        "print(Edad_Mapeado)"
      ],
      "execution_count": 36,
      "outputs": [
        {
          "output_type": "stream",
          "text": [
            "{'Adult': 0, 'Baby': 1, 'Child': 2, 'Senior': 3, 'Student': 4, 'Teenager': 5, 'Unknown': 6, 'Young Adult': 7}\n"
          ],
          "name": "stdout"
        }
      ]
    },
    {
      "cell_type": "markdown",
      "metadata": {
        "id": "z53-A5wop8ga",
        "colab_type": "text"
      },
      "source": [
        "Mapeo de sexo"
      ]
    },
    {
      "cell_type": "code",
      "metadata": {
        "id": "V1ZOE9qnpq7J",
        "colab_type": "code",
        "colab": {}
      },
      "source": [
        "lSex = preprocessing.LabelEncoder() \n",
        "lSex = lSex.fit(data['Sex'])\n",
        "data['Sex'] = lSex.transform(data['Sex'])"
      ],
      "execution_count": 0,
      "outputs": []
    },
    {
      "cell_type": "code",
      "metadata": {
        "id": "Ixy4INkVqXPm",
        "colab_type": "code",
        "colab": {
          "base_uri": "https://localhost:8080/",
          "height": 67
        },
        "outputId": "65e17a78-1bf4-4d4e-e17c-09367d010907"
      },
      "source": [
        "data['Sex'].value_counts()"
      ],
      "execution_count": 39,
      "outputs": [
        {
          "output_type": "execute_result",
          "data": {
            "text/plain": [
              "1    577\n",
              "0    314\n",
              "Name: Sex, dtype: int64"
            ]
          },
          "metadata": {
            "tags": []
          },
          "execution_count": 39
        }
      ]
    },
    {
      "cell_type": "code",
      "metadata": {
        "id": "gEf5Nkugqeiu",
        "colab_type": "code",
        "colab": {
          "base_uri": "https://localhost:8080/",
          "height": 215
        },
        "outputId": "a1cd2b59-7036-4761-ac18-87df258166bd"
      },
      "source": [
        "data.head()"
      ],
      "execution_count": 40,
      "outputs": [
        {
          "output_type": "execute_result",
          "data": {
            "text/html": [
              "<div>\n",
              "<style scoped>\n",
              "    .dataframe tbody tr th:only-of-type {\n",
              "        vertical-align: middle;\n",
              "    }\n",
              "\n",
              "    .dataframe tbody tr th {\n",
              "        vertical-align: top;\n",
              "    }\n",
              "\n",
              "    .dataframe thead th {\n",
              "        text-align: right;\n",
              "    }\n",
              "</style>\n",
              "<table border=\"1\" class=\"dataframe\">\n",
              "  <thead>\n",
              "    <tr style=\"text-align: right;\">\n",
              "      <th></th>\n",
              "      <th>Survived</th>\n",
              "      <th>Pclass</th>\n",
              "      <th>Sex</th>\n",
              "      <th>SibSp</th>\n",
              "      <th>Parch</th>\n",
              "      <th>Embarked</th>\n",
              "      <th>Edad</th>\n",
              "      <th>Tarifa</th>\n",
              "      <th>Lname</th>\n",
              "      <th>NamePrefix</th>\n",
              "    </tr>\n",
              "  </thead>\n",
              "  <tbody>\n",
              "    <tr>\n",
              "      <th>0</th>\n",
              "      <td>0</td>\n",
              "      <td>3</td>\n",
              "      <td>1</td>\n",
              "      <td>1</td>\n",
              "      <td>0</td>\n",
              "      <td>S</td>\n",
              "      <td>4</td>\n",
              "      <td>1_quartile</td>\n",
              "      <td>Braund</td>\n",
              "      <td>Mr</td>\n",
              "    </tr>\n",
              "    <tr>\n",
              "      <th>1</th>\n",
              "      <td>1</td>\n",
              "      <td>1</td>\n",
              "      <td>0</td>\n",
              "      <td>1</td>\n",
              "      <td>0</td>\n",
              "      <td>C</td>\n",
              "      <td>0</td>\n",
              "      <td>4_quartile</td>\n",
              "      <td>Cumings</td>\n",
              "      <td>Mrs</td>\n",
              "    </tr>\n",
              "    <tr>\n",
              "      <th>2</th>\n",
              "      <td>1</td>\n",
              "      <td>3</td>\n",
              "      <td>0</td>\n",
              "      <td>0</td>\n",
              "      <td>0</td>\n",
              "      <td>S</td>\n",
              "      <td>7</td>\n",
              "      <td>1_quartile</td>\n",
              "      <td>Heikkinen</td>\n",
              "      <td>Miss</td>\n",
              "    </tr>\n",
              "    <tr>\n",
              "      <th>3</th>\n",
              "      <td>1</td>\n",
              "      <td>1</td>\n",
              "      <td>0</td>\n",
              "      <td>1</td>\n",
              "      <td>0</td>\n",
              "      <td>S</td>\n",
              "      <td>7</td>\n",
              "      <td>4_quartile</td>\n",
              "      <td>Futrelle</td>\n",
              "      <td>Mrs</td>\n",
              "    </tr>\n",
              "    <tr>\n",
              "      <th>4</th>\n",
              "      <td>0</td>\n",
              "      <td>3</td>\n",
              "      <td>1</td>\n",
              "      <td>0</td>\n",
              "      <td>0</td>\n",
              "      <td>S</td>\n",
              "      <td>7</td>\n",
              "      <td>2_quartile</td>\n",
              "      <td>Allen</td>\n",
              "      <td>Mr</td>\n",
              "    </tr>\n",
              "  </tbody>\n",
              "</table>\n",
              "</div>"
            ],
            "text/plain": [
              "   Survived  Pclass  Sex  SibSp  ...  Edad      Tarifa      Lname NamePrefix\n",
              "0         0       3    1      1  ...     4  1_quartile     Braund         Mr\n",
              "1         1       1    0      1  ...     0  4_quartile    Cumings        Mrs\n",
              "2         1       3    0      0  ...     7  1_quartile  Heikkinen       Miss\n",
              "3         1       1    0      1  ...     7  4_quartile   Futrelle        Mrs\n",
              "4         0       3    1      0  ...     7  2_quartile      Allen         Mr\n",
              "\n",
              "[5 rows x 10 columns]"
            ]
          },
          "metadata": {
            "tags": []
          },
          "execution_count": 40
        }
      ]
    },
    {
      "cell_type": "code",
      "metadata": {
        "id": "28IOn_cUqiRR",
        "colab_type": "code",
        "colab": {
          "base_uri": "https://localhost:8080/",
          "height": 34
        },
        "outputId": "7a181ea5-a78a-427f-9253-3eceba61f145"
      },
      "source": [
        "Sex_Mapeado = dict(zip(lSex.classes_, lSex.transform(lSex.classes_)))\n",
        "print(Sex_Mapeado)"
      ],
      "execution_count": 41,
      "outputs": [
        {
          "output_type": "stream",
          "text": [
            "{'female': 0, 'male': 1}\n"
          ],
          "name": "stdout"
        }
      ]
    },
    {
      "cell_type": "markdown",
      "metadata": {
        "id": "d7wK5jjSqrwj",
        "colab_type": "text"
      },
      "source": [
        "Mapeo Tarifa"
      ]
    },
    {
      "cell_type": "code",
      "metadata": {
        "id": "R_uJK82ZqtkT",
        "colab_type": "code",
        "colab": {}
      },
      "source": [
        "lTarifa = preprocessing.LabelEncoder() \n",
        "lTarifa = lTarifa.fit(data['Tarifa'])\n",
        "data['Tarifa'] = lTarifa.transform(data['Tarifa'])"
      ],
      "execution_count": 0,
      "outputs": []
    },
    {
      "cell_type": "code",
      "metadata": {
        "id": "2c8IC7x1q7cl",
        "colab_type": "code",
        "colab": {
          "base_uri": "https://localhost:8080/",
          "height": 101
        },
        "outputId": "597d91a4-1ab4-4a30-900d-7e68e2df14ad"
      },
      "source": [
        "data['Tarifa'].value_counts()"
      ],
      "execution_count": 43,
      "outputs": [
        {
          "output_type": "execute_result",
          "data": {
            "text/plain": [
              "0    241\n",
              "3    222\n",
              "1    217\n",
              "2    211\n",
              "Name: Tarifa, dtype: int64"
            ]
          },
          "metadata": {
            "tags": []
          },
          "execution_count": 43
        }
      ]
    },
    {
      "cell_type": "code",
      "metadata": {
        "id": "NwanSHytrCde",
        "colab_type": "code",
        "colab": {
          "base_uri": "https://localhost:8080/",
          "height": 195
        },
        "outputId": "8c0fc86d-05f7-487c-beef-3d86b4c83cf1"
      },
      "source": [
        "data.head()"
      ],
      "execution_count": 44,
      "outputs": [
        {
          "output_type": "execute_result",
          "data": {
            "text/html": [
              "<div>\n",
              "<style scoped>\n",
              "    .dataframe tbody tr th:only-of-type {\n",
              "        vertical-align: middle;\n",
              "    }\n",
              "\n",
              "    .dataframe tbody tr th {\n",
              "        vertical-align: top;\n",
              "    }\n",
              "\n",
              "    .dataframe thead th {\n",
              "        text-align: right;\n",
              "    }\n",
              "</style>\n",
              "<table border=\"1\" class=\"dataframe\">\n",
              "  <thead>\n",
              "    <tr style=\"text-align: right;\">\n",
              "      <th></th>\n",
              "      <th>Survived</th>\n",
              "      <th>Pclass</th>\n",
              "      <th>Sex</th>\n",
              "      <th>SibSp</th>\n",
              "      <th>Parch</th>\n",
              "      <th>Embarked</th>\n",
              "      <th>Edad</th>\n",
              "      <th>Tarifa</th>\n",
              "      <th>Lname</th>\n",
              "      <th>NamePrefix</th>\n",
              "    </tr>\n",
              "  </thead>\n",
              "  <tbody>\n",
              "    <tr>\n",
              "      <th>0</th>\n",
              "      <td>0</td>\n",
              "      <td>3</td>\n",
              "      <td>1</td>\n",
              "      <td>1</td>\n",
              "      <td>0</td>\n",
              "      <td>S</td>\n",
              "      <td>4</td>\n",
              "      <td>0</td>\n",
              "      <td>Braund</td>\n",
              "      <td>Mr</td>\n",
              "    </tr>\n",
              "    <tr>\n",
              "      <th>1</th>\n",
              "      <td>1</td>\n",
              "      <td>1</td>\n",
              "      <td>0</td>\n",
              "      <td>1</td>\n",
              "      <td>0</td>\n",
              "      <td>C</td>\n",
              "      <td>0</td>\n",
              "      <td>3</td>\n",
              "      <td>Cumings</td>\n",
              "      <td>Mrs</td>\n",
              "    </tr>\n",
              "    <tr>\n",
              "      <th>2</th>\n",
              "      <td>1</td>\n",
              "      <td>3</td>\n",
              "      <td>0</td>\n",
              "      <td>0</td>\n",
              "      <td>0</td>\n",
              "      <td>S</td>\n",
              "      <td>7</td>\n",
              "      <td>0</td>\n",
              "      <td>Heikkinen</td>\n",
              "      <td>Miss</td>\n",
              "    </tr>\n",
              "    <tr>\n",
              "      <th>3</th>\n",
              "      <td>1</td>\n",
              "      <td>1</td>\n",
              "      <td>0</td>\n",
              "      <td>1</td>\n",
              "      <td>0</td>\n",
              "      <td>S</td>\n",
              "      <td>7</td>\n",
              "      <td>3</td>\n",
              "      <td>Futrelle</td>\n",
              "      <td>Mrs</td>\n",
              "    </tr>\n",
              "    <tr>\n",
              "      <th>4</th>\n",
              "      <td>0</td>\n",
              "      <td>3</td>\n",
              "      <td>1</td>\n",
              "      <td>0</td>\n",
              "      <td>0</td>\n",
              "      <td>S</td>\n",
              "      <td>7</td>\n",
              "      <td>1</td>\n",
              "      <td>Allen</td>\n",
              "      <td>Mr</td>\n",
              "    </tr>\n",
              "  </tbody>\n",
              "</table>\n",
              "</div>"
            ],
            "text/plain": [
              "   Survived  Pclass  Sex  SibSp  ...  Edad Tarifa      Lname  NamePrefix\n",
              "0         0       3    1      1  ...     4      0     Braund          Mr\n",
              "1         1       1    0      1  ...     0      3    Cumings         Mrs\n",
              "2         1       3    0      0  ...     7      0  Heikkinen        Miss\n",
              "3         1       1    0      1  ...     7      3   Futrelle         Mrs\n",
              "4         0       3    1      0  ...     7      1      Allen          Mr\n",
              "\n",
              "[5 rows x 10 columns]"
            ]
          },
          "metadata": {
            "tags": []
          },
          "execution_count": 44
        }
      ]
    },
    {
      "cell_type": "code",
      "metadata": {
        "id": "oDO_uN5WrHi9",
        "colab_type": "code",
        "colab": {
          "base_uri": "https://localhost:8080/",
          "height": 34
        },
        "outputId": "7fb98edd-16d8-4f9a-bb53-f1e7684c101c"
      },
      "source": [
        "Tarifa_Mapeado = dict(zip(lTarifa.classes_, lTarifa.transform(lTarifa.classes_)))\n",
        "print(Tarifa_Mapeado)"
      ],
      "execution_count": 46,
      "outputs": [
        {
          "output_type": "stream",
          "text": [
            "{'1_quartile': 0, '2_quartile': 1, '3_quartile': 2, '4_quartile': 3}\n"
          ],
          "name": "stdout"
        }
      ]
    },
    {
      "cell_type": "markdown",
      "metadata": {
        "id": "qLcEAOa6rTzg",
        "colab_type": "text"
      },
      "source": [
        "Mapeo_Lname"
      ]
    },
    {
      "cell_type": "code",
      "metadata": {
        "id": "VjpGH8mArWcj",
        "colab_type": "code",
        "colab": {}
      },
      "source": [
        "lLname = preprocessing.LabelEncoder() \n",
        "lLname = lLname.fit(data['Lname'])\n",
        "data['Lname'] = lLname.transform(data['Lname'])"
      ],
      "execution_count": 0,
      "outputs": []
    },
    {
      "cell_type": "code",
      "metadata": {
        "id": "aDMkYEOLryPU",
        "colab_type": "code",
        "colab": {
          "base_uri": "https://localhost:8080/",
          "height": 218
        },
        "outputId": "8ef47789-b033-433c-daae-8aed95583826"
      },
      "source": [
        "data['Lname'].value_counts()\n"
      ],
      "execution_count": 48,
      "outputs": [
        {
          "output_type": "execute_result",
          "data": {
            "text/plain": [
              "16     9\n",
              "532    7\n",
              "563    6\n",
              "292    6\n",
              "464    6\n",
              "      ..\n",
              "419    1\n",
              "418    1\n",
              "417    1\n",
              "416    1\n",
              "0      1\n",
              "Name: Lname, Length: 667, dtype: int64"
            ]
          },
          "metadata": {
            "tags": []
          },
          "execution_count": 48
        }
      ]
    },
    {
      "cell_type": "code",
      "metadata": {
        "id": "OWK92KVgr236",
        "colab_type": "code",
        "colab": {
          "base_uri": "https://localhost:8080/",
          "height": 195
        },
        "outputId": "4f9f4715-9d38-44e6-cb58-4c5f003faa25"
      },
      "source": [
        "\n",
        "data.head()"
      ],
      "execution_count": 49,
      "outputs": [
        {
          "output_type": "execute_result",
          "data": {
            "text/html": [
              "<div>\n",
              "<style scoped>\n",
              "    .dataframe tbody tr th:only-of-type {\n",
              "        vertical-align: middle;\n",
              "    }\n",
              "\n",
              "    .dataframe tbody tr th {\n",
              "        vertical-align: top;\n",
              "    }\n",
              "\n",
              "    .dataframe thead th {\n",
              "        text-align: right;\n",
              "    }\n",
              "</style>\n",
              "<table border=\"1\" class=\"dataframe\">\n",
              "  <thead>\n",
              "    <tr style=\"text-align: right;\">\n",
              "      <th></th>\n",
              "      <th>Survived</th>\n",
              "      <th>Pclass</th>\n",
              "      <th>Sex</th>\n",
              "      <th>SibSp</th>\n",
              "      <th>Parch</th>\n",
              "      <th>Embarked</th>\n",
              "      <th>Edad</th>\n",
              "      <th>Tarifa</th>\n",
              "      <th>Lname</th>\n",
              "      <th>NamePrefix</th>\n",
              "    </tr>\n",
              "  </thead>\n",
              "  <tbody>\n",
              "    <tr>\n",
              "      <th>0</th>\n",
              "      <td>0</td>\n",
              "      <td>3</td>\n",
              "      <td>1</td>\n",
              "      <td>1</td>\n",
              "      <td>0</td>\n",
              "      <td>S</td>\n",
              "      <td>4</td>\n",
              "      <td>0</td>\n",
              "      <td>73</td>\n",
              "      <td>Mr</td>\n",
              "    </tr>\n",
              "    <tr>\n",
              "      <th>1</th>\n",
              "      <td>1</td>\n",
              "      <td>1</td>\n",
              "      <td>0</td>\n",
              "      <td>1</td>\n",
              "      <td>0</td>\n",
              "      <td>C</td>\n",
              "      <td>0</td>\n",
              "      <td>3</td>\n",
              "      <td>136</td>\n",
              "      <td>Mrs</td>\n",
              "    </tr>\n",
              "    <tr>\n",
              "      <th>2</th>\n",
              "      <td>1</td>\n",
              "      <td>3</td>\n",
              "      <td>0</td>\n",
              "      <td>0</td>\n",
              "      <td>0</td>\n",
              "      <td>S</td>\n",
              "      <td>7</td>\n",
              "      <td>0</td>\n",
              "      <td>251</td>\n",
              "      <td>Miss</td>\n",
              "    </tr>\n",
              "    <tr>\n",
              "      <th>3</th>\n",
              "      <td>1</td>\n",
              "      <td>1</td>\n",
              "      <td>0</td>\n",
              "      <td>1</td>\n",
              "      <td>0</td>\n",
              "      <td>S</td>\n",
              "      <td>7</td>\n",
              "      <td>3</td>\n",
              "      <td>198</td>\n",
              "      <td>Mrs</td>\n",
              "    </tr>\n",
              "    <tr>\n",
              "      <th>4</th>\n",
              "      <td>0</td>\n",
              "      <td>3</td>\n",
              "      <td>1</td>\n",
              "      <td>0</td>\n",
              "      <td>0</td>\n",
              "      <td>S</td>\n",
              "      <td>7</td>\n",
              "      <td>1</td>\n",
              "      <td>11</td>\n",
              "      <td>Mr</td>\n",
              "    </tr>\n",
              "  </tbody>\n",
              "</table>\n",
              "</div>"
            ],
            "text/plain": [
              "   Survived  Pclass  Sex  SibSp  Parch Embarked  Edad  Tarifa  Lname NamePrefix\n",
              "0         0       3    1      1      0        S     4       0     73         Mr\n",
              "1         1       1    0      1      0        C     0       3    136        Mrs\n",
              "2         1       3    0      0      0        S     7       0    251       Miss\n",
              "3         1       1    0      1      0        S     7       3    198        Mrs\n",
              "4         0       3    1      0      0        S     7       1     11         Mr"
            ]
          },
          "metadata": {
            "tags": []
          },
          "execution_count": 49
        }
      ]
    },
    {
      "cell_type": "code",
      "metadata": {
        "id": "3eEfykOOr6x_",
        "colab_type": "code",
        "colab": {
          "base_uri": "https://localhost:8080/",
          "height": 54
        },
        "outputId": "d02c5c1d-e9d1-4941-b74b-4a5d7ba9421c"
      },
      "source": [
        "Lname_Mapeado = dict(zip(lLname.classes_, lLname.transform(lLname.classes_)))\n",
        "print(Lname_Mapeado)"
      ],
      "execution_count": 50,
      "outputs": [
        {
          "output_type": "stream",
          "text": [
            "{'Abbing': 0, 'Abbott': 1, 'Abelson': 2, 'Adahl': 3, 'Adams': 4, 'Ahlin': 5, 'Aks': 6, 'Albimona': 7, 'Alexander': 8, 'Alhomaki': 9, 'Ali': 10, 'Allen': 11, 'Allison': 12, 'Allum': 13, 'Andersen-Jensen': 14, 'Anderson': 15, 'Andersson': 16, 'Andreasson': 17, 'Andrew': 18, 'Andrews': 19, 'Angle': 20, 'Appleton': 21, 'Arnold-Franchi': 22, 'Artagaveytia': 23, 'Asim': 24, 'Asplund': 25, 'Astor': 26, 'Attalah': 27, 'Aubart': 28, 'Augustsson': 29, 'Ayoub': 30, 'Backstrom': 31, 'Baclini': 32, 'Badt': 33, 'Bailey': 34, 'Balkic': 35, 'Ball': 36, 'Banfield': 37, 'Barah': 38, 'Barbara': 39, 'Barber': 40, 'Barkworth': 41, 'Barton': 42, 'Bateman': 43, 'Baumann': 44, 'Baxter': 45, 'Bazzani': 46, 'Beane': 47, 'Beavan': 48, 'Becker': 49, 'Beckwith': 50, 'Beesley': 51, 'Behr': 52, 'Bengtsson': 53, 'Berglund': 54, 'Berriman': 55, 'Betros': 56, 'Bidois': 57, 'Bing': 58, 'Birkeland': 59, 'Bishop': 60, 'Bissette': 61, 'Bjornstrom-Steffansson': 62, 'Blackwell': 63, 'Blank': 64, 'Bonnell': 65, 'Bostandyeff': 66, 'Boulos': 67, 'Bourke': 68, 'Bowen': 69, 'Bowerman': 70, 'Bracken': 71, 'Bradley': 72, 'Braund': 73, 'Brewe': 74, 'Brocklebank': 75, 'Brown': 76, 'Bryhl': 77, 'Burke': 78, 'Burns': 79, 'Buss': 80, 'Butler': 81, 'Butt': 82, 'Byles': 83, 'Bystrom': 84, 'Cacic': 85, 'Cairns': 86, 'Calderhead': 87, 'Caldwell': 88, 'Calic': 89, 'Cameron': 90, 'Campbell': 91, 'Canavan': 92, 'Cann': 93, 'Caram': 94, 'Carbines': 95, 'Cardeza': 96, 'Carlsson': 97, 'Carr': 98, 'Carrau': 99, 'Carter': 100, 'Cavendish': 101, 'Celotti': 102, 'Chaffee': 103, 'Chambers': 104, 'Chapman': 105, 'Charters': 106, 'Cherry': 107, 'Chibnall': 108, 'Chip': 109, 'Christmann': 110, 'Christy': 111, 'Chronopoulos': 112, 'Clarke': 113, 'Cleaver': 114, 'Clifford': 115, 'Coelho': 116, 'Cohen': 117, 'Coleff': 118, 'Coleridge': 119, 'Collander': 120, 'Colley': 121, 'Collyer': 122, 'Compton': 123, 'Connaghton': 124, 'Connolly': 125, 'Connors': 126, 'Cook': 127, 'Cor': 128, 'Corn': 129, 'Coutts': 130, 'Coxon': 131, 'Crease': 132, 'Cribb': 133, 'Crosby': 134, 'Culumovic': 135, 'Cumings': 136, 'Cunningham': 137, 'Dahl': 138, 'Dahlberg': 139, 'Dakic': 140, 'Daly': 141, 'Danbom': 142, 'Daniel': 143, 'Danoff': 144, 'Dantcheff': 145, 'Davidson': 146, 'Davies': 147, 'Davis': 148, 'Davison': 149, 'Dean': 150, 'Denkoff': 151, 'Dennis': 152, 'Devaney': 153, 'Dick': 154, 'Dimic': 155, 'Dodge': 156, 'Doharr': 157, 'Doling': 158, 'Dooley': 159, 'Dorking': 160, 'Douglas': 161, 'Dowdell': 162, 'Downton': 163, 'Drazenoic': 164, 'Drew': 165, 'Duane': 166, 'Duff Gordon': 167, 'Duran y More': 168, 'Edvardsson': 169, 'Eitemiller': 170, 'Eklund': 171, 'Ekstrom': 172, 'Elias': 173, 'Elsbury': 174, 'Emanuel': 175, 'Emir': 176, 'Endres': 177, 'Eustis': 178, 'Fahlstrom': 179, 'Farrell': 180, 'Farthing': 181, 'Faunthorpe': 182, 'Fischer': 183, 'Fleming': 184, 'Flynn': 185, 'Foo': 186, 'Ford': 187, 'Foreman': 188, 'Fortune': 189, 'Fox': 190, 'Francatelli': 191, 'Frauenthal': 192, 'Frolicher': 193, 'Frolicher-Stehli': 194, 'Frost': 195, 'Fry': 196, 'Funk': 197, 'Futrelle': 198, 'Fynney': 199, 'Gale': 200, 'Gallagher': 201, 'Garfirth': 202, 'Garside': 203, 'Gaskell': 204, 'Gavey': 205, 'Gee': 206, 'Gheorgheff': 207, 'Giglio': 208, 'Giles': 209, 'Gilinski': 210, 'Gill': 211, 'Gillespie': 212, 'Gilnagh': 213, 'Givard': 214, 'Glynn': 215, 'Goldenberg': 216, 'Goldschmidt': 217, 'Goldsmith': 218, 'Goncalves': 219, 'Goodwin': 220, 'Graham': 221, 'Green': 222, 'Greenberg': 223, 'Greenfield': 224, 'Gronnestad': 225, 'Guggenheim': 226, 'Gustafsson': 227, 'Haas': 228, 'Hagland': 229, 'Hakkarainen': 230, 'Hale': 231, 'Hamalainen': 232, 'Hampe': 233, 'Hanna': 234, 'Hansen': 235, 'Harder': 236, 'Harknett': 237, 'Harmer': 238, 'Harper': 239, 'Harrington': 240, 'Harris': 241, 'Harrison': 242, 'Hart': 243, 'Hassab': 244, 'Hassan': 245, 'Hawksford': 246, 'Hays': 247, 'Healy': 248, 'Hedman': 249, 'Hegarty': 250, 'Heikkinen': 251, 'Heininen': 252, 'Hendekovic': 253, 'Henry': 254, 'Herman': 255, 'Hewlett': 256, 'Hickman': 257, 'Hippach': 258, 'Hirvonen': 259, 'Hocking': 260, 'Hodges': 261, 'Hogeboom': 262, 'Hold': 263, 'Holm': 264, 'Holverson': 265, 'Homer': 266, 'Honkanen': 267, 'Hood': 268, 'Horgan': 269, 'Hosono': 270, 'Hoyt': 271, 'Humblen': 272, 'Hunt': 273, 'Ibrahim Shawah': 274, 'Icard': 275, 'Ilett': 276, 'Ilmakangas': 277, 'Isham': 278, 'Ivanoff': 279, 'Jacobsohn': 280, 'Jalsevac': 281, 'Jansson': 282, 'Jardin': 283, 'Jarvis': 284, 'Jenkin': 285, 'Jensen': 286, 'Jermyn': 287, 'Jerwan': 288, 'Johannesen-Bratthammer': 289, 'Johanson': 290, 'Johansson': 291, 'Johnson': 292, 'Johnston': 293, 'Jonkoff': 294, 'Jonsson': 295, 'Jussila': 296, 'Kallio': 297, 'Kalvik': 298, 'Kantor': 299, 'Karaic': 300, 'Karlsson': 301, 'Karun': 302, 'Kassem': 303, 'Keane': 304, 'Keefe': 305, 'Kelly': 306, 'Kent': 307, 'Kenyon': 308, 'Kiernan': 309, 'Kilgannon': 310, 'Kimball': 311, 'Kink': 312, 'Kink-Heilmann': 313, 'Kirkland': 314, 'Klaber': 315, 'Klasen': 316, 'Knight': 317, 'Kraeff': 318, 'Kvillner': 319, 'Lahoud': 320, 'Lahtinen': 321, 'Laitinen': 322, 'Laleff': 323, 'Lam': 324, 'Landergren': 325, 'Lang': 326, 'Laroche': 327, 'Larsson': 328, 'LeRoy': 329, 'Leader': 330, 'Leeni': 331, 'Lefebre': 332, 'Lehmann': 333, 'Leinonen': 334, 'Leitch': 335, 'Lemberopolous': 336, 'Lemore': 337, 'Lennon': 338, 'Leonard': 339, 'Lester': 340, 'Lesurer': 341, 'Levy': 342, 'Lewy': 343, 'Leyson': 344, 'Lievens': 345, 'Lindahl': 346, 'Lindblom': 347, 'Lindell': 348, 'Lindqvist': 349, 'Lines': 350, 'Ling': 351, 'Lobb': 352, 'Long': 353, 'Longley': 354, 'Louch': 355, 'Lovell': 356, 'Lulic': 357, 'Lundahl': 358, 'Lurette': 359, 'Mack': 360, 'Madigan': 361, 'Madill': 362, 'Madsen': 363, 'Maenpaa': 364, 'Maioni': 365, 'Maisner': 366, 'Mallet': 367, 'Mamee': 368, 'Mangan': 369, 'Mannion': 370, 'Marechal': 371, 'Markoff': 372, 'Markun': 373, 'Marvin': 374, 'Masselmani': 375, 'Matthews': 376, 'Mayne': 377, 'McCarthy': 378, 'McCormack': 379, 'McCoy': 380, 'McDermott': 381, 'McEvoy': 382, 'McGough': 383, 'McGovern': 384, 'McGowan': 385, 'McKane': 386, 'McMahon': 387, 'McNamee': 388, 'Meanwell': 389, 'Meek': 390, 'Mellinger': 391, 'Mellors': 392, 'Meo': 393, 'Mernagh': 394, 'Meyer': 395, 'Millet': 396, 'Milling': 397, 'Minahan': 398, 'Mineff': 399, 'Mionoff': 400, 'Mitchell': 401, 'Mitkoff': 402, 'Mockler': 403, 'Moen': 404, 'Molson': 405, 'Montvila': 406, 'Moor': 407, 'Moore': 408, 'Moran': 409, 'Moraweck': 410, 'Morley': 411, 'Morrow': 412, 'Moss': 413, 'Moubarek': 414, 'Moussa': 415, 'Moutal': 416, 'Mudd': 417, 'Mullens': 418, 'Murdlin': 419, 'Murphy': 420, 'Myhrman': 421, 'Naidenoff': 422, 'Najib': 423, 'Nakid': 424, 'Nankoff': 425, 'Nasser': 426, 'Natsch': 427, 'Navratil': 428, 'Nenkoff': 429, 'Newell': 430, 'Newsom': 431, 'Nicholls': 432, 'Nicholson': 433, 'Nicola-Yarred': 434, 'Nilsson': 435, 'Nirva': 436, 'Niskanen': 437, 'Norman': 438, 'Nosworthy': 439, 'Novel': 440, 'Nye': 441, 'Nysten': 442, 'Nysveen': 443, \"O'Brien\": 444, \"O'Connell\": 445, \"O'Connor\": 446, \"O'Driscoll\": 447, \"O'Dwyer\": 448, \"O'Leary\": 449, \"O'Sullivan\": 450, 'Odahl': 451, 'Ohman': 452, 'Olsen': 453, 'Olsson': 454, 'Olsvigen': 455, 'Oreskovic': 456, 'Osen': 457, 'Osman': 458, 'Ostby': 459, 'Otter': 460, 'Padro y Manent': 461, 'Pain': 462, 'Palsson': 463, 'Panula': 464, 'Parkes': 465, 'Parr': 466, 'Parrish': 467, 'Partner': 468, 'Pasic': 469, 'Patchett': 470, 'Paulner': 471, 'Pavlovic': 472, 'Pears': 473, 'Peduzzi': 474, 'Pekoniemi': 475, 'Penasco y Castellana': 476, 'Pengelly': 477, 'Perkin': 478, 'Pernot': 479, 'Perreault': 480, 'Persson': 481, 'Peter': 482, 'Peters': 483, 'Petranec': 484, 'Petroff': 485, 'Petterson': 486, 'Pettersson': 487, 'Peuchen': 488, 'Phillips': 489, 'Pickard': 490, 'Pinsky': 491, 'Plotcharsky': 492, 'Ponesell': 493, 'Porter': 494, 'Potter': 495, 'Quick': 496, 'Radeff': 497, 'Razi': 498, 'Reed': 499, 'Reeves': 500, 'Rekic': 501, 'Renouf': 502, 'Reuchlin': 503, 'Reynaldo': 504, 'Rice': 505, 'Richard': 506, 'Richards': 507, 'Ridsdale': 508, 'Ringhini': 509, 'Rintamaki': 510, 'Risien': 511, 'Robbins': 512, 'Robert': 513, 'Robins': 514, 'Roebling': 515, 'Rogers': 516, 'Romaine': 517, 'Rommetvedt': 518, 'Rood': 519, 'Rosblom': 520, 'Ross': 521, 'Rothes': 522, 'Rothschild': 523, 'Rouse': 524, 'Rugg': 525, 'Rush': 526, 'Ryan': 527, 'Ryerson': 528, 'Saad': 529, 'Saalfeld': 530, 'Sadlier': 531, 'Sage': 532, 'Sagesser': 533, 'Salkjelsvik': 534, 'Salonen': 535, 'Samaan': 536, 'Sandstrom': 537, 'Saundercock': 538, 'Sawyer': 539, 'Scanlan': 540, 'Sdycoff': 541, 'Sedgwick': 542, 'Serepeca': 543, 'Seward': 544, 'Sharp': 545, 'Sheerlinck': 546, 'Shellard': 547, 'Shelley': 548, 'Shorney': 549, 'Shutes': 550, 'Silven': 551, 'Silverthorne': 552, 'Silvey': 553, 'Simmons': 554, 'Simonius-Blumer': 555, 'Sinkkonen': 556, 'Sirayanian': 557, 'Sirota': 558, 'Sivic': 559, 'Sivola': 560, 'Sjoblom': 561, 'Sjostedt': 562, 'Skoog': 563, 'Slabenoff': 564, 'Slayter': 565, 'Slemen': 566, 'Slocovski': 567, 'Sloper': 568, 'Smart': 569, 'Smiljanic': 570, 'Smith': 571, 'Sobey': 572, 'Soholt': 573, 'Somerton': 574, 'Spedden': 575, 'Spencer': 576, 'Stahelin-Maeglin': 577, 'Staneff': 578, 'Stankovic': 579, 'Stanley': 580, 'Stead': 581, 'Stephenson': 582, 'Stewart': 583, 'Stone': 584, 'Stoytcheff': 585, 'Strandberg': 586, 'Stranden': 587, 'Strom': 588, 'Sunderland': 589, 'Sundman': 590, 'Sutehall': 591, 'Sutton': 592, 'Svensson': 593, 'Swift': 594, 'Taussig': 595, 'Taylor': 596, 'Thayer': 597, 'Theobald': 598, 'Thomas': 599, 'Thorne': 600, 'Thorneycroft': 601, 'Tikkanen': 602, 'Tobin': 603, 'Todoroff': 604, 'Tomlin': 605, 'Toomey': 606, 'Torber': 607, 'Tornquist': 608, 'Toufik': 609, 'Touma': 610, 'Troupiansky': 611, 'Trout': 612, 'Troutt': 613, 'Turcin': 614, 'Turja': 615, 'Turkula': 616, 'Turpin': 617, 'Uruchurtu': 618, 'Van Impe': 619, 'Van der hoef': 620, 'Vande Velde': 621, 'Vande Walle': 622, 'Vanden Steen': 623, 'Vander Cruyssen': 624, 'Vander Planke': 625, 'Vestrom': 626, 'Vovk': 627, 'Waelens': 628, 'Walker': 629, 'Ward': 630, 'Warren': 631, 'Watson': 632, 'Watt': 633, 'Webber': 634, 'Weir': 635, 'Weisz': 636, 'Wells': 637, 'West': 638, 'Wheadon': 639, 'White': 640, 'Wick': 641, 'Widegren': 642, 'Widener': 643, 'Wiklund': 644, 'Wilhelms': 645, 'Willey': 646, 'Williams': 647, 'Williams-Lambert': 648, 'Windelov': 649, 'Wiseman': 650, 'Woolner': 651, 'Wright': 652, 'Yasbeck': 653, 'Young': 654, 'Youseff': 655, 'Yousif': 656, 'Yousseff': 657, 'Yrois': 658, 'Zabour': 659, 'Zimmerman': 660, 'de Messemaeker': 661, 'de Mulder': 662, 'de Pelsmaeker': 663, 'del Carlo': 664, 'van Billiard': 665, 'van Melkebeke': 666}\n"
          ],
          "name": "stdout"
        }
      ]
    },
    {
      "cell_type": "markdown",
      "metadata": {
        "id": "u3xwU54BsD9D",
        "colab_type": "text"
      },
      "source": [
        "mapeado_Nampefix"
      ]
    },
    {
      "cell_type": "code",
      "metadata": {
        "id": "Ggu-ABRWsGE4",
        "colab_type": "code",
        "colab": {}
      },
      "source": [
        "lNamePrefix= preprocessing.LabelEncoder() \n",
        "lNamePrefix = lNamePrefix.fit(data['NamePrefix'])\n",
        "data['NamePrefix'] = lNamePrefix.transform(data['NamePrefix'])"
      ],
      "execution_count": 0,
      "outputs": []
    },
    {
      "cell_type": "code",
      "metadata": {
        "id": "F4YDx7IjsS3L",
        "colab_type": "code",
        "colab": {
          "base_uri": "https://localhost:8080/",
          "height": 319
        },
        "outputId": "af9d9517-570f-4106-a28d-ec5c2c8abbac"
      },
      "source": [
        "data['NamePrefix'].value_counts()\n"
      ],
      "execution_count": 52,
      "outputs": [
        {
          "output_type": "execute_result",
          "data": {
            "text/plain": [
              "11    517\n",
              "8     182\n",
              "12    125\n",
              "7      40\n",
              "3       7\n",
              "14      6\n",
              "1       2\n",
              "9       2\n",
              "6       2\n",
              "4       1\n",
              "2       1\n",
              "16      1\n",
              "5       1\n",
              "15      1\n",
              "10      1\n",
              "13      1\n",
              "0       1\n",
              "Name: NamePrefix, dtype: int64"
            ]
          },
          "metadata": {
            "tags": []
          },
          "execution_count": 52
        }
      ]
    },
    {
      "cell_type": "code",
      "metadata": {
        "id": "KrQx-p50sYAc",
        "colab_type": "code",
        "colab": {
          "base_uri": "https://localhost:8080/",
          "height": 195
        },
        "outputId": "b31c8bbf-8bce-42ba-e5a9-c763b71d474f"
      },
      "source": [
        "data.head()"
      ],
      "execution_count": 53,
      "outputs": [
        {
          "output_type": "execute_result",
          "data": {
            "text/html": [
              "<div>\n",
              "<style scoped>\n",
              "    .dataframe tbody tr th:only-of-type {\n",
              "        vertical-align: middle;\n",
              "    }\n",
              "\n",
              "    .dataframe tbody tr th {\n",
              "        vertical-align: top;\n",
              "    }\n",
              "\n",
              "    .dataframe thead th {\n",
              "        text-align: right;\n",
              "    }\n",
              "</style>\n",
              "<table border=\"1\" class=\"dataframe\">\n",
              "  <thead>\n",
              "    <tr style=\"text-align: right;\">\n",
              "      <th></th>\n",
              "      <th>Survived</th>\n",
              "      <th>Pclass</th>\n",
              "      <th>Sex</th>\n",
              "      <th>SibSp</th>\n",
              "      <th>Parch</th>\n",
              "      <th>Embarked</th>\n",
              "      <th>Edad</th>\n",
              "      <th>Tarifa</th>\n",
              "      <th>Lname</th>\n",
              "      <th>NamePrefix</th>\n",
              "    </tr>\n",
              "  </thead>\n",
              "  <tbody>\n",
              "    <tr>\n",
              "      <th>0</th>\n",
              "      <td>0</td>\n",
              "      <td>3</td>\n",
              "      <td>1</td>\n",
              "      <td>1</td>\n",
              "      <td>0</td>\n",
              "      <td>S</td>\n",
              "      <td>4</td>\n",
              "      <td>0</td>\n",
              "      <td>73</td>\n",
              "      <td>11</td>\n",
              "    </tr>\n",
              "    <tr>\n",
              "      <th>1</th>\n",
              "      <td>1</td>\n",
              "      <td>1</td>\n",
              "      <td>0</td>\n",
              "      <td>1</td>\n",
              "      <td>0</td>\n",
              "      <td>C</td>\n",
              "      <td>0</td>\n",
              "      <td>3</td>\n",
              "      <td>136</td>\n",
              "      <td>12</td>\n",
              "    </tr>\n",
              "    <tr>\n",
              "      <th>2</th>\n",
              "      <td>1</td>\n",
              "      <td>3</td>\n",
              "      <td>0</td>\n",
              "      <td>0</td>\n",
              "      <td>0</td>\n",
              "      <td>S</td>\n",
              "      <td>7</td>\n",
              "      <td>0</td>\n",
              "      <td>251</td>\n",
              "      <td>8</td>\n",
              "    </tr>\n",
              "    <tr>\n",
              "      <th>3</th>\n",
              "      <td>1</td>\n",
              "      <td>1</td>\n",
              "      <td>0</td>\n",
              "      <td>1</td>\n",
              "      <td>0</td>\n",
              "      <td>S</td>\n",
              "      <td>7</td>\n",
              "      <td>3</td>\n",
              "      <td>198</td>\n",
              "      <td>12</td>\n",
              "    </tr>\n",
              "    <tr>\n",
              "      <th>4</th>\n",
              "      <td>0</td>\n",
              "      <td>3</td>\n",
              "      <td>1</td>\n",
              "      <td>0</td>\n",
              "      <td>0</td>\n",
              "      <td>S</td>\n",
              "      <td>7</td>\n",
              "      <td>1</td>\n",
              "      <td>11</td>\n",
              "      <td>11</td>\n",
              "    </tr>\n",
              "  </tbody>\n",
              "</table>\n",
              "</div>"
            ],
            "text/plain": [
              "   Survived  Pclass  Sex  SibSp  ...  Edad Tarifa  Lname  NamePrefix\n",
              "0         0       3    1      1  ...     4      0     73          11\n",
              "1         1       1    0      1  ...     0      3    136          12\n",
              "2         1       3    0      0  ...     7      0    251           8\n",
              "3         1       1    0      1  ...     7      3    198          12\n",
              "4         0       3    1      0  ...     7      1     11          11\n",
              "\n",
              "[5 rows x 10 columns]"
            ]
          },
          "metadata": {
            "tags": []
          },
          "execution_count": 53
        }
      ]
    },
    {
      "cell_type": "code",
      "metadata": {
        "id": "7yhTIt86sdfy",
        "colab_type": "code",
        "colab": {
          "base_uri": "https://localhost:8080/",
          "height": 54
        },
        "outputId": "ca866ccc-1061-471f-97a5-c64557a4620c"
      },
      "source": [
        "NamePrefix_Mapeado = dict(zip(lNamePrefix.classes_, lNamePrefix.transform(lNamePrefix.classes_)))\n",
        "print(NamePrefix_Mapeado)"
      ],
      "execution_count": 54,
      "outputs": [
        {
          "output_type": "stream",
          "text": [
            "{' Capt': 0, ' Col': 1, ' Don': 2, ' Dr': 3, ' Jonkheer': 4, ' Lady': 5, ' Major': 6, ' Master': 7, ' Miss': 8, ' Mlle': 9, ' Mme': 10, ' Mr': 11, ' Mrs': 12, ' Ms': 13, ' Rev': 14, ' Sir': 15, ' the Countess': 16}\n"
          ],
          "name": "stdout"
        }
      ]
    },
    {
      "cell_type": "markdown",
      "metadata": {
        "id": "r-nZESaKst97",
        "colab_type": "text"
      },
      "source": [
        "mapeo_enmarke"
      ]
    },
    {
      "cell_type": "code",
      "metadata": {
        "id": "faIVdLDYsoZE",
        "colab_type": "code",
        "colab": {
          "base_uri": "https://localhost:8080/",
          "height": 128
        },
        "outputId": "54d43514-71f0-425b-9d4d-791fb01e58f4"
      },
      "source": [
        "1Embarked = preprocessing.LabelEncoder() \n",
        "lEmbarked = lEmbarked.fit(data['Embarked'])\n",
        "data['Embarked'] = lEmbarked.transform(data['Embarked'])"
      ],
      "execution_count": 60,
      "outputs": [
        {
          "output_type": "error",
          "ename": "SyntaxError",
          "evalue": "ignored",
          "traceback": [
            "\u001b[0;36m  File \u001b[0;32m\"<ipython-input-60-4453a346a82c>\"\u001b[0;36m, line \u001b[0;32m1\u001b[0m\n\u001b[0;31m    1Embarked = preprocessing.LabelEncoder()\u001b[0m\n\u001b[0m            ^\u001b[0m\n\u001b[0;31mSyntaxError\u001b[0m\u001b[0;31m:\u001b[0m invalid syntax\n"
          ]
        }
      ]
    },
    {
      "cell_type": "code",
      "metadata": {
        "id": "oWDozoBqs5OI",
        "colab_type": "code",
        "colab": {}
      },
      "source": [
        "data['Embarked'].value_counts()\n"
      ],
      "execution_count": 0,
      "outputs": []
    },
    {
      "cell_type": "code",
      "metadata": {
        "id": "YcAAc2jTs-c3",
        "colab_type": "code",
        "colab": {}
      },
      "source": [
        "data.head()"
      ],
      "execution_count": 0,
      "outputs": []
    },
    {
      "cell_type": "code",
      "metadata": {
        "id": "Xwnj2pTBtAjr",
        "colab_type": "code",
        "colab": {}
      },
      "source": [
        "Embarked_Mapeado = dict(zip(lEmbarked.classes_, lEmbarked.transform(lEmbarked.classes_)))\n",
        "print(Embarked_Mapeado)"
      ],
      "execution_count": 0,
      "outputs": []
    },
    {
      "cell_type": "markdown",
      "metadata": {
        "id": "EmEKehLfCX6V",
        "colab_type": "text"
      },
      "source": [
        "###Guardando CSV"
      ]
    },
    {
      "cell_type": "code",
      "metadata": {
        "id": "sDbEx8YuBD-d",
        "colab_type": "code",
        "colab": {}
      },
      "source": [
        "data.to_csv(\"modificado.csv\",index = False)"
      ],
      "execution_count": 0,
      "outputs": []
    },
    {
      "cell_type": "code",
      "metadata": {
        "id": "ksOXLkVrBbTs",
        "colab_type": "code",
        "outputId": "4d032609-d2b6-46ca-d5e1-f2a2ac0243e3",
        "colab": {
          "base_uri": "https://localhost:8080/",
          "height": 195
        }
      },
      "source": [
        "data2 = pd.read_csv(\"modificado.csv\")\n",
        "data2.head()"
      ],
      "execution_count": 58,
      "outputs": [
        {
          "output_type": "execute_result",
          "data": {
            "text/html": [
              "<div>\n",
              "<style scoped>\n",
              "    .dataframe tbody tr th:only-of-type {\n",
              "        vertical-align: middle;\n",
              "    }\n",
              "\n",
              "    .dataframe tbody tr th {\n",
              "        vertical-align: top;\n",
              "    }\n",
              "\n",
              "    .dataframe thead th {\n",
              "        text-align: right;\n",
              "    }\n",
              "</style>\n",
              "<table border=\"1\" class=\"dataframe\">\n",
              "  <thead>\n",
              "    <tr style=\"text-align: right;\">\n",
              "      <th></th>\n",
              "      <th>Survived</th>\n",
              "      <th>Pclass</th>\n",
              "      <th>Sex</th>\n",
              "      <th>SibSp</th>\n",
              "      <th>Parch</th>\n",
              "      <th>Embarked</th>\n",
              "      <th>Edad</th>\n",
              "      <th>Tarifa</th>\n",
              "      <th>Lname</th>\n",
              "      <th>NamePrefix</th>\n",
              "    </tr>\n",
              "  </thead>\n",
              "  <tbody>\n",
              "    <tr>\n",
              "      <th>0</th>\n",
              "      <td>0</td>\n",
              "      <td>3</td>\n",
              "      <td>1</td>\n",
              "      <td>1</td>\n",
              "      <td>0</td>\n",
              "      <td>S</td>\n",
              "      <td>4</td>\n",
              "      <td>0</td>\n",
              "      <td>73</td>\n",
              "      <td>11</td>\n",
              "    </tr>\n",
              "    <tr>\n",
              "      <th>1</th>\n",
              "      <td>1</td>\n",
              "      <td>1</td>\n",
              "      <td>0</td>\n",
              "      <td>1</td>\n",
              "      <td>0</td>\n",
              "      <td>C</td>\n",
              "      <td>0</td>\n",
              "      <td>3</td>\n",
              "      <td>136</td>\n",
              "      <td>12</td>\n",
              "    </tr>\n",
              "    <tr>\n",
              "      <th>2</th>\n",
              "      <td>1</td>\n",
              "      <td>3</td>\n",
              "      <td>0</td>\n",
              "      <td>0</td>\n",
              "      <td>0</td>\n",
              "      <td>S</td>\n",
              "      <td>7</td>\n",
              "      <td>0</td>\n",
              "      <td>251</td>\n",
              "      <td>8</td>\n",
              "    </tr>\n",
              "    <tr>\n",
              "      <th>3</th>\n",
              "      <td>1</td>\n",
              "      <td>1</td>\n",
              "      <td>0</td>\n",
              "      <td>1</td>\n",
              "      <td>0</td>\n",
              "      <td>S</td>\n",
              "      <td>7</td>\n",
              "      <td>3</td>\n",
              "      <td>198</td>\n",
              "      <td>12</td>\n",
              "    </tr>\n",
              "    <tr>\n",
              "      <th>4</th>\n",
              "      <td>0</td>\n",
              "      <td>3</td>\n",
              "      <td>1</td>\n",
              "      <td>0</td>\n",
              "      <td>0</td>\n",
              "      <td>S</td>\n",
              "      <td>7</td>\n",
              "      <td>1</td>\n",
              "      <td>11</td>\n",
              "      <td>11</td>\n",
              "    </tr>\n",
              "  </tbody>\n",
              "</table>\n",
              "</div>"
            ],
            "text/plain": [
              "   Survived  Pclass  Sex  SibSp  ...  Edad Tarifa  Lname  NamePrefix\n",
              "0         0       3    1      1  ...     4      0     73          11\n",
              "1         1       1    0      1  ...     0      3    136          12\n",
              "2         1       3    0      0  ...     7      0    251           8\n",
              "3         1       1    0      1  ...     7      3    198          12\n",
              "4         0       3    1      0  ...     7      1     11          11\n",
              "\n",
              "[5 rows x 10 columns]"
            ]
          },
          "metadata": {
            "tags": []
          },
          "execution_count": 58
        }
      ]
    },
    {
      "cell_type": "markdown",
      "metadata": {
        "id": "X7k3bgXbHB5B",
        "colab_type": "text"
      },
      "source": [
        "#Ejercicios"
      ]
    },
    {
      "cell_type": "markdown",
      "metadata": {
        "id": "hzkpOD5HHG4q",
        "colab_type": "text"
      },
      "source": [
        "###¿Cuántas hombres y mujeres hay?"
      ]
    },
    {
      "cell_type": "code",
      "metadata": {
        "id": "pyPItttmLaiQ",
        "colab_type": "code",
        "outputId": "d0598ffd-2dd4-4f19-f0da-c809ec468544",
        "colab": {
          "base_uri": "https://localhost:8080/",
          "height": 72
        }
      },
      "source": [
        "data['Sex'].value_counts()"
      ],
      "execution_count": 0,
      "outputs": [
        {
          "output_type": "execute_result",
          "data": {
            "text/plain": [
              "male      577\n",
              "female    314\n",
              "Name: Sex, dtype: int64"
            ]
          },
          "metadata": {
            "tags": []
          },
          "execution_count": 141
        }
      ]
    },
    {
      "cell_type": "markdown",
      "metadata": {
        "id": "mzsqdg6yLdDM",
        "colab_type": "text"
      },
      "source": [
        "###¿Cuántas personas de la clase 1 sobrevivieron?"
      ]
    },
    {
      "cell_type": "code",
      "metadata": {
        "id": "d5p1LZTbL_yj",
        "colab_type": "code",
        "outputId": "a2be1cc0-ff96-42c9-eef7-671dbef5641e",
        "colab": {
          "base_uri": "https://localhost:8080/",
          "height": 35
        }
      },
      "source": [
        "data[(data['Pclass']==1 & (data['Survived']==1))].shape[0]"
      ],
      "execution_count": 0,
      "outputs": [
        {
          "output_type": "execute_result",
          "data": {
            "text/plain": [
              "136"
            ]
          },
          "metadata": {
            "tags": []
          },
          "execution_count": 143
        }
      ]
    },
    {
      "cell_type": "markdown",
      "metadata": {
        "id": "UUgp_BzwMdVn",
        "colab_type": "text"
      },
      "source": [
        "###¿Cúal es la familia más numerosa que abordó el titanic?"
      ]
    },
    {
      "cell_type": "code",
      "metadata": {
        "id": "_kKkWXrqMtCY",
        "colab_type": "code",
        "outputId": "e4e6edc3-013b-45c0-caf5-78d3b078087d",
        "colab": {
          "base_uri": "https://localhost:8080/",
          "height": 237
        }
      },
      "source": [
        "data['Lname'].value_counts()"
      ],
      "execution_count": 0,
      "outputs": [
        {
          "output_type": "execute_result",
          "data": {
            "text/plain": [
              "Andersson     9\n",
              "Sage          7\n",
              "Carter        6\n",
              "Panula        6\n",
              "Skoog         6\n",
              "             ..\n",
              "Lewy          1\n",
              "Moutal        1\n",
              "Willey        1\n",
              "Augustsson    1\n",
              "Cherry        1\n",
              "Name: Lname, Length: 667, dtype: int64"
            ]
          },
          "metadata": {
            "tags": []
          },
          "execution_count": 144
        }
      ]
    },
    {
      "cell_type": "markdown",
      "metadata": {
        "id": "ngkUd0gpOFmT",
        "colab_type": "text"
      },
      "source": [
        "###¿Cúantos Child de la clase 3 sobrevivieron?"
      ]
    },
    {
      "cell_type": "code",
      "metadata": {
        "id": "kpxgf2KsOSPa",
        "colab_type": "code",
        "outputId": "88c9d073-85ca-4643-e412-b078679241bb",
        "colab": {
          "base_uri": "https://localhost:8080/",
          "height": 175
        }
      },
      "source": [
        "data[(data['Edad']=='Child') & (data['Pclass']==3) & (data['Survived']==1)]"
      ],
      "execution_count": 0,
      "outputs": [
        {
          "output_type": "execute_result",
          "data": {
            "text/html": [
              "<div>\n",
              "<style scoped>\n",
              "    .dataframe tbody tr th:only-of-type {\n",
              "        vertical-align: middle;\n",
              "    }\n",
              "\n",
              "    .dataframe tbody tr th {\n",
              "        vertical-align: top;\n",
              "    }\n",
              "\n",
              "    .dataframe thead th {\n",
              "        text-align: right;\n",
              "    }\n",
              "</style>\n",
              "<table border=\"1\" class=\"dataframe\">\n",
              "  <thead>\n",
              "    <tr style=\"text-align: right;\">\n",
              "      <th></th>\n",
              "      <th>Survived</th>\n",
              "      <th>Pclass</th>\n",
              "      <th>Sex</th>\n",
              "      <th>SibSp</th>\n",
              "      <th>Parch</th>\n",
              "      <th>Embarked</th>\n",
              "      <th>Edad</th>\n",
              "      <th>Tarifa</th>\n",
              "      <th>Lname</th>\n",
              "      <th>NamePrefix</th>\n",
              "    </tr>\n",
              "  </thead>\n",
              "  <tbody>\n",
              "    <tr>\n",
              "      <th>125</th>\n",
              "      <td>1</td>\n",
              "      <td>3</td>\n",
              "      <td>male</td>\n",
              "      <td>1</td>\n",
              "      <td>0</td>\n",
              "      <td>C</td>\n",
              "      <td>Child</td>\n",
              "      <td>2_quartile</td>\n",
              "      <td>Nicola-Yarred</td>\n",
              "      <td>Master</td>\n",
              "    </tr>\n",
              "    <tr>\n",
              "      <th>165</th>\n",
              "      <td>1</td>\n",
              "      <td>3</td>\n",
              "      <td>male</td>\n",
              "      <td>0</td>\n",
              "      <td>2</td>\n",
              "      <td>S</td>\n",
              "      <td>Child</td>\n",
              "      <td>3_quartile</td>\n",
              "      <td>Goldsmith</td>\n",
              "      <td>Master</td>\n",
              "    </tr>\n",
              "    <tr>\n",
              "      <th>489</th>\n",
              "      <td>1</td>\n",
              "      <td>3</td>\n",
              "      <td>male</td>\n",
              "      <td>1</td>\n",
              "      <td>1</td>\n",
              "      <td>S</td>\n",
              "      <td>Child</td>\n",
              "      <td>3_quartile</td>\n",
              "      <td>Coutts</td>\n",
              "      <td>Master</td>\n",
              "    </tr>\n",
              "    <tr>\n",
              "      <th>751</th>\n",
              "      <td>1</td>\n",
              "      <td>3</td>\n",
              "      <td>male</td>\n",
              "      <td>0</td>\n",
              "      <td>1</td>\n",
              "      <td>S</td>\n",
              "      <td>Child</td>\n",
              "      <td>2_quartile</td>\n",
              "      <td>Moor</td>\n",
              "      <td>Master</td>\n",
              "    </tr>\n",
              "  </tbody>\n",
              "</table>\n",
              "</div>"
            ],
            "text/plain": [
              "     Survived  Pclass   Sex  SibSp  ...   Edad      Tarifa          Lname NamePrefix\n",
              "125         1       3  male      1  ...  Child  2_quartile  Nicola-Yarred     Master\n",
              "165         1       3  male      0  ...  Child  3_quartile      Goldsmith     Master\n",
              "489         1       3  male      1  ...  Child  3_quartile         Coutts     Master\n",
              "751         1       3  male      0  ...  Child  2_quartile           Moor     Master\n",
              "\n",
              "[4 rows x 10 columns]"
            ]
          },
          "metadata": {
            "tags": []
          },
          "execution_count": 146
        }
      ]
    },
    {
      "cell_type": "markdown",
      "metadata": {
        "id": "aPuCqfz2OSro",
        "colab_type": "text"
      },
      "source": [
        "###¿Cúal es el cuartil de Tarifa que tuvo más sobrevivientes?"
      ]
    },
    {
      "cell_type": "code",
      "metadata": {
        "id": "KT6pi-RiOzhx",
        "colab_type": "code",
        "outputId": "d3d6c4f3-16e8-4855-b664-04fa0de7b3e2",
        "colab": {
          "base_uri": "https://localhost:8080/",
          "height": 109
        }
      },
      "source": [
        "data[data['Survived']==1]['Tarifa'].value_counts()"
      ],
      "execution_count": 0,
      "outputs": [
        {
          "output_type": "execute_result",
          "data": {
            "text/plain": [
              "4_quartile    129\n",
              "3_quartile     99\n",
              "2_quartile     62\n",
              "1_quartile     51\n",
              "Name: Tarifa, dtype: int64"
            ]
          },
          "metadata": {
            "tags": []
          },
          "execution_count": 147
        }
      ]
    }
  ]
}