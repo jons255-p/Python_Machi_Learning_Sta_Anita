{
  "nbformat": 4,
  "nbformat_minor": 0,
  "metadata": {
    "colab": {
      "name": "Tarea Clase 3.ipynb",
      "provenance": [],
      "collapsed_sections": []
    },
    "kernelspec": {
      "name": "python3",
      "display_name": "Python 3"
    }
  },
  "cells": [
    {
      "cell_type": "markdown",
      "metadata": {
        "id": "OFgtgMaGnDHT",
        "colab_type": "text"
      },
      "source": [
        "#Introducción a Libreria Pandas"
      ]
    },
    {
      "cell_type": "markdown",
      "metadata": {
        "id": "qX8HTQvWnGYG",
        "colab_type": "text"
      },
      "source": [
        "**Contexto: Se va a analizar un archivo csv que contiene el rating que obtuvieron algunas películas por parte de algunas webs de reseñas**"
      ]
    },
    {
      "cell_type": "code",
      "metadata": {
        "id": "GzIZI2n-n9ss",
        "colab_type": "code",
        "colab": {}
      },
      "source": [
        "import pandas as pd\n",
        "import numpy as np"
      ],
      "execution_count": 0,
      "outputs": []
    },
    {
      "cell_type": "markdown",
      "metadata": {
        "id": "wbUVVdIUni_I",
        "colab_type": "text"
      },
      "source": [
        "####1- Importe el archivo \"movie_ratings.csv\" y visualice las 5 primeros filas"
      ]
    },
    {
      "cell_type": "code",
      "metadata": {
        "id": "KH4aFkbym-DV",
        "colab_type": "code",
        "colab": {}
      },
      "source": [
        ""
      ],
      "execution_count": 0,
      "outputs": []
    },
    {
      "cell_type": "markdown",
      "metadata": {
        "id": "ATS8dfQrnsfd",
        "colab_type": "text"
      },
      "source": [
        "#### 2- Como podrá notar en la data existe una columna que no es necesaria para nuestro análisis (Unnamed: 0) Eliminela y compruebe que se eliminó correctamente"
      ]
    },
    {
      "cell_type": "code",
      "metadata": {
        "id": "pI97FASuoTXo",
        "colab_type": "code",
        "colab": {}
      },
      "source": [
        ""
      ],
      "execution_count": 0,
      "outputs": []
    },
    {
      "cell_type": "markdown",
      "metadata": {
        "id": "A9cnnOJ9otuw",
        "colab_type": "text"
      },
      "source": [
        "####3- En todo el Dataset existen valores duplicados, ejecutaremos la línea a continuación para demostrarlo:"
      ]
    },
    {
      "cell_type": "code",
      "metadata": {
        "id": "91DBlDdjo-b8",
        "colab_type": "code",
        "colab": {}
      },
      "source": [
        "#El nombre de su DataFrame en lugar de df_1\n",
        "df_1[df_1['movie']=='Gladiator']"
      ],
      "execution_count": 0,
      "outputs": []
    },
    {
      "cell_type": "markdown",
      "metadata": {
        "id": "Oti2YiHKpS3Y",
        "colab_type": "text"
      },
      "source": [
        "####4- Ejecutaremos la siguiente función para eliminar los valores duplicados:"
      ]
    },
    {
      "cell_type": "code",
      "metadata": {
        "id": "uNTqyEjapbYc",
        "colab_type": "code",
        "colab": {}
      },
      "source": [
        "df_1 = df_1.drop_duplicates()"
      ],
      "execution_count": 0,
      "outputs": []
    },
    {
      "cell_type": "code",
      "metadata": {
        "id": "ySPvg-6vpoNB",
        "colab_type": "code",
        "colab": {}
      },
      "source": [
        "#Comprobamos que se eliminaron los valores duplicados\n",
        "df_1[df_1['movie']=='Gladiator']"
      ],
      "execution_count": 0,
      "outputs": []
    },
    {
      "cell_type": "markdown",
      "metadata": {
        "id": "2A_-2ydxpx7H",
        "colab_type": "text"
      },
      "source": [
        "**Ahora con la data preparada, se le pide desarrollar:**\n",
        "\n",
        "**Tip: En este dataset los números no trabajan como texto (string) así que se trabajan como tal, sin comillas**"
      ]
    },
    {
      "cell_type": "markdown",
      "metadata": {
        "id": "m3Zm-glYqBNf",
        "colab_type": "text"
      },
      "source": [
        "####5- Halle el número de peliculas con rating 'imdb' mayor a 8.0"
      ]
    },
    {
      "cell_type": "code",
      "metadata": {
        "id": "olWNa4jaqcC0",
        "colab_type": "code",
        "colab": {}
      },
      "source": [
        ""
      ],
      "execution_count": 0,
      "outputs": []
    },
    {
      "cell_type": "markdown",
      "metadata": {
        "id": "Iss7oTFfqre0",
        "colab_type": "text"
      },
      "source": [
        "####6- ¿Cúantas películas se estrenaron en el 2010?"
      ]
    },
    {
      "cell_type": "code",
      "metadata": {
        "id": "9w-jawcRqz9Q",
        "colab_type": "code",
        "colab": {}
      },
      "source": [
        ""
      ],
      "execution_count": 0,
      "outputs": []
    },
    {
      "cell_type": "markdown",
      "metadata": {
        "id": "Zf_xQuBCrTjs",
        "colab_type": "text"
      },
      "source": [
        "####7- Muestre las películas se estrenaron en el 2000 y tienen un rating de metascore mayor a 70.0"
      ]
    },
    {
      "cell_type": "code",
      "metadata": {
        "id": "ObsDFdKWrxWS",
        "colab_type": "code",
        "colab": {}
      },
      "source": [
        ""
      ],
      "execution_count": 0,
      "outputs": []
    },
    {
      "cell_type": "markdown",
      "metadata": {
        "id": "RKl3HFAzsD4A",
        "colab_type": "text"
      },
      "source": [
        "####8- Halle el mayor número de votos (Utilice la función .max( ))"
      ]
    },
    {
      "cell_type": "code",
      "metadata": {
        "id": "7b5HmNycsUbZ",
        "colab_type": "code",
        "colab": {}
      },
      "source": [
        ""
      ],
      "execution_count": 0,
      "outputs": []
    },
    {
      "cell_type": "markdown",
      "metadata": {
        "id": "4Hyg3rVPsZgn",
        "colab_type": "text"
      },
      "source": [
        "####9- Ahora con el mayor número de votos hallado, muestre la película con ese número de votos"
      ]
    },
    {
      "cell_type": "code",
      "metadata": {
        "id": "5pdj6kFbsmcY",
        "colab_type": "code",
        "colab": {}
      },
      "source": [
        ""
      ],
      "execution_count": 0,
      "outputs": []
    },
    {
      "cell_type": "markdown",
      "metadata": {
        "id": "6nFdIik_s_Ra",
        "colab_type": "text"
      },
      "source": [
        "####10- Muestre las peliculas que tienen el rating mayor de 'imdb' o 'metascore'"
      ]
    },
    {
      "cell_type": "code",
      "metadata": {
        "id": "tO3m9DcOtMaW",
        "colab_type": "code",
        "colab": {}
      },
      "source": [
        ""
      ],
      "execution_count": 0,
      "outputs": []
    }
  ]
}