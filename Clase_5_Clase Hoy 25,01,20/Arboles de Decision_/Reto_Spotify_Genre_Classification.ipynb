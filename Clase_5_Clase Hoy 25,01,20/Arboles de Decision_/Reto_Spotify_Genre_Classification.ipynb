{
  "nbformat": 4,
  "nbformat_minor": 0,
  "metadata": {
    "colab": {
      "name": "Reto: Spotify Genre Classification.ipynb",
      "provenance": []
    },
    "kernelspec": {
      "name": "python3",
      "display_name": "Python 3"
    }
  },
  "cells": [
    {
      "cell_type": "markdown",
      "metadata": {
        "id": "bLaTL4Sv_rQ-",
        "colab_type": "text"
      },
      "source": [
        "#Reto: Spotify"
      ]
    },
    {
      "cell_type": "markdown",
      "metadata": {
        "id": "eHAYZzyy_9AU",
        "colab_type": "text"
      },
      "source": [
        "\n",
        "\n",
        "> El Dataset con el que se trabajará pertenece a data proporcionada por Spotify para el análisis, nuestro reto se encuentra en poder predecir a que género pertenece una canción considerando todas las caracteristicas que se nos presenta\n",
        "\n"
      ]
    },
    {
      "cell_type": "markdown",
      "metadata": {
        "id": "P1LswGRyAzsW",
        "colab_type": "text"
      },
      "source": [
        "\n",
        "\n",
        "> Puede encontrar el Diccionar de Datos en el siguiente enlace: [Get Audio Features for a Track ](https://developer.spotify.com/documentation/web-api/reference/tracks/get-audio-features/)\n",
        "\n"
      ]
    },
    {
      "cell_type": "markdown",
      "metadata": {
        "id": "6Nsh2PBshJRD",
        "colab_type": "text"
      },
      "source": [
        "\n",
        "\n",
        "> Tips: \n",
        "\n",
        "1.   Como existen muchas etiquetas, no es recomendable guardar el arbol como imagen, solo visualizarlo en la celda\n",
        "2.   El tiempo de ejecución será mayor comparado a otros ejercicios\n",
        "\n",
        "1.   No espere un Score alto\n",
        "2.   Es clave encontrar el max_depth óptimo\n",
        "\n",
        "\n",
        "\n",
        "\n",
        "\n",
        "\n",
        "\n",
        "\n"
      ]
    },
    {
      "cell_type": "code",
      "metadata": {
        "id": "Wof9IPGFzD5L",
        "colab_type": "code",
        "colab": {}
      },
      "source": [
        "import pandas as pd"
      ],
      "execution_count": 0,
      "outputs": []
    },
    {
      "cell_type": "code",
      "metadata": {
        "id": "hfe84LkB0a7t",
        "colab_type": "code",
        "colab": {}
      },
      "source": [
        "df = pd.read_csv(\"SpotifyFeatures.csv\")\n",
        "df.head()"
      ],
      "execution_count": 0,
      "outputs": []
    },
    {
      "cell_type": "markdown",
      "metadata": {
        "id": "W21-8gD9f60D",
        "colab_type": "text"
      },
      "source": [
        "\n",
        "\n",
        "> Ejecutar está linea para reemplazar el caracter especial &\n",
        "\n"
      ]
    },
    {
      "cell_type": "code",
      "metadata": {
        "id": "HrCdWTCoFa4i",
        "colab_type": "code",
        "colab": {}
      },
      "source": [
        "df['genre'] = df['genre'].replace('R&B','RYB')"
      ],
      "execution_count": 0,
      "outputs": []
    },
    {
      "cell_type": "markdown",
      "metadata": {
        "id": "ezBURn8agGGP",
        "colab_type": "text"
      },
      "source": [
        "###Limpieza de Data"
      ]
    },
    {
      "cell_type": "markdown",
      "metadata": {
        "id": "XckYXNKguIcR",
        "colab_type": "text"
      },
      "source": [
        "> Haga los ajustes que crea conveniente (si los hubiera) para poder procesar la data\n",
        "\n"
      ]
    },
    {
      "cell_type": "markdown",
      "metadata": {
        "id": "nm4j1Ssogdh8",
        "colab_type": "text"
      },
      "source": [
        "\n",
        "\n",
        "> Esta parte es importante pues determinará el score, hay amplias posibilidades de manejar esta data, puede hacer diversas pruebas para determinar el mejor resultado\n",
        "\n"
      ]
    },
    {
      "cell_type": "markdown",
      "metadata": {
        "id": "V_CEeYsRoT1p",
        "colab_type": "text"
      },
      "source": [
        "\n",
        "\n",
        "> Puede hacer todos los cambios necesarios, hasta eliminar generos si considera que no son relevantes o no son comprensibles\n",
        "\n"
      ]
    },
    {
      "cell_type": "code",
      "metadata": {
        "id": "nC4ciSa-Gyz5",
        "colab_type": "code",
        "colab": {}
      },
      "source": [
        "df['genre'].value_counts()"
      ],
      "execution_count": 0,
      "outputs": []
    },
    {
      "cell_type": "markdown",
      "metadata": {
        "id": "Qr9LvIGlg51-",
        "colab_type": "text"
      },
      "source": [
        "###Separa la Data de Entrenamiento y Validación"
      ]
    },
    {
      "cell_type": "code",
      "metadata": {
        "id": "h7G5RZdtoGq0",
        "colab_type": "code",
        "colab": {}
      },
      "source": [
        ""
      ],
      "execution_count": 0,
      "outputs": []
    },
    {
      "cell_type": "markdown",
      "metadata": {
        "id": "jU1JtvxQhAbL",
        "colab_type": "text"
      },
      "source": [
        "###Entrenar el árbol"
      ]
    },
    {
      "cell_type": "code",
      "metadata": {
        "id": "qEZ8POYooK9f",
        "colab_type": "code",
        "colab": {}
      },
      "source": [
        ""
      ],
      "execution_count": 0,
      "outputs": []
    },
    {
      "cell_type": "markdown",
      "metadata": {
        "id": "E3BEJ8-uiwsP",
        "colab_type": "text"
      },
      "source": [
        "###Hallando el \"max_depth\" óptimo"
      ]
    },
    {
      "cell_type": "code",
      "metadata": {
        "id": "nf_6kQAR-LBo",
        "colab_type": "code",
        "colab": {}
      },
      "source": [
        "max_depth_range = list(range(3, 46)) #Reemplazar el max valor (15) con la máxima profundidad por defecto para su arbol +1\n",
        "accuracy = []\n",
        "for depth in max_depth_range:\n",
        "    clf = DecisionTreeClassifier(max_depth = depth)\n",
        "    clf.fit(x_train, y_train)    \n",
        "    score = clf.score(x_val, y_val)\n",
        "    \n",
        "    accuracy.append(score)"
      ],
      "execution_count": 0,
      "outputs": []
    },
    {
      "cell_type": "code",
      "metadata": {
        "id": "MfBEMUSBT8-a",
        "colab_type": "code",
        "colab": {}
      },
      "source": [
        "import matplotlib.pyplot as plt\n",
        "%matplotlib inline"
      ],
      "execution_count": 0,
      "outputs": []
    },
    {
      "cell_type": "code",
      "metadata": {
        "id": "BT7mZCbAT_Ji",
        "colab_type": "code",
        "colab": {}
      },
      "source": [
        "plt.figure(figsize=(15,4)) #Tamaño del Gráfico en inches\n",
        "plt.plot(accuracy)\n",
        "plt.xticks(list(range(len(max_depth_range))),max_depth_range)\n",
        "plt.grid()\n",
        "plt.show()"
      ],
      "execution_count": 0,
      "outputs": []
    },
    {
      "cell_type": "markdown",
      "metadata": {
        "id": "4Ja7JlFyi45Y",
        "colab_type": "text"
      },
      "source": [
        "###Graficando el árbol"
      ]
    },
    {
      "cell_type": "code",
      "metadata": {
        "id": "S-SzgKzA8L-m",
        "colab_type": "code",
        "colab": {}
      },
      "source": [
        "from sklearn.tree import export_graphviz\n",
        "import graphviz\n",
        "etiquetas = lgenre.classes_  #IMPORTANTE: para obtener el nombre de las clases reemplazar: \"lgenre\" -> Label Encoder de la columna Genero\n",
        "dot_data = export_graphviz(m2,feature_names= x.columns,class_names=etiquetas,filled=True, rounded=True,special_characters=True) \n",
        "graph = graphviz.Source(dot_data)\n",
        "#graph.render(\"arbol3\",format='png')  La imagen no se aprecia\n",
        "graph"
      ],
      "execution_count": 0,
      "outputs": []
    }
  ]
}