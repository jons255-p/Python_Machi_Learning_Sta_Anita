{
  "nbformat": 4,
  "nbformat_minor": 0,
  "metadata": {
    "colab": {
      "name": "Smarthphone - Evaluación del Modelo.ipynb",
      "provenance": []
    },
    "kernelspec": {
      "name": "python3",
      "display_name": "Python 3"
    }
  },
  "cells": [
    {
      "cell_type": "markdown",
      "metadata": {
        "id": "X80QlO9TiANi",
        "colab_type": "text"
      },
      "source": [
        "#Smarthphone Classification"
      ]
    },
    {
      "cell_type": "markdown",
      "metadata": {
        "id": "2rZZPi7HiIGF",
        "colab_type": "text"
      },
      "source": [
        "##Importar CSV"
      ]
    },
    {
      "cell_type": "code",
      "metadata": {
        "id": "PWtCp-9Uh8t_",
        "colab_type": "code",
        "colab": {}
      },
      "source": [
        "import pandas as pd\n",
        "df = pd.read_csv(\"Smarthphone.csv\")\n",
        "df.head()"
      ],
      "execution_count": 0,
      "outputs": []
    },
    {
      "cell_type": "markdown",
      "metadata": {
        "id": "ieWyA3lrihXp",
        "colab_type": "text"
      },
      "source": [
        "##Data de Entrenamiento y Test"
      ]
    },
    {
      "cell_type": "code",
      "metadata": {
        "id": "UHMocc5HikZC",
        "colab_type": "code",
        "colab": {}
      },
      "source": [
        "X = df.drop(['price_range'], axis=1)\n",
        "y = df['price_range']"
      ],
      "execution_count": 0,
      "outputs": []
    },
    {
      "cell_type": "code",
      "metadata": {
        "id": "Kt03_sATikv9",
        "colab_type": "code",
        "colab": {
          "base_uri": "https://localhost:8080/",
          "height": 54
        },
        "outputId": "7e9670fa-4474-4590-d9a3-13642751013b"
      },
      "source": [
        "from sklearn.model_selection import train_test_split\n",
        "X_train, X_test, y_train, y_test = train_test_split(x, y, test_size=0.20)\n",
        "print('Train shape: ',X_train.shape)\n",
        "print('Validation shape: ',X_test.shape)"
      ],
      "execution_count": 15,
      "outputs": [
        {
          "output_type": "stream",
          "text": [
            "Train shape:  (1600, 20)\n",
            "Validation shape:  (400, 20)\n"
          ],
          "name": "stdout"
        }
      ]
    },
    {
      "cell_type": "markdown",
      "metadata": {
        "id": "xF9zk-r4itNA",
        "colab_type": "text"
      },
      "source": [
        "##Árbol de Clasficación"
      ]
    },
    {
      "cell_type": "code",
      "metadata": {
        "id": "mlIpwgnsip-o",
        "colab_type": "code",
        "colab": {
          "base_uri": "https://localhost:8080/",
          "height": 127
        },
        "outputId": "1a3d0006-e2c2-4bf7-89fd-29ccbc0cefeb"
      },
      "source": [
        "from sklearn.tree import DecisionTreeClassifier\n",
        "clasificador = DecisionTreeClassifier(max_depth=9)\n",
        "clasificador.fit(X_train,y_train)"
      ],
      "execution_count": 21,
      "outputs": [
        {
          "output_type": "execute_result",
          "data": {
            "text/plain": [
              "DecisionTreeClassifier(ccp_alpha=0.0, class_weight=None, criterion='gini',\n",
              "                       max_depth=9, max_features=None, max_leaf_nodes=None,\n",
              "                       min_impurity_decrease=0.0, min_impurity_split=None,\n",
              "                       min_samples_leaf=1, min_samples_split=2,\n",
              "                       min_weight_fraction_leaf=0.0, presort='deprecated',\n",
              "                       random_state=None, splitter='best')"
            ]
          },
          "metadata": {
            "tags": []
          },
          "execution_count": 21
        }
      ]
    },
    {
      "cell_type": "code",
      "metadata": {
        "id": "23xXUgRij6gD",
        "colab_type": "code",
        "colab": {
          "base_uri": "https://localhost:8080/",
          "height": 35
        },
        "outputId": "51c9bb55-9d37-4266-f5b9-c2025fac84fe"
      },
      "source": [
        "clasificador.score(X_test,y_test)"
      ],
      "execution_count": 22,
      "outputs": [
        {
          "output_type": "execute_result",
          "data": {
            "text/plain": [
              "0.84"
            ]
          },
          "metadata": {
            "tags": []
          },
          "execution_count": 22
        }
      ]
    },
    {
      "cell_type": "code",
      "metadata": {
        "id": "ZN9hxC8Aivo1",
        "colab_type": "code",
        "colab": {}
      },
      "source": [
        "max_depth_range = list(range(2, 15)) #Reemplazar el max valor (15) con la máxima profundidad por defecto para su arbol +1\n",
        "accuracy = []\n",
        "for depth in max_depth_range:\n",
        "    clf = DecisionTreeClassifier(max_depth = depth)\n",
        "    clf.fit(X_train, y_train)    \n",
        "    score = clf.score(X_test, y_test)\n",
        "    \n",
        "    accuracy.append(score)"
      ],
      "execution_count": 0,
      "outputs": []
    },
    {
      "cell_type": "code",
      "metadata": {
        "id": "NxQp_RpYiw7K",
        "colab_type": "code",
        "colab": {}
      },
      "source": [
        "import matplotlib.pyplot as plt\n",
        "%matplotlib inline"
      ],
      "execution_count": 0,
      "outputs": []
    },
    {
      "cell_type": "code",
      "metadata": {
        "id": "ph6AlQm9j1a_",
        "colab_type": "code",
        "colab": {
          "base_uri": "https://localhost:8080/",
          "height": 265
        },
        "outputId": "6aebaf28-8703-4929-a093-86a4f5d5fd9c"
      },
      "source": [
        "plt.plot(accuracy)\n",
        "plt.xticks(list(range(len(max_depth_range))),max_depth_range)\n",
        "plt.grid()\n",
        "plt.show()"
      ],
      "execution_count": 20,
      "outputs": [
        {
          "output_type": "display_data",
          "data": {
            "image/png": "[encoded data removed]",
            "text/plain": [
              "<Figure size 432x288 with 1 Axes>"
            ]
          },
          "metadata": {
            "tags": []
          }
        }
      ]
    },
    {
      "cell_type": "markdown",
      "metadata": {
        "id": "mAY3QZxEkOxT",
        "colab_type": "text"
      },
      "source": [
        "##Matriz de confusión"
      ]
    },
    {
      "cell_type": "code",
      "metadata": {
        "id": "2H6xWNKZmdvx",
        "colab_type": "code",
        "colab": {}
      },
      "source": [
        ""
      ],
      "execution_count": 0,
      "outputs": []
    },
    {
      "cell_type": "markdown",
      "metadata": {
        "id": "TJdMB36XlsIv",
        "colab_type": "text"
      },
      "source": [
        "##Cross Validation"
      ]
    },
    {
      "cell_type": "code",
      "metadata": {
        "id": "oVt9JNffmeG0",
        "colab_type": "code",
        "colab": {}
      },
      "source": [
        ""
      ],
      "execution_count": 0,
      "outputs": []
    }
  ]
}