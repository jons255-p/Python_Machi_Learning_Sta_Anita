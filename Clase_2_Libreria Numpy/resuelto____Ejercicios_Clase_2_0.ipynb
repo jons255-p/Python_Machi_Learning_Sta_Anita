{
  "nbformat": 4,
  "nbformat_minor": 0,
  "metadata": {
    "colab": {
      "name": "Ejercicios_Clase_2_0.ipynb",
      "provenance": [],
      "collapsed_sections": [],
      "toc_visible": true
    },
    "kernelspec": {
      "name": "python3",
      "display_name": "Python 3"
    }
  },
  "cells": [
    {
      "cell_type": "code",
      "metadata": {
        "id": "mmpFo72qkrAG",
        "colab_type": "code",
        "colab": {}
      },
      "source": [
        "import numpy as np\n",
        "# In summary this library has a powerful N-dimensional array object."
      ],
      "execution_count": 0,
      "outputs": []
    },
    {
      "cell_type": "code",
      "metadata": {
        "id": "GQNYFUQX733L",
        "colab_type": "code",
        "colab": {
          "base_uri": "https://localhost:8080/",
          "height": 544
        },
        "outputId": "8c13ec59-43b5-4e72-bafc-f080630c2ca1"
      },
      "source": [
        ""
      ],
      "execution_count": 12,
      "outputs": [
        {
          "output_type": "stream",
          "text": [
            "[[ 8.3 70.  10.3]\n",
            " [ 8.6 65.  10.3]\n",
            " [ 8.8 63.  10.2]\n",
            " [10.5 72.  16.4]\n",
            " [10.7 81.  18.8]\n",
            " [10.8 83.  19.7]\n",
            " [11.  66.  15.6]\n",
            " [11.  75.  18.2]\n",
            " [11.1 80.  22.6]\n",
            " [11.2 75.  19.9]\n",
            " [11.3 79.  24.2]\n",
            " [11.4 76.  21. ]\n",
            " [11.4 76.  21.4]\n",
            " [11.7 69.  21.3]\n",
            " [12.  75.  19.1]\n",
            " [12.9 74.  22.2]\n",
            " [12.9 85.  33.8]\n",
            " [13.3 86.  27.4]\n",
            " [13.7 71.  25.7]\n",
            " [13.8 64.  24.9]\n",
            " [14.  78.  34.5]\n",
            " [14.2 80.  31.7]\n",
            " [14.5 74.  36.3]\n",
            " [16.  72.  38.3]\n",
            " [16.3 77.  42.6]\n",
            " [17.3 81.  55.4]\n",
            " [17.5 82.  55.7]\n",
            " [17.9 80.  58.3]\n",
            " [18.  80.  51.5]\n",
            " [18.  80.  51. ]\n",
            " [20.6 87.  77. ]]\n"
          ],
          "name": "stdout"
        }
      ]
    },
    {
      "cell_type": "markdown",
      "metadata": {
        "id": "uRxfsY1OkcNb",
        "colab_type": "text"
      },
      "source": [
        "####1- Cree un array que contenga los siguientes elementos: [1, 3., True, 'Hola Mundo']. ¿De qué tipo es este array?."
      ]
    },
    {
      "cell_type": "code",
      "metadata": {
        "id": "mqbQOkokk2ib",
        "colab_type": "code",
        "colab": {
          "base_uri": "https://localhost:8080/",
          "height": 34
        },
        "outputId": "d6f8c88b-2dd0-4efb-8a90-517c6fb82954"
      },
      "source": [
        "a=np.array([1,3.,True,\"hola mundo\"])\n",
        "print(a)"
      ],
      "execution_count": 48,
      "outputs": [
        {
          "output_type": "stream",
          "text": [
            "['1' '3.0' 'True' 'hola mundo']\n"
          ],
          "name": "stdout"
        }
      ]
    },
    {
      "cell_type": "markdown",
      "metadata": {
        "id": "M35_yvCdk200",
        "colab_type": "text"
      },
      "source": [
        "####2- Cree un array cuyos elementos sean los enteros pares en [1,100] y en orden decreciente. Muestre los 10 últimos por pantalla. "
      ]
    },
    {
      "cell_type": "code",
      "metadata": {
        "id": "bvPhOz2KmGV1",
        "colab_type": "code",
        "colab": {
          "base_uri": "https://localhost:8080/",
          "height": 68
        },
        "outputId": "9d7f6841-a9bc-4ac6-bbba-e76f22d1c912"
      },
      "source": [
        "a = np.arange(100, 1, -2)\n",
        "print(a)"
      ],
      "execution_count": 51,
      "outputs": [
        {
          "output_type": "stream",
          "text": [
            "[100  98  96  94  92  90  88  86  84  82  80  78  76  74  72  70  68  66\n",
            "  64  62  60  58  56  54  52  50  48  46  44  42  40  38  36  34  32  30\n",
            "  28  26  24  22  20  18  16  14  12  10   8   6   4   2]\n"
          ],
          "name": "stdout"
        }
      ]
    },
    {
      "cell_type": "markdown",
      "metadata": {
        "id": "0z9Q2rRFmG8L",
        "colab_type": "text"
      },
      "source": [
        "####3- Cree un array con 10 elementos en el intervalo [-2,2] y equidistantes entre ellos. Muestre por pantalla el array. Después muestre sólo el tercer y cuarto elemento."
      ]
    },
    {
      "cell_type": "code",
      "metadata": {
        "id": "gsAwe_AvmOKR",
        "colab_type": "code",
        "colab": {
          "base_uri": "https://localhost:8080/",
          "height": 51
        },
        "outputId": "d914dba8-e6e5-488b-e5fe-758fc8cac284"
      },
      "source": [
        "a = np.linspace(-2, 2,  10)\n",
        "print(a)"
      ],
      "execution_count": 54,
      "outputs": [
        {
          "output_type": "stream",
          "text": [
            "[-2.         -1.55555556 -1.11111111 -0.66666667 -0.22222222  0.22222222\n",
            "  0.66666667  1.11111111  1.55555556  2.        ]\n"
          ],
          "name": "stdout"
        }
      ]
    },
    {
      "cell_type": "markdown",
      "metadata": {
        "id": "vubZjExqmSAf",
        "colab_type": "text"
      },
      "source": [
        "4- Genere un array de tipo 'float' de dimensiones (4, 4). Debe contener números consecutivos del 1 al 16.***"
      ]
    },
    {
      "cell_type": "code",
      "metadata": {
        "id": "ELdIuW0RmX1l",
        "colab_type": "code",
        "colab": {}
      },
      "source": [
        ""
      ],
      "execution_count": 0,
      "outputs": []
    },
    {
      "cell_type": "markdown",
      "metadata": {
        "id": "_XDvTjVumYIn",
        "colab_type": "text"
      },
      "source": [
        "####5- Dado el array:\n",
        "\n",
        "2 4 5 6\n",
        "\n",
        "0 3 7 4\n",
        "\n",
        "8 8 5 2\n",
        "\n",
        "1 5 6 1\n",
        "\n",
        "Seleccione con una instrucción el subarray de elementos\n",
        "\n",
        "0 3 7 4\n"
      ]
    },
    {
      "cell_type": "code",
      "metadata": {
        "id": "fliLw1xemljt",
        "colab_type": "code",
        "colab": {}
      },
      "source": [
        ""
      ],
      "execution_count": 0,
      "outputs": []
    },
    {
      "cell_type": "markdown",
      "metadata": {
        "id": "KU0QyEOJm2Wb",
        "colab_type": "text"
      },
      "source": [
        "####6- ¿Puedo sumar los arrays a = [[1, 2, 3]] y b = [[0], [1], [0]]?. ¿Por qué?. De ser posible, ¿Cuál es su suma?."
      ]
    },
    {
      "cell_type": "code",
      "metadata": {
        "id": "u8bDTUBVm_7b",
        "colab_type": "code",
        "colab": {}
      },
      "source": [
        ""
      ],
      "execution_count": 0,
      "outputs": []
    },
    {
      "cell_type": "markdown",
      "metadata": {
        "id": "lDornWmgnEfV",
        "colab_type": "text"
      },
      "source": [
        "####7- Dados los arrays a = [1, 4, 2, 7] y b = [1, 3, 2, 9], obtenga la media aritmética de la diferencia (a-b)."
      ]
    },
    {
      "cell_type": "code",
      "metadata": {
        "id": "237_UbxGnO3G",
        "colab_type": "code",
        "colab": {}
      },
      "source": [
        ""
      ],
      "execution_count": 0,
      "outputs": []
    },
    {
      "cell_type": "markdown",
      "metadata": {
        "id": "n-VD2sHinPSB",
        "colab_type": "text"
      },
      "source": [
        "####10- Utilice el archivo \"trees.csv\", lealo utilizando la función numpy.genfromtxt (Contiene una línea de cabecera y un index)"
      ]
    },
    {
      "cell_type": "code",
      "metadata": {
        "id": "SHM9du56oerb",
        "colab_type": "code",
        "colab": {
          "base_uri": "https://localhost:8080/",
          "height": 544
        },
        "outputId": "e8817fba-30ce-4a1d-c28e-64d94a2b8c1c"
      },
      "source": [
        "datos = np.genfromtxt(\"trees.csv\", delimiter=\",\",skip_header=1,usecols=(1,2,3))\n",
        "                                                                      \n",
        "print(datos)"
      ],
      "execution_count": 13,
      "outputs": [
        {
          "output_type": "stream",
          "text": [
            "[[ 8.3 70.  10.3]\n",
            " [ 8.6 65.  10.3]\n",
            " [ 8.8 63.  10.2]\n",
            " [10.5 72.  16.4]\n",
            " [10.7 81.  18.8]\n",
            " [10.8 83.  19.7]\n",
            " [11.  66.  15.6]\n",
            " [11.  75.  18.2]\n",
            " [11.1 80.  22.6]\n",
            " [11.2 75.  19.9]\n",
            " [11.3 79.  24.2]\n",
            " [11.4 76.  21. ]\n",
            " [11.4 76.  21.4]\n",
            " [11.7 69.  21.3]\n",
            " [12.  75.  19.1]\n",
            " [12.9 74.  22.2]\n",
            " [12.9 85.  33.8]\n",
            " [13.3 86.  27.4]\n",
            " [13.7 71.  25.7]\n",
            " [13.8 64.  24.9]\n",
            " [14.  78.  34.5]\n",
            " [14.2 80.  31.7]\n",
            " [14.5 74.  36.3]\n",
            " [16.  72.  38.3]\n",
            " [16.3 77.  42.6]\n",
            " [17.3 81.  55.4]\n",
            " [17.5 82.  55.7]\n",
            " [17.9 80.  58.3]\n",
            " [18.  80.  51.5]\n",
            " [18.  80.  51. ]\n",
            " [20.6 87.  77. ]]\n"
          ],
          "name": "stdout"
        }
      ]
    },
    {
      "cell_type": "markdown",
      "metadata": {
        "id": "1c-pEmltofDF",
        "colab_type": "text"
      },
      "source": [
        "####11- Convierta los datos a unidades conocidas por usted"
      ]
    },
    {
      "cell_type": "code",
      "metadata": {
        "id": "4mnb-DJpol0H",
        "colab_type": "code",
        "colab": {
          "base_uri": "https://localhost:8080/",
          "height": 544
        },
        "outputId": "22bcda12-8100-4614-f75a-b763db3d0561"
      },
      "source": [
        "#conversion de unidades (in,ft,ft*3) -->(m,m,m3)\n",
        "datos=datos*(0.0254,0.3048,0.3048**3)\n",
        "print(datos)"
      ],
      "execution_count": 17,
      "outputs": [
        {
          "output_type": "stream",
          "text": [
            "[[1.36012631e-04 6.04168239e-01 6.62242085e-06]\n",
            " [1.40928750e-04 5.61013365e-01 6.62242085e-06]\n",
            " [1.44206163e-04 5.43751415e-01 6.55812551e-06]\n",
            " [1.72064172e-04 6.21430189e-01 1.05444371e-05]\n",
            " [1.75341585e-04 6.99108962e-01 1.20875254e-05]\n",
            " [1.76980291e-04 7.16370912e-01 1.26661836e-05]\n",
            " [1.80257704e-04 5.69644340e-01 1.00300743e-05]\n",
            " [1.80257704e-04 6.47323113e-01 1.17017534e-05]\n",
            " [1.81896410e-04 6.90477987e-01 1.45307487e-05]\n",
            " [1.83535117e-04 6.47323113e-01 1.27947743e-05]\n",
            " [1.85173823e-04 6.81847012e-01 1.55594742e-05]\n",
            " [1.86812530e-04 6.55954088e-01 1.35020231e-05]\n",
            " [1.86812530e-04 6.55954088e-01 1.37592045e-05]\n",
            " [1.91728649e-04 5.95537264e-01 1.36949091e-05]\n",
            " [1.96644768e-04 6.47323113e-01 1.22804115e-05]\n",
            " [2.11393126e-04 6.38692138e-01 1.42735673e-05]\n",
            " [2.11393126e-04 7.33632862e-01 2.17318277e-05]\n",
            " [2.17947951e-04 7.42263836e-01 1.76169254e-05]\n",
            " [2.24502777e-04 6.12799214e-01 1.65239045e-05]\n",
            " [2.26141483e-04 5.52382390e-01 1.60095417e-05]\n",
            " [2.29418896e-04 6.73216038e-01 2.21818951e-05]\n",
            " [2.32696309e-04 6.90477987e-01 2.03816253e-05]\n",
            " [2.37612428e-04 6.38692138e-01 2.33392114e-05]\n",
            " [2.62193024e-04 6.21430189e-01 2.46251183e-05]\n",
            " [2.67109143e-04 6.64585063e-01 2.73898183e-05]\n",
            " [2.83496207e-04 6.99108962e-01 3.56196229e-05]\n",
            " [2.86773620e-04 7.07739937e-01 3.58125089e-05]\n",
            " [2.93328446e-04 6.90477987e-01 3.74841879e-05]\n",
            " [2.94967152e-04 6.90477987e-01 3.31121043e-05]\n",
            " [2.94967152e-04 6.90477987e-01 3.27906275e-05]\n",
            " [3.37573518e-04 7.50894811e-01 4.95074180e-05]]\n"
          ],
          "name": "stdout"
        }
      ]
    },
    {
      "cell_type": "markdown",
      "metadata": {
        "id": "j9hZqxhHomJI",
        "colab_type": "text"
      },
      "source": [
        "####12- ¿Cúal es la media de la altura de los árboles?"
      ]
    },
    {
      "cell_type": "code",
      "metadata": {
        "id": "m0XCqZmjo8ys",
        "colab_type": "code",
        "colab": {
          "base_uri": "https://localhost:8080/",
          "height": 68
        },
        "outputId": "3e3b71fd-4c2e-4041-cb42-0aca6a0bd938"
      },
      "source": [
        "#analisis estadistico\n",
        "print(\"Long.circul\",\"        Altura\", \"      area\")\n",
        "print(np.mean(datos,axis=0))\n",
        "print(f\"desviacion standar\",np.var(datos[:,1]))"
      ],
      "execution_count": 30,
      "outputs": [
        {
          "output_type": "stream",
          "text": [
            "Long.circul         Altura       area\n",
            "[2.17102167e-04 6.55954088e-01 1.93985287e-05]\n",
            "desviacion standar 0.002926882552676035\n"
          ],
          "name": "stdout"
        }
      ]
    },
    {
      "cell_type": "markdown",
      "metadata": {
        "id": "UPuyn_jjo86e",
        "colab_type": "text"
      },
      "source": [
        "####13- Realice un histograma del volumen de los árboles"
      ]
    },
    {
      "cell_type": "code",
      "metadata": {
        "id": "Fou8xBgBIzbS",
        "colab_type": "code",
        "colab": {}
      },
      "source": [
        "%matplotlib inline\n",
        "import matplotlib.pyplot as plt\n"
      ],
      "execution_count": 0,
      "outputs": []
    },
    {
      "cell_type": "code",
      "metadata": {
        "id": "DKB2R0L1pbYf",
        "colab_type": "code",
        "colab": {
          "base_uri": "https://localhost:8080/",
          "height": 265
        },
        "outputId": "e2f9bf80-b086-489f-8902-1cfb76602f42"
      },
      "source": [
        "plt.hist(datos[:,1])\n",
        "plt.show()"
      ],
      "execution_count": 33,
      "outputs": [
        {
          "output_type": "display_data",
          "data": {
            "image/png": "[encoded data removed]",
            "text/plain": [
              "<Figure size 432x288 with 1 Axes>"
            ]
          },
          "metadata": {
            "tags": []
          }
        }
      ]
    },
    {
      "cell_type": "markdown",
      "metadata": {
        "id": "00RtWN3Lpbir",
        "colab_type": "text"
      },
      "source": [
        "####14- Realice un diagrama de dispersión Altura x Volumen "
      ]
    },
    {
      "cell_type": "code",
      "metadata": {
        "id": "5oAbGin1p0wW",
        "colab_type": "code",
        "colab": {
          "base_uri": "https://localhost:8080/",
          "height": 282
        },
        "outputId": "cc9aee03-154a-4a55-e5c9-44eafe739094"
      },
      "source": [
        "plt.scatter(datos[:,1],datos[:,2])\n",
        "plt.ylabel(\"Volumen(m3)\")\n",
        "plt.xlabel(\"Altura(m)\")\n",
        "plt.show()\n"
      ],
      "execution_count": 42,
      "outputs": [
        {
          "output_type": "display_data",
          "data": {
            "image/png": "[encoded data removed]",
            "text/plain": [
              "<Figure size 432x288 with 1 Axes>"
            ]
          },
          "metadata": {
            "tags": []
          }
        }
      ]
    }
  ]
}