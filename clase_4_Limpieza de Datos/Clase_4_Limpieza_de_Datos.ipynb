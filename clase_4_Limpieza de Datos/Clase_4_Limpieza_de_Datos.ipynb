{
  "nbformat": 4,
  "nbformat_minor": 0,
  "metadata": {
    "colab": {
      "name": "Clase 4: Limpieza de Datos.ipynb",
      "provenance": [],
      "collapsed_sections": []
    },
    "kernelspec": {
      "name": "python3",
      "display_name": "Python 3"
    }
  },
  "cells": [
    {
      "cell_type": "markdown",
      "metadata": {
        "id": "8gd8XQdPFKDp",
        "colab_type": "text"
      },
      "source": [
        "#Limpieza de Datos"
      ]
    },
    {
      "cell_type": "code",
      "metadata": {
        "id": "tyRD35NkFGBK",
        "colab_type": "code",
        "colab": {}
      },
      "source": [
        "import pandas as pd \n",
        "import numpy as np "
      ],
      "execution_count": 0,
      "outputs": []
    },
    {
      "cell_type": "markdown",
      "metadata": {
        "id": "MK2YUH5YGPyQ",
        "colab_type": "text"
      },
      "source": [
        "###Valores perdidos"
      ]
    },
    {
      "cell_type": "code",
      "metadata": {
        "id": "AlGPcNVOGNA4",
        "colab_type": "code",
        "outputId": "ef8c40e0-d30f-4f79-d2bc-bb674c704873",
        "colab": {
          "base_uri": "https://localhost:8080/",
          "height": 206
        }
      },
      "source": [
        "dic = {'Name':['Alex', 'Mike', 'John', 'Dave', 'Joey'], \n",
        "        \t  'Height(m)': [1.75, 1.55, 1.73, np.nan, 1.82],\n",
        "            'Weight(Kg)': [80.5,70.2,100.3,67.3,120.2],\n",
        "     \t      'Test Score':[70, np.nan, 84, 62, 73]} \n",
        "df = pd.DataFrame(dic) \n",
        "df"
      ],
      "execution_count": 0,
      "outputs": [
        {
          "output_type": "execute_result",
          "data": {
            "text/html": [
              "<div>\n",
              "<style scoped>\n",
              "    .dataframe tbody tr th:only-of-type {\n",
              "        vertical-align: middle;\n",
              "    }\n",
              "\n",
              "    .dataframe tbody tr th {\n",
              "        vertical-align: top;\n",
              "    }\n",
              "\n",
              "    .dataframe thead th {\n",
              "        text-align: right;\n",
              "    }\n",
              "</style>\n",
              "<table border=\"1\" class=\"dataframe\">\n",
              "  <thead>\n",
              "    <tr style=\"text-align: right;\">\n",
              "      <th></th>\n",
              "      <th>Name</th>\n",
              "      <th>Height(m)</th>\n",
              "      <th>Weight(Kg)</th>\n",
              "      <th>Test Score</th>\n",
              "    </tr>\n",
              "  </thead>\n",
              "  <tbody>\n",
              "    <tr>\n",
              "      <th>0</th>\n",
              "      <td>Alex</td>\n",
              "      <td>1.75</td>\n",
              "      <td>80.5</td>\n",
              "      <td>70.0</td>\n",
              "    </tr>\n",
              "    <tr>\n",
              "      <th>1</th>\n",
              "      <td>Mike</td>\n",
              "      <td>1.55</td>\n",
              "      <td>70.2</td>\n",
              "      <td>NaN</td>\n",
              "    </tr>\n",
              "    <tr>\n",
              "      <th>2</th>\n",
              "      <td>John</td>\n",
              "      <td>1.73</td>\n",
              "      <td>100.3</td>\n",
              "      <td>84.0</td>\n",
              "    </tr>\n",
              "    <tr>\n",
              "      <th>3</th>\n",
              "      <td>Dave</td>\n",
              "      <td>NaN</td>\n",
              "      <td>67.3</td>\n",
              "      <td>62.0</td>\n",
              "    </tr>\n",
              "    <tr>\n",
              "      <th>4</th>\n",
              "      <td>Joey</td>\n",
              "      <td>1.82</td>\n",
              "      <td>120.2</td>\n",
              "      <td>73.0</td>\n",
              "    </tr>\n",
              "  </tbody>\n",
              "</table>\n",
              "</div>"
            ],
            "text/plain": [
              "   Name  Height(m)  Weight(Kg)  Test Score\n",
              "0  Alex       1.75        80.5        70.0\n",
              "1  Mike       1.55        70.2         NaN\n",
              "2  John       1.73       100.3        84.0\n",
              "3  Dave        NaN        67.3        62.0\n",
              "4  Joey       1.82       120.2        73.0"
            ]
          },
          "metadata": {
            "tags": []
          },
          "execution_count": 101
        }
      ]
    },
    {
      "cell_type": "markdown",
      "metadata": {
        "id": "xMPsDWqrHzGj",
        "colab_type": "text"
      },
      "source": [
        "Utilizaremos la función .isnull( ) para corroborar valores nulos"
      ]
    },
    {
      "cell_type": "code",
      "metadata": {
        "id": "PPNLtRyjGa8f",
        "colab_type": "code",
        "outputId": "0e6dce06-c457-41e8-e7f6-96e08b4136e0",
        "colab": {
          "base_uri": "https://localhost:8080/",
          "height": 109
        }
      },
      "source": [
        "df.isnull().sum()"
      ],
      "execution_count": 0,
      "outputs": [
        {
          "output_type": "execute_result",
          "data": {
            "text/plain": [
              "Name          0\n",
              "Height(m)     1\n",
              "Weight(Kg)    0\n",
              "Test Score    1\n",
              "dtype: int64"
            ]
          },
          "metadata": {
            "tags": []
          },
          "execution_count": 91
        }
      ]
    },
    {
      "cell_type": "markdown",
      "metadata": {
        "id": "R1sROaoHH-Ny",
        "colab_type": "text"
      },
      "source": [
        "Ahora que sabemos que columnas tienen valores nulos, podemos completar la data de distintas maneras"
      ]
    },
    {
      "cell_type": "code",
      "metadata": {
        "id": "Dzt2tw5kL5-v",
        "colab_type": "code",
        "outputId": "125985cf-6c5a-42dd-f1f0-8ce60a133b6f",
        "colab": {
          "base_uri": "https://localhost:8080/",
          "height": 143
        }
      },
      "source": [
        "#Eliminamos datos nulos\n",
        "df= df.dropna() \n",
        "df"
      ],
      "execution_count": 0,
      "outputs": [
        {
          "output_type": "execute_result",
          "data": {
            "text/html": [
              "<div>\n",
              "<style scoped>\n",
              "    .dataframe tbody tr th:only-of-type {\n",
              "        vertical-align: middle;\n",
              "    }\n",
              "\n",
              "    .dataframe tbody tr th {\n",
              "        vertical-align: top;\n",
              "    }\n",
              "\n",
              "    .dataframe thead th {\n",
              "        text-align: right;\n",
              "    }\n",
              "</style>\n",
              "<table border=\"1\" class=\"dataframe\">\n",
              "  <thead>\n",
              "    <tr style=\"text-align: right;\">\n",
              "      <th></th>\n",
              "      <th>Name</th>\n",
              "      <th>Height(m)</th>\n",
              "      <th>Weight(Kg)</th>\n",
              "      <th>Test Score</th>\n",
              "    </tr>\n",
              "  </thead>\n",
              "  <tbody>\n",
              "    <tr>\n",
              "      <th>0</th>\n",
              "      <td>Alex</td>\n",
              "      <td>1.75</td>\n",
              "      <td>80.5</td>\n",
              "      <td>70.0</td>\n",
              "    </tr>\n",
              "    <tr>\n",
              "      <th>2</th>\n",
              "      <td>John</td>\n",
              "      <td>1.73</td>\n",
              "      <td>100.3</td>\n",
              "      <td>84.0</td>\n",
              "    </tr>\n",
              "    <tr>\n",
              "      <th>4</th>\n",
              "      <td>Joey</td>\n",
              "      <td>1.82</td>\n",
              "      <td>120.2</td>\n",
              "      <td>73.0</td>\n",
              "    </tr>\n",
              "  </tbody>\n",
              "</table>\n",
              "</div>"
            ],
            "text/plain": [
              "   Name  Height(m)  Weight(Kg)  Test Score\n",
              "0  Alex       1.75        80.5        70.0\n",
              "2  John       1.73       100.3        84.0\n",
              "4  Joey       1.82       120.2        73.0"
            ]
          },
          "metadata": {
            "tags": []
          },
          "execution_count": 92
        }
      ]
    },
    {
      "cell_type": "code",
      "metadata": {
        "id": "Jw83aXNWJz6j",
        "colab_type": "code",
        "outputId": "7e4504fd-9eca-406a-c001-7f620376a1cc",
        "colab": {
          "base_uri": "https://localhost:8080/",
          "height": 206
        }
      },
      "source": [
        "#Ejecutar de nuevo Dataframe DF\n",
        "#Función .fillna()\n",
        "df = df.fillna(0)\n",
        "df"
      ],
      "execution_count": 0,
      "outputs": [
        {
          "output_type": "execute_result",
          "data": {
            "text/html": [
              "<div>\n",
              "<style scoped>\n",
              "    .dataframe tbody tr th:only-of-type {\n",
              "        vertical-align: middle;\n",
              "    }\n",
              "\n",
              "    .dataframe tbody tr th {\n",
              "        vertical-align: top;\n",
              "    }\n",
              "\n",
              "    .dataframe thead th {\n",
              "        text-align: right;\n",
              "    }\n",
              "</style>\n",
              "<table border=\"1\" class=\"dataframe\">\n",
              "  <thead>\n",
              "    <tr style=\"text-align: right;\">\n",
              "      <th></th>\n",
              "      <th>Name</th>\n",
              "      <th>Height(m)</th>\n",
              "      <th>Weight(Kg)</th>\n",
              "      <th>Test Score</th>\n",
              "    </tr>\n",
              "  </thead>\n",
              "  <tbody>\n",
              "    <tr>\n",
              "      <th>0</th>\n",
              "      <td>Alex</td>\n",
              "      <td>1.75</td>\n",
              "      <td>80.5</td>\n",
              "      <td>70.0</td>\n",
              "    </tr>\n",
              "    <tr>\n",
              "      <th>1</th>\n",
              "      <td>Mike</td>\n",
              "      <td>1.55</td>\n",
              "      <td>70.2</td>\n",
              "      <td>0.0</td>\n",
              "    </tr>\n",
              "    <tr>\n",
              "      <th>2</th>\n",
              "      <td>John</td>\n",
              "      <td>1.73</td>\n",
              "      <td>100.3</td>\n",
              "      <td>84.0</td>\n",
              "    </tr>\n",
              "    <tr>\n",
              "      <th>3</th>\n",
              "      <td>Dave</td>\n",
              "      <td>0.00</td>\n",
              "      <td>67.3</td>\n",
              "      <td>62.0</td>\n",
              "    </tr>\n",
              "    <tr>\n",
              "      <th>4</th>\n",
              "      <td>Joey</td>\n",
              "      <td>1.82</td>\n",
              "      <td>120.2</td>\n",
              "      <td>73.0</td>\n",
              "    </tr>\n",
              "  </tbody>\n",
              "</table>\n",
              "</div>"
            ],
            "text/plain": [
              "   Name  Height(m)  Weight(Kg)  Test Score\n",
              "0  Alex       1.75        80.5        70.0\n",
              "1  Mike       1.55        70.2         0.0\n",
              "2  John       1.73       100.3        84.0\n",
              "3  Dave       0.00        67.3        62.0\n",
              "4  Joey       1.82       120.2        73.0"
            ]
          },
          "metadata": {
            "tags": []
          },
          "execution_count": 95
        }
      ]
    },
    {
      "cell_type": "code",
      "metadata": {
        "id": "Ax17SFG9IM6Y",
        "colab_type": "code",
        "outputId": "372679a1-873f-404f-94f7-b017f97bcf0d",
        "colab": {
          "base_uri": "https://localhost:8080/",
          "height": 35
        }
      },
      "source": [
        "#Función .fillna()\n",
        "peso = df['Height(m)'].mean()\n",
        "peso = round(peso,2)\n",
        "peso"
      ],
      "execution_count": 0,
      "outputs": [
        {
          "output_type": "execute_result",
          "data": {
            "text/plain": [
              "1.71"
            ]
          },
          "metadata": {
            "tags": []
          },
          "execution_count": 98
        }
      ]
    },
    {
      "cell_type": "code",
      "metadata": {
        "id": "BRxI2TapxboI",
        "colab_type": "code",
        "outputId": "cf2c81b6-41dc-4628-fd17-457123b2a23e",
        "colab": {
          "base_uri": "https://localhost:8080/",
          "height": 206
        }
      },
      "source": [
        "df['Height(m)'] = df['Height(m)'].fillna(peso)\n",
        "df"
      ],
      "execution_count": 0,
      "outputs": [
        {
          "output_type": "execute_result",
          "data": {
            "text/html": [
              "<div>\n",
              "<style scoped>\n",
              "    .dataframe tbody tr th:only-of-type {\n",
              "        vertical-align: middle;\n",
              "    }\n",
              "\n",
              "    .dataframe tbody tr th {\n",
              "        vertical-align: top;\n",
              "    }\n",
              "\n",
              "    .dataframe thead th {\n",
              "        text-align: right;\n",
              "    }\n",
              "</style>\n",
              "<table border=\"1\" class=\"dataframe\">\n",
              "  <thead>\n",
              "    <tr style=\"text-align: right;\">\n",
              "      <th></th>\n",
              "      <th>Name</th>\n",
              "      <th>Height(m)</th>\n",
              "      <th>Weight(Kg)</th>\n",
              "      <th>Test Score</th>\n",
              "    </tr>\n",
              "  </thead>\n",
              "  <tbody>\n",
              "    <tr>\n",
              "      <th>0</th>\n",
              "      <td>Alex</td>\n",
              "      <td>1.75</td>\n",
              "      <td>80.5</td>\n",
              "      <td>70.0</td>\n",
              "    </tr>\n",
              "    <tr>\n",
              "      <th>1</th>\n",
              "      <td>Mike</td>\n",
              "      <td>1.55</td>\n",
              "      <td>70.2</td>\n",
              "      <td>NaN</td>\n",
              "    </tr>\n",
              "    <tr>\n",
              "      <th>2</th>\n",
              "      <td>John</td>\n",
              "      <td>1.73</td>\n",
              "      <td>100.3</td>\n",
              "      <td>84.0</td>\n",
              "    </tr>\n",
              "    <tr>\n",
              "      <th>3</th>\n",
              "      <td>Dave</td>\n",
              "      <td>1.71</td>\n",
              "      <td>67.3</td>\n",
              "      <td>62.0</td>\n",
              "    </tr>\n",
              "    <tr>\n",
              "      <th>4</th>\n",
              "      <td>Joey</td>\n",
              "      <td>1.82</td>\n",
              "      <td>120.2</td>\n",
              "      <td>73.0</td>\n",
              "    </tr>\n",
              "  </tbody>\n",
              "</table>\n",
              "</div>"
            ],
            "text/plain": [
              "   Name  Height(m)  Weight(Kg)  Test Score\n",
              "0  Alex       1.75        80.5        70.0\n",
              "1  Mike       1.55        70.2         NaN\n",
              "2  John       1.73       100.3        84.0\n",
              "3  Dave       1.71        67.3        62.0\n",
              "4  Joey       1.82       120.2        73.0"
            ]
          },
          "metadata": {
            "tags": []
          },
          "execution_count": 103
        }
      ]
    },
    {
      "cell_type": "markdown",
      "metadata": {
        "id": "iv4RQZMWOPFR",
        "colab_type": "text"
      },
      "source": [
        "###Valores perdidos no estandar"
      ]
    },
    {
      "cell_type": "code",
      "metadata": {
        "id": "jZg80HgtOW_I",
        "colab_type": "code",
        "outputId": "14cd9866-33fc-4944-a477-dece9fb26bca",
        "colab": {
          "base_uri": "https://localhost:8080/",
          "height": 206
        }
      },
      "source": [
        "dic = {'Name':['Alex', 'Mike', 'John', 'Dave', 'Joey'], \n",
        "        \t  'Height(m)': [1.75, 1.55, 1.73,'-', 1.82],\n",
        "            'Weight(Kg)': [80.5,70.2,100.3,67.3,120.2],\n",
        "     \t      'Test Score':[70,'Nada', 84, 62, 73]} \n",
        "df_2 = pd.DataFrame(dic) \n",
        "df_2"
      ],
      "execution_count": 0,
      "outputs": [
        {
          "output_type": "execute_result",
          "data": {
            "text/html": [
              "<div>\n",
              "<style scoped>\n",
              "    .dataframe tbody tr th:only-of-type {\n",
              "        vertical-align: middle;\n",
              "    }\n",
              "\n",
              "    .dataframe tbody tr th {\n",
              "        vertical-align: top;\n",
              "    }\n",
              "\n",
              "    .dataframe thead th {\n",
              "        text-align: right;\n",
              "    }\n",
              "</style>\n",
              "<table border=\"1\" class=\"dataframe\">\n",
              "  <thead>\n",
              "    <tr style=\"text-align: right;\">\n",
              "      <th></th>\n",
              "      <th>Name</th>\n",
              "      <th>Height(m)</th>\n",
              "      <th>Weight(Kg)</th>\n",
              "      <th>Test Score</th>\n",
              "    </tr>\n",
              "  </thead>\n",
              "  <tbody>\n",
              "    <tr>\n",
              "      <th>0</th>\n",
              "      <td>Alex</td>\n",
              "      <td>1.75</td>\n",
              "      <td>80.5</td>\n",
              "      <td>70</td>\n",
              "    </tr>\n",
              "    <tr>\n",
              "      <th>1</th>\n",
              "      <td>Mike</td>\n",
              "      <td>1.55</td>\n",
              "      <td>70.2</td>\n",
              "      <td>Nada</td>\n",
              "    </tr>\n",
              "    <tr>\n",
              "      <th>2</th>\n",
              "      <td>John</td>\n",
              "      <td>1.73</td>\n",
              "      <td>100.3</td>\n",
              "      <td>84</td>\n",
              "    </tr>\n",
              "    <tr>\n",
              "      <th>3</th>\n",
              "      <td>Dave</td>\n",
              "      <td>-</td>\n",
              "      <td>67.3</td>\n",
              "      <td>62</td>\n",
              "    </tr>\n",
              "    <tr>\n",
              "      <th>4</th>\n",
              "      <td>Joey</td>\n",
              "      <td>1.82</td>\n",
              "      <td>120.2</td>\n",
              "      <td>73</td>\n",
              "    </tr>\n",
              "  </tbody>\n",
              "</table>\n",
              "</div>"
            ],
            "text/plain": [
              "   Name Height(m)  Weight(Kg) Test Score\n",
              "0  Alex      1.75        80.5         70\n",
              "1  Mike      1.55        70.2       Nada\n",
              "2  John      1.73       100.3         84\n",
              "3  Dave         -        67.3         62\n",
              "4  Joey      1.82       120.2         73"
            ]
          },
          "metadata": {
            "tags": []
          },
          "execution_count": 113
        }
      ]
    },
    {
      "cell_type": "code",
      "metadata": {
        "id": "A5YmLY1lziIM",
        "colab_type": "code",
        "outputId": "d5792630-8e04-402a-b17a-62315d48ed7a",
        "colab": {
          "base_uri": "https://localhost:8080/",
          "height": 109
        }
      },
      "source": [
        "df_2.isnull().sum()"
      ],
      "execution_count": 0,
      "outputs": [
        {
          "output_type": "execute_result",
          "data": {
            "text/plain": [
              "Name          0\n",
              "Height(m)     0\n",
              "Weight(Kg)    0\n",
              "Test Score    0\n",
              "dtype: int64"
            ]
          },
          "metadata": {
            "tags": []
          },
          "execution_count": 105
        }
      ]
    },
    {
      "cell_type": "markdown",
      "metadata": {
        "id": "-CSOcwtnOk-n",
        "colab_type": "text"
      },
      "source": [
        "Los valores no estandar no son valores nulos, por lo que se tienen que manejar de otra manera"
      ]
    },
    {
      "cell_type": "code",
      "metadata": {
        "id": "E4xfurdr1Grz",
        "colab_type": "code",
        "outputId": "8fd10f8d-88e2-4c31-82d7-2faad38cce2e",
        "colab": {
          "base_uri": "https://localhost:8080/",
          "height": 206
        }
      },
      "source": [
        "#Reemplazar con valores nulos\n",
        "df_2 = df_2.replace('-',np.nan) #Para todo el dataframe\n",
        "df_2['Test Score'] = df_2['Test Score'].replace('Nada',np.nan) #Una columna\n",
        "df_2"
      ],
      "execution_count": 0,
      "outputs": [
        {
          "output_type": "execute_result",
          "data": {
            "text/html": [
              "<div>\n",
              "<style scoped>\n",
              "    .dataframe tbody tr th:only-of-type {\n",
              "        vertical-align: middle;\n",
              "    }\n",
              "\n",
              "    .dataframe tbody tr th {\n",
              "        vertical-align: top;\n",
              "    }\n",
              "\n",
              "    .dataframe thead th {\n",
              "        text-align: right;\n",
              "    }\n",
              "</style>\n",
              "<table border=\"1\" class=\"dataframe\">\n",
              "  <thead>\n",
              "    <tr style=\"text-align: right;\">\n",
              "      <th></th>\n",
              "      <th>Name</th>\n",
              "      <th>Height(m)</th>\n",
              "      <th>Weight(Kg)</th>\n",
              "      <th>Test Score</th>\n",
              "    </tr>\n",
              "  </thead>\n",
              "  <tbody>\n",
              "    <tr>\n",
              "      <th>0</th>\n",
              "      <td>Alex</td>\n",
              "      <td>1.75</td>\n",
              "      <td>80.5</td>\n",
              "      <td>70.0</td>\n",
              "    </tr>\n",
              "    <tr>\n",
              "      <th>1</th>\n",
              "      <td>Mike</td>\n",
              "      <td>1.55</td>\n",
              "      <td>70.2</td>\n",
              "      <td>NaN</td>\n",
              "    </tr>\n",
              "    <tr>\n",
              "      <th>2</th>\n",
              "      <td>John</td>\n",
              "      <td>1.73</td>\n",
              "      <td>100.3</td>\n",
              "      <td>84.0</td>\n",
              "    </tr>\n",
              "    <tr>\n",
              "      <th>3</th>\n",
              "      <td>Dave</td>\n",
              "      <td>NaN</td>\n",
              "      <td>67.3</td>\n",
              "      <td>62.0</td>\n",
              "    </tr>\n",
              "    <tr>\n",
              "      <th>4</th>\n",
              "      <td>Joey</td>\n",
              "      <td>1.82</td>\n",
              "      <td>120.2</td>\n",
              "      <td>73.0</td>\n",
              "    </tr>\n",
              "  </tbody>\n",
              "</table>\n",
              "</div>"
            ],
            "text/plain": [
              "   Name  Height(m)  Weight(Kg)  Test Score\n",
              "0  Alex       1.75        80.5        70.0\n",
              "1  Mike       1.55        70.2         NaN\n",
              "2  John       1.73       100.3        84.0\n",
              "3  Dave        NaN        67.3        62.0\n",
              "4  Joey       1.82       120.2        73.0"
            ]
          },
          "metadata": {
            "tags": []
          },
          "execution_count": 114
        }
      ]
    },
    {
      "cell_type": "code",
      "metadata": {
        "id": "tGX5mBB7OsiY",
        "colab_type": "code",
        "outputId": "20e3a9c2-5a93-4706-cb4b-9b3833600480",
        "colab": {
          "base_uri": "https://localhost:8080/",
          "height": 206
        }
      },
      "source": [
        "#funcion .replace()\n",
        "df_2 = df_2.replace('-',0) #Para todo el dataframe\n",
        "df_2['Test Score'] = df_2['Test Score'].replace('Nada',0) #Una columna\n",
        "df_2"
      ],
      "execution_count": 0,
      "outputs": [
        {
          "output_type": "execute_result",
          "data": {
            "text/html": [
              "<div>\n",
              "<style scoped>\n",
              "    .dataframe tbody tr th:only-of-type {\n",
              "        vertical-align: middle;\n",
              "    }\n",
              "\n",
              "    .dataframe tbody tr th {\n",
              "        vertical-align: top;\n",
              "    }\n",
              "\n",
              "    .dataframe thead th {\n",
              "        text-align: right;\n",
              "    }\n",
              "</style>\n",
              "<table border=\"1\" class=\"dataframe\">\n",
              "  <thead>\n",
              "    <tr style=\"text-align: right;\">\n",
              "      <th></th>\n",
              "      <th>Name</th>\n",
              "      <th>Height(m)</th>\n",
              "      <th>Weight(Kg)</th>\n",
              "      <th>Test Score</th>\n",
              "    </tr>\n",
              "  </thead>\n",
              "  <tbody>\n",
              "    <tr>\n",
              "      <th>0</th>\n",
              "      <td>Alex</td>\n",
              "      <td>1.75</td>\n",
              "      <td>80.5</td>\n",
              "      <td>70</td>\n",
              "    </tr>\n",
              "    <tr>\n",
              "      <th>1</th>\n",
              "      <td>Mike</td>\n",
              "      <td>1.55</td>\n",
              "      <td>70.2</td>\n",
              "      <td>0</td>\n",
              "    </tr>\n",
              "    <tr>\n",
              "      <th>2</th>\n",
              "      <td>John</td>\n",
              "      <td>1.73</td>\n",
              "      <td>100.3</td>\n",
              "      <td>84</td>\n",
              "    </tr>\n",
              "    <tr>\n",
              "      <th>3</th>\n",
              "      <td>Dave</td>\n",
              "      <td>0.00</td>\n",
              "      <td>67.3</td>\n",
              "      <td>62</td>\n",
              "    </tr>\n",
              "    <tr>\n",
              "      <th>4</th>\n",
              "      <td>Joey</td>\n",
              "      <td>1.82</td>\n",
              "      <td>120.2</td>\n",
              "      <td>73</td>\n",
              "    </tr>\n",
              "  </tbody>\n",
              "</table>\n",
              "</div>"
            ],
            "text/plain": [
              "   Name  Height(m)  Weight(Kg)  Test Score\n",
              "0  Alex       1.75        80.5          70\n",
              "1  Mike       1.55        70.2           0\n",
              "2  John       1.73       100.3          84\n",
              "3  Dave       0.00        67.3          62\n",
              "4  Joey       1.82       120.2          73"
            ]
          },
          "metadata": {
            "tags": []
          },
          "execution_count": 112
        }
      ]
    },
    {
      "cell_type": "code",
      "metadata": {
        "id": "ZUjN7OblPEVR",
        "colab_type": "code",
        "colab": {}
      },
      "source": [
        ""
      ],
      "execution_count": 0,
      "outputs": []
    },
    {
      "cell_type": "markdown",
      "metadata": {
        "id": "rL2eD5EvPWoH",
        "colab_type": "text"
      },
      "source": [
        "###Crear columnas a partir de datos"
      ]
    },
    {
      "cell_type": "markdown",
      "metadata": {
        "id": "nerIvgEGSBVI",
        "colab_type": "text"
      },
      "source": [
        "Añadir la columna de IMC (Indice de masa corporal) con la fórmula: Kg / m^2"
      ]
    },
    {
      "cell_type": "code",
      "metadata": {
        "id": "kJ9sLPAFQvhD",
        "colab_type": "code",
        "outputId": "70fb39cd-e961-44a6-ae52-685f863bd8c3",
        "colab": {
          "base_uri": "https://localhost:8080/",
          "height": 206
        }
      },
      "source": [
        "df['IMC'] = df['Weight(Kg)'] / (df['Height(m)']**2)\n",
        "df"
      ],
      "execution_count": 0,
      "outputs": [
        {
          "output_type": "execute_result",
          "data": {
            "text/html": [
              "<div>\n",
              "<style scoped>\n",
              "    .dataframe tbody tr th:only-of-type {\n",
              "        vertical-align: middle;\n",
              "    }\n",
              "\n",
              "    .dataframe tbody tr th {\n",
              "        vertical-align: top;\n",
              "    }\n",
              "\n",
              "    .dataframe thead th {\n",
              "        text-align: right;\n",
              "    }\n",
              "</style>\n",
              "<table border=\"1\" class=\"dataframe\">\n",
              "  <thead>\n",
              "    <tr style=\"text-align: right;\">\n",
              "      <th></th>\n",
              "      <th>Name</th>\n",
              "      <th>Height(m)</th>\n",
              "      <th>Weight(Kg)</th>\n",
              "      <th>Test Score</th>\n",
              "      <th>IMC</th>\n",
              "    </tr>\n",
              "  </thead>\n",
              "  <tbody>\n",
              "    <tr>\n",
              "      <th>0</th>\n",
              "      <td>Alex</td>\n",
              "      <td>1.75</td>\n",
              "      <td>80.5</td>\n",
              "      <td>70.0</td>\n",
              "      <td>26.285714</td>\n",
              "    </tr>\n",
              "    <tr>\n",
              "      <th>1</th>\n",
              "      <td>Mike</td>\n",
              "      <td>1.55</td>\n",
              "      <td>70.2</td>\n",
              "      <td>NaN</td>\n",
              "      <td>29.219563</td>\n",
              "    </tr>\n",
              "    <tr>\n",
              "      <th>2</th>\n",
              "      <td>John</td>\n",
              "      <td>1.73</td>\n",
              "      <td>100.3</td>\n",
              "      <td>84.0</td>\n",
              "      <td>33.512647</td>\n",
              "    </tr>\n",
              "    <tr>\n",
              "      <th>3</th>\n",
              "      <td>Dave</td>\n",
              "      <td>1.71</td>\n",
              "      <td>67.3</td>\n",
              "      <td>62.0</td>\n",
              "      <td>23.015629</td>\n",
              "    </tr>\n",
              "    <tr>\n",
              "      <th>4</th>\n",
              "      <td>Joey</td>\n",
              "      <td>1.82</td>\n",
              "      <td>120.2</td>\n",
              "      <td>73.0</td>\n",
              "      <td>36.287888</td>\n",
              "    </tr>\n",
              "  </tbody>\n",
              "</table>\n",
              "</div>"
            ],
            "text/plain": [
              "   Name  Height(m)  Weight(Kg)  Test Score        IMC\n",
              "0  Alex       1.75        80.5        70.0  26.285714\n",
              "1  Mike       1.55        70.2         NaN  29.219563\n",
              "2  John       1.73       100.3        84.0  33.512647\n",
              "3  Dave       1.71        67.3        62.0  23.015629\n",
              "4  Joey       1.82       120.2        73.0  36.287888"
            ]
          },
          "metadata": {
            "tags": []
          },
          "execution_count": 118
        }
      ]
    },
    {
      "cell_type": "markdown",
      "metadata": {
        "id": "y7C3jpJNTe1B",
        "colab_type": "text"
      },
      "source": [
        "###Segmentar data en intervalos"
      ]
    },
    {
      "cell_type": "markdown",
      "metadata": {
        "id": "7ptkSu9nWLUA",
        "colab_type": "text"
      },
      "source": [
        "Se utilizara la función pd.cut( )"
      ]
    },
    {
      "cell_type": "code",
      "metadata": {
        "id": "S-h-bWAcTpWD",
        "colab_type": "code",
        "outputId": "f16bd601-0640-47fa-ee9f-5d9bb929eced",
        "colab": {
          "base_uri": "https://localhost:8080/",
          "height": 206
        }
      },
      "source": [
        "bins = (18.5, 25, 30, 35, 40,45)\n",
        "group_names = ['Normal', 'Sobrepeso', 'Obesidad I', 'Obesidad II', 'Obesidad III']\n",
        "categories = pd.cut(df['IMC'], bins, labels=group_names)\n",
        "df['Clasificacion'] = categories\n",
        "df"
      ],
      "execution_count": 0,
      "outputs": [
        {
          "output_type": "execute_result",
          "data": {
            "text/html": [
              "<div>\n",
              "<style scoped>\n",
              "    .dataframe tbody tr th:only-of-type {\n",
              "        vertical-align: middle;\n",
              "    }\n",
              "\n",
              "    .dataframe tbody tr th {\n",
              "        vertical-align: top;\n",
              "    }\n",
              "\n",
              "    .dataframe thead th {\n",
              "        text-align: right;\n",
              "    }\n",
              "</style>\n",
              "<table border=\"1\" class=\"dataframe\">\n",
              "  <thead>\n",
              "    <tr style=\"text-align: right;\">\n",
              "      <th></th>\n",
              "      <th>Name</th>\n",
              "      <th>Height(m)</th>\n",
              "      <th>Weight(Kg)</th>\n",
              "      <th>Test Score</th>\n",
              "      <th>IMC</th>\n",
              "      <th>Clasificacion</th>\n",
              "    </tr>\n",
              "  </thead>\n",
              "  <tbody>\n",
              "    <tr>\n",
              "      <th>0</th>\n",
              "      <td>Alex</td>\n",
              "      <td>1.75</td>\n",
              "      <td>80.5</td>\n",
              "      <td>70.0</td>\n",
              "      <td>26.285714</td>\n",
              "      <td>Sobrepeso</td>\n",
              "    </tr>\n",
              "    <tr>\n",
              "      <th>1</th>\n",
              "      <td>Mike</td>\n",
              "      <td>1.55</td>\n",
              "      <td>70.2</td>\n",
              "      <td>NaN</td>\n",
              "      <td>29.219563</td>\n",
              "      <td>Sobrepeso</td>\n",
              "    </tr>\n",
              "    <tr>\n",
              "      <th>2</th>\n",
              "      <td>John</td>\n",
              "      <td>1.73</td>\n",
              "      <td>100.3</td>\n",
              "      <td>84.0</td>\n",
              "      <td>33.512647</td>\n",
              "      <td>Obesidad I</td>\n",
              "    </tr>\n",
              "    <tr>\n",
              "      <th>3</th>\n",
              "      <td>Dave</td>\n",
              "      <td>1.71</td>\n",
              "      <td>67.3</td>\n",
              "      <td>62.0</td>\n",
              "      <td>23.015629</td>\n",
              "      <td>Normal</td>\n",
              "    </tr>\n",
              "    <tr>\n",
              "      <th>4</th>\n",
              "      <td>Joey</td>\n",
              "      <td>1.82</td>\n",
              "      <td>120.2</td>\n",
              "      <td>73.0</td>\n",
              "      <td>36.287888</td>\n",
              "      <td>Obesidad II</td>\n",
              "    </tr>\n",
              "  </tbody>\n",
              "</table>\n",
              "</div>"
            ],
            "text/plain": [
              "   Name  Height(m)  Weight(Kg)  Test Score        IMC Clasificacion\n",
              "0  Alex       1.75        80.5        70.0  26.285714     Sobrepeso\n",
              "1  Mike       1.55        70.2         NaN  29.219563     Sobrepeso\n",
              "2  John       1.73       100.3        84.0  33.512647    Obesidad I\n",
              "3  Dave       1.71        67.3        62.0  23.015629        Normal\n",
              "4  Joey       1.82       120.2        73.0  36.287888   Obesidad II"
            ]
          },
          "metadata": {
            "tags": []
          },
          "execution_count": 119
        }
      ]
    },
    {
      "cell_type": "markdown",
      "metadata": {
        "id": "X1_UX7NtimQy",
        "colab_type": "text"
      },
      "source": [
        "####Ordenar Data"
      ]
    },
    {
      "cell_type": "code",
      "metadata": {
        "id": "RZxnlpvMiohF",
        "colab_type": "code",
        "outputId": "2a9fb992-2755-4f9c-f528-b90af8504b3d",
        "colab": {
          "base_uri": "https://localhost:8080/",
          "height": 206
        }
      },
      "source": [
        "df = df.sort_values('IMC',ascending=False)\n",
        "df\n"
      ],
      "execution_count": 0,
      "outputs": [
        {
          "output_type": "execute_result",
          "data": {
            "text/html": [
              "<div>\n",
              "<style scoped>\n",
              "    .dataframe tbody tr th:only-of-type {\n",
              "        vertical-align: middle;\n",
              "    }\n",
              "\n",
              "    .dataframe tbody tr th {\n",
              "        vertical-align: top;\n",
              "    }\n",
              "\n",
              "    .dataframe thead th {\n",
              "        text-align: right;\n",
              "    }\n",
              "</style>\n",
              "<table border=\"1\" class=\"dataframe\">\n",
              "  <thead>\n",
              "    <tr style=\"text-align: right;\">\n",
              "      <th></th>\n",
              "      <th>Name</th>\n",
              "      <th>Height(m)</th>\n",
              "      <th>Weight(Kg)</th>\n",
              "      <th>Test Score</th>\n",
              "      <th>IMC</th>\n",
              "      <th>Clasificacion</th>\n",
              "    </tr>\n",
              "  </thead>\n",
              "  <tbody>\n",
              "    <tr>\n",
              "      <th>4</th>\n",
              "      <td>Joey</td>\n",
              "      <td>1.82</td>\n",
              "      <td>120.2</td>\n",
              "      <td>73.0</td>\n",
              "      <td>36.287888</td>\n",
              "      <td>Obesidad II</td>\n",
              "    </tr>\n",
              "    <tr>\n",
              "      <th>3</th>\n",
              "      <td>John</td>\n",
              "      <td>1.73</td>\n",
              "      <td>100.3</td>\n",
              "      <td>84.0</td>\n",
              "      <td>33.512647</td>\n",
              "      <td>Obesidad I</td>\n",
              "    </tr>\n",
              "    <tr>\n",
              "      <th>2</th>\n",
              "      <td>Mike</td>\n",
              "      <td>1.55</td>\n",
              "      <td>70.2</td>\n",
              "      <td>NaN</td>\n",
              "      <td>29.219563</td>\n",
              "      <td>Sobrepeso</td>\n",
              "    </tr>\n",
              "    <tr>\n",
              "      <th>1</th>\n",
              "      <td>Alex</td>\n",
              "      <td>1.75</td>\n",
              "      <td>80.5</td>\n",
              "      <td>70.0</td>\n",
              "      <td>26.285714</td>\n",
              "      <td>Sobrepeso</td>\n",
              "    </tr>\n",
              "    <tr>\n",
              "      <th>0</th>\n",
              "      <td>Dave</td>\n",
              "      <td>1.71</td>\n",
              "      <td>67.3</td>\n",
              "      <td>62.0</td>\n",
              "      <td>23.015629</td>\n",
              "      <td>Normal</td>\n",
              "    </tr>\n",
              "  </tbody>\n",
              "</table>\n",
              "</div>"
            ],
            "text/plain": [
              "   Name  Height(m)  Weight(Kg)  Test Score        IMC Clasificacion\n",
              "4  Joey       1.82       120.2        73.0  36.287888   Obesidad II\n",
              "3  John       1.73       100.3        84.0  33.512647    Obesidad I\n",
              "2  Mike       1.55        70.2         NaN  29.219563     Sobrepeso\n",
              "1  Alex       1.75        80.5        70.0  26.285714     Sobrepeso\n",
              "0  Dave       1.71        67.3        62.0  23.015629        Normal"
            ]
          },
          "metadata": {
            "tags": []
          },
          "execution_count": 130
        }
      ]
    },
    {
      "cell_type": "code",
      "metadata": {
        "id": "yydk3ckY4B0v",
        "colab_type": "code",
        "outputId": "238fd8b9-73d3-4cfe-bd11-195baf802837",
        "colab": {
          "base_uri": "https://localhost:8080/",
          "height": 206
        }
      },
      "source": [
        "df =df.reset_index(drop=True)\n",
        "df"
      ],
      "execution_count": 0,
      "outputs": [
        {
          "output_type": "execute_result",
          "data": {
            "text/html": [
              "<div>\n",
              "<style scoped>\n",
              "    .dataframe tbody tr th:only-of-type {\n",
              "        vertical-align: middle;\n",
              "    }\n",
              "\n",
              "    .dataframe tbody tr th {\n",
              "        vertical-align: top;\n",
              "    }\n",
              "\n",
              "    .dataframe thead th {\n",
              "        text-align: right;\n",
              "    }\n",
              "</style>\n",
              "<table border=\"1\" class=\"dataframe\">\n",
              "  <thead>\n",
              "    <tr style=\"text-align: right;\">\n",
              "      <th></th>\n",
              "      <th>Name</th>\n",
              "      <th>Height(m)</th>\n",
              "      <th>Weight(Kg)</th>\n",
              "      <th>Test Score</th>\n",
              "      <th>IMC</th>\n",
              "      <th>Clasificacion</th>\n",
              "    </tr>\n",
              "  </thead>\n",
              "  <tbody>\n",
              "    <tr>\n",
              "      <th>0</th>\n",
              "      <td>Dave</td>\n",
              "      <td>1.71</td>\n",
              "      <td>67.3</td>\n",
              "      <td>62.0</td>\n",
              "      <td>23.015629</td>\n",
              "      <td>Normal</td>\n",
              "    </tr>\n",
              "    <tr>\n",
              "      <th>1</th>\n",
              "      <td>Alex</td>\n",
              "      <td>1.75</td>\n",
              "      <td>80.5</td>\n",
              "      <td>70.0</td>\n",
              "      <td>26.285714</td>\n",
              "      <td>Sobrepeso</td>\n",
              "    </tr>\n",
              "    <tr>\n",
              "      <th>2</th>\n",
              "      <td>Mike</td>\n",
              "      <td>1.55</td>\n",
              "      <td>70.2</td>\n",
              "      <td>NaN</td>\n",
              "      <td>29.219563</td>\n",
              "      <td>Sobrepeso</td>\n",
              "    </tr>\n",
              "    <tr>\n",
              "      <th>3</th>\n",
              "      <td>John</td>\n",
              "      <td>1.73</td>\n",
              "      <td>100.3</td>\n",
              "      <td>84.0</td>\n",
              "      <td>33.512647</td>\n",
              "      <td>Obesidad I</td>\n",
              "    </tr>\n",
              "    <tr>\n",
              "      <th>4</th>\n",
              "      <td>Joey</td>\n",
              "      <td>1.82</td>\n",
              "      <td>120.2</td>\n",
              "      <td>73.0</td>\n",
              "      <td>36.287888</td>\n",
              "      <td>Obesidad II</td>\n",
              "    </tr>\n",
              "  </tbody>\n",
              "</table>\n",
              "</div>"
            ],
            "text/plain": [
              "   Name  Height(m)  Weight(Kg)  Test Score        IMC Clasificacion\n",
              "0  Dave       1.71        67.3        62.0  23.015629        Normal\n",
              "1  Alex       1.75        80.5        70.0  26.285714     Sobrepeso\n",
              "2  Mike       1.55        70.2         NaN  29.219563     Sobrepeso\n",
              "3  John       1.73       100.3        84.0  33.512647    Obesidad I\n",
              "4  Joey       1.82       120.2        73.0  36.287888   Obesidad II"
            ]
          },
          "metadata": {
            "tags": []
          },
          "execution_count": 127
        }
      ]
    },
    {
      "cell_type": "code",
      "metadata": {
        "id": "uX4qtntpi-Sv",
        "colab_type": "code",
        "outputId": "bbd3d6a8-7a5f-4e53-ca04-48bc9a818e99",
        "colab": {
          "base_uri": "https://localhost:8080/",
          "height": 127
        }
      },
      "source": [
        "suma = df['Clasificacion'].value_counts().sum()\n",
        "df['Clasificacion'].value_counts() *100 / suma"
      ],
      "execution_count": 0,
      "outputs": [
        {
          "output_type": "execute_result",
          "data": {
            "text/plain": [
              "Sobrepeso       40.0\n",
              "Obesidad II     20.0\n",
              "Obesidad I      20.0\n",
              "Normal          20.0\n",
              "Obesidad III     0.0\n",
              "Name: Clasificacion, dtype: float64"
            ]
          },
          "metadata": {
            "tags": []
          },
          "execution_count": 137
        }
      ]
    }
  ]
}