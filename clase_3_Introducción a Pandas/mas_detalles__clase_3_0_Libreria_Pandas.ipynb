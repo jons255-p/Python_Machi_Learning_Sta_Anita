{
  "nbformat": 4,
  "nbformat_minor": 0,
  "metadata": {
    "kernelspec": {
      "display_name": "Python 3",
      "language": "python",
      "name": "python3"
    },
    "language_info": {
      "codemirror_mode": {
        "name": "ipython",
        "version": 3
      },
      "file_extension": ".py",
      "mimetype": "text/x-python",
      "name": "python",
      "nbconvert_exporter": "python",
      "pygments_lexer": "ipython3",
      "version": "3.4.3"
    },
    "colab": {
      "name": "Libreria Pandas.ipynb",
      "provenance": []
    }
  },
  "cells": [
    {
      "cell_type": "markdown",
      "metadata": {
        "id": "CNJBRvjDix_h",
        "colab_type": "text"
      },
      "source": [
        "This notebook was prepared by [Donne Martin](http://donnemartin.com). Source and license info is on [GitHub](https://github.com/donnemartin/data-science-ipython-notebooks)."
      ]
    },
    {
      "cell_type": "markdown",
      "metadata": {
        "id": "Qr0d10rTix_s",
        "colab_type": "text"
      },
      "source": [
        "# Pandas\n",
        "\n",
        "Credits: The following are notes taken while working through [Python for Data Analysis](http://www.amazon.com/Python-Data-Analysis-Wrangling-IPython/dp/1449319793) by Wes McKinney\n",
        "\n",
        "* Series\n",
        "* DataFrame\n",
        "* Reindexing\n",
        "* Dropping Entries\n",
        "* Indexing, Selecting, Filtering\n",
        "* Arithmetic and Data Alignment\n",
        "* Function Application and Mapping\n",
        "* Sorting and Ranking\n",
        "* Axis Indices with Duplicate Values\n",
        "* Summarizing and Computing Descriptive Statistics\n",
        "* Cleaning Data (Under Construction)\n",
        "* Input and Output (Under Construction)"
      ]
    },
    {
      "cell_type": "code",
      "metadata": {
        "id": "K-5ETLFoix_x",
        "colab_type": "code",
        "colab": {}
      },
      "source": [
        "#from pandas import Series, DataFrame  # (opcional)\n",
        "import pandas as pd\n",
        "import numpy as np"
      ],
      "execution_count": 0,
      "outputs": []
    },
    {
      "cell_type": "markdown",
      "metadata": {
        "id": "bGXxKlHAiyAA",
        "colab_type": "text"
      },
      "source": [
        "## Series\n",
        "\n",
        "A Series is a one-dimensional array-like object containing an array of data and an associated array of data labels.  The data can be any NumPy data type and the labels are the Series' index."
      ]
    },
    {
      "cell_type": "markdown",
      "metadata": {
        "id": "s4ruMjHziyAF",
        "colab_type": "text"
      },
      "source": [
        "Create a Series:"
      ]
    },
    {
      "cell_type": "code",
      "metadata": {
        "id": "bY2faTdiiyAK",
        "colab_type": "code",
        "colab": {
          "base_uri": "https://localhost:8080/",
          "height": 153
        },
        "outputId": "947ea363-624b-4d54-d1fb-fc0aa7fcd9ef"
      },
      "source": [
        "ser_1 = pd.Series([1, 1, 2, -3, -5, 8, 13])\n",
        "ser_1"
      ],
      "execution_count": 16,
      "outputs": [
        {
          "output_type": "execute_result",
          "data": {
            "text/plain": [
              "0     1\n",
              "1     1\n",
              "2     2\n",
              "3    -3\n",
              "4    -5\n",
              "5     8\n",
              "6    13\n",
              "dtype: int64"
            ]
          },
          "metadata": {
            "tags": []
          },
          "execution_count": 16
        }
      ]
    },
    {
      "cell_type": "markdown",
      "metadata": {
        "id": "6zs5K3rbiyAf",
        "colab_type": "text"
      },
      "source": [
        "Get the array representation of a Series:"
      ]
    },
    {
      "cell_type": "code",
      "metadata": {
        "id": "l3MRf20uiyAi",
        "colab_type": "code",
        "colab": {
          "base_uri": "https://localhost:8080/",
          "height": 34
        },
        "outputId": "f1153020-7b10-4528-feb3-cb3039269b92"
      },
      "source": [
        "ser_1.values"
      ],
      "execution_count": 17,
      "outputs": [
        {
          "output_type": "execute_result",
          "data": {
            "text/plain": [
              "array([ 1,  1,  2, -3, -5,  8, 13])"
            ]
          },
          "metadata": {
            "tags": []
          },
          "execution_count": 17
        }
      ]
    },
    {
      "cell_type": "markdown",
      "metadata": {
        "id": "8Vl--c5-iyAu",
        "colab_type": "text"
      },
      "source": [
        "Index objects are immutable and hold the axis labels and metadata such as names and axis names.\n",
        "\n",
        "Get the index of the Series:"
      ]
    },
    {
      "cell_type": "code",
      "metadata": {
        "id": "6FgPGemFiyAy",
        "colab_type": "code",
        "colab": {
          "base_uri": "https://localhost:8080/",
          "height": 34
        },
        "outputId": "3968f2da-3f17-49c7-d84c-e948757070ce"
      },
      "source": [
        "ser_1.index"
      ],
      "execution_count": 18,
      "outputs": [
        {
          "output_type": "execute_result",
          "data": {
            "text/plain": [
              "RangeIndex(start=0, stop=7, step=1)"
            ]
          },
          "metadata": {
            "tags": []
          },
          "execution_count": 18
        }
      ]
    },
    {
      "cell_type": "markdown",
      "metadata": {
        "id": "OQLrHpvEiyA8",
        "colab_type": "text"
      },
      "source": [
        "Create a Series with a custom index:"
      ]
    },
    {
      "cell_type": "markdown",
      "metadata": {
        "id": "NsrGQhbvoRr6",
        "colab_type": "text"
      },
      "source": [
        "el index se determina por \"a\"\"b\" \"c\""
      ]
    },
    {
      "cell_type": "code",
      "metadata": {
        "id": "SCbAJIoniyA_",
        "colab_type": "code",
        "colab": {
          "base_uri": "https://localhost:8080/",
          "height": 119
        },
        "outputId": "5a861fc2-ba6f-42c9-a9ac-a835de4a6bb0"
      },
      "source": [
        "ser_2 = pd.Series([1, 1, 2, -3, -5], index=['a', 'b', 'c', 'd', 'e'])\n",
        "ser_2"
      ],
      "execution_count": 21,
      "outputs": [
        {
          "output_type": "execute_result",
          "data": {
            "text/plain": [
              "a    1\n",
              "b    1\n",
              "c    2\n",
              "d   -3\n",
              "e   -5\n",
              "dtype: int64"
            ]
          },
          "metadata": {
            "tags": []
          },
          "execution_count": 21
        }
      ]
    },
    {
      "cell_type": "markdown",
      "metadata": {
        "id": "0TE685xqiyBI",
        "colab_type": "text"
      },
      "source": [
        "Get a value from a Series:"
      ]
    },
    {
      "cell_type": "code",
      "metadata": {
        "id": "Y83hLlJ0iyBL",
        "colab_type": "code",
        "colab": {
          "base_uri": "https://localhost:8080/",
          "height": 34
        },
        "outputId": "e0fe09a8-1652-41af-c2f6-2b9d20153720"
      },
      "source": [
        "ser_2[4] == ser_2['e']"
      ],
      "execution_count": 22,
      "outputs": [
        {
          "output_type": "execute_result",
          "data": {
            "text/plain": [
              "True"
            ]
          },
          "metadata": {
            "tags": []
          },
          "execution_count": 22
        }
      ]
    },
    {
      "cell_type": "markdown",
      "metadata": {
        "id": "8Gqr5Mg0iyBd",
        "colab_type": "text"
      },
      "source": [
        "Get a set of values from a Series by passing in a list:"
      ]
    },
    {
      "cell_type": "code",
      "metadata": {
        "id": "W6CQ7HqPiyBg",
        "colab_type": "code",
        "colab": {
          "base_uri": "https://localhost:8080/",
          "height": 85
        },
        "outputId": "f5f0cfb3-49d4-44ef-8a17-dd197b8f8dd1"
      },
      "source": [
        "ser_2[['c', 'a', 'b']]"
      ],
      "execution_count": 23,
      "outputs": [
        {
          "output_type": "execute_result",
          "data": {
            "text/plain": [
              "c    2\n",
              "a    1\n",
              "b    1\n",
              "dtype: int64"
            ]
          },
          "metadata": {
            "tags": []
          },
          "execution_count": 23
        }
      ]
    },
    {
      "cell_type": "markdown",
      "metadata": {
        "id": "Q_zNictOiyBq",
        "colab_type": "text"
      },
      "source": [
        "Get values great than 0:"
      ]
    },
    {
      "cell_type": "code",
      "metadata": {
        "id": "PveqfblDnoov",
        "colab_type": "code",
        "colab": {
          "base_uri": "https://localhost:8080/",
          "height": 119
        },
        "outputId": "ce8cd2fb-7a21-4253-c8c3-041c4c66f3a5"
      },
      "source": [
        "ser_2"
      ],
      "execution_count": 25,
      "outputs": [
        {
          "output_type": "execute_result",
          "data": {
            "text/plain": [
              "a    1\n",
              "b    1\n",
              "c    2\n",
              "d   -3\n",
              "e   -5\n",
              "dtype: int64"
            ]
          },
          "metadata": {
            "tags": []
          },
          "execution_count": 25
        }
      ]
    },
    {
      "cell_type": "code",
      "metadata": {
        "id": "6cfy47aMnu-k",
        "colab_type": "code",
        "colab": {
          "base_uri": "https://localhost:8080/",
          "height": 68
        },
        "outputId": "d4d27e2c-ce0b-4378-9542-47cd07cd9666"
      },
      "source": [
        "ser_2[ser_2<-1]"
      ],
      "execution_count": 26,
      "outputs": [
        {
          "output_type": "execute_result",
          "data": {
            "text/plain": [
              "d   -3\n",
              "e   -5\n",
              "dtype: int64"
            ]
          },
          "metadata": {
            "tags": []
          },
          "execution_count": 26
        }
      ]
    },
    {
      "cell_type": "code",
      "metadata": {
        "id": "w_B7keR_iyBt",
        "colab_type": "code",
        "colab": {
          "base_uri": "https://localhost:8080/",
          "height": 85
        },
        "outputId": "6b846272-a8f3-4097-ed6f-d47021fd0971"
      },
      "source": [
        "ser_2[ser_2 > 0]"
      ],
      "execution_count": 24,
      "outputs": [
        {
          "output_type": "execute_result",
          "data": {
            "text/plain": [
              "a    1\n",
              "b    1\n",
              "c    2\n",
              "dtype: int64"
            ]
          },
          "metadata": {
            "tags": []
          },
          "execution_count": 24
        }
      ]
    },
    {
      "cell_type": "code",
      "metadata": {
        "id": "EWf122_IoeSK",
        "colab_type": "code",
        "colab": {}
      },
      "source": [
        ""
      ],
      "execution_count": 0,
      "outputs": []
    },
    {
      "cell_type": "markdown",
      "metadata": {
        "id": "JnoWg6SuiyB5",
        "colab_type": "text"
      },
      "source": [
        "Scalar multiply:"
      ]
    },
    {
      "cell_type": "code",
      "metadata": {
        "id": "EgwobAL5iyB9",
        "colab_type": "code",
        "colab": {
          "base_uri": "https://localhost:8080/",
          "height": 119
        },
        "outputId": "14a3dbff-49a9-4b44-e83b-14a214ca3c0f"
      },
      "source": [
        "ser_2 * 2"
      ],
      "execution_count": 27,
      "outputs": [
        {
          "output_type": "execute_result",
          "data": {
            "text/plain": [
              "a     2\n",
              "b     2\n",
              "c     4\n",
              "d    -6\n",
              "e   -10\n",
              "dtype: int64"
            ]
          },
          "metadata": {
            "tags": []
          },
          "execution_count": 27
        }
      ]
    },
    {
      "cell_type": "markdown",
      "metadata": {
        "id": "UWBw74XCiyCI",
        "colab_type": "text"
      },
      "source": [
        "Apply a numpy math function:"
      ]
    },
    {
      "cell_type": "code",
      "metadata": {
        "id": "dhy78br9iyCM",
        "colab_type": "code",
        "colab": {
          "base_uri": "https://localhost:8080/",
          "height": 119
        },
        "outputId": "1d140455-38f1-4001-dada-87e87ed7156e"
      },
      "source": [
        "import numpy as np\n",
        "np.exp(ser_2)"
      ],
      "execution_count": 30,
      "outputs": [
        {
          "output_type": "execute_result",
          "data": {
            "text/plain": [
              "a    2.718282\n",
              "b    2.718282\n",
              "c    7.389056\n",
              "d    0.049787\n",
              "e    0.006738\n",
              "dtype: float64"
            ]
          },
          "metadata": {
            "tags": []
          },
          "execution_count": 30
        }
      ]
    },
    {
      "cell_type": "markdown",
      "metadata": {
        "id": "lTZOV3RMiyCW",
        "colab_type": "text"
      },
      "source": [
        "A Series is like a fixed-length, ordered dict.  \n",
        "\n",
        "Create a series by passing in a dict:"
      ]
    },
    {
      "cell_type": "code",
      "metadata": {
        "id": "bhrIQ1driyCc",
        "colab_type": "code",
        "colab": {
          "base_uri": "https://localhost:8080/",
          "height": 85
        },
        "outputId": "e34f1222-26dc-4501-baa3-18a909f7728f"
      },
      "source": [
        "dict_1 = {'foo' : 100, 'bar' : 200, 'baz' : 300}\n",
        "ser_3 = pd.Series(dict_1)\n",
        "ser_3"
      ],
      "execution_count": 34,
      "outputs": [
        {
          "output_type": "execute_result",
          "data": {
            "text/plain": [
              "foo    100\n",
              "bar    200\n",
              "baz    300\n",
              "dtype: int64"
            ]
          },
          "metadata": {
            "tags": []
          },
          "execution_count": 34
        }
      ]
    },
    {
      "cell_type": "markdown",
      "metadata": {
        "id": "JBUqUcXiiyCk",
        "colab_type": "text"
      },
      "source": [
        "Re-order a Series by passing in an index (indices not found are NaN):"
      ]
    },
    {
      "cell_type": "code",
      "metadata": {
        "id": "x_dwoKQeiyCn",
        "colab_type": "code",
        "colab": {
          "base_uri": "https://localhost:8080/",
          "height": 102
        },
        "outputId": "25bda8aa-f7c4-400f-f2a6-48a1bd9cd4dd"
      },
      "source": [
        "index = ['foo', 'bar', 'baz', 'qux']\n",
        "ser_4 = pd.Series(dict_1, index=index)\n",
        "ser_4"
      ],
      "execution_count": 36,
      "outputs": [
        {
          "output_type": "execute_result",
          "data": {
            "text/plain": [
              "foo    100.0\n",
              "bar    200.0\n",
              "baz    300.0\n",
              "qux      NaN\n",
              "dtype: float64"
            ]
          },
          "metadata": {
            "tags": []
          },
          "execution_count": 36
        }
      ]
    },
    {
      "cell_type": "markdown",
      "metadata": {
        "id": "z4zBtSCviyCx",
        "colab_type": "text"
      },
      "source": [
        "Check for NaN with the pandas method:"
      ]
    },
    {
      "cell_type": "code",
      "metadata": {
        "id": "_ORzo_HCiyC0",
        "colab_type": "code",
        "colab": {
          "base_uri": "https://localhost:8080/",
          "height": 102
        },
        "outputId": "b5a23ab2-c593-44c5-c26c-4c140b65a128"
      },
      "source": [
        "pd.isnull(ser_4)"
      ],
      "execution_count": 37,
      "outputs": [
        {
          "output_type": "execute_result",
          "data": {
            "text/plain": [
              "foo    False\n",
              "bar    False\n",
              "baz    False\n",
              "qux     True\n",
              "dtype: bool"
            ]
          },
          "metadata": {
            "tags": []
          },
          "execution_count": 37
        }
      ]
    },
    {
      "cell_type": "markdown",
      "metadata": {
        "id": "83ElfATmiyC_",
        "colab_type": "text"
      },
      "source": [
        "Check for NaN with the Series method:"
      ]
    },
    {
      "cell_type": "code",
      "metadata": {
        "id": "9KLiasmniyDB",
        "colab_type": "code",
        "colab": {
          "base_uri": "https://localhost:8080/",
          "height": 102
        },
        "outputId": "253f62df-c55d-419d-b7dd-304776f8d574"
      },
      "source": [
        "ser_4.isnull()"
      ],
      "execution_count": 38,
      "outputs": [
        {
          "output_type": "execute_result",
          "data": {
            "text/plain": [
              "foo    False\n",
              "bar    False\n",
              "baz    False\n",
              "qux     True\n",
              "dtype: bool"
            ]
          },
          "metadata": {
            "tags": []
          },
          "execution_count": 38
        }
      ]
    },
    {
      "cell_type": "markdown",
      "metadata": {
        "id": "H_xlXpNeiyDL",
        "colab_type": "text"
      },
      "source": [
        "Series automatically aligns differently indexed data in arithmetic operations:"
      ]
    },
    {
      "cell_type": "code",
      "metadata": {
        "id": "bWUqcrUHpiLW",
        "colab_type": "code",
        "colab": {
          "base_uri": "https://localhost:8080/",
          "height": 85
        },
        "outputId": "6e22c8c3-2a0c-45d2-b124-b1d76475dd7a"
      },
      "source": [
        "print(ser_3)"
      ],
      "execution_count": 39,
      "outputs": [
        {
          "output_type": "stream",
          "text": [
            "foo    100\n",
            "bar    200\n",
            "baz    300\n",
            "dtype: int64\n"
          ],
          "name": "stdout"
        }
      ]
    },
    {
      "cell_type": "code",
      "metadata": {
        "id": "1Zuv1pxXpk9p",
        "colab_type": "code",
        "colab": {
          "base_uri": "https://localhost:8080/",
          "height": 102
        },
        "outputId": "f546960d-5d3a-4f48-8448-faeba7a645fb"
      },
      "source": [
        "print(ser_4)"
      ],
      "execution_count": 40,
      "outputs": [
        {
          "output_type": "stream",
          "text": [
            "foo    100.0\n",
            "bar    200.0\n",
            "baz    300.0\n",
            "qux      NaN\n",
            "dtype: float64\n"
          ],
          "name": "stdout"
        }
      ]
    },
    {
      "cell_type": "code",
      "metadata": {
        "id": "M7cF_tJ4iyDO",
        "colab_type": "code",
        "colab": {
          "base_uri": "https://localhost:8080/",
          "height": 102
        },
        "outputId": "c6a8d01d-cfa5-4fd8-a26a-03357a0f643f"
      },
      "source": [
        "ser_3 + ser_4"
      ],
      "execution_count": 41,
      "outputs": [
        {
          "output_type": "execute_result",
          "data": {
            "text/plain": [
              "bar    400.0\n",
              "baz    600.0\n",
              "foo    200.0\n",
              "qux      NaN\n",
              "dtype: float64"
            ]
          },
          "metadata": {
            "tags": []
          },
          "execution_count": 41
        }
      ]
    },
    {
      "cell_type": "markdown",
      "metadata": {
        "id": "fAJJvYyIiyDZ",
        "colab_type": "text"
      },
      "source": [
        "Name a Series:"
      ]
    },
    {
      "cell_type": "code",
      "metadata": {
        "id": "KHeQmHGHiyDe",
        "colab_type": "code",
        "colab": {
          "base_uri": "https://localhost:8080/",
          "height": 102
        },
        "outputId": "3d9b40ce-6f3e-4e3a-9711-6bf49ba2dbcb"
      },
      "source": [
        "ser_4.name = 'foobarbazqux'\n",
        "ser_4"
      ],
      "execution_count": 43,
      "outputs": [
        {
          "output_type": "execute_result",
          "data": {
            "text/plain": [
              "foo    100.0\n",
              "bar    200.0\n",
              "baz    300.0\n",
              "qux      NaN\n",
              "Name: foobarbazqux, dtype: float64"
            ]
          },
          "metadata": {
            "tags": []
          },
          "execution_count": 43
        }
      ]
    },
    {
      "cell_type": "markdown",
      "metadata": {
        "id": "jV2Q44JTiyD3",
        "colab_type": "text"
      },
      "source": [
        "Name a Series index:"
      ]
    },
    {
      "cell_type": "code",
      "metadata": {
        "id": "jCVETcc6iyD6",
        "colab_type": "code",
        "colab": {}
      },
      "source": [
        "ser_4.index.name = 'columna 1'\n",
        "ser_4.index.name = 'columna 1', \"columna 2\""
      ],
      "execution_count": 0,
      "outputs": []
    },
    {
      "cell_type": "code",
      "metadata": {
        "id": "Di0P5k7KiyEB",
        "colab_type": "code",
        "colab": {
          "base_uri": "https://localhost:8080/",
          "height": 119
        },
        "outputId": "cb2cbb13-1df7-4174-f7d6-07307676e8d7"
      },
      "source": [
        "ser_4"
      ],
      "execution_count": 48,
      "outputs": [
        {
          "output_type": "execute_result",
          "data": {
            "text/plain": [
              "(columna 1, columna 2)\n",
              "foo    100.0\n",
              "bar    200.0\n",
              "baz    300.0\n",
              "qux      NaN\n",
              "Name: foobarbazqux, dtype: float64"
            ]
          },
          "metadata": {
            "tags": []
          },
          "execution_count": 48
        }
      ]
    },
    {
      "cell_type": "markdown",
      "metadata": {
        "id": "3lJHLFZRiyEM",
        "colab_type": "text"
      },
      "source": [
        "Rename a Series' index in place:"
      ]
    },
    {
      "cell_type": "code",
      "metadata": {
        "id": "gS6ZpacBiyEQ",
        "colab_type": "code",
        "colab": {
          "base_uri": "https://localhost:8080/",
          "height": 102
        },
        "outputId": "8fe7d527-8ed8-49d1-d269-755dc1bc17ab"
      },
      "source": [
        "ser_4.index = ['fo', 'br', 'bz', 'qx']\n",
        "ser_4"
      ],
      "execution_count": 49,
      "outputs": [
        {
          "output_type": "execute_result",
          "data": {
            "text/plain": [
              "fo    100.0\n",
              "br    200.0\n",
              "bz    300.0\n",
              "qx      NaN\n",
              "Name: foobarbazqux, dtype: float64"
            ]
          },
          "metadata": {
            "tags": []
          },
          "execution_count": 49
        }
      ]
    },
    {
      "cell_type": "markdown",
      "metadata": {
        "id": "2nKe9UtYiyEe",
        "colab_type": "text"
      },
      "source": [
        "## DataFrame\n",
        "\n",
        "A DataFrame is a tabular data structure containing an ordered collection of columns.  Each column can have a different type.  DataFrames have both row and column indices and is analogous to a dict of Series.  Row and column operations are treated roughly symmetrically.  Columns returned when indexing a DataFrame are views of the underlying data, not a copy.  To obtain a copy, use the Series' copy method.\n",
        "\n",
        "Create a DataFrame:"
      ]
    },
    {
      "cell_type": "code",
      "metadata": {
        "id": "nX9OnOgkiyEh",
        "colab_type": "code",
        "colab": {
          "base_uri": "https://localhost:8080/",
          "height": 204
        },
        "outputId": "b89a7b2e-c028-4c29-f858-dd487c919f21"
      },
      "source": [
        "data_1 = {'state' : ['VA', 'VA', 'VA', 'MD', 'MD'],\n",
        "          'year' : [2012, 2013, 2014, 2014, 2015],\n",
        "          'pop' : [5.0, 5.1, 5.2, 4.0, 4.1]}\n",
        "df_1 = pd.DataFrame(data_1)\n",
        "df_1"
      ],
      "execution_count": 52,
      "outputs": [
        {
          "output_type": "execute_result",
          "data": {
            "text/html": [
              "<div>\n",
              "<style scoped>\n",
              "    .dataframe tbody tr th:only-of-type {\n",
              "        vertical-align: middle;\n",
              "    }\n",
              "\n",
              "    .dataframe tbody tr th {\n",
              "        vertical-align: top;\n",
              "    }\n",
              "\n",
              "    .dataframe thead th {\n",
              "        text-align: right;\n",
              "    }\n",
              "</style>\n",
              "<table border=\"1\" class=\"dataframe\">\n",
              "  <thead>\n",
              "    <tr style=\"text-align: right;\">\n",
              "      <th></th>\n",
              "      <th>state</th>\n",
              "      <th>year</th>\n",
              "      <th>pop</th>\n",
              "    </tr>\n",
              "  </thead>\n",
              "  <tbody>\n",
              "    <tr>\n",
              "      <th>0</th>\n",
              "      <td>VA</td>\n",
              "      <td>2012</td>\n",
              "      <td>5.0</td>\n",
              "    </tr>\n",
              "    <tr>\n",
              "      <th>1</th>\n",
              "      <td>VA</td>\n",
              "      <td>2013</td>\n",
              "      <td>5.1</td>\n",
              "    </tr>\n",
              "    <tr>\n",
              "      <th>2</th>\n",
              "      <td>VA</td>\n",
              "      <td>2014</td>\n",
              "      <td>5.2</td>\n",
              "    </tr>\n",
              "    <tr>\n",
              "      <th>3</th>\n",
              "      <td>MD</td>\n",
              "      <td>2014</td>\n",
              "      <td>4.0</td>\n",
              "    </tr>\n",
              "    <tr>\n",
              "      <th>4</th>\n",
              "      <td>MD</td>\n",
              "      <td>2015</td>\n",
              "      <td>4.1</td>\n",
              "    </tr>\n",
              "  </tbody>\n",
              "</table>\n",
              "</div>"
            ],
            "text/plain": [
              "  state  year  pop\n",
              "0    VA  2012  5.0\n",
              "1    VA  2013  5.1\n",
              "2    VA  2014  5.2\n",
              "3    MD  2014  4.0\n",
              "4    MD  2015  4.1"
            ]
          },
          "metadata": {
            "tags": []
          },
          "execution_count": 52
        }
      ]
    },
    {
      "cell_type": "markdown",
      "metadata": {
        "id": "kYZEio5ziyEq",
        "colab_type": "text"
      },
      "source": [
        "Create a DataFrame specifying a sequence of columns:"
      ]
    },
    {
      "cell_type": "code",
      "metadata": {
        "id": "JzNxcKcoiyEt",
        "colab_type": "code",
        "colab": {
          "base_uri": "https://localhost:8080/",
          "height": 204
        },
        "outputId": "993a3c06-8e87-46e9-d4bc-542c51e06a6d"
      },
      "source": [
        "df_2 = pd.DataFrame(data_1, columns=['year', 'state', 'pop']) #renombrar\n",
        "df_2"
      ],
      "execution_count": 56,
      "outputs": [
        {
          "output_type": "execute_result",
          "data": {
            "text/html": [
              "<div>\n",
              "<style scoped>\n",
              "    .dataframe tbody tr th:only-of-type {\n",
              "        vertical-align: middle;\n",
              "    }\n",
              "\n",
              "    .dataframe tbody tr th {\n",
              "        vertical-align: top;\n",
              "    }\n",
              "\n",
              "    .dataframe thead th {\n",
              "        text-align: right;\n",
              "    }\n",
              "</style>\n",
              "<table border=\"1\" class=\"dataframe\">\n",
              "  <thead>\n",
              "    <tr style=\"text-align: right;\">\n",
              "      <th></th>\n",
              "      <th>year</th>\n",
              "      <th>state</th>\n",
              "      <th>pop</th>\n",
              "    </tr>\n",
              "  </thead>\n",
              "  <tbody>\n",
              "    <tr>\n",
              "      <th>0</th>\n",
              "      <td>2012</td>\n",
              "      <td>VA</td>\n",
              "      <td>5.0</td>\n",
              "    </tr>\n",
              "    <tr>\n",
              "      <th>1</th>\n",
              "      <td>2013</td>\n",
              "      <td>VA</td>\n",
              "      <td>5.1</td>\n",
              "    </tr>\n",
              "    <tr>\n",
              "      <th>2</th>\n",
              "      <td>2014</td>\n",
              "      <td>VA</td>\n",
              "      <td>5.2</td>\n",
              "    </tr>\n",
              "    <tr>\n",
              "      <th>3</th>\n",
              "      <td>2014</td>\n",
              "      <td>MD</td>\n",
              "      <td>4.0</td>\n",
              "    </tr>\n",
              "    <tr>\n",
              "      <th>4</th>\n",
              "      <td>2015</td>\n",
              "      <td>MD</td>\n",
              "      <td>4.1</td>\n",
              "    </tr>\n",
              "  </tbody>\n",
              "</table>\n",
              "</div>"
            ],
            "text/plain": [
              "   year state  pop\n",
              "0  2012    VA  5.0\n",
              "1  2013    VA  5.1\n",
              "2  2014    VA  5.2\n",
              "3  2014    MD  4.0\n",
              "4  2015    MD  4.1"
            ]
          },
          "metadata": {
            "tags": []
          },
          "execution_count": 56
        }
      ]
    },
    {
      "cell_type": "markdown",
      "metadata": {
        "id": "AqZbtlRZiyE6",
        "colab_type": "text"
      },
      "source": [
        "Like Series, columns that are not present in the data are NaN:"
      ]
    },
    {
      "cell_type": "code",
      "metadata": {
        "id": "RXIxPvGviyE8",
        "colab_type": "code",
        "colab": {
          "base_uri": "https://localhost:8080/",
          "height": 204
        },
        "outputId": "6ab32c6d-6c92-4a7d-9482-e3de1c2b677a"
      },
      "source": [
        "df_3 = pd.DataFrame(data_1, columns=['year', 'state', 'pop', 'unempl'])\n",
        "df_3"
      ],
      "execution_count": 58,
      "outputs": [
        {
          "output_type": "execute_result",
          "data": {
            "text/html": [
              "<div>\n",
              "<style scoped>\n",
              "    .dataframe tbody tr th:only-of-type {\n",
              "        vertical-align: middle;\n",
              "    }\n",
              "\n",
              "    .dataframe tbody tr th {\n",
              "        vertical-align: top;\n",
              "    }\n",
              "\n",
              "    .dataframe thead th {\n",
              "        text-align: right;\n",
              "    }\n",
              "</style>\n",
              "<table border=\"1\" class=\"dataframe\">\n",
              "  <thead>\n",
              "    <tr style=\"text-align: right;\">\n",
              "      <th></th>\n",
              "      <th>year</th>\n",
              "      <th>state</th>\n",
              "      <th>pop</th>\n",
              "      <th>unempl</th>\n",
              "    </tr>\n",
              "  </thead>\n",
              "  <tbody>\n",
              "    <tr>\n",
              "      <th>0</th>\n",
              "      <td>2012</td>\n",
              "      <td>VA</td>\n",
              "      <td>5.0</td>\n",
              "      <td>NaN</td>\n",
              "    </tr>\n",
              "    <tr>\n",
              "      <th>1</th>\n",
              "      <td>2013</td>\n",
              "      <td>VA</td>\n",
              "      <td>5.1</td>\n",
              "      <td>NaN</td>\n",
              "    </tr>\n",
              "    <tr>\n",
              "      <th>2</th>\n",
              "      <td>2014</td>\n",
              "      <td>VA</td>\n",
              "      <td>5.2</td>\n",
              "      <td>NaN</td>\n",
              "    </tr>\n",
              "    <tr>\n",
              "      <th>3</th>\n",
              "      <td>2014</td>\n",
              "      <td>MD</td>\n",
              "      <td>4.0</td>\n",
              "      <td>NaN</td>\n",
              "    </tr>\n",
              "    <tr>\n",
              "      <th>4</th>\n",
              "      <td>2015</td>\n",
              "      <td>MD</td>\n",
              "      <td>4.1</td>\n",
              "      <td>NaN</td>\n",
              "    </tr>\n",
              "  </tbody>\n",
              "</table>\n",
              "</div>"
            ],
            "text/plain": [
              "   year state  pop unempl\n",
              "0  2012    VA  5.0    NaN\n",
              "1  2013    VA  5.1    NaN\n",
              "2  2014    VA  5.2    NaN\n",
              "3  2014    MD  4.0    NaN\n",
              "4  2015    MD  4.1    NaN"
            ]
          },
          "metadata": {
            "tags": []
          },
          "execution_count": 58
        }
      ]
    },
    {
      "cell_type": "markdown",
      "metadata": {
        "id": "0n1DLHE2iyFG",
        "colab_type": "text"
      },
      "source": [
        "Retrieve a column by key, returning a Series:\n"
      ]
    },
    {
      "cell_type": "code",
      "metadata": {
        "id": "VBkqUmxziyFJ",
        "colab_type": "code",
        "colab": {
          "base_uri": "https://localhost:8080/",
          "height": 119
        },
        "outputId": "3587313f-a13c-4b4d-ec2b-663b10db79ca"
      },
      "source": [
        "df_3['state']"
      ],
      "execution_count": 59,
      "outputs": [
        {
          "output_type": "execute_result",
          "data": {
            "text/plain": [
              "0    VA\n",
              "1    VA\n",
              "2    VA\n",
              "3    MD\n",
              "4    MD\n",
              "Name: state, dtype: object"
            ]
          },
          "metadata": {
            "tags": []
          },
          "execution_count": 59
        }
      ]
    },
    {
      "cell_type": "code",
      "metadata": {
        "id": "aPbD9o9JrGku",
        "colab_type": "code",
        "colab": {
          "base_uri": "https://localhost:8080/",
          "height": 119
        },
        "outputId": "c3d3ef08-e414-473d-e478-e99a2116c392"
      },
      "source": [
        "df_3[\"pop\"]"
      ],
      "execution_count": 60,
      "outputs": [
        {
          "output_type": "execute_result",
          "data": {
            "text/plain": [
              "0    5.0\n",
              "1    5.1\n",
              "2    5.2\n",
              "3    4.0\n",
              "4    4.1\n",
              "Name: pop, dtype: float64"
            ]
          },
          "metadata": {
            "tags": []
          },
          "execution_count": 60
        }
      ]
    },
    {
      "cell_type": "code",
      "metadata": {
        "id": "itpWYl3irMx8",
        "colab_type": "code",
        "colab": {
          "base_uri": "https://localhost:8080/",
          "height": 119
        },
        "outputId": "35b2ec37-c96a-4d2e-a476-02c255b4d07c"
      },
      "source": [
        "df_3[\"year\"]"
      ],
      "execution_count": 61,
      "outputs": [
        {
          "output_type": "execute_result",
          "data": {
            "text/plain": [
              "0    2012\n",
              "1    2013\n",
              "2    2014\n",
              "3    2014\n",
              "4    2015\n",
              "Name: year, dtype: int64"
            ]
          },
          "metadata": {
            "tags": []
          },
          "execution_count": 61
        }
      ]
    },
    {
      "cell_type": "markdown",
      "metadata": {
        "id": "jaFvyZ2_iyFX",
        "colab_type": "text"
      },
      "source": [
        "Retrive a column by attribute, returning a Series:"
      ]
    },
    {
      "cell_type": "code",
      "metadata": {
        "id": "53q4yAKKiyFm",
        "colab_type": "code",
        "colab": {
          "base_uri": "https://localhost:8080/",
          "height": 119
        },
        "outputId": "8949dda4-294b-40eb-c39c-afb4467c05ef"
      },
      "source": [
        "df_3.year"
      ],
      "execution_count": 64,
      "outputs": [
        {
          "output_type": "execute_result",
          "data": {
            "text/plain": [
              "0    2012\n",
              "1    2013\n",
              "2    2014\n",
              "3    2014\n",
              "4    2015\n",
              "Name: year, dtype: int64"
            ]
          },
          "metadata": {
            "tags": []
          },
          "execution_count": 64
        }
      ]
    },
    {
      "cell_type": "code",
      "metadata": {
        "id": "OA4IpDfdreQq",
        "colab_type": "code",
        "colab": {
          "base_uri": "https://localhost:8080/",
          "height": 119
        },
        "outputId": "cdc47dc6-6298-4a71-8a07-5c97b0d55921"
      },
      "source": [
        "df_3.state"
      ],
      "execution_count": 65,
      "outputs": [
        {
          "output_type": "execute_result",
          "data": {
            "text/plain": [
              "0    VA\n",
              "1    VA\n",
              "2    VA\n",
              "3    MD\n",
              "4    MD\n",
              "Name: state, dtype: object"
            ]
          },
          "metadata": {
            "tags": []
          },
          "execution_count": 65
        }
      ]
    },
    {
      "cell_type": "markdown",
      "metadata": {
        "id": "rL7Z5UtIiyF9",
        "colab_type": "text"
      },
      "source": [
        "Retrieve a row by position:"
      ]
    },
    {
      "cell_type": "code",
      "metadata": {
        "id": "7LZlxu3giyGB",
        "colab_type": "code",
        "colab": {
          "base_uri": "https://localhost:8080/",
          "height": 238
        },
        "outputId": "11359243-9d73-4ffd-9645-db476d786e04"
      },
      "source": [
        "#df_3.ix[0]  ix no esta en uso"
      ],
      "execution_count": 66,
      "outputs": [
        {
          "output_type": "stream",
          "text": [
            "/usr/local/lib/python3.6/dist-packages/ipykernel_launcher.py:1: FutureWarning: \n",
            ".ix is deprecated. Please use\n",
            ".loc for label based indexing or\n",
            ".iloc for positional indexing\n",
            "\n",
            "See the documentation here:\n",
            "http://pandas.pydata.org/pandas-docs/stable/user_guide/indexing.html#ix-indexer-is-deprecated\n",
            "  \"\"\"Entry point for launching an IPython kernel.\n"
          ],
          "name": "stderr"
        },
        {
          "output_type": "execute_result",
          "data": {
            "text/plain": [
              "year      2012\n",
              "state       VA\n",
              "pop          5\n",
              "unempl     NaN\n",
              "Name: 0, dtype: object"
            ]
          },
          "metadata": {
            "tags": []
          },
          "execution_count": 66
        }
      ]
    },
    {
      "cell_type": "code",
      "metadata": {
        "id": "fQIODN_AsVIe",
        "colab_type": "code",
        "colab": {
          "base_uri": "https://localhost:8080/",
          "height": 204
        },
        "outputId": "235dee02-491a-4434-bbbc-343628189984"
      },
      "source": [
        "df_3"
      ],
      "execution_count": 68,
      "outputs": [
        {
          "output_type": "execute_result",
          "data": {
            "text/html": [
              "<div>\n",
              "<style scoped>\n",
              "    .dataframe tbody tr th:only-of-type {\n",
              "        vertical-align: middle;\n",
              "    }\n",
              "\n",
              "    .dataframe tbody tr th {\n",
              "        vertical-align: top;\n",
              "    }\n",
              "\n",
              "    .dataframe thead th {\n",
              "        text-align: right;\n",
              "    }\n",
              "</style>\n",
              "<table border=\"1\" class=\"dataframe\">\n",
              "  <thead>\n",
              "    <tr style=\"text-align: right;\">\n",
              "      <th></th>\n",
              "      <th>year</th>\n",
              "      <th>state</th>\n",
              "      <th>pop</th>\n",
              "      <th>unempl</th>\n",
              "    </tr>\n",
              "  </thead>\n",
              "  <tbody>\n",
              "    <tr>\n",
              "      <th>0</th>\n",
              "      <td>2012</td>\n",
              "      <td>VA</td>\n",
              "      <td>5.0</td>\n",
              "      <td>NaN</td>\n",
              "    </tr>\n",
              "    <tr>\n",
              "      <th>1</th>\n",
              "      <td>2013</td>\n",
              "      <td>VA</td>\n",
              "      <td>5.1</td>\n",
              "      <td>NaN</td>\n",
              "    </tr>\n",
              "    <tr>\n",
              "      <th>2</th>\n",
              "      <td>2014</td>\n",
              "      <td>VA</td>\n",
              "      <td>5.2</td>\n",
              "      <td>NaN</td>\n",
              "    </tr>\n",
              "    <tr>\n",
              "      <th>3</th>\n",
              "      <td>2014</td>\n",
              "      <td>MD</td>\n",
              "      <td>4.0</td>\n",
              "      <td>NaN</td>\n",
              "    </tr>\n",
              "    <tr>\n",
              "      <th>4</th>\n",
              "      <td>2015</td>\n",
              "      <td>MD</td>\n",
              "      <td>4.1</td>\n",
              "      <td>NaN</td>\n",
              "    </tr>\n",
              "  </tbody>\n",
              "</table>\n",
              "</div>"
            ],
            "text/plain": [
              "   year state  pop unempl\n",
              "0  2012    VA  5.0    NaN\n",
              "1  2013    VA  5.1    NaN\n",
              "2  2014    VA  5.2    NaN\n",
              "3  2014    MD  4.0    NaN\n",
              "4  2015    MD  4.1    NaN"
            ]
          },
          "metadata": {
            "tags": []
          },
          "execution_count": 68
        }
      ]
    },
    {
      "cell_type": "code",
      "metadata": {
        "id": "1I4IcNTOsLuZ",
        "colab_type": "code",
        "colab": {
          "base_uri": "https://localhost:8080/",
          "height": 102
        },
        "outputId": "f6910471-e42e-4908-8b37-a53c9a25d9d1"
      },
      "source": [
        "df_3.loc[1]  #muestra toda la fila 1"
      ],
      "execution_count": 67,
      "outputs": [
        {
          "output_type": "execute_result",
          "data": {
            "text/plain": [
              "year      2013\n",
              "state       VA\n",
              "pop        5.1\n",
              "unempl     NaN\n",
              "Name: 1, dtype: object"
            ]
          },
          "metadata": {
            "tags": []
          },
          "execution_count": 67
        }
      ]
    },
    {
      "cell_type": "markdown",
      "metadata": {
        "id": "k0b0PWljiyGP",
        "colab_type": "text"
      },
      "source": [
        "Update a column by assignment:"
      ]
    },
    {
      "cell_type": "code",
      "metadata": {
        "id": "qHBtvH_2iyGU",
        "colab_type": "code",
        "colab": {
          "base_uri": "https://localhost:8080/",
          "height": 204
        },
        "outputId": "986ccdfe-f99f-4973-caa4-53bc4cbbef4e"
      },
      "source": [
        "df_3['unempl'] = np.arange(5) #llena datos aleatorios\n",
        "df_3"
      ],
      "execution_count": 69,
      "outputs": [
        {
          "output_type": "execute_result",
          "data": {
            "text/html": [
              "<div>\n",
              "<style scoped>\n",
              "    .dataframe tbody tr th:only-of-type {\n",
              "        vertical-align: middle;\n",
              "    }\n",
              "\n",
              "    .dataframe tbody tr th {\n",
              "        vertical-align: top;\n",
              "    }\n",
              "\n",
              "    .dataframe thead th {\n",
              "        text-align: right;\n",
              "    }\n",
              "</style>\n",
              "<table border=\"1\" class=\"dataframe\">\n",
              "  <thead>\n",
              "    <tr style=\"text-align: right;\">\n",
              "      <th></th>\n",
              "      <th>year</th>\n",
              "      <th>state</th>\n",
              "      <th>pop</th>\n",
              "      <th>unempl</th>\n",
              "    </tr>\n",
              "  </thead>\n",
              "  <tbody>\n",
              "    <tr>\n",
              "      <th>0</th>\n",
              "      <td>2012</td>\n",
              "      <td>VA</td>\n",
              "      <td>5.0</td>\n",
              "      <td>0</td>\n",
              "    </tr>\n",
              "    <tr>\n",
              "      <th>1</th>\n",
              "      <td>2013</td>\n",
              "      <td>VA</td>\n",
              "      <td>5.1</td>\n",
              "      <td>1</td>\n",
              "    </tr>\n",
              "    <tr>\n",
              "      <th>2</th>\n",
              "      <td>2014</td>\n",
              "      <td>VA</td>\n",
              "      <td>5.2</td>\n",
              "      <td>2</td>\n",
              "    </tr>\n",
              "    <tr>\n",
              "      <th>3</th>\n",
              "      <td>2014</td>\n",
              "      <td>MD</td>\n",
              "      <td>4.0</td>\n",
              "      <td>3</td>\n",
              "    </tr>\n",
              "    <tr>\n",
              "      <th>4</th>\n",
              "      <td>2015</td>\n",
              "      <td>MD</td>\n",
              "      <td>4.1</td>\n",
              "      <td>4</td>\n",
              "    </tr>\n",
              "  </tbody>\n",
              "</table>\n",
              "</div>"
            ],
            "text/plain": [
              "   year state  pop  unempl\n",
              "0  2012    VA  5.0       0\n",
              "1  2013    VA  5.1       1\n",
              "2  2014    VA  5.2       2\n",
              "3  2014    MD  4.0       3\n",
              "4  2015    MD  4.1       4"
            ]
          },
          "metadata": {
            "tags": []
          },
          "execution_count": 69
        }
      ]
    },
    {
      "cell_type": "code",
      "metadata": {
        "id": "jJgj1IzVsk-v",
        "colab_type": "code",
        "colab": {
          "base_uri": "https://localhost:8080/",
          "height": 204
        },
        "outputId": "721f084e-662e-4bb5-af46-0737220c6cf9"
      },
      "source": [
        "df_3['unempl'] = np.arange(5) #llena datos aleatorios\n",
        "df_3"
      ],
      "execution_count": 71,
      "outputs": [
        {
          "output_type": "execute_result",
          "data": {
            "text/html": [
              "<div>\n",
              "<style scoped>\n",
              "    .dataframe tbody tr th:only-of-type {\n",
              "        vertical-align: middle;\n",
              "    }\n",
              "\n",
              "    .dataframe tbody tr th {\n",
              "        vertical-align: top;\n",
              "    }\n",
              "\n",
              "    .dataframe thead th {\n",
              "        text-align: right;\n",
              "    }\n",
              "</style>\n",
              "<table border=\"1\" class=\"dataframe\">\n",
              "  <thead>\n",
              "    <tr style=\"text-align: right;\">\n",
              "      <th></th>\n",
              "      <th>year</th>\n",
              "      <th>state</th>\n",
              "      <th>pop</th>\n",
              "      <th>unempl</th>\n",
              "    </tr>\n",
              "  </thead>\n",
              "  <tbody>\n",
              "    <tr>\n",
              "      <th>0</th>\n",
              "      <td>2012</td>\n",
              "      <td>VA</td>\n",
              "      <td>5.0</td>\n",
              "      <td>0</td>\n",
              "    </tr>\n",
              "    <tr>\n",
              "      <th>1</th>\n",
              "      <td>2013</td>\n",
              "      <td>VA</td>\n",
              "      <td>5.1</td>\n",
              "      <td>1</td>\n",
              "    </tr>\n",
              "    <tr>\n",
              "      <th>2</th>\n",
              "      <td>2014</td>\n",
              "      <td>VA</td>\n",
              "      <td>5.2</td>\n",
              "      <td>2</td>\n",
              "    </tr>\n",
              "    <tr>\n",
              "      <th>3</th>\n",
              "      <td>2014</td>\n",
              "      <td>MD</td>\n",
              "      <td>4.0</td>\n",
              "      <td>3</td>\n",
              "    </tr>\n",
              "    <tr>\n",
              "      <th>4</th>\n",
              "      <td>2015</td>\n",
              "      <td>MD</td>\n",
              "      <td>4.1</td>\n",
              "      <td>4</td>\n",
              "    </tr>\n",
              "  </tbody>\n",
              "</table>\n",
              "</div>"
            ],
            "text/plain": [
              "   year state  pop  unempl\n",
              "0  2012    VA  5.0       0\n",
              "1  2013    VA  5.1       1\n",
              "2  2014    VA  5.2       2\n",
              "3  2014    MD  4.0       3\n",
              "4  2015    MD  4.1       4"
            ]
          },
          "metadata": {
            "tags": []
          },
          "execution_count": 71
        }
      ]
    },
    {
      "cell_type": "code",
      "metadata": {
        "id": "JKbnC4LPsk2n",
        "colab_type": "code",
        "colab": {}
      },
      "source": [
        ""
      ],
      "execution_count": 0,
      "outputs": []
    },
    {
      "cell_type": "markdown",
      "metadata": {
        "id": "zorZanWmiyGb",
        "colab_type": "text"
      },
      "source": [
        "Assign a Series to a column (note if assigning a list or array, the length must match the DataFrame, unlike a Series):"
      ]
    },
    {
      "cell_type": "code",
      "metadata": {
        "id": "zsiw8zsliyGd",
        "colab_type": "code",
        "colab": {
          "base_uri": "https://localhost:8080/",
          "height": 204
        },
        "outputId": "fc30facc-025b-4999-9bb6-22d477d13c69"
      },
      "source": [
        "unempl = pd.Series([6.0, 6.0, 6.1], index=[2, 3, 4])\n",
        "df_3['unempl'] = unempl\n",
        "df_3"
      ],
      "execution_count": 72,
      "outputs": [
        {
          "output_type": "execute_result",
          "data": {
            "text/html": [
              "<div>\n",
              "<style scoped>\n",
              "    .dataframe tbody tr th:only-of-type {\n",
              "        vertical-align: middle;\n",
              "    }\n",
              "\n",
              "    .dataframe tbody tr th {\n",
              "        vertical-align: top;\n",
              "    }\n",
              "\n",
              "    .dataframe thead th {\n",
              "        text-align: right;\n",
              "    }\n",
              "</style>\n",
              "<table border=\"1\" class=\"dataframe\">\n",
              "  <thead>\n",
              "    <tr style=\"text-align: right;\">\n",
              "      <th></th>\n",
              "      <th>year</th>\n",
              "      <th>state</th>\n",
              "      <th>pop</th>\n",
              "      <th>unempl</th>\n",
              "    </tr>\n",
              "  </thead>\n",
              "  <tbody>\n",
              "    <tr>\n",
              "      <th>0</th>\n",
              "      <td>2012</td>\n",
              "      <td>VA</td>\n",
              "      <td>5.0</td>\n",
              "      <td>NaN</td>\n",
              "    </tr>\n",
              "    <tr>\n",
              "      <th>1</th>\n",
              "      <td>2013</td>\n",
              "      <td>VA</td>\n",
              "      <td>5.1</td>\n",
              "      <td>NaN</td>\n",
              "    </tr>\n",
              "    <tr>\n",
              "      <th>2</th>\n",
              "      <td>2014</td>\n",
              "      <td>VA</td>\n",
              "      <td>5.2</td>\n",
              "      <td>6.0</td>\n",
              "    </tr>\n",
              "    <tr>\n",
              "      <th>3</th>\n",
              "      <td>2014</td>\n",
              "      <td>MD</td>\n",
              "      <td>4.0</td>\n",
              "      <td>6.0</td>\n",
              "    </tr>\n",
              "    <tr>\n",
              "      <th>4</th>\n",
              "      <td>2015</td>\n",
              "      <td>MD</td>\n",
              "      <td>4.1</td>\n",
              "      <td>6.1</td>\n",
              "    </tr>\n",
              "  </tbody>\n",
              "</table>\n",
              "</div>"
            ],
            "text/plain": [
              "   year state  pop  unempl\n",
              "0  2012    VA  5.0     NaN\n",
              "1  2013    VA  5.1     NaN\n",
              "2  2014    VA  5.2     6.0\n",
              "3  2014    MD  4.0     6.0\n",
              "4  2015    MD  4.1     6.1"
            ]
          },
          "metadata": {
            "tags": []
          },
          "execution_count": 72
        }
      ]
    },
    {
      "cell_type": "markdown",
      "metadata": {
        "id": "rc2LnRzQiyGm",
        "colab_type": "text"
      },
      "source": [
        "Assign a new column that doesn't exist to create a new column:"
      ]
    },
    {
      "cell_type": "code",
      "metadata": {
        "id": "6M8IL2_riyGp",
        "colab_type": "code",
        "colab": {
          "base_uri": "https://localhost:8080/",
          "height": 204
        },
        "outputId": "57d08652-3cfa-440b-ee50-0b572e2853ff"
      },
      "source": [
        "df_3['state_dup'] = df_3['state']\n",
        "df_3"
      ],
      "execution_count": 73,
      "outputs": [
        {
          "output_type": "execute_result",
          "data": {
            "text/html": [
              "<div>\n",
              "<style scoped>\n",
              "    .dataframe tbody tr th:only-of-type {\n",
              "        vertical-align: middle;\n",
              "    }\n",
              "\n",
              "    .dataframe tbody tr th {\n",
              "        vertical-align: top;\n",
              "    }\n",
              "\n",
              "    .dataframe thead th {\n",
              "        text-align: right;\n",
              "    }\n",
              "</style>\n",
              "<table border=\"1\" class=\"dataframe\">\n",
              "  <thead>\n",
              "    <tr style=\"text-align: right;\">\n",
              "      <th></th>\n",
              "      <th>year</th>\n",
              "      <th>state</th>\n",
              "      <th>pop</th>\n",
              "      <th>unempl</th>\n",
              "      <th>state_dup</th>\n",
              "    </tr>\n",
              "  </thead>\n",
              "  <tbody>\n",
              "    <tr>\n",
              "      <th>0</th>\n",
              "      <td>2012</td>\n",
              "      <td>VA</td>\n",
              "      <td>5.0</td>\n",
              "      <td>NaN</td>\n",
              "      <td>VA</td>\n",
              "    </tr>\n",
              "    <tr>\n",
              "      <th>1</th>\n",
              "      <td>2013</td>\n",
              "      <td>VA</td>\n",
              "      <td>5.1</td>\n",
              "      <td>NaN</td>\n",
              "      <td>VA</td>\n",
              "    </tr>\n",
              "    <tr>\n",
              "      <th>2</th>\n",
              "      <td>2014</td>\n",
              "      <td>VA</td>\n",
              "      <td>5.2</td>\n",
              "      <td>6.0</td>\n",
              "      <td>VA</td>\n",
              "    </tr>\n",
              "    <tr>\n",
              "      <th>3</th>\n",
              "      <td>2014</td>\n",
              "      <td>MD</td>\n",
              "      <td>4.0</td>\n",
              "      <td>6.0</td>\n",
              "      <td>MD</td>\n",
              "    </tr>\n",
              "    <tr>\n",
              "      <th>4</th>\n",
              "      <td>2015</td>\n",
              "      <td>MD</td>\n",
              "      <td>4.1</td>\n",
              "      <td>6.1</td>\n",
              "      <td>MD</td>\n",
              "    </tr>\n",
              "  </tbody>\n",
              "</table>\n",
              "</div>"
            ],
            "text/plain": [
              "   year state  pop  unempl state_dup\n",
              "0  2012    VA  5.0     NaN        VA\n",
              "1  2013    VA  5.1     NaN        VA\n",
              "2  2014    VA  5.2     6.0        VA\n",
              "3  2014    MD  4.0     6.0        MD\n",
              "4  2015    MD  4.1     6.1        MD"
            ]
          },
          "metadata": {
            "tags": []
          },
          "execution_count": 73
        }
      ]
    },
    {
      "cell_type": "markdown",
      "metadata": {
        "id": "Yo9xJP14iyG0",
        "colab_type": "text"
      },
      "source": [
        "Delete a column:"
      ]
    },
    {
      "cell_type": "code",
      "metadata": {
        "id": "_1tZs59wiyG4",
        "colab_type": "code",
        "colab": {
          "base_uri": "https://localhost:8080/",
          "height": 204
        },
        "outputId": "5a831d10-713a-4d36-a5d1-957369985c16"
      },
      "source": [
        "del df_3['state_dup']\n",
        "df_3"
      ],
      "execution_count": 74,
      "outputs": [
        {
          "output_type": "execute_result",
          "data": {
            "text/html": [
              "<div>\n",
              "<style scoped>\n",
              "    .dataframe tbody tr th:only-of-type {\n",
              "        vertical-align: middle;\n",
              "    }\n",
              "\n",
              "    .dataframe tbody tr th {\n",
              "        vertical-align: top;\n",
              "    }\n",
              "\n",
              "    .dataframe thead th {\n",
              "        text-align: right;\n",
              "    }\n",
              "</style>\n",
              "<table border=\"1\" class=\"dataframe\">\n",
              "  <thead>\n",
              "    <tr style=\"text-align: right;\">\n",
              "      <th></th>\n",
              "      <th>year</th>\n",
              "      <th>state</th>\n",
              "      <th>pop</th>\n",
              "      <th>unempl</th>\n",
              "    </tr>\n",
              "  </thead>\n",
              "  <tbody>\n",
              "    <tr>\n",
              "      <th>0</th>\n",
              "      <td>2012</td>\n",
              "      <td>VA</td>\n",
              "      <td>5.0</td>\n",
              "      <td>NaN</td>\n",
              "    </tr>\n",
              "    <tr>\n",
              "      <th>1</th>\n",
              "      <td>2013</td>\n",
              "      <td>VA</td>\n",
              "      <td>5.1</td>\n",
              "      <td>NaN</td>\n",
              "    </tr>\n",
              "    <tr>\n",
              "      <th>2</th>\n",
              "      <td>2014</td>\n",
              "      <td>VA</td>\n",
              "      <td>5.2</td>\n",
              "      <td>6.0</td>\n",
              "    </tr>\n",
              "    <tr>\n",
              "      <th>3</th>\n",
              "      <td>2014</td>\n",
              "      <td>MD</td>\n",
              "      <td>4.0</td>\n",
              "      <td>6.0</td>\n",
              "    </tr>\n",
              "    <tr>\n",
              "      <th>4</th>\n",
              "      <td>2015</td>\n",
              "      <td>MD</td>\n",
              "      <td>4.1</td>\n",
              "      <td>6.1</td>\n",
              "    </tr>\n",
              "  </tbody>\n",
              "</table>\n",
              "</div>"
            ],
            "text/plain": [
              "   year state  pop  unempl\n",
              "0  2012    VA  5.0     NaN\n",
              "1  2013    VA  5.1     NaN\n",
              "2  2014    VA  5.2     6.0\n",
              "3  2014    MD  4.0     6.0\n",
              "4  2015    MD  4.1     6.1"
            ]
          },
          "metadata": {
            "tags": []
          },
          "execution_count": 74
        }
      ]
    },
    {
      "cell_type": "markdown",
      "metadata": {
        "id": "m0JnY_nGiyHH",
        "colab_type": "text"
      },
      "source": [
        "Create a DataFrame from a nested dict of dicts (the keys in the inner dicts are unioned and sorted to form the index in the result, unless an explicit index is specified):"
      ]
    },
    {
      "cell_type": "code",
      "metadata": {
        "id": "wSlOSogQiyHL",
        "colab_type": "code",
        "colab": {
          "base_uri": "https://localhost:8080/",
          "height": 142
        },
        "outputId": "ff6a437a-ae8d-4913-8a73-78ec492839f8"
      },
      "source": [
        "pop = {'VA' : {2013 : 5.1, 2014 : 5.2},\n",
        "       'MD' : {2014 : 4.0, 2015 : 4.1}}\n",
        "df_4 = pd.DataFrame(pop)\n",
        "df_4"
      ],
      "execution_count": 76,
      "outputs": [
        {
          "output_type": "execute_result",
          "data": {
            "text/html": [
              "<div>\n",
              "<style scoped>\n",
              "    .dataframe tbody tr th:only-of-type {\n",
              "        vertical-align: middle;\n",
              "    }\n",
              "\n",
              "    .dataframe tbody tr th {\n",
              "        vertical-align: top;\n",
              "    }\n",
              "\n",
              "    .dataframe thead th {\n",
              "        text-align: right;\n",
              "    }\n",
              "</style>\n",
              "<table border=\"1\" class=\"dataframe\">\n",
              "  <thead>\n",
              "    <tr style=\"text-align: right;\">\n",
              "      <th></th>\n",
              "      <th>VA</th>\n",
              "      <th>MD</th>\n",
              "    </tr>\n",
              "  </thead>\n",
              "  <tbody>\n",
              "    <tr>\n",
              "      <th>2013</th>\n",
              "      <td>5.1</td>\n",
              "      <td>NaN</td>\n",
              "    </tr>\n",
              "    <tr>\n",
              "      <th>2014</th>\n",
              "      <td>5.2</td>\n",
              "      <td>4.0</td>\n",
              "    </tr>\n",
              "    <tr>\n",
              "      <th>2015</th>\n",
              "      <td>NaN</td>\n",
              "      <td>4.1</td>\n",
              "    </tr>\n",
              "  </tbody>\n",
              "</table>\n",
              "</div>"
            ],
            "text/plain": [
              "       VA   MD\n",
              "2013  5.1  NaN\n",
              "2014  5.2  4.0\n",
              "2015  NaN  4.1"
            ]
          },
          "metadata": {
            "tags": []
          },
          "execution_count": 76
        }
      ]
    },
    {
      "cell_type": "markdown",
      "metadata": {
        "id": "VaszfdfmiyHW",
        "colab_type": "text"
      },
      "source": [
        "Transpose the DataFrame:"
      ]
    },
    {
      "cell_type": "code",
      "metadata": {
        "id": "4EAGS3kSiyHZ",
        "colab_type": "code",
        "colab": {},
        "outputId": "a70f7958-5197-43d1-f353-23bbd8d8e7d4"
      },
      "source": [
        "df_4.T"
      ],
      "execution_count": 0,
      "outputs": [
        {
          "output_type": "execute_result",
          "data": {
            "text/html": [
              "<div>\n",
              "<table border=\"1\" class=\"dataframe\">\n",
              "  <thead>\n",
              "    <tr style=\"text-align: right;\">\n",
              "      <th></th>\n",
              "      <th>2013</th>\n",
              "      <th>2014</th>\n",
              "      <th>2015</th>\n",
              "    </tr>\n",
              "  </thead>\n",
              "  <tbody>\n",
              "    <tr>\n",
              "      <th>MD</th>\n",
              "      <td>NaN</td>\n",
              "      <td>4.0</td>\n",
              "      <td>4.1</td>\n",
              "    </tr>\n",
              "    <tr>\n",
              "      <th>VA</th>\n",
              "      <td>5.1</td>\n",
              "      <td>5.2</td>\n",
              "      <td>NaN</td>\n",
              "    </tr>\n",
              "  </tbody>\n",
              "</table>\n",
              "</div>"
            ],
            "text/plain": [
              "    2013  2014  2015\n",
              "MD   NaN   4.0   4.1\n",
              "VA   5.1   5.2   NaN"
            ]
          },
          "metadata": {
            "tags": []
          },
          "execution_count": 31
        }
      ]
    },
    {
      "cell_type": "markdown",
      "metadata": {
        "id": "fyIKjzPYiyHp",
        "colab_type": "text"
      },
      "source": [
        "Create a DataFrame from a dict of Series:"
      ]
    },
    {
      "cell_type": "code",
      "metadata": {
        "id": "5fy4gVGIiyHr",
        "colab_type": "code",
        "colab": {},
        "outputId": "c846e775-be1b-4c99-f7f3-ecb07256a8e5"
      },
      "source": [
        "data_2 = {'VA' : df_4['VA'][1:],\n",
        "          'MD' : df_4['MD'][2:]}\n",
        "df_5 = DataFrame(data_2)\n",
        "df_5"
      ],
      "execution_count": 0,
      "outputs": [
        {
          "output_type": "execute_result",
          "data": {
            "text/html": [
              "<div>\n",
              "<table border=\"1\" class=\"dataframe\">\n",
              "  <thead>\n",
              "    <tr style=\"text-align: right;\">\n",
              "      <th></th>\n",
              "      <th>MD</th>\n",
              "      <th>VA</th>\n",
              "    </tr>\n",
              "  </thead>\n",
              "  <tbody>\n",
              "    <tr>\n",
              "      <th>2014</th>\n",
              "      <td>NaN</td>\n",
              "      <td>5.2</td>\n",
              "    </tr>\n",
              "    <tr>\n",
              "      <th>2015</th>\n",
              "      <td>4.1</td>\n",
              "      <td>NaN</td>\n",
              "    </tr>\n",
              "  </tbody>\n",
              "</table>\n",
              "</div>"
            ],
            "text/plain": [
              "       MD   VA\n",
              "2014  NaN  5.2\n",
              "2015  4.1  NaN"
            ]
          },
          "metadata": {
            "tags": []
          },
          "execution_count": 32
        }
      ]
    },
    {
      "cell_type": "markdown",
      "metadata": {
        "id": "gHU5uCrJiyH3",
        "colab_type": "text"
      },
      "source": [
        "Set the DataFrame index name:"
      ]
    },
    {
      "cell_type": "code",
      "metadata": {
        "id": "L0Et8KzKiyH-",
        "colab_type": "code",
        "colab": {},
        "outputId": "08efd602-6c9c-41a5-8851-d3799b7dee24"
      },
      "source": [
        "df_5.index.name = 'year'\n",
        "df_5"
      ],
      "execution_count": 0,
      "outputs": [
        {
          "output_type": "execute_result",
          "data": {
            "text/html": [
              "<div>\n",
              "<table border=\"1\" class=\"dataframe\">\n",
              "  <thead>\n",
              "    <tr style=\"text-align: right;\">\n",
              "      <th></th>\n",
              "      <th>MD</th>\n",
              "      <th>VA</th>\n",
              "    </tr>\n",
              "    <tr>\n",
              "      <th>year</th>\n",
              "      <th></th>\n",
              "      <th></th>\n",
              "    </tr>\n",
              "  </thead>\n",
              "  <tbody>\n",
              "    <tr>\n",
              "      <th>2014</th>\n",
              "      <td>NaN</td>\n",
              "      <td>5.2</td>\n",
              "    </tr>\n",
              "    <tr>\n",
              "      <th>2015</th>\n",
              "      <td>4.1</td>\n",
              "      <td>NaN</td>\n",
              "    </tr>\n",
              "  </tbody>\n",
              "</table>\n",
              "</div>"
            ],
            "text/plain": [
              "       MD   VA\n",
              "year          \n",
              "2014  NaN  5.2\n",
              "2015  4.1  NaN"
            ]
          },
          "metadata": {
            "tags": []
          },
          "execution_count": 33
        }
      ]
    },
    {
      "cell_type": "markdown",
      "metadata": {
        "id": "VwDUZyuyiyIJ",
        "colab_type": "text"
      },
      "source": [
        "Set the DataFrame columns name:"
      ]
    },
    {
      "cell_type": "code",
      "metadata": {
        "id": "25CsXqmoiyIV",
        "colab_type": "code",
        "colab": {},
        "outputId": "3264fe60-e391-4e9c-f12f-1bba91be17f1"
      },
      "source": [
        "df_5.columns.name = 'state'\n",
        "df_5"
      ],
      "execution_count": 0,
      "outputs": [
        {
          "output_type": "execute_result",
          "data": {
            "text/html": [
              "<div>\n",
              "<table border=\"1\" class=\"dataframe\">\n",
              "  <thead>\n",
              "    <tr style=\"text-align: right;\">\n",
              "      <th>state</th>\n",
              "      <th>MD</th>\n",
              "      <th>VA</th>\n",
              "    </tr>\n",
              "    <tr>\n",
              "      <th>year</th>\n",
              "      <th></th>\n",
              "      <th></th>\n",
              "    </tr>\n",
              "  </thead>\n",
              "  <tbody>\n",
              "    <tr>\n",
              "      <th>2014</th>\n",
              "      <td>NaN</td>\n",
              "      <td>5.2</td>\n",
              "    </tr>\n",
              "    <tr>\n",
              "      <th>2015</th>\n",
              "      <td>4.1</td>\n",
              "      <td>NaN</td>\n",
              "    </tr>\n",
              "  </tbody>\n",
              "</table>\n",
              "</div>"
            ],
            "text/plain": [
              "state   MD   VA\n",
              "year           \n",
              "2014   NaN  5.2\n",
              "2015   4.1  NaN"
            ]
          },
          "metadata": {
            "tags": []
          },
          "execution_count": 34
        }
      ]
    },
    {
      "cell_type": "markdown",
      "metadata": {
        "id": "-N7FvdQBiyId",
        "colab_type": "text"
      },
      "source": [
        "Return the data contained in a DataFrame as a 2D ndarray:"
      ]
    },
    {
      "cell_type": "code",
      "metadata": {
        "id": "jRkMN0FqiyIf",
        "colab_type": "code",
        "colab": {},
        "outputId": "23379dc0-1c15-45d5-b474-6801e4ab00ff"
      },
      "source": [
        "df_5.values"
      ],
      "execution_count": 0,
      "outputs": [
        {
          "output_type": "execute_result",
          "data": {
            "text/plain": [
              "array([[ nan,  5.2],\n",
              "       [ 4.1,  nan]])"
            ]
          },
          "metadata": {
            "tags": []
          },
          "execution_count": 35
        }
      ]
    },
    {
      "cell_type": "markdown",
      "metadata": {
        "id": "hVXqM13tiyIq",
        "colab_type": "text"
      },
      "source": [
        "If the columns are different dtypes, the 2D ndarray's dtype will accomodate all of the columns:"
      ]
    },
    {
      "cell_type": "code",
      "metadata": {
        "id": "TwfanSsdiyIu",
        "colab_type": "code",
        "colab": {},
        "outputId": "68ad8c69-08ad-4e93-9745-e7fd429c9db4"
      },
      "source": [
        "df_3.values"
      ],
      "execution_count": 0,
      "outputs": [
        {
          "output_type": "execute_result",
          "data": {
            "text/plain": [
              "array([[2012, 'VA', 5.0, nan],\n",
              "       [2013, 'VA', 5.1, nan],\n",
              "       [2014, 'VA', 5.2, 6.0],\n",
              "       [2014, 'MD', 4.0, 6.0],\n",
              "       [2015, 'MD', 4.1, 6.1]], dtype=object)"
            ]
          },
          "metadata": {
            "tags": []
          },
          "execution_count": 36
        }
      ]
    },
    {
      "cell_type": "markdown",
      "metadata": {
        "id": "uxFEMyo4iyI4",
        "colab_type": "text"
      },
      "source": [
        "## Reindexing"
      ]
    },
    {
      "cell_type": "markdown",
      "metadata": {
        "id": "KZMvmigeiyI7",
        "colab_type": "text"
      },
      "source": [
        "Create a new object with the data conformed to a new index.  Any missing values are set to NaN."
      ]
    },
    {
      "cell_type": "code",
      "metadata": {
        "id": "aho24xSPiyJA",
        "colab_type": "code",
        "colab": {},
        "outputId": "7c4eb788-0b29-44b1-ce56-fa731c2f960c"
      },
      "source": [
        "df_3"
      ],
      "execution_count": 0,
      "outputs": [
        {
          "output_type": "execute_result",
          "data": {
            "text/html": [
              "<div>\n",
              "<table border=\"1\" class=\"dataframe\">\n",
              "  <thead>\n",
              "    <tr style=\"text-align: right;\">\n",
              "      <th></th>\n",
              "      <th>year</th>\n",
              "      <th>state</th>\n",
              "      <th>pop</th>\n",
              "      <th>unempl</th>\n",
              "    </tr>\n",
              "  </thead>\n",
              "  <tbody>\n",
              "    <tr>\n",
              "      <th>0</th>\n",
              "      <td>2012</td>\n",
              "      <td>VA</td>\n",
              "      <td>5.0</td>\n",
              "      <td>NaN</td>\n",
              "    </tr>\n",
              "    <tr>\n",
              "      <th>1</th>\n",
              "      <td>2013</td>\n",
              "      <td>VA</td>\n",
              "      <td>5.1</td>\n",
              "      <td>NaN</td>\n",
              "    </tr>\n",
              "    <tr>\n",
              "      <th>2</th>\n",
              "      <td>2014</td>\n",
              "      <td>VA</td>\n",
              "      <td>5.2</td>\n",
              "      <td>6.0</td>\n",
              "    </tr>\n",
              "    <tr>\n",
              "      <th>3</th>\n",
              "      <td>2014</td>\n",
              "      <td>MD</td>\n",
              "      <td>4.0</td>\n",
              "      <td>6.0</td>\n",
              "    </tr>\n",
              "    <tr>\n",
              "      <th>4</th>\n",
              "      <td>2015</td>\n",
              "      <td>MD</td>\n",
              "      <td>4.1</td>\n",
              "      <td>6.1</td>\n",
              "    </tr>\n",
              "  </tbody>\n",
              "</table>\n",
              "</div>"
            ],
            "text/plain": [
              "   year state  pop  unempl\n",
              "0  2012    VA  5.0     NaN\n",
              "1  2013    VA  5.1     NaN\n",
              "2  2014    VA  5.2     6.0\n",
              "3  2014    MD  4.0     6.0\n",
              "4  2015    MD  4.1     6.1"
            ]
          },
          "metadata": {
            "tags": []
          },
          "execution_count": 37
        }
      ]
    },
    {
      "cell_type": "markdown",
      "metadata": {
        "id": "zpMkZZpaiyJO",
        "colab_type": "text"
      },
      "source": [
        "Reindexing rows returns a new frame with the specified index:"
      ]
    },
    {
      "cell_type": "code",
      "metadata": {
        "id": "Nn-o-rT1iyJb",
        "colab_type": "code",
        "colab": {},
        "outputId": "8ef373e3-734f-4bd8-c42a-d729bc590f90"
      },
      "source": [
        "df_3.reindex(list(reversed(range(0, 6))))"
      ],
      "execution_count": 0,
      "outputs": [
        {
          "output_type": "execute_result",
          "data": {
            "text/html": [
              "<div>\n",
              "<table border=\"1\" class=\"dataframe\">\n",
              "  <thead>\n",
              "    <tr style=\"text-align: right;\">\n",
              "      <th></th>\n",
              "      <th>year</th>\n",
              "      <th>state</th>\n",
              "      <th>pop</th>\n",
              "      <th>unempl</th>\n",
              "    </tr>\n",
              "  </thead>\n",
              "  <tbody>\n",
              "    <tr>\n",
              "      <th>5</th>\n",
              "      <td>NaN</td>\n",
              "      <td>NaN</td>\n",
              "      <td>NaN</td>\n",
              "      <td>NaN</td>\n",
              "    </tr>\n",
              "    <tr>\n",
              "      <th>4</th>\n",
              "      <td>2015</td>\n",
              "      <td>MD</td>\n",
              "      <td>4.1</td>\n",
              "      <td>6.1</td>\n",
              "    </tr>\n",
              "    <tr>\n",
              "      <th>3</th>\n",
              "      <td>2014</td>\n",
              "      <td>MD</td>\n",
              "      <td>4.0</td>\n",
              "      <td>6.0</td>\n",
              "    </tr>\n",
              "    <tr>\n",
              "      <th>2</th>\n",
              "      <td>2014</td>\n",
              "      <td>VA</td>\n",
              "      <td>5.2</td>\n",
              "      <td>6.0</td>\n",
              "    </tr>\n",
              "    <tr>\n",
              "      <th>1</th>\n",
              "      <td>2013</td>\n",
              "      <td>VA</td>\n",
              "      <td>5.1</td>\n",
              "      <td>NaN</td>\n",
              "    </tr>\n",
              "    <tr>\n",
              "      <th>0</th>\n",
              "      <td>2012</td>\n",
              "      <td>VA</td>\n",
              "      <td>5.0</td>\n",
              "      <td>NaN</td>\n",
              "    </tr>\n",
              "  </tbody>\n",
              "</table>\n",
              "</div>"
            ],
            "text/plain": [
              "   year state  pop  unempl\n",
              "5   NaN   NaN  NaN     NaN\n",
              "4  2015    MD  4.1     6.1\n",
              "3  2014    MD  4.0     6.0\n",
              "2  2014    VA  5.2     6.0\n",
              "1  2013    VA  5.1     NaN\n",
              "0  2012    VA  5.0     NaN"
            ]
          },
          "metadata": {
            "tags": []
          },
          "execution_count": 38
        }
      ]
    },
    {
      "cell_type": "markdown",
      "metadata": {
        "id": "j87O61aoiyJn",
        "colab_type": "text"
      },
      "source": [
        "Missing values can be set to something other than NaN:"
      ]
    },
    {
      "cell_type": "code",
      "metadata": {
        "id": "G_i6L_kjiyJq",
        "colab_type": "code",
        "colab": {},
        "outputId": "d972616b-aa62-412d-cb85-82fbd3ca9ae0"
      },
      "source": [
        "df_3.reindex(range(6, 0), fill_value=0)"
      ],
      "execution_count": 0,
      "outputs": [
        {
          "output_type": "execute_result",
          "data": {
            "text/html": [
              "<div>\n",
              "<table border=\"1\" class=\"dataframe\">\n",
              "  <thead>\n",
              "    <tr style=\"text-align: right;\">\n",
              "      <th></th>\n",
              "      <th>year</th>\n",
              "      <th>state</th>\n",
              "      <th>pop</th>\n",
              "      <th>unempl</th>\n",
              "    </tr>\n",
              "  </thead>\n",
              "  <tbody>\n",
              "  </tbody>\n",
              "</table>\n",
              "</div>"
            ],
            "text/plain": [
              "Empty DataFrame\n",
              "Columns: [year, state, pop, unempl]\n",
              "Index: []"
            ]
          },
          "metadata": {
            "tags": []
          },
          "execution_count": 39
        }
      ]
    },
    {
      "cell_type": "markdown",
      "metadata": {
        "id": "ZDYby-CmiyJx",
        "colab_type": "text"
      },
      "source": [
        "Interpolate ordered data like a time series:"
      ]
    },
    {
      "cell_type": "code",
      "metadata": {
        "id": "1oexK7DoiyJ0",
        "colab_type": "code",
        "colab": {}
      },
      "source": [
        "ser_5 = Series(['foo', 'bar', 'baz'], index=[0, 2, 4])"
      ],
      "execution_count": 0,
      "outputs": []
    },
    {
      "cell_type": "code",
      "metadata": {
        "id": "5TrLeKo8iyJ-",
        "colab_type": "code",
        "colab": {},
        "outputId": "48624938-2b71-47d1-edef-591db1bacb62"
      },
      "source": [
        "ser_5.reindex(range(5), method='ffill')"
      ],
      "execution_count": 0,
      "outputs": [
        {
          "output_type": "execute_result",
          "data": {
            "text/plain": [
              "0    foo\n",
              "1    foo\n",
              "2    bar\n",
              "3    bar\n",
              "4    baz\n",
              "dtype: object"
            ]
          },
          "metadata": {
            "tags": []
          },
          "execution_count": 41
        }
      ]
    },
    {
      "cell_type": "code",
      "metadata": {
        "id": "9PYTBl26iyKI",
        "colab_type": "code",
        "colab": {},
        "outputId": "4af299d5-3e5d-4d81-d076-2e1c432aff52"
      },
      "source": [
        "ser_5.reindex(range(5), method='bfill')"
      ],
      "execution_count": 0,
      "outputs": [
        {
          "output_type": "execute_result",
          "data": {
            "text/plain": [
              "0    foo\n",
              "1    bar\n",
              "2    bar\n",
              "3    baz\n",
              "4    baz\n",
              "dtype: object"
            ]
          },
          "metadata": {
            "tags": []
          },
          "execution_count": 42
        }
      ]
    },
    {
      "cell_type": "markdown",
      "metadata": {
        "id": "8EEphjpNiyKU",
        "colab_type": "text"
      },
      "source": [
        "Reindex columns:"
      ]
    },
    {
      "cell_type": "code",
      "metadata": {
        "id": "pK0WASCjiyKW",
        "colab_type": "code",
        "colab": {},
        "outputId": "1325cbdc-ce70-4ae4-eac9-133f68b9743f"
      },
      "source": [
        "df_3.reindex(columns=['state', 'pop', 'unempl', 'year'])"
      ],
      "execution_count": 0,
      "outputs": [
        {
          "output_type": "execute_result",
          "data": {
            "text/html": [
              "<div>\n",
              "<table border=\"1\" class=\"dataframe\">\n",
              "  <thead>\n",
              "    <tr style=\"text-align: right;\">\n",
              "      <th></th>\n",
              "      <th>state</th>\n",
              "      <th>pop</th>\n",
              "      <th>unempl</th>\n",
              "      <th>year</th>\n",
              "    </tr>\n",
              "  </thead>\n",
              "  <tbody>\n",
              "    <tr>\n",
              "      <th>0</th>\n",
              "      <td>VA</td>\n",
              "      <td>5.0</td>\n",
              "      <td>NaN</td>\n",
              "      <td>2012</td>\n",
              "    </tr>\n",
              "    <tr>\n",
              "      <th>1</th>\n",
              "      <td>VA</td>\n",
              "      <td>5.1</td>\n",
              "      <td>NaN</td>\n",
              "      <td>2013</td>\n",
              "    </tr>\n",
              "    <tr>\n",
              "      <th>2</th>\n",
              "      <td>VA</td>\n",
              "      <td>5.2</td>\n",
              "      <td>6.0</td>\n",
              "      <td>2014</td>\n",
              "    </tr>\n",
              "    <tr>\n",
              "      <th>3</th>\n",
              "      <td>MD</td>\n",
              "      <td>4.0</td>\n",
              "      <td>6.0</td>\n",
              "      <td>2014</td>\n",
              "    </tr>\n",
              "    <tr>\n",
              "      <th>4</th>\n",
              "      <td>MD</td>\n",
              "      <td>4.1</td>\n",
              "      <td>6.1</td>\n",
              "      <td>2015</td>\n",
              "    </tr>\n",
              "  </tbody>\n",
              "</table>\n",
              "</div>"
            ],
            "text/plain": [
              "  state  pop  unempl  year\n",
              "0    VA  5.0     NaN  2012\n",
              "1    VA  5.1     NaN  2013\n",
              "2    VA  5.2     6.0  2014\n",
              "3    MD  4.0     6.0  2014\n",
              "4    MD  4.1     6.1  2015"
            ]
          },
          "metadata": {
            "tags": []
          },
          "execution_count": 43
        }
      ]
    },
    {
      "cell_type": "markdown",
      "metadata": {
        "id": "wf0Y9N-oiyKl",
        "colab_type": "text"
      },
      "source": [
        "Reindex rows and columns while filling rows:"
      ]
    },
    {
      "cell_type": "code",
      "metadata": {
        "id": "OR3tOwsoiyKo",
        "colab_type": "code",
        "colab": {},
        "outputId": "ecd7c851-1329-41cf-fc0b-e22a50f0a35e"
      },
      "source": [
        "df_3.reindex(index=list(reversed(range(0, 6))),\n",
        "             fill_value=0,\n",
        "             columns=['state', 'pop', 'unempl', 'year'])"
      ],
      "execution_count": 0,
      "outputs": [
        {
          "output_type": "execute_result",
          "data": {
            "text/html": [
              "<div>\n",
              "<table border=\"1\" class=\"dataframe\">\n",
              "  <thead>\n",
              "    <tr style=\"text-align: right;\">\n",
              "      <th></th>\n",
              "      <th>state</th>\n",
              "      <th>pop</th>\n",
              "      <th>unempl</th>\n",
              "      <th>year</th>\n",
              "    </tr>\n",
              "  </thead>\n",
              "  <tbody>\n",
              "    <tr>\n",
              "      <th>5</th>\n",
              "      <td>0</td>\n",
              "      <td>0.0</td>\n",
              "      <td>0.0</td>\n",
              "      <td>0</td>\n",
              "    </tr>\n",
              "    <tr>\n",
              "      <th>4</th>\n",
              "      <td>MD</td>\n",
              "      <td>4.1</td>\n",
              "      <td>6.1</td>\n",
              "      <td>2015</td>\n",
              "    </tr>\n",
              "    <tr>\n",
              "      <th>3</th>\n",
              "      <td>MD</td>\n",
              "      <td>4.0</td>\n",
              "      <td>6.0</td>\n",
              "      <td>2014</td>\n",
              "    </tr>\n",
              "    <tr>\n",
              "      <th>2</th>\n",
              "      <td>VA</td>\n",
              "      <td>5.2</td>\n",
              "      <td>6.0</td>\n",
              "      <td>2014</td>\n",
              "    </tr>\n",
              "    <tr>\n",
              "      <th>1</th>\n",
              "      <td>VA</td>\n",
              "      <td>5.1</td>\n",
              "      <td>NaN</td>\n",
              "      <td>2013</td>\n",
              "    </tr>\n",
              "    <tr>\n",
              "      <th>0</th>\n",
              "      <td>VA</td>\n",
              "      <td>5.0</td>\n",
              "      <td>NaN</td>\n",
              "      <td>2012</td>\n",
              "    </tr>\n",
              "  </tbody>\n",
              "</table>\n",
              "</div>"
            ],
            "text/plain": [
              "  state  pop  unempl  year\n",
              "5     0  0.0     0.0     0\n",
              "4    MD  4.1     6.1  2015\n",
              "3    MD  4.0     6.0  2014\n",
              "2    VA  5.2     6.0  2014\n",
              "1    VA  5.1     NaN  2013\n",
              "0    VA  5.0     NaN  2012"
            ]
          },
          "metadata": {
            "tags": []
          },
          "execution_count": 44
        }
      ]
    },
    {
      "cell_type": "markdown",
      "metadata": {
        "id": "ILH3fM58iyKy",
        "colab_type": "text"
      },
      "source": [
        "Reindex using ix:"
      ]
    },
    {
      "cell_type": "code",
      "metadata": {
        "id": "cRPqupP4iyK1",
        "colab_type": "code",
        "colab": {},
        "outputId": "84eed158-7f9a-4c0c-d090-9559fdfadc44"
      },
      "source": [
        "df_6 = df_3.ix[range(0, 7), ['state', 'pop', 'unempl', 'year']]\n",
        "df_6"
      ],
      "execution_count": 0,
      "outputs": [
        {
          "output_type": "execute_result",
          "data": {
            "text/html": [
              "<div>\n",
              "<table border=\"1\" class=\"dataframe\">\n",
              "  <thead>\n",
              "    <tr style=\"text-align: right;\">\n",
              "      <th></th>\n",
              "      <th>state</th>\n",
              "      <th>pop</th>\n",
              "      <th>unempl</th>\n",
              "      <th>year</th>\n",
              "    </tr>\n",
              "  </thead>\n",
              "  <tbody>\n",
              "    <tr>\n",
              "      <th>0</th>\n",
              "      <td>VA</td>\n",
              "      <td>5.0</td>\n",
              "      <td>NaN</td>\n",
              "      <td>2012</td>\n",
              "    </tr>\n",
              "    <tr>\n",
              "      <th>1</th>\n",
              "      <td>VA</td>\n",
              "      <td>5.1</td>\n",
              "      <td>NaN</td>\n",
              "      <td>2013</td>\n",
              "    </tr>\n",
              "    <tr>\n",
              "      <th>2</th>\n",
              "      <td>VA</td>\n",
              "      <td>5.2</td>\n",
              "      <td>6.0</td>\n",
              "      <td>2014</td>\n",
              "    </tr>\n",
              "    <tr>\n",
              "      <th>3</th>\n",
              "      <td>MD</td>\n",
              "      <td>4.0</td>\n",
              "      <td>6.0</td>\n",
              "      <td>2014</td>\n",
              "    </tr>\n",
              "    <tr>\n",
              "      <th>4</th>\n",
              "      <td>MD</td>\n",
              "      <td>4.1</td>\n",
              "      <td>6.1</td>\n",
              "      <td>2015</td>\n",
              "    </tr>\n",
              "    <tr>\n",
              "      <th>5</th>\n",
              "      <td>NaN</td>\n",
              "      <td>NaN</td>\n",
              "      <td>NaN</td>\n",
              "      <td>NaN</td>\n",
              "    </tr>\n",
              "    <tr>\n",
              "      <th>6</th>\n",
              "      <td>NaN</td>\n",
              "      <td>NaN</td>\n",
              "      <td>NaN</td>\n",
              "      <td>NaN</td>\n",
              "    </tr>\n",
              "  </tbody>\n",
              "</table>\n",
              "</div>"
            ],
            "text/plain": [
              "  state  pop  unempl  year\n",
              "0    VA  5.0     NaN  2012\n",
              "1    VA  5.1     NaN  2013\n",
              "2    VA  5.2     6.0  2014\n",
              "3    MD  4.0     6.0  2014\n",
              "4    MD  4.1     6.1  2015\n",
              "5   NaN  NaN     NaN   NaN\n",
              "6   NaN  NaN     NaN   NaN"
            ]
          },
          "metadata": {
            "tags": []
          },
          "execution_count": 45
        }
      ]
    },
    {
      "cell_type": "markdown",
      "metadata": {
        "id": "Ohy6ezbHiyK_",
        "colab_type": "text"
      },
      "source": [
        "## Dropping Entries"
      ]
    },
    {
      "cell_type": "markdown",
      "metadata": {
        "id": "ER7KbWqTiyLB",
        "colab_type": "text"
      },
      "source": [
        "Drop rows from a Series or DataFrame:"
      ]
    },
    {
      "cell_type": "code",
      "metadata": {
        "id": "dD7kUQMMiyLD",
        "colab_type": "code",
        "colab": {},
        "outputId": "2f129edd-6c0c-45d7-bcc2-2b6b3223e0f1"
      },
      "source": [
        "df_7 = df_6.drop([0, 1])\n",
        "df_7"
      ],
      "execution_count": 0,
      "outputs": [
        {
          "output_type": "execute_result",
          "data": {
            "text/html": [
              "<div>\n",
              "<table border=\"1\" class=\"dataframe\">\n",
              "  <thead>\n",
              "    <tr style=\"text-align: right;\">\n",
              "      <th></th>\n",
              "      <th>state</th>\n",
              "      <th>pop</th>\n",
              "      <th>unempl</th>\n",
              "      <th>year</th>\n",
              "    </tr>\n",
              "  </thead>\n",
              "  <tbody>\n",
              "    <tr>\n",
              "      <th>2</th>\n",
              "      <td>VA</td>\n",
              "      <td>5.2</td>\n",
              "      <td>6.0</td>\n",
              "      <td>2014</td>\n",
              "    </tr>\n",
              "    <tr>\n",
              "      <th>3</th>\n",
              "      <td>MD</td>\n",
              "      <td>4.0</td>\n",
              "      <td>6.0</td>\n",
              "      <td>2014</td>\n",
              "    </tr>\n",
              "    <tr>\n",
              "      <th>4</th>\n",
              "      <td>MD</td>\n",
              "      <td>4.1</td>\n",
              "      <td>6.1</td>\n",
              "      <td>2015</td>\n",
              "    </tr>\n",
              "    <tr>\n",
              "      <th>5</th>\n",
              "      <td>NaN</td>\n",
              "      <td>NaN</td>\n",
              "      <td>NaN</td>\n",
              "      <td>NaN</td>\n",
              "    </tr>\n",
              "    <tr>\n",
              "      <th>6</th>\n",
              "      <td>NaN</td>\n",
              "      <td>NaN</td>\n",
              "      <td>NaN</td>\n",
              "      <td>NaN</td>\n",
              "    </tr>\n",
              "  </tbody>\n",
              "</table>\n",
              "</div>"
            ],
            "text/plain": [
              "  state  pop  unempl  year\n",
              "2    VA  5.2     6.0  2014\n",
              "3    MD  4.0     6.0  2014\n",
              "4    MD  4.1     6.1  2015\n",
              "5   NaN  NaN     NaN   NaN\n",
              "6   NaN  NaN     NaN   NaN"
            ]
          },
          "metadata": {
            "tags": []
          },
          "execution_count": 46
        }
      ]
    },
    {
      "cell_type": "markdown",
      "metadata": {
        "id": "cOn1D5hHiyLK",
        "colab_type": "text"
      },
      "source": [
        "Drop columns from a DataFrame:"
      ]
    },
    {
      "cell_type": "code",
      "metadata": {
        "id": "yvpixj12iyLN",
        "colab_type": "code",
        "colab": {},
        "outputId": "2b839e16-6241-47fa-c329-19206840cead"
      },
      "source": [
        "df_7 = df_7.drop('unempl', axis=1)\n",
        "df_7"
      ],
      "execution_count": 0,
      "outputs": [
        {
          "output_type": "execute_result",
          "data": {
            "text/html": [
              "<div>\n",
              "<table border=\"1\" class=\"dataframe\">\n",
              "  <thead>\n",
              "    <tr style=\"text-align: right;\">\n",
              "      <th></th>\n",
              "      <th>state</th>\n",
              "      <th>pop</th>\n",
              "      <th>year</th>\n",
              "    </tr>\n",
              "  </thead>\n",
              "  <tbody>\n",
              "    <tr>\n",
              "      <th>2</th>\n",
              "      <td>VA</td>\n",
              "      <td>5.2</td>\n",
              "      <td>2014</td>\n",
              "    </tr>\n",
              "    <tr>\n",
              "      <th>3</th>\n",
              "      <td>MD</td>\n",
              "      <td>4.0</td>\n",
              "      <td>2014</td>\n",
              "    </tr>\n",
              "    <tr>\n",
              "      <th>4</th>\n",
              "      <td>MD</td>\n",
              "      <td>4.1</td>\n",
              "      <td>2015</td>\n",
              "    </tr>\n",
              "    <tr>\n",
              "      <th>5</th>\n",
              "      <td>NaN</td>\n",
              "      <td>NaN</td>\n",
              "      <td>NaN</td>\n",
              "    </tr>\n",
              "    <tr>\n",
              "      <th>6</th>\n",
              "      <td>NaN</td>\n",
              "      <td>NaN</td>\n",
              "      <td>NaN</td>\n",
              "    </tr>\n",
              "  </tbody>\n",
              "</table>\n",
              "</div>"
            ],
            "text/plain": [
              "  state  pop  year\n",
              "2    VA  5.2  2014\n",
              "3    MD  4.0  2014\n",
              "4    MD  4.1  2015\n",
              "5   NaN  NaN   NaN\n",
              "6   NaN  NaN   NaN"
            ]
          },
          "metadata": {
            "tags": []
          },
          "execution_count": 47
        }
      ]
    },
    {
      "cell_type": "markdown",
      "metadata": {
        "id": "W8Ul3ZT5iyLl",
        "colab_type": "text"
      },
      "source": [
        "## Indexing, Selecting, Filtering"
      ]
    },
    {
      "cell_type": "markdown",
      "metadata": {
        "id": "emne9JcPiyLn",
        "colab_type": "text"
      },
      "source": [
        "Series indexing is similar to NumPy array indexing with the added bonus of being able to use the Series' index values."
      ]
    },
    {
      "cell_type": "code",
      "metadata": {
        "id": "RObsHLB7iyLq",
        "colab_type": "code",
        "colab": {},
        "outputId": "285995ee-764a-407b-88b2-a7cc3c4cbbe4"
      },
      "source": [
        "ser_2"
      ],
      "execution_count": 0,
      "outputs": [
        {
          "output_type": "execute_result",
          "data": {
            "text/plain": [
              "a    1\n",
              "b    1\n",
              "c    2\n",
              "d   -3\n",
              "e   -5\n",
              "dtype: int64"
            ]
          },
          "metadata": {
            "tags": []
          },
          "execution_count": 48
        }
      ]
    },
    {
      "cell_type": "markdown",
      "metadata": {
        "id": "IxbdjGJRiyLy",
        "colab_type": "text"
      },
      "source": [
        "Select a value from a Series:"
      ]
    },
    {
      "cell_type": "code",
      "metadata": {
        "id": "XcxIKP7WiyL0",
        "colab_type": "code",
        "colab": {},
        "outputId": "98f0377b-88f0-48d1-9e9c-dd4bca1c305b"
      },
      "source": [
        "ser_2[0] == ser_2['a']"
      ],
      "execution_count": 0,
      "outputs": [
        {
          "output_type": "execute_result",
          "data": {
            "text/plain": [
              "True"
            ]
          },
          "metadata": {
            "tags": []
          },
          "execution_count": 49
        }
      ]
    },
    {
      "cell_type": "markdown",
      "metadata": {
        "id": "013NnpcxiyMC",
        "colab_type": "text"
      },
      "source": [
        "Select a slice from a Series:"
      ]
    },
    {
      "cell_type": "code",
      "metadata": {
        "id": "RjsHTim2iyMH",
        "colab_type": "code",
        "colab": {},
        "outputId": "a6c91d5a-947a-4c77-c5e3-ac38ea26be94"
      },
      "source": [
        "ser_2[1:4]"
      ],
      "execution_count": 0,
      "outputs": [
        {
          "output_type": "execute_result",
          "data": {
            "text/plain": [
              "b    1\n",
              "c    2\n",
              "d   -3\n",
              "dtype: int64"
            ]
          },
          "metadata": {
            "tags": []
          },
          "execution_count": 50
        }
      ]
    },
    {
      "cell_type": "markdown",
      "metadata": {
        "id": "BW66MvfFiyMa",
        "colab_type": "text"
      },
      "source": [
        "Select specific values from a Series:"
      ]
    },
    {
      "cell_type": "code",
      "metadata": {
        "id": "EG3FmFcYiyMc",
        "colab_type": "code",
        "colab": {},
        "outputId": "45991f77-bdce-4dc3-fa2d-e17d2025ecd2"
      },
      "source": [
        "ser_2[['b', 'c', 'd']]"
      ],
      "execution_count": 0,
      "outputs": [
        {
          "output_type": "execute_result",
          "data": {
            "text/plain": [
              "b    1\n",
              "c    2\n",
              "d   -3\n",
              "dtype: int64"
            ]
          },
          "metadata": {
            "tags": []
          },
          "execution_count": 51
        }
      ]
    },
    {
      "cell_type": "markdown",
      "metadata": {
        "id": "tmFP3QtuiyM3",
        "colab_type": "text"
      },
      "source": [
        "Select from a Series based on a filter:"
      ]
    },
    {
      "cell_type": "code",
      "metadata": {
        "id": "xnZsR1dsiyM7",
        "colab_type": "code",
        "colab": {},
        "outputId": "7e8de5dd-18c6-4542-9960-e2218f483e88"
      },
      "source": [
        "ser_2[ser_2 > 0]"
      ],
      "execution_count": 0,
      "outputs": [
        {
          "output_type": "execute_result",
          "data": {
            "text/plain": [
              "a    1\n",
              "b    1\n",
              "c    2\n",
              "dtype: int64"
            ]
          },
          "metadata": {
            "tags": []
          },
          "execution_count": 52
        }
      ]
    },
    {
      "cell_type": "markdown",
      "metadata": {
        "id": "-XF1FLwaiyNE",
        "colab_type": "text"
      },
      "source": [
        "Select a slice from a Series with labels (note the end point is inclusive):"
      ]
    },
    {
      "cell_type": "code",
      "metadata": {
        "id": "ySt9ZbmiiyNH",
        "colab_type": "code",
        "colab": {},
        "outputId": "23dcc90c-3141-4f66-fa21-919db4311aff"
      },
      "source": [
        "ser_2['a':'b']"
      ],
      "execution_count": 0,
      "outputs": [
        {
          "output_type": "execute_result",
          "data": {
            "text/plain": [
              "a    1\n",
              "b    1\n",
              "dtype: int64"
            ]
          },
          "metadata": {
            "tags": []
          },
          "execution_count": 53
        }
      ]
    },
    {
      "cell_type": "markdown",
      "metadata": {
        "id": "uGoYYDXCiyNd",
        "colab_type": "text"
      },
      "source": [
        "Assign to a Series slice (note the end point is inclusive):"
      ]
    },
    {
      "cell_type": "code",
      "metadata": {
        "id": "GF_SOpBRiyNg",
        "colab_type": "code",
        "colab": {},
        "outputId": "eb919b49-f08b-4c1f-898b-a34e587c6428"
      },
      "source": [
        "ser_2['a':'b'] = 0\n",
        "ser_2"
      ],
      "execution_count": 0,
      "outputs": [
        {
          "output_type": "execute_result",
          "data": {
            "text/plain": [
              "a    0\n",
              "b    0\n",
              "c    2\n",
              "d   -3\n",
              "e   -5\n",
              "dtype: int64"
            ]
          },
          "metadata": {
            "tags": []
          },
          "execution_count": 54
        }
      ]
    },
    {
      "cell_type": "markdown",
      "metadata": {
        "id": "z59VK-KwiyNt",
        "colab_type": "text"
      },
      "source": [
        "Pandas supports indexing into a DataFrame."
      ]
    },
    {
      "cell_type": "code",
      "metadata": {
        "id": "m07LJp5MiyNw",
        "colab_type": "code",
        "colab": {},
        "outputId": "729b8397-76f2-4ca3-b085-aac1f51cf62a"
      },
      "source": [
        "df_6"
      ],
      "execution_count": 0,
      "outputs": [
        {
          "output_type": "execute_result",
          "data": {
            "text/html": [
              "<div>\n",
              "<table border=\"1\" class=\"dataframe\">\n",
              "  <thead>\n",
              "    <tr style=\"text-align: right;\">\n",
              "      <th></th>\n",
              "      <th>state</th>\n",
              "      <th>pop</th>\n",
              "      <th>unempl</th>\n",
              "      <th>year</th>\n",
              "    </tr>\n",
              "  </thead>\n",
              "  <tbody>\n",
              "    <tr>\n",
              "      <th>0</th>\n",
              "      <td>VA</td>\n",
              "      <td>5.0</td>\n",
              "      <td>NaN</td>\n",
              "      <td>2012</td>\n",
              "    </tr>\n",
              "    <tr>\n",
              "      <th>1</th>\n",
              "      <td>VA</td>\n",
              "      <td>5.1</td>\n",
              "      <td>NaN</td>\n",
              "      <td>2013</td>\n",
              "    </tr>\n",
              "    <tr>\n",
              "      <th>2</th>\n",
              "      <td>VA</td>\n",
              "      <td>5.2</td>\n",
              "      <td>6.0</td>\n",
              "      <td>2014</td>\n",
              "    </tr>\n",
              "    <tr>\n",
              "      <th>3</th>\n",
              "      <td>MD</td>\n",
              "      <td>4.0</td>\n",
              "      <td>6.0</td>\n",
              "      <td>2014</td>\n",
              "    </tr>\n",
              "    <tr>\n",
              "      <th>4</th>\n",
              "      <td>MD</td>\n",
              "      <td>4.1</td>\n",
              "      <td>6.1</td>\n",
              "      <td>2015</td>\n",
              "    </tr>\n",
              "    <tr>\n",
              "      <th>5</th>\n",
              "      <td>NaN</td>\n",
              "      <td>NaN</td>\n",
              "      <td>NaN</td>\n",
              "      <td>NaN</td>\n",
              "    </tr>\n",
              "    <tr>\n",
              "      <th>6</th>\n",
              "      <td>NaN</td>\n",
              "      <td>NaN</td>\n",
              "      <td>NaN</td>\n",
              "      <td>NaN</td>\n",
              "    </tr>\n",
              "  </tbody>\n",
              "</table>\n",
              "</div>"
            ],
            "text/plain": [
              "  state  pop  unempl  year\n",
              "0    VA  5.0     NaN  2012\n",
              "1    VA  5.1     NaN  2013\n",
              "2    VA  5.2     6.0  2014\n",
              "3    MD  4.0     6.0  2014\n",
              "4    MD  4.1     6.1  2015\n",
              "5   NaN  NaN     NaN   NaN\n",
              "6   NaN  NaN     NaN   NaN"
            ]
          },
          "metadata": {
            "tags": []
          },
          "execution_count": 55
        }
      ]
    },
    {
      "cell_type": "markdown",
      "metadata": {
        "id": "t56hOyrliyON",
        "colab_type": "text"
      },
      "source": [
        "Select specified columns from a DataFrame:"
      ]
    },
    {
      "cell_type": "code",
      "metadata": {
        "id": "Q1y7t2EoiyOT",
        "colab_type": "code",
        "colab": {},
        "outputId": "c19f5592-21f1-4add-ed5e-7b2bce3eb6d7"
      },
      "source": [
        "df_6[['pop', 'unempl']]"
      ],
      "execution_count": 0,
      "outputs": [
        {
          "output_type": "execute_result",
          "data": {
            "text/html": [
              "<div>\n",
              "<table border=\"1\" class=\"dataframe\">\n",
              "  <thead>\n",
              "    <tr style=\"text-align: right;\">\n",
              "      <th></th>\n",
              "      <th>pop</th>\n",
              "      <th>unempl</th>\n",
              "    </tr>\n",
              "  </thead>\n",
              "  <tbody>\n",
              "    <tr>\n",
              "      <th>0</th>\n",
              "      <td>5.0</td>\n",
              "      <td>NaN</td>\n",
              "    </tr>\n",
              "    <tr>\n",
              "      <th>1</th>\n",
              "      <td>5.1</td>\n",
              "      <td>NaN</td>\n",
              "    </tr>\n",
              "    <tr>\n",
              "      <th>2</th>\n",
              "      <td>5.2</td>\n",
              "      <td>6.0</td>\n",
              "    </tr>\n",
              "    <tr>\n",
              "      <th>3</th>\n",
              "      <td>4.0</td>\n",
              "      <td>6.0</td>\n",
              "    </tr>\n",
              "    <tr>\n",
              "      <th>4</th>\n",
              "      <td>4.1</td>\n",
              "      <td>6.1</td>\n",
              "    </tr>\n",
              "    <tr>\n",
              "      <th>5</th>\n",
              "      <td>NaN</td>\n",
              "      <td>NaN</td>\n",
              "    </tr>\n",
              "    <tr>\n",
              "      <th>6</th>\n",
              "      <td>NaN</td>\n",
              "      <td>NaN</td>\n",
              "    </tr>\n",
              "  </tbody>\n",
              "</table>\n",
              "</div>"
            ],
            "text/plain": [
              "   pop  unempl\n",
              "0  5.0     NaN\n",
              "1  5.1     NaN\n",
              "2  5.2     6.0\n",
              "3  4.0     6.0\n",
              "4  4.1     6.1\n",
              "5  NaN     NaN\n",
              "6  NaN     NaN"
            ]
          },
          "metadata": {
            "tags": []
          },
          "execution_count": 56
        }
      ]
    },
    {
      "cell_type": "markdown",
      "metadata": {
        "id": "K5PVvpP9iyOv",
        "colab_type": "text"
      },
      "source": [
        "Select a slice from a DataFrame:"
      ]
    },
    {
      "cell_type": "code",
      "metadata": {
        "id": "aBF0F7t8iyOy",
        "colab_type": "code",
        "colab": {},
        "outputId": "8403a462-a40c-4d15-a60c-a6a4754c54ed"
      },
      "source": [
        "df_6[:2]"
      ],
      "execution_count": 0,
      "outputs": [
        {
          "output_type": "execute_result",
          "data": {
            "text/html": [
              "<div>\n",
              "<table border=\"1\" class=\"dataframe\">\n",
              "  <thead>\n",
              "    <tr style=\"text-align: right;\">\n",
              "      <th></th>\n",
              "      <th>state</th>\n",
              "      <th>pop</th>\n",
              "      <th>unempl</th>\n",
              "      <th>year</th>\n",
              "    </tr>\n",
              "  </thead>\n",
              "  <tbody>\n",
              "    <tr>\n",
              "      <th>0</th>\n",
              "      <td>VA</td>\n",
              "      <td>5.0</td>\n",
              "      <td>NaN</td>\n",
              "      <td>2012</td>\n",
              "    </tr>\n",
              "    <tr>\n",
              "      <th>1</th>\n",
              "      <td>VA</td>\n",
              "      <td>5.1</td>\n",
              "      <td>NaN</td>\n",
              "      <td>2013</td>\n",
              "    </tr>\n",
              "  </tbody>\n",
              "</table>\n",
              "</div>"
            ],
            "text/plain": [
              "  state  pop  unempl  year\n",
              "0    VA  5.0     NaN  2012\n",
              "1    VA  5.1     NaN  2013"
            ]
          },
          "metadata": {
            "tags": []
          },
          "execution_count": 57
        }
      ]
    },
    {
      "cell_type": "markdown",
      "metadata": {
        "id": "8dCqwYLeiyPK",
        "colab_type": "text"
      },
      "source": [
        "Select from a DataFrame based on a filter:"
      ]
    },
    {
      "cell_type": "code",
      "metadata": {
        "id": "kppTkF9miyPN",
        "colab_type": "code",
        "colab": {},
        "outputId": "3d3e27b6-6839-4732-b8d4-55afd32c0034"
      },
      "source": [
        "df_6[df_6['pop'] > 5]"
      ],
      "execution_count": 0,
      "outputs": [
        {
          "output_type": "execute_result",
          "data": {
            "text/html": [
              "<div>\n",
              "<table border=\"1\" class=\"dataframe\">\n",
              "  <thead>\n",
              "    <tr style=\"text-align: right;\">\n",
              "      <th></th>\n",
              "      <th>state</th>\n",
              "      <th>pop</th>\n",
              "      <th>unempl</th>\n",
              "      <th>year</th>\n",
              "    </tr>\n",
              "  </thead>\n",
              "  <tbody>\n",
              "    <tr>\n",
              "      <th>1</th>\n",
              "      <td>VA</td>\n",
              "      <td>5.1</td>\n",
              "      <td>NaN</td>\n",
              "      <td>2013</td>\n",
              "    </tr>\n",
              "    <tr>\n",
              "      <th>2</th>\n",
              "      <td>VA</td>\n",
              "      <td>5.2</td>\n",
              "      <td>6</td>\n",
              "      <td>2014</td>\n",
              "    </tr>\n",
              "  </tbody>\n",
              "</table>\n",
              "</div>"
            ],
            "text/plain": [
              "  state  pop  unempl  year\n",
              "1    VA  5.1     NaN  2013\n",
              "2    VA  5.2       6  2014"
            ]
          },
          "metadata": {
            "tags": []
          },
          "execution_count": 58
        }
      ]
    },
    {
      "cell_type": "markdown",
      "metadata": {
        "id": "0rW2Gsb4iyPi",
        "colab_type": "text"
      },
      "source": [
        "Perform a scalar comparison on a DataFrame:"
      ]
    },
    {
      "cell_type": "code",
      "metadata": {
        "id": "utyQXwcriyPm",
        "colab_type": "code",
        "colab": {},
        "outputId": "025e976f-712a-4e32-fbbc-267499cad2af"
      },
      "source": [
        "df_6 > 5"
      ],
      "execution_count": 0,
      "outputs": [
        {
          "output_type": "execute_result",
          "data": {
            "text/html": [
              "<div>\n",
              "<table border=\"1\" class=\"dataframe\">\n",
              "  <thead>\n",
              "    <tr style=\"text-align: right;\">\n",
              "      <th></th>\n",
              "      <th>state</th>\n",
              "      <th>pop</th>\n",
              "      <th>unempl</th>\n",
              "      <th>year</th>\n",
              "    </tr>\n",
              "  </thead>\n",
              "  <tbody>\n",
              "    <tr>\n",
              "      <th>0</th>\n",
              "      <td>True</td>\n",
              "      <td>False</td>\n",
              "      <td>False</td>\n",
              "      <td>True</td>\n",
              "    </tr>\n",
              "    <tr>\n",
              "      <th>1</th>\n",
              "      <td>True</td>\n",
              "      <td>True</td>\n",
              "      <td>False</td>\n",
              "      <td>True</td>\n",
              "    </tr>\n",
              "    <tr>\n",
              "      <th>2</th>\n",
              "      <td>True</td>\n",
              "      <td>True</td>\n",
              "      <td>True</td>\n",
              "      <td>True</td>\n",
              "    </tr>\n",
              "    <tr>\n",
              "      <th>3</th>\n",
              "      <td>True</td>\n",
              "      <td>False</td>\n",
              "      <td>True</td>\n",
              "      <td>True</td>\n",
              "    </tr>\n",
              "    <tr>\n",
              "      <th>4</th>\n",
              "      <td>True</td>\n",
              "      <td>False</td>\n",
              "      <td>True</td>\n",
              "      <td>True</td>\n",
              "    </tr>\n",
              "    <tr>\n",
              "      <th>5</th>\n",
              "      <td>True</td>\n",
              "      <td>False</td>\n",
              "      <td>False</td>\n",
              "      <td>False</td>\n",
              "    </tr>\n",
              "    <tr>\n",
              "      <th>6</th>\n",
              "      <td>True</td>\n",
              "      <td>False</td>\n",
              "      <td>False</td>\n",
              "      <td>False</td>\n",
              "    </tr>\n",
              "  </tbody>\n",
              "</table>\n",
              "</div>"
            ],
            "text/plain": [
              "  state    pop unempl   year\n",
              "0  True  False  False   True\n",
              "1  True   True  False   True\n",
              "2  True   True   True   True\n",
              "3  True  False   True   True\n",
              "4  True  False   True   True\n",
              "5  True  False  False  False\n",
              "6  True  False  False  False"
            ]
          },
          "metadata": {
            "tags": []
          },
          "execution_count": 59
        }
      ]
    },
    {
      "cell_type": "markdown",
      "metadata": {
        "id": "YARe-DzsiyQp",
        "colab_type": "text"
      },
      "source": [
        "Perform a scalar comparison on a DataFrame, retain the values that pass the filter:"
      ]
    },
    {
      "cell_type": "code",
      "metadata": {
        "id": "iCiH500HiyQt",
        "colab_type": "code",
        "colab": {},
        "outputId": "d5766451-26f9-41c7-f68c-1a314e6a6493"
      },
      "source": [
        "df_6[df_6 > 5]"
      ],
      "execution_count": 0,
      "outputs": [
        {
          "output_type": "execute_result",
          "data": {
            "text/html": [
              "<div>\n",
              "<table border=\"1\" class=\"dataframe\">\n",
              "  <thead>\n",
              "    <tr style=\"text-align: right;\">\n",
              "      <th></th>\n",
              "      <th>state</th>\n",
              "      <th>pop</th>\n",
              "      <th>unempl</th>\n",
              "      <th>year</th>\n",
              "    </tr>\n",
              "  </thead>\n",
              "  <tbody>\n",
              "    <tr>\n",
              "      <th>0</th>\n",
              "      <td>VA</td>\n",
              "      <td>NaN</td>\n",
              "      <td>NaN</td>\n",
              "      <td>2012</td>\n",
              "    </tr>\n",
              "    <tr>\n",
              "      <th>1</th>\n",
              "      <td>VA</td>\n",
              "      <td>5.1</td>\n",
              "      <td>NaN</td>\n",
              "      <td>2013</td>\n",
              "    </tr>\n",
              "    <tr>\n",
              "      <th>2</th>\n",
              "      <td>VA</td>\n",
              "      <td>5.2</td>\n",
              "      <td>6.0</td>\n",
              "      <td>2014</td>\n",
              "    </tr>\n",
              "    <tr>\n",
              "      <th>3</th>\n",
              "      <td>MD</td>\n",
              "      <td>NaN</td>\n",
              "      <td>6.0</td>\n",
              "      <td>2014</td>\n",
              "    </tr>\n",
              "    <tr>\n",
              "      <th>4</th>\n",
              "      <td>MD</td>\n",
              "      <td>NaN</td>\n",
              "      <td>6.1</td>\n",
              "      <td>2015</td>\n",
              "    </tr>\n",
              "    <tr>\n",
              "      <th>5</th>\n",
              "      <td>NaN</td>\n",
              "      <td>NaN</td>\n",
              "      <td>NaN</td>\n",
              "      <td>NaN</td>\n",
              "    </tr>\n",
              "    <tr>\n",
              "      <th>6</th>\n",
              "      <td>NaN</td>\n",
              "      <td>NaN</td>\n",
              "      <td>NaN</td>\n",
              "      <td>NaN</td>\n",
              "    </tr>\n",
              "  </tbody>\n",
              "</table>\n",
              "</div>"
            ],
            "text/plain": [
              "  state  pop  unempl  year\n",
              "0    VA  NaN     NaN  2012\n",
              "1    VA  5.1     NaN  2013\n",
              "2    VA  5.2     6.0  2014\n",
              "3    MD  NaN     6.0  2014\n",
              "4    MD  NaN     6.1  2015\n",
              "5   NaN  NaN     NaN   NaN\n",
              "6   NaN  NaN     NaN   NaN"
            ]
          },
          "metadata": {
            "tags": []
          },
          "execution_count": 60
        }
      ]
    },
    {
      "cell_type": "markdown",
      "metadata": {
        "id": "7VbtKC57iyRU",
        "colab_type": "text"
      },
      "source": [
        "Select a slice of rows from a DataFrame (note the end point is inclusive):"
      ]
    },
    {
      "cell_type": "code",
      "metadata": {
        "id": "KQgDc346iyRZ",
        "colab_type": "code",
        "colab": {},
        "outputId": "5fc4772f-bbb4-4137-e57c-d2d8e086a580"
      },
      "source": [
        "df_6.ix[2:3]"
      ],
      "execution_count": 0,
      "outputs": [
        {
          "output_type": "execute_result",
          "data": {
            "text/html": [
              "<div>\n",
              "<table border=\"1\" class=\"dataframe\">\n",
              "  <thead>\n",
              "    <tr style=\"text-align: right;\">\n",
              "      <th></th>\n",
              "      <th>state</th>\n",
              "      <th>pop</th>\n",
              "      <th>unempl</th>\n",
              "      <th>year</th>\n",
              "    </tr>\n",
              "  </thead>\n",
              "  <tbody>\n",
              "    <tr>\n",
              "      <th>2</th>\n",
              "      <td>VA</td>\n",
              "      <td>5.2</td>\n",
              "      <td>6</td>\n",
              "      <td>2014</td>\n",
              "    </tr>\n",
              "    <tr>\n",
              "      <th>3</th>\n",
              "      <td>MD</td>\n",
              "      <td>4.0</td>\n",
              "      <td>6</td>\n",
              "      <td>2014</td>\n",
              "    </tr>\n",
              "  </tbody>\n",
              "</table>\n",
              "</div>"
            ],
            "text/plain": [
              "  state  pop  unempl  year\n",
              "2    VA  5.2       6  2014\n",
              "3    MD  4.0       6  2014"
            ]
          },
          "metadata": {
            "tags": []
          },
          "execution_count": 61
        }
      ]
    },
    {
      "cell_type": "markdown",
      "metadata": {
        "id": "ogDHKH6fiyRr",
        "colab_type": "text"
      },
      "source": [
        "Select a slice of rows from a specific column of a DataFrame:"
      ]
    },
    {
      "cell_type": "code",
      "metadata": {
        "id": "Qb_WPbd0iySh",
        "colab_type": "code",
        "colab": {},
        "outputId": "fe359062-8c04-4ab1-ce23-b50820a77072"
      },
      "source": [
        "df_6.ix[0:2, 'pop']"
      ],
      "execution_count": 0,
      "outputs": [
        {
          "output_type": "execute_result",
          "data": {
            "text/plain": [
              "0    5.0\n",
              "1    5.1\n",
              "2    5.2\n",
              "Name: pop, dtype: float64"
            ]
          },
          "metadata": {
            "tags": []
          },
          "execution_count": 62
        }
      ]
    },
    {
      "cell_type": "markdown",
      "metadata": {
        "id": "UaWCM-ThiySt",
        "colab_type": "text"
      },
      "source": [
        "Select rows based on an arithmetic operation on a specific row:"
      ]
    },
    {
      "cell_type": "code",
      "metadata": {
        "id": "VgwvQZLqiySx",
        "colab_type": "code",
        "colab": {},
        "outputId": "42a393bc-a2f7-4f77-bb10-4e8b2ff42af4"
      },
      "source": [
        "df_6.ix[df_6.unempl > 5.0]"
      ],
      "execution_count": 0,
      "outputs": [
        {
          "output_type": "execute_result",
          "data": {
            "text/html": [
              "<div>\n",
              "<table border=\"1\" class=\"dataframe\">\n",
              "  <thead>\n",
              "    <tr style=\"text-align: right;\">\n",
              "      <th></th>\n",
              "      <th>state</th>\n",
              "      <th>pop</th>\n",
              "      <th>unempl</th>\n",
              "      <th>year</th>\n",
              "    </tr>\n",
              "  </thead>\n",
              "  <tbody>\n",
              "    <tr>\n",
              "      <th>2</th>\n",
              "      <td>VA</td>\n",
              "      <td>5.2</td>\n",
              "      <td>6.0</td>\n",
              "      <td>2014</td>\n",
              "    </tr>\n",
              "    <tr>\n",
              "      <th>3</th>\n",
              "      <td>MD</td>\n",
              "      <td>4.0</td>\n",
              "      <td>6.0</td>\n",
              "      <td>2014</td>\n",
              "    </tr>\n",
              "    <tr>\n",
              "      <th>4</th>\n",
              "      <td>MD</td>\n",
              "      <td>4.1</td>\n",
              "      <td>6.1</td>\n",
              "      <td>2015</td>\n",
              "    </tr>\n",
              "  </tbody>\n",
              "</table>\n",
              "</div>"
            ],
            "text/plain": [
              "  state  pop  unempl  year\n",
              "2    VA  5.2     6.0  2014\n",
              "3    MD  4.0     6.0  2014\n",
              "4    MD  4.1     6.1  2015"
            ]
          },
          "metadata": {
            "tags": []
          },
          "execution_count": 63
        }
      ]
    },
    {
      "cell_type": "markdown",
      "metadata": {
        "id": "B6oflUHQiyS8",
        "colab_type": "text"
      },
      "source": [
        "## Arithmetic and Data Alignment"
      ]
    },
    {
      "cell_type": "markdown",
      "metadata": {
        "id": "idkssel7iyTe",
        "colab_type": "text"
      },
      "source": [
        "Adding Series objects results in the union of index pairs if the pairs are not the same, resulting in NaN for indices that do not overlap:"
      ]
    },
    {
      "cell_type": "code",
      "metadata": {
        "id": "LXAOzqsBiyTk",
        "colab_type": "code",
        "colab": {},
        "outputId": "53df5561-b4bc-4d9c-eb2b-6b4a272bd10e"
      },
      "source": [
        "np.random.seed(0)\n",
        "ser_6 = Series(np.random.randn(5),\n",
        "               index=['a', 'b', 'c', 'd', 'e'])\n",
        "ser_6"
      ],
      "execution_count": 0,
      "outputs": [
        {
          "output_type": "execute_result",
          "data": {
            "text/plain": [
              "a    1.764052\n",
              "b    0.400157\n",
              "c    0.978738\n",
              "d    2.240893\n",
              "e    1.867558\n",
              "dtype: float64"
            ]
          },
          "metadata": {
            "tags": []
          },
          "execution_count": 64
        }
      ]
    },
    {
      "cell_type": "code",
      "metadata": {
        "id": "elR02y_SiyTw",
        "colab_type": "code",
        "colab": {},
        "outputId": "920ee323-3c9b-46bb-b275-8f7f15bca340"
      },
      "source": [
        "np.random.seed(1)\n",
        "ser_7 = Series(np.random.randn(5),\n",
        "               index=['a', 'c', 'e', 'f', 'g'])\n",
        "ser_7"
      ],
      "execution_count": 0,
      "outputs": [
        {
          "output_type": "execute_result",
          "data": {
            "text/plain": [
              "a    1.624345\n",
              "c   -0.611756\n",
              "e   -0.528172\n",
              "f   -1.072969\n",
              "g    0.865408\n",
              "dtype: float64"
            ]
          },
          "metadata": {
            "tags": []
          },
          "execution_count": 65
        }
      ]
    },
    {
      "cell_type": "code",
      "metadata": {
        "id": "JdQH_0_miyUB",
        "colab_type": "code",
        "colab": {},
        "outputId": "cfa22520-c529-4b29-edae-aaa28546fc87"
      },
      "source": [
        "ser_6 + ser_7"
      ],
      "execution_count": 0,
      "outputs": [
        {
          "output_type": "execute_result",
          "data": {
            "text/plain": [
              "a    3.388398\n",
              "b         NaN\n",
              "c    0.366982\n",
              "d         NaN\n",
              "e    1.339386\n",
              "f         NaN\n",
              "g         NaN\n",
              "dtype: float64"
            ]
          },
          "metadata": {
            "tags": []
          },
          "execution_count": 66
        }
      ]
    },
    {
      "cell_type": "markdown",
      "metadata": {
        "id": "zC27pXK9iyUk",
        "colab_type": "text"
      },
      "source": [
        "Set a fill value instead of NaN for indices that do not overlap:"
      ]
    },
    {
      "cell_type": "code",
      "metadata": {
        "id": "irlntHgXiyUu",
        "colab_type": "code",
        "colab": {},
        "outputId": "3e50d04f-fe15-49ba-9bfe-9eab47d19f28"
      },
      "source": [
        "ser_6.add(ser_7, fill_value=0)"
      ],
      "execution_count": 0,
      "outputs": [
        {
          "output_type": "execute_result",
          "data": {
            "text/plain": [
              "a    3.388398\n",
              "b    0.400157\n",
              "c    0.366982\n",
              "d    2.240893\n",
              "e    1.339386\n",
              "f   -1.072969\n",
              "g    0.865408\n",
              "dtype: float64"
            ]
          },
          "metadata": {
            "tags": []
          },
          "execution_count": 67
        }
      ]
    },
    {
      "cell_type": "markdown",
      "metadata": {
        "id": "DqzwKegeiyVN",
        "colab_type": "text"
      },
      "source": [
        "Adding DataFrame objects results in the union of index pairs for rows and columns if the pairs are not the same, resulting in NaN for indices that do not overlap:"
      ]
    },
    {
      "cell_type": "code",
      "metadata": {
        "id": "Mb5goU2eiyVQ",
        "colab_type": "code",
        "colab": {},
        "outputId": "11a42260-a965-4d78-b5a2-61896ab53f6b"
      },
      "source": [
        "np.random.seed(0)\n",
        "df_8 = DataFrame(np.random.rand(9).reshape((3, 3)),\n",
        "                 columns=['a', 'b', 'c'])\n",
        "df_8"
      ],
      "execution_count": 0,
      "outputs": [
        {
          "output_type": "execute_result",
          "data": {
            "text/html": [
              "<div>\n",
              "<table border=\"1\" class=\"dataframe\">\n",
              "  <thead>\n",
              "    <tr style=\"text-align: right;\">\n",
              "      <th></th>\n",
              "      <th>a</th>\n",
              "      <th>b</th>\n",
              "      <th>c</th>\n",
              "    </tr>\n",
              "  </thead>\n",
              "  <tbody>\n",
              "    <tr>\n",
              "      <th>0</th>\n",
              "      <td>0.548814</td>\n",
              "      <td>0.715189</td>\n",
              "      <td>0.602763</td>\n",
              "    </tr>\n",
              "    <tr>\n",
              "      <th>1</th>\n",
              "      <td>0.544883</td>\n",
              "      <td>0.423655</td>\n",
              "      <td>0.645894</td>\n",
              "    </tr>\n",
              "    <tr>\n",
              "      <th>2</th>\n",
              "      <td>0.437587</td>\n",
              "      <td>0.891773</td>\n",
              "      <td>0.963663</td>\n",
              "    </tr>\n",
              "  </tbody>\n",
              "</table>\n",
              "</div>"
            ],
            "text/plain": [
              "          a         b         c\n",
              "0  0.548814  0.715189  0.602763\n",
              "1  0.544883  0.423655  0.645894\n",
              "2  0.437587  0.891773  0.963663"
            ]
          },
          "metadata": {
            "tags": []
          },
          "execution_count": 68
        }
      ]
    },
    {
      "cell_type": "code",
      "metadata": {
        "id": "A4d22wCviyVj",
        "colab_type": "code",
        "colab": {},
        "outputId": "4d81047c-34ad-4aa9-c2da-a4440426aeb8"
      },
      "source": [
        "np.random.seed(1)\n",
        "df_9 = DataFrame(np.random.rand(9).reshape((3, 3)),\n",
        "                 columns=['b', 'c', 'd'])\n",
        "df_9"
      ],
      "execution_count": 0,
      "outputs": [
        {
          "output_type": "execute_result",
          "data": {
            "text/html": [
              "<div>\n",
              "<table border=\"1\" class=\"dataframe\">\n",
              "  <thead>\n",
              "    <tr style=\"text-align: right;\">\n",
              "      <th></th>\n",
              "      <th>b</th>\n",
              "      <th>c</th>\n",
              "      <th>d</th>\n",
              "    </tr>\n",
              "  </thead>\n",
              "  <tbody>\n",
              "    <tr>\n",
              "      <th>0</th>\n",
              "      <td>0.417022</td>\n",
              "      <td>0.720324</td>\n",
              "      <td>0.000114</td>\n",
              "    </tr>\n",
              "    <tr>\n",
              "      <th>1</th>\n",
              "      <td>0.302333</td>\n",
              "      <td>0.146756</td>\n",
              "      <td>0.092339</td>\n",
              "    </tr>\n",
              "    <tr>\n",
              "      <th>2</th>\n",
              "      <td>0.186260</td>\n",
              "      <td>0.345561</td>\n",
              "      <td>0.396767</td>\n",
              "    </tr>\n",
              "  </tbody>\n",
              "</table>\n",
              "</div>"
            ],
            "text/plain": [
              "          b         c         d\n",
              "0  0.417022  0.720324  0.000114\n",
              "1  0.302333  0.146756  0.092339\n",
              "2  0.186260  0.345561  0.396767"
            ]
          },
          "metadata": {
            "tags": []
          },
          "execution_count": 69
        }
      ]
    },
    {
      "cell_type": "code",
      "metadata": {
        "id": "PizRp4A0iyWc",
        "colab_type": "code",
        "colab": {},
        "outputId": "2bcf7905-12b7-438d-aa9c-87b221f55746"
      },
      "source": [
        "df_8 + df_9"
      ],
      "execution_count": 0,
      "outputs": [
        {
          "output_type": "execute_result",
          "data": {
            "text/html": [
              "<div>\n",
              "<table border=\"1\" class=\"dataframe\">\n",
              "  <thead>\n",
              "    <tr style=\"text-align: right;\">\n",
              "      <th></th>\n",
              "      <th>a</th>\n",
              "      <th>b</th>\n",
              "      <th>c</th>\n",
              "      <th>d</th>\n",
              "    </tr>\n",
              "  </thead>\n",
              "  <tbody>\n",
              "    <tr>\n",
              "      <th>0</th>\n",
              "      <td>NaN</td>\n",
              "      <td>1.132211</td>\n",
              "      <td>1.323088</td>\n",
              "      <td>NaN</td>\n",
              "    </tr>\n",
              "    <tr>\n",
              "      <th>1</th>\n",
              "      <td>NaN</td>\n",
              "      <td>0.725987</td>\n",
              "      <td>0.792650</td>\n",
              "      <td>NaN</td>\n",
              "    </tr>\n",
              "    <tr>\n",
              "      <th>2</th>\n",
              "      <td>NaN</td>\n",
              "      <td>1.078033</td>\n",
              "      <td>1.309223</td>\n",
              "      <td>NaN</td>\n",
              "    </tr>\n",
              "  </tbody>\n",
              "</table>\n",
              "</div>"
            ],
            "text/plain": [
              "    a         b         c   d\n",
              "0 NaN  1.132211  1.323088 NaN\n",
              "1 NaN  0.725987  0.792650 NaN\n",
              "2 NaN  1.078033  1.309223 NaN"
            ]
          },
          "metadata": {
            "tags": []
          },
          "execution_count": 70
        }
      ]
    },
    {
      "cell_type": "markdown",
      "metadata": {
        "id": "oX1wMk2UiyWs",
        "colab_type": "text"
      },
      "source": [
        "Set a fill value instead of NaN for indices that do not overlap:"
      ]
    },
    {
      "cell_type": "code",
      "metadata": {
        "id": "qmW8wf4qiyWv",
        "colab_type": "code",
        "colab": {},
        "outputId": "a33073df-0c4e-4944-bba7-d59524fa177a"
      },
      "source": [
        "df_10 = df_8.add(df_9, fill_value=0)\n",
        "df_10"
      ],
      "execution_count": 0,
      "outputs": [
        {
          "output_type": "execute_result",
          "data": {
            "text/html": [
              "<div>\n",
              "<table border=\"1\" class=\"dataframe\">\n",
              "  <thead>\n",
              "    <tr style=\"text-align: right;\">\n",
              "      <th></th>\n",
              "      <th>a</th>\n",
              "      <th>b</th>\n",
              "      <th>c</th>\n",
              "      <th>d</th>\n",
              "    </tr>\n",
              "  </thead>\n",
              "  <tbody>\n",
              "    <tr>\n",
              "      <th>0</th>\n",
              "      <td>0.548814</td>\n",
              "      <td>1.132211</td>\n",
              "      <td>1.323088</td>\n",
              "      <td>0.000114</td>\n",
              "    </tr>\n",
              "    <tr>\n",
              "      <th>1</th>\n",
              "      <td>0.544883</td>\n",
              "      <td>0.725987</td>\n",
              "      <td>0.792650</td>\n",
              "      <td>0.092339</td>\n",
              "    </tr>\n",
              "    <tr>\n",
              "      <th>2</th>\n",
              "      <td>0.437587</td>\n",
              "      <td>1.078033</td>\n",
              "      <td>1.309223</td>\n",
              "      <td>0.396767</td>\n",
              "    </tr>\n",
              "  </tbody>\n",
              "</table>\n",
              "</div>"
            ],
            "text/plain": [
              "          a         b         c         d\n",
              "0  0.548814  1.132211  1.323088  0.000114\n",
              "1  0.544883  0.725987  0.792650  0.092339\n",
              "2  0.437587  1.078033  1.309223  0.396767"
            ]
          },
          "metadata": {
            "tags": []
          },
          "execution_count": 71
        }
      ]
    },
    {
      "cell_type": "markdown",
      "metadata": {
        "id": "vgVAHwxliyXD",
        "colab_type": "text"
      },
      "source": [
        "Like NumPy, pandas supports arithmetic operations between DataFrames and Series.\n",
        "\n",
        "Match the index of the Series on the DataFrame's columns, broadcasting down the rows:"
      ]
    },
    {
      "cell_type": "code",
      "metadata": {
        "id": "o5d5btUgiyXa",
        "colab_type": "code",
        "colab": {},
        "outputId": "46775344-1a8a-4fcb-80a4-c04a6dee40f7"
      },
      "source": [
        "ser_8 = df_10.ix[0]\n",
        "df_11 = df_10 - ser_8\n",
        "df_11"
      ],
      "execution_count": 0,
      "outputs": [
        {
          "output_type": "execute_result",
          "data": {
            "text/html": [
              "<div>\n",
              "<table border=\"1\" class=\"dataframe\">\n",
              "  <thead>\n",
              "    <tr style=\"text-align: right;\">\n",
              "      <th></th>\n",
              "      <th>a</th>\n",
              "      <th>b</th>\n",
              "      <th>c</th>\n",
              "      <th>d</th>\n",
              "    </tr>\n",
              "  </thead>\n",
              "  <tbody>\n",
              "    <tr>\n",
              "      <th>0</th>\n",
              "      <td>0.000000</td>\n",
              "      <td>0.000000</td>\n",
              "      <td>0.000000</td>\n",
              "      <td>0.000000</td>\n",
              "    </tr>\n",
              "    <tr>\n",
              "      <th>1</th>\n",
              "      <td>-0.003930</td>\n",
              "      <td>-0.406224</td>\n",
              "      <td>-0.530438</td>\n",
              "      <td>0.092224</td>\n",
              "    </tr>\n",
              "    <tr>\n",
              "      <th>2</th>\n",
              "      <td>-0.111226</td>\n",
              "      <td>-0.054178</td>\n",
              "      <td>-0.013864</td>\n",
              "      <td>0.396653</td>\n",
              "    </tr>\n",
              "  </tbody>\n",
              "</table>\n",
              "</div>"
            ],
            "text/plain": [
              "          a         b         c         d\n",
              "0  0.000000  0.000000  0.000000  0.000000\n",
              "1 -0.003930 -0.406224 -0.530438  0.092224\n",
              "2 -0.111226 -0.054178 -0.013864  0.396653"
            ]
          },
          "metadata": {
            "tags": []
          },
          "execution_count": 72
        }
      ]
    },
    {
      "cell_type": "markdown",
      "metadata": {
        "id": "WiCsG3iRiyXk",
        "colab_type": "text"
      },
      "source": [
        "Match the index of the Series on the DataFrame's columns, broadcasting down the rows and union the indices that do not match:"
      ]
    },
    {
      "cell_type": "code",
      "metadata": {
        "id": "VBwwjdOmiyXm",
        "colab_type": "code",
        "colab": {},
        "outputId": "8dc14bd2-264b-4ff0-ad01-ca4ae81f615e"
      },
      "source": [
        "ser_9 = Series(range(3), index=['a', 'd', 'e'])\n",
        "ser_9"
      ],
      "execution_count": 0,
      "outputs": [
        {
          "output_type": "execute_result",
          "data": {
            "text/plain": [
              "a    0\n",
              "d    1\n",
              "e    2\n",
              "dtype: int64"
            ]
          },
          "metadata": {
            "tags": []
          },
          "execution_count": 73
        }
      ]
    },
    {
      "cell_type": "code",
      "metadata": {
        "id": "9Yia6eSiiyXv",
        "colab_type": "code",
        "colab": {},
        "outputId": "c85fed1f-6476-4b18-bf34-69b715c0d270"
      },
      "source": [
        "df_11 - ser_9"
      ],
      "execution_count": 0,
      "outputs": [
        {
          "output_type": "execute_result",
          "data": {
            "text/html": [
              "<div>\n",
              "<table border=\"1\" class=\"dataframe\">\n",
              "  <thead>\n",
              "    <tr style=\"text-align: right;\">\n",
              "      <th></th>\n",
              "      <th>a</th>\n",
              "      <th>b</th>\n",
              "      <th>c</th>\n",
              "      <th>d</th>\n",
              "      <th>e</th>\n",
              "    </tr>\n",
              "  </thead>\n",
              "  <tbody>\n",
              "    <tr>\n",
              "      <th>0</th>\n",
              "      <td>0.000000</td>\n",
              "      <td>NaN</td>\n",
              "      <td>NaN</td>\n",
              "      <td>-1.000000</td>\n",
              "      <td>NaN</td>\n",
              "    </tr>\n",
              "    <tr>\n",
              "      <th>1</th>\n",
              "      <td>-0.003930</td>\n",
              "      <td>NaN</td>\n",
              "      <td>NaN</td>\n",
              "      <td>-0.907776</td>\n",
              "      <td>NaN</td>\n",
              "    </tr>\n",
              "    <tr>\n",
              "      <th>2</th>\n",
              "      <td>-0.111226</td>\n",
              "      <td>NaN</td>\n",
              "      <td>NaN</td>\n",
              "      <td>-0.603347</td>\n",
              "      <td>NaN</td>\n",
              "    </tr>\n",
              "  </tbody>\n",
              "</table>\n",
              "</div>"
            ],
            "text/plain": [
              "          a   b   c         d   e\n",
              "0  0.000000 NaN NaN -1.000000 NaN\n",
              "1 -0.003930 NaN NaN -0.907776 NaN\n",
              "2 -0.111226 NaN NaN -0.603347 NaN"
            ]
          },
          "metadata": {
            "tags": []
          },
          "execution_count": 74
        }
      ]
    },
    {
      "cell_type": "markdown",
      "metadata": {
        "id": "RArW_VAwiyX3",
        "colab_type": "text"
      },
      "source": [
        "Broadcast over the columns and match the rows (axis=0) by using an arithmetic method:"
      ]
    },
    {
      "cell_type": "code",
      "metadata": {
        "id": "n4jvtA53iyX9",
        "colab_type": "code",
        "colab": {},
        "outputId": "1fd93d54-694a-4239-d9a9-1140c6c3fdcb"
      },
      "source": [
        "df_10"
      ],
      "execution_count": 0,
      "outputs": [
        {
          "output_type": "execute_result",
          "data": {
            "text/html": [
              "<div>\n",
              "<table border=\"1\" class=\"dataframe\">\n",
              "  <thead>\n",
              "    <tr style=\"text-align: right;\">\n",
              "      <th></th>\n",
              "      <th>a</th>\n",
              "      <th>b</th>\n",
              "      <th>c</th>\n",
              "      <th>d</th>\n",
              "    </tr>\n",
              "  </thead>\n",
              "  <tbody>\n",
              "    <tr>\n",
              "      <th>0</th>\n",
              "      <td>0.548814</td>\n",
              "      <td>1.132211</td>\n",
              "      <td>1.323088</td>\n",
              "      <td>0.000114</td>\n",
              "    </tr>\n",
              "    <tr>\n",
              "      <th>1</th>\n",
              "      <td>0.544883</td>\n",
              "      <td>0.725987</td>\n",
              "      <td>0.792650</td>\n",
              "      <td>0.092339</td>\n",
              "    </tr>\n",
              "    <tr>\n",
              "      <th>2</th>\n",
              "      <td>0.437587</td>\n",
              "      <td>1.078033</td>\n",
              "      <td>1.309223</td>\n",
              "      <td>0.396767</td>\n",
              "    </tr>\n",
              "  </tbody>\n",
              "</table>\n",
              "</div>"
            ],
            "text/plain": [
              "          a         b         c         d\n",
              "0  0.548814  1.132211  1.323088  0.000114\n",
              "1  0.544883  0.725987  0.792650  0.092339\n",
              "2  0.437587  1.078033  1.309223  0.396767"
            ]
          },
          "metadata": {
            "tags": []
          },
          "execution_count": 75
        }
      ]
    },
    {
      "cell_type": "code",
      "metadata": {
        "id": "YeAch_2MiyYb",
        "colab_type": "code",
        "colab": {},
        "outputId": "b819d8a1-6be4-4e5d-d8b9-f893fc41d5c1"
      },
      "source": [
        "ser_10 = Series([100, 200, 300])\n",
        "ser_10"
      ],
      "execution_count": 0,
      "outputs": [
        {
          "output_type": "execute_result",
          "data": {
            "text/plain": [
              "0    100\n",
              "1    200\n",
              "2    300\n",
              "dtype: int64"
            ]
          },
          "metadata": {
            "tags": []
          },
          "execution_count": 76
        }
      ]
    },
    {
      "cell_type": "code",
      "metadata": {
        "id": "DHsB6YDwiyYj",
        "colab_type": "code",
        "colab": {},
        "outputId": "e6bafa85-62c9-4c0c-a12d-fa9cafeda6b6"
      },
      "source": [
        "df_10.sub(ser_10, axis=0)"
      ],
      "execution_count": 0,
      "outputs": [
        {
          "output_type": "execute_result",
          "data": {
            "text/html": [
              "<div>\n",
              "<table border=\"1\" class=\"dataframe\">\n",
              "  <thead>\n",
              "    <tr style=\"text-align: right;\">\n",
              "      <th></th>\n",
              "      <th>a</th>\n",
              "      <th>b</th>\n",
              "      <th>c</th>\n",
              "      <th>d</th>\n",
              "    </tr>\n",
              "  </thead>\n",
              "  <tbody>\n",
              "    <tr>\n",
              "      <th>0</th>\n",
              "      <td>-99.451186</td>\n",
              "      <td>-98.867789</td>\n",
              "      <td>-98.676912</td>\n",
              "      <td>-99.999886</td>\n",
              "    </tr>\n",
              "    <tr>\n",
              "      <th>1</th>\n",
              "      <td>-199.455117</td>\n",
              "      <td>-199.274013</td>\n",
              "      <td>-199.207350</td>\n",
              "      <td>-199.907661</td>\n",
              "    </tr>\n",
              "    <tr>\n",
              "      <th>2</th>\n",
              "      <td>-299.562413</td>\n",
              "      <td>-298.921967</td>\n",
              "      <td>-298.690777</td>\n",
              "      <td>-299.603233</td>\n",
              "    </tr>\n",
              "  </tbody>\n",
              "</table>\n",
              "</div>"
            ],
            "text/plain": [
              "            a           b           c           d\n",
              "0  -99.451186  -98.867789  -98.676912  -99.999886\n",
              "1 -199.455117 -199.274013 -199.207350 -199.907661\n",
              "2 -299.562413 -298.921967 -298.690777 -299.603233"
            ]
          },
          "metadata": {
            "tags": []
          },
          "execution_count": 77
        }
      ]
    },
    {
      "cell_type": "markdown",
      "metadata": {
        "id": "SN-UFCWsiyYs",
        "colab_type": "text"
      },
      "source": [
        "## Function Application and Mapping"
      ]
    },
    {
      "cell_type": "markdown",
      "metadata": {
        "id": "mFSPPjdIiyYv",
        "colab_type": "text"
      },
      "source": [
        "NumPy ufuncs (element-wise array methods) operate on pandas objects:"
      ]
    },
    {
      "cell_type": "code",
      "metadata": {
        "id": "-tBzS61yiyYz",
        "colab_type": "code",
        "colab": {},
        "outputId": "53062475-cfbf-4d8a-d366-75441b8565d2"
      },
      "source": [
        "df_11 = np.abs(df_11)\n",
        "df_11"
      ],
      "execution_count": 0,
      "outputs": [
        {
          "output_type": "execute_result",
          "data": {
            "text/html": [
              "<div>\n",
              "<table border=\"1\" class=\"dataframe\">\n",
              "  <thead>\n",
              "    <tr style=\"text-align: right;\">\n",
              "      <th></th>\n",
              "      <th>a</th>\n",
              "      <th>b</th>\n",
              "      <th>c</th>\n",
              "      <th>d</th>\n",
              "    </tr>\n",
              "  </thead>\n",
              "  <tbody>\n",
              "    <tr>\n",
              "      <th>0</th>\n",
              "      <td>0.000000</td>\n",
              "      <td>0.000000</td>\n",
              "      <td>0.000000</td>\n",
              "      <td>0.000000</td>\n",
              "    </tr>\n",
              "    <tr>\n",
              "      <th>1</th>\n",
              "      <td>0.003930</td>\n",
              "      <td>0.406224</td>\n",
              "      <td>0.530438</td>\n",
              "      <td>0.092224</td>\n",
              "    </tr>\n",
              "    <tr>\n",
              "      <th>2</th>\n",
              "      <td>0.111226</td>\n",
              "      <td>0.054178</td>\n",
              "      <td>0.013864</td>\n",
              "      <td>0.396653</td>\n",
              "    </tr>\n",
              "  </tbody>\n",
              "</table>\n",
              "</div>"
            ],
            "text/plain": [
              "          a         b         c         d\n",
              "0  0.000000  0.000000  0.000000  0.000000\n",
              "1  0.003930  0.406224  0.530438  0.092224\n",
              "2  0.111226  0.054178  0.013864  0.396653"
            ]
          },
          "metadata": {
            "tags": []
          },
          "execution_count": 78
        }
      ]
    },
    {
      "cell_type": "markdown",
      "metadata": {
        "id": "B-3AWXrIiyZZ",
        "colab_type": "text"
      },
      "source": [
        "Apply a function on 1D arrays to each column:"
      ]
    },
    {
      "cell_type": "code",
      "metadata": {
        "id": "ucoFMyiRiyZb",
        "colab_type": "code",
        "colab": {},
        "outputId": "59800a44-06fc-4b01-a593-25692aa177b1"
      },
      "source": [
        "func_1 = lambda x: x.max() - x.min()\n",
        "df_11.apply(func_1)"
      ],
      "execution_count": 0,
      "outputs": [
        {
          "output_type": "execute_result",
          "data": {
            "text/plain": [
              "a    0.111226\n",
              "b    0.406224\n",
              "c    0.530438\n",
              "d    0.396653\n",
              "dtype: float64"
            ]
          },
          "metadata": {
            "tags": []
          },
          "execution_count": 79
        }
      ]
    },
    {
      "cell_type": "markdown",
      "metadata": {
        "id": "IbOdRLugiyZl",
        "colab_type": "text"
      },
      "source": [
        "Apply a function on 1D arrays to each row:"
      ]
    },
    {
      "cell_type": "code",
      "metadata": {
        "id": "xwrnIc1fiyZn",
        "colab_type": "code",
        "colab": {},
        "outputId": "de6ecefb-1c91-4ca8-87b9-ecc16acbeb92"
      },
      "source": [
        "df_11.apply(func_1, axis=1)"
      ],
      "execution_count": 0,
      "outputs": [
        {
          "output_type": "execute_result",
          "data": {
            "text/plain": [
              "0    0.000000\n",
              "1    0.526508\n",
              "2    0.382789\n",
              "dtype: float64"
            ]
          },
          "metadata": {
            "tags": []
          },
          "execution_count": 80
        }
      ]
    },
    {
      "cell_type": "markdown",
      "metadata": {
        "id": "MuI6ggq5iyZx",
        "colab_type": "text"
      },
      "source": [
        "Apply a function and return a DataFrame:"
      ]
    },
    {
      "cell_type": "code",
      "metadata": {
        "id": "zSfR1O0piyZ3",
        "colab_type": "code",
        "colab": {},
        "outputId": "e891e210-4fc1-45a0-bc27-9b9b5b851be7"
      },
      "source": [
        "func_2 = lambda x: Series([x.min(), x.max()], index=['min', 'max'])\n",
        "df_11.apply(func_2)"
      ],
      "execution_count": 0,
      "outputs": [
        {
          "output_type": "execute_result",
          "data": {
            "text/html": [
              "<div>\n",
              "<table border=\"1\" class=\"dataframe\">\n",
              "  <thead>\n",
              "    <tr style=\"text-align: right;\">\n",
              "      <th></th>\n",
              "      <th>a</th>\n",
              "      <th>b</th>\n",
              "      <th>c</th>\n",
              "      <th>d</th>\n",
              "    </tr>\n",
              "  </thead>\n",
              "  <tbody>\n",
              "    <tr>\n",
              "      <th>min</th>\n",
              "      <td>0.000000</td>\n",
              "      <td>0.000000</td>\n",
              "      <td>0.000000</td>\n",
              "      <td>0.000000</td>\n",
              "    </tr>\n",
              "    <tr>\n",
              "      <th>max</th>\n",
              "      <td>0.111226</td>\n",
              "      <td>0.406224</td>\n",
              "      <td>0.530438</td>\n",
              "      <td>0.396653</td>\n",
              "    </tr>\n",
              "  </tbody>\n",
              "</table>\n",
              "</div>"
            ],
            "text/plain": [
              "            a         b         c         d\n",
              "min  0.000000  0.000000  0.000000  0.000000\n",
              "max  0.111226  0.406224  0.530438  0.396653"
            ]
          },
          "metadata": {
            "tags": []
          },
          "execution_count": 81
        }
      ]
    },
    {
      "cell_type": "markdown",
      "metadata": {
        "id": "bacvI6JkiyaM",
        "colab_type": "text"
      },
      "source": [
        "Apply an element-wise Python function to a DataFrame:"
      ]
    },
    {
      "cell_type": "code",
      "metadata": {
        "id": "syDWMRKiiyaO",
        "colab_type": "code",
        "colab": {},
        "outputId": "5b7db60c-fede-4a61-f474-6b3100590b6c"
      },
      "source": [
        "func_3 = lambda x: '%.2f' %x\n",
        "df_11.applymap(func_3)"
      ],
      "execution_count": 0,
      "outputs": [
        {
          "output_type": "execute_result",
          "data": {
            "text/html": [
              "<div>\n",
              "<table border=\"1\" class=\"dataframe\">\n",
              "  <thead>\n",
              "    <tr style=\"text-align: right;\">\n",
              "      <th></th>\n",
              "      <th>a</th>\n",
              "      <th>b</th>\n",
              "      <th>c</th>\n",
              "      <th>d</th>\n",
              "    </tr>\n",
              "  </thead>\n",
              "  <tbody>\n",
              "    <tr>\n",
              "      <th>0</th>\n",
              "      <td>0.00</td>\n",
              "      <td>0.00</td>\n",
              "      <td>0.00</td>\n",
              "      <td>0.00</td>\n",
              "    </tr>\n",
              "    <tr>\n",
              "      <th>1</th>\n",
              "      <td>0.00</td>\n",
              "      <td>0.41</td>\n",
              "      <td>0.53</td>\n",
              "      <td>0.09</td>\n",
              "    </tr>\n",
              "    <tr>\n",
              "      <th>2</th>\n",
              "      <td>0.11</td>\n",
              "      <td>0.05</td>\n",
              "      <td>0.01</td>\n",
              "      <td>0.40</td>\n",
              "    </tr>\n",
              "  </tbody>\n",
              "</table>\n",
              "</div>"
            ],
            "text/plain": [
              "      a     b     c     d\n",
              "0  0.00  0.00  0.00  0.00\n",
              "1  0.00  0.41  0.53  0.09\n",
              "2  0.11  0.05  0.01  0.40"
            ]
          },
          "metadata": {
            "tags": []
          },
          "execution_count": 82
        }
      ]
    },
    {
      "cell_type": "markdown",
      "metadata": {
        "id": "4CEj25tHiyaW",
        "colab_type": "text"
      },
      "source": [
        "Apply an element-wise Python function to a Series:"
      ]
    },
    {
      "cell_type": "code",
      "metadata": {
        "id": "zi2qRvTkiyaY",
        "colab_type": "code",
        "colab": {},
        "outputId": "55911ac2-d2ec-43c6-a6a1-a585b0d4269e"
      },
      "source": [
        "df_11['a'].map(func_3)"
      ],
      "execution_count": 0,
      "outputs": [
        {
          "output_type": "execute_result",
          "data": {
            "text/plain": [
              "0    0.00\n",
              "1    0.00\n",
              "2    0.11\n",
              "Name: a, dtype: object"
            ]
          },
          "metadata": {
            "tags": []
          },
          "execution_count": 83
        }
      ]
    },
    {
      "cell_type": "markdown",
      "metadata": {
        "id": "ELkisZgziyah",
        "colab_type": "text"
      },
      "source": [
        "## Sorting and Ranking"
      ]
    },
    {
      "cell_type": "code",
      "metadata": {
        "id": "J5m6LmIGiyak",
        "colab_type": "code",
        "colab": {},
        "outputId": "3fdaf512-3c1b-4032-ca3a-cb18377cbd92"
      },
      "source": [
        "ser_4"
      ],
      "execution_count": 0,
      "outputs": [
        {
          "output_type": "execute_result",
          "data": {
            "text/plain": [
              "fo    100\n",
              "br    200\n",
              "bz    300\n",
              "qx    NaN\n",
              "Name: foobarbazqux, dtype: float64"
            ]
          },
          "metadata": {
            "tags": []
          },
          "execution_count": 84
        }
      ]
    },
    {
      "cell_type": "markdown",
      "metadata": {
        "id": "BILd02cbiybF",
        "colab_type": "text"
      },
      "source": [
        "Sort a Series by its index:"
      ]
    },
    {
      "cell_type": "code",
      "metadata": {
        "id": "9U6X8gJKiybI",
        "colab_type": "code",
        "colab": {},
        "outputId": "2507c2b2-e8a7-4948-e3df-b250cd88f668"
      },
      "source": [
        "ser_4.sort_index()"
      ],
      "execution_count": 0,
      "outputs": [
        {
          "output_type": "execute_result",
          "data": {
            "text/plain": [
              "br    200\n",
              "bz    300\n",
              "fo    100\n",
              "qx    NaN\n",
              "Name: foobarbazqux, dtype: float64"
            ]
          },
          "metadata": {
            "tags": []
          },
          "execution_count": 85
        }
      ]
    },
    {
      "cell_type": "markdown",
      "metadata": {
        "id": "qd5SBFnpiybP",
        "colab_type": "text"
      },
      "source": [
        "Sort a Series by its values:"
      ]
    },
    {
      "cell_type": "code",
      "metadata": {
        "id": "MeLyXpOuiybT",
        "colab_type": "code",
        "colab": {},
        "outputId": "2c71f4d4-b801-4a42-86c5-96c19be33695"
      },
      "source": [
        "ser_4.sort_values()"
      ],
      "execution_count": 0,
      "outputs": [
        {
          "output_type": "execute_result",
          "data": {
            "text/plain": [
              "fo    100\n",
              "br    200\n",
              "bz    300\n",
              "qx    NaN\n",
              "Name: foobarbazqux, dtype: float64"
            ]
          },
          "metadata": {
            "tags": []
          },
          "execution_count": 86
        }
      ]
    },
    {
      "cell_type": "code",
      "metadata": {
        "id": "nnA8y9zliybb",
        "colab_type": "code",
        "colab": {},
        "outputId": "0986f37b-829b-4cdd-dd8b-c889ca8635d1"
      },
      "source": [
        "df_12 = DataFrame(np.arange(12).reshape((3, 4)),\n",
        "                  index=['three', 'one', 'two'],\n",
        "                  columns=['c', 'a', 'b', 'd'])\n",
        "df_12"
      ],
      "execution_count": 0,
      "outputs": [
        {
          "output_type": "execute_result",
          "data": {
            "text/html": [
              "<div>\n",
              "<table border=\"1\" class=\"dataframe\">\n",
              "  <thead>\n",
              "    <tr style=\"text-align: right;\">\n",
              "      <th></th>\n",
              "      <th>c</th>\n",
              "      <th>a</th>\n",
              "      <th>b</th>\n",
              "      <th>d</th>\n",
              "    </tr>\n",
              "  </thead>\n",
              "  <tbody>\n",
              "    <tr>\n",
              "      <th>three</th>\n",
              "      <td>0</td>\n",
              "      <td>1</td>\n",
              "      <td>2</td>\n",
              "      <td>3</td>\n",
              "    </tr>\n",
              "    <tr>\n",
              "      <th>one</th>\n",
              "      <td>4</td>\n",
              "      <td>5</td>\n",
              "      <td>6</td>\n",
              "      <td>7</td>\n",
              "    </tr>\n",
              "    <tr>\n",
              "      <th>two</th>\n",
              "      <td>8</td>\n",
              "      <td>9</td>\n",
              "      <td>10</td>\n",
              "      <td>11</td>\n",
              "    </tr>\n",
              "  </tbody>\n",
              "</table>\n",
              "</div>"
            ],
            "text/plain": [
              "       c  a   b   d\n",
              "three  0  1   2   3\n",
              "one    4  5   6   7\n",
              "two    8  9  10  11"
            ]
          },
          "metadata": {
            "tags": []
          },
          "execution_count": 87
        }
      ]
    },
    {
      "cell_type": "markdown",
      "metadata": {
        "id": "YTR2Bsewiybn",
        "colab_type": "text"
      },
      "source": [
        "Sort a DataFrame by its index:"
      ]
    },
    {
      "cell_type": "code",
      "metadata": {
        "id": "DEBcsv_Diybq",
        "colab_type": "code",
        "colab": {},
        "outputId": "4dffe703-59ed-4784-dded-139528393839"
      },
      "source": [
        "df_12.sort_index()"
      ],
      "execution_count": 0,
      "outputs": [
        {
          "output_type": "execute_result",
          "data": {
            "text/html": [
              "<div>\n",
              "<table border=\"1\" class=\"dataframe\">\n",
              "  <thead>\n",
              "    <tr style=\"text-align: right;\">\n",
              "      <th></th>\n",
              "      <th>c</th>\n",
              "      <th>a</th>\n",
              "      <th>b</th>\n",
              "      <th>d</th>\n",
              "    </tr>\n",
              "  </thead>\n",
              "  <tbody>\n",
              "    <tr>\n",
              "      <th>one</th>\n",
              "      <td>4</td>\n",
              "      <td>5</td>\n",
              "      <td>6</td>\n",
              "      <td>7</td>\n",
              "    </tr>\n",
              "    <tr>\n",
              "      <th>three</th>\n",
              "      <td>0</td>\n",
              "      <td>1</td>\n",
              "      <td>2</td>\n",
              "      <td>3</td>\n",
              "    </tr>\n",
              "    <tr>\n",
              "      <th>two</th>\n",
              "      <td>8</td>\n",
              "      <td>9</td>\n",
              "      <td>10</td>\n",
              "      <td>11</td>\n",
              "    </tr>\n",
              "  </tbody>\n",
              "</table>\n",
              "</div>"
            ],
            "text/plain": [
              "       c  a   b   d\n",
              "one    4  5   6   7\n",
              "three  0  1   2   3\n",
              "two    8  9  10  11"
            ]
          },
          "metadata": {
            "tags": []
          },
          "execution_count": 88
        }
      ]
    },
    {
      "cell_type": "markdown",
      "metadata": {
        "id": "DFt0zxLxiyby",
        "colab_type": "text"
      },
      "source": [
        "Sort a DataFrame by columns in descending order:"
      ]
    },
    {
      "cell_type": "code",
      "metadata": {
        "id": "zvuhC7ALiycs",
        "colab_type": "code",
        "colab": {},
        "outputId": "16f1045c-6a68-4b0c-95c3-d434373cf02f"
      },
      "source": [
        "df_12.sort_index(axis=1, ascending=False)"
      ],
      "execution_count": 0,
      "outputs": [
        {
          "output_type": "execute_result",
          "data": {
            "text/html": [
              "<div>\n",
              "<table border=\"1\" class=\"dataframe\">\n",
              "  <thead>\n",
              "    <tr style=\"text-align: right;\">\n",
              "      <th></th>\n",
              "      <th>d</th>\n",
              "      <th>c</th>\n",
              "      <th>b</th>\n",
              "      <th>a</th>\n",
              "    </tr>\n",
              "  </thead>\n",
              "  <tbody>\n",
              "    <tr>\n",
              "      <th>three</th>\n",
              "      <td>3</td>\n",
              "      <td>0</td>\n",
              "      <td>2</td>\n",
              "      <td>1</td>\n",
              "    </tr>\n",
              "    <tr>\n",
              "      <th>one</th>\n",
              "      <td>7</td>\n",
              "      <td>4</td>\n",
              "      <td>6</td>\n",
              "      <td>5</td>\n",
              "    </tr>\n",
              "    <tr>\n",
              "      <th>two</th>\n",
              "      <td>11</td>\n",
              "      <td>8</td>\n",
              "      <td>10</td>\n",
              "      <td>9</td>\n",
              "    </tr>\n",
              "  </tbody>\n",
              "</table>\n",
              "</div>"
            ],
            "text/plain": [
              "        d  c   b  a\n",
              "three   3  0   2  1\n",
              "one     7  4   6  5\n",
              "two    11  8  10  9"
            ]
          },
          "metadata": {
            "tags": []
          },
          "execution_count": 89
        }
      ]
    },
    {
      "cell_type": "markdown",
      "metadata": {
        "id": "aIekfNssiyc1",
        "colab_type": "text"
      },
      "source": [
        "Sort a DataFrame's values by column:"
      ]
    },
    {
      "cell_type": "code",
      "metadata": {
        "id": "Lz3COOKUiyc4",
        "colab_type": "code",
        "colab": {},
        "outputId": "a713f0f0-650c-4c7c-adf4-1dc8683a62ef"
      },
      "source": [
        "df_12.sort_values(by=['d', 'c'])"
      ],
      "execution_count": 0,
      "outputs": [
        {
          "output_type": "execute_result",
          "data": {
            "text/html": [
              "<div>\n",
              "<table border=\"1\" class=\"dataframe\">\n",
              "  <thead>\n",
              "    <tr style=\"text-align: right;\">\n",
              "      <th></th>\n",
              "      <th>c</th>\n",
              "      <th>a</th>\n",
              "      <th>b</th>\n",
              "      <th>d</th>\n",
              "    </tr>\n",
              "  </thead>\n",
              "  <tbody>\n",
              "    <tr>\n",
              "      <th>three</th>\n",
              "      <td>0</td>\n",
              "      <td>1</td>\n",
              "      <td>2</td>\n",
              "      <td>3</td>\n",
              "    </tr>\n",
              "    <tr>\n",
              "      <th>one</th>\n",
              "      <td>4</td>\n",
              "      <td>5</td>\n",
              "      <td>6</td>\n",
              "      <td>7</td>\n",
              "    </tr>\n",
              "    <tr>\n",
              "      <th>two</th>\n",
              "      <td>8</td>\n",
              "      <td>9</td>\n",
              "      <td>10</td>\n",
              "      <td>11</td>\n",
              "    </tr>\n",
              "  </tbody>\n",
              "</table>\n",
              "</div>"
            ],
            "text/plain": [
              "       c  a   b   d\n",
              "three  0  1   2   3\n",
              "one    4  5   6   7\n",
              "two    8  9  10  11"
            ]
          },
          "metadata": {
            "tags": []
          },
          "execution_count": 90
        }
      ]
    },
    {
      "cell_type": "markdown",
      "metadata": {
        "id": "nPS2ghS4iyc_",
        "colab_type": "text"
      },
      "source": [
        "Ranking is similar to numpy.argsort except that ties are broken by assigning each group the mean rank:"
      ]
    },
    {
      "cell_type": "code",
      "metadata": {
        "id": "_Gqsk1x5iydC",
        "colab_type": "code",
        "colab": {},
        "outputId": "e61d5883-a7d8-44a6-9253-7b192838c202"
      },
      "source": [
        "ser_11 = Series([7, -5, 7, 4, 2, 0, 4, 7])\n",
        "ser_11 = ser_11.sort_values()\n",
        "ser_11"
      ],
      "execution_count": 0,
      "outputs": [
        {
          "output_type": "execute_result",
          "data": {
            "text/plain": [
              "1   -5\n",
              "5    0\n",
              "4    2\n",
              "3    4\n",
              "6    4\n",
              "0    7\n",
              "2    7\n",
              "7    7\n",
              "dtype: int64"
            ]
          },
          "metadata": {
            "tags": []
          },
          "execution_count": 91
        }
      ]
    },
    {
      "cell_type": "code",
      "metadata": {
        "id": "JI3MYz0yiydL",
        "colab_type": "code",
        "colab": {},
        "outputId": "10905c92-8331-4eaf-90f4-dbc1819a2c0c"
      },
      "source": [
        "ser_11.rank()"
      ],
      "execution_count": 0,
      "outputs": [
        {
          "output_type": "execute_result",
          "data": {
            "text/plain": [
              "1    1.0\n",
              "5    2.0\n",
              "4    3.0\n",
              "3    4.5\n",
              "6    4.5\n",
              "0    7.0\n",
              "2    7.0\n",
              "7    7.0\n",
              "dtype: float64"
            ]
          },
          "metadata": {
            "tags": []
          },
          "execution_count": 92
        }
      ]
    },
    {
      "cell_type": "markdown",
      "metadata": {
        "id": "p_hUq9j3iydj",
        "colab_type": "text"
      },
      "source": [
        "Rank a Series according to when they appear in the data:"
      ]
    },
    {
      "cell_type": "code",
      "metadata": {
        "id": "4BptiylIiydl",
        "colab_type": "code",
        "colab": {},
        "outputId": "0f9b4b71-65b2-4b0b-bacf-51606e6e6958"
      },
      "source": [
        "ser_11.rank(method='first')"
      ],
      "execution_count": 0,
      "outputs": [
        {
          "output_type": "execute_result",
          "data": {
            "text/plain": [
              "1    1\n",
              "5    2\n",
              "4    3\n",
              "3    4\n",
              "6    5\n",
              "0    6\n",
              "2    7\n",
              "7    8\n",
              "dtype: float64"
            ]
          },
          "metadata": {
            "tags": []
          },
          "execution_count": 93
        }
      ]
    },
    {
      "cell_type": "markdown",
      "metadata": {
        "id": "Ow-2EX0Viydx",
        "colab_type": "text"
      },
      "source": [
        "Rank a Series in descending order, using the maximum rank for the group:"
      ]
    },
    {
      "cell_type": "code",
      "metadata": {
        "id": "gwthJVfXiydz",
        "colab_type": "code",
        "colab": {},
        "outputId": "7bbf6277-6c2c-4249-bd58-0b81d6e4a8d5"
      },
      "source": [
        "ser_11.rank(ascending=False, method='max')"
      ],
      "execution_count": 0,
      "outputs": [
        {
          "output_type": "execute_result",
          "data": {
            "text/plain": [
              "1    8\n",
              "5    7\n",
              "4    6\n",
              "3    5\n",
              "6    5\n",
              "0    3\n",
              "2    3\n",
              "7    3\n",
              "dtype: float64"
            ]
          },
          "metadata": {
            "tags": []
          },
          "execution_count": 94
        }
      ]
    },
    {
      "cell_type": "markdown",
      "metadata": {
        "id": "oOCuu5Xjiyd7",
        "colab_type": "text"
      },
      "source": [
        "DataFrames can rank over rows or columns."
      ]
    },
    {
      "cell_type": "code",
      "metadata": {
        "id": "RNKqOuupiyeA",
        "colab_type": "code",
        "colab": {},
        "outputId": "673bd81e-f3cb-416b-f6ed-b7949ed7a3af"
      },
      "source": [
        "df_13 = DataFrame({'foo' : [7, -5, 7, 4, 2, 0, 4, 7],\n",
        "                   'bar' : [-5, 4, 2, 0, 4, 7, 7, 8],\n",
        "                   'baz' : [-1, 2, 3, 0, 5, 9, 9, 5]})\n",
        "df_13"
      ],
      "execution_count": 0,
      "outputs": [
        {
          "output_type": "execute_result",
          "data": {
            "text/html": [
              "<div>\n",
              "<table border=\"1\" class=\"dataframe\">\n",
              "  <thead>\n",
              "    <tr style=\"text-align: right;\">\n",
              "      <th></th>\n",
              "      <th>bar</th>\n",
              "      <th>baz</th>\n",
              "      <th>foo</th>\n",
              "    </tr>\n",
              "  </thead>\n",
              "  <tbody>\n",
              "    <tr>\n",
              "      <th>0</th>\n",
              "      <td>-5</td>\n",
              "      <td>-1</td>\n",
              "      <td>7</td>\n",
              "    </tr>\n",
              "    <tr>\n",
              "      <th>1</th>\n",
              "      <td>4</td>\n",
              "      <td>2</td>\n",
              "      <td>-5</td>\n",
              "    </tr>\n",
              "    <tr>\n",
              "      <th>2</th>\n",
              "      <td>2</td>\n",
              "      <td>3</td>\n",
              "      <td>7</td>\n",
              "    </tr>\n",
              "    <tr>\n",
              "      <th>3</th>\n",
              "      <td>0</td>\n",
              "      <td>0</td>\n",
              "      <td>4</td>\n",
              "    </tr>\n",
              "    <tr>\n",
              "      <th>4</th>\n",
              "      <td>4</td>\n",
              "      <td>5</td>\n",
              "      <td>2</td>\n",
              "    </tr>\n",
              "    <tr>\n",
              "      <th>5</th>\n",
              "      <td>7</td>\n",
              "      <td>9</td>\n",
              "      <td>0</td>\n",
              "    </tr>\n",
              "    <tr>\n",
              "      <th>6</th>\n",
              "      <td>7</td>\n",
              "      <td>9</td>\n",
              "      <td>4</td>\n",
              "    </tr>\n",
              "    <tr>\n",
              "      <th>7</th>\n",
              "      <td>8</td>\n",
              "      <td>5</td>\n",
              "      <td>7</td>\n",
              "    </tr>\n",
              "  </tbody>\n",
              "</table>\n",
              "</div>"
            ],
            "text/plain": [
              "   bar  baz  foo\n",
              "0   -5   -1    7\n",
              "1    4    2   -5\n",
              "2    2    3    7\n",
              "3    0    0    4\n",
              "4    4    5    2\n",
              "5    7    9    0\n",
              "6    7    9    4\n",
              "7    8    5    7"
            ]
          },
          "metadata": {
            "tags": []
          },
          "execution_count": 95
        }
      ]
    },
    {
      "cell_type": "markdown",
      "metadata": {
        "id": "_91dLSbOiyfT",
        "colab_type": "text"
      },
      "source": [
        "Rank a DataFrame over rows:"
      ]
    },
    {
      "cell_type": "code",
      "metadata": {
        "id": "7IFicYqMiyfV",
        "colab_type": "code",
        "colab": {},
        "outputId": "b04769ee-70f4-4c5e-d84e-bed455a5b7c3"
      },
      "source": [
        "df_13.rank()"
      ],
      "execution_count": 0,
      "outputs": [
        {
          "output_type": "execute_result",
          "data": {
            "text/html": [
              "<div>\n",
              "<table border=\"1\" class=\"dataframe\">\n",
              "  <thead>\n",
              "    <tr style=\"text-align: right;\">\n",
              "      <th></th>\n",
              "      <th>bar</th>\n",
              "      <th>baz</th>\n",
              "      <th>foo</th>\n",
              "    </tr>\n",
              "  </thead>\n",
              "  <tbody>\n",
              "    <tr>\n",
              "      <th>0</th>\n",
              "      <td>1.0</td>\n",
              "      <td>1.0</td>\n",
              "      <td>7.0</td>\n",
              "    </tr>\n",
              "    <tr>\n",
              "      <th>1</th>\n",
              "      <td>4.5</td>\n",
              "      <td>3.0</td>\n",
              "      <td>1.0</td>\n",
              "    </tr>\n",
              "    <tr>\n",
              "      <th>2</th>\n",
              "      <td>3.0</td>\n",
              "      <td>4.0</td>\n",
              "      <td>7.0</td>\n",
              "    </tr>\n",
              "    <tr>\n",
              "      <th>3</th>\n",
              "      <td>2.0</td>\n",
              "      <td>2.0</td>\n",
              "      <td>4.5</td>\n",
              "    </tr>\n",
              "    <tr>\n",
              "      <th>4</th>\n",
              "      <td>4.5</td>\n",
              "      <td>5.5</td>\n",
              "      <td>3.0</td>\n",
              "    </tr>\n",
              "    <tr>\n",
              "      <th>5</th>\n",
              "      <td>6.5</td>\n",
              "      <td>7.5</td>\n",
              "      <td>2.0</td>\n",
              "    </tr>\n",
              "    <tr>\n",
              "      <th>6</th>\n",
              "      <td>6.5</td>\n",
              "      <td>7.5</td>\n",
              "      <td>4.5</td>\n",
              "    </tr>\n",
              "    <tr>\n",
              "      <th>7</th>\n",
              "      <td>8.0</td>\n",
              "      <td>5.5</td>\n",
              "      <td>7.0</td>\n",
              "    </tr>\n",
              "  </tbody>\n",
              "</table>\n",
              "</div>"
            ],
            "text/plain": [
              "   bar  baz  foo\n",
              "0  1.0  1.0  7.0\n",
              "1  4.5  3.0  1.0\n",
              "2  3.0  4.0  7.0\n",
              "3  2.0  2.0  4.5\n",
              "4  4.5  5.5  3.0\n",
              "5  6.5  7.5  2.0\n",
              "6  6.5  7.5  4.5\n",
              "7  8.0  5.5  7.0"
            ]
          },
          "metadata": {
            "tags": []
          },
          "execution_count": 96
        }
      ]
    },
    {
      "cell_type": "markdown",
      "metadata": {
        "id": "Xl6Y7Gf_iyfe",
        "colab_type": "text"
      },
      "source": [
        "Rank a DataFrame over columns:"
      ]
    },
    {
      "cell_type": "code",
      "metadata": {
        "id": "t-E4bJITiyfh",
        "colab_type": "code",
        "colab": {},
        "outputId": "d428dedb-bb51-4ca1-c1dd-abae0946c0d2"
      },
      "source": [
        "df_13.rank(axis=1)"
      ],
      "execution_count": 0,
      "outputs": [
        {
          "output_type": "execute_result",
          "data": {
            "text/html": [
              "<div>\n",
              "<table border=\"1\" class=\"dataframe\">\n",
              "  <thead>\n",
              "    <tr style=\"text-align: right;\">\n",
              "      <th></th>\n",
              "      <th>bar</th>\n",
              "      <th>baz</th>\n",
              "      <th>foo</th>\n",
              "    </tr>\n",
              "  </thead>\n",
              "  <tbody>\n",
              "    <tr>\n",
              "      <th>0</th>\n",
              "      <td>1.0</td>\n",
              "      <td>2.0</td>\n",
              "      <td>3</td>\n",
              "    </tr>\n",
              "    <tr>\n",
              "      <th>1</th>\n",
              "      <td>3.0</td>\n",
              "      <td>2.0</td>\n",
              "      <td>1</td>\n",
              "    </tr>\n",
              "    <tr>\n",
              "      <th>2</th>\n",
              "      <td>1.0</td>\n",
              "      <td>2.0</td>\n",
              "      <td>3</td>\n",
              "    </tr>\n",
              "    <tr>\n",
              "      <th>3</th>\n",
              "      <td>1.5</td>\n",
              "      <td>1.5</td>\n",
              "      <td>3</td>\n",
              "    </tr>\n",
              "    <tr>\n",
              "      <th>4</th>\n",
              "      <td>2.0</td>\n",
              "      <td>3.0</td>\n",
              "      <td>1</td>\n",
              "    </tr>\n",
              "    <tr>\n",
              "      <th>5</th>\n",
              "      <td>2.0</td>\n",
              "      <td>3.0</td>\n",
              "      <td>1</td>\n",
              "    </tr>\n",
              "    <tr>\n",
              "      <th>6</th>\n",
              "      <td>2.0</td>\n",
              "      <td>3.0</td>\n",
              "      <td>1</td>\n",
              "    </tr>\n",
              "    <tr>\n",
              "      <th>7</th>\n",
              "      <td>3.0</td>\n",
              "      <td>1.0</td>\n",
              "      <td>2</td>\n",
              "    </tr>\n",
              "  </tbody>\n",
              "</table>\n",
              "</div>"
            ],
            "text/plain": [
              "   bar  baz  foo\n",
              "0  1.0  2.0    3\n",
              "1  3.0  2.0    1\n",
              "2  1.0  2.0    3\n",
              "3  1.5  1.5    3\n",
              "4  2.0  3.0    1\n",
              "5  2.0  3.0    1\n",
              "6  2.0  3.0    1\n",
              "7  3.0  1.0    2"
            ]
          },
          "metadata": {
            "tags": []
          },
          "execution_count": 97
        }
      ]
    },
    {
      "cell_type": "markdown",
      "metadata": {
        "id": "ngwuSs5xiyfy",
        "colab_type": "text"
      },
      "source": [
        "## Axis Indexes with Duplicate Values"
      ]
    },
    {
      "cell_type": "markdown",
      "metadata": {
        "id": "Ltvpl3u8iygR",
        "colab_type": "text"
      },
      "source": [
        "Labels do not have to be unique in Pandas:"
      ]
    },
    {
      "cell_type": "code",
      "metadata": {
        "id": "uQddWnQ-iygT",
        "colab_type": "code",
        "colab": {},
        "outputId": "6112652d-291d-4318-9d05-44b214b3ef50"
      },
      "source": [
        "ser_12 = Series(range(5), index=['foo', 'foo', 'bar', 'bar', 'baz'])\n",
        "ser_12"
      ],
      "execution_count": 0,
      "outputs": [
        {
          "output_type": "execute_result",
          "data": {
            "text/plain": [
              "foo    0\n",
              "foo    1\n",
              "bar    2\n",
              "bar    3\n",
              "baz    4\n",
              "dtype: int64"
            ]
          },
          "metadata": {
            "tags": []
          },
          "execution_count": 98
        }
      ]
    },
    {
      "cell_type": "code",
      "metadata": {
        "id": "i7cpgv4Liyge",
        "colab_type": "code",
        "colab": {},
        "outputId": "2d119541-b918-4ccd-e38c-3942df2619aa"
      },
      "source": [
        "ser_12.index.is_unique"
      ],
      "execution_count": 0,
      "outputs": [
        {
          "output_type": "execute_result",
          "data": {
            "text/plain": [
              "False"
            ]
          },
          "metadata": {
            "tags": []
          },
          "execution_count": 99
        }
      ]
    },
    {
      "cell_type": "markdown",
      "metadata": {
        "id": "i0ngU_vViygl",
        "colab_type": "text"
      },
      "source": [
        "Select Series elements:"
      ]
    },
    {
      "cell_type": "code",
      "metadata": {
        "id": "K1IOvsUziygo",
        "colab_type": "code",
        "colab": {},
        "outputId": "140b66f7-f2f7-4dc5-8aff-3b7e95bec647"
      },
      "source": [
        "ser_12['foo']"
      ],
      "execution_count": 0,
      "outputs": [
        {
          "output_type": "execute_result",
          "data": {
            "text/plain": [
              "foo    0\n",
              "foo    1\n",
              "dtype: int64"
            ]
          },
          "metadata": {
            "tags": []
          },
          "execution_count": 100
        }
      ]
    },
    {
      "cell_type": "markdown",
      "metadata": {
        "id": "GD8y5guciyhX",
        "colab_type": "text"
      },
      "source": [
        "Select DataFrame elements:"
      ]
    },
    {
      "cell_type": "code",
      "metadata": {
        "id": "87BLVIQ6iyha",
        "colab_type": "code",
        "colab": {},
        "outputId": "1afc3a4e-732b-48e2-87b0-eb6ee62ecc37"
      },
      "source": [
        "df_14 = DataFrame(np.random.randn(5, 4),\n",
        "                  index=['foo', 'foo', 'bar', 'bar', 'baz'])\n",
        "df_14"
      ],
      "execution_count": 0,
      "outputs": [
        {
          "output_type": "execute_result",
          "data": {
            "text/html": [
              "<div>\n",
              "<table border=\"1\" class=\"dataframe\">\n",
              "  <thead>\n",
              "    <tr style=\"text-align: right;\">\n",
              "      <th></th>\n",
              "      <th>0</th>\n",
              "      <th>1</th>\n",
              "      <th>2</th>\n",
              "      <th>3</th>\n",
              "    </tr>\n",
              "  </thead>\n",
              "  <tbody>\n",
              "    <tr>\n",
              "      <th>foo</th>\n",
              "      <td>-2.363469</td>\n",
              "      <td>1.135345</td>\n",
              "      <td>-1.017014</td>\n",
              "      <td>0.637362</td>\n",
              "    </tr>\n",
              "    <tr>\n",
              "      <th>foo</th>\n",
              "      <td>-0.859907</td>\n",
              "      <td>1.772608</td>\n",
              "      <td>-1.110363</td>\n",
              "      <td>0.181214</td>\n",
              "    </tr>\n",
              "    <tr>\n",
              "      <th>bar</th>\n",
              "      <td>0.564345</td>\n",
              "      <td>-0.566510</td>\n",
              "      <td>0.729976</td>\n",
              "      <td>0.372994</td>\n",
              "    </tr>\n",
              "    <tr>\n",
              "      <th>bar</th>\n",
              "      <td>0.533811</td>\n",
              "      <td>-0.091973</td>\n",
              "      <td>1.913820</td>\n",
              "      <td>0.330797</td>\n",
              "    </tr>\n",
              "    <tr>\n",
              "      <th>baz</th>\n",
              "      <td>1.141943</td>\n",
              "      <td>-1.129595</td>\n",
              "      <td>-0.850052</td>\n",
              "      <td>0.960820</td>\n",
              "    </tr>\n",
              "  </tbody>\n",
              "</table>\n",
              "</div>"
            ],
            "text/plain": [
              "            0         1         2         3\n",
              "foo -2.363469  1.135345 -1.017014  0.637362\n",
              "foo -0.859907  1.772608 -1.110363  0.181214\n",
              "bar  0.564345 -0.566510  0.729976  0.372994\n",
              "bar  0.533811 -0.091973  1.913820  0.330797\n",
              "baz  1.141943 -1.129595 -0.850052  0.960820"
            ]
          },
          "metadata": {
            "tags": []
          },
          "execution_count": 101
        }
      ]
    },
    {
      "cell_type": "code",
      "metadata": {
        "id": "cjkunBvoiyhh",
        "colab_type": "code",
        "colab": {},
        "outputId": "f7271fe8-9998-4dbe-da50-0295fd715164"
      },
      "source": [
        "df_14.ix['bar']"
      ],
      "execution_count": 0,
      "outputs": [
        {
          "output_type": "execute_result",
          "data": {
            "text/html": [
              "<div>\n",
              "<table border=\"1\" class=\"dataframe\">\n",
              "  <thead>\n",
              "    <tr style=\"text-align: right;\">\n",
              "      <th></th>\n",
              "      <th>0</th>\n",
              "      <th>1</th>\n",
              "      <th>2</th>\n",
              "      <th>3</th>\n",
              "    </tr>\n",
              "  </thead>\n",
              "  <tbody>\n",
              "    <tr>\n",
              "      <th>bar</th>\n",
              "      <td>0.564345</td>\n",
              "      <td>-0.566510</td>\n",
              "      <td>0.729976</td>\n",
              "      <td>0.372994</td>\n",
              "    </tr>\n",
              "    <tr>\n",
              "      <th>bar</th>\n",
              "      <td>0.533811</td>\n",
              "      <td>-0.091973</td>\n",
              "      <td>1.913820</td>\n",
              "      <td>0.330797</td>\n",
              "    </tr>\n",
              "  </tbody>\n",
              "</table>\n",
              "</div>"
            ],
            "text/plain": [
              "            0         1         2         3\n",
              "bar  0.564345 -0.566510  0.729976  0.372994\n",
              "bar  0.533811 -0.091973  1.913820  0.330797"
            ]
          },
          "metadata": {
            "tags": []
          },
          "execution_count": 102
        }
      ]
    },
    {
      "cell_type": "markdown",
      "metadata": {
        "id": "Gevw31vZiyhn",
        "colab_type": "text"
      },
      "source": [
        "## Summarizing and Computing Descriptive Statistics"
      ]
    },
    {
      "cell_type": "markdown",
      "metadata": {
        "id": "UMp6xyYwiyhp",
        "colab_type": "text"
      },
      "source": [
        "Unlike NumPy arrays, Pandas descriptive statistics automatically exclude missing data.  NaN values are excluded unless the entire row or column is NA."
      ]
    },
    {
      "cell_type": "code",
      "metadata": {
        "id": "y3akuUjSiyhr",
        "colab_type": "code",
        "colab": {},
        "outputId": "f9b62868-372b-4269-b76b-665d894dbc10"
      },
      "source": [
        "df_6"
      ],
      "execution_count": 0,
      "outputs": [
        {
          "output_type": "execute_result",
          "data": {
            "text/html": [
              "<div>\n",
              "<table border=\"1\" class=\"dataframe\">\n",
              "  <thead>\n",
              "    <tr style=\"text-align: right;\">\n",
              "      <th></th>\n",
              "      <th>state</th>\n",
              "      <th>pop</th>\n",
              "      <th>unempl</th>\n",
              "      <th>year</th>\n",
              "    </tr>\n",
              "  </thead>\n",
              "  <tbody>\n",
              "    <tr>\n",
              "      <th>0</th>\n",
              "      <td>VA</td>\n",
              "      <td>5.0</td>\n",
              "      <td>NaN</td>\n",
              "      <td>2012</td>\n",
              "    </tr>\n",
              "    <tr>\n",
              "      <th>1</th>\n",
              "      <td>VA</td>\n",
              "      <td>5.1</td>\n",
              "      <td>NaN</td>\n",
              "      <td>2013</td>\n",
              "    </tr>\n",
              "    <tr>\n",
              "      <th>2</th>\n",
              "      <td>VA</td>\n",
              "      <td>5.2</td>\n",
              "      <td>6.0</td>\n",
              "      <td>2014</td>\n",
              "    </tr>\n",
              "    <tr>\n",
              "      <th>3</th>\n",
              "      <td>MD</td>\n",
              "      <td>4.0</td>\n",
              "      <td>6.0</td>\n",
              "      <td>2014</td>\n",
              "    </tr>\n",
              "    <tr>\n",
              "      <th>4</th>\n",
              "      <td>MD</td>\n",
              "      <td>4.1</td>\n",
              "      <td>6.1</td>\n",
              "      <td>2015</td>\n",
              "    </tr>\n",
              "    <tr>\n",
              "      <th>5</th>\n",
              "      <td>NaN</td>\n",
              "      <td>NaN</td>\n",
              "      <td>NaN</td>\n",
              "      <td>NaN</td>\n",
              "    </tr>\n",
              "    <tr>\n",
              "      <th>6</th>\n",
              "      <td>NaN</td>\n",
              "      <td>NaN</td>\n",
              "      <td>NaN</td>\n",
              "      <td>NaN</td>\n",
              "    </tr>\n",
              "  </tbody>\n",
              "</table>\n",
              "</div>"
            ],
            "text/plain": [
              "  state  pop  unempl  year\n",
              "0    VA  5.0     NaN  2012\n",
              "1    VA  5.1     NaN  2013\n",
              "2    VA  5.2     6.0  2014\n",
              "3    MD  4.0     6.0  2014\n",
              "4    MD  4.1     6.1  2015\n",
              "5   NaN  NaN     NaN   NaN\n",
              "6   NaN  NaN     NaN   NaN"
            ]
          },
          "metadata": {
            "tags": []
          },
          "execution_count": 103
        }
      ]
    },
    {
      "cell_type": "code",
      "metadata": {
        "id": "JXZQYU8Iiyhy",
        "colab_type": "code",
        "colab": {},
        "outputId": "57f640a0-1eb2-4406-aff2-59b4544aa3da"
      },
      "source": [
        "df_6.sum()"
      ],
      "execution_count": 0,
      "outputs": [
        {
          "output_type": "execute_result",
          "data": {
            "text/plain": [
              "pop          23.4\n",
              "unempl       18.1\n",
              "year      10068.0\n",
              "dtype: float64"
            ]
          },
          "metadata": {
            "tags": []
          },
          "execution_count": 104
        }
      ]
    },
    {
      "cell_type": "markdown",
      "metadata": {
        "id": "hQ2gpsHniyh9",
        "colab_type": "text"
      },
      "source": [
        "Sum over the rows:"
      ]
    },
    {
      "cell_type": "code",
      "metadata": {
        "id": "LTNHnckkiyh_",
        "colab_type": "code",
        "colab": {},
        "outputId": "56ba8804-df94-4f55-b1d7-55dd316abd4e"
      },
      "source": [
        "df_6.sum(axis=1)"
      ],
      "execution_count": 0,
      "outputs": [
        {
          "output_type": "execute_result",
          "data": {
            "text/plain": [
              "0    2017.0\n",
              "1    2018.1\n",
              "2    2025.2\n",
              "3    2024.0\n",
              "4    2025.2\n",
              "5       0.0\n",
              "6       0.0\n",
              "dtype: float64"
            ]
          },
          "metadata": {
            "tags": []
          },
          "execution_count": 105
        }
      ]
    },
    {
      "cell_type": "markdown",
      "metadata": {
        "id": "wdThS7cmiyiI",
        "colab_type": "text"
      },
      "source": [
        "Account for NaNs:"
      ]
    },
    {
      "cell_type": "code",
      "metadata": {
        "id": "8sHFv0EhiyiM",
        "colab_type": "code",
        "colab": {},
        "outputId": "741a792f-a800-4c71-b9d8-a5262748e2cc"
      },
      "source": [
        "df_6.sum(axis=1, skipna=False)"
      ],
      "execution_count": 0,
      "outputs": [
        {
          "output_type": "execute_result",
          "data": {
            "text/plain": [
              "0       NaN\n",
              "1       NaN\n",
              "2    2025.2\n",
              "3    2024.0\n",
              "4    2025.2\n",
              "5       NaN\n",
              "6       NaN\n",
              "dtype: float64"
            ]
          },
          "metadata": {
            "tags": []
          },
          "execution_count": 106
        }
      ]
    },
    {
      "cell_type": "markdown",
      "metadata": {
        "id": "pzPnFv_giyiU",
        "colab_type": "text"
      },
      "source": [
        "## Cleaning Data (Under Construction)\n",
        "* Replace\n",
        "* Drop\n",
        "* Concatenate"
      ]
    },
    {
      "cell_type": "code",
      "metadata": {
        "id": "cuJi1YiViyiW",
        "colab_type": "code",
        "colab": {}
      },
      "source": [
        "from pandas import Series, DataFrame\n",
        "import pandas as pd"
      ],
      "execution_count": 0,
      "outputs": []
    },
    {
      "cell_type": "markdown",
      "metadata": {
        "id": "zInVzDgLiyim",
        "colab_type": "text"
      },
      "source": [
        "Setup a DataFrame:"
      ]
    },
    {
      "cell_type": "code",
      "metadata": {
        "id": "dXYDa-Lqiyio",
        "colab_type": "code",
        "colab": {},
        "outputId": "b7d22983-46be-4c54-dc86-bfa7693271b5"
      },
      "source": [
        "data_1 = {'state' : ['VA', 'VA', 'VA', 'MD', 'MD'],\n",
        "          'year' : [2012, 2013, 2014, 2014, 2015],\n",
        "          'population' : [5.0, 5.1, 5.2, 4.0, 4.1]}\n",
        "df_1 = DataFrame(data_1)\n",
        "df_1"
      ],
      "execution_count": 0,
      "outputs": [
        {
          "output_type": "execute_result",
          "data": {
            "text/html": [
              "<div>\n",
              "<table border=\"1\" class=\"dataframe\">\n",
              "  <thead>\n",
              "    <tr style=\"text-align: right;\">\n",
              "      <th></th>\n",
              "      <th>population</th>\n",
              "      <th>state</th>\n",
              "      <th>year</th>\n",
              "    </tr>\n",
              "  </thead>\n",
              "  <tbody>\n",
              "    <tr>\n",
              "      <th>0</th>\n",
              "      <td>5.0</td>\n",
              "      <td>VA</td>\n",
              "      <td>2012</td>\n",
              "    </tr>\n",
              "    <tr>\n",
              "      <th>1</th>\n",
              "      <td>5.1</td>\n",
              "      <td>VA</td>\n",
              "      <td>2013</td>\n",
              "    </tr>\n",
              "    <tr>\n",
              "      <th>2</th>\n",
              "      <td>5.2</td>\n",
              "      <td>VA</td>\n",
              "      <td>2014</td>\n",
              "    </tr>\n",
              "    <tr>\n",
              "      <th>3</th>\n",
              "      <td>4.0</td>\n",
              "      <td>MD</td>\n",
              "      <td>2014</td>\n",
              "    </tr>\n",
              "    <tr>\n",
              "      <th>4</th>\n",
              "      <td>4.1</td>\n",
              "      <td>MD</td>\n",
              "      <td>2015</td>\n",
              "    </tr>\n",
              "  </tbody>\n",
              "</table>\n",
              "</div>"
            ],
            "text/plain": [
              "   population state  year\n",
              "0         5.0    VA  2012\n",
              "1         5.1    VA  2013\n",
              "2         5.2    VA  2014\n",
              "3         4.0    MD  2014\n",
              "4         4.1    MD  2015"
            ]
          },
          "metadata": {
            "tags": []
          },
          "execution_count": 108
        }
      ]
    },
    {
      "cell_type": "markdown",
      "metadata": {
        "id": "QMGm1c2wiyi2",
        "colab_type": "text"
      },
      "source": [
        "### Replace"
      ]
    },
    {
      "cell_type": "markdown",
      "metadata": {
        "id": "TPlpGzudiyi4",
        "colab_type": "text"
      },
      "source": [
        "Replace all occurrences of a string with another string, in place (no copy):"
      ]
    },
    {
      "cell_type": "code",
      "metadata": {
        "id": "OFipen2Riyi5",
        "colab_type": "code",
        "colab": {},
        "outputId": "206a77bc-ec4b-413e-fb88-74ae6cf0526d"
      },
      "source": [
        "df_1.replace('VA', 'VIRGINIA', inplace=True)\n",
        "df_1"
      ],
      "execution_count": 0,
      "outputs": [
        {
          "output_type": "execute_result",
          "data": {
            "text/html": [
              "<div>\n",
              "<table border=\"1\" class=\"dataframe\">\n",
              "  <thead>\n",
              "    <tr style=\"text-align: right;\">\n",
              "      <th></th>\n",
              "      <th>population</th>\n",
              "      <th>state</th>\n",
              "      <th>year</th>\n",
              "    </tr>\n",
              "  </thead>\n",
              "  <tbody>\n",
              "    <tr>\n",
              "      <th>0</th>\n",
              "      <td>5.0</td>\n",
              "      <td>VIRGINIA</td>\n",
              "      <td>2012</td>\n",
              "    </tr>\n",
              "    <tr>\n",
              "      <th>1</th>\n",
              "      <td>5.1</td>\n",
              "      <td>VIRGINIA</td>\n",
              "      <td>2013</td>\n",
              "    </tr>\n",
              "    <tr>\n",
              "      <th>2</th>\n",
              "      <td>5.2</td>\n",
              "      <td>VIRGINIA</td>\n",
              "      <td>2014</td>\n",
              "    </tr>\n",
              "    <tr>\n",
              "      <th>3</th>\n",
              "      <td>4.0</td>\n",
              "      <td>MD</td>\n",
              "      <td>2014</td>\n",
              "    </tr>\n",
              "    <tr>\n",
              "      <th>4</th>\n",
              "      <td>4.1</td>\n",
              "      <td>MD</td>\n",
              "      <td>2015</td>\n",
              "    </tr>\n",
              "  </tbody>\n",
              "</table>\n",
              "</div>"
            ],
            "text/plain": [
              "   population     state  year\n",
              "0         5.0  VIRGINIA  2012\n",
              "1         5.1  VIRGINIA  2013\n",
              "2         5.2  VIRGINIA  2014\n",
              "3         4.0        MD  2014\n",
              "4         4.1        MD  2015"
            ]
          },
          "metadata": {
            "tags": []
          },
          "execution_count": 109
        }
      ]
    },
    {
      "cell_type": "markdown",
      "metadata": {
        "id": "UMbQPZ2_iyi_",
        "colab_type": "text"
      },
      "source": [
        "In a specified column, replace all occurrences of a string with another string, in place (no copy):"
      ]
    },
    {
      "cell_type": "code",
      "metadata": {
        "id": "-htSn4bHiyjC",
        "colab_type": "code",
        "colab": {},
        "outputId": "f076561f-09f3-4f84-ac75-374c3a0e567a"
      },
      "source": [
        "df_1.replace({'state' : { 'MD' : 'MARYLAND' }}, inplace=True)\n",
        "df_1"
      ],
      "execution_count": 0,
      "outputs": [
        {
          "output_type": "execute_result",
          "data": {
            "text/html": [
              "<div>\n",
              "<table border=\"1\" class=\"dataframe\">\n",
              "  <thead>\n",
              "    <tr style=\"text-align: right;\">\n",
              "      <th></th>\n",
              "      <th>population</th>\n",
              "      <th>state</th>\n",
              "      <th>year</th>\n",
              "    </tr>\n",
              "  </thead>\n",
              "  <tbody>\n",
              "    <tr>\n",
              "      <th>0</th>\n",
              "      <td>5.0</td>\n",
              "      <td>VIRGINIA</td>\n",
              "      <td>2012</td>\n",
              "    </tr>\n",
              "    <tr>\n",
              "      <th>1</th>\n",
              "      <td>5.1</td>\n",
              "      <td>VIRGINIA</td>\n",
              "      <td>2013</td>\n",
              "    </tr>\n",
              "    <tr>\n",
              "      <th>2</th>\n",
              "      <td>5.2</td>\n",
              "      <td>VIRGINIA</td>\n",
              "      <td>2014</td>\n",
              "    </tr>\n",
              "    <tr>\n",
              "      <th>3</th>\n",
              "      <td>4.0</td>\n",
              "      <td>MARYLAND</td>\n",
              "      <td>2014</td>\n",
              "    </tr>\n",
              "    <tr>\n",
              "      <th>4</th>\n",
              "      <td>4.1</td>\n",
              "      <td>MARYLAND</td>\n",
              "      <td>2015</td>\n",
              "    </tr>\n",
              "  </tbody>\n",
              "</table>\n",
              "</div>"
            ],
            "text/plain": [
              "   population     state  year\n",
              "0         5.0  VIRGINIA  2012\n",
              "1         5.1  VIRGINIA  2013\n",
              "2         5.2  VIRGINIA  2014\n",
              "3         4.0  MARYLAND  2014\n",
              "4         4.1  MARYLAND  2015"
            ]
          },
          "metadata": {
            "tags": []
          },
          "execution_count": 110
        }
      ]
    },
    {
      "cell_type": "markdown",
      "metadata": {
        "id": "a7VxXZ3Yiyjb",
        "colab_type": "text"
      },
      "source": [
        "### Drop"
      ]
    },
    {
      "cell_type": "markdown",
      "metadata": {
        "id": "fp494R3Piyjd",
        "colab_type": "text"
      },
      "source": [
        "Drop the 'population' column and return a copy of the DataFrame:"
      ]
    },
    {
      "cell_type": "code",
      "metadata": {
        "id": "uP_6G0JHiyjg",
        "colab_type": "code",
        "colab": {},
        "outputId": "0df1a1bb-0bbf-4c01-f200-62cc941ade14"
      },
      "source": [
        "df_2 = df_1.drop('population', axis=1)\n",
        "df_2"
      ],
      "execution_count": 0,
      "outputs": [
        {
          "output_type": "execute_result",
          "data": {
            "text/html": [
              "<div>\n",
              "<table border=\"1\" class=\"dataframe\">\n",
              "  <thead>\n",
              "    <tr style=\"text-align: right;\">\n",
              "      <th></th>\n",
              "      <th>state</th>\n",
              "      <th>year</th>\n",
              "    </tr>\n",
              "  </thead>\n",
              "  <tbody>\n",
              "    <tr>\n",
              "      <th>0</th>\n",
              "      <td>VIRGINIA</td>\n",
              "      <td>2012</td>\n",
              "    </tr>\n",
              "    <tr>\n",
              "      <th>1</th>\n",
              "      <td>VIRGINIA</td>\n",
              "      <td>2013</td>\n",
              "    </tr>\n",
              "    <tr>\n",
              "      <th>2</th>\n",
              "      <td>VIRGINIA</td>\n",
              "      <td>2014</td>\n",
              "    </tr>\n",
              "    <tr>\n",
              "      <th>3</th>\n",
              "      <td>MARYLAND</td>\n",
              "      <td>2014</td>\n",
              "    </tr>\n",
              "    <tr>\n",
              "      <th>4</th>\n",
              "      <td>MARYLAND</td>\n",
              "      <td>2015</td>\n",
              "    </tr>\n",
              "  </tbody>\n",
              "</table>\n",
              "</div>"
            ],
            "text/plain": [
              "      state  year\n",
              "0  VIRGINIA  2012\n",
              "1  VIRGINIA  2013\n",
              "2  VIRGINIA  2014\n",
              "3  MARYLAND  2014\n",
              "4  MARYLAND  2015"
            ]
          },
          "metadata": {
            "tags": []
          },
          "execution_count": 111
        }
      ]
    },
    {
      "cell_type": "markdown",
      "metadata": {
        "id": "NEvmKF6PiyoJ",
        "colab_type": "text"
      },
      "source": [
        "### Concatenate"
      ]
    },
    {
      "cell_type": "markdown",
      "metadata": {
        "id": "PaRGDjoZiyoK",
        "colab_type": "text"
      },
      "source": [
        "Concatenate two DataFrames:"
      ]
    },
    {
      "cell_type": "code",
      "metadata": {
        "id": "UIT7KNnJiyoM",
        "colab_type": "code",
        "colab": {},
        "outputId": "1cef9a3d-ab67-42c7-a681-ca0c623db6cd"
      },
      "source": [
        "data_2 = {'state' : ['NY', 'NY', 'NY', 'FL', 'FL'],\n",
        "          'year' : [2012, 2013, 2014, 2014, 2015],\n",
        "          'population' : [6.0, 6.1, 6.2, 3.0, 3.1]}\n",
        "df_3 = DataFrame(data_2)\n",
        "df_3"
      ],
      "execution_count": 0,
      "outputs": [
        {
          "output_type": "execute_result",
          "data": {
            "text/html": [
              "<div>\n",
              "<table border=\"1\" class=\"dataframe\">\n",
              "  <thead>\n",
              "    <tr style=\"text-align: right;\">\n",
              "      <th></th>\n",
              "      <th>population</th>\n",
              "      <th>state</th>\n",
              "      <th>year</th>\n",
              "    </tr>\n",
              "  </thead>\n",
              "  <tbody>\n",
              "    <tr>\n",
              "      <th>0</th>\n",
              "      <td>6.0</td>\n",
              "      <td>NY</td>\n",
              "      <td>2012</td>\n",
              "    </tr>\n",
              "    <tr>\n",
              "      <th>1</th>\n",
              "      <td>6.1</td>\n",
              "      <td>NY</td>\n",
              "      <td>2013</td>\n",
              "    </tr>\n",
              "    <tr>\n",
              "      <th>2</th>\n",
              "      <td>6.2</td>\n",
              "      <td>NY</td>\n",
              "      <td>2014</td>\n",
              "    </tr>\n",
              "    <tr>\n",
              "      <th>3</th>\n",
              "      <td>3.0</td>\n",
              "      <td>FL</td>\n",
              "      <td>2014</td>\n",
              "    </tr>\n",
              "    <tr>\n",
              "      <th>4</th>\n",
              "      <td>3.1</td>\n",
              "      <td>FL</td>\n",
              "      <td>2015</td>\n",
              "    </tr>\n",
              "  </tbody>\n",
              "</table>\n",
              "</div>"
            ],
            "text/plain": [
              "   population state  year\n",
              "0         6.0    NY  2012\n",
              "1         6.1    NY  2013\n",
              "2         6.2    NY  2014\n",
              "3         3.0    FL  2014\n",
              "4         3.1    FL  2015"
            ]
          },
          "metadata": {
            "tags": []
          },
          "execution_count": 112
        }
      ]
    },
    {
      "cell_type": "code",
      "metadata": {
        "id": "rwYgJJ1giyoZ",
        "colab_type": "code",
        "colab": {},
        "outputId": "51879f02-9f64-4710-bfe2-f6efbd7d1754"
      },
      "source": [
        "df_4 = pd.concat([df_1, df_3])\n",
        "df_4"
      ],
      "execution_count": 0,
      "outputs": [
        {
          "output_type": "execute_result",
          "data": {
            "text/html": [
              "<div>\n",
              "<table border=\"1\" class=\"dataframe\">\n",
              "  <thead>\n",
              "    <tr style=\"text-align: right;\">\n",
              "      <th></th>\n",
              "      <th>population</th>\n",
              "      <th>state</th>\n",
              "      <th>year</th>\n",
              "    </tr>\n",
              "  </thead>\n",
              "  <tbody>\n",
              "    <tr>\n",
              "      <th>0</th>\n",
              "      <td>5.0</td>\n",
              "      <td>VIRGINIA</td>\n",
              "      <td>2012</td>\n",
              "    </tr>\n",
              "    <tr>\n",
              "      <th>1</th>\n",
              "      <td>5.1</td>\n",
              "      <td>VIRGINIA</td>\n",
              "      <td>2013</td>\n",
              "    </tr>\n",
              "    <tr>\n",
              "      <th>2</th>\n",
              "      <td>5.2</td>\n",
              "      <td>VIRGINIA</td>\n",
              "      <td>2014</td>\n",
              "    </tr>\n",
              "    <tr>\n",
              "      <th>3</th>\n",
              "      <td>4.0</td>\n",
              "      <td>MARYLAND</td>\n",
              "      <td>2014</td>\n",
              "    </tr>\n",
              "    <tr>\n",
              "      <th>4</th>\n",
              "      <td>4.1</td>\n",
              "      <td>MARYLAND</td>\n",
              "      <td>2015</td>\n",
              "    </tr>\n",
              "    <tr>\n",
              "      <th>0</th>\n",
              "      <td>6.0</td>\n",
              "      <td>NY</td>\n",
              "      <td>2012</td>\n",
              "    </tr>\n",
              "    <tr>\n",
              "      <th>1</th>\n",
              "      <td>6.1</td>\n",
              "      <td>NY</td>\n",
              "      <td>2013</td>\n",
              "    </tr>\n",
              "    <tr>\n",
              "      <th>2</th>\n",
              "      <td>6.2</td>\n",
              "      <td>NY</td>\n",
              "      <td>2014</td>\n",
              "    </tr>\n",
              "    <tr>\n",
              "      <th>3</th>\n",
              "      <td>3.0</td>\n",
              "      <td>FL</td>\n",
              "      <td>2014</td>\n",
              "    </tr>\n",
              "    <tr>\n",
              "      <th>4</th>\n",
              "      <td>3.1</td>\n",
              "      <td>FL</td>\n",
              "      <td>2015</td>\n",
              "    </tr>\n",
              "  </tbody>\n",
              "</table>\n",
              "</div>"
            ],
            "text/plain": [
              "   population     state  year\n",
              "0         5.0  VIRGINIA  2012\n",
              "1         5.1  VIRGINIA  2013\n",
              "2         5.2  VIRGINIA  2014\n",
              "3         4.0  MARYLAND  2014\n",
              "4         4.1  MARYLAND  2015\n",
              "0         6.0        NY  2012\n",
              "1         6.1        NY  2013\n",
              "2         6.2        NY  2014\n",
              "3         3.0        FL  2014\n",
              "4         3.1        FL  2015"
            ]
          },
          "metadata": {
            "tags": []
          },
          "execution_count": 113
        }
      ]
    },
    {
      "cell_type": "markdown",
      "metadata": {
        "id": "d3vZaJAoiyoi",
        "colab_type": "text"
      },
      "source": [
        "## Input and Output (Under Construction)\n",
        "* Reading\n",
        "* Writing"
      ]
    },
    {
      "cell_type": "code",
      "metadata": {
        "id": "BradTvpLiyot",
        "colab_type": "code",
        "colab": {}
      },
      "source": [
        "from pandas import Series, DataFrame\n",
        "import pandas as pd"
      ],
      "execution_count": 0,
      "outputs": []
    },
    {
      "cell_type": "markdown",
      "metadata": {
        "id": "dVFHZrJriyoz",
        "colab_type": "text"
      },
      "source": [
        "### Reading"
      ]
    },
    {
      "cell_type": "markdown",
      "metadata": {
        "id": "Lo86A5leiyo0",
        "colab_type": "text"
      },
      "source": [
        "Read data from a CSV file into a DataFrame (use sep='\\t' for TSV):"
      ]
    },
    {
      "cell_type": "code",
      "metadata": {
        "id": "I5Tv48_5iyo1",
        "colab_type": "code",
        "colab": {}
      },
      "source": [
        "df_1 = pd.read_csv(\"../data/ozone.csv\")"
      ],
      "execution_count": 0,
      "outputs": []
    },
    {
      "cell_type": "markdown",
      "metadata": {
        "id": "N38-qyTRiyo_",
        "colab_type": "text"
      },
      "source": [
        "Get a summary of the DataFrame:"
      ]
    },
    {
      "cell_type": "code",
      "metadata": {
        "id": "wWuiFUY5iypA",
        "colab_type": "code",
        "colab": {},
        "outputId": "4444d439-5183-4d81-82f4-e9059fc7a69c"
      },
      "source": [
        "df_1.describe()"
      ],
      "execution_count": 0,
      "outputs": [
        {
          "output_type": "execute_result",
          "data": {
            "text/html": [
              "<div>\n",
              "<table border=\"1\" class=\"dataframe\">\n",
              "  <thead>\n",
              "    <tr style=\"text-align: right;\">\n",
              "      <th></th>\n",
              "      <th>Ozone</th>\n",
              "      <th>Solar.R</th>\n",
              "      <th>Wind</th>\n",
              "      <th>Temp</th>\n",
              "      <th>Month</th>\n",
              "      <th>Day</th>\n",
              "    </tr>\n",
              "  </thead>\n",
              "  <tbody>\n",
              "    <tr>\n",
              "      <th>count</th>\n",
              "      <td>116.000000</td>\n",
              "      <td>146.000000</td>\n",
              "      <td>153.000000</td>\n",
              "      <td>153.000000</td>\n",
              "      <td>153.000000</td>\n",
              "      <td>153.000000</td>\n",
              "    </tr>\n",
              "    <tr>\n",
              "      <th>mean</th>\n",
              "      <td>42.129310</td>\n",
              "      <td>185.931507</td>\n",
              "      <td>9.957516</td>\n",
              "      <td>77.882353</td>\n",
              "      <td>6.993464</td>\n",
              "      <td>15.803922</td>\n",
              "    </tr>\n",
              "    <tr>\n",
              "      <th>std</th>\n",
              "      <td>32.987885</td>\n",
              "      <td>90.058422</td>\n",
              "      <td>3.523001</td>\n",
              "      <td>9.465270</td>\n",
              "      <td>1.416522</td>\n",
              "      <td>8.864520</td>\n",
              "    </tr>\n",
              "    <tr>\n",
              "      <th>min</th>\n",
              "      <td>1.000000</td>\n",
              "      <td>7.000000</td>\n",
              "      <td>1.700000</td>\n",
              "      <td>56.000000</td>\n",
              "      <td>5.000000</td>\n",
              "      <td>1.000000</td>\n",
              "    </tr>\n",
              "    <tr>\n",
              "      <th>25%</th>\n",
              "      <td>18.000000</td>\n",
              "      <td>115.750000</td>\n",
              "      <td>7.400000</td>\n",
              "      <td>72.000000</td>\n",
              "      <td>6.000000</td>\n",
              "      <td>8.000000</td>\n",
              "    </tr>\n",
              "    <tr>\n",
              "      <th>50%</th>\n",
              "      <td>31.500000</td>\n",
              "      <td>205.000000</td>\n",
              "      <td>9.700000</td>\n",
              "      <td>79.000000</td>\n",
              "      <td>7.000000</td>\n",
              "      <td>16.000000</td>\n",
              "    </tr>\n",
              "    <tr>\n",
              "      <th>75%</th>\n",
              "      <td>63.250000</td>\n",
              "      <td>258.750000</td>\n",
              "      <td>11.500000</td>\n",
              "      <td>85.000000</td>\n",
              "      <td>8.000000</td>\n",
              "      <td>23.000000</td>\n",
              "    </tr>\n",
              "    <tr>\n",
              "      <th>max</th>\n",
              "      <td>168.000000</td>\n",
              "      <td>334.000000</td>\n",
              "      <td>20.700000</td>\n",
              "      <td>97.000000</td>\n",
              "      <td>9.000000</td>\n",
              "      <td>31.000000</td>\n",
              "    </tr>\n",
              "  </tbody>\n",
              "</table>\n",
              "</div>"
            ],
            "text/plain": [
              "            Ozone     Solar.R        Wind        Temp       Month         Day\n",
              "count  116.000000  146.000000  153.000000  153.000000  153.000000  153.000000\n",
              "mean    42.129310  185.931507    9.957516   77.882353    6.993464   15.803922\n",
              "std     32.987885   90.058422    3.523001    9.465270    1.416522    8.864520\n",
              "min      1.000000    7.000000    1.700000   56.000000    5.000000    1.000000\n",
              "25%     18.000000  115.750000    7.400000   72.000000    6.000000    8.000000\n",
              "50%     31.500000  205.000000    9.700000   79.000000    7.000000   16.000000\n",
              "75%     63.250000  258.750000   11.500000   85.000000    8.000000   23.000000\n",
              "max    168.000000  334.000000   20.700000   97.000000    9.000000   31.000000"
            ]
          },
          "metadata": {
            "tags": []
          },
          "execution_count": 116
        }
      ]
    },
    {
      "cell_type": "markdown",
      "metadata": {
        "id": "I5onCZpliypK",
        "colab_type": "text"
      },
      "source": [
        "List the first five rows of the DataFrame:"
      ]
    },
    {
      "cell_type": "code",
      "metadata": {
        "id": "46LCUSCtiypM",
        "colab_type": "code",
        "colab": {},
        "outputId": "cc54d35d-5a80-4168-ee87-c087caf8fe01"
      },
      "source": [
        "df_1.head()"
      ],
      "execution_count": 0,
      "outputs": [
        {
          "output_type": "execute_result",
          "data": {
            "text/html": [
              "<div>\n",
              "<table border=\"1\" class=\"dataframe\">\n",
              "  <thead>\n",
              "    <tr style=\"text-align: right;\">\n",
              "      <th></th>\n",
              "      <th>Ozone</th>\n",
              "      <th>Solar.R</th>\n",
              "      <th>Wind</th>\n",
              "      <th>Temp</th>\n",
              "      <th>Month</th>\n",
              "      <th>Day</th>\n",
              "    </tr>\n",
              "  </thead>\n",
              "  <tbody>\n",
              "    <tr>\n",
              "      <th>0</th>\n",
              "      <td>41</td>\n",
              "      <td>190</td>\n",
              "      <td>7.4</td>\n",
              "      <td>67</td>\n",
              "      <td>5</td>\n",
              "      <td>1</td>\n",
              "    </tr>\n",
              "    <tr>\n",
              "      <th>1</th>\n",
              "      <td>36</td>\n",
              "      <td>118</td>\n",
              "      <td>8.0</td>\n",
              "      <td>72</td>\n",
              "      <td>5</td>\n",
              "      <td>2</td>\n",
              "    </tr>\n",
              "    <tr>\n",
              "      <th>2</th>\n",
              "      <td>12</td>\n",
              "      <td>149</td>\n",
              "      <td>12.6</td>\n",
              "      <td>74</td>\n",
              "      <td>5</td>\n",
              "      <td>3</td>\n",
              "    </tr>\n",
              "    <tr>\n",
              "      <th>3</th>\n",
              "      <td>18</td>\n",
              "      <td>313</td>\n",
              "      <td>11.5</td>\n",
              "      <td>62</td>\n",
              "      <td>5</td>\n",
              "      <td>4</td>\n",
              "    </tr>\n",
              "    <tr>\n",
              "      <th>4</th>\n",
              "      <td>NaN</td>\n",
              "      <td>NaN</td>\n",
              "      <td>14.3</td>\n",
              "      <td>56</td>\n",
              "      <td>5</td>\n",
              "      <td>5</td>\n",
              "    </tr>\n",
              "  </tbody>\n",
              "</table>\n",
              "</div>"
            ],
            "text/plain": [
              "   Ozone  Solar.R  Wind  Temp  Month  Day\n",
              "0     41      190   7.4    67      5    1\n",
              "1     36      118   8.0    72      5    2\n",
              "2     12      149  12.6    74      5    3\n",
              "3     18      313  11.5    62      5    4\n",
              "4    NaN      NaN  14.3    56      5    5"
            ]
          },
          "metadata": {
            "tags": []
          },
          "execution_count": 117
        }
      ]
    },
    {
      "cell_type": "markdown",
      "metadata": {
        "id": "UFtez3_iiypQ",
        "colab_type": "text"
      },
      "source": [
        "### Writing"
      ]
    },
    {
      "cell_type": "markdown",
      "metadata": {
        "id": "XgbIPDcwiypa",
        "colab_type": "text"
      },
      "source": [
        "Create a copy of the CSV file, encoded in UTF-8 and hiding the index and header labels:"
      ]
    },
    {
      "cell_type": "code",
      "metadata": {
        "id": "k7uyjFvliypc",
        "colab_type": "code",
        "colab": {}
      },
      "source": [
        "df_1.to_csv('../data/ozone_copy.csv', \n",
        "            encoding='utf-8', \n",
        "            index=False, \n",
        "            header=False)"
      ],
      "execution_count": 0,
      "outputs": []
    },
    {
      "cell_type": "markdown",
      "metadata": {
        "id": "XloLo2Wjiypg",
        "colab_type": "text"
      },
      "source": [
        "View the data directory:"
      ]
    },
    {
      "cell_type": "code",
      "metadata": {
        "id": "RIFnm4sbiypj",
        "colab_type": "code",
        "colab": {},
        "outputId": "a0ca3ca9-65b9-482f-c613-8f8c678bf9a9"
      },
      "source": [
        "!ls -l ../data/"
      ],
      "execution_count": 0,
      "outputs": [
        {
          "output_type": "stream",
          "text": [
            "total 1016\r\n",
            "-rw-r--r--   1 donnemartin  staff  437903 Jul  7  2015 churn.csv\r\n",
            "-rwxr-xr-x   1 donnemartin  staff   72050 Jul  7  2015 \u001b[31mconfusion_matrix.png\u001b[m\u001b[m\r\n",
            "-rw-r--r--   1 donnemartin  staff    2902 Jul  7  2015 ozone.csv\r\n",
            "-rw-r--r--   1 donnemartin  staff    3324 Apr  1 07:18 ozone_copy.csv\r\n",
            "drwxr-xr-x  10 donnemartin  staff     340 Jul  7  2015 \u001b[34mtitanic\u001b[m\u001b[m\r\n"
          ],
          "name": "stdout"
        }
      ]
    }
  ]
}