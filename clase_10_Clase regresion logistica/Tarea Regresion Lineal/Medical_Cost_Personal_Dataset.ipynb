{
  "nbformat": 4,
  "nbformat_minor": 0,
  "metadata": {
    "colab": {
      "name": "Medical Cost Personal Dataset.ipynb",
      "provenance": []
    },
    "kernelspec": {
      "name": "python3",
      "display_name": "Python 3"
    }
  },
  "cells": [
    {
      "cell_type": "markdown",
      "metadata": {
        "id": "YC5sWx8sFkDZ",
        "colab_type": "text"
      },
      "source": [
        "#Medical Cost Personal Dataset"
      ]
    },
    {
      "cell_type": "markdown",
      "metadata": {
        "id": "R5f1KCsqGpuJ",
        "colab_type": "text"
      },
      "source": [
        "Can you accurately predict insurance costs?"
      ]
    },
    {
      "cell_type": "markdown",
      "metadata": {
        "id": "H659HJ7FF0Ie",
        "colab_type": "text"
      },
      "source": [
        "![texto alternativo](https://drive.google.com/uc?id=1v_IeAS65KZ6ktlttDgFJh9MxZqnu_Ws_)"
      ]
    },
    {
      "cell_type": "markdown",
      "metadata": {
        "id": "VobcQ6WvF_Eo",
        "colab_type": "text"
      },
      "source": [
        "##Importar Datos"
      ]
    },
    {
      "cell_type": "code",
      "metadata": {
        "id": "lkmVOaaptqtw",
        "colab_type": "code",
        "colab": {}
      },
      "source": [
        "import pandas as pd"
      ],
      "execution_count": 0,
      "outputs": []
    },
    {
      "cell_type": "code",
      "metadata": {
        "id": "d-DWEuKHtyLW",
        "colab_type": "code",
        "outputId": "1d268610-3f75-42c5-8f88-42adc4a924bb",
        "colab": {
          "base_uri": "https://localhost:8080/",
          "height": 198
        }
      },
      "source": [
        "df = pd.read_csv(\"insurance.csv\")\n",
        "df.head()"
      ],
      "execution_count": 2,
      "outputs": [
        {
          "output_type": "execute_result",
          "data": {
            "text/html": [
              "<div>\n",
              "<style scoped>\n",
              "    .dataframe tbody tr th:only-of-type {\n",
              "        vertical-align: middle;\n",
              "    }\n",
              "\n",
              "    .dataframe tbody tr th {\n",
              "        vertical-align: top;\n",
              "    }\n",
              "\n",
              "    .dataframe thead th {\n",
              "        text-align: right;\n",
              "    }\n",
              "</style>\n",
              "<table border=\"1\" class=\"dataframe\">\n",
              "  <thead>\n",
              "    <tr style=\"text-align: right;\">\n",
              "      <th></th>\n",
              "      <th>age</th>\n",
              "      <th>sex</th>\n",
              "      <th>bmi</th>\n",
              "      <th>children</th>\n",
              "      <th>smoker</th>\n",
              "      <th>region</th>\n",
              "      <th>charges</th>\n",
              "    </tr>\n",
              "  </thead>\n",
              "  <tbody>\n",
              "    <tr>\n",
              "      <th>0</th>\n",
              "      <td>19</td>\n",
              "      <td>female</td>\n",
              "      <td>27.900</td>\n",
              "      <td>0</td>\n",
              "      <td>yes</td>\n",
              "      <td>southwest</td>\n",
              "      <td>16884.92400</td>\n",
              "    </tr>\n",
              "    <tr>\n",
              "      <th>1</th>\n",
              "      <td>18</td>\n",
              "      <td>male</td>\n",
              "      <td>33.770</td>\n",
              "      <td>1</td>\n",
              "      <td>no</td>\n",
              "      <td>southeast</td>\n",
              "      <td>1725.55230</td>\n",
              "    </tr>\n",
              "    <tr>\n",
              "      <th>2</th>\n",
              "      <td>28</td>\n",
              "      <td>male</td>\n",
              "      <td>33.000</td>\n",
              "      <td>3</td>\n",
              "      <td>no</td>\n",
              "      <td>southeast</td>\n",
              "      <td>4449.46200</td>\n",
              "    </tr>\n",
              "    <tr>\n",
              "      <th>3</th>\n",
              "      <td>33</td>\n",
              "      <td>male</td>\n",
              "      <td>22.705</td>\n",
              "      <td>0</td>\n",
              "      <td>no</td>\n",
              "      <td>northwest</td>\n",
              "      <td>21984.47061</td>\n",
              "    </tr>\n",
              "    <tr>\n",
              "      <th>4</th>\n",
              "      <td>32</td>\n",
              "      <td>male</td>\n",
              "      <td>28.880</td>\n",
              "      <td>0</td>\n",
              "      <td>no</td>\n",
              "      <td>northwest</td>\n",
              "      <td>3866.85520</td>\n",
              "    </tr>\n",
              "  </tbody>\n",
              "</table>\n",
              "</div>"
            ],
            "text/plain": [
              "   age     sex     bmi  children smoker     region      charges\n",
              "0   19  female  27.900         0    yes  southwest  16884.92400\n",
              "1   18    male  33.770         1     no  southeast   1725.55230\n",
              "2   28    male  33.000         3     no  southeast   4449.46200\n",
              "3   33    male  22.705         0     no  northwest  21984.47061\n",
              "4   32    male  28.880         0     no  northwest   3866.85520"
            ]
          },
          "metadata": {
            "tags": []
          },
          "execution_count": 2
        }
      ]
    },
    {
      "cell_type": "markdown",
      "metadata": {
        "id": "o1CF3-VaG8Ab",
        "colab_type": "text"
      },
      "source": [
        "##Label Encoding"
      ]
    },
    {
      "cell_type": "markdown",
      "metadata": {
        "id": "lDY73wDNHCvb",
        "colab_type": "text"
      },
      "source": [
        "Algunas columnas se deben convertir a datos numericos"
      ]
    },
    {
      "cell_type": "code",
      "metadata": {
        "id": "pyxPB3mLZh_h",
        "colab_type": "code",
        "colab": {}
      },
      "source": [
        "from sklearn import preprocessing"
      ],
      "execution_count": 0,
      "outputs": []
    },
    {
      "cell_type": "markdown",
      "metadata": {
        "id": "qxFxV2LRY0WJ",
        "colab_type": "text"
      },
      "source": [
        "# sex"
      ]
    },
    {
      "cell_type": "code",
      "metadata": {
        "id": "pOo62XOTY6As",
        "colab_type": "code",
        "colab": {}
      },
      "source": [
        "\n",
        "lSex= preprocessing.LabelEncoder() \n",
        "lSex = lSex.fit(df['sex'])\n",
        "df['sex'] = lSex.transform(df['sex'])"
      ],
      "execution_count": 0,
      "outputs": []
    },
    {
      "cell_type": "code",
      "metadata": {
        "id": "miWdoS4EZQNe",
        "colab_type": "code",
        "colab": {
          "base_uri": "https://localhost:8080/",
          "height": 72
        },
        "outputId": "c7d79d27-4fe7-484a-e8ca-6bacb3d05f37"
      },
      "source": [
        "df['sex'].value_counts() # mujer=0, man=1"
      ],
      "execution_count": 8,
      "outputs": [
        {
          "output_type": "execute_result",
          "data": {
            "text/plain": [
              "1    676\n",
              "0    662\n",
              "Name: sex, dtype: int64"
            ]
          },
          "metadata": {
            "tags": []
          },
          "execution_count": 8
        }
      ]
    },
    {
      "cell_type": "code",
      "metadata": {
        "id": "QpTFabnOu7R3",
        "colab_type": "code",
        "colab": {
          "base_uri": "https://localhost:8080/",
          "height": 198
        },
        "outputId": "2b7c8708-9e01-42b7-a44a-67b1374ef964"
      },
      "source": [
        "df.head()"
      ],
      "execution_count": 9,
      "outputs": [
        {
          "output_type": "execute_result",
          "data": {
            "text/html": [
              "<div>\n",
              "<style scoped>\n",
              "    .dataframe tbody tr th:only-of-type {\n",
              "        vertical-align: middle;\n",
              "    }\n",
              "\n",
              "    .dataframe tbody tr th {\n",
              "        vertical-align: top;\n",
              "    }\n",
              "\n",
              "    .dataframe thead th {\n",
              "        text-align: right;\n",
              "    }\n",
              "</style>\n",
              "<table border=\"1\" class=\"dataframe\">\n",
              "  <thead>\n",
              "    <tr style=\"text-align: right;\">\n",
              "      <th></th>\n",
              "      <th>age</th>\n",
              "      <th>sex</th>\n",
              "      <th>bmi</th>\n",
              "      <th>children</th>\n",
              "      <th>smoker</th>\n",
              "      <th>region</th>\n",
              "      <th>charges</th>\n",
              "    </tr>\n",
              "  </thead>\n",
              "  <tbody>\n",
              "    <tr>\n",
              "      <th>0</th>\n",
              "      <td>19</td>\n",
              "      <td>0</td>\n",
              "      <td>27.900</td>\n",
              "      <td>0</td>\n",
              "      <td>yes</td>\n",
              "      <td>southwest</td>\n",
              "      <td>16884.92400</td>\n",
              "    </tr>\n",
              "    <tr>\n",
              "      <th>1</th>\n",
              "      <td>18</td>\n",
              "      <td>1</td>\n",
              "      <td>33.770</td>\n",
              "      <td>1</td>\n",
              "      <td>no</td>\n",
              "      <td>southeast</td>\n",
              "      <td>1725.55230</td>\n",
              "    </tr>\n",
              "    <tr>\n",
              "      <th>2</th>\n",
              "      <td>28</td>\n",
              "      <td>1</td>\n",
              "      <td>33.000</td>\n",
              "      <td>3</td>\n",
              "      <td>no</td>\n",
              "      <td>southeast</td>\n",
              "      <td>4449.46200</td>\n",
              "    </tr>\n",
              "    <tr>\n",
              "      <th>3</th>\n",
              "      <td>33</td>\n",
              "      <td>1</td>\n",
              "      <td>22.705</td>\n",
              "      <td>0</td>\n",
              "      <td>no</td>\n",
              "      <td>northwest</td>\n",
              "      <td>21984.47061</td>\n",
              "    </tr>\n",
              "    <tr>\n",
              "      <th>4</th>\n",
              "      <td>32</td>\n",
              "      <td>1</td>\n",
              "      <td>28.880</td>\n",
              "      <td>0</td>\n",
              "      <td>no</td>\n",
              "      <td>northwest</td>\n",
              "      <td>3866.85520</td>\n",
              "    </tr>\n",
              "  </tbody>\n",
              "</table>\n",
              "</div>"
            ],
            "text/plain": [
              "   age  sex     bmi  children smoker     region      charges\n",
              "0   19    0  27.900         0    yes  southwest  16884.92400\n",
              "1   18    1  33.770         1     no  southeast   1725.55230\n",
              "2   28    1  33.000         3     no  southeast   4449.46200\n",
              "3   33    1  22.705         0     no  northwest  21984.47061\n",
              "4   32    1  28.880         0     no  northwest   3866.85520"
            ]
          },
          "metadata": {
            "tags": []
          },
          "execution_count": 9
        }
      ]
    },
    {
      "cell_type": "code",
      "metadata": {
        "id": "-2U0fjx6aCWt",
        "colab_type": "code",
        "colab": {
          "base_uri": "https://localhost:8080/",
          "height": 35
        },
        "outputId": "75c6eba9-fd43-4b1e-eaa4-5fbc7c97e435"
      },
      "source": [
        "Sex_mapeado = dict(zip(lSex.classes_, lSex.transform(lSex.classes_)))\n",
        "print(Sex_mapeado)"
      ],
      "execution_count": 12,
      "outputs": [
        {
          "output_type": "stream",
          "text": [
            "{'female': 0, 'male': 1}\n"
          ],
          "name": "stdout"
        }
      ]
    },
    {
      "cell_type": "markdown",
      "metadata": {
        "id": "QZsrOx_AbN94",
        "colab_type": "text"
      },
      "source": [
        "# Smoker"
      ]
    },
    {
      "cell_type": "code",
      "metadata": {
        "id": "J41ZvaG4bQN0",
        "colab_type": "code",
        "colab": {}
      },
      "source": [
        "lsmoker= preprocessing.LabelEncoder() \n",
        "lsmoker = lsmoker.fit(df['smoker'])\n",
        "df['smoker'] = lsmoker.transform(df['smoker'])"
      ],
      "execution_count": 0,
      "outputs": []
    },
    {
      "cell_type": "code",
      "metadata": {
        "id": "ztEaOvtkbnBx",
        "colab_type": "code",
        "colab": {
          "base_uri": "https://localhost:8080/",
          "height": 72
        },
        "outputId": "c4b27e5a-bb02-450e-ed74-3f5c4cfaab7e"
      },
      "source": [
        "df['smoker'].value_counts()"
      ],
      "execution_count": 14,
      "outputs": [
        {
          "output_type": "execute_result",
          "data": {
            "text/plain": [
              "0    1064\n",
              "1     274\n",
              "Name: smoker, dtype: int64"
            ]
          },
          "metadata": {
            "tags": []
          },
          "execution_count": 14
        }
      ]
    },
    {
      "cell_type": "code",
      "metadata": {
        "id": "kMO0UU1abrao",
        "colab_type": "code",
        "colab": {
          "base_uri": "https://localhost:8080/",
          "height": 198
        },
        "outputId": "d8aabd62-685f-4f92-caba-93d4e0bc5fb8"
      },
      "source": [
        "df.head()"
      ],
      "execution_count": 15,
      "outputs": [
        {
          "output_type": "execute_result",
          "data": {
            "text/html": [
              "<div>\n",
              "<style scoped>\n",
              "    .dataframe tbody tr th:only-of-type {\n",
              "        vertical-align: middle;\n",
              "    }\n",
              "\n",
              "    .dataframe tbody tr th {\n",
              "        vertical-align: top;\n",
              "    }\n",
              "\n",
              "    .dataframe thead th {\n",
              "        text-align: right;\n",
              "    }\n",
              "</style>\n",
              "<table border=\"1\" class=\"dataframe\">\n",
              "  <thead>\n",
              "    <tr style=\"text-align: right;\">\n",
              "      <th></th>\n",
              "      <th>age</th>\n",
              "      <th>sex</th>\n",
              "      <th>bmi</th>\n",
              "      <th>children</th>\n",
              "      <th>smoker</th>\n",
              "      <th>region</th>\n",
              "      <th>charges</th>\n",
              "    </tr>\n",
              "  </thead>\n",
              "  <tbody>\n",
              "    <tr>\n",
              "      <th>0</th>\n",
              "      <td>19</td>\n",
              "      <td>0</td>\n",
              "      <td>27.900</td>\n",
              "      <td>0</td>\n",
              "      <td>1</td>\n",
              "      <td>southwest</td>\n",
              "      <td>16884.92400</td>\n",
              "    </tr>\n",
              "    <tr>\n",
              "      <th>1</th>\n",
              "      <td>18</td>\n",
              "      <td>1</td>\n",
              "      <td>33.770</td>\n",
              "      <td>1</td>\n",
              "      <td>0</td>\n",
              "      <td>southeast</td>\n",
              "      <td>1725.55230</td>\n",
              "    </tr>\n",
              "    <tr>\n",
              "      <th>2</th>\n",
              "      <td>28</td>\n",
              "      <td>1</td>\n",
              "      <td>33.000</td>\n",
              "      <td>3</td>\n",
              "      <td>0</td>\n",
              "      <td>southeast</td>\n",
              "      <td>4449.46200</td>\n",
              "    </tr>\n",
              "    <tr>\n",
              "      <th>3</th>\n",
              "      <td>33</td>\n",
              "      <td>1</td>\n",
              "      <td>22.705</td>\n",
              "      <td>0</td>\n",
              "      <td>0</td>\n",
              "      <td>northwest</td>\n",
              "      <td>21984.47061</td>\n",
              "    </tr>\n",
              "    <tr>\n",
              "      <th>4</th>\n",
              "      <td>32</td>\n",
              "      <td>1</td>\n",
              "      <td>28.880</td>\n",
              "      <td>0</td>\n",
              "      <td>0</td>\n",
              "      <td>northwest</td>\n",
              "      <td>3866.85520</td>\n",
              "    </tr>\n",
              "  </tbody>\n",
              "</table>\n",
              "</div>"
            ],
            "text/plain": [
              "   age  sex     bmi  children  smoker     region      charges\n",
              "0   19    0  27.900         0       1  southwest  16884.92400\n",
              "1   18    1  33.770         1       0  southeast   1725.55230\n",
              "2   28    1  33.000         3       0  southeast   4449.46200\n",
              "3   33    1  22.705         0       0  northwest  21984.47061\n",
              "4   32    1  28.880         0       0  northwest   3866.85520"
            ]
          },
          "metadata": {
            "tags": []
          },
          "execution_count": 15
        }
      ]
    },
    {
      "cell_type": "code",
      "metadata": {
        "id": "JBrmhd2Lbtfr",
        "colab_type": "code",
        "colab": {
          "base_uri": "https://localhost:8080/",
          "height": 35
        },
        "outputId": "2cf990f3-112f-40aa-bf2e-0af280eaabc1"
      },
      "source": [
        "lsmoker_mapeado = dict(zip(lsmoker.classes_, lsmoker.transform(lsmoker.classes_)))\n",
        "print(lsmoker_mapeado)"
      ],
      "execution_count": 16,
      "outputs": [
        {
          "output_type": "stream",
          "text": [
            "{'no': 0, 'yes': 1}\n"
          ],
          "name": "stdout"
        }
      ]
    },
    {
      "cell_type": "markdown",
      "metadata": {
        "id": "6d81wqxXcNL3",
        "colab_type": "text"
      },
      "source": [
        "# Region"
      ]
    },
    {
      "cell_type": "code",
      "metadata": {
        "id": "ioOt-WYIcRHo",
        "colab_type": "code",
        "colab": {}
      },
      "source": [
        "lregion= preprocessing.LabelEncoder() \n",
        "lregion = lregion.fit(df['region'])\n",
        "df['region'] = lregion.transform(df['region'])"
      ],
      "execution_count": 0,
      "outputs": []
    },
    {
      "cell_type": "code",
      "metadata": {
        "id": "bnJ5UHopcW53",
        "colab_type": "code",
        "colab": {
          "base_uri": "https://localhost:8080/",
          "height": 108
        },
        "outputId": "61c1116d-fb6e-4340-87cd-2e4541fcc8a2"
      },
      "source": [
        "df['region'].value_counts()"
      ],
      "execution_count": 18,
      "outputs": [
        {
          "output_type": "execute_result",
          "data": {
            "text/plain": [
              "2    364\n",
              "3    325\n",
              "1    325\n",
              "0    324\n",
              "Name: region, dtype: int64"
            ]
          },
          "metadata": {
            "tags": []
          },
          "execution_count": 18
        }
      ]
    },
    {
      "cell_type": "code",
      "metadata": {
        "id": "I-WAHDu7cbIe",
        "colab_type": "code",
        "colab": {
          "base_uri": "https://localhost:8080/",
          "height": 198
        },
        "outputId": "759668e4-adfb-48bf-b9d1-0d61fd35d8f8"
      },
      "source": [
        "df.head()"
      ],
      "execution_count": 19,
      "outputs": [
        {
          "output_type": "execute_result",
          "data": {
            "text/html": [
              "<div>\n",
              "<style scoped>\n",
              "    .dataframe tbody tr th:only-of-type {\n",
              "        vertical-align: middle;\n",
              "    }\n",
              "\n",
              "    .dataframe tbody tr th {\n",
              "        vertical-align: top;\n",
              "    }\n",
              "\n",
              "    .dataframe thead th {\n",
              "        text-align: right;\n",
              "    }\n",
              "</style>\n",
              "<table border=\"1\" class=\"dataframe\">\n",
              "  <thead>\n",
              "    <tr style=\"text-align: right;\">\n",
              "      <th></th>\n",
              "      <th>age</th>\n",
              "      <th>sex</th>\n",
              "      <th>bmi</th>\n",
              "      <th>children</th>\n",
              "      <th>smoker</th>\n",
              "      <th>region</th>\n",
              "      <th>charges</th>\n",
              "    </tr>\n",
              "  </thead>\n",
              "  <tbody>\n",
              "    <tr>\n",
              "      <th>0</th>\n",
              "      <td>19</td>\n",
              "      <td>0</td>\n",
              "      <td>27.900</td>\n",
              "      <td>0</td>\n",
              "      <td>1</td>\n",
              "      <td>3</td>\n",
              "      <td>16884.92400</td>\n",
              "    </tr>\n",
              "    <tr>\n",
              "      <th>1</th>\n",
              "      <td>18</td>\n",
              "      <td>1</td>\n",
              "      <td>33.770</td>\n",
              "      <td>1</td>\n",
              "      <td>0</td>\n",
              "      <td>2</td>\n",
              "      <td>1725.55230</td>\n",
              "    </tr>\n",
              "    <tr>\n",
              "      <th>2</th>\n",
              "      <td>28</td>\n",
              "      <td>1</td>\n",
              "      <td>33.000</td>\n",
              "      <td>3</td>\n",
              "      <td>0</td>\n",
              "      <td>2</td>\n",
              "      <td>4449.46200</td>\n",
              "    </tr>\n",
              "    <tr>\n",
              "      <th>3</th>\n",
              "      <td>33</td>\n",
              "      <td>1</td>\n",
              "      <td>22.705</td>\n",
              "      <td>0</td>\n",
              "      <td>0</td>\n",
              "      <td>1</td>\n",
              "      <td>21984.47061</td>\n",
              "    </tr>\n",
              "    <tr>\n",
              "      <th>4</th>\n",
              "      <td>32</td>\n",
              "      <td>1</td>\n",
              "      <td>28.880</td>\n",
              "      <td>0</td>\n",
              "      <td>0</td>\n",
              "      <td>1</td>\n",
              "      <td>3866.85520</td>\n",
              "    </tr>\n",
              "  </tbody>\n",
              "</table>\n",
              "</div>"
            ],
            "text/plain": [
              "   age  sex     bmi  children  smoker  region      charges\n",
              "0   19    0  27.900         0       1       3  16884.92400\n",
              "1   18    1  33.770         1       0       2   1725.55230\n",
              "2   28    1  33.000         3       0       2   4449.46200\n",
              "3   33    1  22.705         0       0       1  21984.47061\n",
              "4   32    1  28.880         0       0       1   3866.85520"
            ]
          },
          "metadata": {
            "tags": []
          },
          "execution_count": 19
        }
      ]
    },
    {
      "cell_type": "code",
      "metadata": {
        "id": "9HToKfo8ceDR",
        "colab_type": "code",
        "colab": {
          "base_uri": "https://localhost:8080/",
          "height": 35
        },
        "outputId": "a45a6d1c-3cee-41d0-f8f4-e8b8fefad0bb"
      },
      "source": [
        "lregion_mapeado = dict(zip(lregion.classes_, lregion.transform(lregion.classes_)))\n",
        "print(lregion_mapeado)"
      ],
      "execution_count": 20,
      "outputs": [
        {
          "output_type": "stream",
          "text": [
            "{'northeast': 0, 'northwest': 1, 'southeast': 2, 'southwest': 3}\n"
          ],
          "name": "stdout"
        }
      ]
    },
    {
      "cell_type": "markdown",
      "metadata": {
        "id": "ytE8NlywG-jE",
        "colab_type": "text"
      },
      "source": [
        "##Detección de Outliers"
      ]
    },
    {
      "cell_type": "markdown",
      "metadata": {
        "id": "H_ohbA6KHIEb",
        "colab_type": "text"
      },
      "source": [
        "Gráfique un boxplot de los datos del dataset"
      ]
    },
    {
      "cell_type": "markdown",
      "metadata": {
        "id": "f3DrQJ2vdbFv",
        "colab_type": "text"
      },
      "source": [
        "### boxplot"
      ]
    },
    {
      "cell_type": "code",
      "metadata": {
        "id": "Aom6NN_rdelA",
        "colab_type": "code",
        "colab": {
          "base_uri": "https://localhost:8080/",
          "height": 501
        },
        "outputId": "84c2a675-30d0-4825-8b61-9ad100448b7e"
      },
      "source": [
        "df.drop(\"region\",axis=1).boxplot(figsize=(10,8))\n"
      ],
      "execution_count": 22,
      "outputs": [
        {
          "output_type": "execute_result",
          "data": {
            "text/plain": [
              "<matplotlib.axes._subplots.AxesSubplot at 0x7f4a274334a8>"
            ]
          },
          "metadata": {
            "tags": []
          },
          "execution_count": 22
        },
        {
          "output_type": "display_data",
          "data": {
            "image/png": "[encoded data removed]",
            "text/plain": [
              "<Figure size 720x576 with 1 Axes>"
            ]
          },
          "metadata": {
            "tags": []
          }
        }
      ]
    },
    {
      "cell_type": "code",
      "metadata": {
        "id": "JOXy4XtketIX",
        "colab_type": "code",
        "colab": {
          "base_uri": "https://localhost:8080/",
          "height": 501
        },
        "outputId": "1ae35d4d-dfb9-40d6-b267-56ce74ffa096"
      },
      "source": [
        "df.drop(\"charges\",axis=1).boxplot(figsize=(10,8))\n"
      ],
      "execution_count": 23,
      "outputs": [
        {
          "output_type": "execute_result",
          "data": {
            "text/plain": [
              "<matplotlib.axes._subplots.AxesSubplot at 0x7f4a26e1c080>"
            ]
          },
          "metadata": {
            "tags": []
          },
          "execution_count": 23
        },
        {
          "output_type": "display_data",
          "data": {
            "image/png": "[encoded data removed]",
            "text/plain": [
              "<Figure size 720x576 with 1 Axes>"
            ]
          },
          "metadata": {
            "tags": []
          }
        }
      ]
    },
    {
      "cell_type": "markdown",
      "metadata": {
        "id": "PT6W9jGmHPJC",
        "colab_type": "text"
      },
      "source": [
        "###IRQ"
      ]
    },
    {
      "cell_type": "markdown",
      "metadata": {
        "id": "fr07TafeHSJE",
        "colab_type": "text"
      },
      "source": [
        "Solo una columna presenta outliers, halle su IRQ y halle el tamaño del dataframe modificado"
      ]
    },
    {
      "cell_type": "code",
      "metadata": {
        "id": "WL1NhIUufZCr",
        "colab_type": "code",
        "colab": {
          "base_uri": "https://localhost:8080/",
          "height": 163
        },
        "outputId": "e1c637e8-3115-405f-b3b6-1d793640b875"
      },
      "source": [
        "# IRQ\n",
        "Q1 = df.quantile(0.25)\n",
        "Q3 = df.quantile(0.75)\n",
        "IQR = Q3 - Q1\n",
        "print(IQR)"
      ],
      "execution_count": 24,
      "outputs": [
        {
          "output_type": "stream",
          "text": [
            "age            24.000000\n",
            "sex             1.000000\n",
            "bmi             8.397500\n",
            "children        2.000000\n",
            "smoker          0.000000\n",
            "region          1.000000\n",
            "charges     11899.625365\n",
            "dtype: float64\n"
          ],
          "name": "stdout"
        }
      ]
    },
    {
      "cell_type": "code",
      "metadata": {
        "id": "WmNHOIQVfj_4",
        "colab_type": "code",
        "colab": {}
      },
      "source": [
        "df_modificado = df[~((df < (Q1 - 1.5 * IQR)) |(df > (Q3 + 1.5 * IQR))).any(axis=1)]\n"
      ],
      "execution_count": 0,
      "outputs": []
    },
    {
      "cell_type": "code",
      "metadata": {
        "id": "LA_W05dffqe7",
        "colab_type": "code",
        "colab": {
          "base_uri": "https://localhost:8080/",
          "height": 35
        },
        "outputId": "f5831cc4-4ec3-40f2-e5ce-6f879a53425e"
      },
      "source": [
        "# AL INICIO ES:\n",
        "df.shape\n"
      ],
      "execution_count": 26,
      "outputs": [
        {
          "output_type": "execute_result",
          "data": {
            "text/plain": [
              "(1338, 7)"
            ]
          },
          "metadata": {
            "tags": []
          },
          "execution_count": 26
        }
      ]
    },
    {
      "cell_type": "code",
      "metadata": {
        "id": "xOhXxOlOft7z",
        "colab_type": "code",
        "colab": {
          "base_uri": "https://localhost:8080/",
          "height": 35
        },
        "outputId": "46899bc3-e149-45c2-fcfa-2bf5a7d578dc"
      },
      "source": [
        "# MODIFICADO\n",
        "df_modificado.shape"
      ],
      "execution_count": 27,
      "outputs": [
        {
          "output_type": "execute_result",
          "data": {
            "text/plain": [
              "(1055, 7)"
            ]
          },
          "metadata": {
            "tags": []
          },
          "execution_count": 27
        }
      ]
    },
    {
      "cell_type": "code",
      "metadata": {
        "id": "puxRWH6Sf5fz",
        "colab_type": "code",
        "colab": {
          "base_uri": "https://localhost:8080/",
          "height": 631
        },
        "outputId": "e9abbe2c-96f9-48dd-da68-989834b77ed3"
      },
      "source": [
        "df_modificado.boxplot(figsize=(13,10))"
      ],
      "execution_count": 28,
      "outputs": [
        {
          "output_type": "execute_result",
          "data": {
            "text/plain": [
              "<matplotlib.axes._subplots.AxesSubplot at 0x7f4a26d2d908>"
            ]
          },
          "metadata": {
            "tags": []
          },
          "execution_count": 28
        },
        {
          "output_type": "display_data",
          "data": {
            "image/png": "[encoded data removed]",
            "text/plain": [
              "<Figure size 936x720 with 1 Axes>"
            ]
          },
          "metadata": {
            "tags": []
          }
        }
      ]
    },
    {
      "cell_type": "markdown",
      "metadata": {
        "id": "cunMXJ6NfVq1",
        "colab_type": "text"
      },
      "source": [
        ""
      ]
    },
    {
      "cell_type": "markdown",
      "metadata": {
        "id": "MY85OPo_Hy7o",
        "colab_type": "text"
      },
      "source": [
        "###Z-Score"
      ]
    },
    {
      "cell_type": "markdown",
      "metadata": {
        "id": "kkdzgE38H7VD",
        "colab_type": "text"
      },
      "source": [
        "Utilice el método Z-Score para eliminar outliers y halle el tamaño del dataframe modificado"
      ]
    },
    {
      "cell_type": "code",
      "metadata": {
        "id": "ZJipBL7WgUHn",
        "colab_type": "code",
        "colab": {}
      },
      "source": [
        "# TRABAJAR CON LA DATA INICIAL\n",
        "from scipy import stats\n",
        "import numpy as np\n",
        "z = np.abs(stats.zscore(df))"
      ],
      "execution_count": 0,
      "outputs": []
    },
    {
      "cell_type": "code",
      "metadata": {
        "id": "p19B_iz4gYq2",
        "colab_type": "code",
        "colab": {}
      },
      "source": [
        "\n",
        "df_z = df[(z < 3).all(axis=1)]"
      ],
      "execution_count": 0,
      "outputs": []
    },
    {
      "cell_type": "code",
      "metadata": {
        "id": "748iQpXhuUiE",
        "colab_type": "code",
        "colab": {
          "base_uri": "https://localhost:8080/",
          "height": 35
        },
        "outputId": "d66f555b-79a7-45e2-d471-9012ef3cba3f"
      },
      "source": [
        "# DATA MODIFICADA \n",
        "df_z.shape"
      ],
      "execution_count": 31,
      "outputs": [
        {
          "output_type": "execute_result",
          "data": {
            "text/plain": [
              "(1309, 7)"
            ]
          },
          "metadata": {
            "tags": []
          },
          "execution_count": 31
        }
      ]
    },
    {
      "cell_type": "code",
      "metadata": {
        "id": "W6mfQhyVgm3Y",
        "colab_type": "code",
        "colab": {
          "base_uri": "https://localhost:8080/",
          "height": 35
        },
        "outputId": "7b2df8e4-805c-4a43-d3bb-6c9e15dac91b"
      },
      "source": [
        "# DATA INICIAL\n",
        "df.shape"
      ],
      "execution_count": 32,
      "outputs": [
        {
          "output_type": "execute_result",
          "data": {
            "text/plain": [
              "(1338, 7)"
            ]
          },
          "metadata": {
            "tags": []
          },
          "execution_count": 32
        }
      ]
    },
    {
      "cell_type": "code",
      "metadata": {
        "id": "_7EQix5ngr1n",
        "colab_type": "code",
        "colab": {
          "base_uri": "https://localhost:8080/",
          "height": 630
        },
        "outputId": "4582babf-95b8-4a2a-ce90-c6bab5f05c44"
      },
      "source": [
        "df_z.boxplot(figsize=(13,10))"
      ],
      "execution_count": 33,
      "outputs": [
        {
          "output_type": "execute_result",
          "data": {
            "text/plain": [
              "<matplotlib.axes._subplots.AxesSubplot at 0x7f4a259ef6d8>"
            ]
          },
          "metadata": {
            "tags": []
          },
          "execution_count": 33
        },
        {
          "output_type": "display_data",
          "data": {
            "image/png": "[encoded data removed]",
            "text/plain": [
              "<Figure size 936x720 with 1 Axes>"
            ]
          },
          "metadata": {
            "tags": []
          }
        }
      ]
    },
    {
      "cell_type": "markdown",
      "metadata": {
        "id": "Ft8yDANwIGZu",
        "colab_type": "text"
      },
      "source": [
        "##Separar Data"
      ]
    },
    {
      "cell_type": "markdown",
      "metadata": {
        "id": "0XfqDJ4SIVZB",
        "colab_type": "text"
      },
      "source": [
        "Separe la data en X - y y luego en Data train y Data test"
      ]
    },
    {
      "cell_type": "code",
      "metadata": {
        "id": "w68dolY0TXAB",
        "colab_type": "code",
        "colab": {}
      },
      "source": [
        "X = df_z.drop('charges',axis = 1)\n",
        "y = df_z['charges']"
      ],
      "execution_count": 0,
      "outputs": []
    },
    {
      "cell_type": "code",
      "metadata": {
        "id": "y1bndXjuhoXN",
        "colab_type": "code",
        "colab": {
          "base_uri": "https://localhost:8080/",
          "height": 54
        },
        "outputId": "c60942eb-6ae1-4851-a38b-eb37be9d1a7f"
      },
      "source": [
        "from sklearn.model_selection import train_test_split\n",
        "X_train, X_test, y_train, y_test = train_test_split(X, y, test_size=0.20,random_state = 2)\n",
        "print(\"X_train shape:\",X_train.shape)\n",
        "print(\"X_test shape:\",X_test.shape)"
      ],
      "execution_count": 35,
      "outputs": [
        {
          "output_type": "stream",
          "text": [
            "X_train shape: (1047, 6)\n",
            "X_test shape: (262, 6)\n"
          ],
          "name": "stdout"
        }
      ]
    },
    {
      "cell_type": "markdown",
      "metadata": {
        "id": "S26ggMNDht7t",
        "colab_type": "text"
      },
      "source": [
        "### -estandarizar"
      ]
    },
    {
      "cell_type": "code",
      "metadata": {
        "id": "toGd5-nohyZO",
        "colab_type": "code",
        "colab": {}
      },
      "source": [
        "from sklearn.preprocessing import StandardScaler\n",
        "scaler = StandardScaler()\n",
        "scaler.fit(X_train)\n",
        "X_train = pd.DataFrame(scaler.transform(X_train))\n",
        "X_test = pd.DataFrame(scaler.transform(X_test))"
      ],
      "execution_count": 0,
      "outputs": []
    },
    {
      "cell_type": "markdown",
      "metadata": {
        "id": "dlVvOCVNNuSN",
        "colab_type": "text"
      },
      "source": [
        "##Elección del mejor método"
      ]
    },
    {
      "cell_type": "markdown",
      "metadata": {
        "id": "g6dQ1N_zN0wp",
        "colab_type": "text"
      },
      "source": [
        "Evaluaremos los 3 dataframes para regresión lineal modificando el X para hallar la mejor opción por medio del cross validation, ¿Cúal resultó con mejor score?"
      ]
    },
    {
      "cell_type": "code",
      "metadata": {
        "colab_type": "code",
        "id": "Lgw4GzHKNsMV",
        "colab": {}
      },
      "source": [
        "from sklearn.model_selection import KFold\n",
        "from sklearn import metrics\n",
        "NSplits = 10\n",
        "kf = KFold(n_splits=NSplits)\n",
        "kf.get_n_splits(X)\n",
        "print(kf)"
      ],
      "execution_count": 0,
      "outputs": []
    },
    {
      "cell_type": "code",
      "metadata": {
        "id": "FQVZo08S8irc",
        "colab_type": "code",
        "colab": {}
      },
      "source": [
        "AccTotal = 0\n",
        "for train_index, test_index in kf.split(X):\n",
        "  #print(\"TRAIN:\", train_index, \"TEST:\", test_index)\n",
        "  X_train_cv, X_test_cv = X.iloc[train_index], X.iloc[test_index]\n",
        "  y_train_cv, y_test_cv = y.iloc[train_index], y.iloc[test_index]\n",
        "  \n",
        "  reg = LinearRegression()\n",
        "  reg.fit(X_train_cv,y_train_cv)\n",
        "\n",
        "  AccFolder = reg.score(X_test_cv, y_test_cv)*100\n",
        "  print(\"Accuracy Folder\", AccFolder)\n",
        "  \n",
        "  AccTotal += AccFolder\n",
        "  \n",
        "print(\"Accuracy General:\", AccTotal/NSplits)"
      ],
      "execution_count": 0,
      "outputs": []
    },
    {
      "cell_type": "markdown",
      "metadata": {
        "id": "5FhsF8DgOjuf",
        "colab_type": "text"
      },
      "source": [
        "Una vez elegimos nuestro método, entrenaremos nuestra regresión lineal"
      ]
    },
    {
      "cell_type": "markdown",
      "metadata": {
        "id": "RWa-dLueIUTU",
        "colab_type": "text"
      },
      "source": [
        "##Estandarizar los datos"
      ]
    },
    {
      "cell_type": "markdown",
      "metadata": {
        "id": "cP1TwBEBI2Z_",
        "colab_type": "text"
      },
      "source": [
        "Para realizar un modelo de regresión lineal es recomendable estandarizar los datos"
      ]
    },
    {
      "cell_type": "markdown",
      "metadata": {
        "id": "oNYlnLpLIeHA",
        "colab_type": "text"
      },
      "source": [
        "##Regresión Lineal"
      ]
    },
    {
      "cell_type": "markdown",
      "metadata": {
        "id": "vdAuFotIIgal",
        "colab_type": "text"
      },
      "source": [
        "Realice la regresión lineal y halle el score de train y test"
      ]
    },
    {
      "cell_type": "code",
      "metadata": {
        "id": "_aU6cc9oTl-W",
        "colab_type": "code",
        "colab": {}
      },
      "source": [
        ""
      ],
      "execution_count": 0,
      "outputs": []
    },
    {
      "cell_type": "markdown",
      "metadata": {
        "id": "mzNXnNSFJExC",
        "colab_type": "text"
      },
      "source": [
        "###Analizando la regresión lineal"
      ]
    },
    {
      "cell_type": "markdown",
      "metadata": {
        "id": "ra5md2c0JJlS",
        "colab_type": "text"
      },
      "source": [
        "Halle los coeficientes y el intercepto de la regresión lineal, ¿Cúal seria la formula?"
      ]
    },
    {
      "cell_type": "code",
      "metadata": {
        "id": "UChigbNBToNg",
        "colab_type": "code",
        "colab": {}
      },
      "source": [
        ""
      ],
      "execution_count": 0,
      "outputs": []
    },
    {
      "cell_type": "markdown",
      "metadata": {
        "id": "mxDRw5MtL7OW",
        "colab_type": "text"
      },
      "source": [
        "Grafique diagramas de dispersión de relaciones entre las variables con la ayuda de la librería seaborn y la funcion pairplot"
      ]
    },
    {
      "cell_type": "code",
      "metadata": {
        "id": "lKPTMygzTpd4",
        "colab_type": "code",
        "colab": {}
      },
      "source": [
        ""
      ],
      "execution_count": 0,
      "outputs": []
    },
    {
      "cell_type": "markdown",
      "metadata": {
        "id": "snmrz9KTPEqX",
        "colab_type": "text"
      },
      "source": [
        "##KNN Regresion"
      ]
    },
    {
      "cell_type": "markdown",
      "metadata": {
        "id": "MxaLIL77PHY4",
        "colab_type": "text"
      },
      "source": [
        "Para trabajar con KNN es recomendable normalizar la data"
      ]
    },
    {
      "cell_type": "markdown",
      "metadata": {
        "id": "iLrR6KHBPL4C",
        "colab_type": "text"
      },
      "source": [
        "###Normalizar Data"
      ]
    },
    {
      "cell_type": "code",
      "metadata": {
        "id": "GO5ixmIsTqYO",
        "colab_type": "code",
        "colab": {}
      },
      "source": [
        ""
      ],
      "execution_count": 0,
      "outputs": []
    },
    {
      "cell_type": "markdown",
      "metadata": {
        "id": "qf3XsycpPU3q",
        "colab_type": "text"
      },
      "source": [
        "###Hallando el mejor K"
      ]
    },
    {
      "cell_type": "markdown",
      "metadata": {
        "id": "vJj11jJ3c6h_",
        "colab_type": "text"
      },
      "source": [
        "\n",
        "\n",
        "Buscar el mejor método y métrica para obtener el mayor score, anotar para cada uno con el mejor K (n_neighbors).\n",
        "\n",
        "\n",
        "1.   weights: **uniform** ->\n",
        "2.   weights: **distance** metric: **euclidean** ->\n",
        "3.   weights: **distance** metric: **manhattan** ->\n",
        "4.   weights: **distance** metric: **cosine** ->\n",
        "5.   weights: **distance** metric: **minkowski** ->\n",
        "\n",
        "\n",
        "\n",
        "\n",
        "\n",
        "\n"
      ]
    },
    {
      "cell_type": "code",
      "metadata": {
        "id": "Ibvtj9mu-NiW",
        "colab_type": "code",
        "colab": {}
      },
      "source": [
        "from sklearn.neighbors import KNeighborsRegressor\n",
        "neigh = KNeighborsRegressor(n_neighbors=11,weights='distance',metric='euclidean')\n",
        "neigh.fit(X_train, y_train)"
      ],
      "execution_count": 0,
      "outputs": []
    },
    {
      "cell_type": "code",
      "metadata": {
        "id": "rf142C4KPYj0",
        "colab_type": "code",
        "colab": {}
      },
      "source": [
        "neigh.score(X_test,y_test)"
      ],
      "execution_count": 0,
      "outputs": []
    },
    {
      "cell_type": "code",
      "metadata": {
        "id": "Q739pYsT-QEX",
        "colab_type": "code",
        "colab": {}
      },
      "source": [
        "max_depth_range = list(range(2, 15))\n",
        "accuracy_KNN = []\n",
        "for depth in max_depth_range:\n",
        "    neigh = KNeighborsRegressor(n_neighbors=depth,weights='distance',metric='euclidean') #Cambiar aquí\n",
        "    neigh.fit(X_train, y_train)  \n",
        "    score = neigh.score(X_test, y_test)\n",
        "    \n",
        "    accuracy_KNN.append(score)"
      ],
      "execution_count": 0,
      "outputs": []
    },
    {
      "cell_type": "code",
      "metadata": {
        "id": "GcOq6Vp6-RTm",
        "colab_type": "code",
        "colab": {}
      },
      "source": [
        "import matplotlib.pyplot as plt\n",
        "%matplotlib inline\n",
        "plt.plot(accuracy_KNN)\n",
        "plt.xticks(list(range(len(max_depth_range))),max_depth_range)\n",
        "plt.grid()\n",
        "plt.show()"
      ],
      "execution_count": 0,
      "outputs": []
    },
    {
      "cell_type": "markdown",
      "metadata": {
        "id": "pGsSMxYiQiJr",
        "colab_type": "text"
      },
      "source": [
        "##KNN Regression - Cross Validation"
      ]
    },
    {
      "cell_type": "code",
      "metadata": {
        "id": "Hz6wGgw-jlJ8",
        "colab_type": "code",
        "colab": {}
      },
      "source": [
        "from sklearn.preprocessing import MinMaxScaler\n",
        "scaler = MinMaxScaler()\n",
        "X = pd.DataFrame(scaler.fit_transform(X))"
      ],
      "execution_count": 0,
      "outputs": []
    },
    {
      "cell_type": "code",
      "metadata": {
        "id": "Y2L6FfVMjhH3",
        "colab_type": "code",
        "colab": {}
      },
      "source": [
        "from sklearn.model_selection import KFold\n",
        "from sklearn import metrics\n",
        "NSplits = 10\n",
        "kf = KFold(n_splits=NSplits)\n",
        "kf.get_n_splits(X)\n",
        "print(kf)"
      ],
      "execution_count": 0,
      "outputs": []
    },
    {
      "cell_type": "code",
      "metadata": {
        "id": "QRhCeUcLjikW",
        "colab_type": "code",
        "colab": {}
      },
      "source": [
        "AccTotal = 0\n",
        "for train_index, test_index in kf.split(X):\n",
        "  #print(\"TRAIN:\", train_index, \"TEST:\", test_index)\n",
        "  X_train_cv, X_test_cv = X.iloc[train_index], X.iloc[test_index]\n",
        "  y_train_cv, y_test_cv = y.iloc[train_index], y.iloc[test_index]\n",
        "  \n",
        "  neigh = KNeighborsRegressor(n_neighbors=3,weights='distance',metric='euclidean') #Cambiar aqui\n",
        "  neigh.fit(X_train_cv, y_train_cv)\n",
        "\n",
        "  AccFolder = neigh.score(X_test_cv, y_test_cv)*100\n",
        "  print(\"Accuracy Folder\", AccFolder)\n",
        "  \n",
        "  AccTotal += AccFolder\n",
        "  \n",
        "print(\"Accuracy General:\", AccTotal/NSplits)"
      ],
      "execution_count": 0,
      "outputs": []
    },
    {
      "cell_type": "markdown",
      "metadata": {
        "id": "RI9bXFrmQ0U1",
        "colab_type": "text"
      },
      "source": [
        "##KNN Regression vs Linear Regression"
      ]
    },
    {
      "cell_type": "markdown",
      "metadata": {
        "id": "SQLtGJqxSU-v",
        "colab_type": "text"
      },
      "source": [
        "Existen otras métricas de comparación para las regresiones, puede encontrarlas en el siguiente link:\n",
        "[texto del enlace](http://sitiobigdata.com/2018/08/27/machine-learning-metricas-regresion-mse/)"
      ]
    },
    {
      "cell_type": "markdown",
      "metadata": {
        "id": "aaEEt29KSfjl",
        "colab_type": "text"
      },
      "source": [
        "###¿Cúal método de predicción vamos a utilizar para esta Data? ¿KNN o Regresión Lineal? ¿Por qué?"
      ]
    }
  ]
}