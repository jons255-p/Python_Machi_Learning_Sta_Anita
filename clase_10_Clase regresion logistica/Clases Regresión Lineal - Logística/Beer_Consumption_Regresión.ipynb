{
  "nbformat": 4,
  "nbformat_minor": 0,
  "metadata": {
    "colab": {
      "name": "Beer Consumption - Regresión.ipynb",
      "provenance": [],
      "collapsed_sections": []
    },
    "kernelspec": {
      "name": "python3",
      "display_name": "Python 3"
    }
  },
  "cells": [
    {
      "cell_type": "markdown",
      "metadata": {
        "id": "WebpqomX56es",
        "colab_type": "text"
      },
      "source": [
        "##Beer Consumption - Sao Paulo"
      ]
    },
    {
      "cell_type": "markdown",
      "metadata": {
        "id": "u_aoltiT5s9J",
        "colab_type": "text"
      },
      "source": [
        "Beer is one of the most democratic and consumed drinks in the world. Not without reason, it is perfect for almost every situation, from happy hour to large wedding parties. If you just think about it, you already feel like having a beer, you’re not alone.\n",
        "\n",
        "The objective of this work will be to demonstrate the impacts of variables on beer consumption in a given region and the consumption forecast for certain scenarios. The data (sample) were collected in São Paulo — Brazil, in a university area, where there are some parties with groups of students from 18 to 28 years of age (average)."
      ]
    },
    {
      "cell_type": "markdown",
      "metadata": {
        "id": "yW2JOJkx6Lur",
        "colab_type": "text"
      },
      "source": [
        "###Importar Data"
      ]
    },
    {
      "cell_type": "code",
      "metadata": {
        "id": "fhXiZCxc5pqW",
        "colab_type": "code",
        "colab": {}
      },
      "source": [
        "import pandas as pd"
      ],
      "execution_count": 0,
      "outputs": []
    },
    {
      "cell_type": "code",
      "metadata": {
        "id": "f1PBftUs6ZR5",
        "colab_type": "code",
        "colab": {
          "base_uri": "https://localhost:8080/",
          "height": 206
        },
        "outputId": "f8a2f43a-c8b3-4044-991a-023939489dcf"
      },
      "source": [
        "df = pd.read_csv(\"Consumo_cerveja(2).csv\",decimal=',')\n",
        "df.head()"
      ],
      "execution_count": 97,
      "outputs": [
        {
          "output_type": "execute_result",
          "data": {
            "text/html": [
              "<div>\n",
              "<style scoped>\n",
              "    .dataframe tbody tr th:only-of-type {\n",
              "        vertical-align: middle;\n",
              "    }\n",
              "\n",
              "    .dataframe tbody tr th {\n",
              "        vertical-align: top;\n",
              "    }\n",
              "\n",
              "    .dataframe thead th {\n",
              "        text-align: right;\n",
              "    }\n",
              "</style>\n",
              "<table border=\"1\" class=\"dataframe\">\n",
              "  <thead>\n",
              "    <tr style=\"text-align: right;\">\n",
              "      <th></th>\n",
              "      <th>Data</th>\n",
              "      <th>Temperatura Media (C)</th>\n",
              "      <th>Temperatura Minima (C)</th>\n",
              "      <th>Temperatura Maxima (C)</th>\n",
              "      <th>Precipitacao (mm)</th>\n",
              "      <th>Final de Semana</th>\n",
              "      <th>Consumo de cerveja (litros)</th>\n",
              "    </tr>\n",
              "  </thead>\n",
              "  <tbody>\n",
              "    <tr>\n",
              "      <th>0</th>\n",
              "      <td>2015-01-01</td>\n",
              "      <td>27.30</td>\n",
              "      <td>23.9</td>\n",
              "      <td>32.5</td>\n",
              "      <td>0.0</td>\n",
              "      <td>0.0</td>\n",
              "      <td>25.461</td>\n",
              "    </tr>\n",
              "    <tr>\n",
              "      <th>1</th>\n",
              "      <td>2015-01-02</td>\n",
              "      <td>27.02</td>\n",
              "      <td>24.5</td>\n",
              "      <td>33.5</td>\n",
              "      <td>0.0</td>\n",
              "      <td>0.0</td>\n",
              "      <td>28.972</td>\n",
              "    </tr>\n",
              "    <tr>\n",
              "      <th>2</th>\n",
              "      <td>2015-01-03</td>\n",
              "      <td>24.82</td>\n",
              "      <td>22.4</td>\n",
              "      <td>29.9</td>\n",
              "      <td>0.0</td>\n",
              "      <td>1.0</td>\n",
              "      <td>30.814</td>\n",
              "    </tr>\n",
              "    <tr>\n",
              "      <th>3</th>\n",
              "      <td>2015-01-04</td>\n",
              "      <td>23.98</td>\n",
              "      <td>21.5</td>\n",
              "      <td>28.6</td>\n",
              "      <td>1.2</td>\n",
              "      <td>1.0</td>\n",
              "      <td>29.799</td>\n",
              "    </tr>\n",
              "    <tr>\n",
              "      <th>4</th>\n",
              "      <td>2015-01-05</td>\n",
              "      <td>23.82</td>\n",
              "      <td>21.0</td>\n",
              "      <td>28.3</td>\n",
              "      <td>0.0</td>\n",
              "      <td>0.0</td>\n",
              "      <td>28.900</td>\n",
              "    </tr>\n",
              "  </tbody>\n",
              "</table>\n",
              "</div>"
            ],
            "text/plain": [
              "         Data  ...  Consumo de cerveja (litros)\n",
              "0  2015-01-01  ...                       25.461\n",
              "1  2015-01-02  ...                       28.972\n",
              "2  2015-01-03  ...                       30.814\n",
              "3  2015-01-04  ...                       29.799\n",
              "4  2015-01-05  ...                       28.900\n",
              "\n",
              "[5 rows x 7 columns]"
            ]
          },
          "metadata": {
            "tags": []
          },
          "execution_count": 97
        }
      ]
    },
    {
      "cell_type": "markdown",
      "metadata": {
        "id": "TkY8V-oJjV_5",
        "colab_type": "text"
      },
      "source": [
        "###Limpieza de Datos"
      ]
    },
    {
      "cell_type": "code",
      "metadata": {
        "id": "QLUWecapAe6y",
        "colab_type": "code",
        "colab": {}
      },
      "source": [
        "del df['Data']"
      ],
      "execution_count": 0,
      "outputs": []
    },
    {
      "cell_type": "code",
      "metadata": {
        "id": "rQVuGSKNAiTQ",
        "colab_type": "code",
        "colab": {
          "base_uri": "https://localhost:8080/",
          "height": 206
        },
        "outputId": "bcf3df4a-9551-481e-f627-43a941e9e562"
      },
      "source": [
        "df.head()"
      ],
      "execution_count": 102,
      "outputs": [
        {
          "output_type": "execute_result",
          "data": {
            "text/html": [
              "<div>\n",
              "<style scoped>\n",
              "    .dataframe tbody tr th:only-of-type {\n",
              "        vertical-align: middle;\n",
              "    }\n",
              "\n",
              "    .dataframe tbody tr th {\n",
              "        vertical-align: top;\n",
              "    }\n",
              "\n",
              "    .dataframe thead th {\n",
              "        text-align: right;\n",
              "    }\n",
              "</style>\n",
              "<table border=\"1\" class=\"dataframe\">\n",
              "  <thead>\n",
              "    <tr style=\"text-align: right;\">\n",
              "      <th></th>\n",
              "      <th>Temperatura Media (C)</th>\n",
              "      <th>Temperatura Minima (C)</th>\n",
              "      <th>Temperatura Maxima (C)</th>\n",
              "      <th>Precipitacao (mm)</th>\n",
              "      <th>Final de Semana</th>\n",
              "      <th>Consumo de cerveja (litros)</th>\n",
              "    </tr>\n",
              "  </thead>\n",
              "  <tbody>\n",
              "    <tr>\n",
              "      <th>0</th>\n",
              "      <td>27.30</td>\n",
              "      <td>23.9</td>\n",
              "      <td>32.5</td>\n",
              "      <td>0.0</td>\n",
              "      <td>0.0</td>\n",
              "      <td>25.461</td>\n",
              "    </tr>\n",
              "    <tr>\n",
              "      <th>1</th>\n",
              "      <td>27.02</td>\n",
              "      <td>24.5</td>\n",
              "      <td>33.5</td>\n",
              "      <td>0.0</td>\n",
              "      <td>0.0</td>\n",
              "      <td>28.972</td>\n",
              "    </tr>\n",
              "    <tr>\n",
              "      <th>2</th>\n",
              "      <td>24.82</td>\n",
              "      <td>22.4</td>\n",
              "      <td>29.9</td>\n",
              "      <td>0.0</td>\n",
              "      <td>1.0</td>\n",
              "      <td>30.814</td>\n",
              "    </tr>\n",
              "    <tr>\n",
              "      <th>3</th>\n",
              "      <td>23.98</td>\n",
              "      <td>21.5</td>\n",
              "      <td>28.6</td>\n",
              "      <td>1.2</td>\n",
              "      <td>1.0</td>\n",
              "      <td>29.799</td>\n",
              "    </tr>\n",
              "    <tr>\n",
              "      <th>4</th>\n",
              "      <td>23.82</td>\n",
              "      <td>21.0</td>\n",
              "      <td>28.3</td>\n",
              "      <td>0.0</td>\n",
              "      <td>0.0</td>\n",
              "      <td>28.900</td>\n",
              "    </tr>\n",
              "  </tbody>\n",
              "</table>\n",
              "</div>"
            ],
            "text/plain": [
              "   Temperatura Media (C)  ...  Consumo de cerveja (litros)\n",
              "0                  27.30  ...                       25.461\n",
              "1                  27.02  ...                       28.972\n",
              "2                  24.82  ...                       30.814\n",
              "3                  23.98  ...                       29.799\n",
              "4                  23.82  ...                       28.900\n",
              "\n",
              "[5 rows x 6 columns]"
            ]
          },
          "metadata": {
            "tags": []
          },
          "execution_count": 102
        }
      ]
    },
    {
      "cell_type": "code",
      "metadata": {
        "id": "jgmaHsMT_4Ce",
        "colab_type": "code",
        "colab": {}
      },
      "source": [
        "df = df.dropna()"
      ],
      "execution_count": 0,
      "outputs": []
    },
    {
      "cell_type": "code",
      "metadata": {
        "id": "kLOyPzu8_-ND",
        "colab_type": "code",
        "colab": {}
      },
      "source": [
        "df['Consumo de cerveja (litros)']=df['Consumo de cerveja (litros)'].astype(float)"
      ],
      "execution_count": 0,
      "outputs": []
    },
    {
      "cell_type": "markdown",
      "metadata": {
        "id": "zRaA-dYWjaOi",
        "colab_type": "text"
      },
      "source": [
        "###Outliers"
      ]
    },
    {
      "cell_type": "markdown",
      "metadata": {
        "id": "SAOKWp3Gjh64",
        "colab_type": "text"
      },
      "source": [
        "####RIQ"
      ]
    },
    {
      "cell_type": "code",
      "metadata": {
        "id": "ySXi1HFhB971",
        "colab_type": "code",
        "colab": {
          "base_uri": "https://localhost:8080/",
          "height": 146
        },
        "outputId": "afb115f0-65b2-4397-f5e9-90ce134e84b7"
      },
      "source": [
        "Q1 = df.quantile(0.25)\n",
        "Q3 = df.quantile(0.75)\n",
        "IQR = Q3 - Q1\n",
        "print(IQR)"
      ],
      "execution_count": 105,
      "outputs": [
        {
          "output_type": "stream",
          "text": [
            "Temperatura Media (C)          4.260\n",
            "Temperatura Minima (C)         4.300\n",
            "Temperatura Maxima (C)         5.600\n",
            "Precipitacao (mm)              3.200\n",
            "Final de Semana                1.000\n",
            "Consumo de cerveja (litros)    6.623\n",
            "dtype: float64\n"
          ],
          "name": "stdout"
        }
      ]
    },
    {
      "cell_type": "code",
      "metadata": {
        "id": "3Scu5FkVCCoR",
        "colab_type": "code",
        "colab": {}
      },
      "source": [
        "df_modificado = df[~((df < (Q1 - 1.5 * IQR)) |(df > (Q3 + 1.5 * IQR))).any(axis=1)]"
      ],
      "execution_count": 0,
      "outputs": []
    },
    {
      "cell_type": "markdown",
      "metadata": {
        "id": "XRUCSh7DjkI9",
        "colab_type": "text"
      },
      "source": [
        "####Z-Score"
      ]
    },
    {
      "cell_type": "code",
      "metadata": {
        "id": "LgYrNshBCEhP",
        "colab_type": "code",
        "colab": {}
      },
      "source": [
        "from scipy import stats\n",
        "import numpy as np\n",
        "z = np.abs(stats.zscore(df))"
      ],
      "execution_count": 0,
      "outputs": []
    },
    {
      "cell_type": "code",
      "metadata": {
        "id": "J97jR5JzCGnY",
        "colab_type": "code",
        "colab": {}
      },
      "source": [
        "df_z = df[(z < 3).all(axis=1)]"
      ],
      "execution_count": 0,
      "outputs": []
    },
    {
      "cell_type": "markdown",
      "metadata": {
        "id": "ZiY9hc7sjnBa",
        "colab_type": "text"
      },
      "source": [
        "####Tamaño Data"
      ]
    },
    {
      "cell_type": "code",
      "metadata": {
        "id": "_uItD_pMjpfU",
        "colab_type": "code",
        "colab": {
          "base_uri": "https://localhost:8080/",
          "height": 35
        },
        "outputId": "96d70f4d-1ce0-48ec-a1a4-572860b25c6a"
      },
      "source": [
        "df.shape"
      ],
      "execution_count": 122,
      "outputs": [
        {
          "output_type": "execute_result",
          "data": {
            "text/plain": [
              "(365, 6)"
            ]
          },
          "metadata": {
            "tags": []
          },
          "execution_count": 122
        }
      ]
    },
    {
      "cell_type": "code",
      "metadata": {
        "id": "zGZk1I_YjsEy",
        "colab_type": "code",
        "colab": {
          "base_uri": "https://localhost:8080/",
          "height": 35
        },
        "outputId": "52fb7d57-0167-42ef-97a7-afdceb5b5fe5"
      },
      "source": [
        "df_modificado.shape #RIQ"
      ],
      "execution_count": 123,
      "outputs": [
        {
          "output_type": "execute_result",
          "data": {
            "text/plain": [
              "(300, 6)"
            ]
          },
          "metadata": {
            "tags": []
          },
          "execution_count": 123
        }
      ]
    },
    {
      "cell_type": "code",
      "metadata": {
        "id": "vniX-qDLjtne",
        "colab_type": "code",
        "colab": {
          "base_uri": "https://localhost:8080/",
          "height": 35
        },
        "outputId": "85bbb1c4-2d78-42cc-a2f0-c46c609b9215"
      },
      "source": [
        "df_z.shape"
      ],
      "execution_count": 124,
      "outputs": [
        {
          "output_type": "execute_result",
          "data": {
            "text/plain": [
              "(357, 6)"
            ]
          },
          "metadata": {
            "tags": []
          },
          "execution_count": 124
        }
      ]
    },
    {
      "cell_type": "markdown",
      "metadata": {
        "id": "ZPKmr01kjxjE",
        "colab_type": "text"
      },
      "source": [
        "###Evaluación Cross Validation"
      ]
    },
    {
      "cell_type": "code",
      "metadata": {
        "id": "d1pi4nWO6kbi",
        "colab_type": "code",
        "colab": {}
      },
      "source": [
        "X = df_z.drop([\"Consumo de cerveja (litros)\"],axis=1)\n",
        "y = df_z['Consumo de cerveja (litros)']"
      ],
      "execution_count": 0,
      "outputs": []
    },
    {
      "cell_type": "code",
      "metadata": {
        "id": "WNRxldSLCO_v",
        "colab_type": "code",
        "colab": {
          "base_uri": "https://localhost:8080/",
          "height": 35
        },
        "outputId": "e1bf4604-7cb3-4c3a-8722-34e82bcb1799"
      },
      "source": [
        "from sklearn.model_selection import KFold\n",
        "from sklearn import metrics\n",
        "NSplits = 10\n",
        "kf = KFold(n_splits=NSplits)\n",
        "kf.get_n_splits(X)\n",
        "print(kf)"
      ],
      "execution_count": 117,
      "outputs": [
        {
          "output_type": "stream",
          "text": [
            "KFold(n_splits=10, random_state=None, shuffle=False)\n"
          ],
          "name": "stdout"
        }
      ]
    },
    {
      "cell_type": "code",
      "metadata": {
        "id": "NaeMNUOWCQcA",
        "colab_type": "code",
        "colab": {
          "base_uri": "https://localhost:8080/",
          "height": 219
        },
        "outputId": "2ddb6379-c617-4f68-af7b-f81fac7b0ae1"
      },
      "source": [
        "AccTotal = 0\n",
        "for train_index, test_index in kf.split(X):\n",
        "  #print(\"TRAIN:\", train_index, \"TEST:\", test_index)\n",
        "  X_train_cv, X_test_cv = X.iloc[train_index], X.iloc[test_index]\n",
        "  y_train_cv, y_test_cv = y.iloc[train_index], y.iloc[test_index]\n",
        "  \n",
        "  reg = LinearRegression()\n",
        "  reg.fit(X_train_cv,y_train_cv)\n",
        "\n",
        "  AccFolder = reg.score(X_test_cv, y_test_cv)*100\n",
        "  print(\"Accuracy Folder\", AccFolder)\n",
        "  \n",
        "  AccTotal += AccFolder\n",
        "  \n",
        "print(\"Accuracy General:\", AccTotal/NSplits)"
      ],
      "execution_count": 118,
      "outputs": [
        {
          "output_type": "stream",
          "text": [
            "Accuracy Folder 59.98651173448755\n",
            "Accuracy Folder 34.797356491294806\n",
            "Accuracy Folder 66.05884092150053\n",
            "Accuracy Folder 62.83118458440819\n",
            "Accuracy Folder 80.92890467328608\n",
            "Accuracy Folder 76.30083079435141\n",
            "Accuracy Folder 71.17120092317664\n",
            "Accuracy Folder 59.39096603572581\n",
            "Accuracy Folder 51.55109245151461\n",
            "Accuracy Folder 59.71177771511278\n",
            "Accuracy General: 62.27286663248585\n"
          ],
          "name": "stdout"
        }
      ]
    },
    {
      "cell_type": "markdown",
      "metadata": {
        "id": "zTP7FvbtCTyJ",
        "colab_type": "text"
      },
      "source": [
        "df-> 62.73\n",
        "\n",
        "df_modificado -> 63.45\n",
        "\n",
        "df_z -> 62.27"
      ]
    },
    {
      "cell_type": "code",
      "metadata": {
        "id": "2-6a-Ry6AG4W",
        "colab_type": "code",
        "colab": {
          "base_uri": "https://localhost:8080/",
          "height": 612
        },
        "outputId": "d834a3ac-275c-4aa8-86bb-bf9960fd7094"
      },
      "source": [
        "df.boxplot(figsize=(13,10))"
      ],
      "execution_count": 100,
      "outputs": [
        {
          "output_type": "execute_result",
          "data": {
            "text/plain": [
              "<matplotlib.axes._subplots.AxesSubplot at 0x7f157a4af4e0>"
            ]
          },
          "metadata": {
            "tags": []
          },
          "execution_count": 100
        },
        {
          "output_type": "display_data",
          "data": {
            "image/png": "[encoded data removed]",
            "text/plain": [
              "<Figure size 936x720 with 1 Axes>"
            ]
          },
          "metadata": {
            "tags": []
          }
        }
      ]
    }
  ]
}