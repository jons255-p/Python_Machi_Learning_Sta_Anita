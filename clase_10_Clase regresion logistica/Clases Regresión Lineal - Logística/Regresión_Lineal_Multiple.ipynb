{
  "nbformat": 4,
  "nbformat_minor": 0,
  "metadata": {
    "colab": {
      "name": "Regresión Lineal Multiple.ipynb",
      "provenance": [],
      "collapsed_sections": []
    },
    "kernelspec": {
      "name": "python3",
      "display_name": "Python 3"
    }
  },
  "cells": [
    {
      "cell_type": "markdown",
      "metadata": {
        "id": "HHzQizecg3uk",
        "colab_type": "text"
      },
      "source": [
        "##Importar Datos"
      ]
    },
    {
      "cell_type": "code",
      "metadata": {
        "id": "IdN_paxtdpiL",
        "colab_type": "code",
        "colab": {}
      },
      "source": [
        "import pandas as pd"
      ],
      "execution_count": 0,
      "outputs": []
    },
    {
      "cell_type": "code",
      "metadata": {
        "id": "5sJCPA1Vf8Sz",
        "colab_type": "code",
        "colab": {}
      },
      "source": [
        "df = pd.read_csv(\"petrol_consumption.csv\")"
      ],
      "execution_count": 0,
      "outputs": []
    },
    {
      "cell_type": "code",
      "metadata": {
        "id": "sjriCcuTkFvV",
        "colab_type": "code",
        "outputId": "cd94e17a-5946-4767-be8a-148274c686a7",
        "colab": {
          "base_uri": "https://localhost:8080/",
          "height": 206
        }
      },
      "source": [
        "df.head()"
      ],
      "execution_count": 6,
      "outputs": [
        {
          "output_type": "execute_result",
          "data": {
            "text/html": [
              "<div>\n",
              "<style scoped>\n",
              "    .dataframe tbody tr th:only-of-type {\n",
              "        vertical-align: middle;\n",
              "    }\n",
              "\n",
              "    .dataframe tbody tr th {\n",
              "        vertical-align: top;\n",
              "    }\n",
              "\n",
              "    .dataframe thead th {\n",
              "        text-align: right;\n",
              "    }\n",
              "</style>\n",
              "<table border=\"1\" class=\"dataframe\">\n",
              "  <thead>\n",
              "    <tr style=\"text-align: right;\">\n",
              "      <th></th>\n",
              "      <th>Petrol_tax</th>\n",
              "      <th>Average_income</th>\n",
              "      <th>Paved_Highways</th>\n",
              "      <th>Population_Driver_licence(%)</th>\n",
              "      <th>Petrol_Consumption</th>\n",
              "    </tr>\n",
              "  </thead>\n",
              "  <tbody>\n",
              "    <tr>\n",
              "      <th>0</th>\n",
              "      <td>9.0</td>\n",
              "      <td>3571</td>\n",
              "      <td>1976</td>\n",
              "      <td>0.525</td>\n",
              "      <td>541</td>\n",
              "    </tr>\n",
              "    <tr>\n",
              "      <th>1</th>\n",
              "      <td>9.0</td>\n",
              "      <td>4092</td>\n",
              "      <td>1250</td>\n",
              "      <td>0.572</td>\n",
              "      <td>524</td>\n",
              "    </tr>\n",
              "    <tr>\n",
              "      <th>2</th>\n",
              "      <td>9.0</td>\n",
              "      <td>3865</td>\n",
              "      <td>1586</td>\n",
              "      <td>0.580</td>\n",
              "      <td>561</td>\n",
              "    </tr>\n",
              "    <tr>\n",
              "      <th>3</th>\n",
              "      <td>7.5</td>\n",
              "      <td>4870</td>\n",
              "      <td>2351</td>\n",
              "      <td>0.529</td>\n",
              "      <td>414</td>\n",
              "    </tr>\n",
              "    <tr>\n",
              "      <th>4</th>\n",
              "      <td>8.0</td>\n",
              "      <td>4399</td>\n",
              "      <td>431</td>\n",
              "      <td>0.544</td>\n",
              "      <td>410</td>\n",
              "    </tr>\n",
              "  </tbody>\n",
              "</table>\n",
              "</div>"
            ],
            "text/plain": [
              "   Petrol_tax  Average_income  ...  Population_Driver_licence(%)  Petrol_Consumption\n",
              "0         9.0            3571  ...                         0.525                 541\n",
              "1         9.0            4092  ...                         0.572                 524\n",
              "2         9.0            3865  ...                         0.580                 561\n",
              "3         7.5            4870  ...                         0.529                 414\n",
              "4         8.0            4399  ...                         0.544                 410\n",
              "\n",
              "[5 rows x 5 columns]"
            ]
          },
          "metadata": {
            "tags": []
          },
          "execution_count": 6
        }
      ]
    },
    {
      "cell_type": "markdown",
      "metadata": {
        "id": "oK0-sndghLm8",
        "colab_type": "text"
      },
      "source": [
        "##Separar Data"
      ]
    },
    {
      "cell_type": "code",
      "metadata": {
        "id": "n_XBdwh9hLKU",
        "colab_type": "code",
        "colab": {}
      },
      "source": [
        "X = df.drop('Petrol_Consumption', axis=1)\n",
        "y = df['Petrol_Consumption']"
      ],
      "execution_count": 0,
      "outputs": []
    },
    {
      "cell_type": "code",
      "metadata": {
        "id": "WbEhO2knhOgV",
        "colab_type": "code",
        "outputId": "0f9bee0d-4ba8-4cd0-da1a-0c542a5a7e8b",
        "colab": {
          "base_uri": "https://localhost:8080/",
          "height": 54
        }
      },
      "source": [
        "from sklearn.model_selection import train_test_split\n",
        "X_train, X_test, y_train, y_test = train_test_split(X, y, test_size=0.20,random_state=5)\n",
        "print(\"X_train shape:\",X_train.shape)\n",
        "print(\"X_test shape:\",X_test.shape)"
      ],
      "execution_count": 8,
      "outputs": [
        {
          "output_type": "stream",
          "text": [
            "X_train shape: (38, 4)\n",
            "X_test shape: (10, 4)\n"
          ],
          "name": "stdout"
        }
      ]
    },
    {
      "cell_type": "markdown",
      "metadata": {
        "id": "O_sMIIPohUv-",
        "colab_type": "text"
      },
      "source": [
        "##Estandarizar Datos"
      ]
    },
    {
      "cell_type": "code",
      "metadata": {
        "id": "0r-moYLQgkeT",
        "colab_type": "code",
        "colab": {}
      },
      "source": [
        "from sklearn.preprocessing import StandardScaler\n",
        "scaler = StandardScaler()\n",
        "scaler.fit(X_train)\n",
        "X_train = pd.DataFrame(scaler.transform(X_train))\n",
        "X_test = pd.DataFrame(scaler.transform(X_test))"
      ],
      "execution_count": 0,
      "outputs": []
    },
    {
      "cell_type": "markdown",
      "metadata": {
        "id": "wGpXcw-dhY7E",
        "colab_type": "text"
      },
      "source": [
        "##Regresión Lineal"
      ]
    },
    {
      "cell_type": "code",
      "metadata": {
        "id": "1uyDvI3_hbYW",
        "colab_type": "code",
        "outputId": "8b6dcde5-a7b6-4b72-aaa5-b712e325cd43",
        "colab": {
          "base_uri": "https://localhost:8080/",
          "height": 35
        }
      },
      "source": [
        "from sklearn.linear_model import LinearRegression\n",
        "reg = LinearRegression()\n",
        "reg.fit(X_train,y_train)"
      ],
      "execution_count": 10,
      "outputs": [
        {
          "output_type": "execute_result",
          "data": {
            "text/plain": [
              "LinearRegression(copy_X=True, fit_intercept=True, n_jobs=None, normalize=False)"
            ]
          },
          "metadata": {
            "tags": []
          },
          "execution_count": 10
        }
      ]
    },
    {
      "cell_type": "code",
      "metadata": {
        "id": "uq8D1Ddhkdch",
        "colab_type": "code",
        "outputId": "5c525b01-4725-4f30-f3cb-981220a2e1a1",
        "colab": {
          "base_uri": "https://localhost:8080/",
          "height": 35
        }
      },
      "source": [
        "reg.score(X_train,y_train)"
      ],
      "execution_count": 11,
      "outputs": [
        {
          "output_type": "execute_result",
          "data": {
            "text/plain": [
              "0.6752024263880673"
            ]
          },
          "metadata": {
            "tags": []
          },
          "execution_count": 11
        }
      ]
    },
    {
      "cell_type": "code",
      "metadata": {
        "id": "lPAxdeawhe7V",
        "colab_type": "code",
        "outputId": "2df95432-7e92-4d92-e45e-e6b086a554fa",
        "colab": {
          "base_uri": "https://localhost:8080/",
          "height": 35
        }
      },
      "source": [
        "reg.score(X_test,y_test)"
      ],
      "execution_count": 12,
      "outputs": [
        {
          "output_type": "execute_result",
          "data": {
            "text/plain": [
              "0.630063753508751"
            ]
          },
          "metadata": {
            "tags": []
          },
          "execution_count": 12
        }
      ]
    },
    {
      "cell_type": "markdown",
      "metadata": {
        "id": "dHjMacf6iGu-",
        "colab_type": "text"
      },
      "source": [
        "##Visualizando"
      ]
    },
    {
      "cell_type": "code",
      "metadata": {
        "id": "OTPMzvA1oStp",
        "colab_type": "code",
        "colab": {
          "base_uri": "https://localhost:8080/",
          "height": 1000
        },
        "outputId": "0c943461-7c30-487a-ee55-faa5d30813d7"
      },
      "source": [
        "X_train"
      ],
      "execution_count": 13,
      "outputs": [
        {
          "output_type": "execute_result",
          "data": {
            "text/html": [
              "<div>\n",
              "<style scoped>\n",
              "    .dataframe tbody tr th:only-of-type {\n",
              "        vertical-align: middle;\n",
              "    }\n",
              "\n",
              "    .dataframe tbody tr th {\n",
              "        vertical-align: top;\n",
              "    }\n",
              "\n",
              "    .dataframe thead th {\n",
              "        text-align: right;\n",
              "    }\n",
              "</style>\n",
              "<table border=\"1\" class=\"dataframe\">\n",
              "  <thead>\n",
              "    <tr style=\"text-align: right;\">\n",
              "      <th></th>\n",
              "      <th>0</th>\n",
              "      <th>1</th>\n",
              "      <th>2</th>\n",
              "      <th>3</th>\n",
              "    </tr>\n",
              "  </thead>\n",
              "  <tbody>\n",
              "    <tr>\n",
              "      <th>0</th>\n",
              "      <td>0.465736</td>\n",
              "      <td>0.223378</td>\n",
              "      <td>-1.455308</td>\n",
              "      <td>-0.559244</td>\n",
              "    </tr>\n",
              "    <tr>\n",
              "      <th>1</th>\n",
              "      <td>-0.580244</td>\n",
              "      <td>-1.763142</td>\n",
              "      <td>0.248201</td>\n",
              "      <td>-1.140187</td>\n",
              "    </tr>\n",
              "    <tr>\n",
              "      <th>2</th>\n",
              "      <td>1.511717</td>\n",
              "      <td>-1.319622</td>\n",
              "      <td>-1.028256</td>\n",
              "      <td>-0.915306</td>\n",
              "    </tr>\n",
              "    <tr>\n",
              "      <th>3</th>\n",
              "      <td>1.511717</td>\n",
              "      <td>-1.040093</td>\n",
              "      <td>-0.262603</td>\n",
              "      <td>-0.559244</td>\n",
              "    </tr>\n",
              "    <tr>\n",
              "      <th>4</th>\n",
              "      <td>2.557697</td>\n",
              "      <td>1.980684</td>\n",
              "      <td>-1.205987</td>\n",
              "      <td>-0.053261</td>\n",
              "    </tr>\n",
              "    <tr>\n",
              "      <th>5</th>\n",
              "      <td>-0.580244</td>\n",
              "      <td>0.031435</td>\n",
              "      <td>-0.445862</td>\n",
              "      <td>0.921224</td>\n",
              "    </tr>\n",
              "    <tr>\n",
              "      <th>6</th>\n",
              "      <td>-0.057254</td>\n",
              "      <td>-1.718417</td>\n",
              "      <td>-0.435359</td>\n",
              "      <td>-0.503024</td>\n",
              "    </tr>\n",
              "    <tr>\n",
              "      <th>7</th>\n",
              "      <td>-0.580244</td>\n",
              "      <td>-1.161223</td>\n",
              "      <td>-0.472950</td>\n",
              "      <td>-0.203182</td>\n",
              "    </tr>\n",
              "    <tr>\n",
              "      <th>8</th>\n",
              "      <td>0.988727</td>\n",
              "      <td>0.549495</td>\n",
              "      <td>-0.850525</td>\n",
              "      <td>-0.428063</td>\n",
              "    </tr>\n",
              "    <tr>\n",
              "      <th>9</th>\n",
              "      <td>0.465736</td>\n",
              "      <td>-0.169826</td>\n",
              "      <td>0.077104</td>\n",
              "      <td>-0.203182</td>\n",
              "    </tr>\n",
              "    <tr>\n",
              "      <th>10</th>\n",
              "      <td>0.465736</td>\n",
              "      <td>1.311678</td>\n",
              "      <td>-1.408042</td>\n",
              "      <td>0.527682</td>\n",
              "    </tr>\n",
              "    <tr>\n",
              "      <th>11</th>\n",
              "      <td>1.511717</td>\n",
              "      <td>-0.039379</td>\n",
              "      <td>-0.279188</td>\n",
              "      <td>-1.065227</td>\n",
              "    </tr>\n",
              "    <tr>\n",
              "      <th>12</th>\n",
              "      <td>0.465736</td>\n",
              "      <td>0.208470</td>\n",
              "      <td>0.067153</td>\n",
              "      <td>-0.821606</td>\n",
              "    </tr>\n",
              "    <tr>\n",
              "      <th>13</th>\n",
              "      <td>-0.580244</td>\n",
              "      <td>-0.995369</td>\n",
              "      <td>-0.852736</td>\n",
              "      <td>-1.233888</td>\n",
              "    </tr>\n",
              "    <tr>\n",
              "      <th>14</th>\n",
              "      <td>-0.580244</td>\n",
              "      <td>0.814116</td>\n",
              "      <td>0.060519</td>\n",
              "      <td>2.813975</td>\n",
              "    </tr>\n",
              "    <tr>\n",
              "      <th>15</th>\n",
              "      <td>1.511717</td>\n",
              "      <td>1.151415</td>\n",
              "      <td>-0.897515</td>\n",
              "      <td>-1.177668</td>\n",
              "    </tr>\n",
              "    <tr>\n",
              "      <th>16</th>\n",
              "      <td>-0.580244</td>\n",
              "      <td>0.584902</td>\n",
              "      <td>0.590948</td>\n",
              "      <td>1.670828</td>\n",
              "    </tr>\n",
              "    <tr>\n",
              "      <th>17</th>\n",
              "      <td>0.465736</td>\n",
              "      <td>-1.399754</td>\n",
              "      <td>-0.608391</td>\n",
              "      <td>-1.627430</td>\n",
              "    </tr>\n",
              "    <tr>\n",
              "      <th>18</th>\n",
              "      <td>1.511717</td>\n",
              "      <td>-0.348725</td>\n",
              "      <td>-1.228929</td>\n",
              "      <td>-0.034521</td>\n",
              "    </tr>\n",
              "    <tr>\n",
              "      <th>19</th>\n",
              "      <td>-0.057254</td>\n",
              "      <td>1.578162</td>\n",
              "      <td>2.346698</td>\n",
              "      <td>-0.915306</td>\n",
              "    </tr>\n",
              "    <tr>\n",
              "      <th>20</th>\n",
              "      <td>-0.580244</td>\n",
              "      <td>-0.134419</td>\n",
              "      <td>0.244331</td>\n",
              "      <td>-0.540504</td>\n",
              "    </tr>\n",
              "    <tr>\n",
              "      <th>21</th>\n",
              "      <td>-0.580244</td>\n",
              "      <td>1.347085</td>\n",
              "      <td>1.132710</td>\n",
              "      <td>0.359021</td>\n",
              "    </tr>\n",
              "    <tr>\n",
              "      <th>22</th>\n",
              "      <td>-0.580244</td>\n",
              "      <td>0.316554</td>\n",
              "      <td>-0.292179</td>\n",
              "      <td>0.977444</td>\n",
              "    </tr>\n",
              "    <tr>\n",
              "      <th>23</th>\n",
              "      <td>-0.580244</td>\n",
              "      <td>-0.712113</td>\n",
              "      <td>0.190431</td>\n",
              "      <td>0.227840</td>\n",
              "    </tr>\n",
              "    <tr>\n",
              "      <th>24</th>\n",
              "      <td>-0.580244</td>\n",
              "      <td>0.072432</td>\n",
              "      <td>1.283629</td>\n",
              "      <td>0.227840</td>\n",
              "    </tr>\n",
              "    <tr>\n",
              "      <th>25</th>\n",
              "      <td>-0.580244</td>\n",
              "      <td>1.002332</td>\n",
              "      <td>0.341074</td>\n",
              "      <td>0.002959</td>\n",
              "    </tr>\n",
              "    <tr>\n",
              "      <th>26</th>\n",
              "      <td>0.465736</td>\n",
              "      <td>1.578162</td>\n",
              "      <td>-0.983478</td>\n",
              "      <td>-0.390583</td>\n",
              "    </tr>\n",
              "    <tr>\n",
              "      <th>27</th>\n",
              "      <td>-1.626224</td>\n",
              "      <td>1.744016</td>\n",
              "      <td>-0.938147</td>\n",
              "      <td>1.839489</td>\n",
              "    </tr>\n",
              "    <tr>\n",
              "      <th>28</th>\n",
              "      <td>-0.580244</td>\n",
              "      <td>-1.191039</td>\n",
              "      <td>0.334164</td>\n",
              "      <td>-1.046487</td>\n",
              "    </tr>\n",
              "    <tr>\n",
              "      <th>29</th>\n",
              "      <td>-0.057254</td>\n",
              "      <td>-0.807152</td>\n",
              "      <td>0.930102</td>\n",
              "      <td>0.096659</td>\n",
              "    </tr>\n",
              "    <tr>\n",
              "      <th>30</th>\n",
              "      <td>-0.580244</td>\n",
              "      <td>0.122748</td>\n",
              "      <td>-0.495063</td>\n",
              "      <td>1.839489</td>\n",
              "    </tr>\n",
              "    <tr>\n",
              "      <th>31</th>\n",
              "      <td>-2.672204</td>\n",
              "      <td>-0.436311</td>\n",
              "      <td>3.340665</td>\n",
              "      <td>-0.146962</td>\n",
              "    </tr>\n",
              "    <tr>\n",
              "      <th>32</th>\n",
              "      <td>0.465736</td>\n",
              "      <td>0.312827</td>\n",
              "      <td>0.796320</td>\n",
              "      <td>-0.840346</td>\n",
              "    </tr>\n",
              "    <tr>\n",
              "      <th>33</th>\n",
              "      <td>-0.580244</td>\n",
              "      <td>0.433957</td>\n",
              "      <td>0.776971</td>\n",
              "      <td>-0.409323</td>\n",
              "    </tr>\n",
              "    <tr>\n",
              "      <th>34</th>\n",
              "      <td>-0.580244</td>\n",
              "      <td>-0.136283</td>\n",
              "      <td>0.777248</td>\n",
              "      <td>-0.034521</td>\n",
              "    </tr>\n",
              "    <tr>\n",
              "      <th>35</th>\n",
              "      <td>0.988727</td>\n",
              "      <td>-1.200357</td>\n",
              "      <td>-0.669477</td>\n",
              "      <td>1.670828</td>\n",
              "    </tr>\n",
              "    <tr>\n",
              "      <th>36</th>\n",
              "      <td>-0.580244</td>\n",
              "      <td>0.098522</td>\n",
              "      <td>0.680781</td>\n",
              "      <td>0.640123</td>\n",
              "    </tr>\n",
              "    <tr>\n",
              "      <th>37</th>\n",
              "      <td>-1.019555</td>\n",
              "      <td>-0.889148</td>\n",
              "      <td>0.590948</td>\n",
              "      <td>1.033665</td>\n",
              "    </tr>\n",
              "  </tbody>\n",
              "</table>\n",
              "</div>"
            ],
            "text/plain": [
              "           0         1         2         3\n",
              "0   0.465736  0.223378 -1.455308 -0.559244\n",
              "1  -0.580244 -1.763142  0.248201 -1.140187\n",
              "2   1.511717 -1.319622 -1.028256 -0.915306\n",
              "3   1.511717 -1.040093 -0.262603 -0.559244\n",
              "4   2.557697  1.980684 -1.205987 -0.053261\n",
              "5  -0.580244  0.031435 -0.445862  0.921224\n",
              "6  -0.057254 -1.718417 -0.435359 -0.503024\n",
              "7  -0.580244 -1.161223 -0.472950 -0.203182\n",
              "8   0.988727  0.549495 -0.850525 -0.428063\n",
              "9   0.465736 -0.169826  0.077104 -0.203182\n",
              "10  0.465736  1.311678 -1.408042  0.527682\n",
              "11  1.511717 -0.039379 -0.279188 -1.065227\n",
              "12  0.465736  0.208470  0.067153 -0.821606\n",
              "13 -0.580244 -0.995369 -0.852736 -1.233888\n",
              "14 -0.580244  0.814116  0.060519  2.813975\n",
              "15  1.511717  1.151415 -0.897515 -1.177668\n",
              "16 -0.580244  0.584902  0.590948  1.670828\n",
              "17  0.465736 -1.399754 -0.608391 -1.627430\n",
              "18  1.511717 -0.348725 -1.228929 -0.034521\n",
              "19 -0.057254  1.578162  2.346698 -0.915306\n",
              "20 -0.580244 -0.134419  0.244331 -0.540504\n",
              "21 -0.580244  1.347085  1.132710  0.359021\n",
              "22 -0.580244  0.316554 -0.292179  0.977444\n",
              "23 -0.580244 -0.712113  0.190431  0.227840\n",
              "24 -0.580244  0.072432  1.283629  0.227840\n",
              "25 -0.580244  1.002332  0.341074  0.002959\n",
              "26  0.465736  1.578162 -0.983478 -0.390583\n",
              "27 -1.626224  1.744016 -0.938147  1.839489\n",
              "28 -0.580244 -1.191039  0.334164 -1.046487\n",
              "29 -0.057254 -0.807152  0.930102  0.096659\n",
              "30 -0.580244  0.122748 -0.495063  1.839489\n",
              "31 -2.672204 -0.436311  3.340665 -0.146962\n",
              "32  0.465736  0.312827  0.796320 -0.840346\n",
              "33 -0.580244  0.433957  0.776971 -0.409323\n",
              "34 -0.580244 -0.136283  0.777248 -0.034521\n",
              "35  0.988727 -1.200357 -0.669477  1.670828\n",
              "36 -0.580244  0.098522  0.680781  0.640123\n",
              "37 -1.019555 -0.889148  0.590948  1.033665"
            ]
          },
          "metadata": {
            "tags": []
          },
          "execution_count": 13
        }
      ]
    },
    {
      "cell_type": "code",
      "metadata": {
        "id": "lmeKXDfMiyNi",
        "colab_type": "code",
        "outputId": "4bcbc4ca-193c-4ee0-9544-9d3e76d0c494",
        "colab": {
          "base_uri": "https://localhost:8080/",
          "height": 175
        }
      },
      "source": [
        "pd.DataFrame(zip(X.columns,reg.coef_),columns=['Columnas','coeficientes'])"
      ],
      "execution_count": 14,
      "outputs": [
        {
          "output_type": "execute_result",
          "data": {
            "text/html": [
              "<div>\n",
              "<style scoped>\n",
              "    .dataframe tbody tr th:only-of-type {\n",
              "        vertical-align: middle;\n",
              "    }\n",
              "\n",
              "    .dataframe tbody tr th {\n",
              "        vertical-align: top;\n",
              "    }\n",
              "\n",
              "    .dataframe thead th {\n",
              "        text-align: right;\n",
              "    }\n",
              "</style>\n",
              "<table border=\"1\" class=\"dataframe\">\n",
              "  <thead>\n",
              "    <tr style=\"text-align: right;\">\n",
              "      <th></th>\n",
              "      <th>Columnas</th>\n",
              "      <th>coeficientes</th>\n",
              "    </tr>\n",
              "  </thead>\n",
              "  <tbody>\n",
              "    <tr>\n",
              "      <th>0</th>\n",
              "      <td>Petrol_tax</td>\n",
              "      <td>-27.159789</td>\n",
              "    </tr>\n",
              "    <tr>\n",
              "      <th>1</th>\n",
              "      <td>Average_income</td>\n",
              "      <td>-37.453452</td>\n",
              "    </tr>\n",
              "    <tr>\n",
              "      <th>2</th>\n",
              "      <td>Paved_Highways</td>\n",
              "      <td>-7.237616</td>\n",
              "    </tr>\n",
              "    <tr>\n",
              "      <th>3</th>\n",
              "      <td>Population_Driver_licence(%)</td>\n",
              "      <td>80.479724</td>\n",
              "    </tr>\n",
              "  </tbody>\n",
              "</table>\n",
              "</div>"
            ],
            "text/plain": [
              "                       Columnas  coeficientes\n",
              "0                    Petrol_tax    -27.159789\n",
              "1                Average_income    -37.453452\n",
              "2                Paved_Highways     -7.237616\n",
              "3  Population_Driver_licence(%)     80.479724"
            ]
          },
          "metadata": {
            "tags": []
          },
          "execution_count": 14
        }
      ]
    },
    {
      "cell_type": "code",
      "metadata": {
        "id": "LNzN2L2_o_J6",
        "colab_type": "code",
        "colab": {
          "base_uri": "https://localhost:8080/",
          "height": 35
        },
        "outputId": "c39c0c5b-7bf7-4db8-dbe7-edaa79b770b3"
      },
      "source": [
        "reg.intercept_"
      ],
      "execution_count": 15,
      "outputs": [
        {
          "output_type": "execute_result",
          "data": {
            "text/plain": [
              "583.7368421052632"
            ]
          },
          "metadata": {
            "tags": []
          },
          "execution_count": 15
        }
      ]
    },
    {
      "cell_type": "code",
      "metadata": {
        "id": "7xKnaD_fiTYm",
        "colab_type": "code",
        "colab": {}
      },
      "source": [
        "import matplotlib.pyplot as plt"
      ],
      "execution_count": 0,
      "outputs": []
    },
    {
      "cell_type": "code",
      "metadata": {
        "id": "qCyJTjcWiLhC",
        "colab_type": "code",
        "colab": {}
      },
      "source": [
        "y_predict = reg.predict(X_train)"
      ],
      "execution_count": 0,
      "outputs": []
    },
    {
      "cell_type": "code",
      "metadata": {
        "id": "KXdw5-LYiIYF",
        "colab_type": "code",
        "outputId": "ee14d030-537e-49ad-cc88-ce16b152c80d",
        "colab": {
          "base_uri": "https://localhost:8080/",
          "height": 280
        }
      },
      "source": [
        "plt.plot(X_train[3], y_train, 'o', label='real')\n",
        "plt.plot(X_train[3],y_predict,'o',label='predict')\n",
        "plt.xlabel(\"petrol_tax\")\n",
        "plt.ylabel(\"petrol consumption\")\n",
        "plt.legend()\n",
        "plt.show()"
      ],
      "execution_count": 21,
      "outputs": [
        {
          "output_type": "display_data",
          "data": {
            "image/png": "[encoded data removed]",
            "text/plain": [
              "<Figure size 432x288 with 1 Axes>"
            ]
          },
          "metadata": {
            "tags": []
          }
        }
      ]
    }
  ]
}