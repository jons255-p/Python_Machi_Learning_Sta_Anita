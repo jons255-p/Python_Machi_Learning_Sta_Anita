{
  "nbformat": 4,
  "nbformat_minor": 0,
  "metadata": {
    "colab": {
      "name": "Reto: Spotify Genre Classification.ipynb",
      "provenance": []
    },
    "kernelspec": {
      "name": "python3",
      "display_name": "Python 3"
    }
  },
  "cells": [
    {
      "cell_type": "markdown",
      "metadata": {
        "id": "bLaTL4Sv_rQ-",
        "colab_type": "text"
      },
      "source": [
        "#Reto: Spotify"
      ]
    },
    {
      "cell_type": "markdown",
      "metadata": {
        "id": "eHAYZzyy_9AU",
        "colab_type": "text"
      },
      "source": [
        "\n",
        "\n",
        "> El Dataset con el que se trabajará pertenece a data proporcionada por Spotify para el análisis, nuestro reto se encuentra en poder predecir a que género pertenece una canción considerando todas las caracteristicas que se nos presenta\n",
        "\n"
      ]
    },
    {
      "cell_type": "markdown",
      "metadata": {
        "id": "P1LswGRyAzsW",
        "colab_type": "text"
      },
      "source": [
        "\n",
        "\n",
        "> Puede encontrar el Diccionar de Datos en el siguiente enlace: [Get Audio Features for a Track ](https://developer.spotify.com/documentation/web-api/reference/tracks/get-audio-features/)\n",
        "\n"
      ]
    },
    {
      "cell_type": "markdown",
      "metadata": {
        "id": "6Nsh2PBshJRD",
        "colab_type": "text"
      },
      "source": [
        "\n",
        "\n",
        "> Tips: \n",
        "\n",
        "1.   Como existen muchas etiquetas, no es recomendable guardar el arbol como imagen, solo visualizarlo en la celda\n",
        "2.   El tiempo de ejecución será mayor comparado a otros ejercicios\n",
        "\n",
        "1.   No espere un Score alto\n",
        "2.   Es clave encontrar el max_depth óptimo\n",
        "\n",
        "\n",
        "\n",
        "\n",
        "\n",
        "\n",
        "\n",
        "\n"
      ]
    },
    {
      "cell_type": "code",
      "metadata": {
        "id": "Wof9IPGFzD5L",
        "colab_type": "code",
        "colab": {}
      },
      "source": [
        "import pandas as pd"
      ],
      "execution_count": 0,
      "outputs": []
    },
    {
      "cell_type": "code",
      "metadata": {
        "id": "hfe84LkB0a7t",
        "colab_type": "code",
        "colab": {
          "base_uri": "https://localhost:8080/",
          "height": 400
        },
        "outputId": "d6bb2277-85e9-4449-a4b4-dcf81e28d234"
      },
      "source": [
        "df = pd.read_csv(\"SpotifyFeatures.csv\")\n",
        "df.head()"
      ],
      "execution_count": 2,
      "outputs": [
        {
          "output_type": "execute_result",
          "data": {
            "text/html": [
              "<div>\n",
              "<style scoped>\n",
              "    .dataframe tbody tr th:only-of-type {\n",
              "        vertical-align: middle;\n",
              "    }\n",
              "\n",
              "    .dataframe tbody tr th {\n",
              "        vertical-align: top;\n",
              "    }\n",
              "\n",
              "    .dataframe thead th {\n",
              "        text-align: right;\n",
              "    }\n",
              "</style>\n",
              "<table border=\"1\" class=\"dataframe\">\n",
              "  <thead>\n",
              "    <tr style=\"text-align: right;\">\n",
              "      <th></th>\n",
              "      <th>genre</th>\n",
              "      <th>artist_name</th>\n",
              "      <th>track_name</th>\n",
              "      <th>track_id</th>\n",
              "      <th>popularity</th>\n",
              "      <th>acousticness</th>\n",
              "      <th>danceability</th>\n",
              "      <th>duration_ms</th>\n",
              "      <th>energy</th>\n",
              "      <th>instrumentalness</th>\n",
              "      <th>key</th>\n",
              "      <th>liveness</th>\n",
              "      <th>loudness</th>\n",
              "      <th>mode</th>\n",
              "      <th>speechiness</th>\n",
              "      <th>tempo</th>\n",
              "      <th>time_signature</th>\n",
              "      <th>valence</th>\n",
              "    </tr>\n",
              "  </thead>\n",
              "  <tbody>\n",
              "    <tr>\n",
              "      <th>0</th>\n",
              "      <td>Movie</td>\n",
              "      <td>Henri Salvador</td>\n",
              "      <td>C'est beau de faire un Show</td>\n",
              "      <td>0BRjO6ga9RKCKjfDqeFgWV</td>\n",
              "      <td>0</td>\n",
              "      <td>0.611</td>\n",
              "      <td>0.389</td>\n",
              "      <td>99373</td>\n",
              "      <td>0.910</td>\n",
              "      <td>0.000</td>\n",
              "      <td>C#</td>\n",
              "      <td>0.3460</td>\n",
              "      <td>-1.828</td>\n",
              "      <td>Major</td>\n",
              "      <td>0.0525</td>\n",
              "      <td>166.969</td>\n",
              "      <td>4/4</td>\n",
              "      <td>0.814</td>\n",
              "    </tr>\n",
              "    <tr>\n",
              "      <th>1</th>\n",
              "      <td>Movie</td>\n",
              "      <td>Martin &amp; les fées</td>\n",
              "      <td>Perdu d'avance (par Gad Elmaleh)</td>\n",
              "      <td>0BjC1NfoEOOusryehmNudP</td>\n",
              "      <td>1</td>\n",
              "      <td>0.246</td>\n",
              "      <td>0.590</td>\n",
              "      <td>137373</td>\n",
              "      <td>0.737</td>\n",
              "      <td>0.000</td>\n",
              "      <td>F#</td>\n",
              "      <td>0.1510</td>\n",
              "      <td>-5.559</td>\n",
              "      <td>Minor</td>\n",
              "      <td>0.0868</td>\n",
              "      <td>174.003</td>\n",
              "      <td>4/4</td>\n",
              "      <td>0.816</td>\n",
              "    </tr>\n",
              "    <tr>\n",
              "      <th>2</th>\n",
              "      <td>Movie</td>\n",
              "      <td>Joseph Williams</td>\n",
              "      <td>Don't Let Me Be Lonely Tonight</td>\n",
              "      <td>0CoSDzoNIKCRs124s9uTVy</td>\n",
              "      <td>3</td>\n",
              "      <td>0.952</td>\n",
              "      <td>0.663</td>\n",
              "      <td>170267</td>\n",
              "      <td>0.131</td>\n",
              "      <td>0.000</td>\n",
              "      <td>C</td>\n",
              "      <td>0.1030</td>\n",
              "      <td>-13.879</td>\n",
              "      <td>Minor</td>\n",
              "      <td>0.0362</td>\n",
              "      <td>99.488</td>\n",
              "      <td>5/4</td>\n",
              "      <td>0.368</td>\n",
              "    </tr>\n",
              "    <tr>\n",
              "      <th>3</th>\n",
              "      <td>Movie</td>\n",
              "      <td>Henri Salvador</td>\n",
              "      <td>Dis-moi Monsieur Gordon Cooper</td>\n",
              "      <td>0Gc6TVm52BwZD07Ki6tIvf</td>\n",
              "      <td>0</td>\n",
              "      <td>0.703</td>\n",
              "      <td>0.240</td>\n",
              "      <td>152427</td>\n",
              "      <td>0.326</td>\n",
              "      <td>0.000</td>\n",
              "      <td>C#</td>\n",
              "      <td>0.0985</td>\n",
              "      <td>-12.178</td>\n",
              "      <td>Major</td>\n",
              "      <td>0.0395</td>\n",
              "      <td>171.758</td>\n",
              "      <td>4/4</td>\n",
              "      <td>0.227</td>\n",
              "    </tr>\n",
              "    <tr>\n",
              "      <th>4</th>\n",
              "      <td>Movie</td>\n",
              "      <td>Fabien Nataf</td>\n",
              "      <td>Ouverture</td>\n",
              "      <td>0IuslXpMROHdEPvSl1fTQK</td>\n",
              "      <td>4</td>\n",
              "      <td>0.950</td>\n",
              "      <td>0.331</td>\n",
              "      <td>82625</td>\n",
              "      <td>0.225</td>\n",
              "      <td>0.123</td>\n",
              "      <td>F</td>\n",
              "      <td>0.2020</td>\n",
              "      <td>-21.150</td>\n",
              "      <td>Major</td>\n",
              "      <td>0.0456</td>\n",
              "      <td>140.576</td>\n",
              "      <td>4/4</td>\n",
              "      <td>0.390</td>\n",
              "    </tr>\n",
              "  </tbody>\n",
              "</table>\n",
              "</div>"
            ],
            "text/plain": [
              "   genre        artist_name  ... time_signature valence\n",
              "0  Movie     Henri Salvador  ...            4/4   0.814\n",
              "1  Movie  Martin & les fées  ...            4/4   0.816\n",
              "2  Movie    Joseph Williams  ...            5/4   0.368\n",
              "3  Movie     Henri Salvador  ...            4/4   0.227\n",
              "4  Movie       Fabien Nataf  ...            4/4   0.390\n",
              "\n",
              "[5 rows x 18 columns]"
            ]
          },
          "metadata": {
            "tags": []
          },
          "execution_count": 2
        }
      ]
    },
    {
      "cell_type": "markdown",
      "metadata": {
        "id": "W21-8gD9f60D",
        "colab_type": "text"
      },
      "source": [
        "\n",
        "\n",
        "> Ejecutar está linea para reemplazar el caracter especial &\n",
        "\n"
      ]
    },
    {
      "cell_type": "code",
      "metadata": {
        "id": "HrCdWTCoFa4i",
        "colab_type": "code",
        "colab": {}
      },
      "source": [
        "df['genre'] = df['genre'].replace('R&B','RYB')"
      ],
      "execution_count": 0,
      "outputs": []
    },
    {
      "cell_type": "markdown",
      "metadata": {
        "id": "ezBURn8agGGP",
        "colab_type": "text"
      },
      "source": [
        "###Limpieza de Data"
      ]
    },
    {
      "cell_type": "markdown",
      "metadata": {
        "id": "XckYXNKguIcR",
        "colab_type": "text"
      },
      "source": [
        "> Haga los ajustes que crea conveniente (si los hubiera) para poder procesar la data\n",
        "\n"
      ]
    },
    {
      "cell_type": "markdown",
      "metadata": {
        "id": "nm4j1Ssogdh8",
        "colab_type": "text"
      },
      "source": [
        "\n",
        "\n",
        "> Esta parte es importante pues determinará el score, hay amplias posibilidades de manejar esta data, puede hacer diversas pruebas para determinar el mejor resultado\n",
        "\n"
      ]
    },
    {
      "cell_type": "code",
      "metadata": {
        "id": "nC4ciSa-Gyz5",
        "colab_type": "code",
        "colab": {
          "base_uri": "https://localhost:8080/",
          "height": 531
        },
        "outputId": "d4b3d9cc-9c9b-477a-e05f-f6f8bc37ac5e"
      },
      "source": [
        "df['genre'].value_counts()"
      ],
      "execution_count": 4,
      "outputs": [
        {
          "output_type": "execute_result",
          "data": {
            "text/plain": [
              "Comedy              9681\n",
              "Soundtrack          9646\n",
              "Indie               9543\n",
              "Jazz                9441\n",
              "Pop                 9386\n",
              "Electronic          9377\n",
              "Children’s Music    9353\n",
              "Folk                9299\n",
              "Hip-Hop             9295\n",
              "Rock                9272\n",
              "Alternative         9263\n",
              "Classical           9256\n",
              "Rap                 9232\n",
              "World               9096\n",
              "Soul                9089\n",
              "Blues               9023\n",
              "RYB                 8992\n",
              "Anime               8936\n",
              "Reggaeton           8927\n",
              "Ska                 8874\n",
              "Reggae              8771\n",
              "Dance               8701\n",
              "Country             8664\n",
              "Opera               8280\n",
              "Movie               7806\n",
              "Children's Music    5403\n",
              "A Capella            119\n",
              "Name: genre, dtype: int64"
            ]
          },
          "metadata": {
            "tags": []
          },
          "execution_count": 4
        }
      ]
    },
    {
      "cell_type": "code",
      "metadata": {
        "id": "SRMMujtz5syY",
        "colab_type": "code",
        "colab": {}
      },
      "source": [
        "from sklearn import preprocessing\n",
        "le = preprocessing.LabelEncoder() \n",
        "le = le.fit(df['key'])\n",
        "df['key'] = le.transform(df['key'])"
      ],
      "execution_count": 0,
      "outputs": []
    },
    {
      "cell_type": "code",
      "metadata": {
        "id": "aLSTkqiY6HPI",
        "colab_type": "code",
        "colab": {
          "base_uri": "https://localhost:8080/",
          "height": 35
        },
        "outputId": "670b8050-fbea-4768-af54-61e382cdaa9b"
      },
      "source": [
        "le_name_mapping = dict(zip(le.classes_, le.transform(le.classes_)))\n",
        "print(le_name_mapping)"
      ],
      "execution_count": 6,
      "outputs": [
        {
          "output_type": "stream",
          "text": [
            "{'A': 0, 'A#': 1, 'B': 2, 'C': 3, 'C#': 4, 'D': 5, 'D#': 6, 'E': 7, 'F': 8, 'F#': 9, 'G': 10, 'G#': 11}\n"
          ],
          "name": "stdout"
        }
      ]
    },
    {
      "cell_type": "code",
      "metadata": {
        "id": "sL7ONwMM6KjV",
        "colab_type": "code",
        "colab": {}
      },
      "source": [
        "lmode = preprocessing.LabelEncoder() \n",
        "lmode = lmode.fit(df['mode'])\n",
        "df['mode'] = lmode.transform(df['mode'])"
      ],
      "execution_count": 0,
      "outputs": []
    },
    {
      "cell_type": "code",
      "metadata": {
        "id": "-EKxJZA865V2",
        "colab_type": "code",
        "colab": {}
      },
      "source": [
        "lgenre = preprocessing.LabelEncoder() \n",
        "lgenre = lgenre.fit(df['genre'])\n",
        "df['genre'] = lgenre.transform(df['genre'])"
      ],
      "execution_count": 0,
      "outputs": []
    },
    {
      "cell_type": "code",
      "metadata": {
        "id": "tROeQ8vXDz8K",
        "colab_type": "code",
        "colab": {
          "base_uri": "https://localhost:8080/",
          "height": 55
        },
        "outputId": "5395e3fb-1008-4ae4-817f-be574692add6"
      },
      "source": [
        "le_genre = dict(zip(lgenre.classes_, lgenre.transform(lgenre.classes_)))\n",
        "print(le_genre)"
      ],
      "execution_count": 9,
      "outputs": [
        {
          "output_type": "stream",
          "text": [
            "{'A Capella': 0, 'Alternative': 1, 'Anime': 2, 'Blues': 3, \"Children's Music\": 4, 'Children’s Music': 5, 'Classical': 6, 'Comedy': 7, 'Country': 8, 'Dance': 9, 'Electronic': 10, 'Folk': 11, 'Hip-Hop': 12, 'Indie': 13, 'Jazz': 14, 'Movie': 15, 'Opera': 16, 'Pop': 17, 'RYB': 18, 'Rap': 19, 'Reggae': 20, 'Reggaeton': 21, 'Rock': 22, 'Ska': 23, 'Soul': 24, 'Soundtrack': 25, 'World': 26}\n"
          ],
          "name": "stdout"
        }
      ]
    },
    {
      "cell_type": "code",
      "metadata": {
        "id": "6PocRpWPD5wg",
        "colab_type": "code",
        "colab": {
          "base_uri": "https://localhost:8080/",
          "height": 109
        },
        "outputId": "f1ed06ca-b928-444e-fdfe-21e77699f252"
      },
      "source": [
        "lgenre.classes_"
      ],
      "execution_count": 10,
      "outputs": [
        {
          "output_type": "execute_result",
          "data": {
            "text/plain": [
              "array(['A Capella', 'Alternative', 'Anime', 'Blues', \"Children's Music\",\n",
              "       'Children’s Music', 'Classical', 'Comedy', 'Country', 'Dance',\n",
              "       'Electronic', 'Folk', 'Hip-Hop', 'Indie', 'Jazz', 'Movie', 'Opera',\n",
              "       'Pop', 'RYB', 'Rap', 'Reggae', 'Reggaeton', 'Rock', 'Ska', 'Soul',\n",
              "       'Soundtrack', 'World'], dtype=object)"
            ]
          },
          "metadata": {
            "tags": []
          },
          "execution_count": 10
        }
      ]
    },
    {
      "cell_type": "code",
      "metadata": {
        "id": "J4KgfZSh6P0q",
        "colab_type": "code",
        "colab": {
          "base_uri": "https://localhost:8080/",
          "height": 400
        },
        "outputId": "b66c6765-658e-4fb4-8725-0f2ef0bccbe6"
      },
      "source": [
        "df.head()"
      ],
      "execution_count": 11,
      "outputs": [
        {
          "output_type": "execute_result",
          "data": {
            "text/html": [
              "<div>\n",
              "<style scoped>\n",
              "    .dataframe tbody tr th:only-of-type {\n",
              "        vertical-align: middle;\n",
              "    }\n",
              "\n",
              "    .dataframe tbody tr th {\n",
              "        vertical-align: top;\n",
              "    }\n",
              "\n",
              "    .dataframe thead th {\n",
              "        text-align: right;\n",
              "    }\n",
              "</style>\n",
              "<table border=\"1\" class=\"dataframe\">\n",
              "  <thead>\n",
              "    <tr style=\"text-align: right;\">\n",
              "      <th></th>\n",
              "      <th>genre</th>\n",
              "      <th>artist_name</th>\n",
              "      <th>track_name</th>\n",
              "      <th>track_id</th>\n",
              "      <th>popularity</th>\n",
              "      <th>acousticness</th>\n",
              "      <th>danceability</th>\n",
              "      <th>duration_ms</th>\n",
              "      <th>energy</th>\n",
              "      <th>instrumentalness</th>\n",
              "      <th>key</th>\n",
              "      <th>liveness</th>\n",
              "      <th>loudness</th>\n",
              "      <th>mode</th>\n",
              "      <th>speechiness</th>\n",
              "      <th>tempo</th>\n",
              "      <th>time_signature</th>\n",
              "      <th>valence</th>\n",
              "    </tr>\n",
              "  </thead>\n",
              "  <tbody>\n",
              "    <tr>\n",
              "      <th>0</th>\n",
              "      <td>15</td>\n",
              "      <td>Henri Salvador</td>\n",
              "      <td>C'est beau de faire un Show</td>\n",
              "      <td>0BRjO6ga9RKCKjfDqeFgWV</td>\n",
              "      <td>0</td>\n",
              "      <td>0.611</td>\n",
              "      <td>0.389</td>\n",
              "      <td>99373</td>\n",
              "      <td>0.910</td>\n",
              "      <td>0.000</td>\n",
              "      <td>4</td>\n",
              "      <td>0.3460</td>\n",
              "      <td>-1.828</td>\n",
              "      <td>0</td>\n",
              "      <td>0.0525</td>\n",
              "      <td>166.969</td>\n",
              "      <td>4/4</td>\n",
              "      <td>0.814</td>\n",
              "    </tr>\n",
              "    <tr>\n",
              "      <th>1</th>\n",
              "      <td>15</td>\n",
              "      <td>Martin &amp; les fées</td>\n",
              "      <td>Perdu d'avance (par Gad Elmaleh)</td>\n",
              "      <td>0BjC1NfoEOOusryehmNudP</td>\n",
              "      <td>1</td>\n",
              "      <td>0.246</td>\n",
              "      <td>0.590</td>\n",
              "      <td>137373</td>\n",
              "      <td>0.737</td>\n",
              "      <td>0.000</td>\n",
              "      <td>9</td>\n",
              "      <td>0.1510</td>\n",
              "      <td>-5.559</td>\n",
              "      <td>1</td>\n",
              "      <td>0.0868</td>\n",
              "      <td>174.003</td>\n",
              "      <td>4/4</td>\n",
              "      <td>0.816</td>\n",
              "    </tr>\n",
              "    <tr>\n",
              "      <th>2</th>\n",
              "      <td>15</td>\n",
              "      <td>Joseph Williams</td>\n",
              "      <td>Don't Let Me Be Lonely Tonight</td>\n",
              "      <td>0CoSDzoNIKCRs124s9uTVy</td>\n",
              "      <td>3</td>\n",
              "      <td>0.952</td>\n",
              "      <td>0.663</td>\n",
              "      <td>170267</td>\n",
              "      <td>0.131</td>\n",
              "      <td>0.000</td>\n",
              "      <td>3</td>\n",
              "      <td>0.1030</td>\n",
              "      <td>-13.879</td>\n",
              "      <td>1</td>\n",
              "      <td>0.0362</td>\n",
              "      <td>99.488</td>\n",
              "      <td>5/4</td>\n",
              "      <td>0.368</td>\n",
              "    </tr>\n",
              "    <tr>\n",
              "      <th>3</th>\n",
              "      <td>15</td>\n",
              "      <td>Henri Salvador</td>\n",
              "      <td>Dis-moi Monsieur Gordon Cooper</td>\n",
              "      <td>0Gc6TVm52BwZD07Ki6tIvf</td>\n",
              "      <td>0</td>\n",
              "      <td>0.703</td>\n",
              "      <td>0.240</td>\n",
              "      <td>152427</td>\n",
              "      <td>0.326</td>\n",
              "      <td>0.000</td>\n",
              "      <td>4</td>\n",
              "      <td>0.0985</td>\n",
              "      <td>-12.178</td>\n",
              "      <td>0</td>\n",
              "      <td>0.0395</td>\n",
              "      <td>171.758</td>\n",
              "      <td>4/4</td>\n",
              "      <td>0.227</td>\n",
              "    </tr>\n",
              "    <tr>\n",
              "      <th>4</th>\n",
              "      <td>15</td>\n",
              "      <td>Fabien Nataf</td>\n",
              "      <td>Ouverture</td>\n",
              "      <td>0IuslXpMROHdEPvSl1fTQK</td>\n",
              "      <td>4</td>\n",
              "      <td>0.950</td>\n",
              "      <td>0.331</td>\n",
              "      <td>82625</td>\n",
              "      <td>0.225</td>\n",
              "      <td>0.123</td>\n",
              "      <td>8</td>\n",
              "      <td>0.2020</td>\n",
              "      <td>-21.150</td>\n",
              "      <td>0</td>\n",
              "      <td>0.0456</td>\n",
              "      <td>140.576</td>\n",
              "      <td>4/4</td>\n",
              "      <td>0.390</td>\n",
              "    </tr>\n",
              "  </tbody>\n",
              "</table>\n",
              "</div>"
            ],
            "text/plain": [
              "   genre        artist_name  ... time_signature valence\n",
              "0     15     Henri Salvador  ...            4/4   0.814\n",
              "1     15  Martin & les fées  ...            4/4   0.816\n",
              "2     15    Joseph Williams  ...            5/4   0.368\n",
              "3     15     Henri Salvador  ...            4/4   0.227\n",
              "4     15       Fabien Nataf  ...            4/4   0.390\n",
              "\n",
              "[5 rows x 18 columns]"
            ]
          },
          "metadata": {
            "tags": []
          },
          "execution_count": 11
        }
      ]
    },
    {
      "cell_type": "markdown",
      "metadata": {
        "id": "Qr9LvIGlg51-",
        "colab_type": "text"
      },
      "source": [
        "###Separa la Data de Entrenamiento y Validación"
      ]
    },
    {
      "cell_type": "code",
      "metadata": {
        "id": "C1WdSibT4M0w",
        "colab_type": "code",
        "colab": {}
      },
      "source": [
        "x = df.drop(['genre','artist_name','track_name','track_id','time_signature','mode','popularity'], axis=1)\n",
        "y = df['genre']"
      ],
      "execution_count": 0,
      "outputs": []
    },
    {
      "cell_type": "code",
      "metadata": {
        "id": "FZHQG6Pd6aTM",
        "colab_type": "code",
        "colab": {
          "base_uri": "https://localhost:8080/",
          "height": 226
        },
        "outputId": "ed52d86c-3612-417f-c7b1-ab79e91c8b02"
      },
      "source": [
        "x.head()"
      ],
      "execution_count": 13,
      "outputs": [
        {
          "output_type": "execute_result",
          "data": {
            "text/html": [
              "<div>\n",
              "<style scoped>\n",
              "    .dataframe tbody tr th:only-of-type {\n",
              "        vertical-align: middle;\n",
              "    }\n",
              "\n",
              "    .dataframe tbody tr th {\n",
              "        vertical-align: top;\n",
              "    }\n",
              "\n",
              "    .dataframe thead th {\n",
              "        text-align: right;\n",
              "    }\n",
              "</style>\n",
              "<table border=\"1\" class=\"dataframe\">\n",
              "  <thead>\n",
              "    <tr style=\"text-align: right;\">\n",
              "      <th></th>\n",
              "      <th>acousticness</th>\n",
              "      <th>danceability</th>\n",
              "      <th>duration_ms</th>\n",
              "      <th>energy</th>\n",
              "      <th>instrumentalness</th>\n",
              "      <th>key</th>\n",
              "      <th>liveness</th>\n",
              "      <th>loudness</th>\n",
              "      <th>speechiness</th>\n",
              "      <th>tempo</th>\n",
              "      <th>valence</th>\n",
              "    </tr>\n",
              "  </thead>\n",
              "  <tbody>\n",
              "    <tr>\n",
              "      <th>0</th>\n",
              "      <td>0.611</td>\n",
              "      <td>0.389</td>\n",
              "      <td>99373</td>\n",
              "      <td>0.910</td>\n",
              "      <td>0.000</td>\n",
              "      <td>4</td>\n",
              "      <td>0.3460</td>\n",
              "      <td>-1.828</td>\n",
              "      <td>0.0525</td>\n",
              "      <td>166.969</td>\n",
              "      <td>0.814</td>\n",
              "    </tr>\n",
              "    <tr>\n",
              "      <th>1</th>\n",
              "      <td>0.246</td>\n",
              "      <td>0.590</td>\n",
              "      <td>137373</td>\n",
              "      <td>0.737</td>\n",
              "      <td>0.000</td>\n",
              "      <td>9</td>\n",
              "      <td>0.1510</td>\n",
              "      <td>-5.559</td>\n",
              "      <td>0.0868</td>\n",
              "      <td>174.003</td>\n",
              "      <td>0.816</td>\n",
              "    </tr>\n",
              "    <tr>\n",
              "      <th>2</th>\n",
              "      <td>0.952</td>\n",
              "      <td>0.663</td>\n",
              "      <td>170267</td>\n",
              "      <td>0.131</td>\n",
              "      <td>0.000</td>\n",
              "      <td>3</td>\n",
              "      <td>0.1030</td>\n",
              "      <td>-13.879</td>\n",
              "      <td>0.0362</td>\n",
              "      <td>99.488</td>\n",
              "      <td>0.368</td>\n",
              "    </tr>\n",
              "    <tr>\n",
              "      <th>3</th>\n",
              "      <td>0.703</td>\n",
              "      <td>0.240</td>\n",
              "      <td>152427</td>\n",
              "      <td>0.326</td>\n",
              "      <td>0.000</td>\n",
              "      <td>4</td>\n",
              "      <td>0.0985</td>\n",
              "      <td>-12.178</td>\n",
              "      <td>0.0395</td>\n",
              "      <td>171.758</td>\n",
              "      <td>0.227</td>\n",
              "    </tr>\n",
              "    <tr>\n",
              "      <th>4</th>\n",
              "      <td>0.950</td>\n",
              "      <td>0.331</td>\n",
              "      <td>82625</td>\n",
              "      <td>0.225</td>\n",
              "      <td>0.123</td>\n",
              "      <td>8</td>\n",
              "      <td>0.2020</td>\n",
              "      <td>-21.150</td>\n",
              "      <td>0.0456</td>\n",
              "      <td>140.576</td>\n",
              "      <td>0.390</td>\n",
              "    </tr>\n",
              "  </tbody>\n",
              "</table>\n",
              "</div>"
            ],
            "text/plain": [
              "   acousticness  danceability  duration_ms  ...  speechiness    tempo  valence\n",
              "0         0.611         0.389        99373  ...       0.0525  166.969    0.814\n",
              "1         0.246         0.590       137373  ...       0.0868  174.003    0.816\n",
              "2         0.952         0.663       170267  ...       0.0362   99.488    0.368\n",
              "3         0.703         0.240       152427  ...       0.0395  171.758    0.227\n",
              "4         0.950         0.331        82625  ...       0.0456  140.576    0.390\n",
              "\n",
              "[5 rows x 11 columns]"
            ]
          },
          "metadata": {
            "tags": []
          },
          "execution_count": 13
        }
      ]
    },
    {
      "cell_type": "code",
      "metadata": {
        "id": "oFna5wCm6dV0",
        "colab_type": "code",
        "colab": {
          "base_uri": "https://localhost:8080/",
          "height": 54
        },
        "outputId": "f4c2da14-2bd3-4338-a73e-41dbf30805a6"
      },
      "source": [
        "from sklearn.model_selection import train_test_split\n",
        "\n",
        "# Usamos método \"train_test_split\" para usar el 20% de la data para validar el modelo.\n",
        "# El parámetro \"random state\" nos sirve para poder replicar la misma separación.\n",
        "x_train, x_val, y_train, y_val = train_test_split(x, y, test_size=0.20)\n",
        "print('Train shape: ',x_train.shape)\n",
        "print('Validation shape: ',x_val.shape)"
      ],
      "execution_count": 14,
      "outputs": [
        {
          "output_type": "stream",
          "text": [
            "Train shape:  (186180, 11)\n",
            "Validation shape:  (46545, 11)\n"
          ],
          "name": "stdout"
        }
      ]
    },
    {
      "cell_type": "markdown",
      "metadata": {
        "id": "jU1JtvxQhAbL",
        "colab_type": "text"
      },
      "source": [
        "###Entrenar el árbol"
      ]
    },
    {
      "cell_type": "code",
      "metadata": {
        "id": "N7iaTJyK6jJY",
        "colab_type": "code",
        "colab": {
          "base_uri": "https://localhost:8080/",
          "height": 127
        },
        "outputId": "b5ae3050-4bbb-4cc7-9094-a232c22dec00"
      },
      "source": [
        "from sklearn.tree import DecisionTreeClassifier\n",
        "m2 = DecisionTreeClassifier(max_depth=5)\n",
        "m2.fit(x_train,y_train)"
      ],
      "execution_count": 52,
      "outputs": [
        {
          "output_type": "execute_result",
          "data": {
            "text/plain": [
              "DecisionTreeClassifier(ccp_alpha=0.0, class_weight=None, criterion='gini',\n",
              "                       max_depth=5, max_features=None, max_leaf_nodes=None,\n",
              "                       min_impurity_decrease=0.0, min_impurity_split=None,\n",
              "                       min_samples_leaf=1, min_samples_split=2,\n",
              "                       min_weight_fraction_leaf=0.0, presort='deprecated',\n",
              "                       random_state=None, splitter='best')"
            ]
          },
          "metadata": {
            "tags": []
          },
          "execution_count": 52
        }
      ]
    },
    {
      "cell_type": "code",
      "metadata": {
        "id": "mKFeKfym7J5O",
        "colab_type": "code",
        "colab": {
          "base_uri": "https://localhost:8080/",
          "height": 35
        },
        "outputId": "f24e2428-2f33-43bb-a43f-7b3cc47b1f22"
      },
      "source": [
        "m2.tree_.max_depth"
      ],
      "execution_count": 53,
      "outputs": [
        {
          "output_type": "execute_result",
          "data": {
            "text/plain": [
              "5"
            ]
          },
          "metadata": {
            "tags": []
          },
          "execution_count": 53
        }
      ]
    },
    {
      "cell_type": "code",
      "metadata": {
        "id": "_OdQ1clJ7sG9",
        "colab_type": "code",
        "colab": {
          "base_uri": "https://localhost:8080/",
          "height": 226
        },
        "outputId": "0cfa43da-2c31-436b-c1f5-ac33d50a2e01"
      },
      "source": [
        "x_val.head()"
      ],
      "execution_count": 245,
      "outputs": [
        {
          "output_type": "execute_result",
          "data": {
            "text/html": [
              "<div>\n",
              "<style scoped>\n",
              "    .dataframe tbody tr th:only-of-type {\n",
              "        vertical-align: middle;\n",
              "    }\n",
              "\n",
              "    .dataframe tbody tr th {\n",
              "        vertical-align: top;\n",
              "    }\n",
              "\n",
              "    .dataframe thead th {\n",
              "        text-align: right;\n",
              "    }\n",
              "</style>\n",
              "<table border=\"1\" class=\"dataframe\">\n",
              "  <thead>\n",
              "    <tr style=\"text-align: right;\">\n",
              "      <th></th>\n",
              "      <th>acousticness</th>\n",
              "      <th>danceability</th>\n",
              "      <th>duration_ms</th>\n",
              "      <th>energy</th>\n",
              "      <th>instrumentalness</th>\n",
              "      <th>key</th>\n",
              "      <th>liveness</th>\n",
              "      <th>loudness</th>\n",
              "      <th>speechiness</th>\n",
              "      <th>tempo</th>\n",
              "      <th>valence</th>\n",
              "    </tr>\n",
              "  </thead>\n",
              "  <tbody>\n",
              "    <tr>\n",
              "      <th>109974</th>\n",
              "      <td>0.048900</td>\n",
              "      <td>0.704</td>\n",
              "      <td>211453</td>\n",
              "      <td>0.830</td>\n",
              "      <td>0.000000</td>\n",
              "      <td>2</td>\n",
              "      <td>0.1110</td>\n",
              "      <td>-3.139</td>\n",
              "      <td>0.0297</td>\n",
              "      <td>127.104</td>\n",
              "      <td>0.957</td>\n",
              "    </tr>\n",
              "    <tr>\n",
              "      <th>61556</th>\n",
              "      <td>0.018200</td>\n",
              "      <td>0.634</td>\n",
              "      <td>237987</td>\n",
              "      <td>0.792</td>\n",
              "      <td>0.000000</td>\n",
              "      <td>1</td>\n",
              "      <td>0.7770</td>\n",
              "      <td>-3.972</td>\n",
              "      <td>0.1640</td>\n",
              "      <td>86.054</td>\n",
              "      <td>0.225</td>\n",
              "    </tr>\n",
              "    <tr>\n",
              "      <th>56459</th>\n",
              "      <td>0.593000</td>\n",
              "      <td>0.636</td>\n",
              "      <td>238467</td>\n",
              "      <td>0.264</td>\n",
              "      <td>0.000042</td>\n",
              "      <td>9</td>\n",
              "      <td>0.2750</td>\n",
              "      <td>-14.567</td>\n",
              "      <td>0.0263</td>\n",
              "      <td>99.304</td>\n",
              "      <td>0.264</td>\n",
              "    </tr>\n",
              "    <tr>\n",
              "      <th>158074</th>\n",
              "      <td>0.000523</td>\n",
              "      <td>0.601</td>\n",
              "      <td>170440</td>\n",
              "      <td>0.868</td>\n",
              "      <td>0.000012</td>\n",
              "      <td>10</td>\n",
              "      <td>0.0899</td>\n",
              "      <td>-4.686</td>\n",
              "      <td>0.0735</td>\n",
              "      <td>96.951</td>\n",
              "      <td>0.875</td>\n",
              "    </tr>\n",
              "    <tr>\n",
              "      <th>21470</th>\n",
              "      <td>0.000690</td>\n",
              "      <td>0.682</td>\n",
              "      <td>287335</td>\n",
              "      <td>0.797</td>\n",
              "      <td>0.248000</td>\n",
              "      <td>11</td>\n",
              "      <td>0.0320</td>\n",
              "      <td>-4.910</td>\n",
              "      <td>0.0539</td>\n",
              "      <td>125.006</td>\n",
              "      <td>0.658</td>\n",
              "    </tr>\n",
              "  </tbody>\n",
              "</table>\n",
              "</div>"
            ],
            "text/plain": [
              "        acousticness  danceability  duration_ms  ...  speechiness    tempo  valence\n",
              "109974      0.048900         0.704       211453  ...       0.0297  127.104    0.957\n",
              "61556       0.018200         0.634       237987  ...       0.1640   86.054    0.225\n",
              "56459       0.593000         0.636       238467  ...       0.0263   99.304    0.264\n",
              "158074      0.000523         0.601       170440  ...       0.0735   96.951    0.875\n",
              "21470       0.000690         0.682       287335  ...       0.0539  125.006    0.658\n",
              "\n",
              "[5 rows x 11 columns]"
            ]
          },
          "metadata": {
            "tags": []
          },
          "execution_count": 245
        }
      ]
    },
    {
      "cell_type": "code",
      "metadata": {
        "id": "_Krtabj66r4W",
        "colab_type": "code",
        "colab": {
          "base_uri": "https://localhost:8080/",
          "height": 35
        },
        "outputId": "29ed6a58-2020-4ee3-9b4d-a6d6a0b46845"
      },
      "source": [
        "m2.score(x_train,y_train)"
      ],
      "execution_count": 54,
      "outputs": [
        {
          "output_type": "execute_result",
          "data": {
            "text/plain": [
              "0.20382962724245354"
            ]
          },
          "metadata": {
            "tags": []
          },
          "execution_count": 54
        }
      ]
    },
    {
      "cell_type": "code",
      "metadata": {
        "id": "1mYmDKeiAn5J",
        "colab_type": "code",
        "colab": {
          "base_uri": "https://localhost:8080/",
          "height": 35
        },
        "outputId": "9feda25c-ebaf-48f7-b9d3-7e0d682eab07"
      },
      "source": [
        "m2.score(x_val,y_val)"
      ],
      "execution_count": 55,
      "outputs": [
        {
          "output_type": "execute_result",
          "data": {
            "text/plain": [
              "0.20212697389622947"
            ]
          },
          "metadata": {
            "tags": []
          },
          "execution_count": 55
        }
      ]
    },
    {
      "cell_type": "code",
      "metadata": {
        "id": "27aG9Iuu6yF1",
        "colab_type": "code",
        "colab": {
          "base_uri": "https://localhost:8080/",
          "height": 35
        },
        "outputId": "470b8c82-7c49-4172-82f8-04273f1ceb53"
      },
      "source": [
        "m2.predict(x_val)"
      ],
      "execution_count": 21,
      "outputs": [
        {
          "output_type": "execute_result",
          "data": {
            "text/plain": [
              "array([20, 13,  4, ..., 12,  1, 14])"
            ]
          },
          "metadata": {
            "tags": []
          },
          "execution_count": 21
        }
      ]
    },
    {
      "cell_type": "markdown",
      "metadata": {
        "id": "E3BEJ8-uiwsP",
        "colab_type": "text"
      },
      "source": [
        "###Hallando el \"max_depth\" óptimo"
      ]
    },
    {
      "cell_type": "code",
      "metadata": {
        "id": "nf_6kQAR-LBo",
        "colab_type": "code",
        "colab": {}
      },
      "source": [
        "max_depth_range = list(range(3, 46)) #Reemplazar el max valor (15) con la máxima profundidad por defecto para su arbol +1\n",
        "accuracy = []\n",
        "for depth in max_depth_range:\n",
        "    clf = DecisionTreeClassifier(max_depth = depth)\n",
        "    clf.fit(x_train, y_train)    \n",
        "    score = clf.score(x_val, y_val)\n",
        "    \n",
        "    accuracy.append(score)"
      ],
      "execution_count": 0,
      "outputs": []
    },
    {
      "cell_type": "code",
      "metadata": {
        "id": "MfBEMUSBT8-a",
        "colab_type": "code",
        "colab": {}
      },
      "source": [
        "import matplotlib.pyplot as plt\n",
        "%matplotlib inline"
      ],
      "execution_count": 0,
      "outputs": []
    },
    {
      "cell_type": "code",
      "metadata": {
        "id": "BT7mZCbAT_Ji",
        "colab_type": "code",
        "outputId": "061a7834-2935-4f2b-d9af-16afc8a6291a",
        "colab": {
          "base_uri": "https://localhost:8080/",
          "height": 265
        }
      },
      "source": [
        "plt.figure(figsize=(15,4)) #Tamaño del Gráfico en inches\n",
        "plt.plot(accuracy)\n",
        "plt.xticks(list(range(len(max_depth_range))),max_depth_range)\n",
        "plt.grid()\n",
        "plt.show()"
      ],
      "execution_count": 51,
      "outputs": [
        {
          "output_type": "display_data",
          "data": {
            "image/png": "[encoded data removed]",
            "text/plain": [
              "<Figure size 1080x288 with 1 Axes>"
            ]
          },
          "metadata": {
            "tags": []
          }
        }
      ]
    },
    {
      "cell_type": "markdown",
      "metadata": {
        "id": "4Ja7JlFyi45Y",
        "colab_type": "text"
      },
      "source": [
        "###Graficando el árbol"
      ]
    },
    {
      "cell_type": "code",
      "metadata": {
        "id": "S-SzgKzA8L-m",
        "colab_type": "code",
        "colab": {
          "base_uri": "https://localhost:8080/",
          "height": 1000
        },
        "outputId": "d049697a-f20e-4e28-b06c-8f658b96c0d2"
      },
      "source": [
        "from sklearn.tree import export_graphviz\n",
        "import graphviz\n",
        "etiquetas = lgenre.classes_  #IMPORTANTE: para obtener el nombre de las clases reemplazar: \"lgenre\" -> Label Encoder de la columna Genero\n",
        "dot_data = export_graphviz(m2,feature_names= x.columns,class_names=etiquetas,filled=True, rounded=True,special_characters=True) \n",
        "graph = graphviz.Source(dot_data)\n",
        "#graph.render(\"arbol3\",format='png')  La imagen no se aprecia\n",
        "graph"
      ],
      "execution_count": 56,
      "outputs": [
        {
          "output_type": "execute_result",
          "data": {
            "text/plain": [
              "<graphviz.files.Source at 0x7fa836d77f60>"
            ],
            "image/svg+xml": "<?xml version=\"1.0\" encoding=\"UTF-8\" standalone=\"no\"?>\n<!DOCTYPE svg PUBLIC \"-//W3C//DTD SVG 1.1//EN\"\n \"http://www.w3.org/Graphics/SVG/1.1/DTD/svg11.dtd\">\n<!-- Generated by graphviz version 2.40.1 (20161225.0304)\n -->\n<!-- Title: Tree Pages: 1 -->\n<svg width=\"10939pt\" height=\"851pt\"\n viewBox=\"0.00 0.00 10939.00 851.00\" xmlns=\"http://www.w3.org/2000/svg\" xmlns:xlink=\"http://www.w3.org/1999/xlink\">\n<g id=\"graph0\" class=\"graph\" transform=\"scale(1 1) rotate(0) translate(4 847)\">\n<title>Tree</title>\n<polygon fill=\"#ffffff\" stroke=\"transparent\" points=\"-4,4 -4,-847 10935,-847 10935,4 -4,4\"/>\n<!-- 0 -->\n<g id=\"node1\" class=\"node\">\n<title>0</title>\n<path fill=\"#ffffff\" stroke=\"#000000\" d=\"M6675,-843C6675,-843 6287,-843 6287,-843 6281,-843 6275,-837 6275,-831 6275,-831 6275,-742 6275,-742 6275,-736 6281,-730 6287,-730 6287,-730 6675,-730 6675,-730 6681,-730 6687,-736 6687,-742 6687,-742 6687,-831 6687,-831 6687,-837 6681,-843 6675,-843\"/>\n<text text-anchor=\"start\" x=\"6413.5\" y=\"-827.8\" font-family=\"Helvetica,sans-Serif\" font-size=\"14.00\" fill=\"#000000\">speechiness ≤ 0.629</text>\n<text text-anchor=\"start\" x=\"6443\" y=\"-812.8\" font-family=\"Helvetica,sans-Serif\" font-size=\"14.00\" fill=\"#000000\">gini = 0.961</text>\n<text text-anchor=\"start\" x=\"6420.5\" y=\"-797.8\" font-family=\"Helvetica,sans-Serif\" font-size=\"14.00\" fill=\"#000000\">samples = 186180</text>\n<text text-anchor=\"start\" x=\"6283\" y=\"-782.8\" font-family=\"Helvetica,sans-Serif\" font-size=\"14.00\" fill=\"#000000\">value = [89, 7372, 7176, 7189, 4307, 7499, 7416, 7778, 6952</text>\n<text text-anchor=\"start\" x=\"6302\" y=\"-767.8\" font-family=\"Helvetica,sans-Serif\" font-size=\"14.00\" fill=\"#000000\">6958, 7500, 7404, 7378, 7630, 7590, 6235, 6607, 7545</text>\n<text text-anchor=\"start\" x=\"6300.5\" y=\"-752.8\" font-family=\"Helvetica,sans-Serif\" font-size=\"14.00\" fill=\"#000000\">7193, 7440, 6995, 7117, 7473, 7118, 7265, 7704, 7250]</text>\n<text text-anchor=\"start\" x=\"6428.5\" y=\"-737.8\" font-family=\"Helvetica,sans-Serif\" font-size=\"14.00\" fill=\"#000000\">class = Comedy</text>\n</g>\n<!-- 1 -->\n<g id=\"node2\" class=\"node\">\n<title>1</title>\n<path fill=\"#ffffff\" stroke=\"#000000\" d=\"M4749,-694C4749,-694 4369,-694 4369,-694 4363,-694 4357,-688 4357,-682 4357,-682 4357,-593 4357,-593 4357,-587 4363,-581 4369,-581 4369,-581 4749,-581 4749,-581 4755,-581 4761,-587 4761,-593 4761,-593 4761,-682 4761,-682 4761,-688 4755,-694 4749,-694\"/>\n<text text-anchor=\"start\" x=\"4497\" y=\"-678.8\" font-family=\"Helvetica,sans-Serif\" font-size=\"14.00\" fill=\"#000000\">loudness ≤ &#45;15.038</text>\n<text text-anchor=\"start\" x=\"4525.5\" y=\"-663.8\" font-family=\"Helvetica,sans-Serif\" font-size=\"14.00\" fill=\"#000000\">gini = 0.96</text>\n<text text-anchor=\"start\" x=\"4498.5\" y=\"-648.8\" font-family=\"Helvetica,sans-Serif\" font-size=\"14.00\" fill=\"#000000\">samples = 178515</text>\n<text text-anchor=\"start\" x=\"4365\" y=\"-633.8\" font-family=\"Helvetica,sans-Serif\" font-size=\"14.00\" fill=\"#000000\">value = [89, 7363, 7176, 7173, 4185, 7489, 7413, 716, 6951</text>\n<text text-anchor=\"start\" x=\"4380\" y=\"-618.8\" font-family=\"Helvetica,sans-Serif\" font-size=\"14.00\" fill=\"#000000\">6955, 7487, 7403, 7327, 7625, 7578, 5995, 6597, 7537</text>\n<text text-anchor=\"start\" x=\"4378.5\" y=\"-603.8\" font-family=\"Helvetica,sans-Serif\" font-size=\"14.00\" fill=\"#000000\">7174, 7401, 6981, 7112, 7472, 7109, 7256, 7703, 7248]</text>\n<text text-anchor=\"start\" x=\"4497\" y=\"-588.8\" font-family=\"Helvetica,sans-Serif\" font-size=\"14.00\" fill=\"#000000\">class = Soundtrack</text>\n</g>\n<!-- 0&#45;&gt;1 -->\n<g id=\"edge1\" class=\"edge\">\n<title>0&#45;&gt;1</title>\n<path fill=\"none\" stroke=\"#000000\" d=\"M6274.8564,-770.519C5907.4513,-742.0365 5143.1848,-682.788 4771.3569,-653.9626\"/>\n<polygon fill=\"#000000\" stroke=\"#000000\" points=\"4771.5278,-650.4655 4761.2871,-653.182 4770.9867,-657.4445 4771.5278,-650.4655\"/>\n<text text-anchor=\"middle\" x=\"4777.5456\" y=\"-668.4731\" font-family=\"Helvetica,sans-Serif\" font-size=\"14.00\" fill=\"#000000\">True</text>\n</g>\n<!-- 32 -->\n<g id=\"node33\" class=\"node\">\n<title>32</title>\n<path fill=\"#4fe749\" stroke=\"#000000\" d=\"M7206.5,-694C7206.5,-694 6887.5,-694 6887.5,-694 6881.5,-694 6875.5,-688 6875.5,-682 6875.5,-682 6875.5,-593 6875.5,-593 6875.5,-587 6881.5,-581 6887.5,-581 6887.5,-581 7206.5,-581 7206.5,-581 7212.5,-581 7218.5,-587 7218.5,-593 7218.5,-593 7218.5,-682 7218.5,-682 7218.5,-688 7212.5,-694 7206.5,-694\"/>\n<text text-anchor=\"start\" x=\"6994\" y=\"-678.8\" font-family=\"Helvetica,sans-Serif\" font-size=\"14.00\" fill=\"#000000\">liveness ≤ 0.361</text>\n<text text-anchor=\"start\" x=\"7013.5\" y=\"-663.8\" font-family=\"Helvetica,sans-Serif\" font-size=\"14.00\" fill=\"#000000\">gini = 0.15</text>\n<text text-anchor=\"start\" x=\"6995\" y=\"-648.8\" font-family=\"Helvetica,sans-Serif\" font-size=\"14.00\" fill=\"#000000\">samples = 7665</text>\n<text text-anchor=\"start\" x=\"6883.5\" y=\"-633.8\" font-family=\"Helvetica,sans-Serif\" font-size=\"14.00\" fill=\"#000000\">value = [0, 9, 0, 16, 122, 10, 3, 7062, 1, 3, 13, 1, 51</text>\n<text text-anchor=\"start\" x=\"6919\" y=\"-618.8\" font-family=\"Helvetica,sans-Serif\" font-size=\"14.00\" fill=\"#000000\">5, 12, 240, 10, 8, 19, 39, 14, 5, 1, 9, 9, 1</text>\n<text text-anchor=\"start\" x=\"7040.5\" y=\"-603.8\" font-family=\"Helvetica,sans-Serif\" font-size=\"14.00\" fill=\"#000000\">2]</text>\n<text text-anchor=\"start\" x=\"6994.5\" y=\"-588.8\" font-family=\"Helvetica,sans-Serif\" font-size=\"14.00\" fill=\"#000000\">class = Comedy</text>\n</g>\n<!-- 0&#45;&gt;32 -->\n<g id=\"edge32\" class=\"edge\">\n<title>0&#45;&gt;32</title>\n<path fill=\"none\" stroke=\"#000000\" d=\"M6687.3408,-732.1806C6745.7286,-716.81 6808.8251,-700.1998 6865.6237,-685.2475\"/>\n<polygon fill=\"#000000\" stroke=\"#000000\" points=\"6866.6364,-688.6002 6875.4159,-682.6697 6864.8544,-681.8308 6866.6364,-688.6002\"/>\n<text text-anchor=\"middle\" x=\"6862.821\" y=\"-700.5652\" font-family=\"Helvetica,sans-Serif\" font-size=\"14.00\" fill=\"#000000\">False</text>\n</g>\n<!-- 2 -->\n<g id=\"node3\" class=\"node\">\n<title>2</title>\n<path fill=\"#f9fef8\" stroke=\"#000000\" d=\"M2273,-545C2273,-545 1911,-545 1911,-545 1905,-545 1899,-539 1899,-533 1899,-533 1899,-444 1899,-444 1899,-438 1905,-432 1911,-432 1911,-432 2273,-432 2273,-432 2279,-432 2285,-438 2285,-444 2285,-444 2285,-533 2285,-533 2285,-539 2279,-545 2273,-545\"/>\n<text text-anchor=\"start\" x=\"2010.5\" y=\"-529.8\" font-family=\"Helvetica,sans-Serif\" font-size=\"14.00\" fill=\"#000000\">instrumentalness ≤ 0.257</text>\n<text text-anchor=\"start\" x=\"2054\" y=\"-514.8\" font-family=\"Helvetica,sans-Serif\" font-size=\"14.00\" fill=\"#000000\">gini = 0.848</text>\n<text text-anchor=\"start\" x=\"2036\" y=\"-499.8\" font-family=\"Helvetica,sans-Serif\" font-size=\"14.00\" fill=\"#000000\">samples = 26089</text>\n<text text-anchor=\"start\" x=\"1907\" y=\"-484.8\" font-family=\"Helvetica,sans-Serif\" font-size=\"14.00\" fill=\"#000000\">value = [35, 70, 946, 520, 760, 68, 6185, 69, 207, 33, 187</text>\n<text text-anchor=\"start\" x=\"1934\" y=\"-469.8\" font-family=\"Helvetica,sans-Serif\" font-size=\"14.00\" fill=\"#000000\">751, 32, 258, 1396, 1736, 5140, 83, 108, 51, 133</text>\n<text text-anchor=\"start\" x=\"1997\" y=\"-454.8\" font-family=\"Helvetica,sans-Serif\" font-size=\"14.00\" fill=\"#000000\">15, 212, 57, 343, 5434, 1260]</text>\n<text text-anchor=\"start\" x=\"2037.5\" y=\"-439.8\" font-family=\"Helvetica,sans-Serif\" font-size=\"14.00\" fill=\"#000000\">class = Classical</text>\n</g>\n<!-- 1&#45;&gt;2 -->\n<g id=\"edge2\" class=\"edge\">\n<title>1&#45;&gt;2</title>\n<path fill=\"none\" stroke=\"#000000\" d=\"M4356.8532,-625.2909C3893.5941,-597.3113 2759.4951,-528.8149 2295.2108,-500.7734\"/>\n<polygon fill=\"#000000\" stroke=\"#000000\" points=\"2295.2367,-497.2687 2285.0439,-500.1593 2294.8147,-504.2559 2295.2367,-497.2687\"/>\n</g>\n<!-- 17 -->\n<g id=\"node18\" class=\"node\">\n<title>17</title>\n<path fill=\"#ffffff\" stroke=\"#000000\" d=\"M4749,-545C4749,-545 4369,-545 4369,-545 4363,-545 4357,-539 4357,-533 4357,-533 4357,-444 4357,-444 4357,-438 4363,-432 4369,-432 4369,-432 4749,-432 4749,-432 4755,-432 4761,-438 4761,-444 4761,-444 4761,-533 4761,-533 4761,-539 4755,-545 4749,-545\"/>\n<text text-anchor=\"start\" x=\"4494\" y=\"-529.8\" font-family=\"Helvetica,sans-Serif\" font-size=\"14.00\" fill=\"#000000\">danceability ≤ 0.662</text>\n<text text-anchor=\"start\" x=\"4521\" y=\"-514.8\" font-family=\"Helvetica,sans-Serif\" font-size=\"14.00\" fill=\"#000000\">gini = 0.957</text>\n<text text-anchor=\"start\" x=\"4498.5\" y=\"-499.8\" font-family=\"Helvetica,sans-Serif\" font-size=\"14.00\" fill=\"#000000\">samples = 152426</text>\n<text text-anchor=\"start\" x=\"4365\" y=\"-484.8\" font-family=\"Helvetica,sans-Serif\" font-size=\"14.00\" fill=\"#000000\">value = [54, 7293, 6230, 6653, 3425, 7421, 1228, 647, 6744</text>\n<text text-anchor=\"start\" x=\"4380\" y=\"-469.8\" font-family=\"Helvetica,sans-Serif\" font-size=\"14.00\" fill=\"#000000\">6922, 7300, 6652, 7295, 7367, 6182, 4259, 1457, 7454</text>\n<text text-anchor=\"start\" x=\"4378.5\" y=\"-454.8\" font-family=\"Helvetica,sans-Serif\" font-size=\"14.00\" fill=\"#000000\">7066, 7350, 6848, 7097, 7260, 7052, 6913, 2269, 5988]</text>\n<text text-anchor=\"start\" x=\"4521\" y=\"-439.8\" font-family=\"Helvetica,sans-Serif\" font-size=\"14.00\" fill=\"#000000\">class = Pop</text>\n</g>\n<!-- 1&#45;&gt;17 -->\n<g id=\"edge17\" class=\"edge\">\n<title>1&#45;&gt;17</title>\n<path fill=\"none\" stroke=\"#000000\" d=\"M4559,-580.7444C4559,-572.442 4559,-563.8273 4559,-555.3464\"/>\n<polygon fill=\"#000000\" stroke=\"#000000\" points=\"4562.5001,-555.0977 4559,-545.0978 4555.5001,-555.0978 4562.5001,-555.0977\"/>\n</g>\n<!-- 3 -->\n<g id=\"node4\" class=\"node\">\n<title>3</title>\n<path fill=\"#cdcff8\" stroke=\"#000000\" d=\"M1225.5,-396C1225.5,-396 880.5,-396 880.5,-396 874.5,-396 868.5,-390 868.5,-384 868.5,-384 868.5,-295 868.5,-295 868.5,-289 874.5,-283 880.5,-283 880.5,-283 1225.5,-283 1225.5,-283 1231.5,-283 1237.5,-289 1237.5,-295 1237.5,-295 1237.5,-384 1237.5,-384 1237.5,-390 1231.5,-396 1225.5,-396\"/>\n<text text-anchor=\"start\" x=\"988\" y=\"-380.8\" font-family=\"Helvetica,sans-Serif\" font-size=\"14.00\" fill=\"#000000\">danceability ≤ 0.459</text>\n<text text-anchor=\"start\" x=\"1015\" y=\"-365.8\" font-family=\"Helvetica,sans-Serif\" font-size=\"14.00\" fill=\"#000000\">gini = 0.834</text>\n<text text-anchor=\"start\" x=\"997\" y=\"-350.8\" font-family=\"Helvetica,sans-Serif\" font-size=\"14.00\" fill=\"#000000\">samples = 10090</text>\n<text text-anchor=\"start\" x=\"876.5\" y=\"-335.8\" font-family=\"Helvetica,sans-Serif\" font-size=\"14.00\" fill=\"#000000\">value = [35, 58, 90, 413, 504, 54, 1334, 68, 204, 23, 24</text>\n<text text-anchor=\"start\" x=\"891.5\" y=\"-320.8\" font-family=\"Helvetica,sans-Serif\" font-size=\"14.00\" fill=\"#000000\">597, 30, 183, 579, 1052, 3545, 54, 93, 39, 105, 15</text>\n<text text-anchor=\"start\" x=\"978\" y=\"-305.8\" font-family=\"Helvetica,sans-Serif\" font-size=\"14.00\" fill=\"#000000\">160, 43, 255, 308, 225]</text>\n<text text-anchor=\"start\" x=\"1007.5\" y=\"-290.8\" font-family=\"Helvetica,sans-Serif\" font-size=\"14.00\" fill=\"#000000\">class = Opera</text>\n</g>\n<!-- 2&#45;&gt;3 -->\n<g id=\"edge3\" class=\"edge\">\n<title>2&#45;&gt;3</title>\n<path fill=\"none\" stroke=\"#000000\" d=\"M1898.7033,-460.7799C1713.0175,-434.1512 1433.9452,-394.1303 1247.768,-367.4311\"/>\n<polygon fill=\"#000000\" stroke=\"#000000\" points=\"1248.2603,-363.966 1237.8647,-366.0109 1247.2666,-370.8951 1248.2603,-363.966\"/>\n</g>\n<!-- 10 -->\n<g id=\"node11\" class=\"node\">\n<title>10</title>\n<path fill=\"#fefafa\" stroke=\"#000000\" d=\"M2256.5,-396C2256.5,-396 1927.5,-396 1927.5,-396 1921.5,-396 1915.5,-390 1915.5,-384 1915.5,-384 1915.5,-295 1915.5,-295 1915.5,-289 1921.5,-283 1927.5,-283 1927.5,-283 2256.5,-283 2256.5,-283 2262.5,-283 2268.5,-289 2268.5,-295 2268.5,-295 2268.5,-384 2268.5,-384 2268.5,-390 2262.5,-396 2256.5,-396\"/>\n<text text-anchor=\"start\" x=\"2027\" y=\"-380.8\" font-family=\"Helvetica,sans-Serif\" font-size=\"14.00\" fill=\"#000000\">acousticness ≤ 0.92</text>\n<text text-anchor=\"start\" x=\"2054\" y=\"-365.8\" font-family=\"Helvetica,sans-Serif\" font-size=\"14.00\" fill=\"#000000\">gini = 0.783</text>\n<text text-anchor=\"start\" x=\"2036\" y=\"-350.8\" font-family=\"Helvetica,sans-Serif\" font-size=\"14.00\" fill=\"#000000\">samples = 15999</text>\n<text text-anchor=\"start\" x=\"1923.5\" y=\"-335.8\" font-family=\"Helvetica,sans-Serif\" font-size=\"14.00\" fill=\"#000000\">value = [0, 12, 856, 107, 256, 14, 4851, 1, 3, 10, 163</text>\n<text text-anchor=\"start\" x=\"1951\" y=\"-320.8\" font-family=\"Helvetica,sans-Serif\" font-size=\"14.00\" fill=\"#000000\">154, 2, 75, 817, 684, 1595, 29, 15, 12, 28, 0</text>\n<text text-anchor=\"start\" x=\"2017\" y=\"-305.8\" font-family=\"Helvetica,sans-Serif\" font-size=\"14.00\" fill=\"#000000\">52, 14, 88, 5126, 1035]</text>\n<text text-anchor=\"start\" x=\"2030\" y=\"-290.8\" font-family=\"Helvetica,sans-Serif\" font-size=\"14.00\" fill=\"#000000\">class = Soundtrack</text>\n</g>\n<!-- 2&#45;&gt;10 -->\n<g id=\"edge10\" class=\"edge\">\n<title>2&#45;&gt;10</title>\n<path fill=\"none\" stroke=\"#000000\" d=\"M2092,-431.7444C2092,-423.442 2092,-414.8273 2092,-406.3464\"/>\n<polygon fill=\"#000000\" stroke=\"#000000\" points=\"2095.5001,-406.0977 2092,-396.0978 2088.5001,-406.0978 2095.5001,-406.0977\"/>\n</g>\n<!-- 4 -->\n<g id=\"node5\" class=\"node\">\n<title>4</title>\n<path fill=\"#b0b3f5\" stroke=\"#000000\" d=\"M685,-247C685,-247 365,-247 365,-247 359,-247 353,-241 353,-235 353,-235 353,-146 353,-146 353,-140 359,-134 365,-134 365,-134 685,-134 685,-134 691,-134 697,-140 697,-146 697,-146 697,-235 697,-235 697,-241 691,-247 685,-247\"/>\n<text text-anchor=\"start\" x=\"456\" y=\"-231.8\" font-family=\"Helvetica,sans-Serif\" font-size=\"14.00\" fill=\"#000000\">acousticness ≤ 0.924</text>\n<text text-anchor=\"start\" x=\"487\" y=\"-216.8\" font-family=\"Helvetica,sans-Serif\" font-size=\"14.00\" fill=\"#000000\">gini = 0.697</text>\n<text text-anchor=\"start\" x=\"473\" y=\"-201.8\" font-family=\"Helvetica,sans-Serif\" font-size=\"14.00\" fill=\"#000000\">samples = 6438</text>\n<text text-anchor=\"start\" x=\"361\" y=\"-186.8\" font-family=\"Helvetica,sans-Serif\" font-size=\"14.00\" fill=\"#000000\">value = [32, 18, 72, 102, 100, 16, 1167, 21, 31, 4, 7</text>\n<text text-anchor=\"start\" x=\"380.5\" y=\"-171.8\" font-family=\"Helvetica,sans-Serif\" font-size=\"14.00\" fill=\"#000000\">209, 2, 56, 236, 557, 3264, 17, 22, 0, 2, 0, 45</text>\n<text text-anchor=\"start\" x=\"474.5\" y=\"-156.8\" font-family=\"Helvetica,sans-Serif\" font-size=\"14.00\" fill=\"#000000\">8, 66, 260, 124]</text>\n<text text-anchor=\"start\" x=\"479.5\" y=\"-141.8\" font-family=\"Helvetica,sans-Serif\" font-size=\"14.00\" fill=\"#000000\">class = Opera</text>\n</g>\n<!-- 3&#45;&gt;4 -->\n<g id=\"edge4\" class=\"edge\">\n<title>3&#45;&gt;4</title>\n<path fill=\"none\" stroke=\"#000000\" d=\"M868.3312,-287.387C815.9791,-272.6134 759.0386,-256.545 706.8542,-241.8187\"/>\n<polygon fill=\"#000000\" stroke=\"#000000\" points=\"707.7425,-238.4327 697.1678,-239.0852 705.8413,-245.1696 707.7425,-238.4327\"/>\n</g>\n<!-- 7 -->\n<g id=\"node8\" class=\"node\">\n<title>7</title>\n<path fill=\"#f9fbfe\" stroke=\"#000000\" d=\"M1217.5,-247C1217.5,-247 888.5,-247 888.5,-247 882.5,-247 876.5,-241 876.5,-235 876.5,-235 876.5,-146 876.5,-146 876.5,-140 882.5,-134 888.5,-134 888.5,-134 1217.5,-134 1217.5,-134 1223.5,-134 1229.5,-140 1229.5,-146 1229.5,-146 1229.5,-235 1229.5,-235 1229.5,-241 1223.5,-247 1217.5,-247\"/>\n<text text-anchor=\"start\" x=\"974.5\" y=\"-231.8\" font-family=\"Helvetica,sans-Serif\" font-size=\"14.00\" fill=\"#000000\">duration_ms ≤ 133474.0</text>\n<text text-anchor=\"start\" x=\"1015\" y=\"-216.8\" font-family=\"Helvetica,sans-Serif\" font-size=\"14.00\" fill=\"#000000\">gini = 0.924</text>\n<text text-anchor=\"start\" x=\"1001\" y=\"-201.8\" font-family=\"Helvetica,sans-Serif\" font-size=\"14.00\" fill=\"#000000\">samples = 3652</text>\n<text text-anchor=\"start\" x=\"884.5\" y=\"-186.8\" font-family=\"Helvetica,sans-Serif\" font-size=\"14.00\" fill=\"#000000\">value = [3, 40, 18, 311, 404, 38, 167, 47, 173, 19, 17</text>\n<text text-anchor=\"start\" x=\"899.5\" y=\"-171.8\" font-family=\"Helvetica,sans-Serif\" font-size=\"14.00\" fill=\"#000000\">388, 28, 127, 343, 495, 281, 37, 71, 39, 103, 15</text>\n<text text-anchor=\"start\" x=\"982\" y=\"-156.8\" font-family=\"Helvetica,sans-Serif\" font-size=\"14.00\" fill=\"#000000\">115, 35, 189, 48, 101]</text>\n<text text-anchor=\"start\" x=\"1008.5\" y=\"-141.8\" font-family=\"Helvetica,sans-Serif\" font-size=\"14.00\" fill=\"#000000\">class = Movie</text>\n</g>\n<!-- 3&#45;&gt;7 -->\n<g id=\"edge7\" class=\"edge\">\n<title>3&#45;&gt;7</title>\n<path fill=\"none\" stroke=\"#000000\" d=\"M1053,-282.7444C1053,-274.442 1053,-265.8273 1053,-257.3464\"/>\n<polygon fill=\"#000000\" stroke=\"#000000\" points=\"1056.5001,-257.0977 1053,-247.0978 1049.5001,-257.0978 1056.5001,-257.0977\"/>\n</g>\n<!-- 5 -->\n<g id=\"node6\" class=\"node\">\n<title>5</title>\n<path fill=\"#f0f0fd\" stroke=\"#000000\" d=\"M332,-98C332,-98 12,-98 12,-98 6,-98 0,-92 0,-86 0,-86 0,-12 0,-12 0,-6 6,0 12,0 12,0 332,0 332,0 338,0 344,-6 344,-12 344,-12 344,-86 344,-86 344,-92 338,-98 332,-98\"/>\n<text text-anchor=\"start\" x=\"134\" y=\"-82.8\" font-family=\"Helvetica,sans-Serif\" font-size=\"14.00\" fill=\"#000000\">gini = 0.875</text>\n<text text-anchor=\"start\" x=\"120\" y=\"-67.8\" font-family=\"Helvetica,sans-Serif\" font-size=\"14.00\" fill=\"#000000\">samples = 1911</text>\n<text text-anchor=\"start\" x=\"8\" y=\"-52.8\" font-family=\"Helvetica,sans-Serif\" font-size=\"14.00\" fill=\"#000000\">value = [1, 15, 33, 76, 24, 14, 325, 15, 29, 4, 6, 142</text>\n<text text-anchor=\"start\" x=\"44\" y=\"-37.8\" font-family=\"Helvetica,sans-Serif\" font-size=\"14.00\" fill=\"#000000\">2, 30, 119, 267, 447, 9, 17, 0, 2, 0, 39, 8</text>\n<text text-anchor=\"start\" x=\"133.5\" y=\"-22.8\" font-family=\"Helvetica,sans-Serif\" font-size=\"14.00\" fill=\"#000000\">51, 161, 75]</text>\n<text text-anchor=\"start\" x=\"126.5\" y=\"-7.8\" font-family=\"Helvetica,sans-Serif\" font-size=\"14.00\" fill=\"#000000\">class = Opera</text>\n</g>\n<!-- 4&#45;&gt;5 -->\n<g id=\"edge5\" class=\"edge\">\n<title>4&#45;&gt;5</title>\n<path fill=\"none\" stroke=\"#000000\" d=\"M383.9632,-133.9654C357.5382,-123.373 330.0071,-112.3371 303.8731,-101.8613\"/>\n<polygon fill=\"#000000\" stroke=\"#000000\" points=\"304.8969,-98.501 294.3126,-98.029 302.2924,-104.9985 304.8969,-98.501\"/>\n</g>\n<!-- 6 -->\n<g id=\"node7\" class=\"node\">\n<title>6</title>\n<path fill=\"#9598f1\" stroke=\"#000000\" d=\"M676,-98C676,-98 374,-98 374,-98 368,-98 362,-92 362,-86 362,-86 362,-12 362,-12 362,-6 368,0 374,0 374,0 676,0 676,0 682,0 688,-6 688,-12 688,-12 688,-86 688,-86 688,-92 682,-98 676,-98\"/>\n<text text-anchor=\"start\" x=\"487\" y=\"-82.8\" font-family=\"Helvetica,sans-Serif\" font-size=\"14.00\" fill=\"#000000\">gini = 0.572</text>\n<text text-anchor=\"start\" x=\"473\" y=\"-67.8\" font-family=\"Helvetica,sans-Serif\" font-size=\"14.00\" fill=\"#000000\">samples = 4527</text>\n<text text-anchor=\"start\" x=\"370\" y=\"-52.8\" font-family=\"Helvetica,sans-Serif\" font-size=\"14.00\" fill=\"#000000\">value = [31, 3, 39, 26, 76, 2, 842, 6, 2, 0, 1, 67, 0</text>\n<text text-anchor=\"start\" x=\"397\" y=\"-37.8\" font-family=\"Helvetica,sans-Serif\" font-size=\"14.00\" fill=\"#000000\">26, 117, 290, 2817, 8, 5, 0, 0, 0, 6, 0, 15</text>\n<text text-anchor=\"start\" x=\"502.5\" y=\"-22.8\" font-family=\"Helvetica,sans-Serif\" font-size=\"14.00\" fill=\"#000000\">99, 49]</text>\n<text text-anchor=\"start\" x=\"479.5\" y=\"-7.8\" font-family=\"Helvetica,sans-Serif\" font-size=\"14.00\" fill=\"#000000\">class = Opera</text>\n</g>\n<!-- 4&#45;&gt;6 -->\n<g id=\"edge6\" class=\"edge\">\n<title>4&#45;&gt;6</title>\n<path fill=\"none\" stroke=\"#000000\" d=\"M525,-133.7619C525,-125.3439 525,-116.6502 525,-108.1837\"/>\n<polygon fill=\"#000000\" stroke=\"#000000\" points=\"528.5001,-108.0028 525,-98.0028 521.5001,-108.0029 528.5001,-108.0028\"/>\n</g>\n<!-- 8 -->\n<g id=\"node9\" class=\"node\">\n<title>8</title>\n<path fill=\"#f5fce5\" stroke=\"#000000\" d=\"M1012,-98C1012,-98 718,-98 718,-98 712,-98 706,-92 706,-86 706,-86 706,-12 706,-12 706,-6 712,0 718,0 718,0 1012,0 1012,0 1018,0 1024,-6 1024,-12 1024,-12 1024,-86 1024,-86 1024,-92 1018,-98 1012,-98\"/>\n<text text-anchor=\"start\" x=\"827\" y=\"-82.8\" font-family=\"Helvetica,sans-Serif\" font-size=\"14.00\" fill=\"#000000\">gini = 0.836</text>\n<text text-anchor=\"start\" x=\"817\" y=\"-67.8\" font-family=\"Helvetica,sans-Serif\" font-size=\"14.00\" fill=\"#000000\">samples = 826</text>\n<text text-anchor=\"start\" x=\"714\" y=\"-52.8\" font-family=\"Helvetica,sans-Serif\" font-size=\"14.00\" fill=\"#000000\">value = [1, 3, 6, 15, 244, 5, 69, 27, 5, 0, 2, 32, 5</text>\n<text text-anchor=\"start\" x=\"732.5\" y=\"-37.8\" font-family=\"Helvetica,sans-Serif\" font-size=\"14.00\" fill=\"#000000\">13, 14, 157, 138, 1, 13, 15, 2, 1, 12, 3, 13</text>\n<text text-anchor=\"start\" x=\"842.5\" y=\"-22.8\" font-family=\"Helvetica,sans-Serif\" font-size=\"14.00\" fill=\"#000000\">18, 12]</text>\n<text text-anchor=\"start\" x=\"786.5\" y=\"-7.8\" font-family=\"Helvetica,sans-Serif\" font-size=\"14.00\" fill=\"#000000\">class = Children&#39;s Music</text>\n</g>\n<!-- 7&#45;&gt;8 -->\n<g id=\"edge8\" class=\"edge\">\n<title>7&#45;&gt;8</title>\n<path fill=\"none\" stroke=\"#000000\" d=\"M977.8869,-133.9654C964.8435,-124.1482 951.2941,-113.9501 938.3,-104.1699\"/>\n<polygon fill=\"#000000\" stroke=\"#000000\" points=\"940.3851,-101.3587 930.2905,-98.1415 936.1756,-106.9516 940.3851,-101.3587\"/>\n</g>\n<!-- 9 -->\n<g id=\"node10\" class=\"node\">\n<title>9</title>\n<path fill=\"#feffff\" stroke=\"#000000\" d=\"M1374,-98C1374,-98 1054,-98 1054,-98 1048,-98 1042,-92 1042,-86 1042,-86 1042,-12 1042,-12 1042,-6 1048,0 1054,0 1054,0 1374,0 1374,0 1380,0 1386,-6 1386,-12 1386,-12 1386,-86 1386,-86 1386,-92 1380,-98 1374,-98\"/>\n<text text-anchor=\"start\" x=\"1176\" y=\"-82.8\" font-family=\"Helvetica,sans-Serif\" font-size=\"14.00\" fill=\"#000000\">gini = 0.924</text>\n<text text-anchor=\"start\" x=\"1162\" y=\"-67.8\" font-family=\"Helvetica,sans-Serif\" font-size=\"14.00\" fill=\"#000000\">samples = 2826</text>\n<text text-anchor=\"start\" x=\"1050\" y=\"-52.8\" font-family=\"Helvetica,sans-Serif\" font-size=\"14.00\" fill=\"#000000\">value = [2, 37, 12, 296, 160, 33, 98, 20, 168, 19, 15</text>\n<text text-anchor=\"start\" x=\"1060.5\" y=\"-37.8\" font-family=\"Helvetica,sans-Serif\" font-size=\"14.00\" fill=\"#000000\">356, 23, 114, 329, 338, 143, 36, 58, 24, 101, 14</text>\n<text text-anchor=\"start\" x=\"1147.5\" y=\"-22.8\" font-family=\"Helvetica,sans-Serif\" font-size=\"14.00\" fill=\"#000000\">103, 32, 176, 30, 89]</text>\n<text text-anchor=\"start\" x=\"1175\" y=\"-7.8\" font-family=\"Helvetica,sans-Serif\" font-size=\"14.00\" fill=\"#000000\">class = Folk</text>\n</g>\n<!-- 7&#45;&gt;9 -->\n<g id=\"edge9\" class=\"edge\">\n<title>7&#45;&gt;9</title>\n<path fill=\"none\" stroke=\"#000000\" d=\"M1117.5572,-133.7619C1128.3983,-124.2338 1139.6412,-114.3526 1150.4564,-104.8473\"/>\n<polygon fill=\"#000000\" stroke=\"#000000\" points=\"1153.0433,-107.2334 1158.2441,-98.0028 1148.4222,-101.9755 1153.0433,-107.2334\"/>\n</g>\n<!-- 11 -->\n<g id=\"node12\" class=\"node\">\n<title>11</title>\n<path fill=\"#f5b2b4\" stroke=\"#000000\" d=\"M2073,-247C2073,-247 1753,-247 1753,-247 1747,-247 1741,-241 1741,-235 1741,-235 1741,-146 1741,-146 1741,-140 1747,-134 1753,-134 1753,-134 2073,-134 2073,-134 2079,-134 2085,-140 2085,-146 2085,-146 2085,-235 2085,-235 2085,-241 2079,-247 2073,-247\"/>\n<text text-anchor=\"start\" x=\"1861.5\" y=\"-231.8\" font-family=\"Helvetica,sans-Serif\" font-size=\"14.00\" fill=\"#000000\">valence ≤ 0.155</text>\n<text text-anchor=\"start\" x=\"1875\" y=\"-216.8\" font-family=\"Helvetica,sans-Serif\" font-size=\"14.00\" fill=\"#000000\">gini = 0.743</text>\n<text text-anchor=\"start\" x=\"1861\" y=\"-201.8\" font-family=\"Helvetica,sans-Serif\" font-size=\"14.00\" fill=\"#000000\">samples = 6168</text>\n<text text-anchor=\"start\" x=\"1749\" y=\"-186.8\" font-family=\"Helvetica,sans-Serif\" font-size=\"14.00\" fill=\"#000000\">value = [0, 11, 308, 85, 98, 12, 800, 0, 3, 8, 149, 78</text>\n<text text-anchor=\"start\" x=\"1772.5\" y=\"-171.8\" font-family=\"Helvetica,sans-Serif\" font-size=\"14.00\" fill=\"#000000\">2, 43, 410, 261, 453, 5, 13, 12, 28, 0, 36, 13</text>\n<text text-anchor=\"start\" x=\"1866\" y=\"-156.8\" font-family=\"Helvetica,sans-Serif\" font-size=\"14.00\" fill=\"#000000\">49, 2895, 396]</text>\n<text text-anchor=\"start\" x=\"1851\" y=\"-141.8\" font-family=\"Helvetica,sans-Serif\" font-size=\"14.00\" fill=\"#000000\">class = Soundtrack</text>\n</g>\n<!-- 10&#45;&gt;11 -->\n<g id=\"edge11\" class=\"edge\">\n<title>10&#45;&gt;11</title>\n<path fill=\"none\" stroke=\"#000000\" d=\"M2024.0725,-282.957C2012.4709,-273.2998 2000.355,-263.2145 1988.5694,-253.4042\"/>\n<polygon fill=\"#000000\" stroke=\"#000000\" points=\"1990.806,-250.712 1980.8811,-247.0044 1986.3277,-256.092 1990.806,-250.712\"/>\n</g>\n<!-- 14 -->\n<g id=\"node15\" class=\"node\">\n<title>14</title>\n<path fill=\"#daf9d0\" stroke=\"#000000\" d=\"M2426.5,-247C2426.5,-247 2115.5,-247 2115.5,-247 2109.5,-247 2103.5,-241 2103.5,-235 2103.5,-235 2103.5,-146 2103.5,-146 2103.5,-140 2109.5,-134 2115.5,-134 2115.5,-134 2426.5,-134 2426.5,-134 2432.5,-134 2438.5,-140 2438.5,-146 2438.5,-146 2438.5,-235 2438.5,-235 2438.5,-241 2432.5,-247 2426.5,-247\"/>\n<text text-anchor=\"start\" x=\"2192.5\" y=\"-231.8\" font-family=\"Helvetica,sans-Serif\" font-size=\"14.00\" fill=\"#000000\">duration_ms ≤ 177913.0</text>\n<text text-anchor=\"start\" x=\"2233\" y=\"-216.8\" font-family=\"Helvetica,sans-Serif\" font-size=\"14.00\" fill=\"#000000\">gini = 0.754</text>\n<text text-anchor=\"start\" x=\"2219\" y=\"-201.8\" font-family=\"Helvetica,sans-Serif\" font-size=\"14.00\" fill=\"#000000\">samples = 9831</text>\n<text text-anchor=\"start\" x=\"2111.5\" y=\"-186.8\" font-family=\"Helvetica,sans-Serif\" font-size=\"14.00\" fill=\"#000000\">value = [0, 1, 548, 22, 158, 2, 4051, 1, 0, 2, 14, 76</text>\n<text text-anchor=\"start\" x=\"2138.5\" y=\"-171.8\" font-family=\"Helvetica,sans-Serif\" font-size=\"14.00\" fill=\"#000000\">0, 32, 407, 423, 1142, 24, 2, 0, 0, 0, 16, 1</text>\n<text text-anchor=\"start\" x=\"2224\" y=\"-156.8\" font-family=\"Helvetica,sans-Serif\" font-size=\"14.00\" fill=\"#000000\">39, 2231, 639]</text>\n<text text-anchor=\"start\" x=\"2216.5\" y=\"-141.8\" font-family=\"Helvetica,sans-Serif\" font-size=\"14.00\" fill=\"#000000\">class = Classical</text>\n</g>\n<!-- 10&#45;&gt;14 -->\n<g id=\"edge14\" class=\"edge\">\n<title>10&#45;&gt;14</title>\n<path fill=\"none\" stroke=\"#000000\" d=\"M2159.9275,-282.957C2171.5291,-273.2998 2183.645,-263.2145 2195.4306,-253.4042\"/>\n<polygon fill=\"#000000\" stroke=\"#000000\" points=\"2197.6723,-256.092 2203.1189,-247.0044 2193.194,-250.712 2197.6723,-256.092\"/>\n</g>\n<!-- 12 -->\n<g id=\"node13\" class=\"node\">\n<title>12</title>\n<path fill=\"#f19396\" stroke=\"#000000\" d=\"M1718,-98C1718,-98 1416,-98 1416,-98 1410,-98 1404,-92 1404,-86 1404,-86 1404,-12 1404,-12 1404,-6 1410,0 1416,0 1416,0 1718,0 1718,0 1724,0 1730,-6 1730,-12 1730,-12 1730,-86 1730,-86 1730,-92 1724,-98 1718,-98\"/>\n<text text-anchor=\"start\" x=\"1529\" y=\"-82.8\" font-family=\"Helvetica,sans-Serif\" font-size=\"14.00\" fill=\"#000000\">gini = 0.607</text>\n<text text-anchor=\"start\" x=\"1515\" y=\"-67.8\" font-family=\"Helvetica,sans-Serif\" font-size=\"14.00\" fill=\"#000000\">samples = 4247</text>\n<text text-anchor=\"start\" x=\"1412\" y=\"-52.8\" font-family=\"Helvetica,sans-Serif\" font-size=\"14.00\" fill=\"#000000\">value = [0, 6, 188, 10, 4, 8, 536, 0, 0, 2, 59, 27, 0</text>\n<text text-anchor=\"start\" x=\"1443\" y=\"-37.8\" font-family=\"Helvetica,sans-Serif\" font-size=\"14.00\" fill=\"#000000\">17, 83, 174, 255, 1, 6, 4, 1, 0, 19, 0, 19</text>\n<text text-anchor=\"start\" x=\"1532\" y=\"-22.8\" font-family=\"Helvetica,sans-Serif\" font-size=\"14.00\" fill=\"#000000\">2569, 259]</text>\n<text text-anchor=\"start\" x=\"1505\" y=\"-7.8\" font-family=\"Helvetica,sans-Serif\" font-size=\"14.00\" fill=\"#000000\">class = Soundtrack</text>\n</g>\n<!-- 11&#45;&gt;12 -->\n<g id=\"edge12\" class=\"edge\">\n<title>11&#45;&gt;12</title>\n<path fill=\"none\" stroke=\"#000000\" d=\"M1774.76,-133.9654C1748.859,-123.373 1721.8739,-112.3371 1696.258,-101.8613\"/>\n<polygon fill=\"#000000\" stroke=\"#000000\" points=\"1697.4679,-98.5748 1686.8871,-98.029 1694.8182,-105.0539 1697.4679,-98.5748\"/>\n</g>\n<!-- 13 -->\n<g id=\"node14\" class=\"node\">\n<title>13</title>\n<path fill=\"#ffffff\" stroke=\"#000000\" d=\"M2071.5,-98C2071.5,-98 1760.5,-98 1760.5,-98 1754.5,-98 1748.5,-92 1748.5,-86 1748.5,-86 1748.5,-12 1748.5,-12 1748.5,-6 1754.5,0 1760.5,0 1760.5,0 2071.5,0 2071.5,0 2077.5,0 2083.5,-6 2083.5,-12 2083.5,-12 2083.5,-86 2083.5,-86 2083.5,-92 2077.5,-98 2071.5,-98\"/>\n<text text-anchor=\"start\" x=\"1878\" y=\"-82.8\" font-family=\"Helvetica,sans-Serif\" font-size=\"14.00\" fill=\"#000000\">gini = 0.894</text>\n<text text-anchor=\"start\" x=\"1864\" y=\"-67.8\" font-family=\"Helvetica,sans-Serif\" font-size=\"14.00\" fill=\"#000000\">samples = 1921</text>\n<text text-anchor=\"start\" x=\"1756.5\" y=\"-52.8\" font-family=\"Helvetica,sans-Serif\" font-size=\"14.00\" fill=\"#000000\">value = [0, 5, 120, 75, 94, 4, 264, 0, 3, 6, 90, 51, 2</text>\n<text text-anchor=\"start\" x=\"1783.5\" y=\"-37.8\" font-family=\"Helvetica,sans-Serif\" font-size=\"14.00\" fill=\"#000000\">26, 327, 87, 198, 4, 7, 8, 27, 0, 17, 13, 30</text>\n<text text-anchor=\"start\" x=\"1885.5\" y=\"-22.8\" font-family=\"Helvetica,sans-Serif\" font-size=\"14.00\" fill=\"#000000\">326, 137]</text>\n<text text-anchor=\"start\" x=\"1875.5\" y=\"-7.8\" font-family=\"Helvetica,sans-Serif\" font-size=\"14.00\" fill=\"#000000\">class = Jazz</text>\n</g>\n<!-- 11&#45;&gt;13 -->\n<g id=\"edge13\" class=\"edge\">\n<title>11&#45;&gt;13</title>\n<path fill=\"none\" stroke=\"#000000\" d=\"M1914.2029,-133.7619C1914.3814,-125.3439 1914.5657,-116.6502 1914.7452,-108.1837\"/>\n<polygon fill=\"#000000\" stroke=\"#000000\" points=\"1918.2482,-108.0748 1914.9611,-98.0028 1911.2498,-107.9264 1918.2482,-108.0748\"/>\n</g>\n<!-- 15 -->\n<g id=\"node16\" class=\"node\">\n<title>15</title>\n<path fill=\"#fbe1e2\" stroke=\"#000000\" d=\"M2424.5,-98C2424.5,-98 2113.5,-98 2113.5,-98 2107.5,-98 2101.5,-92 2101.5,-86 2101.5,-86 2101.5,-12 2101.5,-12 2101.5,-6 2107.5,0 2113.5,0 2113.5,0 2424.5,0 2424.5,0 2430.5,0 2436.5,-6 2436.5,-12 2436.5,-12 2436.5,-86 2436.5,-86 2436.5,-92 2430.5,-98 2424.5,-98\"/>\n<text text-anchor=\"start\" x=\"2231\" y=\"-82.8\" font-family=\"Helvetica,sans-Serif\" font-size=\"14.00\" fill=\"#000000\">gini = 0.755</text>\n<text text-anchor=\"start\" x=\"2217\" y=\"-67.8\" font-family=\"Helvetica,sans-Serif\" font-size=\"14.00\" fill=\"#000000\">samples = 3669</text>\n<text text-anchor=\"start\" x=\"2109.5\" y=\"-52.8\" font-family=\"Helvetica,sans-Serif\" font-size=\"14.00\" fill=\"#000000\">value = [0, 0, 253, 5, 117, 0, 1012, 1, 0, 0, 5, 29, 0</text>\n<text text-anchor=\"start\" x=\"2137\" y=\"-37.8\" font-family=\"Helvetica,sans-Serif\" font-size=\"14.00\" fill=\"#000000\">9, 81, 264, 331, 6, 2, 0, 0, 0, 3, 0, 4, 1409</text>\n<text text-anchor=\"start\" x=\"2254.5\" y=\"-22.8\" font-family=\"Helvetica,sans-Serif\" font-size=\"14.00\" fill=\"#000000\">138]</text>\n<text text-anchor=\"start\" x=\"2207\" y=\"-7.8\" font-family=\"Helvetica,sans-Serif\" font-size=\"14.00\" fill=\"#000000\">class = Soundtrack</text>\n</g>\n<!-- 14&#45;&gt;15 -->\n<g id=\"edge15\" class=\"edge\">\n<title>14&#45;&gt;15</title>\n<path fill=\"none\" stroke=\"#000000\" d=\"M2270.198,-133.7619C2270.0791,-125.3439 2269.9562,-116.6502 2269.8365,-108.1837\"/>\n<polygon fill=\"#000000\" stroke=\"#000000\" points=\"2273.3337,-107.9523 2269.6926,-98.0028 2266.3344,-108.0513 2273.3337,-107.9523\"/>\n</g>\n<!-- 16 -->\n<g id=\"node17\" class=\"node\">\n<title>16</title>\n<path fill=\"#bff4ad\" stroke=\"#000000\" d=\"M2777.5,-98C2777.5,-98 2466.5,-98 2466.5,-98 2460.5,-98 2454.5,-92 2454.5,-86 2454.5,-86 2454.5,-12 2454.5,-12 2454.5,-6 2460.5,0 2466.5,0 2466.5,0 2777.5,0 2777.5,0 2783.5,0 2789.5,-6 2789.5,-12 2789.5,-12 2789.5,-86 2789.5,-86 2789.5,-92 2783.5,-98 2777.5,-98\"/>\n<text text-anchor=\"start\" x=\"2584\" y=\"-82.8\" font-family=\"Helvetica,sans-Serif\" font-size=\"14.00\" fill=\"#000000\">gini = 0.709</text>\n<text text-anchor=\"start\" x=\"2570\" y=\"-67.8\" font-family=\"Helvetica,sans-Serif\" font-size=\"14.00\" fill=\"#000000\">samples = 6162</text>\n<text text-anchor=\"start\" x=\"2462.5\" y=\"-52.8\" font-family=\"Helvetica,sans-Serif\" font-size=\"14.00\" fill=\"#000000\">value = [0, 1, 295, 17, 41, 2, 3039, 0, 0, 2, 9, 47, 0</text>\n<text text-anchor=\"start\" x=\"2489.5\" y=\"-37.8\" font-family=\"Helvetica,sans-Serif\" font-size=\"14.00\" fill=\"#000000\">23, 326, 159, 811, 18, 0, 0, 0, 0, 13, 1, 35</text>\n<text text-anchor=\"start\" x=\"2591.5\" y=\"-22.8\" font-family=\"Helvetica,sans-Serif\" font-size=\"14.00\" fill=\"#000000\">822, 501]</text>\n<text text-anchor=\"start\" x=\"2567.5\" y=\"-7.8\" font-family=\"Helvetica,sans-Serif\" font-size=\"14.00\" fill=\"#000000\">class = Classical</text>\n</g>\n<!-- 14&#45;&gt;16 -->\n<g id=\"edge16\" class=\"edge\">\n<title>14&#45;&gt;16</title>\n<path fill=\"none\" stroke=\"#000000\" d=\"M2411.2377,-133.9654C2437.513,-123.373 2464.8881,-112.3371 2490.8741,-101.8613\"/>\n<polygon fill=\"#000000\" stroke=\"#000000\" points=\"2492.4143,-105.0141 2500.3804,-98.029 2489.797,-98.5218 2492.4143,-105.0141\"/>\n</g>\n<!-- 18 -->\n<g id=\"node19\" class=\"node\">\n<title>18</title>\n<path fill=\"#ffffff\" stroke=\"#000000\" d=\"M4184,-396C4184,-396 3804,-396 3804,-396 3798,-396 3792,-390 3792,-384 3792,-384 3792,-295 3792,-295 3792,-289 3798,-283 3804,-283 3804,-283 4184,-283 4184,-283 4190,-283 4196,-289 4196,-295 4196,-295 4196,-384 4196,-384 4196,-390 4190,-396 4184,-396\"/>\n<text text-anchor=\"start\" x=\"3945.5\" y=\"-380.8\" font-family=\"Helvetica,sans-Serif\" font-size=\"14.00\" fill=\"#000000\">energy ≤ 0.885</text>\n<text text-anchor=\"start\" x=\"3956\" y=\"-365.8\" font-family=\"Helvetica,sans-Serif\" font-size=\"14.00\" fill=\"#000000\">gini = 0.954</text>\n<text text-anchor=\"start\" x=\"3938\" y=\"-350.8\" font-family=\"Helvetica,sans-Serif\" font-size=\"14.00\" fill=\"#000000\">samples = 97552</text>\n<text text-anchor=\"start\" x=\"3800\" y=\"-335.8\" font-family=\"Helvetica,sans-Serif\" font-size=\"14.00\" fill=\"#000000\">value = [43, 5720, 5673, 5416, 1183, 5874, 1202, 514, 5316</text>\n<text text-anchor=\"start\" x=\"3815\" y=\"-320.8\" font-family=\"Helvetica,sans-Serif\" font-size=\"14.00\" fill=\"#000000\">3746, 4276, 5577, 2166, 5385, 3721, 3296, 1457, 3953</text>\n<text text-anchor=\"start\" x=\"3813.5\" y=\"-305.8\" font-family=\"Helvetica,sans-Serif\" font-size=\"14.00\" fill=\"#000000\">3587, 2673, 2374, 1459, 5978, 5454, 3997, 2220, 5292]</text>\n<text text-anchor=\"start\" x=\"3952\" y=\"-290.8\" font-family=\"Helvetica,sans-Serif\" font-size=\"14.00\" fill=\"#000000\">class = Rock</text>\n</g>\n<!-- 17&#45;&gt;18 -->\n<g id=\"edge18\" class=\"edge\">\n<title>17&#45;&gt;18</title>\n<path fill=\"none\" stroke=\"#000000\" d=\"M4356.6179,-435.1284C4307.7857,-422.2506 4255.4718,-408.4545 4206.204,-395.4618\"/>\n<polygon fill=\"#000000\" stroke=\"#000000\" points=\"4206.9549,-392.0402 4196.393,-392.8744 4205.1699,-398.8088 4206.9549,-392.0402\"/>\n</g>\n<!-- 25 -->\n<g id=\"node26\" class=\"node\">\n<title>25</title>\n<path fill=\"#fffdff\" stroke=\"#000000\" d=\"M4948.5,-396C4948.5,-396 4553.5,-396 4553.5,-396 4547.5,-396 4541.5,-390 4541.5,-384 4541.5,-384 4541.5,-295 4541.5,-295 4541.5,-289 4547.5,-283 4553.5,-283 4553.5,-283 4948.5,-283 4948.5,-283 4954.5,-283 4960.5,-289 4960.5,-295 4960.5,-295 4960.5,-384 4960.5,-384 4960.5,-390 4954.5,-396 4948.5,-396\"/>\n<text text-anchor=\"start\" x=\"4669.5\" y=\"-380.8\" font-family=\"Helvetica,sans-Serif\" font-size=\"14.00\" fill=\"#000000\">instrumentalness ≤ 0.034</text>\n<text text-anchor=\"start\" x=\"4713\" y=\"-365.8\" font-family=\"Helvetica,sans-Serif\" font-size=\"14.00\" fill=\"#000000\">gini = 0.939</text>\n<text text-anchor=\"start\" x=\"4695\" y=\"-350.8\" font-family=\"Helvetica,sans-Serif\" font-size=\"14.00\" fill=\"#000000\">samples = 54874</text>\n<text text-anchor=\"start\" x=\"4549.5\" y=\"-335.8\" font-family=\"Helvetica,sans-Serif\" font-size=\"14.00\" fill=\"#000000\">value = [11, 1573, 557, 1237, 2242, 1547, 26, 133, 1428, 3176</text>\n<text text-anchor=\"start\" x=\"4588.5\" y=\"-320.8\" font-family=\"Helvetica,sans-Serif\" font-size=\"14.00\" fill=\"#000000\">3024, 1075, 5129, 1982, 2461, 963, 0, 3501, 3479</text>\n<text text-anchor=\"start\" x=\"4603\" y=\"-305.8\" font-family=\"Helvetica,sans-Serif\" font-size=\"14.00\" fill=\"#000000\">4677, 4474, 5638, 1282, 1598, 2916, 49, 696]</text>\n<text text-anchor=\"start\" x=\"4690\" y=\"-290.8\" font-family=\"Helvetica,sans-Serif\" font-size=\"14.00\" fill=\"#000000\">class = Reggaeton</text>\n</g>\n<!-- 17&#45;&gt;25 -->\n<g id=\"edge25\" class=\"edge\">\n<title>17&#45;&gt;25</title>\n<path fill=\"none\" stroke=\"#000000\" d=\"M4631.8607,-431.957C4644.305,-422.2998 4657.3008,-412.2145 4669.9423,-402.4042\"/>\n<polygon fill=\"#000000\" stroke=\"#000000\" points=\"4672.4346,-404.9003 4678.189,-396.0044 4668.143,-399.3702 4672.4346,-404.9003\"/>\n</g>\n<!-- 19 -->\n<g id=\"node20\" class=\"node\">\n<title>19</title>\n<path fill=\"#feffff\" stroke=\"#000000\" d=\"M3591.5,-247C3591.5,-247 3220.5,-247 3220.5,-247 3214.5,-247 3208.5,-241 3208.5,-235 3208.5,-235 3208.5,-146 3208.5,-146 3208.5,-140 3214.5,-134 3220.5,-134 3220.5,-134 3591.5,-134 3591.5,-134 3597.5,-134 3603.5,-140 3603.5,-146 3603.5,-146 3603.5,-235 3603.5,-235 3603.5,-241 3597.5,-247 3591.5,-247\"/>\n<text text-anchor=\"start\" x=\"3329\" y=\"-231.8\" font-family=\"Helvetica,sans-Serif\" font-size=\"14.00\" fill=\"#000000\">instrumentalness ≤ 0.48</text>\n<text text-anchor=\"start\" x=\"3368\" y=\"-216.8\" font-family=\"Helvetica,sans-Serif\" font-size=\"14.00\" fill=\"#000000\">gini = 0.954</text>\n<text text-anchor=\"start\" x=\"3350\" y=\"-201.8\" font-family=\"Helvetica,sans-Serif\" font-size=\"14.00\" fill=\"#000000\">samples = 80149</text>\n<text text-anchor=\"start\" x=\"3216.5\" y=\"-186.8\" font-family=\"Helvetica,sans-Serif\" font-size=\"14.00\" fill=\"#000000\">value = [43, 3900, 3291, 4576, 1156, 4100, 897, 440, 4831</text>\n<text text-anchor=\"start\" x=\"3227\" y=\"-171.8\" font-family=\"Helvetica,sans-Serif\" font-size=\"14.00\" fill=\"#000000\">3184, 2832, 5299, 2005, 4866, 3520, 3182, 1457, 3503</text>\n<text text-anchor=\"start\" x=\"3225.5\" y=\"-156.8\" font-family=\"Helvetica,sans-Serif\" font-size=\"14.00\" fill=\"#000000\">3503, 2269, 2150, 1254, 4744, 2108, 3903, 2199, 4937]</text>\n<text text-anchor=\"start\" x=\"3367\" y=\"-141.8\" font-family=\"Helvetica,sans-Serif\" font-size=\"14.00\" fill=\"#000000\">class = Folk</text>\n</g>\n<!-- 18&#45;&gt;19 -->\n<g id=\"edge19\" class=\"edge\">\n<title>18&#45;&gt;19</title>\n<path fill=\"none\" stroke=\"#000000\" d=\"M3791.6438,-288.2227C3734.1754,-273.6601 3671.5163,-257.7822 3613.7348,-243.1403\"/>\n<polygon fill=\"#000000\" stroke=\"#000000\" points=\"3614.3108,-239.6757 3603.7575,-240.612 3612.5913,-246.4612 3614.3108,-239.6757\"/>\n</g>\n<!-- 22 -->\n<g id=\"node23\" class=\"node\">\n<title>22</title>\n<path fill=\"#fdf2f8\" stroke=\"#000000\" d=\"M4171,-247C4171,-247 3817,-247 3817,-247 3811,-247 3805,-241 3805,-235 3805,-235 3805,-146 3805,-146 3805,-140 3811,-134 3817,-134 3817,-134 4171,-134 4171,-134 4177,-134 4183,-140 4183,-146 4183,-146 4183,-235 4183,-235 4183,-241 4177,-247 4171,-247\"/>\n<text text-anchor=\"start\" x=\"3915.5\" y=\"-231.8\" font-family=\"Helvetica,sans-Serif\" font-size=\"14.00\" fill=\"#000000\">duration_ms ≤ 173617.0</text>\n<text text-anchor=\"start\" x=\"3956\" y=\"-216.8\" font-family=\"Helvetica,sans-Serif\" font-size=\"14.00\" fill=\"#000000\">gini = 0.903</text>\n<text text-anchor=\"start\" x=\"3938\" y=\"-201.8\" font-family=\"Helvetica,sans-Serif\" font-size=\"14.00\" fill=\"#000000\">samples = 17403</text>\n<text text-anchor=\"start\" x=\"3813\" y=\"-186.8\" font-family=\"Helvetica,sans-Serif\" font-size=\"14.00\" fill=\"#000000\">value = [0, 1820, 2382, 840, 27, 1774, 305, 74, 485, 562</text>\n<text text-anchor=\"start\" x=\"3844.5\" y=\"-171.8\" font-family=\"Helvetica,sans-Serif\" font-size=\"14.00\" fill=\"#000000\">1444, 278, 161, 519, 201, 114, 0, 450, 84, 404</text>\n<text text-anchor=\"start\" x=\"3882.5\" y=\"-156.8\" font-family=\"Helvetica,sans-Serif\" font-size=\"14.00\" fill=\"#000000\">224, 205, 1234, 3346, 94, 21, 355]</text>\n<text text-anchor=\"start\" x=\"3956\" y=\"-141.8\" font-family=\"Helvetica,sans-Serif\" font-size=\"14.00\" fill=\"#000000\">class = Ska</text>\n</g>\n<!-- 18&#45;&gt;22 -->\n<g id=\"edge22\" class=\"edge\">\n<title>18&#45;&gt;22</title>\n<path fill=\"none\" stroke=\"#000000\" d=\"M3994,-282.7444C3994,-274.442 3994,-265.8273 3994,-257.3464\"/>\n<polygon fill=\"#000000\" stroke=\"#000000\" points=\"3997.5001,-257.0977 3994,-247.0978 3990.5001,-257.0978 3997.5001,-257.0977\"/>\n</g>\n<!-- 20 -->\n<g id=\"node21\" class=\"node\">\n<title>20</title>\n<path fill=\"#ffffff\" stroke=\"#000000\" d=\"M3182.5,-98C3182.5,-98 2819.5,-98 2819.5,-98 2813.5,-98 2807.5,-92 2807.5,-86 2807.5,-86 2807.5,-12 2807.5,-12 2807.5,-6 2813.5,0 2819.5,0 2819.5,0 3182.5,0 3182.5,0 3188.5,0 3194.5,-6 3194.5,-12 3194.5,-12 3194.5,-86 3194.5,-86 3194.5,-92 3188.5,-98 3182.5,-98\"/>\n<text text-anchor=\"start\" x=\"2963\" y=\"-82.8\" font-family=\"Helvetica,sans-Serif\" font-size=\"14.00\" fill=\"#000000\">gini = 0.951</text>\n<text text-anchor=\"start\" x=\"2945\" y=\"-67.8\" font-family=\"Helvetica,sans-Serif\" font-size=\"14.00\" fill=\"#000000\">samples = 70804</text>\n<text text-anchor=\"start\" x=\"2815.5\" y=\"-52.8\" font-family=\"Helvetica,sans-Serif\" font-size=\"14.00\" fill=\"#000000\">value = [43, 3673, 2200, 4185, 947, 3901, 491, 440, 4820</text>\n<text text-anchor=\"start\" x=\"2822\" y=\"-37.8\" font-family=\"Helvetica,sans-Serif\" font-size=\"14.00\" fill=\"#000000\">3087, 1775, 4907, 1981, 4473, 2341, 2927, 1217, 3455</text>\n<text text-anchor=\"start\" x=\"2824.5\" y=\"-22.8\" font-family=\"Helvetica,sans-Serif\" font-size=\"14.00\" fill=\"#000000\">3431, 2254, 2087, 1254, 4525, 2002, 3705, 369, 4314]</text>\n<text text-anchor=\"start\" x=\"2962\" y=\"-7.8\" font-family=\"Helvetica,sans-Serif\" font-size=\"14.00\" fill=\"#000000\">class = Folk</text>\n</g>\n<!-- 19&#45;&gt;20 -->\n<g id=\"edge20\" class=\"edge\">\n<title>19&#45;&gt;20</title>\n<path fill=\"none\" stroke=\"#000000\" d=\"M3244.1872,-133.9654C3213.4707,-123.2336 3181.4515,-112.0466 3151.1164,-101.4481\"/>\n<polygon fill=\"#000000\" stroke=\"#000000\" points=\"3151.9251,-98.0232 3141.3303,-98.029 3149.6163,-104.6315 3151.9251,-98.0232\"/>\n</g>\n<!-- 21 -->\n<g id=\"node22\" class=\"node\">\n<title>21</title>\n<path fill=\"#fdeff0\" stroke=\"#000000\" d=\"M3587,-98C3587,-98 3225,-98 3225,-98 3219,-98 3213,-92 3213,-86 3213,-86 3213,-12 3213,-12 3213,-6 3219,0 3225,0 3225,0 3587,0 3587,0 3593,0 3599,-6 3599,-12 3599,-12 3599,-86 3599,-86 3599,-92 3593,-98 3587,-98\"/>\n<text text-anchor=\"start\" x=\"3368\" y=\"-82.8\" font-family=\"Helvetica,sans-Serif\" font-size=\"14.00\" fill=\"#000000\">gini = 0.903</text>\n<text text-anchor=\"start\" x=\"3354\" y=\"-67.8\" font-family=\"Helvetica,sans-Serif\" font-size=\"14.00\" fill=\"#000000\">samples = 9345</text>\n<text text-anchor=\"start\" x=\"3221\" y=\"-52.8\" font-family=\"Helvetica,sans-Serif\" font-size=\"14.00\" fill=\"#000000\">value = [0, 227, 1091, 391, 209, 199, 406, 0, 11, 97, 1057</text>\n<text text-anchor=\"start\" x=\"3257\" y=\"-37.8\" font-family=\"Helvetica,sans-Serif\" font-size=\"14.00\" fill=\"#000000\">392, 24, 393, 1179, 255, 240, 48, 72, 15, 63, 0</text>\n<text text-anchor=\"start\" x=\"3323\" y=\"-22.8\" font-family=\"Helvetica,sans-Serif\" font-size=\"14.00\" fill=\"#000000\">219, 106, 198, 1830, 623]</text>\n<text text-anchor=\"start\" x=\"3344\" y=\"-7.8\" font-family=\"Helvetica,sans-Serif\" font-size=\"14.00\" fill=\"#000000\">class = Soundtrack</text>\n</g>\n<!-- 19&#45;&gt;21 -->\n<g id=\"edge21\" class=\"edge\">\n<title>19&#45;&gt;21</title>\n<path fill=\"none\" stroke=\"#000000\" d=\"M3406,-133.7619C3406,-125.3439 3406,-116.6502 3406,-108.1837\"/>\n<polygon fill=\"#000000\" stroke=\"#000000\" points=\"3409.5001,-108.0028 3406,-98.0028 3402.5001,-108.0029 3409.5001,-108.0028\"/>\n</g>\n<!-- 23 -->\n<g id=\"node24\" class=\"node\">\n<title>23</title>\n<path fill=\"#f197c2\" stroke=\"#000000\" d=\"M3958.5,-98C3958.5,-98 3629.5,-98 3629.5,-98 3623.5,-98 3617.5,-92 3617.5,-86 3617.5,-86 3617.5,-12 3617.5,-12 3617.5,-6 3623.5,0 3629.5,0 3629.5,0 3958.5,0 3958.5,0 3964.5,0 3970.5,-6 3970.5,-12 3970.5,-12 3970.5,-86 3970.5,-86 3970.5,-92 3964.5,-98 3958.5,-98\"/>\n<text text-anchor=\"start\" x=\"3756\" y=\"-82.8\" font-family=\"Helvetica,sans-Serif\" font-size=\"14.00\" fill=\"#000000\">gini = 0.672</text>\n<text text-anchor=\"start\" x=\"3742\" y=\"-67.8\" font-family=\"Helvetica,sans-Serif\" font-size=\"14.00\" fill=\"#000000\">samples = 3316</text>\n<text text-anchor=\"start\" x=\"3625.5\" y=\"-52.8\" font-family=\"Helvetica,sans-Serif\" font-size=\"14.00\" fill=\"#000000\">value = [0, 150, 226, 157, 16, 153, 4, 55, 53, 54, 129</text>\n<text text-anchor=\"start\" x=\"3661.5\" y=\"-37.8\" font-family=\"Helvetica,sans-Serif\" font-size=\"14.00\" fill=\"#000000\">40, 26, 62, 9, 27, 0, 46, 4, 43, 38, 16, 120</text>\n<text text-anchor=\"start\" x=\"3743.5\" y=\"-22.8\" font-family=\"Helvetica,sans-Serif\" font-size=\"14.00\" fill=\"#000000\">1854, 15, 10, 9]</text>\n<text text-anchor=\"start\" x=\"3756\" y=\"-7.8\" font-family=\"Helvetica,sans-Serif\" font-size=\"14.00\" fill=\"#000000\">class = Ska</text>\n</g>\n<!-- 22&#45;&gt;23 -->\n<g id=\"edge23\" class=\"edge\">\n<title>22&#45;&gt;23</title>\n<path fill=\"none\" stroke=\"#000000\" d=\"M3914.0925,-133.9654C3900.2165,-124.1482 3885.8022,-113.9501 3871.9787,-104.1699\"/>\n<polygon fill=\"#000000\" stroke=\"#000000\" points=\"3873.643,-101.06 3863.458,-98.1415 3869.6,-106.7744 3873.643,-101.06\"/>\n</g>\n<!-- 24 -->\n<g id=\"node25\" class=\"node\">\n<title>24</title>\n<path fill=\"#fefdf7\" stroke=\"#000000\" d=\"M4355,-98C4355,-98 4001,-98 4001,-98 3995,-98 3989,-92 3989,-86 3989,-86 3989,-12 3989,-12 3989,-6 3995,0 4001,0 4001,0 4355,0 4355,0 4361,0 4367,-6 4367,-12 4367,-12 4367,-86 4367,-86 4367,-92 4361,-98 4355,-98\"/>\n<text text-anchor=\"start\" x=\"4140\" y=\"-82.8\" font-family=\"Helvetica,sans-Serif\" font-size=\"14.00\" fill=\"#000000\">gini = 0.914</text>\n<text text-anchor=\"start\" x=\"4122\" y=\"-67.8\" font-family=\"Helvetica,sans-Serif\" font-size=\"14.00\" fill=\"#000000\">samples = 14087</text>\n<text text-anchor=\"start\" x=\"3997\" y=\"-52.8\" font-family=\"Helvetica,sans-Serif\" font-size=\"14.00\" fill=\"#000000\">value = [0, 1670, 2156, 683, 11, 1621, 301, 19, 432, 508</text>\n<text text-anchor=\"start\" x=\"4016.5\" y=\"-37.8\" font-family=\"Helvetica,sans-Serif\" font-size=\"14.00\" fill=\"#000000\">1315, 238, 135, 457, 192, 87, 0, 404, 80, 361, 186</text>\n<text text-anchor=\"start\" x=\"4083\" y=\"-22.8\" font-family=\"Helvetica,sans-Serif\" font-size=\"14.00\" fill=\"#000000\">189, 1114, 1492, 79, 11, 346]</text>\n<text text-anchor=\"start\" x=\"4132.5\" y=\"-7.8\" font-family=\"Helvetica,sans-Serif\" font-size=\"14.00\" fill=\"#000000\">class = Anime</text>\n</g>\n<!-- 22&#45;&gt;24 -->\n<g id=\"edge24\" class=\"edge\">\n<title>22&#45;&gt;24</title>\n<path fill=\"none\" stroke=\"#000000\" d=\"M4067.5149,-133.9654C4080.1604,-124.2408 4093.2918,-114.1425 4105.8995,-104.4468\"/>\n<polygon fill=\"#000000\" stroke=\"#000000\" points=\"4108.3052,-107.0121 4114.0986,-98.1415 4104.0379,-101.4632 4108.3052,-107.0121\"/>\n</g>\n<!-- 26 -->\n<g id=\"node27\" class=\"node\">\n<title>26</title>\n<path fill=\"#fffcfe\" stroke=\"#000000\" d=\"M4948.5,-247C4948.5,-247 4553.5,-247 4553.5,-247 4547.5,-247 4541.5,-241 4541.5,-235 4541.5,-235 4541.5,-146 4541.5,-146 4541.5,-140 4547.5,-134 4553.5,-134 4553.5,-134 4948.5,-134 4948.5,-134 4954.5,-134 4960.5,-140 4960.5,-146 4960.5,-146 4960.5,-235 4960.5,-235 4960.5,-241 4954.5,-247 4948.5,-247\"/>\n<text text-anchor=\"start\" x=\"4672.5\" y=\"-231.8\" font-family=\"Helvetica,sans-Serif\" font-size=\"14.00\" fill=\"#000000\">duration_ms ≤ 129769.0</text>\n<text text-anchor=\"start\" x=\"4713\" y=\"-216.8\" font-family=\"Helvetica,sans-Serif\" font-size=\"14.00\" fill=\"#000000\">gini = 0.932</text>\n<text text-anchor=\"start\" x=\"4695\" y=\"-201.8\" font-family=\"Helvetica,sans-Serif\" font-size=\"14.00\" fill=\"#000000\">samples = 46658</text>\n<text text-anchor=\"start\" x=\"4549.5\" y=\"-186.8\" font-family=\"Helvetica,sans-Serif\" font-size=\"14.00\" fill=\"#000000\">value = [11, 1304, 409, 1028, 1906, 1298, 12, 131, 1403, 2911</text>\n<text text-anchor=\"start\" x=\"4576.5\" y=\"-171.8\" font-family=\"Helvetica,sans-Serif\" font-size=\"14.00\" fill=\"#000000\">1009, 896, 4953, 1674, 992, 919, 0, 3381, 3215, 4563</text>\n<text text-anchor=\"start\" x=\"4627.5\" y=\"-156.8\" font-family=\"Helvetica,sans-Serif\" font-size=\"14.00\" fill=\"#000000\">3981, 5515, 1128, 1276, 2414, 6, 323]</text>\n<text text-anchor=\"start\" x=\"4690\" y=\"-141.8\" font-family=\"Helvetica,sans-Serif\" font-size=\"14.00\" fill=\"#000000\">class = Reggaeton</text>\n</g>\n<!-- 25&#45;&gt;26 -->\n<g id=\"edge26\" class=\"edge\">\n<title>25&#45;&gt;26</title>\n<path fill=\"none\" stroke=\"#000000\" d=\"M4751,-282.7444C4751,-274.442 4751,-265.8273 4751,-257.3464\"/>\n<polygon fill=\"#000000\" stroke=\"#000000\" points=\"4754.5001,-257.0977 4751,-247.0978 4747.5001,-257.0978 4754.5001,-257.0977\"/>\n</g>\n<!-- 29 -->\n<g id=\"node30\" class=\"node\">\n<title>29</title>\n<path fill=\"#effdf8\" stroke=\"#000000\" d=\"M5533.5,-247C5533.5,-247 5180.5,-247 5180.5,-247 5174.5,-247 5168.5,-241 5168.5,-235 5168.5,-235 5168.5,-146 5168.5,-146 5168.5,-140 5174.5,-134 5180.5,-134 5180.5,-134 5533.5,-134 5533.5,-134 5539.5,-134 5545.5,-140 5545.5,-146 5545.5,-146 5545.5,-235 5545.5,-235 5545.5,-241 5539.5,-247 5533.5,-247\"/>\n<text text-anchor=\"start\" x=\"5288\" y=\"-231.8\" font-family=\"Helvetica,sans-Serif\" font-size=\"14.00\" fill=\"#000000\">acousticness ≤ 0.057</text>\n<text text-anchor=\"start\" x=\"5319\" y=\"-216.8\" font-family=\"Helvetica,sans-Serif\" font-size=\"14.00\" fill=\"#000000\">gini = 0.887</text>\n<text text-anchor=\"start\" x=\"5305\" y=\"-201.8\" font-family=\"Helvetica,sans-Serif\" font-size=\"14.00\" fill=\"#000000\">samples = 8216</text>\n<text text-anchor=\"start\" x=\"5176.5\" y=\"-186.8\" font-family=\"Helvetica,sans-Serif\" font-size=\"14.00\" fill=\"#000000\">value = [0, 269, 148, 209, 336, 249, 14, 2, 25, 265, 2015</text>\n<text text-anchor=\"start\" x=\"5207.5\" y=\"-171.8\" font-family=\"Helvetica,sans-Serif\" font-size=\"14.00\" fill=\"#000000\">179, 176, 308, 1469, 44, 0, 120, 264, 114, 493</text>\n<text text-anchor=\"start\" x=\"5266\" y=\"-156.8\" font-family=\"Helvetica,sans-Serif\" font-size=\"14.00\" fill=\"#000000\">123, 154, 322, 502, 43, 373]</text>\n<text text-anchor=\"start\" x=\"5300\" y=\"-141.8\" font-family=\"Helvetica,sans-Serif\" font-size=\"14.00\" fill=\"#000000\">class = Electronic</text>\n</g>\n<!-- 25&#45;&gt;29 -->\n<g id=\"edge29\" class=\"edge\">\n<title>25&#45;&gt;29</title>\n<path fill=\"none\" stroke=\"#000000\" d=\"M4960.8239,-287.9096C5024.8544,-272.1662 5095.0345,-254.9106 5158.3039,-239.3543\"/>\n<polygon fill=\"#000000\" stroke=\"#000000\" points=\"5159.5219,-242.6592 5168.3969,-236.8727 5157.8505,-235.8616 5159.5219,-242.6592\"/>\n</g>\n<!-- 27 -->\n<g id=\"node28\" class=\"node\">\n<title>27</title>\n<path fill=\"#e0f5b1\" stroke=\"#000000\" d=\"M4725,-98C4725,-98 4397,-98 4397,-98 4391,-98 4385,-92 4385,-86 4385,-86 4385,-12 4385,-12 4385,-6 4391,0 4397,0 4397,0 4725,0 4725,0 4731,0 4737,-6 4737,-12 4737,-12 4737,-86 4737,-86 4737,-92 4731,-98 4725,-98\"/>\n<text text-anchor=\"start\" x=\"4523\" y=\"-82.8\" font-family=\"Helvetica,sans-Serif\" font-size=\"14.00\" fill=\"#000000\">gini = 0.762</text>\n<text text-anchor=\"start\" x=\"4509\" y=\"-67.8\" font-family=\"Helvetica,sans-Serif\" font-size=\"14.00\" fill=\"#000000\">samples = 2193</text>\n<text text-anchor=\"start\" x=\"4393\" y=\"-52.8\" font-family=\"Helvetica,sans-Serif\" font-size=\"14.00\" fill=\"#000000\">value = [1, 38, 11, 16, 1004, 38, 0, 56, 24, 18, 14, 28</text>\n<text text-anchor=\"start\" x=\"4412\" y=\"-37.8\" font-family=\"Helvetica,sans-Serif\" font-size=\"14.00\" fill=\"#000000\">223, 23, 25, 178, 0, 36, 71, 169, 23, 72, 16, 57</text>\n<text text-anchor=\"start\" x=\"4535\" y=\"-22.8\" font-family=\"Helvetica,sans-Serif\" font-size=\"14.00\" fill=\"#000000\">44, 2, 6]</text>\n<text text-anchor=\"start\" x=\"4482.5\" y=\"-7.8\" font-family=\"Helvetica,sans-Serif\" font-size=\"14.00\" fill=\"#000000\">class = Children&#39;s Music</text>\n</g>\n<!-- 26&#45;&gt;27 -->\n<g id=\"edge27\" class=\"edge\">\n<title>26&#45;&gt;27</title>\n<path fill=\"none\" stroke=\"#000000\" d=\"M4675.0878,-133.9654C4661.9057,-124.1482 4648.2121,-113.9501 4635.0798,-104.1699\"/>\n<polygon fill=\"#000000\" stroke=\"#000000\" points=\"4637.0959,-101.3075 4626.9851,-98.1415 4632.9148,-106.9216 4637.0959,-101.3075\"/>\n</g>\n<!-- 28 -->\n<g id=\"node29\" class=\"node\">\n<title>28</title>\n<path fill=\"#fffbfe\" stroke=\"#000000\" d=\"M5146.5,-98C5146.5,-98 4767.5,-98 4767.5,-98 4761.5,-98 4755.5,-92 4755.5,-86 4755.5,-86 4755.5,-12 4755.5,-12 4755.5,-6 4761.5,0 4767.5,0 4767.5,0 5146.5,0 5146.5,0 5152.5,0 5158.5,-6 5158.5,-12 5158.5,-12 5158.5,-86 5158.5,-86 5158.5,-92 5152.5,-98 5146.5,-98\"/>\n<text text-anchor=\"start\" x=\"4923.5\" y=\"-82.8\" font-family=\"Helvetica,sans-Serif\" font-size=\"14.00\" fill=\"#000000\">gini = 0.93</text>\n<text text-anchor=\"start\" x=\"4901\" y=\"-67.8\" font-family=\"Helvetica,sans-Serif\" font-size=\"14.00\" fill=\"#000000\">samples = 44465</text>\n<text text-anchor=\"start\" x=\"4763.5\" y=\"-52.8\" font-family=\"Helvetica,sans-Serif\" font-size=\"14.00\" fill=\"#000000\">value = [10, 1266, 398, 1012, 902, 1260, 12, 75, 1379, 2893</text>\n<text text-anchor=\"start\" x=\"4787\" y=\"-37.8\" font-family=\"Helvetica,sans-Serif\" font-size=\"14.00\" fill=\"#000000\">995, 868, 4730, 1651, 967, 741, 0, 3345, 3144, 4394</text>\n<text text-anchor=\"start\" x=\"4833.5\" y=\"-22.8\" font-family=\"Helvetica,sans-Serif\" font-size=\"14.00\" fill=\"#000000\">3958, 5443, 1112, 1219, 2370, 4, 317]</text>\n<text text-anchor=\"start\" x=\"4896\" y=\"-7.8\" font-family=\"Helvetica,sans-Serif\" font-size=\"14.00\" fill=\"#000000\">class = Reggaeton</text>\n</g>\n<!-- 26&#45;&gt;28 -->\n<g id=\"edge28\" class=\"edge\">\n<title>26&#45;&gt;28</title>\n<path fill=\"none\" stroke=\"#000000\" d=\"M4833.3048,-133.9654C4847.7318,-124.0556 4862.7239,-113.7576 4877.0848,-103.8932\"/>\n<polygon fill=\"#000000\" stroke=\"#000000\" points=\"4879.1972,-106.6884 4885.4582,-98.1415 4875.2338,-100.9185 4879.1972,-106.6884\"/>\n</g>\n<!-- 30 -->\n<g id=\"node31\" class=\"node\">\n<title>30</title>\n<path fill=\"#baf6e0\" stroke=\"#000000\" d=\"M5525,-98C5525,-98 5189,-98 5189,-98 5183,-98 5177,-92 5177,-86 5177,-86 5177,-12 5177,-12 5177,-6 5183,0 5189,0 5189,0 5525,0 5525,0 5531,0 5537,-6 5537,-12 5537,-12 5537,-86 5537,-86 5537,-92 5531,-98 5525,-98\"/>\n<text text-anchor=\"start\" x=\"5319\" y=\"-82.8\" font-family=\"Helvetica,sans-Serif\" font-size=\"14.00\" fill=\"#000000\">gini = 0.796</text>\n<text text-anchor=\"start\" x=\"5305\" y=\"-67.8\" font-family=\"Helvetica,sans-Serif\" font-size=\"14.00\" fill=\"#000000\">samples = 3071</text>\n<text text-anchor=\"start\" x=\"5185\" y=\"-52.8\" font-family=\"Helvetica,sans-Serif\" font-size=\"14.00\" fill=\"#000000\">value = [0, 113, 30, 40, 51, 106, 1, 0, 4, 155, 1287, 23</text>\n<text text-anchor=\"start\" x=\"5212.5\" y=\"-37.8\" font-family=\"Helvetica,sans-Serif\" font-size=\"14.00\" fill=\"#000000\">79, 71, 331, 5, 0, 54, 64, 38, 201, 41, 50, 101</text>\n<text text-anchor=\"start\" x=\"5322.5\" y=\"-22.8\" font-family=\"Helvetica,sans-Serif\" font-size=\"14.00\" fill=\"#000000\">126, 2, 98]</text>\n<text text-anchor=\"start\" x=\"5300\" y=\"-7.8\" font-family=\"Helvetica,sans-Serif\" font-size=\"14.00\" fill=\"#000000\">class = Electronic</text>\n</g>\n<!-- 29&#45;&gt;30 -->\n<g id=\"edge30\" class=\"edge\">\n<title>29&#45;&gt;30</title>\n<path fill=\"none\" stroke=\"#000000\" d=\"M5357,-133.7619C5357,-125.3439 5357,-116.6502 5357,-108.1837\"/>\n<polygon fill=\"#000000\" stroke=\"#000000\" points=\"5360.5001,-108.0028 5357,-98.0028 5353.5001,-108.0029 5360.5001,-108.0028\"/>\n</g>\n<!-- 31 -->\n<g id=\"node32\" class=\"node\">\n<title>31</title>\n<path fill=\"#edf4fd\" stroke=\"#000000\" d=\"M5912.5,-98C5912.5,-98 5567.5,-98 5567.5,-98 5561.5,-98 5555.5,-92 5555.5,-86 5555.5,-86 5555.5,-12 5555.5,-12 5555.5,-6 5561.5,0 5567.5,0 5567.5,0 5912.5,0 5912.5,0 5918.5,0 5924.5,-6 5924.5,-12 5924.5,-12 5924.5,-86 5924.5,-86 5924.5,-92 5918.5,-98 5912.5,-98\"/>\n<text text-anchor=\"start\" x=\"5702\" y=\"-82.8\" font-family=\"Helvetica,sans-Serif\" font-size=\"14.00\" fill=\"#000000\">gini = 0.905</text>\n<text text-anchor=\"start\" x=\"5688\" y=\"-67.8\" font-family=\"Helvetica,sans-Serif\" font-size=\"14.00\" fill=\"#000000\">samples = 5145</text>\n<text text-anchor=\"start\" x=\"5563.5\" y=\"-52.8\" font-family=\"Helvetica,sans-Serif\" font-size=\"14.00\" fill=\"#000000\">value = [0, 156, 118, 169, 285, 143, 13, 2, 21, 110, 728</text>\n<text text-anchor=\"start\" x=\"5591\" y=\"-37.8\" font-family=\"Helvetica,sans-Serif\" font-size=\"14.00\" fill=\"#000000\">156, 97, 237, 1138, 39, 0, 66, 200, 76, 292, 82</text>\n<text text-anchor=\"start\" x=\"5665\" y=\"-22.8\" font-family=\"Helvetica,sans-Serif\" font-size=\"14.00\" fill=\"#000000\">104, 221, 376, 41, 275]</text>\n<text text-anchor=\"start\" x=\"5699.5\" y=\"-7.8\" font-family=\"Helvetica,sans-Serif\" font-size=\"14.00\" fill=\"#000000\">class = Jazz</text>\n</g>\n<!-- 29&#45;&gt;31 -->\n<g id=\"edge31\" class=\"edge\">\n<title>29&#45;&gt;31</title>\n<path fill=\"none\" stroke=\"#000000\" d=\"M5510.0229,-133.9654C5538.9451,-123.2801 5569.0886,-112.1435 5597.6654,-101.5858\"/>\n<polygon fill=\"#000000\" stroke=\"#000000\" points=\"5599.1252,-104.7777 5607.2926,-98.029 5596.6993,-98.2115 5599.1252,-104.7777\"/>\n</g>\n<!-- 33 -->\n<g id=\"node34\" class=\"node\">\n<title>33</title>\n<path fill=\"#adf4aa\" stroke=\"#000000\" d=\"M7190,-545C7190,-545 6904,-545 6904,-545 6898,-545 6892,-539 6892,-533 6892,-533 6892,-444 6892,-444 6892,-438 6898,-432 6904,-432 6904,-432 7190,-432 7190,-432 7196,-432 7202,-438 7202,-444 7202,-444 7202,-533 7202,-533 7202,-539 7196,-545 7190,-545\"/>\n<text text-anchor=\"start\" x=\"6979.5\" y=\"-529.8\" font-family=\"Helvetica,sans-Serif\" font-size=\"14.00\" fill=\"#000000\">speechiness ≤ 0.902</text>\n<text text-anchor=\"start\" x=\"7009\" y=\"-514.8\" font-family=\"Helvetica,sans-Serif\" font-size=\"14.00\" fill=\"#000000\">gini = 0.683</text>\n<text text-anchor=\"start\" x=\"6999\" y=\"-499.8\" font-family=\"Helvetica,sans-Serif\" font-size=\"14.00\" fill=\"#000000\">samples = 815</text>\n<text text-anchor=\"start\" x=\"6900\" y=\"-484.8\" font-family=\"Helvetica,sans-Serif\" font-size=\"14.00\" fill=\"#000000\">value = [0, 8, 0, 5, 88, 8, 1, 426, 1, 2, 11, 1, 38</text>\n<text text-anchor=\"start\" x=\"6927.5\" y=\"-469.8\" font-family=\"Helvetica,sans-Serif\" font-size=\"14.00\" fill=\"#000000\">2, 5, 136, 6, 6, 12, 31, 12, 4, 0, 4, 6, 1</text>\n<text text-anchor=\"start\" x=\"7040.5\" y=\"-454.8\" font-family=\"Helvetica,sans-Serif\" font-size=\"14.00\" fill=\"#000000\">1]</text>\n<text text-anchor=\"start\" x=\"6994.5\" y=\"-439.8\" font-family=\"Helvetica,sans-Serif\" font-size=\"14.00\" fill=\"#000000\">class = Comedy</text>\n</g>\n<!-- 32&#45;&gt;33 -->\n<g id=\"edge33\" class=\"edge\">\n<title>32&#45;&gt;33</title>\n<path fill=\"none\" stroke=\"#000000\" d=\"M7047,-580.7444C7047,-572.442 7047,-563.8273 7047,-555.3464\"/>\n<polygon fill=\"#000000\" stroke=\"#000000\" points=\"7050.5001,-555.0977 7047,-545.0978 7043.5001,-555.0978 7050.5001,-555.0977\"/>\n</g>\n<!-- 48 -->\n<g id=\"node49\" class=\"node\">\n<title>48</title>\n<path fill=\"#45e63f\" stroke=\"#000000\" d=\"M9208,-537.5C9208,-537.5 8914,-537.5 8914,-537.5 8908,-537.5 8902,-531.5 8902,-525.5 8902,-525.5 8902,-451.5 8902,-451.5 8902,-445.5 8908,-439.5 8914,-439.5 8914,-439.5 9208,-439.5 9208,-439.5 9214,-439.5 9220,-445.5 9220,-451.5 9220,-451.5 9220,-525.5 9220,-525.5 9220,-531.5 9214,-537.5 9208,-537.5\"/>\n<text text-anchor=\"start\" x=\"8992\" y=\"-522.3\" font-family=\"Helvetica,sans-Serif\" font-size=\"14.00\" fill=\"#000000\">acousticness ≤ 0.442</text>\n<text text-anchor=\"start\" x=\"9023\" y=\"-507.3\" font-family=\"Helvetica,sans-Serif\" font-size=\"14.00\" fill=\"#000000\">gini = 0.061</text>\n<text text-anchor=\"start\" x=\"9009\" y=\"-492.3\" font-family=\"Helvetica,sans-Serif\" font-size=\"14.00\" fill=\"#000000\">samples = 6850</text>\n<text text-anchor=\"start\" x=\"8910\" y=\"-477.3\" font-family=\"Helvetica,sans-Serif\" font-size=\"14.00\" fill=\"#000000\">value = [0, 1, 0, 11, 34, 2, 2, 6636, 0, 1, 2, 0, 13</text>\n<text text-anchor=\"start\" x=\"8944\" y=\"-462.3\" font-family=\"Helvetica,sans-Serif\" font-size=\"14.00\" fill=\"#000000\">3, 7, 104, 4, 2, 7, 8, 2, 1, 1, 5, 3, 0, 1]</text>\n<text text-anchor=\"start\" x=\"9008.5\" y=\"-447.3\" font-family=\"Helvetica,sans-Serif\" font-size=\"14.00\" fill=\"#000000\">class = Comedy</text>\n</g>\n<!-- 32&#45;&gt;48 -->\n<g id=\"edge48\" class=\"edge\">\n<title>32&#45;&gt;48</title>\n<path fill=\"none\" stroke=\"#000000\" d=\"M7218.7125,-624.7963C7599.7829,-596.6039 8512.3496,-529.0903 8891.4242,-501.0456\"/>\n<polygon fill=\"#000000\" stroke=\"#000000\" points=\"8891.9424,-504.5169 8901.6568,-500.2885 8891.4258,-497.536 8891.9424,-504.5169\"/>\n</g>\n<!-- 34 -->\n<g id=\"node35\" class=\"node\">\n<title>34</title>\n<path fill=\"#f1fdf1\" stroke=\"#000000\" d=\"M7031,-388.5C7031,-388.5 6745,-388.5 6745,-388.5 6739,-388.5 6733,-382.5 6733,-376.5 6733,-376.5 6733,-302.5 6733,-302.5 6733,-296.5 6739,-290.5 6745,-290.5 6745,-290.5 7031,-290.5 7031,-290.5 7037,-290.5 7043,-296.5 7043,-302.5 7043,-302.5 7043,-376.5 7043,-376.5 7043,-382.5 7037,-388.5 7031,-388.5\"/>\n<text text-anchor=\"start\" x=\"6819\" y=\"-373.3\" font-family=\"Helvetica,sans-Serif\" font-size=\"14.00\" fill=\"#000000\">acousticness ≤ 0.523</text>\n<text text-anchor=\"start\" x=\"6850\" y=\"-358.3\" font-family=\"Helvetica,sans-Serif\" font-size=\"14.00\" fill=\"#000000\">gini = 0.844</text>\n<text text-anchor=\"start\" x=\"6840\" y=\"-343.3\" font-family=\"Helvetica,sans-Serif\" font-size=\"14.00\" fill=\"#000000\">samples = 406</text>\n<text text-anchor=\"start\" x=\"6741\" y=\"-328.3\" font-family=\"Helvetica,sans-Serif\" font-size=\"14.00\" fill=\"#000000\">value = [0, 7, 0, 4, 57, 7, 1, 110, 1, 2, 11, 1, 35</text>\n<text text-anchor=\"start\" x=\"6763\" y=\"-313.3\" font-family=\"Helvetica,sans-Serif\" font-size=\"14.00\" fill=\"#000000\">2, 5, 87, 4, 6, 11, 30, 10, 4, 0, 3, 6, 1, 1]</text>\n<text text-anchor=\"start\" x=\"6835.5\" y=\"-298.3\" font-family=\"Helvetica,sans-Serif\" font-size=\"14.00\" fill=\"#000000\">class = Comedy</text>\n</g>\n<!-- 33&#45;&gt;34 -->\n<g id=\"edge34\" class=\"edge\">\n<title>33&#45;&gt;34</title>\n<path fill=\"none\" stroke=\"#000000\" d=\"M6986.4353,-431.7444C6973.7437,-419.851 6960.3684,-407.3169 6947.7082,-395.453\"/>\n<polygon fill=\"#000000\" stroke=\"#000000\" points=\"6950.0374,-392.8391 6940.3473,-388.555 6945.2509,-397.9468 6950.0374,-392.8391\"/>\n</g>\n<!-- 41 -->\n<g id=\"node42\" class=\"node\">\n<title>41</title>\n<path fill=\"#71ec6c\" stroke=\"#000000\" d=\"M7647.5,-388.5C7647.5,-388.5 7362.5,-388.5 7362.5,-388.5 7356.5,-388.5 7350.5,-382.5 7350.5,-376.5 7350.5,-376.5 7350.5,-302.5 7350.5,-302.5 7350.5,-296.5 7356.5,-290.5 7362.5,-290.5 7362.5,-290.5 7647.5,-290.5 7647.5,-290.5 7653.5,-290.5 7659.5,-296.5 7659.5,-302.5 7659.5,-302.5 7659.5,-376.5 7659.5,-376.5 7659.5,-382.5 7653.5,-388.5 7647.5,-388.5\"/>\n<text text-anchor=\"start\" x=\"7436\" y=\"-373.3\" font-family=\"Helvetica,sans-Serif\" font-size=\"14.00\" fill=\"#000000\">acousticness ≤ 0.718</text>\n<text text-anchor=\"start\" x=\"7467\" y=\"-358.3\" font-family=\"Helvetica,sans-Serif\" font-size=\"14.00\" fill=\"#000000\">gini = 0.383</text>\n<text text-anchor=\"start\" x=\"7457\" y=\"-343.3\" font-family=\"Helvetica,sans-Serif\" font-size=\"14.00\" fill=\"#000000\">samples = 409</text>\n<text text-anchor=\"start\" x=\"7358.5\" y=\"-328.3\" font-family=\"Helvetica,sans-Serif\" font-size=\"14.00\" fill=\"#000000\">value = [0, 1, 0, 1, 31, 1, 0, 316, 0, 0, 0, 0, 3, 0</text>\n<text text-anchor=\"start\" x=\"7400\" y=\"-313.3\" font-family=\"Helvetica,sans-Serif\" font-size=\"14.00\" fill=\"#000000\">0, 49, 2, 0, 1, 1, 2, 0, 0, 1, 0, 0, 0]</text>\n<text text-anchor=\"start\" x=\"7452.5\" y=\"-298.3\" font-family=\"Helvetica,sans-Serif\" font-size=\"14.00\" fill=\"#000000\">class = Comedy</text>\n</g>\n<!-- 33&#45;&gt;41 -->\n<g id=\"edge41\" class=\"edge\">\n<title>33&#45;&gt;41</title>\n<path fill=\"none\" stroke=\"#000000\" d=\"M7202.0579,-438.0554C7248.0655,-423.0879 7298.5337,-406.6692 7344.8572,-391.5989\"/>\n<polygon fill=\"#000000\" stroke=\"#000000\" points=\"7345.943,-394.9263 7354.3696,-388.5042 7343.7773,-388.2697 7345.943,-394.9263\"/>\n</g>\n<!-- 35 -->\n<g id=\"node36\" class=\"node\">\n<title>35</title>\n<path fill=\"#fdffff\" stroke=\"#000000\" d=\"M6554.5,-239.5C6554.5,-239.5 6261.5,-239.5 6261.5,-239.5 6255.5,-239.5 6249.5,-233.5 6249.5,-227.5 6249.5,-227.5 6249.5,-153.5 6249.5,-153.5 6249.5,-147.5 6255.5,-141.5 6261.5,-141.5 6261.5,-141.5 6554.5,-141.5 6554.5,-141.5 6560.5,-141.5 6566.5,-147.5 6566.5,-153.5 6566.5,-153.5 6566.5,-227.5 6566.5,-227.5 6566.5,-233.5 6560.5,-239.5 6554.5,-239.5\"/>\n<text text-anchor=\"start\" x=\"6346\" y=\"-224.3\" font-family=\"Helvetica,sans-Serif\" font-size=\"14.00\" fill=\"#000000\">loudness ≤ &#45;12.773</text>\n<text text-anchor=\"start\" x=\"6378.5\" y=\"-209.3\" font-family=\"Helvetica,sans-Serif\" font-size=\"14.00\" fill=\"#000000\">gini = 0.9</text>\n<text text-anchor=\"start\" x=\"6360\" y=\"-194.3\" font-family=\"Helvetica,sans-Serif\" font-size=\"14.00\" fill=\"#000000\">samples = 152</text>\n<text text-anchor=\"start\" x=\"6257.5\" y=\"-179.3\" font-family=\"Helvetica,sans-Serif\" font-size=\"14.00\" fill=\"#000000\">value = [0, 4, 0, 0, 14, 5, 0, 19, 0, 2, 11, 0, 25, 1</text>\n<text text-anchor=\"start\" x=\"6295\" y=\"-164.3\" font-family=\"Helvetica,sans-Serif\" font-size=\"14.00\" fill=\"#000000\">3, 13, 0, 5, 7, 24, 10, 4, 0, 3, 2, 0, 0]</text>\n<text text-anchor=\"start\" x=\"6356.5\" y=\"-149.3\" font-family=\"Helvetica,sans-Serif\" font-size=\"14.00\" fill=\"#000000\">class = Hip&#45;Hop</text>\n</g>\n<!-- 34&#45;&gt;35 -->\n<g id=\"edge35\" class=\"edge\">\n<title>34&#45;&gt;35</title>\n<path fill=\"none\" stroke=\"#000000\" d=\"M6732.8206,-291.3297C6682.6432,-275.7538 6626.789,-258.4158 6575.7441,-242.5706\"/>\n<polygon fill=\"#000000\" stroke=\"#000000\" points=\"6576.5255,-239.1484 6565.9374,-239.5264 6574.4502,-245.8337 6576.5255,-239.1484\"/>\n</g>\n<!-- 38 -->\n<g id=\"node39\" class=\"node\">\n<title>38</title>\n<path fill=\"#edfdec\" stroke=\"#000000\" d=\"M7030.5,-239.5C7030.5,-239.5 6745.5,-239.5 6745.5,-239.5 6739.5,-239.5 6733.5,-233.5 6733.5,-227.5 6733.5,-227.5 6733.5,-153.5 6733.5,-153.5 6733.5,-147.5 6739.5,-141.5 6745.5,-141.5 6745.5,-141.5 7030.5,-141.5 7030.5,-141.5 7036.5,-141.5 7042.5,-147.5 7042.5,-153.5 7042.5,-153.5 7042.5,-227.5 7042.5,-227.5 7042.5,-233.5 7036.5,-239.5 7030.5,-239.5\"/>\n<text text-anchor=\"start\" x=\"6839.5\" y=\"-224.3\" font-family=\"Helvetica,sans-Serif\" font-size=\"14.00\" fill=\"#000000\">energy ≤ 0.394</text>\n<text text-anchor=\"start\" x=\"6850\" y=\"-209.3\" font-family=\"Helvetica,sans-Serif\" font-size=\"14.00\" fill=\"#000000\">gini = 0.755</text>\n<text text-anchor=\"start\" x=\"6840\" y=\"-194.3\" font-family=\"Helvetica,sans-Serif\" font-size=\"14.00\" fill=\"#000000\">samples = 254</text>\n<text text-anchor=\"start\" x=\"6741.5\" y=\"-179.3\" font-family=\"Helvetica,sans-Serif\" font-size=\"14.00\" fill=\"#000000\">value = [0, 3, 0, 4, 43, 2, 1, 91, 1, 0, 0, 1, 10, 1</text>\n<text text-anchor=\"start\" x=\"6783\" y=\"-164.3\" font-family=\"Helvetica,sans-Serif\" font-size=\"14.00\" fill=\"#000000\">2, 74, 4, 1, 4, 6, 0, 0, 0, 0, 4, 1, 1]</text>\n<text text-anchor=\"start\" x=\"6835.5\" y=\"-149.3\" font-family=\"Helvetica,sans-Serif\" font-size=\"14.00\" fill=\"#000000\">class = Comedy</text>\n</g>\n<!-- 34&#45;&gt;38 -->\n<g id=\"edge38\" class=\"edge\">\n<title>34&#45;&gt;38</title>\n<path fill=\"none\" stroke=\"#000000\" d=\"M6888,-290.2989C6888,-277.3296 6888,-263.1997 6888,-249.7608\"/>\n<polygon fill=\"#000000\" stroke=\"#000000\" points=\"6891.5001,-249.6494 6888,-239.6495 6884.5001,-249.6495 6891.5001,-249.6494\"/>\n</g>\n<!-- 36 -->\n<g id=\"node37\" class=\"node\">\n<title>36</title>\n<path fill=\"#f1fdf1\" stroke=\"#000000\" d=\"M6231.5,-90.5C6231.5,-90.5 5954.5,-90.5 5954.5,-90.5 5948.5,-90.5 5942.5,-84.5 5942.5,-78.5 5942.5,-78.5 5942.5,-19.5 5942.5,-19.5 5942.5,-13.5 5948.5,-7.5 5954.5,-7.5 5954.5,-7.5 6231.5,-7.5 6231.5,-7.5 6237.5,-7.5 6243.5,-13.5 6243.5,-19.5 6243.5,-19.5 6243.5,-78.5 6243.5,-78.5 6243.5,-84.5 6237.5,-90.5 6231.5,-90.5\"/>\n<text text-anchor=\"start\" x=\"6055\" y=\"-75.3\" font-family=\"Helvetica,sans-Serif\" font-size=\"14.00\" fill=\"#000000\">gini = 0.837</text>\n<text text-anchor=\"start\" x=\"6049\" y=\"-60.3\" font-family=\"Helvetica,sans-Serif\" font-size=\"14.00\" fill=\"#000000\">samples = 52</text>\n<text text-anchor=\"start\" x=\"5950.5\" y=\"-45.3\" font-family=\"Helvetica,sans-Serif\" font-size=\"14.00\" fill=\"#000000\">value = [0, 0, 0, 0, 10, 1, 0, 13, 0, 0, 2, 0, 5, 0</text>\n<text text-anchor=\"start\" x=\"5992\" y=\"-30.3\" font-family=\"Helvetica,sans-Serif\" font-size=\"14.00\" fill=\"#000000\">0, 9, 0, 0, 0, 2, 7, 0, 0, 3, 0, 0, 0]</text>\n<text text-anchor=\"start\" x=\"6040.5\" y=\"-15.3\" font-family=\"Helvetica,sans-Serif\" font-size=\"14.00\" fill=\"#000000\">class = Comedy</text>\n</g>\n<!-- 35&#45;&gt;36 -->\n<g id=\"edge36\" class=\"edge\">\n<title>35&#45;&gt;36</title>\n<path fill=\"none\" stroke=\"#000000\" d=\"M6298.7123,-141.4073C6265.0094,-126.2677 6228.0468,-109.6639 6194.8647,-94.7582\"/>\n<polygon fill=\"#000000\" stroke=\"#000000\" points=\"6196.1678,-91.5068 6185.6117,-90.6018 6193.2994,-97.8921 6196.1678,-91.5068\"/>\n</g>\n<!-- 37 -->\n<g id=\"node38\" class=\"node\">\n<title>37</title>\n<path fill=\"#fdfafe\" stroke=\"#000000\" d=\"M6542.5,-90.5C6542.5,-90.5 6273.5,-90.5 6273.5,-90.5 6267.5,-90.5 6261.5,-84.5 6261.5,-78.5 6261.5,-78.5 6261.5,-19.5 6261.5,-19.5 6261.5,-13.5 6267.5,-7.5 6273.5,-7.5 6273.5,-7.5 6542.5,-7.5 6542.5,-7.5 6548.5,-7.5 6554.5,-13.5 6554.5,-19.5 6554.5,-19.5 6554.5,-78.5 6554.5,-78.5 6554.5,-84.5 6548.5,-90.5 6542.5,-90.5\"/>\n<text text-anchor=\"start\" x=\"6370\" y=\"-75.3\" font-family=\"Helvetica,sans-Serif\" font-size=\"14.00\" fill=\"#000000\">gini = 0.882</text>\n<text text-anchor=\"start\" x=\"6360\" y=\"-60.3\" font-family=\"Helvetica,sans-Serif\" font-size=\"14.00\" fill=\"#000000\">samples = 100</text>\n<text text-anchor=\"start\" x=\"6269.5\" y=\"-45.3\" font-family=\"Helvetica,sans-Serif\" font-size=\"14.00\" fill=\"#000000\">value = [0, 4, 0, 0, 4, 4, 0, 6, 0, 2, 9, 0, 20, 1</text>\n<text text-anchor=\"start\" x=\"6303\" y=\"-30.3\" font-family=\"Helvetica,sans-Serif\" font-size=\"14.00\" fill=\"#000000\">3, 4, 0, 5, 7, 22, 3, 4, 0, 0, 2, 0, 0]</text>\n<text text-anchor=\"start\" x=\"6369.5\" y=\"-15.3\" font-family=\"Helvetica,sans-Serif\" font-size=\"14.00\" fill=\"#000000\">class = Rap</text>\n</g>\n<!-- 35&#45;&gt;37 -->\n<g id=\"edge37\" class=\"edge\">\n<title>35&#45;&gt;37</title>\n<path fill=\"none\" stroke=\"#000000\" d=\"M6408,-141.4073C6408,-128.4326 6408,-114.3824 6408,-101.2474\"/>\n<polygon fill=\"#000000\" stroke=\"#000000\" points=\"6411.5001,-100.9475 6408,-90.9475 6404.5001,-100.9476 6411.5001,-100.9475\"/>\n</g>\n<!-- 39 -->\n<g id=\"node40\" class=\"node\">\n<title>39</title>\n<path fill=\"#dbe3fa\" stroke=\"#000000\" d=\"M6861.5,-90.5C6861.5,-90.5 6584.5,-90.5 6584.5,-90.5 6578.5,-90.5 6572.5,-84.5 6572.5,-78.5 6572.5,-78.5 6572.5,-19.5 6572.5,-19.5 6572.5,-13.5 6578.5,-7.5 6584.5,-7.5 6584.5,-7.5 6861.5,-7.5 6861.5,-7.5 6867.5,-7.5 6873.5,-13.5 6873.5,-19.5 6873.5,-19.5 6873.5,-78.5 6873.5,-78.5 6873.5,-84.5 6867.5,-90.5 6861.5,-90.5\"/>\n<text text-anchor=\"start\" x=\"6689.5\" y=\"-75.3\" font-family=\"Helvetica,sans-Serif\" font-size=\"14.00\" fill=\"#000000\">gini = 0.72</text>\n<text text-anchor=\"start\" x=\"6675\" y=\"-60.3\" font-family=\"Helvetica,sans-Serif\" font-size=\"14.00\" fill=\"#000000\">samples = 144</text>\n<text text-anchor=\"start\" x=\"6580.5\" y=\"-45.3\" font-family=\"Helvetica,sans-Serif\" font-size=\"14.00\" fill=\"#000000\">value = [0, 1, 0, 2, 39, 1, 1, 30, 0, 0, 0, 0, 1, 1</text>\n<text text-anchor=\"start\" x=\"6618\" y=\"-30.3\" font-family=\"Helvetica,sans-Serif\" font-size=\"14.00\" fill=\"#000000\">1, 58, 3, 0, 1, 1, 0, 0, 0, 0, 2, 1, 1]</text>\n<text text-anchor=\"start\" x=\"6678.5\" y=\"-15.3\" font-family=\"Helvetica,sans-Serif\" font-size=\"14.00\" fill=\"#000000\">class = Movie</text>\n</g>\n<!-- 38&#45;&gt;39 -->\n<g id=\"edge39\" class=\"edge\">\n<title>38&#45;&gt;39</title>\n<path fill=\"none\" stroke=\"#000000\" d=\"M6830.7541,-141.4073C6814.1964,-127.2078 6796.1367,-111.7202 6779.6175,-97.5538\"/>\n<polygon fill=\"#000000\" stroke=\"#000000\" points=\"6781.5146,-94.5699 6771.6452,-90.7169 6776.9577,-99.8836 6781.5146,-94.5699\"/>\n</g>\n<!-- 40 -->\n<g id=\"node41\" class=\"node\">\n<title>40</title>\n<path fill=\"#a3f3a0\" stroke=\"#000000\" d=\"M7172.5,-90.5C7172.5,-90.5 6903.5,-90.5 6903.5,-90.5 6897.5,-90.5 6891.5,-84.5 6891.5,-78.5 6891.5,-78.5 6891.5,-19.5 6891.5,-19.5 6891.5,-13.5 6897.5,-7.5 6903.5,-7.5 6903.5,-7.5 7172.5,-7.5 7172.5,-7.5 7178.5,-7.5 7184.5,-13.5 7184.5,-19.5 7184.5,-19.5 7184.5,-78.5 7184.5,-78.5 7184.5,-84.5 7178.5,-90.5 7172.5,-90.5\"/>\n<text text-anchor=\"start\" x=\"7000\" y=\"-75.3\" font-family=\"Helvetica,sans-Serif\" font-size=\"14.00\" fill=\"#000000\">gini = 0.659</text>\n<text text-anchor=\"start\" x=\"6990\" y=\"-60.3\" font-family=\"Helvetica,sans-Serif\" font-size=\"14.00\" fill=\"#000000\">samples = 110</text>\n<text text-anchor=\"start\" x=\"6899.5\" y=\"-45.3\" font-family=\"Helvetica,sans-Serif\" font-size=\"14.00\" fill=\"#000000\">value = [0, 2, 0, 2, 4, 1, 0, 61, 1, 0, 0, 1, 9, 0</text>\n<text text-anchor=\"start\" x=\"6933\" y=\"-30.3\" font-family=\"Helvetica,sans-Serif\" font-size=\"14.00\" fill=\"#000000\">1, 16, 1, 1, 3, 5, 0, 0, 0, 0, 2, 0, 0]</text>\n<text text-anchor=\"start\" x=\"6985.5\" y=\"-15.3\" font-family=\"Helvetica,sans-Serif\" font-size=\"14.00\" fill=\"#000000\">class = Comedy</text>\n</g>\n<!-- 38&#45;&gt;40 -->\n<g id=\"edge40\" class=\"edge\">\n<title>38&#45;&gt;40</title>\n<path fill=\"none\" stroke=\"#000000\" d=\"M6940.0418,-141.4073C6954.8853,-127.4049 6971.0567,-112.1499 6985.9035,-98.1444\"/>\n<polygon fill=\"#000000\" stroke=\"#000000\" points=\"6988.6602,-100.3555 6993.5326,-90.9475 6983.8568,-95.2636 6988.6602,-100.3555\"/>\n</g>\n<!-- 42 -->\n<g id=\"node43\" class=\"node\">\n<title>42</title>\n<path fill=\"#c2f7c0\" stroke=\"#000000\" d=\"M7643.5,-239.5C7643.5,-239.5 7366.5,-239.5 7366.5,-239.5 7360.5,-239.5 7354.5,-233.5 7354.5,-227.5 7354.5,-227.5 7354.5,-153.5 7354.5,-153.5 7354.5,-147.5 7360.5,-141.5 7366.5,-141.5 7366.5,-141.5 7643.5,-141.5 7643.5,-141.5 7649.5,-141.5 7655.5,-147.5 7655.5,-153.5 7655.5,-153.5 7655.5,-227.5 7655.5,-227.5 7655.5,-233.5 7649.5,-239.5 7643.5,-239.5\"/>\n<text text-anchor=\"start\" x=\"7456.5\" y=\"-224.3\" font-family=\"Helvetica,sans-Serif\" font-size=\"14.00\" fill=\"#000000\">energy ≤ 0.322</text>\n<text text-anchor=\"start\" x=\"7467\" y=\"-209.3\" font-family=\"Helvetica,sans-Serif\" font-size=\"14.00\" fill=\"#000000\">gini = 0.682</text>\n<text text-anchor=\"start\" x=\"7461\" y=\"-194.3\" font-family=\"Helvetica,sans-Serif\" font-size=\"14.00\" fill=\"#000000\">samples = 99</text>\n<text text-anchor=\"start\" x=\"7362.5\" y=\"-179.3\" font-family=\"Helvetica,sans-Serif\" font-size=\"14.00\" fill=\"#000000\">value = [0, 1, 0, 1, 19, 1, 0, 47, 0, 0, 0, 0, 3, 0</text>\n<text text-anchor=\"start\" x=\"7400\" y=\"-164.3\" font-family=\"Helvetica,sans-Serif\" font-size=\"14.00\" fill=\"#000000\">0, 23, 0, 0, 1, 1, 1, 0, 0, 1, 0, 0, 0]</text>\n<text text-anchor=\"start\" x=\"7452.5\" y=\"-149.3\" font-family=\"Helvetica,sans-Serif\" font-size=\"14.00\" fill=\"#000000\">class = Comedy</text>\n</g>\n<!-- 41&#45;&gt;42 -->\n<g id=\"edge42\" class=\"edge\">\n<title>41&#45;&gt;42</title>\n<path fill=\"none\" stroke=\"#000000\" d=\"M7505,-290.2989C7505,-277.3296 7505,-263.1997 7505,-249.7608\"/>\n<polygon fill=\"#000000\" stroke=\"#000000\" points=\"7508.5001,-249.6494 7505,-239.6495 7501.5001,-249.6495 7508.5001,-249.6494\"/>\n</g>\n<!-- 45 -->\n<g id=\"node46\" class=\"node\">\n<title>45</title>\n<path fill=\"#5be956\" stroke=\"#000000\" d=\"M8121.5,-239.5C8121.5,-239.5 7836.5,-239.5 7836.5,-239.5 7830.5,-239.5 7824.5,-233.5 7824.5,-227.5 7824.5,-227.5 7824.5,-153.5 7824.5,-153.5 7824.5,-147.5 7830.5,-141.5 7836.5,-141.5 7836.5,-141.5 8121.5,-141.5 8121.5,-141.5 8127.5,-141.5 8133.5,-147.5 8133.5,-153.5 8133.5,-153.5 8133.5,-227.5 8133.5,-227.5 8133.5,-233.5 8127.5,-239.5 8121.5,-239.5\"/>\n<text text-anchor=\"start\" x=\"7930.5\" y=\"-224.3\" font-family=\"Helvetica,sans-Serif\" font-size=\"14.00\" fill=\"#000000\">energy ≤ 0.194</text>\n<text text-anchor=\"start\" x=\"7941\" y=\"-209.3\" font-family=\"Helvetica,sans-Serif\" font-size=\"14.00\" fill=\"#000000\">gini = 0.238</text>\n<text text-anchor=\"start\" x=\"7931\" y=\"-194.3\" font-family=\"Helvetica,sans-Serif\" font-size=\"14.00\" fill=\"#000000\">samples = 310</text>\n<text text-anchor=\"start\" x=\"7832.5\" y=\"-179.3\" font-family=\"Helvetica,sans-Serif\" font-size=\"14.00\" fill=\"#000000\">value = [0, 0, 0, 0, 12, 0, 0, 269, 0, 0, 0, 0, 0, 0</text>\n<text text-anchor=\"start\" x=\"7874\" y=\"-164.3\" font-family=\"Helvetica,sans-Serif\" font-size=\"14.00\" fill=\"#000000\">0, 26, 2, 0, 0, 0, 1, 0, 0, 0, 0, 0, 0]</text>\n<text text-anchor=\"start\" x=\"7926.5\" y=\"-149.3\" font-family=\"Helvetica,sans-Serif\" font-size=\"14.00\" fill=\"#000000\">class = Comedy</text>\n</g>\n<!-- 41&#45;&gt;45 -->\n<g id=\"edge45\" class=\"edge\">\n<title>41&#45;&gt;45</title>\n<path fill=\"none\" stroke=\"#000000\" d=\"M7659.5495,-290.918C7709.1681,-275.3206 7764.2948,-257.9917 7814.5932,-242.1806\"/>\n<polygon fill=\"#000000\" stroke=\"#000000\" points=\"7815.7651,-245.4812 7824.2553,-239.1434 7813.6659,-238.8033 7815.7651,-245.4812\"/>\n</g>\n<!-- 43 -->\n<g id=\"node44\" class=\"node\">\n<title>43</title>\n<path fill=\"#dce4fa\" stroke=\"#000000\" d=\"M7491.5,-90.5C7491.5,-90.5 7214.5,-90.5 7214.5,-90.5 7208.5,-90.5 7202.5,-84.5 7202.5,-78.5 7202.5,-78.5 7202.5,-19.5 7202.5,-19.5 7202.5,-13.5 7208.5,-7.5 7214.5,-7.5 7214.5,-7.5 7491.5,-7.5 7491.5,-7.5 7497.5,-7.5 7503.5,-13.5 7503.5,-19.5 7503.5,-19.5 7503.5,-78.5 7503.5,-78.5 7503.5,-84.5 7497.5,-90.5 7491.5,-90.5\"/>\n<text text-anchor=\"start\" x=\"7315\" y=\"-75.3\" font-family=\"Helvetica,sans-Serif\" font-size=\"14.00\" fill=\"#000000\">gini = 0.694</text>\n<text text-anchor=\"start\" x=\"7309\" y=\"-60.3\" font-family=\"Helvetica,sans-Serif\" font-size=\"14.00\" fill=\"#000000\">samples = 47</text>\n<text text-anchor=\"start\" x=\"7210.5\" y=\"-45.3\" font-family=\"Helvetica,sans-Serif\" font-size=\"14.00\" fill=\"#000000\">value = [0, 0, 0, 1, 13, 0, 0, 12, 0, 0, 0, 0, 0, 0</text>\n<text text-anchor=\"start\" x=\"7248\" y=\"-30.3\" font-family=\"Helvetica,sans-Serif\" font-size=\"14.00\" fill=\"#000000\">0, 19, 0, 0, 0, 0, 1, 0, 0, 1, 0, 0, 0]</text>\n<text text-anchor=\"start\" x=\"7308.5\" y=\"-15.3\" font-family=\"Helvetica,sans-Serif\" font-size=\"14.00\" fill=\"#000000\">class = Movie</text>\n</g>\n<!-- 42&#45;&gt;43 -->\n<g id=\"edge43\" class=\"edge\">\n<title>42&#45;&gt;43</title>\n<path fill=\"none\" stroke=\"#000000\" d=\"M7452.2644,-141.4073C7437.2229,-127.4049 7420.8359,-112.1499 7405.7911,-98.1444\"/>\n<polygon fill=\"#000000\" stroke=\"#000000\" points=\"7407.7644,-95.1995 7398.0603,-90.9475 7402.9948,-100.3231 7407.7644,-95.1995\"/>\n</g>\n<!-- 44 -->\n<g id=\"node45\" class=\"node\">\n<title>44</title>\n<path fill=\"#86ef82\" stroke=\"#000000\" d=\"M7802.5,-90.5C7802.5,-90.5 7533.5,-90.5 7533.5,-90.5 7527.5,-90.5 7521.5,-84.5 7521.5,-78.5 7521.5,-78.5 7521.5,-19.5 7521.5,-19.5 7521.5,-13.5 7527.5,-7.5 7533.5,-7.5 7533.5,-7.5 7802.5,-7.5 7802.5,-7.5 7808.5,-7.5 7814.5,-13.5 7814.5,-19.5 7814.5,-19.5 7814.5,-78.5 7814.5,-78.5 7814.5,-84.5 7808.5,-90.5 7802.5,-90.5\"/>\n<text text-anchor=\"start\" x=\"7630\" y=\"-75.3\" font-family=\"Helvetica,sans-Serif\" font-size=\"14.00\" fill=\"#000000\">gini = 0.523</text>\n<text text-anchor=\"start\" x=\"7624\" y=\"-60.3\" font-family=\"Helvetica,sans-Serif\" font-size=\"14.00\" fill=\"#000000\">samples = 52</text>\n<text text-anchor=\"start\" x=\"7529.5\" y=\"-45.3\" font-family=\"Helvetica,sans-Serif\" font-size=\"14.00\" fill=\"#000000\">value = [0, 1, 0, 0, 6, 1, 0, 35, 0, 0, 0, 0, 3, 0</text>\n<text text-anchor=\"start\" x=\"7567\" y=\"-30.3\" font-family=\"Helvetica,sans-Serif\" font-size=\"14.00\" fill=\"#000000\">0, 4, 0, 0, 1, 1, 0, 0, 0, 0, 0, 0, 0]</text>\n<text text-anchor=\"start\" x=\"7615.5\" y=\"-15.3\" font-family=\"Helvetica,sans-Serif\" font-size=\"14.00\" fill=\"#000000\">class = Comedy</text>\n</g>\n<!-- 42&#45;&gt;44 -->\n<g id=\"edge44\" class=\"edge\">\n<title>42&#45;&gt;44</title>\n<path fill=\"none\" stroke=\"#000000\" d=\"M7561.552,-141.4073C7577.909,-127.2078 7595.7498,-111.7202 7612.0688,-97.5538\"/>\n<polygon fill=\"#000000\" stroke=\"#000000\" points=\"7614.6873,-99.9155 7619.9445,-90.7169 7610.0985,-94.6294 7614.6873,-99.9155\"/>\n</g>\n<!-- 46 -->\n<g id=\"node47\" class=\"node\">\n<title>46</title>\n<path fill=\"#cbf8ca\" stroke=\"#000000\" d=\"M8113.5,-90.5C8113.5,-90.5 7844.5,-90.5 7844.5,-90.5 7838.5,-90.5 7832.5,-84.5 7832.5,-78.5 7832.5,-78.5 7832.5,-19.5 7832.5,-19.5 7832.5,-13.5 7838.5,-7.5 7844.5,-7.5 7844.5,-7.5 8113.5,-7.5 8113.5,-7.5 8119.5,-7.5 8125.5,-13.5 8125.5,-19.5 8125.5,-19.5 8125.5,-78.5 8125.5,-78.5 8125.5,-84.5 8119.5,-90.5 8113.5,-90.5\"/>\n<text text-anchor=\"start\" x=\"7941\" y=\"-75.3\" font-family=\"Helvetica,sans-Serif\" font-size=\"14.00\" fill=\"#000000\">gini = 0.569</text>\n<text text-anchor=\"start\" x=\"7935\" y=\"-60.3\" font-family=\"Helvetica,sans-Serif\" font-size=\"14.00\" fill=\"#000000\">samples = 41</text>\n<text text-anchor=\"start\" x=\"7840.5\" y=\"-45.3\" font-family=\"Helvetica,sans-Serif\" font-size=\"14.00\" fill=\"#000000\">value = [0, 0, 0, 0, 4, 0, 0, 22, 0, 0, 0, 0, 0, 0</text>\n<text text-anchor=\"start\" x=\"7874\" y=\"-30.3\" font-family=\"Helvetica,sans-Serif\" font-size=\"14.00\" fill=\"#000000\">0, 15, 0, 0, 0, 0, 0, 0, 0, 0, 0, 0, 0]</text>\n<text text-anchor=\"start\" x=\"7926.5\" y=\"-15.3\" font-family=\"Helvetica,sans-Serif\" font-size=\"14.00\" fill=\"#000000\">class = Comedy</text>\n</g>\n<!-- 45&#45;&gt;46 -->\n<g id=\"edge46\" class=\"edge\">\n<title>45&#45;&gt;46</title>\n<path fill=\"none\" stroke=\"#000000\" d=\"M7979,-141.4073C7979,-128.4326 7979,-114.3824 7979,-101.2474\"/>\n<polygon fill=\"#000000\" stroke=\"#000000\" points=\"7982.5001,-100.9475 7979,-90.9475 7975.5001,-100.9476 7982.5001,-100.9475\"/>\n</g>\n<!-- 47 -->\n<g id=\"node48\" class=\"node\">\n<title>47</title>\n<path fill=\"#4fe74a\" stroke=\"#000000\" d=\"M8432.5,-90.5C8432.5,-90.5 8155.5,-90.5 8155.5,-90.5 8149.5,-90.5 8143.5,-84.5 8143.5,-78.5 8143.5,-78.5 8143.5,-19.5 8143.5,-19.5 8143.5,-13.5 8149.5,-7.5 8155.5,-7.5 8155.5,-7.5 8432.5,-7.5 8432.5,-7.5 8438.5,-7.5 8444.5,-13.5 8444.5,-19.5 8444.5,-19.5 8444.5,-78.5 8444.5,-78.5 8444.5,-84.5 8438.5,-90.5 8432.5,-90.5\"/>\n<text text-anchor=\"start\" x=\"8256\" y=\"-75.3\" font-family=\"Helvetica,sans-Serif\" font-size=\"14.00\" fill=\"#000000\">gini = 0.154</text>\n<text text-anchor=\"start\" x=\"8246\" y=\"-60.3\" font-family=\"Helvetica,sans-Serif\" font-size=\"14.00\" fill=\"#000000\">samples = 269</text>\n<text text-anchor=\"start\" x=\"8151.5\" y=\"-45.3\" font-family=\"Helvetica,sans-Serif\" font-size=\"14.00\" fill=\"#000000\">value = [0, 0, 0, 0, 8, 0, 0, 247, 0, 0, 0, 0, 0, 0</text>\n<text text-anchor=\"start\" x=\"8189\" y=\"-30.3\" font-family=\"Helvetica,sans-Serif\" font-size=\"14.00\" fill=\"#000000\">0, 11, 2, 0, 0, 0, 1, 0, 0, 0, 0, 0, 0]</text>\n<text text-anchor=\"start\" x=\"8241.5\" y=\"-15.3\" font-family=\"Helvetica,sans-Serif\" font-size=\"14.00\" fill=\"#000000\">class = Comedy</text>\n</g>\n<!-- 45&#45;&gt;47 -->\n<g id=\"edge47\" class=\"edge\">\n<title>45&#45;&gt;47</title>\n<path fill=\"none\" stroke=\"#000000\" d=\"M8088.2877,-141.4073C8121.9906,-126.2677 8158.9532,-109.6639 8192.1353,-94.7582\"/>\n<polygon fill=\"#000000\" stroke=\"#000000\" points=\"8193.7006,-97.8921 8201.3883,-90.6018 8190.8322,-91.5068 8193.7006,-97.8921\"/>\n</g>\n<!-- 49 -->\n<g id=\"node50\" class=\"node\">\n<title>49</title>\n<path fill=\"#baf6b8\" stroke=\"#000000\" d=\"M9195.5,-388.5C9195.5,-388.5 8926.5,-388.5 8926.5,-388.5 8920.5,-388.5 8914.5,-382.5 8914.5,-376.5 8914.5,-376.5 8914.5,-302.5 8914.5,-302.5 8914.5,-296.5 8920.5,-290.5 8926.5,-290.5 8926.5,-290.5 9195.5,-290.5 9195.5,-290.5 9201.5,-290.5 9207.5,-296.5 9207.5,-302.5 9207.5,-302.5 9207.5,-376.5 9207.5,-376.5 9207.5,-382.5 9201.5,-388.5 9195.5,-388.5\"/>\n<text text-anchor=\"start\" x=\"9008\" y=\"-373.3\" font-family=\"Helvetica,sans-Serif\" font-size=\"14.00\" fill=\"#000000\">liveness ≤ 0.747</text>\n<text text-anchor=\"start\" x=\"9023\" y=\"-358.3\" font-family=\"Helvetica,sans-Serif\" font-size=\"14.00\" fill=\"#000000\">gini = 0.763</text>\n<text text-anchor=\"start\" x=\"9017\" y=\"-343.3\" font-family=\"Helvetica,sans-Serif\" font-size=\"14.00\" fill=\"#000000\">samples = 77</text>\n<text text-anchor=\"start\" x=\"8922.5\" y=\"-328.3\" font-family=\"Helvetica,sans-Serif\" font-size=\"14.00\" fill=\"#000000\">value = [0, 0, 0, 0, 3, 1, 0, 34, 0, 1, 2, 0, 8, 2</text>\n<text text-anchor=\"start\" x=\"8956\" y=\"-313.3\" font-family=\"Helvetica,sans-Serif\" font-size=\"14.00\" fill=\"#000000\">0, 10, 0, 2, 5, 6, 0, 0, 1, 1, 1, 0, 0]</text>\n<text text-anchor=\"start\" x=\"9008.5\" y=\"-298.3\" font-family=\"Helvetica,sans-Serif\" font-size=\"14.00\" fill=\"#000000\">class = Comedy</text>\n</g>\n<!-- 48&#45;&gt;49 -->\n<g id=\"edge49\" class=\"edge\">\n<title>48&#45;&gt;49</title>\n<path fill=\"none\" stroke=\"#000000\" d=\"M9061,-439.2989C9061,-426.3296 9061,-412.1997 9061,-398.7608\"/>\n<polygon fill=\"#000000\" stroke=\"#000000\" points=\"9064.5001,-398.6494 9061,-388.6495 9057.5001,-398.6495 9064.5001,-398.6494\"/>\n</g>\n<!-- 56 -->\n<g id=\"node57\" class=\"node\">\n<title>56</title>\n<path fill=\"#44e63e\" stroke=\"#000000\" d=\"M10126,-388.5C10126,-388.5 9840,-388.5 9840,-388.5 9834,-388.5 9828,-382.5 9828,-376.5 9828,-376.5 9828,-302.5 9828,-302.5 9828,-296.5 9834,-290.5 9840,-290.5 9840,-290.5 10126,-290.5 10126,-290.5 10132,-290.5 10138,-296.5 10138,-302.5 10138,-302.5 10138,-376.5 10138,-376.5 10138,-382.5 10132,-388.5 10126,-388.5\"/>\n<text text-anchor=\"start\" x=\"9934.5\" y=\"-373.3\" font-family=\"Helvetica,sans-Serif\" font-size=\"14.00\" fill=\"#000000\">energy ≤ 0.288</text>\n<text text-anchor=\"start\" x=\"9949.5\" y=\"-358.3\" font-family=\"Helvetica,sans-Serif\" font-size=\"14.00\" fill=\"#000000\">gini = 0.05</text>\n<text text-anchor=\"start\" x=\"9931\" y=\"-343.3\" font-family=\"Helvetica,sans-Serif\" font-size=\"14.00\" fill=\"#000000\">samples = 6773</text>\n<text text-anchor=\"start\" x=\"9836\" y=\"-328.3\" font-family=\"Helvetica,sans-Serif\" font-size=\"14.00\" fill=\"#000000\">value = [0, 1, 0, 11, 31, 1, 2, 6602, 0, 0, 0, 0, 5</text>\n<text text-anchor=\"start\" x=\"9870\" y=\"-313.3\" font-family=\"Helvetica,sans-Serif\" font-size=\"14.00\" fill=\"#000000\">1, 7, 94, 4, 0, 2, 2, 2, 1, 0, 4, 2, 0, 1]</text>\n<text text-anchor=\"start\" x=\"9930.5\" y=\"-298.3\" font-family=\"Helvetica,sans-Serif\" font-size=\"14.00\" fill=\"#000000\">class = Comedy</text>\n</g>\n<!-- 48&#45;&gt;56 -->\n<g id=\"edge56\" class=\"edge\">\n<title>48&#45;&gt;56</title>\n<path fill=\"none\" stroke=\"#000000\" d=\"M9220.0222,-462.8012C9387.0768,-435.8043 9648.5967,-393.5413 9817.9,-366.181\"/>\n<polygon fill=\"#000000\" stroke=\"#000000\" points=\"9818.593,-369.6145 9827.9065,-364.5639 9817.4762,-362.7042 9818.593,-369.6145\"/>\n</g>\n<!-- 50 -->\n<g id=\"node51\" class=\"node\">\n<title>50</title>\n<path fill=\"#f5fef5\" stroke=\"#000000\" d=\"M9039.5,-239.5C9039.5,-239.5 8770.5,-239.5 8770.5,-239.5 8764.5,-239.5 8758.5,-233.5 8758.5,-227.5 8758.5,-227.5 8758.5,-153.5 8758.5,-153.5 8758.5,-147.5 8764.5,-141.5 8770.5,-141.5 8770.5,-141.5 9039.5,-141.5 9039.5,-141.5 9045.5,-141.5 9051.5,-147.5 9051.5,-153.5 9051.5,-153.5 9051.5,-227.5 9051.5,-227.5 9051.5,-233.5 9045.5,-239.5 9039.5,-239.5\"/>\n<text text-anchor=\"start\" x=\"8837.5\" y=\"-224.3\" font-family=\"Helvetica,sans-Serif\" font-size=\"14.00\" fill=\"#000000\">speechiness ≤ 0.866</text>\n<text text-anchor=\"start\" x=\"8867\" y=\"-209.3\" font-family=\"Helvetica,sans-Serif\" font-size=\"14.00\" fill=\"#000000\">gini = 0.863</text>\n<text text-anchor=\"start\" x=\"8861\" y=\"-194.3\" font-family=\"Helvetica,sans-Serif\" font-size=\"14.00\" fill=\"#000000\">samples = 47</text>\n<text text-anchor=\"start\" x=\"8766.5\" y=\"-179.3\" font-family=\"Helvetica,sans-Serif\" font-size=\"14.00\" fill=\"#000000\">value = [0, 0, 0, 0, 1, 1, 0, 10, 0, 1, 1, 0, 8, 2</text>\n<text text-anchor=\"start\" x=\"8804\" y=\"-164.3\" font-family=\"Helvetica,sans-Serif\" font-size=\"14.00\" fill=\"#000000\">0, 8, 0, 2, 5, 6, 0, 0, 1, 0, 1, 0, 0]</text>\n<text text-anchor=\"start\" x=\"8852.5\" y=\"-149.3\" font-family=\"Helvetica,sans-Serif\" font-size=\"14.00\" fill=\"#000000\">class = Comedy</text>\n</g>\n<!-- 49&#45;&gt;50 -->\n<g id=\"edge50\" class=\"edge\">\n<title>49&#45;&gt;50</title>\n<path fill=\"none\" stroke=\"#000000\" d=\"M9009.4874,-290.2989C8994.8439,-276.3124 8978.787,-260.9761 8963.7485,-246.6124\"/>\n<polygon fill=\"#000000\" stroke=\"#000000\" points=\"8966.1074,-244.0254 8956.4585,-239.6495 8961.2725,-249.0875 8966.1074,-244.0254\"/>\n</g>\n<!-- 53 -->\n<g id=\"node54\" class=\"node\">\n<title>53</title>\n<path fill=\"#68eb63\" stroke=\"#000000\" d=\"M9350.5,-239.5C9350.5,-239.5 9081.5,-239.5 9081.5,-239.5 9075.5,-239.5 9069.5,-233.5 9069.5,-227.5 9069.5,-227.5 9069.5,-153.5 9069.5,-153.5 9069.5,-147.5 9075.5,-141.5 9081.5,-141.5 9081.5,-141.5 9350.5,-141.5 9350.5,-141.5 9356.5,-141.5 9362.5,-147.5 9362.5,-153.5 9362.5,-153.5 9362.5,-227.5 9362.5,-227.5 9362.5,-233.5 9356.5,-239.5 9350.5,-239.5\"/>\n<text text-anchor=\"start\" x=\"9143\" y=\"-224.3\" font-family=\"Helvetica,sans-Serif\" font-size=\"14.00\" fill=\"#000000\">instrumentalness ≤ 0.0</text>\n<text text-anchor=\"start\" x=\"9178\" y=\"-209.3\" font-family=\"Helvetica,sans-Serif\" font-size=\"14.00\" fill=\"#000000\">gini = 0.349</text>\n<text text-anchor=\"start\" x=\"9172\" y=\"-194.3\" font-family=\"Helvetica,sans-Serif\" font-size=\"14.00\" fill=\"#000000\">samples = 30</text>\n<text text-anchor=\"start\" x=\"9077.5\" y=\"-179.3\" font-family=\"Helvetica,sans-Serif\" font-size=\"14.00\" fill=\"#000000\">value = [0, 0, 0, 0, 2, 0, 0, 24, 0, 0, 1, 0, 0, 0</text>\n<text text-anchor=\"start\" x=\"9115\" y=\"-164.3\" font-family=\"Helvetica,sans-Serif\" font-size=\"14.00\" fill=\"#000000\">0, 2, 0, 0, 0, 0, 0, 0, 0, 1, 0, 0, 0]</text>\n<text text-anchor=\"start\" x=\"9163.5\" y=\"-149.3\" font-family=\"Helvetica,sans-Serif\" font-size=\"14.00\" fill=\"#000000\">class = Comedy</text>\n</g>\n<!-- 49&#45;&gt;53 -->\n<g id=\"edge53\" class=\"edge\">\n<title>49&#45;&gt;53</title>\n<path fill=\"none\" stroke=\"#000000\" d=\"M9112.1824,-290.2989C9126.732,-276.3124 9142.686,-260.9761 9157.628,-246.6124\"/>\n<polygon fill=\"#000000\" stroke=\"#000000\" points=\"9160.0877,-249.1029 9164.8714,-239.6495 9155.2366,-244.0564 9160.0877,-249.1029\"/>\n</g>\n<!-- 51 -->\n<g id=\"node52\" class=\"node\">\n<title>51</title>\n<path fill=\"#f7fdfe\" stroke=\"#000000\" d=\"M8735,-90.5C8735,-90.5 8475,-90.5 8475,-90.5 8469,-90.5 8463,-84.5 8463,-78.5 8463,-78.5 8463,-19.5 8463,-19.5 8463,-13.5 8469,-7.5 8475,-7.5 8475,-7.5 8735,-7.5 8735,-7.5 8741,-7.5 8747,-13.5 8747,-19.5 8747,-19.5 8747,-78.5 8747,-78.5 8747,-84.5 8741,-90.5 8735,-90.5\"/>\n<text text-anchor=\"start\" x=\"8567\" y=\"-75.3\" font-family=\"Helvetica,sans-Serif\" font-size=\"14.00\" fill=\"#000000\">gini = 0.855</text>\n<text text-anchor=\"start\" x=\"8561\" y=\"-60.3\" font-family=\"Helvetica,sans-Serif\" font-size=\"14.00\" fill=\"#000000\">samples = 31</text>\n<text text-anchor=\"start\" x=\"8471\" y=\"-45.3\" font-family=\"Helvetica,sans-Serif\" font-size=\"14.00\" fill=\"#000000\">value = [0, 0, 0, 0, 0, 1, 0, 4, 0, 1, 1, 0, 7, 2</text>\n<text text-anchor=\"start\" x=\"8504\" y=\"-30.3\" font-family=\"Helvetica,sans-Serif\" font-size=\"14.00\" fill=\"#000000\">0, 0, 0, 2, 5, 6, 0, 0, 1, 0, 1, 0, 0]</text>\n<text text-anchor=\"start\" x=\"8553.5\" y=\"-15.3\" font-family=\"Helvetica,sans-Serif\" font-size=\"14.00\" fill=\"#000000\">class = Hip&#45;Hop</text>\n</g>\n<!-- 50&#45;&gt;51 -->\n<g id=\"edge51\" class=\"edge\">\n<title>50&#45;&gt;51</title>\n<path fill=\"none\" stroke=\"#000000\" d=\"M8800.9165,-141.4073C8769.0327,-126.3687 8734.0857,-109.8854 8702.6471,-95.0569\"/>\n<polygon fill=\"#000000\" stroke=\"#000000\" points=\"8703.9833,-91.8174 8693.4458,-90.7169 8700.9971,-98.1485 8703.9833,-91.8174\"/>\n</g>\n<!-- 52 -->\n<g id=\"node53\" class=\"node\">\n<title>52</title>\n<path fill=\"#d7e0fa\" stroke=\"#000000\" d=\"M9037,-90.5C9037,-90.5 8777,-90.5 8777,-90.5 8771,-90.5 8765,-84.5 8765,-78.5 8765,-78.5 8765,-19.5 8765,-19.5 8765,-13.5 8771,-7.5 8777,-7.5 8777,-7.5 9037,-7.5 9037,-7.5 9043,-7.5 9049,-13.5 9049,-19.5 9049,-19.5 9049,-78.5 9049,-78.5 9049,-84.5 9043,-90.5 9037,-90.5\"/>\n<text text-anchor=\"start\" x=\"8869\" y=\"-75.3\" font-family=\"Helvetica,sans-Serif\" font-size=\"14.00\" fill=\"#000000\">gini = 0.602</text>\n<text text-anchor=\"start\" x=\"8863\" y=\"-60.3\" font-family=\"Helvetica,sans-Serif\" font-size=\"14.00\" fill=\"#000000\">samples = 16</text>\n<text text-anchor=\"start\" x=\"8773\" y=\"-45.3\" font-family=\"Helvetica,sans-Serif\" font-size=\"14.00\" fill=\"#000000\">value = [0, 0, 0, 0, 1, 0, 0, 6, 0, 0, 0, 0, 1, 0</text>\n<text text-anchor=\"start\" x=\"8806\" y=\"-30.3\" font-family=\"Helvetica,sans-Serif\" font-size=\"14.00\" fill=\"#000000\">0, 8, 0, 0, 0, 0, 0, 0, 0, 0, 0, 0, 0]</text>\n<text text-anchor=\"start\" x=\"8862.5\" y=\"-15.3\" font-family=\"Helvetica,sans-Serif\" font-size=\"14.00\" fill=\"#000000\">class = Movie</text>\n</g>\n<!-- 50&#45;&gt;52 -->\n<g id=\"edge52\" class=\"edge\">\n<title>50&#45;&gt;52</title>\n<path fill=\"none\" stroke=\"#000000\" d=\"M8905.6939,-141.4073C8905.8773,-128.4326 8906.0759,-114.3824 8906.2615,-101.2474\"/>\n<polygon fill=\"#000000\" stroke=\"#000000\" points=\"8909.7653,-100.996 8906.4071,-90.9475 8902.766,-100.897 8909.7653,-100.996\"/>\n</g>\n<!-- 54 -->\n<g id=\"node55\" class=\"node\">\n<title>54</title>\n<path fill=\"#5de957\" stroke=\"#000000\" d=\"M9348.5,-90.5C9348.5,-90.5 9079.5,-90.5 9079.5,-90.5 9073.5,-90.5 9067.5,-84.5 9067.5,-78.5 9067.5,-78.5 9067.5,-19.5 9067.5,-19.5 9067.5,-13.5 9073.5,-7.5 9079.5,-7.5 9079.5,-7.5 9348.5,-7.5 9348.5,-7.5 9354.5,-7.5 9360.5,-13.5 9360.5,-19.5 9360.5,-19.5 9360.5,-78.5 9360.5,-78.5 9360.5,-84.5 9354.5,-90.5 9348.5,-90.5\"/>\n<text text-anchor=\"start\" x=\"9176\" y=\"-75.3\" font-family=\"Helvetica,sans-Serif\" font-size=\"14.00\" fill=\"#000000\">gini = 0.255</text>\n<text text-anchor=\"start\" x=\"9170\" y=\"-60.3\" font-family=\"Helvetica,sans-Serif\" font-size=\"14.00\" fill=\"#000000\">samples = 28</text>\n<text text-anchor=\"start\" x=\"9075.5\" y=\"-45.3\" font-family=\"Helvetica,sans-Serif\" font-size=\"14.00\" fill=\"#000000\">value = [0, 0, 0, 0, 2, 0, 0, 24, 0, 0, 0, 0, 0, 0</text>\n<text text-anchor=\"start\" x=\"9113\" y=\"-30.3\" font-family=\"Helvetica,sans-Serif\" font-size=\"14.00\" fill=\"#000000\">0, 2, 0, 0, 0, 0, 0, 0, 0, 0, 0, 0, 0]</text>\n<text text-anchor=\"start\" x=\"9161.5\" y=\"-15.3\" font-family=\"Helvetica,sans-Serif\" font-size=\"14.00\" fill=\"#000000\">class = Comedy</text>\n</g>\n<!-- 53&#45;&gt;54 -->\n<g id=\"edge54\" class=\"edge\">\n<title>53&#45;&gt;54</title>\n<path fill=\"none\" stroke=\"#000000\" d=\"M9215.3061,-141.4073C9215.1227,-128.4326 9214.9241,-114.3824 9214.7385,-101.2474\"/>\n<polygon fill=\"#000000\" stroke=\"#000000\" points=\"9218.234,-100.897 9214.5929,-90.9475 9211.2347,-100.996 9218.234,-100.897\"/>\n</g>\n<!-- 55 -->\n<g id=\"node56\" class=\"node\">\n<title>55</title>\n<path fill=\"#ffffff\" stroke=\"#000000\" d=\"M9651,-90.5C9651,-90.5 9391,-90.5 9391,-90.5 9385,-90.5 9379,-84.5 9379,-78.5 9379,-78.5 9379,-19.5 9379,-19.5 9379,-13.5 9385,-7.5 9391,-7.5 9391,-7.5 9651,-7.5 9651,-7.5 9657,-7.5 9663,-13.5 9663,-19.5 9663,-19.5 9663,-78.5 9663,-78.5 9663,-84.5 9657,-90.5 9651,-90.5\"/>\n<text text-anchor=\"start\" x=\"9491.5\" y=\"-75.3\" font-family=\"Helvetica,sans-Serif\" font-size=\"14.00\" fill=\"#000000\">gini = 0.5</text>\n<text text-anchor=\"start\" x=\"9481.5\" y=\"-60.3\" font-family=\"Helvetica,sans-Serif\" font-size=\"14.00\" fill=\"#000000\">samples = 2</text>\n<text text-anchor=\"start\" x=\"9387\" y=\"-45.3\" font-family=\"Helvetica,sans-Serif\" font-size=\"14.00\" fill=\"#000000\">value = [0, 0, 0, 0, 0, 0, 0, 0, 0, 0, 1, 0, 0, 0</text>\n<text text-anchor=\"start\" x=\"9420\" y=\"-30.3\" font-family=\"Helvetica,sans-Serif\" font-size=\"14.00\" fill=\"#000000\">0, 0, 0, 0, 0, 0, 0, 0, 0, 1, 0, 0, 0]</text>\n<text text-anchor=\"start\" x=\"9464\" y=\"-15.3\" font-family=\"Helvetica,sans-Serif\" font-size=\"14.00\" fill=\"#000000\">class = Electronic</text>\n</g>\n<!-- 53&#45;&gt;55 -->\n<g id=\"edge55\" class=\"edge\">\n<title>53&#45;&gt;55</title>\n<path fill=\"none\" stroke=\"#000000\" d=\"M9321.8182,-141.4073C9354.2335,-126.3687 9389.7629,-109.8854 9421.7255,-95.0569\"/>\n<polygon fill=\"#000000\" stroke=\"#000000\" points=\"9423.4818,-98.1004 9431.0801,-90.7169 9420.5358,-91.7505 9423.4818,-98.1004\"/>\n</g>\n<!-- 57 -->\n<g id=\"node58\" class=\"node\">\n<title>57</title>\n<path fill=\"#78ed73\" stroke=\"#000000\" d=\"M10125.5,-239.5C10125.5,-239.5 9840.5,-239.5 9840.5,-239.5 9834.5,-239.5 9828.5,-233.5 9828.5,-227.5 9828.5,-227.5 9828.5,-153.5 9828.5,-153.5 9828.5,-147.5 9834.5,-141.5 9840.5,-141.5 9840.5,-141.5 10125.5,-141.5 10125.5,-141.5 10131.5,-141.5 10137.5,-147.5 10137.5,-153.5 10137.5,-153.5 10137.5,-227.5 10137.5,-227.5 10137.5,-233.5 10131.5,-239.5 10125.5,-239.5\"/>\n<text text-anchor=\"start\" x=\"9930\" y=\"-224.3\" font-family=\"Helvetica,sans-Serif\" font-size=\"14.00\" fill=\"#000000\">liveness ≤ 0.589</text>\n<text text-anchor=\"start\" x=\"9949.5\" y=\"-209.3\" font-family=\"Helvetica,sans-Serif\" font-size=\"14.00\" fill=\"#000000\">gini = 0.43</text>\n<text text-anchor=\"start\" x=\"9935\" y=\"-194.3\" font-family=\"Helvetica,sans-Serif\" font-size=\"14.00\" fill=\"#000000\">samples = 220</text>\n<text text-anchor=\"start\" x=\"9836.5\" y=\"-179.3\" font-family=\"Helvetica,sans-Serif\" font-size=\"14.00\" fill=\"#000000\">value = [0, 1, 0, 8, 15, 1, 0, 163, 0, 0, 0, 0, 0, 0</text>\n<text text-anchor=\"start\" x=\"9878\" y=\"-164.3\" font-family=\"Helvetica,sans-Serif\" font-size=\"14.00\" fill=\"#000000\">0, 27, 3, 0, 1, 0, 1, 0, 0, 0, 0, 0, 0]</text>\n<text text-anchor=\"start\" x=\"9930.5\" y=\"-149.3\" font-family=\"Helvetica,sans-Serif\" font-size=\"14.00\" fill=\"#000000\">class = Comedy</text>\n</g>\n<!-- 56&#45;&gt;57 -->\n<g id=\"edge57\" class=\"edge\">\n<title>56&#45;&gt;57</title>\n<path fill=\"none\" stroke=\"#000000\" d=\"M9983,-290.2989C9983,-277.3296 9983,-263.1997 9983,-249.7608\"/>\n<polygon fill=\"#000000\" stroke=\"#000000\" points=\"9986.5001,-249.6494 9983,-239.6495 9979.5001,-249.6495 9986.5001,-249.6494\"/>\n</g>\n<!-- 60 -->\n<g id=\"node61\" class=\"node\">\n<title>60</title>\n<path fill=\"#42e53c\" stroke=\"#000000\" d=\"M10616.5,-239.5C10616.5,-239.5 10323.5,-239.5 10323.5,-239.5 10317.5,-239.5 10311.5,-233.5 10311.5,-227.5 10311.5,-227.5 10311.5,-153.5 10311.5,-153.5 10311.5,-147.5 10317.5,-141.5 10323.5,-141.5 10323.5,-141.5 10616.5,-141.5 10616.5,-141.5 10622.5,-141.5 10628.5,-147.5 10628.5,-153.5 10628.5,-153.5 10628.5,-227.5 10628.5,-227.5 10628.5,-233.5 10622.5,-239.5 10616.5,-239.5\"/>\n<text text-anchor=\"start\" x=\"10387\" y=\"-224.3\" font-family=\"Helvetica,sans-Serif\" font-size=\"14.00\" fill=\"#000000\">duration_ms ≤ 1839456.5</text>\n<text text-anchor=\"start\" x=\"10432\" y=\"-209.3\" font-family=\"Helvetica,sans-Serif\" font-size=\"14.00\" fill=\"#000000\">gini = 0.034</text>\n<text text-anchor=\"start\" x=\"10418\" y=\"-194.3\" font-family=\"Helvetica,sans-Serif\" font-size=\"14.00\" fill=\"#000000\">samples = 6553</text>\n<text text-anchor=\"start\" x=\"10319.5\" y=\"-179.3\" font-family=\"Helvetica,sans-Serif\" font-size=\"14.00\" fill=\"#000000\">value = [0, 0, 0, 3, 16, 0, 2, 6439, 0, 0, 0, 0, 5, 1</text>\n<text text-anchor=\"start\" x=\"10365\" y=\"-164.3\" font-family=\"Helvetica,sans-Serif\" font-size=\"14.00\" fill=\"#000000\">7, 67, 1, 0, 1, 2, 1, 1, 0, 4, 2, 0, 1]</text>\n<text text-anchor=\"start\" x=\"10417.5\" y=\"-149.3\" font-family=\"Helvetica,sans-Serif\" font-size=\"14.00\" fill=\"#000000\">class = Comedy</text>\n</g>\n<!-- 56&#45;&gt;60 -->\n<g id=\"edge60\" class=\"edge\">\n<title>56&#45;&gt;60</title>\n<path fill=\"none\" stroke=\"#000000\" d=\"M10138.0938,-292.0483C10190.1261,-276.1288 10248.3901,-258.3026 10301.4057,-242.0822\"/>\n<polygon fill=\"#000000\" stroke=\"#000000\" points=\"10302.7027,-245.3456 10311.2411,-239.073 10300.6547,-238.6519 10302.7027,-245.3456\"/>\n</g>\n<!-- 58 -->\n<g id=\"node59\" class=\"node\">\n<title>58</title>\n<path fill=\"#bdf6bb\" stroke=\"#000000\" d=\"M9962.5,-90.5C9962.5,-90.5 9693.5,-90.5 9693.5,-90.5 9687.5,-90.5 9681.5,-84.5 9681.5,-78.5 9681.5,-78.5 9681.5,-19.5 9681.5,-19.5 9681.5,-13.5 9687.5,-7.5 9693.5,-7.5 9693.5,-7.5 9962.5,-7.5 9962.5,-7.5 9968.5,-7.5 9974.5,-13.5 9974.5,-19.5 9974.5,-19.5 9974.5,-78.5 9974.5,-78.5 9974.5,-84.5 9968.5,-90.5 9962.5,-90.5\"/>\n<text text-anchor=\"start\" x=\"9790\" y=\"-75.3\" font-family=\"Helvetica,sans-Serif\" font-size=\"14.00\" fill=\"#000000\">gini = 0.656</text>\n<text text-anchor=\"start\" x=\"9784\" y=\"-60.3\" font-family=\"Helvetica,sans-Serif\" font-size=\"14.00\" fill=\"#000000\">samples = 86</text>\n<text text-anchor=\"start\" x=\"9689.5\" y=\"-45.3\" font-family=\"Helvetica,sans-Serif\" font-size=\"14.00\" fill=\"#000000\">value = [0, 1, 0, 6, 9, 1, 0, 44, 0, 0, 0, 0, 0, 0</text>\n<text text-anchor=\"start\" x=\"9723\" y=\"-30.3\" font-family=\"Helvetica,sans-Serif\" font-size=\"14.00\" fill=\"#000000\">0, 22, 2, 0, 1, 0, 0, 0, 0, 0, 0, 0, 0]</text>\n<text text-anchor=\"start\" x=\"9775.5\" y=\"-15.3\" font-family=\"Helvetica,sans-Serif\" font-size=\"14.00\" fill=\"#000000\">class = Comedy</text>\n</g>\n<!-- 57&#45;&gt;58 -->\n<g id=\"edge58\" class=\"edge\">\n<title>57&#45;&gt;58</title>\n<path fill=\"none\" stroke=\"#000000\" d=\"M9929.2235,-141.4073C9913.6693,-127.2078 9896.7042,-111.7202 9881.1862,-97.5538\"/>\n<polygon fill=\"#000000\" stroke=\"#000000\" points=\"9883.4421,-94.8742 9873.697,-90.7169 9878.7226,-100.044 9883.4421,-94.8742\"/>\n</g>\n<!-- 59 -->\n<g id=\"node60\" class=\"node\">\n<title>59</title>\n<path fill=\"#56e850\" stroke=\"#000000\" d=\"M10281.5,-90.5C10281.5,-90.5 10004.5,-90.5 10004.5,-90.5 9998.5,-90.5 9992.5,-84.5 9992.5,-78.5 9992.5,-78.5 9992.5,-19.5 9992.5,-19.5 9992.5,-13.5 9998.5,-7.5 10004.5,-7.5 10004.5,-7.5 10281.5,-7.5 10281.5,-7.5 10287.5,-7.5 10293.5,-13.5 10293.5,-19.5 10293.5,-19.5 10293.5,-78.5 10293.5,-78.5 10293.5,-84.5 10287.5,-90.5 10281.5,-90.5\"/>\n<text text-anchor=\"start\" x=\"10105\" y=\"-75.3\" font-family=\"Helvetica,sans-Serif\" font-size=\"14.00\" fill=\"#000000\">gini = 0.208</text>\n<text text-anchor=\"start\" x=\"10095\" y=\"-60.3\" font-family=\"Helvetica,sans-Serif\" font-size=\"14.00\" fill=\"#000000\">samples = 134</text>\n<text text-anchor=\"start\" x=\"10000.5\" y=\"-45.3\" font-family=\"Helvetica,sans-Serif\" font-size=\"14.00\" fill=\"#000000\">value = [0, 0, 0, 2, 6, 0, 0, 119, 0, 0, 0, 0, 0, 0</text>\n<text text-anchor=\"start\" x=\"10042\" y=\"-30.3\" font-family=\"Helvetica,sans-Serif\" font-size=\"14.00\" fill=\"#000000\">0, 5, 1, 0, 0, 0, 1, 0, 0, 0, 0, 0, 0]</text>\n<text text-anchor=\"start\" x=\"10090.5\" y=\"-15.3\" font-family=\"Helvetica,sans-Serif\" font-size=\"14.00\" fill=\"#000000\">class = Comedy</text>\n</g>\n<!-- 57&#45;&gt;59 -->\n<g id=\"edge59\" class=\"edge\">\n<title>57&#45;&gt;59</title>\n<path fill=\"none\" stroke=\"#000000\" d=\"M10038.5112,-141.4073C10054.5672,-127.2078 10072.0796,-111.7202 10088.0982,-97.5538\"/>\n<polygon fill=\"#000000\" stroke=\"#000000\" points=\"10090.6567,-99.9635 10095.8289,-90.7169 10086.0194,-94.7199 10090.6567,-99.9635\"/>\n</g>\n<!-- 61 -->\n<g id=\"node62\" class=\"node\">\n<title>61</title>\n<path fill=\"#42e53c\" stroke=\"#000000\" d=\"M10616.5,-90.5C10616.5,-90.5 10323.5,-90.5 10323.5,-90.5 10317.5,-90.5 10311.5,-84.5 10311.5,-78.5 10311.5,-78.5 10311.5,-19.5 10311.5,-19.5 10311.5,-13.5 10317.5,-7.5 10323.5,-7.5 10323.5,-7.5 10616.5,-7.5 10616.5,-7.5 10622.5,-7.5 10628.5,-13.5 10628.5,-19.5 10628.5,-19.5 10628.5,-78.5 10628.5,-78.5 10628.5,-84.5 10622.5,-90.5 10616.5,-90.5\"/>\n<text text-anchor=\"start\" x=\"10432\" y=\"-75.3\" font-family=\"Helvetica,sans-Serif\" font-size=\"14.00\" fill=\"#000000\">gini = 0.031</text>\n<text text-anchor=\"start\" x=\"10418\" y=\"-60.3\" font-family=\"Helvetica,sans-Serif\" font-size=\"14.00\" fill=\"#000000\">samples = 6532</text>\n<text text-anchor=\"start\" x=\"10319.5\" y=\"-45.3\" font-family=\"Helvetica,sans-Serif\" font-size=\"14.00\" fill=\"#000000\">value = [0, 0, 0, 3, 16, 0, 2, 6430, 0, 0, 0, 0, 5, 1</text>\n<text text-anchor=\"start\" x=\"10365\" y=\"-30.3\" font-family=\"Helvetica,sans-Serif\" font-size=\"14.00\" fill=\"#000000\">7, 55, 1, 0, 1, 2, 1, 1, 0, 4, 2, 0, 1]</text>\n<text text-anchor=\"start\" x=\"10417.5\" y=\"-15.3\" font-family=\"Helvetica,sans-Serif\" font-size=\"14.00\" fill=\"#000000\">class = Comedy</text>\n</g>\n<!-- 60&#45;&gt;61 -->\n<g id=\"edge61\" class=\"edge\">\n<title>60&#45;&gt;61</title>\n<path fill=\"none\" stroke=\"#000000\" d=\"M10470,-141.4073C10470,-128.4326 10470,-114.3824 10470,-101.2474\"/>\n<polygon fill=\"#000000\" stroke=\"#000000\" points=\"10473.5001,-100.9475 10470,-90.9475 10466.5001,-100.9476 10473.5001,-100.9475\"/>\n</g>\n<!-- 62 -->\n<g id=\"node63\" class=\"node\">\n<title>62</title>\n<path fill=\"#ced8f8\" stroke=\"#000000\" d=\"M10919,-90.5C10919,-90.5 10659,-90.5 10659,-90.5 10653,-90.5 10647,-84.5 10647,-78.5 10647,-78.5 10647,-19.5 10647,-19.5 10647,-13.5 10653,-7.5 10659,-7.5 10659,-7.5 10919,-7.5 10919,-7.5 10925,-7.5 10931,-13.5 10931,-19.5 10931,-19.5 10931,-78.5 10931,-78.5 10931,-84.5 10925,-90.5 10919,-90.5\"/>\n<text text-anchor=\"start\" x=\"10755.5\" y=\"-75.3\" font-family=\"Helvetica,sans-Serif\" font-size=\"14.00\" fill=\"#000000\">gini = 0.49</text>\n<text text-anchor=\"start\" x=\"10745\" y=\"-60.3\" font-family=\"Helvetica,sans-Serif\" font-size=\"14.00\" fill=\"#000000\">samples = 21</text>\n<text text-anchor=\"start\" x=\"10655\" y=\"-45.3\" font-family=\"Helvetica,sans-Serif\" font-size=\"14.00\" fill=\"#000000\">value = [0, 0, 0, 0, 0, 0, 0, 9, 0, 0, 0, 0, 0, 0</text>\n<text text-anchor=\"start\" x=\"10684\" y=\"-30.3\" font-family=\"Helvetica,sans-Serif\" font-size=\"14.00\" fill=\"#000000\">0, 12, 0, 0, 0, 0, 0, 0, 0, 0, 0, 0, 0]</text>\n<text text-anchor=\"start\" x=\"10744.5\" y=\"-15.3\" font-family=\"Helvetica,sans-Serif\" font-size=\"14.00\" fill=\"#000000\">class = Movie</text>\n</g>\n<!-- 60&#45;&gt;62 -->\n<g id=\"edge62\" class=\"edge\">\n<title>60&#45;&gt;62</title>\n<path fill=\"none\" stroke=\"#000000\" d=\"M10580.6755,-141.4073C10614.8064,-126.2677 10652.2383,-109.6639 10685.8418,-94.7582\"/>\n<polygon fill=\"#000000\" stroke=\"#000000\" points=\"10687.4904,-97.8559 10695.2123,-90.6018 10684.652,-91.4572 10687.4904,-97.8559\"/>\n</g>\n</g>\n</svg>\n"
          },
          "metadata": {
            "tags": []
          },
          "execution_count": 56
        }
      ]
    }
  ]
}