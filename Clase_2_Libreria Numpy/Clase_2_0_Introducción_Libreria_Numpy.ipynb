{
 "cells": [
  {
   "cell_type": "markdown",
   "metadata": {
    "colab_type": "text",
    "id": "E4sgOYvpdAQf"
   },
   "source": [
    "###Libreria Numpy"
   ]
  },
  {
   "cell_type": "code",
   "execution_count": 0,
   "metadata": {
    "colab": {},
    "colab_type": "code",
    "id": "VD5V4j_qJ7Dk"
   },
   "outputs": [],
   "source": [
    "import numpy as np\n",
    "# In summary this library has a powerful N-dimensional array object."
   ]
  },
  {
   "cell_type": "markdown",
   "metadata": {
    "colab_type": "text",
    "id": "ffmiMRmueSSf"
   },
   "source": [
    "####Crear Arrays"
   ]
  },
  {
   "cell_type": "code",
   "execution_count": 3,
   "metadata": {
    "colab": {
     "base_uri": "https://localhost:8080/",
     "height": 35
    },
    "colab_type": "code",
    "id": "JwfO_pxHLRDX",
    "outputId": "5464bca9-3c22-43c9-bd20-2209e3e9a999"
   },
   "outputs": [
    {
     "name": "stdout",
     "output_type": "stream",
     "text": [
      "[1 2]\n"
     ]
    }
   ],
   "source": [
    "#Array una dimensión\n",
    "a = np.array([1,2])\n",
    "print(a)"
   ]
  },
  {
   "cell_type": "code",
   "execution_count": 24,
   "metadata": {
    "colab": {
     "base_uri": "https://localhost:8080/",
     "height": 35
    },
    "colab_type": "code",
    "id": "SVNJY94voBCT",
    "outputId": "a6ca744c-ba28-4479-cf87-6c953fec5799"
   },
   "outputs": [
    {
     "name": "stdout",
     "output_type": "stream",
     "text": [
      "[ 1. 10.]\n"
     ]
    }
   ],
   "source": [
    "#Array de un determinado tipo\n",
    "a2 = np.array([1,10],dtype='float')\n",
    "print(a2)"
   ]
  },
  {
   "cell_type": "code",
   "execution_count": 4,
   "metadata": {
    "colab": {
     "base_uri": "https://localhost:8080/",
     "height": 72
    },
    "colab_type": "code",
    "id": "YF0pJMNeMAAM",
    "outputId": "34d795f9-abba-4f47-f518-cc2ca652dae3"
   },
   "outputs": [
    {
     "name": "stdout",
     "output_type": "stream",
     "text": [
      "[[ 1  2  3]\n",
      " [ 4  5  6]\n",
      " [20 21 32]]\n"
     ]
    }
   ],
   "source": [
    "#Array dos dimensiones\n",
    "b = np.array([[1,2,3],[4,5,6],[20,21,32]])\n",
    "print(b)"
   ]
  },
  {
   "cell_type": "markdown",
   "metadata": {
    "colab_type": "text",
    "id": "0XR16TCmegR8"
   },
   "source": [
    "####Tamaño Arrays"
   ]
  },
  {
   "cell_type": "code",
   "execution_count": 0,
   "metadata": {
    "colab": {
     "base_uri": "https://localhost:8080/",
     "height": 35
    },
    "colab_type": "code",
    "id": "gBOM1b3iMgDg",
    "outputId": "cf8b0f63-14b4-473e-b08b-7a2fc4093fac"
   },
   "outputs": [
    {
     "data": {
      "text/plain": [
       "(2,)"
      ]
     },
     "execution_count": 14,
     "metadata": {
      "tags": []
     },
     "output_type": "execute_result"
    }
   ],
   "source": [
    "#Función shape te devuelve el número de filas y columnas\n",
    "a.shape"
   ]
  },
  {
   "cell_type": "code",
   "execution_count": 0,
   "metadata": {
    "colab": {
     "base_uri": "https://localhost:8080/",
     "height": 35
    },
    "colab_type": "code",
    "id": "z9XrpKdSM-BH",
    "outputId": "c46a29c6-2898-4012-a2d1-7f52104d67d3"
   },
   "outputs": [
    {
     "data": {
      "text/plain": [
       "9"
      ]
     },
     "execution_count": 17,
     "metadata": {
      "tags": []
     },
     "output_type": "execute_result"
    }
   ],
   "source": [
    "#Función size te devuelve el número de elementos que contiene\n",
    "b.size"
   ]
  },
  {
   "cell_type": "markdown",
   "metadata": {
    "colab_type": "text",
    "id": "JrA7I_N6eovl"
   },
   "source": [
    "####Crear Arrays a partir de intervalos"
   ]
  },
  {
   "cell_type": "code",
   "execution_count": 6,
   "metadata": {
    "colab": {
     "base_uri": "https://localhost:8080/",
     "height": 274
    },
    "colab_type": "code",
    "id": "9ZqW9VokNa-C",
    "outputId": "487b89cd-6c46-4eae-97f6-97f14331620e"
   },
   "outputs": [
    {
     "name": "stdout",
     "output_type": "stream",
     "text": [
      "[ 1.   1.1  1.2  1.3  1.4  1.5  1.6  1.7  1.8  1.9  2.   2.1  2.2  2.3\n",
      "  2.4  2.5  2.6  2.7  2.8  2.9  3.   3.1  3.2  3.3  3.4  3.5  3.6  3.7\n",
      "  3.8  3.9  4.   4.1  4.2  4.3  4.4  4.5  4.6  4.7  4.8  4.9  5.   5.1\n",
      "  5.2  5.3  5.4  5.5  5.6  5.7  5.8  5.9  6.   6.1  6.2  6.3  6.4  6.5\n",
      "  6.6  6.7  6.8  6.9  7.   7.1  7.2  7.3  7.4  7.5  7.6  7.7  7.8  7.9\n",
      "  8.   8.1  8.2  8.3  8.4  8.5  8.6  8.7  8.8  8.9  9.   9.1  9.2  9.3\n",
      "  9.4  9.5  9.6  9.7  9.8  9.9 10.  10.1 10.2 10.3 10.4 10.5 10.6 10.7\n",
      " 10.8 10.9 11.  11.1 11.2 11.3 11.4 11.5 11.6 11.7 11.8 11.9 12.  12.1\n",
      " 12.2 12.3 12.4 12.5 12.6 12.7 12.8 12.9 13.  13.1 13.2 13.3 13.4 13.5\n",
      " 13.6 13.7 13.8 13.9 14.  14.1 14.2 14.3 14.4 14.5 14.6 14.7 14.8 14.9\n",
      " 15.  15.1 15.2 15.3 15.4 15.5 15.6 15.7 15.8 15.9 16.  16.1 16.2 16.3\n",
      " 16.4 16.5 16.6 16.7 16.8 16.9 17.  17.1 17.2 17.3 17.4 17.5 17.6 17.7\n",
      " 17.8 17.9 18.  18.1 18.2 18.3 18.4 18.5 18.6 18.7 18.8 18.9 19.  19.1\n",
      " 19.2 19.3 19.4 19.5 19.6 19.7 19.8 19.9]\n"
     ]
    }
   ],
   "source": [
    "#Función arange para crear un grupo de datos en un intervalo estableciendo los steps\n",
    "h = np.arange(1,20,0.1)\n",
    "print(h)"
   ]
  },
  {
   "cell_type": "code",
   "execution_count": 0,
   "metadata": {
    "colab": {
     "base_uri": "https://localhost:8080/",
     "height": 35
    },
    "colab_type": "code",
    "id": "-DuEOov-NsLk",
    "outputId": "6f5df459-49bb-4dbd-e5d0-18c2d7d0a56c"
   },
   "outputs": [
    {
     "name": "stdout",
     "output_type": "stream",
     "text": [
      "(190,)\n"
     ]
    }
   ],
   "source": [
    "print(h.size)"
   ]
  },
  {
   "cell_type": "code",
   "execution_count": 0,
   "metadata": {
    "colab": {
     "base_uri": "https://localhost:8080/",
     "height": 35
    },
    "colab_type": "code",
    "id": "leOgpm7fODIM",
    "outputId": "2a040cf0-25cf-41ac-d40d-057f56beaed6"
   },
   "outputs": [
    {
     "data": {
      "text/plain": [
       "array([1. , 1.5, 2. , 2.5, 3. , 3.5, 4. , 4.5, 5. ])"
      ]
     },
     "execution_count": 24,
     "metadata": {
      "tags": []
     },
     "output_type": "execute_result"
    }
   ],
   "source": [
    "#Funcion Linspace para partir un intervalo en determinadas partes\n",
    "np.linspace(1,5,9)"
   ]
  },
  {
   "cell_type": "markdown",
   "metadata": {
    "colab_type": "text",
    "id": "9TP2r97le_KG"
   },
   "source": [
    "####Inicializar "
   ]
  },
  {
   "cell_type": "code",
   "execution_count": 0,
   "metadata": {
    "colab": {
     "base_uri": "https://localhost:8080/",
     "height": 72
    },
    "colab_type": "code",
    "id": "3V_z5Vi1Og8n",
    "outputId": "300d29e9-fd35-4649-e25a-19dae79e9da4"
   },
   "outputs": [
    {
     "data": {
      "text/plain": [
       "array([[0., 0., 0., 0.],\n",
       "       [0., 0., 0., 0.],\n",
       "       [0., 0., 0., 0.]])"
      ]
     },
     "execution_count": 27,
     "metadata": {
      "tags": []
     },
     "output_type": "execute_result"
    }
   ],
   "source": [
    "#Inicializar una matriz\n",
    "np.zeros((3,4))"
   ]
  },
  {
   "cell_type": "markdown",
   "metadata": {
    "colab_type": "text",
    "id": "fvqwkUgrfBhI"
   },
   "source": [
    "####Indexado"
   ]
  },
  {
   "cell_type": "code",
   "execution_count": 12,
   "metadata": {
    "colab": {
     "base_uri": "https://localhost:8080/",
     "height": 35
    },
    "colab_type": "code",
    "id": "GOKuYBNcPIfk",
    "outputId": "ed7a1299-e889-465d-cb5a-1a1bf6523ea1"
   },
   "outputs": [
    {
     "name": "stdout",
     "output_type": "stream",
     "text": [
      "Elemento:  1.4000000000000004\n"
     ]
    }
   ],
   "source": [
    "#Una dimension\n",
    "print(\"Elemento: \",h[4]) "
   ]
  },
  {
   "cell_type": "code",
   "execution_count": 10,
   "metadata": {
    "colab": {
     "base_uri": "https://localhost:8080/",
     "height": 54
    },
    "colab_type": "code",
    "id": "Vt7-B-f7fIY3",
    "outputId": "bb3150dc-f1a2-4194-9113-9eaa10e782d8"
   },
   "outputs": [
    {
     "name": "stdout",
     "output_type": "stream",
     "text": [
      "Columna:  [ 3  6 32]\n",
      "Fila: [4 5 6]\n"
     ]
    }
   ],
   "source": [
    "#Dos dimensiones\n",
    "print(\"Columna: \",b[:,2]) \n",
    "print(\"Fila:\",b[1,:])"
   ]
  },
  {
   "cell_type": "code",
   "execution_count": 11,
   "metadata": {
    "colab": {
     "base_uri": "https://localhost:8080/",
     "height": 72
    },
    "colab_type": "code",
    "id": "Dxo0FS8XfKQd",
    "outputId": "459bcb89-0bfa-4920-def0-9541f83b3b9e"
   },
   "outputs": [
    {
     "name": "stdout",
     "output_type": "stream",
     "text": [
      "Parte: \n",
      " [[1 2]\n",
      " [4 5]]\n"
     ]
    }
   ],
   "source": [
    "#Extraer una parte\n",
    "print(\"Parte: \\n\",b[0:2,0:2])"
   ]
  },
  {
   "cell_type": "markdown",
   "metadata": {
    "colab_type": "text",
    "id": "fOEZGy58eH76"
   },
   "source": [
    "####Función Reshape"
   ]
  },
  {
   "cell_type": "code",
   "execution_count": 0,
   "metadata": {
    "colab": {
     "base_uri": "https://localhost:8080/",
     "height": 109
    },
    "colab_type": "code",
    "id": "lIl95afBR-VD",
    "outputId": "35428221-ec40-45d3-c684-8aca80f4478f"
   },
   "outputs": [
    {
     "name": "stdout",
     "output_type": "stream",
     "text": [
      "[1 2 3 4 5 6 7 8]\n",
      "[[1 2]\n",
      " [3 4]\n",
      " [5 6]\n",
      " [7 8]]\n"
     ]
    }
   ],
   "source": [
    "#Reshape para redimensionar un array\n",
    "n = np.array([1,2,3,4,5,6,7,8])\n",
    "print(n)\n",
    "n2 = n.reshape(4,2)\n",
    "print(n2)"
   ]
  },
  {
   "cell_type": "code",
   "execution_count": 0,
   "metadata": {
    "colab": {
     "base_uri": "https://localhost:8080/",
     "height": 109
    },
    "colab_type": "code",
    "id": "PGy6oA4jScKm",
    "outputId": "2c6ef8b1-3b7d-4d64-a3d8-b3b8ea28261b"
   },
   "outputs": [
    {
     "name": "stdout",
     "output_type": "stream",
     "text": [
      "[[1 2 5]\n",
      " [2 3 7]]\n",
      "[[1 2]\n",
      " [5 2]\n",
      " [3 7]]\n"
     ]
    }
   ],
   "source": [
    "b = np.array([[1,2,5],[2,3,7]])\n",
    "print(b)\n",
    "print(b.reshape(3,2))"
   ]
  },
  {
   "cell_type": "markdown",
   "metadata": {
    "colab_type": "text",
    "id": "ogZusMq5eHGm"
   },
   "source": [
    "####Funciones aritmeticas"
   ]
  },
  {
   "cell_type": "code",
   "execution_count": 13,
   "metadata": {
    "colab": {
     "base_uri": "https://localhost:8080/",
     "height": 146
    },
    "colab_type": "code",
    "id": "hIW4_JdlT7bJ",
    "outputId": "a652f5c6-9a04-4a34-c8b6-95e437470a9b"
   },
   "outputs": [
    {
     "name": "stdout",
     "output_type": "stream",
     "text": [
      "[[3. 3. 3.]\n",
      " [3. 3. 3.]]\n",
      "[[1 4 6]\n",
      " [5 6 9]]\n",
      "Suma:\n",
      "[[ 4.  7.  9.]\n",
      " [ 8.  9. 12.]]\n"
     ]
    }
   ],
   "source": [
    "#Mismas dimensiones\n",
    "a1 = np.array([[1,4,6],[5,6,9]])\n",
    "b1 = np.zeros(a1.shape)+3 #Matriz en 0 y sumada en 3\n",
    "print(b1)\n",
    "print(a1)\n",
    "print(\"Suma:\")\n",
    "print(a1+b1)"
   ]
  },
  {
   "cell_type": "code",
   "execution_count": 0,
   "metadata": {
    "colab": {
     "base_uri": "https://localhost:8080/",
     "height": 201
    },
    "colab_type": "code",
    "id": "cfQKvyhaVBg7",
    "outputId": "afc9c0a5-9f57-4e06-e696-f15ce0d22473"
   },
   "outputs": [
    {
     "name": "stdout",
     "output_type": "stream",
     "text": [
      "H1:\n",
      " [1. 2. 3.]\n",
      "H2:\n",
      " [[1]\n",
      " [2]\n",
      " [3]]\n",
      "Suma:\n",
      " [[2. 3. 4.]\n",
      " [3. 4. 5.]\n",
      " [4. 5. 6.]]\n"
     ]
    }
   ],
   "source": [
    "#Distintas dimensiones (Broadcasting)\n",
    "h1 = np.array([1,2,3],dtype='float')\n",
    "h2 = np.array([[1],[2],[3]])\n",
    "print(\"H1:\\n\",h1)\n",
    "print(\"H2:\\n\",h2)\n",
    "print(\"Suma:\\n\",h1+h2)"
   ]
  },
  {
   "cell_type": "markdown",
   "metadata": {
    "colab_type": "text",
    "id": "AMtCl2OgfZbt"
   },
   "source": [
    "####Tipo de un Array"
   ]
  },
  {
   "cell_type": "code",
   "execution_count": 0,
   "metadata": {
    "colab": {
     "base_uri": "https://localhost:8080/",
     "height": 35
    },
    "colab_type": "code",
    "id": "Lvw_p5GLWwN4",
    "outputId": "7a62ffbb-1669-4530-a709-ce196e69a68e"
   },
   "outputs": [
    {
     "data": {
      "text/plain": [
       "dtype('int64')"
      ]
     },
     "execution_count": 74,
     "metadata": {
      "tags": []
     },
     "output_type": "execute_result"
    }
   ],
   "source": [
    "h2.dtype"
   ]
  },
  {
   "cell_type": "markdown",
   "metadata": {
    "colab_type": "text",
    "id": "BJJip-dxXhCk"
   },
   "source": [
    "####Entrada de Archivos"
   ]
  },
  {
   "cell_type": "code",
   "execution_count": 0,
   "metadata": {
    "colab": {
     "base_uri": "https://localhost:8080/",
     "height": 1000
    },
    "colab_type": "code",
    "id": "m51EFsSMXjJ6",
    "outputId": "157dda4d-cb93-4e4e-cb59-965402205492"
   },
   "outputs": [
    {
     "name": "stdout",
     "output_type": "stream",
     "text": [
      "[[ 65.78 112.99]\n",
      " [ 71.52 136.49]\n",
      " [ 69.4  153.03]\n",
      " [ 68.22 142.34]\n",
      " [ 67.79 144.3 ]\n",
      " [ 68.7  123.3 ]\n",
      " [ 69.8  141.49]\n",
      " [ 70.01 136.46]\n",
      " [ 67.9  112.37]\n",
      " [ 66.78 120.67]\n",
      " [ 66.49 127.45]\n",
      " [ 67.62 114.14]\n",
      " [ 68.3  125.61]\n",
      " [ 67.12 122.46]\n",
      " [ 68.28 116.09]\n",
      " [ 71.09 140.  ]\n",
      " [ 66.46 129.5 ]\n",
      " [ 68.65 142.97]\n",
      " [ 71.23 137.9 ]\n",
      " [ 67.13 124.04]\n",
      " [ 67.83 141.28]\n",
      " [ 68.88 143.54]\n",
      " [ 63.48  97.9 ]\n",
      " [ 68.42 129.5 ]\n",
      " [ 67.63 141.85]\n",
      " [ 67.21 129.72]\n",
      " [ 70.84 142.42]\n",
      " [ 67.49 131.55]\n",
      " [ 66.53 108.33]\n",
      " [ 65.44 113.89]\n",
      " [ 69.52 103.3 ]\n",
      " [ 65.81 120.75]\n",
      " [ 67.82 125.79]\n",
      " [ 70.6  136.22]\n",
      " [ 71.8  140.1 ]\n",
      " [ 69.21 128.75]\n",
      " [ 66.8  141.8 ]\n",
      " [ 67.66 121.23]\n",
      " [ 67.81 131.35]\n",
      " [ 64.05 106.71]\n",
      " [ 68.57 124.36]\n",
      " [ 65.18 124.86]\n",
      " [ 69.66 139.67]\n",
      " [ 67.97 137.37]\n",
      " [ 65.98 106.45]\n",
      " [ 68.67 128.76]\n",
      " [ 66.88 145.68]\n",
      " [ 67.7  116.82]\n",
      " [ 69.82 143.62]\n",
      " [ 69.09 134.93]\n",
      " [ 69.91 147.02]\n",
      " [ 67.33 126.33]\n",
      " [ 70.27 125.48]\n",
      " [ 69.1  115.71]\n",
      " [ 65.38 123.49]\n",
      " [ 70.18 147.89]\n",
      " [ 70.41 155.9 ]\n",
      " [ 66.54 128.07]\n",
      " [ 66.36 119.37]\n",
      " [ 67.54 133.81]\n",
      " [ 66.5  128.73]\n",
      " [ 69.   137.55]\n",
      " [ 68.3  129.76]\n",
      " [ 67.01 128.82]\n",
      " [ 70.81 135.32]\n",
      " [ 68.22 109.61]\n",
      " [ 69.06 142.47]\n",
      " [ 67.73 132.75]\n",
      " [ 67.22 103.53]\n",
      " [ 67.37 124.73]\n",
      " [ 65.27 129.31]\n",
      " [ 70.84 134.02]\n",
      " [ 69.92 140.4 ]\n",
      " [ 64.29 102.84]\n",
      " [ 68.25 128.52]\n",
      " [ 66.36 120.3 ]\n",
      " [ 68.36 138.6 ]\n",
      " [ 65.48 132.96]\n",
      " [ 69.72 115.62]\n",
      " [ 67.73 122.52]\n",
      " [ 68.64 134.63]\n",
      " [ 66.78 121.9 ]\n",
      " [ 70.05 155.38]\n",
      " [ 66.28 128.94]\n",
      " [ 69.2  129.1 ]\n",
      " [ 69.13 139.47]\n",
      " [ 67.36 140.89]\n",
      " [ 70.09 131.59]\n",
      " [ 70.18 121.12]\n",
      " [ 68.23 131.51]\n",
      " [ 68.13 136.55]\n",
      " [ 70.24 141.49]\n",
      " [ 71.49 140.61]\n",
      " [ 69.2  112.14]\n",
      " [ 70.06 133.46]\n",
      " [ 70.56 131.8 ]\n",
      " [ 66.29 120.03]\n",
      " [ 63.43 123.1 ]\n",
      " [ 66.77 128.14]\n",
      " [ 68.89 115.48]\n",
      " [ 64.87 102.09]\n",
      " [ 67.09 130.35]\n",
      " [ 68.35 134.18]\n",
      " [ 65.61  98.64]\n",
      " [ 67.76 114.56]\n",
      " [ 68.02 123.49]\n",
      " [ 67.66 123.05]\n",
      " [ 66.31 126.48]\n",
      " [ 69.44 128.42]\n",
      " [ 63.84 127.19]\n",
      " [ 67.72 122.06]\n",
      " [ 70.05 127.61]\n",
      " [ 70.19 131.64]\n",
      " [ 65.95 111.9 ]\n",
      " [ 70.01 122.04]\n",
      " [ 68.61 128.55]\n",
      " [ 68.81 132.68]\n",
      " [ 69.76 136.06]\n",
      " [ 65.46 115.94]\n",
      " [ 68.83 136.9 ]\n",
      " [ 65.8  119.88]\n",
      " [ 67.21 109.01]\n",
      " [ 69.42 128.27]\n",
      " [ 68.94 135.29]\n",
      " [ 67.94 106.86]\n",
      " [ 65.63 123.29]\n",
      " [ 66.5  109.51]\n",
      " [ 67.93 119.31]\n",
      " [ 68.89 140.24]\n",
      " [ 70.24 133.98]\n",
      " [ 68.27 132.58]\n",
      " [ 71.23 130.7 ]\n",
      " [ 69.1  115.56]\n",
      " [ 64.4  123.79]\n",
      " [ 71.1  128.14]\n",
      " [ 68.22 135.96]\n",
      " [ 65.92 116.63]\n",
      " [ 67.44 126.82]\n",
      " [ 73.9  151.39]\n",
      " [ 69.98 130.4 ]\n",
      " [ 69.52 136.21]\n",
      " [ 65.18 113.4 ]\n",
      " [ 68.01 125.33]\n",
      " [ 68.34 127.58]\n",
      " [ 65.18 107.16]\n",
      " [ 68.26 116.46]\n",
      " [ 68.57 133.84]\n",
      " [ 64.5  112.89]\n",
      " [ 68.71 130.76]\n",
      " [ 68.89 137.76]\n",
      " [ 69.54 125.4 ]\n",
      " [ 67.4  138.47]\n",
      " [ 66.48 120.82]\n",
      " [ 66.01 140.15]\n",
      " [ 72.44 136.74]\n",
      " [ 64.13 106.11]\n",
      " [ 70.98 158.96]\n",
      " [ 67.5  108.79]\n",
      " [ 72.02 138.78]\n",
      " [ 65.31 115.91]\n",
      " [ 67.08 146.29]\n",
      " [ 64.39 109.88]\n",
      " [ 69.37 139.05]\n",
      " [ 68.38 119.9 ]\n",
      " [ 65.31 128.31]\n",
      " [ 67.14 127.24]\n",
      " [ 68.39 115.23]\n",
      " [ 66.29 124.8 ]\n",
      " [ 67.19 126.95]\n",
      " [ 65.99 111.27]\n",
      " [ 69.43 122.61]\n",
      " [ 67.97 124.21]\n",
      " [ 67.76 124.65]\n",
      " [ 65.28 119.52]\n",
      " [ 73.83 139.3 ]\n",
      " [ 66.81 104.83]\n",
      " [ 66.89 123.04]\n",
      " [ 65.74 118.89]\n",
      " [ 65.98 121.49]\n",
      " [ 66.58 119.25]\n",
      " [ 67.11 135.02]\n",
      " [ 65.87 116.23]\n",
      " [ 66.78 109.17]\n",
      " [ 68.74 124.22]\n",
      " [ 66.23 141.16]\n",
      " [ 65.96 129.15]\n",
      " [ 68.58 127.87]\n",
      " [ 66.59 120.92]\n",
      " [ 66.97 127.65]\n",
      " [ 68.08 101.47]\n",
      " [ 70.19 144.99]\n",
      " [ 65.52 110.95]\n",
      " [ 67.46 132.86]\n",
      " [ 67.41 146.34]\n",
      " [ 69.66 145.59]\n",
      " [ 65.8  120.84]\n",
      " [ 66.11 115.78]\n",
      " [ 68.24 128.3 ]\n",
      " [ 68.02 127.47]\n",
      " [ 71.39 127.88]]\n"
     ]
    }
   ],
   "source": [
    "archivo = np.genfromtxt(\"hw_200.csv\",delimiter=',',skip_header=1,usecols=(1,2))\n",
    "print(archivo)\n"
   ]
  },
  {
   "cell_type": "markdown",
   "metadata": {
    "colab_type": "text",
    "id": "2UR9gIVUgRBq"
   },
   "source": [
    "####Funciones Estadísticas"
   ]
  },
  {
   "cell_type": "code",
   "execution_count": 0,
   "metadata": {
    "colab": {
     "base_uri": "https://localhost:8080/",
     "height": 35
    },
    "colab_type": "code",
    "id": "uwzZw88waMqW",
    "outputId": "ebe40ecc-e61f-4706-fb31-a52f25270e26"
   },
   "outputs": [
    {
     "name": "stdout",
     "output_type": "stream",
     "text": [
      "142.3492216975\n"
     ]
    }
   ],
   "source": [
    "print(np.var(archivo[:,1]))"
   ]
  },
  {
   "cell_type": "markdown",
   "metadata": {
    "colab_type": "text",
    "id": "wmUCbmNbbmy1"
   },
   "source": [
    "###Libreria Matplotlib"
   ]
  },
  {
   "cell_type": "markdown",
   "metadata": {
    "colab_type": "text",
    "id": "6isTx2zhiW9b"
   },
   "source": [
    "####Gráfico de Lineas"
   ]
  },
  {
   "cell_type": "code",
   "execution_count": 0,
   "metadata": {
    "colab": {},
    "colab_type": "code",
    "id": "Mx1sYWK-bpl2"
   },
   "outputs": [],
   "source": [
    "# 2D plotting library\n",
    "# This line tells the notebook to show plots inside of the notebook\n",
    "%matplotlib inline\n",
    "\n",
    "import matplotlib.pyplot as plt"
   ]
  },
  {
   "cell_type": "code",
   "execution_count": 20,
   "metadata": {
    "colab": {
     "base_uri": "https://localhost:8080/",
     "height": 265
    },
    "colab_type": "code",
    "id": "s3xhKLTxgaw0",
    "outputId": "080dfc13-ddcc-4aa3-88f6-690374d1f991"
   },
   "outputs": [
    {
     "data": {
      "image/png": "[encoded data removed]",
      "text/plain": [
       "<Figure size 432x288 with 1 Axes>"
      ]
     },
     "metadata": {
      "tags": []
     },
     "output_type": "display_data"
    }
   ],
   "source": [
    "#Array una dimension\n",
    "plt.plot(np.array([3,6,10,5])) #Va de una variable a otra\n",
    "plt.show()"
   ]
  },
  {
   "cell_type": "code",
   "execution_count": 23,
   "metadata": {
    "colab": {
     "base_uri": "https://localhost:8080/",
     "height": 279
    },
    "colab_type": "code",
    "id": "EJsnVl_Wb6A1",
    "outputId": "1387f61e-6eae-4916-f72a-7c0d37da7e86"
   },
   "outputs": [
    {
     "data": {
      "image/png": "[encoded data removed]",
      "text/plain": [
       "<Figure size 432x288 with 1 Axes>"
      ]
     },
     "metadata": {
      "tags": []
     },
     "output_type": "display_data"
    }
   ],
   "source": [
    "#Matrices\n",
    "plt.plot(np.array([[3,4,8,12],[7,8,9,2],[0,1,2,3]])) #De una variable a otra por columnas\n",
    "plt.ylabel(\"Datos\")\n",
    "plt.xlabel(\"Elementos\")\n",
    "plt.show()\n",
    "#Azul: 3 -> 7 -> 0 , Amarillo: 4 -> 8 -> 1"
   ]
  },
  {
   "cell_type": "code",
   "execution_count": 0,
   "metadata": {
    "colab": {},
    "colab_type": "code",
    "id": "1BxuXHqMd1dq"
   },
   "outputs": [],
   "source": [
    "#Conversión de unidades\n",
    "archivo = archivo *(0.0254,0.454)"
   ]
  },
  {
   "cell_type": "markdown",
   "metadata": {
    "colab_type": "text",
    "id": "Gg3zyB_bicMm"
   },
   "source": [
    "####Histogramas"
   ]
  },
  {
   "cell_type": "code",
   "execution_count": 0,
   "metadata": {
    "colab": {
     "base_uri": "https://localhost:8080/",
     "height": 265
    },
    "colab_type": "code",
    "id": "mUB4Jl1qdLsD",
    "outputId": "aa6db4e5-af96-45cf-d1b3-6c751c3e585f"
   },
   "outputs": [
    {
     "data": {
      "image/png": "[encoded data removed]",
      "text/plain": [
       "<Figure size 432x288 with 1 Axes>"
      ]
     },
     "metadata": {
      "tags": []
     },
     "output_type": "display_data"
    }
   ],
   "source": [
    "plt.hist(archivo[:,1])\n",
    "plt.savefig('testplot2.png') #Guardar en una imagen\n",
    "plt.show()"
   ]
  },
  {
   "cell_type": "markdown",
   "metadata": {
    "colab_type": "text",
    "id": "bREkT5vlieRK"
   },
   "source": [
    "####Gráfico de Dispersión"
   ]
  },
  {
   "cell_type": "code",
   "execution_count": 0,
   "metadata": {
    "colab": {
     "base_uri": "https://localhost:8080/",
     "height": 279
    },
    "colab_type": "code",
    "id": "9Cskws-Bd-Oo",
    "outputId": "27de63fb-adc0-4488-d9df-132bf325c0f7"
   },
   "outputs": [
    {
     "data": {
      "image/png": "[encoded data removed]",
      "text/plain": [
       "<Figure size 432x288 with 1 Axes>"
      ]
     },
     "metadata": {
      "tags": []
     },
     "output_type": "display_data"
    }
   ],
   "source": [
    "plt.scatter(archivo[:,0],archivo[:,1])\n",
    "plt.ylabel(\"Pesos(kg)\")\n",
    "plt.xlabel(\"Alturas(m)\")\n",
    "plt.savefig('testplot.png')\n",
    "plt.show()"
   ]
  }
 ],
 "metadata": {
  "colab": {
   "collapsed_sections": [],
   "name": "Clase 2.0 - Introducción Libreria Numpy",
   "provenance": []
  },
  "kernelspec": {
   "display_name": "Python 3",
   "language": "python",
   "name": "python3"
  },
  "language_info": {
   "codemirror_mode": {
    "name": "ipython",
    "version": 3
   },
   "file_extension": ".py",
   "mimetype": "text/x-python",
   "name": "python",
   "nbconvert_exporter": "python",
   "pygments_lexer": "ipython3",
   "version": "3.7.3"
  }
 },
 "nbformat": 4,
 "nbformat_minor": 1
}
