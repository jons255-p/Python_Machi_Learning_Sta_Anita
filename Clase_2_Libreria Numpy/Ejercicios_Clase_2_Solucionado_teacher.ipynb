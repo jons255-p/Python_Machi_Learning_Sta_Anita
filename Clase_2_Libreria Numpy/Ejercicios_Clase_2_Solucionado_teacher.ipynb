{
  "nbformat": 4,
  "nbformat_minor": 0,
  "metadata": {
    "colab": {
      "name": "Ejercicios_Clase_2_0(2).ipynb",
      "provenance": [],
      "collapsed_sections": []
    },
    "kernelspec": {
      "display_name": "Python 3",
      "language": "python",
      "name": "python3"
    }
  },
  "cells": [
    {
      "cell_type": "code",
      "metadata": {
        "colab_type": "code",
        "id": "mmpFo72qkrAG",
        "colab": {}
      },
      "source": [
        "import numpy as np\n",
        "# In summary this library has a powerful N-dimensional array object."
      ],
      "execution_count": 0,
      "outputs": []
    },
    {
      "cell_type": "markdown",
      "metadata": {
        "colab_type": "text",
        "id": "uRxfsY1OkcNb"
      },
      "source": [
        "####1- Cree un array que contenga los siguientes elementos: [1, 3., True, 'Hola Mundo']. ¿De qué tipo es este array?."
      ]
    },
    {
      "cell_type": "code",
      "metadata": {
        "colab_type": "code",
        "id": "mqbQOkokk2ib",
        "outputId": "5974a6b8-a8ad-4b12-85f4-da7e3debac99",
        "colab": {
          "base_uri": "https://localhost:8080/",
          "height": 51
        }
      },
      "source": [
        "a = np.array([1,3.,True, 'Hola Mundo'])\n",
        "print (a)\n",
        "print (a.dtype)"
      ],
      "execution_count": 0,
      "outputs": [
        {
          "output_type": "stream",
          "text": [
            "['1' '3.0' 'True' 'Hola Mundo']\n",
            "<U32\n"
          ],
          "name": "stdout"
        }
      ]
    },
    {
      "cell_type": "markdown",
      "metadata": {
        "colab_type": "text",
        "id": "M35_yvCdk200"
      },
      "source": [
        "####2- Cree un array cuyos elementos sean los enteros pares en [1,100] y en orden decreciente. Muestre los 10 últimos por pantalla. "
      ]
    },
    {
      "cell_type": "code",
      "metadata": {
        "id": "Qc33fgPz9EBD",
        "colab_type": "code",
        "colab": {
          "base_uri": "https://localhost:8080/",
          "height": 35
        },
        "outputId": "0f47ccc9-77dc-4e7f-b641-eaa151ac28a1"
      },
      "source": [
        "a = np.arange(100,0,-2)\n",
        "a[-10:]"
      ],
      "execution_count": 15,
      "outputs": [
        {
          "output_type": "execute_result",
          "data": {
            "text/plain": [
              "array([20, 18, 16, 14, 12, 10,  8,  6,  4,  2])"
            ]
          },
          "metadata": {
            "tags": []
          },
          "execution_count": 15
        }
      ]
    },
    {
      "cell_type": "markdown",
      "metadata": {
        "colab_type": "text",
        "id": "0z9Q2rRFmG8L"
      },
      "source": [
        "####3- Cree un array con 10 elementos en el intervalo [-2,2] y equidistantes entre ellos. Muestre por pantalla el array. Después muestre sólo el tercer y cuarto elemento."
      ]
    },
    {
      "cell_type": "code",
      "metadata": {
        "colab_type": "code",
        "id": "gsAwe_AvmOKR",
        "outputId": "66e3cfee-7fad-4892-d327-58c3870359a4",
        "colab": {
          "base_uri": "https://localhost:8080/",
          "height": 68
        }
      },
      "source": [
        "c = np.linspace(-2,2,10)\n",
        "print (c)\n",
        "print (c[2],c[3])"
      ],
      "execution_count": 0,
      "outputs": [
        {
          "output_type": "stream",
          "text": [
            "[-2.         -1.55555556 -1.11111111 -0.66666667 -0.22222222  0.22222222\n",
            "  0.66666667  1.11111111  1.55555556  2.        ]\n",
            "-1.1111111111111112 -0.6666666666666667\n"
          ],
          "name": "stdout"
        }
      ]
    },
    {
      "cell_type": "markdown",
      "metadata": {
        "colab_type": "text",
        "id": "vubZjExqmSAf"
      },
      "source": [
        "####4- Genere un array de tipo 'float' de dimensiones (4, 4). Debe contener números consecutivos del 1 al 16."
      ]
    },
    {
      "cell_type": "code",
      "metadata": {
        "colab_type": "code",
        "id": "ELdIuW0RmX1l",
        "outputId": "69db34d0-c6d1-4427-ab9a-240d9a2669fb",
        "colab": {
          "base_uri": "https://localhost:8080/",
          "height": 102
        }
      },
      "source": [
        "d = np.arange(1,17,1,dtype=float)\n",
        "e = d.reshape(4,4)\n",
        "print (e)\n",
        "print (e.shape)"
      ],
      "execution_count": 0,
      "outputs": [
        {
          "output_type": "stream",
          "text": [
            "[[ 1.  2.  3.  4.]\n",
            " [ 5.  6.  7.  8.]\n",
            " [ 9. 10. 11. 12.]\n",
            " [13. 14. 15. 16.]]\n",
            "(4, 4)\n"
          ],
          "name": "stdout"
        }
      ]
    },
    {
      "cell_type": "markdown",
      "metadata": {
        "colab_type": "text",
        "id": "_XDvTjVumYIn"
      },
      "source": [
        "####5- Dado el array:\n",
        "\n",
        "2 4 5 6\n",
        "\n",
        "0 3 7 4\n",
        "\n",
        "8 8 5 2\n",
        "\n",
        "1 5 6 1\n",
        "\n",
        "Seleccione con una instrucción el subarray de elementos\n",
        "\n",
        "0 3 7 4\n"
      ]
    },
    {
      "cell_type": "code",
      "metadata": {
        "colab_type": "code",
        "id": "fliLw1xemljt",
        "outputId": "dfb2e443-d72e-4f19-9039-72df5b995d31",
        "colab": {
          "base_uri": "https://localhost:8080/",
          "height": 34
        }
      },
      "source": [
        "f = np.array([[2,4,5,6],[0,3,7,4],[8,8,5,2],[1,5,6,1]])\n",
        "print (f[1])"
      ],
      "execution_count": 0,
      "outputs": [
        {
          "output_type": "stream",
          "text": [
            "[0 3 7 4]\n"
          ],
          "name": "stdout"
        }
      ]
    },
    {
      "cell_type": "markdown",
      "metadata": {
        "colab_type": "text",
        "id": "KU0QyEOJm2Wb"
      },
      "source": [
        "####6- ¿Puedo sumar los arrays a = [[1, 2, 3]] y b = [[0], [1], [0]]?. ¿Por qué?. De ser posible, ¿Cuál es su suma?."
      ]
    },
    {
      "cell_type": "markdown",
      "metadata": {
        "id": "2d8Adpr698uv",
        "colab_type": "text"
      },
      "source": [
        "**Matemáticamente no se puede, mas python lo hace por medio del broadcasting**"
      ]
    },
    {
      "cell_type": "code",
      "metadata": {
        "id": "byfqyhjC-qaI",
        "colab_type": "code",
        "colab": {
          "base_uri": "https://localhost:8080/",
          "height": 90
        },
        "outputId": "f2733467-43e0-4542-903b-1594f4f0169d"
      },
      "source": [
        "a1 = np.array([[1,2,3]])\n",
        "b1 = np.array([[0],[1],[0]])\n",
        "print (\"La suma es:\\n\",a1+b1)"
      ],
      "execution_count": 16,
      "outputs": [
        {
          "output_type": "stream",
          "text": [
            "La suma es:\n",
            " [[1 2 3]\n",
            " [2 3 4]\n",
            " [1 2 3]]\n"
          ],
          "name": "stdout"
        }
      ]
    },
    {
      "cell_type": "markdown",
      "metadata": {
        "colab_type": "text",
        "id": "lDornWmgnEfV"
      },
      "source": [
        "####7- Dados los arrays a = [1, 4, 2, 7] y b = [1, 3, 2, 9], obtenga la media aritmética de la diferencia (a-b)."
      ]
    },
    {
      "cell_type": "code",
      "metadata": {
        "colab_type": "code",
        "id": "237_UbxGnO3G",
        "outputId": "a84915bf-6203-4a89-b983-c2eb983f5641",
        "colab": {
          "base_uri": "https://localhost:8080/",
          "height": 34
        }
      },
      "source": [
        "a2 = np.array([1,4,2,7])\n",
        "b2 = np.array([1,3,2,9])\n",
        "c2 = np.mean(a2-b2)\n",
        "print (c2)"
      ],
      "execution_count": 0,
      "outputs": [
        {
          "output_type": "stream",
          "text": [
            "-0.25\n"
          ],
          "name": "stdout"
        }
      ]
    },
    {
      "cell_type": "markdown",
      "metadata": {
        "colab_type": "text",
        "id": "n-VD2sHinPSB"
      },
      "source": [
        "####10- Utilice el archivo \"trees.csv\", lealo utilizando la función numpy.genfromtxt (Contiene una línea de cabecera y un index)"
      ]
    },
    {
      "cell_type": "code",
      "metadata": {
        "colab_type": "code",
        "id": "SHM9du56oerb",
        "outputId": "4a22b687-9027-4130-b0ed-83ee6afaee14",
        "colab": {
          "base_uri": "https://localhost:8080/",
          "height": 544
        }
      },
      "source": [
        "info = np.genfromtxt(\"trees.csv\",delimiter = ',',skip_header =1,usecols=(1,2,3))\n",
        "print (info)"
      ],
      "execution_count": 0,
      "outputs": [
        {
          "output_type": "stream",
          "text": [
            "[[ 8.3 70.  10.3]\n",
            " [ 8.6 65.  10.3]\n",
            " [ 8.8 63.  10.2]\n",
            " [10.5 72.  16.4]\n",
            " [10.7 81.  18.8]\n",
            " [10.8 83.  19.7]\n",
            " [11.  66.  15.6]\n",
            " [11.  75.  18.2]\n",
            " [11.1 80.  22.6]\n",
            " [11.2 75.  19.9]\n",
            " [11.3 79.  24.2]\n",
            " [11.4 76.  21. ]\n",
            " [11.4 76.  21.4]\n",
            " [11.7 69.  21.3]\n",
            " [12.  75.  19.1]\n",
            " [12.9 74.  22.2]\n",
            " [12.9 85.  33.8]\n",
            " [13.3 86.  27.4]\n",
            " [13.7 71.  25.7]\n",
            " [13.8 64.  24.9]\n",
            " [14.  78.  34.5]\n",
            " [14.2 80.  31.7]\n",
            " [14.5 74.  36.3]\n",
            " [16.  72.  38.3]\n",
            " [16.3 77.  42.6]\n",
            " [17.3 81.  55.4]\n",
            " [17.5 82.  55.7]\n",
            " [17.9 80.  58.3]\n",
            " [18.  80.  51.5]\n",
            " [18.  80.  51. ]\n",
            " [20.6 87.  77. ]]\n"
          ],
          "name": "stdout"
        }
      ]
    },
    {
      "cell_type": "markdown",
      "metadata": {
        "colab_type": "text",
        "id": "1c-pEmltofDF"
      },
      "source": [
        "####11- Convierta los datos a unidades conocidas por usted"
      ]
    },
    {
      "cell_type": "code",
      "metadata": {
        "colab_type": "code",
        "id": "4mnb-DJpol0H",
        "outputId": "f41bbee3-87fe-4ef2-9256-753926bbe7c0",
        "colab": {
          "base_uri": "https://localhost:8080/",
          "height": 544
        }
      },
      "source": [
        "info = info *(0.0254, 0.3048, 0.0283168)\n",
        "print (info)"
      ],
      "execution_count": 0,
      "outputs": [
        {
          "output_type": "stream",
          "text": [
            "[[ 0.21082    21.336       0.29166304]\n",
            " [ 0.21844    19.812       0.29166304]\n",
            " [ 0.22352    19.2024      0.28883136]\n",
            " [ 0.2667     21.9456      0.46439552]\n",
            " [ 0.27178    24.6888      0.53235584]\n",
            " [ 0.27432    25.2984      0.55784096]\n",
            " [ 0.2794     20.1168      0.44174208]\n",
            " [ 0.2794     22.86        0.51536576]\n",
            " [ 0.28194    24.384       0.63995968]\n",
            " [ 0.28448    22.86        0.56350432]\n",
            " [ 0.28702    24.0792      0.68526656]\n",
            " [ 0.28956    23.1648      0.5946528 ]\n",
            " [ 0.28956    23.1648      0.60597952]\n",
            " [ 0.29718    21.0312      0.60314784]\n",
            " [ 0.3048     22.86        0.54085088]\n",
            " [ 0.32766    22.5552      0.62863296]\n",
            " [ 0.32766    25.908       0.95710784]\n",
            " [ 0.33782    26.2128      0.77588032]\n",
            " [ 0.34798    21.6408      0.72774176]\n",
            " [ 0.35052    19.5072      0.70508832]\n",
            " [ 0.3556     23.7744      0.9769296 ]\n",
            " [ 0.36068    24.384       0.89764256]\n",
            " [ 0.3683     22.5552      1.02789984]\n",
            " [ 0.4064     21.9456      1.08453344]\n",
            " [ 0.41402    23.4696      1.20629568]\n",
            " [ 0.43942    24.6888      1.56875072]\n",
            " [ 0.4445     24.9936      1.57724576]\n",
            " [ 0.45466    24.384       1.65086944]\n",
            " [ 0.4572     24.384       1.4583152 ]\n",
            " [ 0.4572     24.384       1.4441568 ]\n",
            " [ 0.52324    26.5176      2.1803936 ]]\n"
          ],
          "name": "stdout"
        }
      ]
    },
    {
      "cell_type": "markdown",
      "metadata": {
        "colab_type": "text",
        "id": "j9hZqxhHomJI"
      },
      "source": [
        "####12- ¿Cúal es la media de la altura de los árboles?"
      ]
    },
    {
      "cell_type": "code",
      "metadata": {
        "colab_type": "code",
        "id": "m0XCqZmjo8ys",
        "outputId": "ed227acc-273d-42bc-906e-2f9e7e2e94c3",
        "colab": {
          "base_uri": "https://localhost:8080/",
          "height": 34
        }
      },
      "source": [
        "print (\"La media de la altura de los arboles es: \",np.mean(info[:,1]),\"metros\")"
      ],
      "execution_count": 0,
      "outputs": [
        {
          "output_type": "stream",
          "text": [
            "La media de la altura de los arboles es:  23.164800000000003 metros\n"
          ],
          "name": "stdout"
        }
      ]
    },
    {
      "cell_type": "markdown",
      "metadata": {
        "colab_type": "text",
        "id": "UPuyn_jjo86e"
      },
      "source": [
        "####13- Realice un histograma del volumen de los árboles"
      ]
    },
    {
      "cell_type": "code",
      "metadata": {
        "colab_type": "code",
        "id": "DKB2R0L1pbYf",
        "outputId": "ade218a5-440c-4dd3-fbd6-14a8177be775",
        "colab": {
          "base_uri": "https://localhost:8080/",
          "height": 279
        }
      },
      "source": [
        "import matplotlib.pyplot as plt\n",
        "plt.hist(info[:,2])\n",
        "plt.xlabel(\"Data\")\n",
        "plt.ylabel(\"Cantidad\")\n",
        "plt.show()"
      ],
      "execution_count": 0,
      "outputs": [
        {
          "output_type": "display_data",
          "data": {
            "image/png": "[encoded data removed]",
            "text/plain": [
              "<Figure size 432x288 with 1 Axes>"
            ]
          },
          "metadata": {
            "tags": []
          }
        }
      ]
    },
    {
      "cell_type": "markdown",
      "metadata": {
        "colab_type": "text",
        "id": "00RtWN3Lpbir"
      },
      "source": [
        "####14- Realice un diagrama de dispersión Altura x Volumen "
      ]
    },
    {
      "cell_type": "code",
      "metadata": {
        "colab_type": "code",
        "id": "5oAbGin1p0wW",
        "outputId": "ed0176a7-5236-4b62-923f-f710cff9e830",
        "colab": {
          "base_uri": "https://localhost:8080/",
          "height": 279
        }
      },
      "source": [
        "plt.scatter(info[:,1],info[:,2])\n",
        "plt.xlabel(\"Altura\")\n",
        "plt.ylabel(\"Volumen\")\n",
        "plt.show()"
      ],
      "execution_count": 0,
      "outputs": [
        {
          "output_type": "display_data",
          "data": {
            "image/png": "[encoded data removed]",
            "text/plain": [
              "<Figure size 432x288 with 1 Axes>"
            ]
          },
          "metadata": {
            "tags": []
          }
        }
      ]
    }
  ]
}