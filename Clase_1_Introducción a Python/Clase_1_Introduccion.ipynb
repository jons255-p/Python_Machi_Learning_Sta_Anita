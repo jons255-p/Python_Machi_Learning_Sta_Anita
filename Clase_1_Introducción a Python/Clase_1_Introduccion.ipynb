{
  "nbformat": 4,
  "nbformat_minor": 0,
  "metadata": {
    "colab": {
      "name": "Clase-1.ipynb",
      "provenance": [],
      "collapsed_sections": []
    },
    "kernelspec": {
      "name": "python3",
      "display_name": "Python 3"
    }
  },
  "cells": [
    {
      "cell_type": "markdown",
      "metadata": {
        "id": "uBsnwJ4Hfv7g",
        "colab_type": "text"
      },
      "source": [
        "Primera Clase"
      ]
    },
    {
      "cell_type": "code",
      "metadata": {
        "id": "tAM6SSBsfb1u",
        "colab_type": "code",
        "colab": {
          "base_uri": "https://localhost:8080/",
          "height": 35
        },
        "outputId": "a00cdd66-980b-4c11-bf87-c954b431a24e"
      },
      "source": [
        "a = 5\n",
        "print(a)"
      ],
      "execution_count": 1,
      "outputs": [
        {
          "output_type": "stream",
          "text": [
            "5\n"
          ],
          "name": "stdout"
        }
      ]
    },
    {
      "cell_type": "code",
      "metadata": {
        "id": "iF2p2et6gnbc",
        "colab_type": "code",
        "colab": {
          "base_uri": "https://localhost:8080/",
          "height": 35
        },
        "outputId": "09b9c903-3506-4308-c559-8d4ce31d1541"
      },
      "source": [
        "b = 6\n",
        "print(b)"
      ],
      "execution_count": 2,
      "outputs": [
        {
          "output_type": "stream",
          "text": [
            "6\n"
          ],
          "name": "stdout"
        }
      ]
    },
    {
      "cell_type": "code",
      "metadata": {
        "id": "iOEt8odCg5es",
        "colab_type": "code",
        "colab": {}
      },
      "source": [
        "a = 10"
      ],
      "execution_count": 0,
      "outputs": []
    },
    {
      "cell_type": "code",
      "metadata": {
        "id": "KczcDN82g9mT",
        "colab_type": "code",
        "colab": {}
      },
      "source": [
        "a = 8"
      ],
      "execution_count": 0,
      "outputs": []
    },
    {
      "cell_type": "code",
      "metadata": {
        "id": "-IkykIQKg8Lb",
        "colab_type": "code",
        "colab": {
          "base_uri": "https://localhost:8080/",
          "height": 35
        },
        "outputId": "055435f0-f0ee-4fbd-a9cd-163462d4d206"
      },
      "source": [
        "print('El valor de a es: ',a,'fin',a)"
      ],
      "execution_count": 15,
      "outputs": [
        {
          "output_type": "stream",
          "text": [
            "El valor de a es:  8 fin 8\n"
          ],
          "name": "stdout"
        }
      ]
    },
    {
      "cell_type": "code",
      "metadata": {
        "id": "wdR9VDPZiT8J",
        "colab_type": "code",
        "colab": {
          "base_uri": "https://localhost:8080/",
          "height": 35
        },
        "outputId": "7a724091-4eb0-4a79-b990-09fbab20ddff"
      },
      "source": [
        "#Este es un comentario\n",
        "texto = 'Hola'\n",
        "print(1,texto)"
      ],
      "execution_count": 21,
      "outputs": [
        {
          "output_type": "stream",
          "text": [
            "1 Hola\n"
          ],
          "name": "stdout"
        }
      ]
    },
    {
      "cell_type": "markdown",
      "metadata": {
        "id": "8VWeuQppivA7",
        "colab_type": "text"
      },
      "source": [
        "Este es un texto"
      ]
    },
    {
      "cell_type": "code",
      "metadata": {
        "id": "FxiAHF7Jj8Py",
        "colab_type": "code",
        "colab": {
          "base_uri": "https://localhost:8080/",
          "height": 35
        },
        "outputId": "1d6067ae-f513-40db-e379-05349dc4a9cf"
      },
      "source": [
        "a+=1\n",
        "print(a)"
      ],
      "execution_count": 25,
      "outputs": [
        {
          "output_type": "stream",
          "text": [
            "10\n"
          ],
          "name": "stdout"
        }
      ]
    },
    {
      "cell_type": "markdown",
      "metadata": {
        "id": "7cMNQQZrkVzT",
        "colab_type": "text"
      },
      "source": [
        "Entrada de información"
      ]
    },
    {
      "cell_type": "code",
      "metadata": {
        "id": "hh0hazeWkVOH",
        "colab_type": "code",
        "colab": {
          "base_uri": "https://localhost:8080/",
          "height": 54
        },
        "outputId": "5d3c5b6c-13f1-4498-a848-7987636927ea"
      },
      "source": [
        "nombre = str(input(\"Escriba su nombre:\"))\n",
        "print(nombre)"
      ],
      "execution_count": 27,
      "outputs": [
        {
          "output_type": "stream",
          "text": [
            "Escriba su nombre:Jose\n",
            "Jose\n"
          ],
          "name": "stdout"
        }
      ]
    },
    {
      "cell_type": "code",
      "metadata": {
        "id": "u8q1GtHMkwnc",
        "colab_type": "code",
        "colab": {
          "base_uri": "https://localhost:8080/",
          "height": 54
        },
        "outputId": "0707188c-2f58-4b74-8bde-563012cb7a38"
      },
      "source": [
        "edad = int(input(\"Escriba su edad:\"))\n",
        "print(edad)"
      ],
      "execution_count": 31,
      "outputs": [
        {
          "output_type": "stream",
          "text": [
            "Escriba su edad:13\n",
            "13\n"
          ],
          "name": "stdout"
        }
      ]
    },
    {
      "cell_type": "code",
      "metadata": {
        "id": "w555GD-6mkxD",
        "colab_type": "code",
        "colab": {
          "base_uri": "https://localhost:8080/",
          "height": 35
        },
        "outputId": "98cdf2da-536a-4b1c-b146-df141c7b0c4a"
      },
      "source": [
        "print(a!=b)"
      ],
      "execution_count": 33,
      "outputs": [
        {
          "output_type": "stream",
          "text": [
            "True\n"
          ],
          "name": "stdout"
        }
      ]
    },
    {
      "cell_type": "code",
      "metadata": {
        "id": "AzDr5p0Em-Ya",
        "colab_type": "code",
        "colab": {
          "base_uri": "https://localhost:8080/",
          "height": 54
        },
        "outputId": "f465e7a2-b1ff-4a15-d396-02810bd041d4"
      },
      "source": [
        "nombre = str(input(\"Escribe tu nombre:\"))\n",
        "if(nombre == 'Jose'):\n",
        "  print('Hola')\n",
        "else:\n",
        "  print('No se quien eres')"
      ],
      "execution_count": 36,
      "outputs": [
        {
          "output_type": "stream",
          "text": [
            "Escribe tu nombre:Eduardo\n",
            "No se quien eres\n"
          ],
          "name": "stdout"
        }
      ]
    },
    {
      "cell_type": "code",
      "metadata": {
        "id": "-aJc31wlnvUU",
        "colab_type": "code",
        "colab": {
          "base_uri": "https://localhost:8080/",
          "height": 35
        },
        "outputId": "b7f67c07-e321-4db0-a2a7-b1aac5ba89d9"
      },
      "source": [
        "numero = 9\n",
        "if numero == 7: \n",
        "  print('Es un siete')\n",
        "elif numero == 8: \n",
        "  print('Es un ocho')\n",
        "elif numero == 9: \n",
        "  print('Es un nueve')"
      ],
      "execution_count": 40,
      "outputs": [
        {
          "output_type": "stream",
          "text": [
            "Es un nueve\n"
          ],
          "name": "stdout"
        }
      ]
    },
    {
      "cell_type": "markdown",
      "metadata": {
        "id": "jJek0ndTqBWl",
        "colab_type": "text"
      },
      "source": [
        "Bucles"
      ]
    },
    {
      "cell_type": "code",
      "metadata": {
        "id": "dD54RhZoqCT7",
        "colab_type": "code",
        "colab": {
          "base_uri": "https://localhost:8080/",
          "height": 164
        },
        "outputId": "9da75899-28aa-470b-db18-c59187ba263c"
      },
      "source": [
        "a=1\n",
        "while a!=8:\n",
        "  a+=1\n",
        "  print(\"No es ocho\")\n",
        "print(\"Sali\")"
      ],
      "execution_count": 42,
      "outputs": [
        {
          "output_type": "stream",
          "text": [
            "No es ocho\n",
            "No es ocho\n",
            "No es ocho\n",
            "No es ocho\n",
            "No es ocho\n",
            "No es ocho\n",
            "No es ocho\n",
            "Sali\n"
          ],
          "name": "stdout"
        }
      ]
    },
    {
      "cell_type": "code",
      "metadata": {
        "id": "kHNcJYU2qhvl",
        "colab_type": "code",
        "colab": {
          "base_uri": "https://localhost:8080/",
          "height": 201
        },
        "outputId": "e400bab0-0583-45c5-a4d4-996e9d6ae6ce"
      },
      "source": [
        "for i in range(10):\n",
        "  print(i)"
      ],
      "execution_count": 44,
      "outputs": [
        {
          "output_type": "stream",
          "text": [
            "0\n",
            "1\n",
            "2\n",
            "3\n",
            "4\n",
            "5\n",
            "6\n",
            "7\n",
            "8\n",
            "9\n"
          ],
          "name": "stdout"
        }
      ]
    },
    {
      "cell_type": "code",
      "metadata": {
        "id": "2wvkPqbErQv0",
        "colab_type": "code",
        "colab": {
          "base_uri": "https://localhost:8080/",
          "height": 54
        },
        "outputId": "73f0603d-c80c-421b-918f-91a300acbc16"
      },
      "source": [
        "numero = 0\n",
        "while(numero<=0):\n",
        "  numero = int(input(\"Escribe:\"))\n",
        "print(\"Sali\")"
      ],
      "execution_count": 47,
      "outputs": [
        {
          "output_type": "stream",
          "text": [
            "Escribe:5\n",
            "Sali\n"
          ],
          "name": "stdout"
        }
      ]
    }
  ]
}