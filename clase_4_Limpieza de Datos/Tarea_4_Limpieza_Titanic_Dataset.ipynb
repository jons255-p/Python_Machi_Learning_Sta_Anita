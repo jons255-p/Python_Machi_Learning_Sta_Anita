{
  "nbformat": 4,
  "nbformat_minor": 0,
  "metadata": {
    "colab": {
      "name": "Tarea 4: Limpieza Titanic Dataset.ipynb",
      "provenance": [],
      "collapsed_sections": []
    },
    "kernelspec": {
      "name": "python3",
      "display_name": "Python 3"
    }
  },
  "cells": [
    {
      "cell_type": "markdown",
      "metadata": {
        "id": "Azdk17IVmevp",
        "colab_type": "text"
      },
      "source": [
        "#Titanic Dataset"
      ]
    },
    {
      "cell_type": "markdown",
      "metadata": {
        "id": "oHEz1MvNp6FS",
        "colab_type": "text"
      },
      "source": [
        "La tarea de esta semana consiste en preprocesar el dataset del Titanic, puede consultar la imagen \"Diccionario de datos\" para mayor detalle sobre los atributos utilizados"
      ]
    },
    {
      "cell_type": "code",
      "metadata": {
        "id": "IuhVezvgmNOq",
        "colab_type": "code",
        "colab": {}
      },
      "source": [
        "import pandas as pd\n",
        "import numpy as np"
      ],
      "execution_count": 0,
      "outputs": []
    },
    {
      "cell_type": "markdown",
      "metadata": {
        "id": "JufDDgZ-mo90",
        "colab_type": "text"
      },
      "source": [
        "###1. Importar el archivo \"titanic-data.csv\" con la librería pandas y mostrar los 5 primeros datos"
      ]
    },
    {
      "cell_type": "code",
      "metadata": {
        "id": "iGGRlmVYmnlE",
        "colab_type": "code",
        "colab": {}
      },
      "source": [
        ""
      ],
      "execution_count": 0,
      "outputs": []
    },
    {
      "cell_type": "markdown",
      "metadata": {
        "id": "JRdefKB-uEgA",
        "colab_type": "text"
      },
      "source": [
        "###2. Revise cuantos datos faltantes existen en el dataset"
      ]
    },
    {
      "cell_type": "code",
      "metadata": {
        "id": "Z_1CvV8guP7p",
        "colab_type": "code",
        "colab": {}
      },
      "source": [
        "#Funcion .isnull( )"
      ],
      "execution_count": 0,
      "outputs": []
    },
    {
      "cell_type": "markdown",
      "metadata": {
        "id": "wbOWEXR9vzkN",
        "colab_type": "text"
      },
      "source": [
        "###3. Completando las edades faltantes:"
      ]
    },
    {
      "cell_type": "markdown",
      "metadata": {
        "id": "eBdt6AQ9wQFA",
        "colab_type": "text"
      },
      "source": [
        "####3a. Los datos de la columna \"Age\" que no contienen datos los completaremos con -0.5"
      ]
    },
    {
      "cell_type": "code",
      "metadata": {
        "id": "lMUv1s_Nwh1H",
        "colab_type": "code",
        "colab": {}
      },
      "source": [
        "#Funcion .fillna( )"
      ],
      "execution_count": 0,
      "outputs": []
    },
    {
      "cell_type": "markdown",
      "metadata": {
        "id": "NFl_H8jDw7Pf",
        "colab_type": "text"
      },
      "source": [
        "####3b. Clasificaremos las edades en los siguientes intervalos:\n",
        "\n"
      ]
    },
    {
      "cell_type": "markdown",
      "metadata": {
        "id": "gEHMDSGAyVBo",
        "colab_type": "text"
      },
      "source": [
        "Unknown: -1 - 0\n",
        "\n",
        "Baby: 0 - 5\n",
        "\n",
        "Child: 5 - 12\n",
        "\n",
        "Teenager: 12 - 18\n",
        "\n",
        "Student: 18 - 25\n",
        "\n",
        "Young Adult: 25 - 35\n",
        "\n",
        "Adult: 35 - 60\n",
        "\n",
        "Senior: 60 - 120"
      ]
    },
    {
      "cell_type": "code",
      "metadata": {
        "id": "F6sI3uqyyYBx",
        "colab_type": "code",
        "colab": {}
      },
      "source": [
        ""
      ],
      "execution_count": 0,
      "outputs": []
    },
    {
      "cell_type": "markdown",
      "metadata": {
        "id": "hvXLOkXvzB76",
        "colab_type": "text"
      },
      "source": [
        "####3c. Eliminamos la columna \"Age\", los datos ya no son necesarios"
      ]
    },
    {
      "cell_type": "code",
      "metadata": {
        "id": "uMB1GsWjzKAS",
        "colab_type": "code",
        "colab": {}
      },
      "source": [
        ""
      ],
      "execution_count": 0,
      "outputs": []
    },
    {
      "cell_type": "markdown",
      "metadata": {
        "id": "nlHf0jzxzR0X",
        "colab_type": "text"
      },
      "source": [
        "###4. Simplificando las tarifas (Fare):"
      ]
    },
    {
      "cell_type": "markdown",
      "metadata": {
        "id": "Ny5XqmiAza-e",
        "colab_type": "text"
      },
      "source": [
        "####4a. Al no contar con una clasificación determinada para la columna \"Fare\", utilizaremos los intervalos que nos proporciona los cuartiles. ¿Cúales son esos intervalos?"
      ]
    },
    {
      "cell_type": "code",
      "metadata": {
        "id": "0UI7S8dhznZY",
        "colab_type": "code",
        "colab": {}
      },
      "source": [
        ""
      ],
      "execution_count": 0,
      "outputs": []
    },
    {
      "cell_type": "markdown",
      "metadata": {
        "id": "FQpBPGlt1gZN",
        "colab_type": "text"
      },
      "source": [
        "####4b. Ahora que tenemos los intervalos, clasificaremos la data \"Fare\", utilice nombres a su criterio"
      ]
    },
    {
      "cell_type": "code",
      "metadata": {
        "id": "WcStdy9211Vs",
        "colab_type": "code",
        "colab": {}
      },
      "source": [
        ""
      ],
      "execution_count": 0,
      "outputs": []
    },
    {
      "cell_type": "markdown",
      "metadata": {
        "id": "FRgY4brd2Brm",
        "colab_type": "text"
      },
      "source": [
        "####4c. La columna \"Fare\" ya no es necesaria"
      ]
    },
    {
      "cell_type": "code",
      "metadata": {
        "id": "6yNXyVds2NK8",
        "colab_type": "code",
        "colab": {}
      },
      "source": [
        ""
      ],
      "execution_count": 0,
      "outputs": []
    },
    {
      "cell_type": "markdown",
      "metadata": {
        "id": "J8Efr8_72Xh1",
        "colab_type": "text"
      },
      "source": [
        "###5. Dando formato a \"Name\""
      ]
    },
    {
      "cell_type": "markdown",
      "metadata": {
        "id": "Eqmz3n6u7w6Z",
        "colab_type": "text"
      },
      "source": [
        "####5a. En la columna \"Name\" solo es necesario el apellido y el prefijo que acompaña el nombre (Mr.)"
      ]
    },
    {
      "cell_type": "markdown",
      "metadata": {
        "id": "Hf_HHWGD8Enw",
        "colab_type": "text"
      },
      "source": [
        "Ejecutaremos el siguiente código para crear nuevas columnas con esa información:"
      ]
    },
    {
      "cell_type": "code",
      "metadata": {
        "id": "IySq9ujD8Lo_",
        "colab_type": "code",
        "colab": {}
      },
      "source": [
        "#Reemplazar \"data\" por el nombre de su dataset\n",
        "apellido = data['Name'].apply(lambda x: x.split(',')[0])\n",
        "data['Lname'] = apellido"
      ],
      "execution_count": 0,
      "outputs": []
    },
    {
      "cell_type": "markdown",
      "metadata": {
        "id": "6DCfeOLI8gk7",
        "colab_type": "text"
      },
      "source": [
        ".apply( ) -> Función de Pandas que ejecuta una función por cada elemento, en este caso por cada elemento de la columna \"Name\"\n",
        "\n",
        "lambda -> Crea una función de una línea con la variable x\n",
        "\n",
        "x.split('  ') -> Corta un texto con el caracter entre paréntesis\n",
        "\n",
        "Ejecutando el código en una linea:\n",
        "\n",
        "[Braund,  Mr. Owen Harris]\n",
        "\n",
        "Se crea una lista, se selecciona lo que queremos en este caso el apellido se encuentra en la primera posición, por ese motivo colocamos [0]"
      ]
    },
    {
      "cell_type": "code",
      "metadata": {
        "id": "A8YvMWeIButq",
        "colab_type": "code",
        "colab": {}
      },
      "source": [
        "nombre = data['Name'].apply(lambda x: x.split(',')[1])\n",
        "titulo = nombre.apply(lambda x: x.split('.')[0])\n",
        "data['NamePrefix'] = titulo"
      ],
      "execution_count": 0,
      "outputs": []
    },
    {
      "cell_type": "code",
      "metadata": {
        "id": "8QkRhTPXCELO",
        "colab_type": "code",
        "colab": {}
      },
      "source": [
        "data['NamePrefix'].value_counts()"
      ],
      "execution_count": 0,
      "outputs": []
    },
    {
      "cell_type": "markdown",
      "metadata": {
        "id": "bcJe63eW-CE_",
        "colab_type": "text"
      },
      "source": [
        "####5b. La columna \"Name\" ya no es necesaria"
      ]
    },
    {
      "cell_type": "code",
      "metadata": {
        "id": "pTMaufvp-Bdz",
        "colab_type": "code",
        "colab": {}
      },
      "source": [
        ""
      ],
      "execution_count": 0,
      "outputs": []
    },
    {
      "cell_type": "markdown",
      "metadata": {
        "id": "S1TpD6gz-Y-4",
        "colab_type": "text"
      },
      "source": [
        "###6. Completando datos faltantes en \"Embarked\""
      ]
    },
    {
      "cell_type": "markdown",
      "metadata": {
        "id": "264a6m4c-d_J",
        "colab_type": "text"
      },
      "source": [
        "Como hemos visto al comienzo del cuaderno, son 2 los datos faltantes en la columna \"Embarked\", como son letras no podemos llenarlo con la media, para eso completaremos estos datos con la letra que tenga mayor número de datos"
      ]
    },
    {
      "cell_type": "markdown",
      "metadata": {
        "id": "wF9uypf3DJDp",
        "colab_type": "text"
      },
      "source": [
        "####6a. Halle la letra que tiene más valores en la columna \"Embarked\""
      ]
    },
    {
      "cell_type": "code",
      "metadata": {
        "id": "WDftnlJNC9U4",
        "colab_type": "code",
        "colab": {}
      },
      "source": [
        ""
      ],
      "execution_count": 0,
      "outputs": []
    },
    {
      "cell_type": "markdown",
      "metadata": {
        "id": "OOKZi6tRDP_M",
        "colab_type": "text"
      },
      "source": [
        "####6b. Complete los datos faltantes con la letra hallada en la pregunta anterior"
      ]
    },
    {
      "cell_type": "code",
      "metadata": {
        "id": "VkaAbZzfDQNA",
        "colab_type": "code",
        "colab": {}
      },
      "source": [
        ""
      ],
      "execution_count": 0,
      "outputs": []
    },
    {
      "cell_type": "markdown",
      "metadata": {
        "id": "3zsMAsESqbNm",
        "colab_type": "text"
      },
      "source": [
        "###7. ¿Deberian considerarse todos los campos del dataset para analizar la información posteriormente? Justifique"
      ]
    },
    {
      "cell_type": "markdown",
      "metadata": {
        "id": "Y2yLPBwpu2p2",
        "colab_type": "text"
      },
      "source": [
        ""
      ]
    },
    {
      "cell_type": "markdown",
      "metadata": {
        "id": "svhRO36Cu3Yb",
        "colab_type": "text"
      },
      "source": [
        "####8. Según lo respondido en la pregunta anterior: Elimine las columnas de los datos que no serán relevantes para nuestro análisis"
      ]
    },
    {
      "cell_type": "code",
      "metadata": {
        "id": "3U5Fzr-PKbbD",
        "colab_type": "code",
        "colab": {}
      },
      "source": [
        ""
      ],
      "execution_count": 0,
      "outputs": []
    },
    {
      "cell_type": "markdown",
      "metadata": {
        "id": "i0irKYXuGjT7",
        "colab_type": "text"
      },
      "source": [
        "**Con esto nuestra data estaría limpia y lista para el análisis**"
      ]
    },
    {
      "cell_type": "markdown",
      "metadata": {
        "id": "X7k3bgXbHB5B",
        "colab_type": "text"
      },
      "source": [
        "#Ejercicios"
      ]
    },
    {
      "cell_type": "markdown",
      "metadata": {
        "id": "hzkpOD5HHG4q",
        "colab_type": "text"
      },
      "source": [
        "###¿Cuántas hombres y mujeres hay?"
      ]
    },
    {
      "cell_type": "code",
      "metadata": {
        "id": "pyPItttmLaiQ",
        "colab_type": "code",
        "colab": {}
      },
      "source": [
        ""
      ],
      "execution_count": 0,
      "outputs": []
    },
    {
      "cell_type": "markdown",
      "metadata": {
        "id": "mzsqdg6yLdDM",
        "colab_type": "text"
      },
      "source": [
        "###¿Cuántas personas de la clase 1 sobrevivieron?"
      ]
    },
    {
      "cell_type": "code",
      "metadata": {
        "id": "d5p1LZTbL_yj",
        "colab_type": "code",
        "colab": {}
      },
      "source": [
        ""
      ],
      "execution_count": 0,
      "outputs": []
    },
    {
      "cell_type": "markdown",
      "metadata": {
        "id": "UUgp_BzwMdVn",
        "colab_type": "text"
      },
      "source": [
        "###¿Cúal es la familia más numerosa que abordó el titanic?"
      ]
    },
    {
      "cell_type": "code",
      "metadata": {
        "id": "_kKkWXrqMtCY",
        "colab_type": "code",
        "colab": {}
      },
      "source": [
        ""
      ],
      "execution_count": 0,
      "outputs": []
    },
    {
      "cell_type": "markdown",
      "metadata": {
        "id": "ngkUd0gpOFmT",
        "colab_type": "text"
      },
      "source": [
        "###¿Cúantos Child de la clase 3 sobrevivieron?"
      ]
    },
    {
      "cell_type": "code",
      "metadata": {
        "id": "kpxgf2KsOSPa",
        "colab_type": "code",
        "colab": {}
      },
      "source": [
        ""
      ],
      "execution_count": 0,
      "outputs": []
    },
    {
      "cell_type": "markdown",
      "metadata": {
        "id": "aPuCqfz2OSro",
        "colab_type": "text"
      },
      "source": [
        "###¿Cúal es el cuartil de Tarifa que tuvo más sobrevivientes?"
      ]
    },
    {
      "cell_type": "code",
      "metadata": {
        "id": "KT6pi-RiOzhx",
        "colab_type": "code",
        "colab": {}
      },
      "source": [
        ""
      ],
      "execution_count": 0,
      "outputs": []
    }
  ]
}