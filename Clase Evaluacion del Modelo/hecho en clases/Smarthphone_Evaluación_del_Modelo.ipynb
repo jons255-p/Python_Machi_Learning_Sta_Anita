{
  "nbformat": 4,
  "nbformat_minor": 0,
  "metadata": {
    "colab": {
      "name": "Smarthphone_Evaluación_del_Modelo.ipynb",
      "provenance": []
    },
    "kernelspec": {
      "name": "python3",
      "display_name": "Python 3"
    }
  },
  "cells": [
    {
      "cell_type": "markdown",
      "metadata": {
        "id": "X80QlO9TiANi",
        "colab_type": "text"
      },
      "source": [
        "#Smarthphone Classification"
      ]
    },
    {
      "cell_type": "markdown",
      "metadata": {
        "id": "2rZZPi7HiIGF",
        "colab_type": "text"
      },
      "source": [
        "##Importar CSV"
      ]
    },
    {
      "cell_type": "code",
      "metadata": {
        "id": "PWtCp-9Uh8t_",
        "colab_type": "code",
        "colab": {
          "base_uri": "https://localhost:8080/",
          "height": 224
        },
        "outputId": "a89407dc-a2d8-4018-d993-100ad84633f6"
      },
      "source": [
        "import pandas as pd\n",
        "df = pd.read_csv(\"Smarthphone.csv\")\n",
        "df.head()"
      ],
      "execution_count": 1,
      "outputs": [
        {
          "output_type": "execute_result",
          "data": {
            "text/html": [
              "<div>\n",
              "<style scoped>\n",
              "    .dataframe tbody tr th:only-of-type {\n",
              "        vertical-align: middle;\n",
              "    }\n",
              "\n",
              "    .dataframe tbody tr th {\n",
              "        vertical-align: top;\n",
              "    }\n",
              "\n",
              "    .dataframe thead th {\n",
              "        text-align: right;\n",
              "    }\n",
              "</style>\n",
              "<table border=\"1\" class=\"dataframe\">\n",
              "  <thead>\n",
              "    <tr style=\"text-align: right;\">\n",
              "      <th></th>\n",
              "      <th>battery_power</th>\n",
              "      <th>blue</th>\n",
              "      <th>clock_speed</th>\n",
              "      <th>dual_sim</th>\n",
              "      <th>fc</th>\n",
              "      <th>four_g</th>\n",
              "      <th>int_memory</th>\n",
              "      <th>m_dep</th>\n",
              "      <th>mobile_wt</th>\n",
              "      <th>n_cores</th>\n",
              "      <th>pc</th>\n",
              "      <th>px_height</th>\n",
              "      <th>px_width</th>\n",
              "      <th>ram</th>\n",
              "      <th>sc_h</th>\n",
              "      <th>sc_w</th>\n",
              "      <th>talk_time</th>\n",
              "      <th>three_g</th>\n",
              "      <th>touch_screen</th>\n",
              "      <th>wifi</th>\n",
              "      <th>price_range</th>\n",
              "    </tr>\n",
              "  </thead>\n",
              "  <tbody>\n",
              "    <tr>\n",
              "      <th>0</th>\n",
              "      <td>842</td>\n",
              "      <td>0</td>\n",
              "      <td>2.2</td>\n",
              "      <td>0</td>\n",
              "      <td>1</td>\n",
              "      <td>0</td>\n",
              "      <td>7</td>\n",
              "      <td>0.6</td>\n",
              "      <td>188</td>\n",
              "      <td>2</td>\n",
              "      <td>2</td>\n",
              "      <td>20</td>\n",
              "      <td>756</td>\n",
              "      <td>2549</td>\n",
              "      <td>9</td>\n",
              "      <td>7</td>\n",
              "      <td>19</td>\n",
              "      <td>0</td>\n",
              "      <td>0</td>\n",
              "      <td>1</td>\n",
              "      <td>1</td>\n",
              "    </tr>\n",
              "    <tr>\n",
              "      <th>1</th>\n",
              "      <td>1021</td>\n",
              "      <td>1</td>\n",
              "      <td>0.5</td>\n",
              "      <td>1</td>\n",
              "      <td>0</td>\n",
              "      <td>1</td>\n",
              "      <td>53</td>\n",
              "      <td>0.7</td>\n",
              "      <td>136</td>\n",
              "      <td>3</td>\n",
              "      <td>6</td>\n",
              "      <td>905</td>\n",
              "      <td>1988</td>\n",
              "      <td>2631</td>\n",
              "      <td>17</td>\n",
              "      <td>3</td>\n",
              "      <td>7</td>\n",
              "      <td>1</td>\n",
              "      <td>1</td>\n",
              "      <td>0</td>\n",
              "      <td>2</td>\n",
              "    </tr>\n",
              "    <tr>\n",
              "      <th>2</th>\n",
              "      <td>563</td>\n",
              "      <td>1</td>\n",
              "      <td>0.5</td>\n",
              "      <td>1</td>\n",
              "      <td>2</td>\n",
              "      <td>1</td>\n",
              "      <td>41</td>\n",
              "      <td>0.9</td>\n",
              "      <td>145</td>\n",
              "      <td>5</td>\n",
              "      <td>6</td>\n",
              "      <td>1263</td>\n",
              "      <td>1716</td>\n",
              "      <td>2603</td>\n",
              "      <td>11</td>\n",
              "      <td>2</td>\n",
              "      <td>9</td>\n",
              "      <td>1</td>\n",
              "      <td>1</td>\n",
              "      <td>0</td>\n",
              "      <td>2</td>\n",
              "    </tr>\n",
              "    <tr>\n",
              "      <th>3</th>\n",
              "      <td>615</td>\n",
              "      <td>1</td>\n",
              "      <td>2.5</td>\n",
              "      <td>0</td>\n",
              "      <td>0</td>\n",
              "      <td>0</td>\n",
              "      <td>10</td>\n",
              "      <td>0.8</td>\n",
              "      <td>131</td>\n",
              "      <td>6</td>\n",
              "      <td>9</td>\n",
              "      <td>1216</td>\n",
              "      <td>1786</td>\n",
              "      <td>2769</td>\n",
              "      <td>16</td>\n",
              "      <td>8</td>\n",
              "      <td>11</td>\n",
              "      <td>1</td>\n",
              "      <td>0</td>\n",
              "      <td>0</td>\n",
              "      <td>2</td>\n",
              "    </tr>\n",
              "    <tr>\n",
              "      <th>4</th>\n",
              "      <td>1821</td>\n",
              "      <td>1</td>\n",
              "      <td>1.2</td>\n",
              "      <td>0</td>\n",
              "      <td>13</td>\n",
              "      <td>1</td>\n",
              "      <td>44</td>\n",
              "      <td>0.6</td>\n",
              "      <td>141</td>\n",
              "      <td>2</td>\n",
              "      <td>14</td>\n",
              "      <td>1208</td>\n",
              "      <td>1212</td>\n",
              "      <td>1411</td>\n",
              "      <td>8</td>\n",
              "      <td>2</td>\n",
              "      <td>15</td>\n",
              "      <td>1</td>\n",
              "      <td>1</td>\n",
              "      <td>0</td>\n",
              "      <td>1</td>\n",
              "    </tr>\n",
              "  </tbody>\n",
              "</table>\n",
              "</div>"
            ],
            "text/plain": [
              "   battery_power  blue  clock_speed  ...  touch_screen  wifi  price_range\n",
              "0            842     0          2.2  ...             0     1            1\n",
              "1           1021     1          0.5  ...             1     0            2\n",
              "2            563     1          0.5  ...             1     0            2\n",
              "3            615     1          2.5  ...             0     0            2\n",
              "4           1821     1          1.2  ...             1     0            1\n",
              "\n",
              "[5 rows x 21 columns]"
            ]
          },
          "metadata": {
            "tags": []
          },
          "execution_count": 1
        }
      ]
    },
    {
      "cell_type": "markdown",
      "metadata": {
        "id": "ieWyA3lrihXp",
        "colab_type": "text"
      },
      "source": [
        "##Data de Entrenamiento y Test"
      ]
    },
    {
      "cell_type": "code",
      "metadata": {
        "id": "UHMocc5HikZC",
        "colab_type": "code",
        "colab": {}
      },
      "source": [
        "X = df.drop(['price_range'], axis=1)\n",
        "y = df['price_range']"
      ],
      "execution_count": 0,
      "outputs": []
    },
    {
      "cell_type": "code",
      "metadata": {
        "id": "Kt03_sATikv9",
        "colab_type": "code",
        "outputId": "2786175c-f840-4ffb-80ea-e04f85d01d5a",
        "colab": {
          "base_uri": "https://localhost:8080/",
          "height": 51
        }
      },
      "source": [
        "from sklearn.model_selection import train_test_split\n",
        "X_train, X_test, y_train, y_test = train_test_split(X, y, test_size=0.20)\n",
        "print('Train shape: ',X_train.shape)\n",
        "print('Validation shape: ',X_test.shape)"
      ],
      "execution_count": 16,
      "outputs": [
        {
          "output_type": "stream",
          "text": [
            "Train shape:  (1600, 20)\n",
            "Validation shape:  (400, 20)\n"
          ],
          "name": "stdout"
        }
      ]
    },
    {
      "cell_type": "markdown",
      "metadata": {
        "id": "xF9zk-r4itNA",
        "colab_type": "text"
      },
      "source": [
        "##Árbol de Clasficación"
      ]
    },
    {
      "cell_type": "code",
      "metadata": {
        "id": "mlIpwgnsip-o",
        "colab_type": "code",
        "outputId": "0dfc66ea-0283-44c1-9f1e-6a766d8d0594",
        "colab": {
          "base_uri": "https://localhost:8080/",
          "height": 119
        }
      },
      "source": [
        "from sklearn.tree import DecisionTreeClassifier\n",
        "clasificador = DecisionTreeClassifier(max_depth=13)\n",
        "clasificador.fit(X_train,y_train)"
      ],
      "execution_count": 14,
      "outputs": [
        {
          "output_type": "execute_result",
          "data": {
            "text/plain": [
              "DecisionTreeClassifier(ccp_alpha=0.0, class_weight=None, criterion='gini',\n",
              "                       max_depth=13, max_features=None, max_leaf_nodes=None,\n",
              "                       min_impurity_decrease=0.0, min_impurity_split=None,\n",
              "                       min_samples_leaf=1, min_samples_split=2,\n",
              "                       min_weight_fraction_leaf=0.0, presort='deprecated',\n",
              "                       random_state=None, splitter='best')"
            ]
          },
          "metadata": {
            "tags": []
          },
          "execution_count": 14
        }
      ]
    },
    {
      "cell_type": "code",
      "metadata": {
        "id": "23xXUgRij6gD",
        "colab_type": "code",
        "outputId": "4f5c2f85-b30b-4211-9210-7262f51c8f91",
        "colab": {
          "base_uri": "https://localhost:8080/",
          "height": 34
        }
      },
      "source": [
        "clasificador.score(X_test,y_test)"
      ],
      "execution_count": 17,
      "outputs": [
        {
          "output_type": "execute_result",
          "data": {
            "text/plain": [
              "0.965"
            ]
          },
          "metadata": {
            "tags": []
          },
          "execution_count": 17
        }
      ]
    },
    {
      "cell_type": "markdown",
      "metadata": {
        "id": "rSQ3mCUK9I8U",
        "colab_type": "text"
      },
      "source": [
        "MATRIZ DE CINFUCUIN"
      ]
    },
    {
      "cell_type": "code",
      "metadata": {
        "id": "I81xfDFQ9KqX",
        "colab_type": "code",
        "colab": {
          "base_uri": "https://localhost:8080/",
          "height": 204
        },
        "outputId": "817e3fb6-7009-42bc-b35e-ebef27242c3f"
      },
      "source": [
        "y_pred = clasificador.predict(X_test)\n",
        "df_confusion_arbol = pd.crosstab(y_test, y_pred,rownames=['Original'], colnames=['Predicted'])\n",
        "df_confusion_arbol"
      ],
      "execution_count": 18,
      "outputs": [
        {
          "output_type": "execute_result",
          "data": {
            "text/html": [
              "<div>\n",
              "<style scoped>\n",
              "    .dataframe tbody tr th:only-of-type {\n",
              "        vertical-align: middle;\n",
              "    }\n",
              "\n",
              "    .dataframe tbody tr th {\n",
              "        vertical-align: top;\n",
              "    }\n",
              "\n",
              "    .dataframe thead th {\n",
              "        text-align: right;\n",
              "    }\n",
              "</style>\n",
              "<table border=\"1\" class=\"dataframe\">\n",
              "  <thead>\n",
              "    <tr style=\"text-align: right;\">\n",
              "      <th>Predicted</th>\n",
              "      <th>0</th>\n",
              "      <th>1</th>\n",
              "      <th>2</th>\n",
              "      <th>3</th>\n",
              "    </tr>\n",
              "    <tr>\n",
              "      <th>Original</th>\n",
              "      <th></th>\n",
              "      <th></th>\n",
              "      <th></th>\n",
              "      <th></th>\n",
              "    </tr>\n",
              "  </thead>\n",
              "  <tbody>\n",
              "    <tr>\n",
              "      <th>0</th>\n",
              "      <td>96</td>\n",
              "      <td>2</td>\n",
              "      <td>0</td>\n",
              "      <td>0</td>\n",
              "    </tr>\n",
              "    <tr>\n",
              "      <th>1</th>\n",
              "      <td>2</td>\n",
              "      <td>88</td>\n",
              "      <td>1</td>\n",
              "      <td>0</td>\n",
              "    </tr>\n",
              "    <tr>\n",
              "      <th>2</th>\n",
              "      <td>0</td>\n",
              "      <td>5</td>\n",
              "      <td>97</td>\n",
              "      <td>2</td>\n",
              "    </tr>\n",
              "    <tr>\n",
              "      <th>3</th>\n",
              "      <td>0</td>\n",
              "      <td>0</td>\n",
              "      <td>2</td>\n",
              "      <td>105</td>\n",
              "    </tr>\n",
              "  </tbody>\n",
              "</table>\n",
              "</div>"
            ],
            "text/plain": [
              "Predicted   0   1   2    3\n",
              "Original                  \n",
              "0          96   2   0    0\n",
              "1           2  88   1    0\n",
              "2           0   5  97    2\n",
              "3           0   0   2  105"
            ]
          },
          "metadata": {
            "tags": []
          },
          "execution_count": 18
        }
      ]
    },
    {
      "cell_type": "code",
      "metadata": {
        "id": "Nqhq11Ne9bW4",
        "colab_type": "code",
        "colab": {
          "base_uri": "https://localhost:8080/",
          "height": 204
        },
        "outputId": "df62827f-7e59-4848-c379-93edf56381c0"
      },
      "source": [
        "from sklearn.metrics import classification_report \n",
        "print(classification_report(y_test, y_pred))"
      ],
      "execution_count": 19,
      "outputs": [
        {
          "output_type": "stream",
          "text": [
            "              precision    recall  f1-score   support\n",
            "\n",
            "           0       0.98      0.98      0.98        98\n",
            "           1       0.93      0.97      0.95        91\n",
            "           2       0.97      0.93      0.95       104\n",
            "           3       0.98      0.98      0.98       107\n",
            "\n",
            "    accuracy                           0.96       400\n",
            "   macro avg       0.96      0.97      0.96       400\n",
            "weighted avg       0.97      0.96      0.97       400\n",
            "\n"
          ],
          "name": "stdout"
        }
      ]
    },
    {
      "cell_type": "markdown",
      "metadata": {
        "id": "JzuoyeT5-bVR",
        "colab_type": "text"
      },
      "source": [
        "cuesta mas clasificar un telefono caro que barato"
      ]
    },
    {
      "cell_type": "code",
      "metadata": {
        "id": "7Q4oSf8y93Pw",
        "colab_type": "code",
        "colab": {}
      },
      "source": [
        ""
      ],
      "execution_count": 0,
      "outputs": []
    },
    {
      "cell_type": "markdown",
      "metadata": {
        "id": "AOrS4jf-94P-",
        "colab_type": "text"
      },
      "source": [
        "prediction\n",
        "*   0 90/97 =0.98\n",
        "*   2 78/(9+78+10)=0.97\n",
        "\n"
      ]
    },
    {
      "cell_type": "code",
      "metadata": {
        "id": "ZN9hxC8Aivo1",
        "colab_type": "code",
        "colab": {}
      },
      "source": [
        "max_depth_range = list(range(2, 15)) #Reemplazar el max valor (15) con la máxima profundidad por defecto para su arbol +1\n",
        "accuracy = []\n",
        "for depth in max_depth_range:\n",
        "    clf = DecisionTreeClassifier(max_depth = depth)\n",
        "    clf.fit(X_train, y_train)    \n",
        "    score = clf.score(X_test, y_test)\n",
        "    \n",
        "    accuracy.append(score)"
      ],
      "execution_count": 0,
      "outputs": []
    },
    {
      "cell_type": "code",
      "metadata": {
        "id": "NxQp_RpYiw7K",
        "colab_type": "code",
        "colab": {}
      },
      "source": [
        "import matplotlib.pyplot as plt\n",
        "%matplotlib inline"
      ],
      "execution_count": 0,
      "outputs": []
    },
    {
      "cell_type": "code",
      "metadata": {
        "id": "ph6AlQm9j1a_",
        "colab_type": "code",
        "outputId": "6aebaf28-8703-4929-a093-86a4f5d5fd9c",
        "colab": {
          "base_uri": "https://localhost:8080/",
          "height": 265
        }
      },
      "source": [
        "plt.plot(accuracy)\n",
        "plt.xticks(list(range(len(max_depth_range))),max_depth_range)\n",
        "plt.grid()\n",
        "plt.show()"
      ],
      "execution_count": 0,
      "outputs": [
        {
          "output_type": "display_data",
          "data": {
            "image/png": "[encoded data removed]",
            "text/plain": [
              "<Figure size 432x288 with 1 Axes>"
            ]
          },
          "metadata": {
            "tags": []
          }
        }
      ]
    },
    {
      "cell_type": "markdown",
      "metadata": {
        "id": "mAY3QZxEkOxT",
        "colab_type": "text"
      },
      "source": [
        "##Matriz de confusión"
      ]
    },
    {
      "cell_type": "code",
      "metadata": {
        "id": "yGuajH9aH7WQ",
        "colab_type": "code",
        "colab": {
          "base_uri": "https://localhost:8080/",
          "height": 34
        },
        "outputId": "2521f217-34cf-4486-d5fe-dbd50971cd92"
      },
      "source": [
        "from sklearn.model_selection import KFold\n",
        "from sklearn import metrics\n",
        "NSplits = 10\n",
        "kf = KFold(n_splits=NSplits)\n",
        "kf.get_n_splits(X)\n",
        "print(kf)"
      ],
      "execution_count": 22,
      "outputs": [
        {
          "output_type": "stream",
          "text": [
            "KFold(n_splits=10, random_state=None, shuffle=False)\n"
          ],
          "name": "stdout"
        }
      ]
    },
    {
      "cell_type": "markdown",
      "metadata": {
        "id": "PHDgDmIgIKmU",
        "colab_type": "text"
      },
      "source": [
        "arbol de descicion"
      ]
    },
    {
      "cell_type": "code",
      "metadata": {
        "id": "2H6xWNKZmdvx",
        "colab_type": "code",
        "colab": {
          "base_uri": "https://localhost:8080/",
          "height": 204
        },
        "outputId": "455113a0-04ba-4e83-8201-0cc42471b167"
      },
      "source": [
        "AccTotal = 0\n",
        "for train_index, test_index in kf.split(X):\n",
        "  #print(\"TRAIN:\", train_index, \"TEST:\", test_index)\n",
        "  X_train, X_test = X.iloc[train_index], X.iloc[test_index]\n",
        "  y_train, y_test = y[train_index], y[test_index]\n",
        "  \n",
        "  arbol3 = DecisionTreeClassifier(max_depth=5)\n",
        "  arbol3.fit(X_train,y_train)\n",
        "\n",
        "  y_pred = arbol3.predict(X_test)\n",
        "  AccFolder = metrics.accuracy_score(y_test, y_pred)*100\n",
        "  print(\"Accuracy Folder\", AccFolder)\n",
        "  \n",
        "  AccTotal += AccFolder\n",
        "  \n",
        "print(\"Accuracy General:\", AccTotal/NSplits)"
      ],
      "execution_count": 26,
      "outputs": [
        {
          "output_type": "stream",
          "text": [
            "Accuracy Folder 82.5\n",
            "Accuracy Folder 82.0\n",
            "Accuracy Folder 85.0\n",
            "Accuracy Folder 84.0\n",
            "Accuracy Folder 82.5\n",
            "Accuracy Folder 80.5\n",
            "Accuracy Folder 84.0\n",
            "Accuracy Folder 82.5\n",
            "Accuracy Folder 81.0\n",
            "Accuracy Folder 79.5\n",
            "Accuracy General: 82.35\n"
          ],
          "name": "stdout"
        }
      ]
    },
    {
      "cell_type": "markdown",
      "metadata": {
        "id": "BS0WEbAtIMxb",
        "colab_type": "text"
      },
      "source": [
        ""
      ]
    },
    {
      "cell_type": "code",
      "metadata": {
        "id": "zOtA00cOIOYL",
        "colab_type": "code",
        "colab": {}
      },
      "source": [
        ""
      ],
      "execution_count": 0,
      "outputs": []
    },
    {
      "cell_type": "code",
      "metadata": {
        "id": "Ac2mXmDRIDZt",
        "colab_type": "code",
        "colab": {
          "base_uri": "https://localhost:8080/",
          "height": 295
        },
        "outputId": "97095713-4758-4ba0-8931-4bed58f067f8"
      },
      "source": [
        "# Grafico de ajuste del árbol de decisión\n",
        "train_prec =  []\n",
        "eval_prec = []\n",
        "max_deep_list = list(range(2, 20))\n",
        "\n",
        "for deep in max_deep_list:\n",
        "    arbol3 = DecisionTreeClassifier(max_depth=deep)\n",
        "    arbol3.fit(X_train,y_train)\n",
        "    train_prec.append(arbol3.score(X_train, y_train))\n",
        "    eval_prec.append(arbol3.score(X_test, y_test))\n",
        "\n",
        "# graficar los resultados.\n",
        "plt.plot(max_deep_list, train_prec, color='r', label='entrenamiento')\n",
        "plt.plot(max_deep_list, eval_prec, color='b', label='evaluacion')\n",
        "plt.title('Grafico de ajuste arbol de decision')\n",
        "plt.legend()\n",
        "plt.grid()\n",
        "plt.xticks(list(range(len(max_deep_list))),max_deep_list)\n",
        "plt.ylabel('Score')\n",
        "plt.xlabel('Cant de nodos')\n",
        "plt.show()"
      ],
      "execution_count": 27,
      "outputs": [
        {
          "output_type": "display_data",
          "data": {
            "image/png": "[encoded data removed]",
            "text/plain": [
              "<Figure size 432x288 with 1 Axes>"
            ]
          },
          "metadata": {
            "tags": []
          }
        }
      ]
    },
    {
      "cell_type": "markdown",
      "metadata": {
        "id": "jW5I4LezISU0",
        "colab_type": "text"
      },
      "source": [
        "knn"
      ]
    },
    {
      "cell_type": "code",
      "metadata": {
        "id": "uFMoAxqTITf9",
        "colab_type": "code",
        "colab": {}
      },
      "source": [
        "from sklearn.preprocessing import MinMaxScaler\n",
        "scaler = MinMaxScaler()\n",
        "X = pd.DataFrame(scaler.fit_transform(X))"
      ],
      "execution_count": 0,
      "outputs": []
    },
    {
      "cell_type": "code",
      "metadata": {
        "id": "FxddjuhXIYxW",
        "colab_type": "code",
        "colab": {
          "base_uri": "https://localhost:8080/",
          "height": 34
        },
        "outputId": "1c1ce150-f8e8-4a52-8956-eee446a05efc"
      },
      "source": [
        "from sklearn.model_selection import KFold\n",
        "from sklearn import metrics\n",
        "NSplits = 10\n",
        "kf = KFold(n_splits=NSplits)\n",
        "kf.get_n_splits(X)\n",
        "print(kf)"
      ],
      "execution_count": 32,
      "outputs": [
        {
          "output_type": "stream",
          "text": [
            "KFold(n_splits=10, random_state=None, shuffle=False)\n"
          ],
          "name": "stdout"
        }
      ]
    },
    {
      "cell_type": "code",
      "metadata": {
        "id": "aoC6XCt5IaoU",
        "colab_type": "code",
        "colab": {
          "base_uri": "https://localhost:8080/",
          "height": 231
        },
        "outputId": "d7119e5b-484b-4f63-b2f6-53a4bd2ea809"
      },
      "source": [
        "AccTotal = 0\n",
        "for train_index, test_index in kf.split(X):\n",
        "  #print(\"TRAIN:\", train_index, \"TEST:\", test_index)\n",
        "  X_train, X_test = X.iloc[train_index], X.iloc[test_index]\n",
        "  y_train, y_test = y[train_index], y[test_index]\n",
        "  \n",
        "  classifier3 = KNeighborsClassifier(n_neighbors=7,weights='distance',metric='cosine')\n",
        "  classifier3.fit(X_train, y_train)\n",
        "\n",
        "  y_pred = classifier3.predict(X_test)\n",
        "  AccFolder = metrics.accuracy_score(y_test, y_pred)*100\n",
        "  print(\"Accuracy Folder\", AccFolder)\n",
        "  \n",
        "  AccTotal += AccFolder\n",
        "  \n",
        "print(\"Accuracy General:\", AccTotal/NSplits)"
      ],
      "execution_count": 33,
      "outputs": [
        {
          "output_type": "error",
          "ename": "NameError",
          "evalue": "ignored",
          "traceback": [
            "\u001b[0;31m---------------------------------------------------------------------------\u001b[0m",
            "\u001b[0;31mNameError\u001b[0m                                 Traceback (most recent call last)",
            "\u001b[0;32m<ipython-input-33-5bfdff91916f>\u001b[0m in \u001b[0;36m<module>\u001b[0;34m()\u001b[0m\n\u001b[1;32m      5\u001b[0m   \u001b[0my_train\u001b[0m\u001b[0;34m,\u001b[0m \u001b[0my_test\u001b[0m \u001b[0;34m=\u001b[0m \u001b[0my\u001b[0m\u001b[0;34m[\u001b[0m\u001b[0mtrain_index\u001b[0m\u001b[0;34m]\u001b[0m\u001b[0;34m,\u001b[0m \u001b[0my\u001b[0m\u001b[0;34m[\u001b[0m\u001b[0mtest_index\u001b[0m\u001b[0;34m]\u001b[0m\u001b[0;34m\u001b[0m\u001b[0;34m\u001b[0m\u001b[0m\n\u001b[1;32m      6\u001b[0m \u001b[0;34m\u001b[0m\u001b[0m\n\u001b[0;32m----> 7\u001b[0;31m   \u001b[0mclassifier3\u001b[0m \u001b[0;34m=\u001b[0m \u001b[0mKNeighborsClassifier\u001b[0m\u001b[0;34m(\u001b[0m\u001b[0mn_neighbors\u001b[0m\u001b[0;34m=\u001b[0m\u001b[0;36m7\u001b[0m\u001b[0;34m,\u001b[0m\u001b[0mweights\u001b[0m\u001b[0;34m=\u001b[0m\u001b[0;34m'distance'\u001b[0m\u001b[0;34m,\u001b[0m\u001b[0mmetric\u001b[0m\u001b[0;34m=\u001b[0m\u001b[0;34m'cosine'\u001b[0m\u001b[0;34m)\u001b[0m\u001b[0;34m\u001b[0m\u001b[0;34m\u001b[0m\u001b[0m\n\u001b[0m\u001b[1;32m      8\u001b[0m   \u001b[0mclassifier3\u001b[0m\u001b[0;34m.\u001b[0m\u001b[0mfit\u001b[0m\u001b[0;34m(\u001b[0m\u001b[0mX_train\u001b[0m\u001b[0;34m,\u001b[0m \u001b[0my_train\u001b[0m\u001b[0;34m)\u001b[0m\u001b[0;34m\u001b[0m\u001b[0;34m\u001b[0m\u001b[0m\n\u001b[1;32m      9\u001b[0m \u001b[0;34m\u001b[0m\u001b[0m\n",
            "\u001b[0;31mNameError\u001b[0m: name 'KNeighborsClassifier' is not defined"
          ]
        }
      ]
    },
    {
      "cell_type": "markdown",
      "metadata": {
        "id": "TJdMB36XlsIv",
        "colab_type": "text"
      },
      "source": [
        "##Cross Validation"
      ]
    },
    {
      "cell_type": "code",
      "metadata": {
        "id": "oVt9JNffmeG0",
        "colab_type": "code",
        "colab": {}
      },
      "source": [
        ""
      ],
      "execution_count": 0,
      "outputs": []
    }
  ]
}