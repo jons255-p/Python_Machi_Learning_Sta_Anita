{
  "nbformat": 4,
  "nbformat_minor": 0,
  "metadata": {
    "colab": {
      "name": "Arboles_de_Decision.ipynb",
      "provenance": [],
      "include_colab_link": true
    },
    "kernelspec": {
      "name": "python3",
      "display_name": "Python 3"
    }
  },
  "cells": [
    {
      "cell_type": "markdown",
      "metadata": {
        "id": "view-in-github",
        "colab_type": "text"
      },
      "source": [
        "<a href=\"https://colab.research.google.com/github/jons255-p/Python_Machi_Learning_Sta_Anita/blob/master/Clase_4_Arboles_de_Decision.ipynb\" target=\"_parent\"><img src=\"https://colab.research.google.com/assets/colab-badge.svg\" alt=\"Open In Colab\"/></a>"
      ]
    },
    {
      "cell_type": "markdown",
      "metadata": {
        "id": "O1sGt_eBDr0o",
        "colab_type": "text"
      },
      "source": [
        "#Arbol de Decisión"
      ]
    },
    {
      "cell_type": "code",
      "metadata": {
        "id": "0kZw-YbmC_Ko",
        "colab_type": "code",
        "colab": {}
      },
      "source": [
        "import pandas as pd"
      ],
      "execution_count": 0,
      "outputs": []
    },
    {
      "cell_type": "code",
      "metadata": {
        "id": "z3mgZ2MsDzer",
        "colab_type": "code",
        "outputId": "e58949c7-38bb-4358-f6ac-37097bd0fb12",
        "colab": {
          "base_uri": "https://localhost:8080/",
          "height": 195
        }
      },
      "source": [
        "data = pd.read_csv(\"Titanic_Limpio.csv\")\n",
        "data.head()"
      ],
      "execution_count": 2,
      "outputs": [
        {
          "output_type": "execute_result",
          "data": {
            "text/html": [
              "<div>\n",
              "<style scoped>\n",
              "    .dataframe tbody tr th:only-of-type {\n",
              "        vertical-align: middle;\n",
              "    }\n",
              "\n",
              "    .dataframe tbody tr th {\n",
              "        vertical-align: top;\n",
              "    }\n",
              "\n",
              "    .dataframe thead th {\n",
              "        text-align: right;\n",
              "    }\n",
              "</style>\n",
              "<table border=\"1\" class=\"dataframe\">\n",
              "  <thead>\n",
              "    <tr style=\"text-align: right;\">\n",
              "      <th></th>\n",
              "      <th>Survived</th>\n",
              "      <th>Pclass</th>\n",
              "      <th>Sex</th>\n",
              "      <th>SibSp</th>\n",
              "      <th>Parch</th>\n",
              "      <th>Embarked</th>\n",
              "      <th>Edad</th>\n",
              "      <th>Tarifa</th>\n",
              "      <th>Lname</th>\n",
              "      <th>NamePrefix</th>\n",
              "    </tr>\n",
              "  </thead>\n",
              "  <tbody>\n",
              "    <tr>\n",
              "      <th>0</th>\n",
              "      <td>0</td>\n",
              "      <td>3</td>\n",
              "      <td>1</td>\n",
              "      <td>1</td>\n",
              "      <td>0</td>\n",
              "      <td>2</td>\n",
              "      <td>4</td>\n",
              "      <td>0</td>\n",
              "      <td>73</td>\n",
              "      <td>11</td>\n",
              "    </tr>\n",
              "    <tr>\n",
              "      <th>1</th>\n",
              "      <td>1</td>\n",
              "      <td>1</td>\n",
              "      <td>0</td>\n",
              "      <td>1</td>\n",
              "      <td>0</td>\n",
              "      <td>0</td>\n",
              "      <td>0</td>\n",
              "      <td>3</td>\n",
              "      <td>136</td>\n",
              "      <td>12</td>\n",
              "    </tr>\n",
              "    <tr>\n",
              "      <th>2</th>\n",
              "      <td>1</td>\n",
              "      <td>3</td>\n",
              "      <td>0</td>\n",
              "      <td>0</td>\n",
              "      <td>0</td>\n",
              "      <td>2</td>\n",
              "      <td>7</td>\n",
              "      <td>0</td>\n",
              "      <td>251</td>\n",
              "      <td>8</td>\n",
              "    </tr>\n",
              "    <tr>\n",
              "      <th>3</th>\n",
              "      <td>1</td>\n",
              "      <td>1</td>\n",
              "      <td>0</td>\n",
              "      <td>1</td>\n",
              "      <td>0</td>\n",
              "      <td>2</td>\n",
              "      <td>7</td>\n",
              "      <td>3</td>\n",
              "      <td>198</td>\n",
              "      <td>12</td>\n",
              "    </tr>\n",
              "    <tr>\n",
              "      <th>4</th>\n",
              "      <td>0</td>\n",
              "      <td>3</td>\n",
              "      <td>1</td>\n",
              "      <td>0</td>\n",
              "      <td>0</td>\n",
              "      <td>2</td>\n",
              "      <td>7</td>\n",
              "      <td>1</td>\n",
              "      <td>11</td>\n",
              "      <td>11</td>\n",
              "    </tr>\n",
              "  </tbody>\n",
              "</table>\n",
              "</div>"
            ],
            "text/plain": [
              "   Survived  Pclass  Sex  SibSp  ...  Edad  Tarifa  Lname  NamePrefix\n",
              "0         0       3    1      1  ...     4       0     73          11\n",
              "1         1       1    0      1  ...     0       3    136          12\n",
              "2         1       3    0      0  ...     7       0    251           8\n",
              "3         1       1    0      1  ...     7       3    198          12\n",
              "4         0       3    1      0  ...     7       1     11          11\n",
              "\n",
              "[5 rows x 10 columns]"
            ]
          },
          "metadata": {
            "tags": []
          },
          "execution_count": 2
        }
      ]
    },
    {
      "cell_type": "code",
      "metadata": {
        "id": "c517LLpUEYX4",
        "colab_type": "code",
        "colab": {}
      },
      "source": [
        "x = data.drop('Survived', axis=1) # atributos en x (todas las columnas excepto Survived)\n",
        "y = data['Survived']    # objetivos"
      ],
      "execution_count": 0,
      "outputs": []
    },
    {
      "cell_type": "code",
      "metadata": {
        "id": "XR9qJdtUwlxR",
        "colab_type": "code",
        "colab": {
          "base_uri": "https://localhost:8080/",
          "height": 195
        },
        "outputId": "b3aae6bc-d442-4da2-b45b-4de777c5be76"
      },
      "source": [
        "x.head()"
      ],
      "execution_count": 4,
      "outputs": [
        {
          "output_type": "execute_result",
          "data": {
            "text/html": [
              "<div>\n",
              "<style scoped>\n",
              "    .dataframe tbody tr th:only-of-type {\n",
              "        vertical-align: middle;\n",
              "    }\n",
              "\n",
              "    .dataframe tbody tr th {\n",
              "        vertical-align: top;\n",
              "    }\n",
              "\n",
              "    .dataframe thead th {\n",
              "        text-align: right;\n",
              "    }\n",
              "</style>\n",
              "<table border=\"1\" class=\"dataframe\">\n",
              "  <thead>\n",
              "    <tr style=\"text-align: right;\">\n",
              "      <th></th>\n",
              "      <th>Pclass</th>\n",
              "      <th>Sex</th>\n",
              "      <th>SibSp</th>\n",
              "      <th>Parch</th>\n",
              "      <th>Embarked</th>\n",
              "      <th>Edad</th>\n",
              "      <th>Tarifa</th>\n",
              "      <th>Lname</th>\n",
              "      <th>NamePrefix</th>\n",
              "    </tr>\n",
              "  </thead>\n",
              "  <tbody>\n",
              "    <tr>\n",
              "      <th>0</th>\n",
              "      <td>3</td>\n",
              "      <td>1</td>\n",
              "      <td>1</td>\n",
              "      <td>0</td>\n",
              "      <td>2</td>\n",
              "      <td>4</td>\n",
              "      <td>0</td>\n",
              "      <td>73</td>\n",
              "      <td>11</td>\n",
              "    </tr>\n",
              "    <tr>\n",
              "      <th>1</th>\n",
              "      <td>1</td>\n",
              "      <td>0</td>\n",
              "      <td>1</td>\n",
              "      <td>0</td>\n",
              "      <td>0</td>\n",
              "      <td>0</td>\n",
              "      <td>3</td>\n",
              "      <td>136</td>\n",
              "      <td>12</td>\n",
              "    </tr>\n",
              "    <tr>\n",
              "      <th>2</th>\n",
              "      <td>3</td>\n",
              "      <td>0</td>\n",
              "      <td>0</td>\n",
              "      <td>0</td>\n",
              "      <td>2</td>\n",
              "      <td>7</td>\n",
              "      <td>0</td>\n",
              "      <td>251</td>\n",
              "      <td>8</td>\n",
              "    </tr>\n",
              "    <tr>\n",
              "      <th>3</th>\n",
              "      <td>1</td>\n",
              "      <td>0</td>\n",
              "      <td>1</td>\n",
              "      <td>0</td>\n",
              "      <td>2</td>\n",
              "      <td>7</td>\n",
              "      <td>3</td>\n",
              "      <td>198</td>\n",
              "      <td>12</td>\n",
              "    </tr>\n",
              "    <tr>\n",
              "      <th>4</th>\n",
              "      <td>3</td>\n",
              "      <td>1</td>\n",
              "      <td>0</td>\n",
              "      <td>0</td>\n",
              "      <td>2</td>\n",
              "      <td>7</td>\n",
              "      <td>1</td>\n",
              "      <td>11</td>\n",
              "      <td>11</td>\n",
              "    </tr>\n",
              "  </tbody>\n",
              "</table>\n",
              "</div>"
            ],
            "text/plain": [
              "   Pclass  Sex  SibSp  Parch  Embarked  Edad  Tarifa  Lname  NamePrefix\n",
              "0       3    1      1      0         2     4       0     73          11\n",
              "1       1    0      1      0         0     0       3    136          12\n",
              "2       3    0      0      0         2     7       0    251           8\n",
              "3       1    0      1      0         2     7       3    198          12\n",
              "4       3    1      0      0         2     7       1     11          11"
            ]
          },
          "metadata": {
            "tags": []
          },
          "execution_count": 4
        }
      ]
    },
    {
      "cell_type": "code",
      "metadata": {
        "id": "scCg-BnZwpGG",
        "colab_type": "code",
        "colab": {
          "base_uri": "https://localhost:8080/",
          "height": 118
        },
        "outputId": "0bc25ae6-4b2d-4778-a02d-a7439f02ecef"
      },
      "source": [
        "y.head() # solo es una serie"
      ],
      "execution_count": 6,
      "outputs": [
        {
          "output_type": "execute_result",
          "data": {
            "text/plain": [
              "0    0\n",
              "1    1\n",
              "2    1\n",
              "3    1\n",
              "4    0\n",
              "Name: Survived, dtype: int64"
            ]
          },
          "metadata": {
            "tags": []
          },
          "execution_count": 6
        }
      ]
    },
    {
      "cell_type": "code",
      "metadata": {
        "id": "eaq4IgFwTm7r",
        "colab_type": "code",
        "outputId": "e03ce483-23ff-4375-fe45-ea49e8ece426",
        "colab": {
          "base_uri": "https://localhost:8080/",
          "height": 67
        }
      },
      "source": [
        "x['Sex'].value_counts()"
      ],
      "execution_count": 7,
      "outputs": [
        {
          "output_type": "execute_result",
          "data": {
            "text/plain": [
              "1    577\n",
              "0    314\n",
              "Name: Sex, dtype: int64"
            ]
          },
          "metadata": {
            "tags": []
          },
          "execution_count": 7
        }
      ]
    },
    {
      "cell_type": "markdown",
      "metadata": {
        "id": "ftiBPROXNo4X",
        "colab_type": "text"
      },
      "source": [
        "DecisionTreeClassifier toma como entrada dos matrices: una matriz X de tamaño [n_samples, n_features] que contiene las muestras de entrenamiento, y una matriz Y de valores enteros, tamaño [n_samples], que contiene las etiquetas de clase para las muestras de entrenamiento:"
      ]
    },
    {
      "cell_type": "code",
      "metadata": {
        "id": "XFSgaAfhEmcD",
        "colab_type": "code",
        "colab": {}
      },
      "source": [
        "from sklearn import tree\n",
        "m = tree.DecisionTreeClassifier(max_depth=3)  # nivel ==fila del arbol (max_depth)\n",
        "m = m.fit(x,y)"
      ],
      "execution_count": 0,
      "outputs": []
    },
    {
      "cell_type": "code",
      "metadata": {
        "id": "ZMIDu-9rWGyc",
        "colab_type": "code",
        "outputId": "55942675-8a27-45de-f8a7-1849c46c14f3",
        "colab": {
          "base_uri": "https://localhost:8080/",
          "height": 34
        }
      },
      "source": [
        "m.tree_.max_depth  # sin max sale 20 (mayor score 0.99), con max_depth=6 (menor score 0.87)"
      ],
      "execution_count": 22,
      "outputs": [
        {
          "output_type": "execute_result",
          "data": {
            "text/plain": [
              "3"
            ]
          },
          "metadata": {
            "tags": []
          },
          "execution_count": 22
        }
      ]
    },
    {
      "cell_type": "markdown",
      "metadata": {
        "id": "E9U0hFK8VQKr",
        "colab_type": "text"
      },
      "source": [
        "(fraction of correct predictions): correct predictions / total number of data points"
      ]
    },
    {
      "cell_type": "code",
      "metadata": {
        "id": "v2zbOs85GELP",
        "colab_type": "code",
        "outputId": "de9d6140-9b79-4447-e841-7a72f73aa8a8",
        "colab": {
          "base_uri": "https://localhost:8080/",
          "height": 34
        }
      },
      "source": [
        "m.score(x,y) # predicion de datos en funcion de las datas (la data es la misma) no tiene data de entrenamiento ni data de prediccion"
      ],
      "execution_count": 23,
      "outputs": [
        {
          "output_type": "execute_result",
          "data": {
            "text/plain": [
              "0.8316498316498316"
            ]
          },
          "metadata": {
            "tags": []
          },
          "execution_count": 23
        }
      ]
    },
    {
      "cell_type": "code",
      "metadata": {
        "id": "RRrlNGRxE6j-",
        "colab_type": "code",
        "outputId": "2dda7afd-2ce0-4522-e310-02d47000da0d",
        "colab": {
          "base_uri": "https://localhost:8080/",
          "height": 34
        }
      },
      "source": [
        "m.predict([x.iloc[8]])"
      ],
      "execution_count": 24,
      "outputs": [
        {
          "output_type": "execute_result",
          "data": {
            "text/plain": [
              "array([0])"
            ]
          },
          "metadata": {
            "tags": []
          },
          "execution_count": 24
        }
      ]
    },
    {
      "cell_type": "code",
      "metadata": {
        "id": "eQnPKRa7GjLz",
        "colab_type": "code",
        "outputId": "20bb676c-8d69-4732-8f13-183d7b581790",
        "colab": {
          "base_uri": "https://localhost:8080/",
          "height": 285
        }
      },
      "source": [
        "arbol = tree.plot_tree(m.fit(x,y),filled=True)  \n",
        "print(arbol)"
      ],
      "execution_count": 25,
      "outputs": [
        {
          "output_type": "stream",
          "text": [
            "[Text(167.4, 190.26, 'X[1] <= 0.5\\ngini = 0.473\\nsamples = 891\\nvalue = [549, 342]'), Text(83.7, 135.9, 'X[0] <= 2.5\\ngini = 0.383\\nsamples = 314\\nvalue = [81, 233]'), Text(41.85, 81.53999999999999, 'X[7] <= 656.0\\ngini = 0.1\\nsamples = 170\\nvalue = [9, 161]'), Text(20.925, 27.180000000000007, 'gini = 0.09\\nsamples = 169\\nvalue = [8, 161]'), Text(62.775000000000006, 27.180000000000007, 'gini = 0.0\\nsamples = 1\\nvalue = [1, 0]'), Text(125.55000000000001, 81.53999999999999, 'X[4] <= 1.5\\ngini = 0.5\\nsamples = 144\\nvalue = [72, 72]'), Text(104.625, 27.180000000000007, 'gini = 0.423\\nsamples = 56\\nvalue = [17, 39]'), Text(146.475, 27.180000000000007, 'gini = 0.469\\nsamples = 88\\nvalue = [55, 33]'), Text(251.10000000000002, 135.9, 'X[8] <= 9.0\\ngini = 0.306\\nsamples = 577\\nvalue = [468, 109]'), Text(209.25, 81.53999999999999, 'X[2] <= 2.5\\ngini = 0.5\\nsamples = 53\\nvalue = [26, 27]'), Text(188.32500000000002, 27.180000000000007, 'gini = 0.382\\nsamples = 35\\nvalue = [9, 26]'), Text(230.175, 27.180000000000007, 'gini = 0.105\\nsamples = 18\\nvalue = [17, 1]'), Text(292.95, 81.53999999999999, 'X[0] <= 1.5\\ngini = 0.264\\nsamples = 524\\nvalue = [442, 82]'), Text(272.02500000000003, 27.180000000000007, 'gini = 0.456\\nsamples = 108\\nvalue = [70, 38]'), Text(313.875, 27.180000000000007, 'gini = 0.189\\nsamples = 416\\nvalue = [372, 44]')]\n"
          ],
          "name": "stdout"
        },
        {
          "output_type": "display_data",
          "data": {
            "image/png": "[encoded data removed]",
            "text/plain": [
              "<Figure size 432x288 with 1 Axes>"
            ]
          },
          "metadata": {
            "tags": []
          }
        }
      ]
    },
    {
      "cell_type": "code",
      "metadata": {
        "id": "RKJ8gjOyIX_w",
        "colab_type": "code",
        "outputId": "a38e48c5-77d8-450b-d3df-1144264bdbb5",
        "colab": {
          "base_uri": "https://localhost:8080/",
          "height": 34
        }
      },
      "source": [
        "import graphviz \n",
        "dot_data = tree.export_graphviz(m,feature_names= x.columns, class_names= ['Muerto','Vivo'],filled=True, rounded=True,special_characters=True) \n",
        "graph = graphviz.Source(dot_data) \n",
        "graph\n",
        "graph.render(\"arbol\",format='png') "
      ],
      "execution_count": 27,
      "outputs": [
        {
          "output_type": "execute_result",
          "data": {
            "text/plain": [
              "'arbol.png'"
            ]
          },
          "metadata": {
            "tags": []
          },
          "execution_count": 27
        }
      ]
    },
    {
      "cell_type": "markdown",
      "metadata": {
        "id": "TN-v94An1Dsp",
        "colab_type": "text"
      },
      "source": [
        "Arbol de decision mayor"
      ]
    },
    {
      "cell_type": "code",
      "metadata": {
        "id": "i509YC8L1Gio",
        "colab_type": "code",
        "colab": {}
      },
      "source": [
        "from sklearn import tree\n",
        "m = tree.DecisionTreeClassifier(max_depth=8)  # nivel ==fila del arbol (max_depth)\n",
        "m = m.fit(x,y)"
      ],
      "execution_count": 0,
      "outputs": []
    },
    {
      "cell_type": "code",
      "metadata": {
        "id": "16NqfrvD1PLT",
        "colab_type": "code",
        "colab": {
          "base_uri": "https://localhost:8080/",
          "height": 34
        },
        "outputId": "e51e4036-0943-4add-e580-1d48708a852e"
      },
      "source": [
        "m.tree_.max_depth "
      ],
      "execution_count": 29,
      "outputs": [
        {
          "output_type": "execute_result",
          "data": {
            "text/plain": [
              "8"
            ]
          },
          "metadata": {
            "tags": []
          },
          "execution_count": 29
        }
      ]
    },
    {
      "cell_type": "code",
      "metadata": {
        "id": "X1LxgIgm1TMJ",
        "colab_type": "code",
        "colab": {
          "base_uri": "https://localhost:8080/",
          "height": 34
        },
        "outputId": "6e5cc05a-b3da-45a8-d1a2-856416181ff6"
      },
      "source": [
        "m.score(x,y)"
      ],
      "execution_count": 30,
      "outputs": [
        {
          "output_type": "execute_result",
          "data": {
            "text/plain": [
              "0.9102132435465768"
            ]
          },
          "metadata": {
            "tags": []
          },
          "execution_count": 30
        }
      ]
    },
    {
      "cell_type": "code",
      "metadata": {
        "id": "oAXkvBh31X80",
        "colab_type": "code",
        "colab": {
          "base_uri": "https://localhost:8080/",
          "height": 34
        },
        "outputId": "99d77914-84a5-49b2-e802-9d01f3db521d"
      },
      "source": [
        "m.predict([x.iloc[8]])"
      ],
      "execution_count": 31,
      "outputs": [
        {
          "output_type": "execute_result",
          "data": {
            "text/plain": [
              "array([0])"
            ]
          },
          "metadata": {
            "tags": []
          },
          "execution_count": 31
        }
      ]
    },
    {
      "cell_type": "code",
      "metadata": {
        "id": "ugAgr8Ar1dki",
        "colab_type": "code",
        "colab": {
          "base_uri": "https://localhost:8080/",
          "height": 34
        },
        "outputId": "7b48683d-d44c-49f7-8752-935554a0fad5"
      },
      "source": [
        "import graphviz \n",
        "dot_data = tree.export_graphviz(m,feature_names= x.columns, class_names= ['Muerto','Vivo'],filled=True, rounded=True,special_characters=True) \n",
        "graph = graphviz.Source(dot_data) \n",
        "graph\n",
        "graph.render(\"arbol\",format='png')"
      ],
      "execution_count": 32,
      "outputs": [
        {
          "output_type": "execute_result",
          "data": {
            "text/plain": [
              "'arbol.png'"
            ]
          },
          "metadata": {
            "tags": []
          },
          "execution_count": 32
        }
      ]
    },
    {
      "cell_type": "code",
      "metadata": {
        "id": "5m5O15iY2Xxo",
        "colab_type": "code",
        "colab": {
          "base_uri": "https://localhost:8080/",
          "height": 77
        },
        "outputId": "4b85bb5d-fdcd-493e-d58c-988d62dd5d39"
      },
      "source": [
        "x.sample()"
      ],
      "execution_count": 33,
      "outputs": [
        {
          "output_type": "execute_result",
          "data": {
            "text/html": [
              "<div>\n",
              "<style scoped>\n",
              "    .dataframe tbody tr th:only-of-type {\n",
              "        vertical-align: middle;\n",
              "    }\n",
              "\n",
              "    .dataframe tbody tr th {\n",
              "        vertical-align: top;\n",
              "    }\n",
              "\n",
              "    .dataframe thead th {\n",
              "        text-align: right;\n",
              "    }\n",
              "</style>\n",
              "<table border=\"1\" class=\"dataframe\">\n",
              "  <thead>\n",
              "    <tr style=\"text-align: right;\">\n",
              "      <th></th>\n",
              "      <th>Pclass</th>\n",
              "      <th>Sex</th>\n",
              "      <th>SibSp</th>\n",
              "      <th>Parch</th>\n",
              "      <th>Embarked</th>\n",
              "      <th>Edad</th>\n",
              "      <th>Tarifa</th>\n",
              "      <th>Lname</th>\n",
              "      <th>NamePrefix</th>\n",
              "    </tr>\n",
              "  </thead>\n",
              "  <tbody>\n",
              "    <tr>\n",
              "      <th>712</th>\n",
              "      <td>1</td>\n",
              "      <td>1</td>\n",
              "      <td>1</td>\n",
              "      <td>0</td>\n",
              "      <td>2</td>\n",
              "      <td>0</td>\n",
              "      <td>3</td>\n",
              "      <td>596</td>\n",
              "      <td>11</td>\n",
              "    </tr>\n",
              "  </tbody>\n",
              "</table>\n",
              "</div>"
            ],
            "text/plain": [
              "     Pclass  Sex  SibSp  Parch  Embarked  Edad  Tarifa  Lname  NamePrefix\n",
              "712       1    1      1      0         2     0       3    596          11"
            ]
          },
          "metadata": {
            "tags": []
          },
          "execution_count": 33
        }
      ]
    },
    {
      "cell_type": "code",
      "metadata": {
        "id": "UcyQ5gJI2a49",
        "colab_type": "code",
        "colab": {
          "base_uri": "https://localhost:8080/",
          "height": 34
        },
        "outputId": "70ca0fcd-09df-4efb-f9f4-85a05d5be693"
      },
      "source": [
        "y[712]"
      ],
      "execution_count": 36,
      "outputs": [
        {
          "output_type": "execute_result",
          "data": {
            "text/plain": [
              "1"
            ]
          },
          "metadata": {
            "tags": []
          },
          "execution_count": 36
        }
      ]
    },
    {
      "cell_type": "code",
      "metadata": {
        "id": "68_1xKD42c05",
        "colab_type": "code",
        "colab": {
          "base_uri": "https://localhost:8080/",
          "height": 34
        },
        "outputId": "90500bbe-f2b2-41ac-d9a1-8ede928a9cd3"
      },
      "source": [
        "m.predict([[1,1,1,0,2,0,3,596,11]])"
      ],
      "execution_count": 38,
      "outputs": [
        {
          "output_type": "execute_result",
          "data": {
            "text/plain": [
              "array([1])"
            ]
          },
          "metadata": {
            "tags": []
          },
          "execution_count": 38
        }
      ]
    },
    {
      "cell_type": "code",
      "metadata": {
        "id": "kjeIYd_R3Cfg",
        "colab_type": "code",
        "colab": {}
      },
      "source": [
        "sample"
      ],
      "execution_count": 0,
      "outputs": []
    },
    {
      "cell_type": "markdown",
      "metadata": {
        "id": "tYdN0DcJ3-qZ",
        "colab_type": "text"
      },
      "source": [
        "Gini= debe disminuir para predecir mejor"
      ]
    },
    {
      "cell_type": "markdown",
      "metadata": {
        "id": "zEqkmKLU4Dsp",
        "colab_type": "text"
      },
      "source": [
        "Muestra=cantidad=88\n",
        "valor=[55,33]\n",
        "P=55/88\n",
        "G=1-P\n",
        "Clase=Vivo o muerto\n",
        "```\n",
        "\n"
      ]
    },
    {
      "cell_type": "markdown",
      "metadata": {
        "id": "96MgCGSo4vxJ",
        "colab_type": "text"
      },
      "source": [
        "Mas grande"
      ]
    },
    {
      "cell_type": "markdown",
      "metadata": {
        "id": "Lld0Qw0t5QCk",
        "colab_type": "text"
      },
      "source": [
        "**Mayor profundidad --- menor gini**"
      ]
    },
    {
      "cell_type": "code",
      "metadata": {
        "id": "bxp2mGgc4CkU",
        "colab_type": "code",
        "colab": {}
      },
      "source": [
        "from sklearn import tree\n",
        "m = tree.DecisionTreeClassifier(max_depth=20)  # nivel ==fila del arbol (max_depth)\n",
        "m = m.fit(x,y)"
      ],
      "execution_count": 0,
      "outputs": []
    },
    {
      "cell_type": "code",
      "metadata": {
        "id": "Jaecm10G43s-",
        "colab_type": "code",
        "colab": {
          "base_uri": "https://localhost:8080/",
          "height": 34
        },
        "outputId": "6031fa45-acac-4380-82d5-098848ade178"
      },
      "source": [
        "m.score(x,y)"
      ],
      "execution_count": 40,
      "outputs": [
        {
          "output_type": "execute_result",
          "data": {
            "text/plain": [
              "0.9988776655443322"
            ]
          },
          "metadata": {
            "tags": []
          },
          "execution_count": 40
        }
      ]
    },
    {
      "cell_type": "code",
      "metadata": {
        "id": "PPNSFCxy471Z",
        "colab_type": "code",
        "colab": {
          "base_uri": "https://localhost:8080/",
          "height": 34
        },
        "outputId": "7c05cf03-a948-4202-89d9-1cb417d17473"
      },
      "source": [
        "import graphviz \n",
        "dot_data = tree.export_graphviz(m,feature_names= x.columns, class_names= ['Muerto','Vivo'],filled=True, rounded=True,special_characters=True) \n",
        "graph = graphviz.Source(dot_data) \n",
        "graph\n",
        "graph.render(\"arbol\",format='png')"
      ],
      "execution_count": 41,
      "outputs": [
        {
          "output_type": "execute_result",
          "data": {
            "text/plain": [
              "'arbol.png'"
            ]
          },
          "metadata": {
            "tags": []
          },
          "execution_count": 41
        }
      ]
    }
  ]
}