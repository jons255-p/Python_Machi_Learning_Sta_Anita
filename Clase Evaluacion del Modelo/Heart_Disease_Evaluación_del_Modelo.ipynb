{
  "nbformat": 4,
  "nbformat_minor": 0,
  "metadata": {
    "colab": {
      "name": "Heart Disease - Evaluación del Modelo.ipynb",
      "provenance": []
    },
    "kernelspec": {
      "name": "python3",
      "display_name": "Python 3"
    }
  },
  "cells": [
    {
      "cell_type": "markdown",
      "metadata": {
        "id": "uikFjT6EZI7W",
        "colab_type": "text"
      },
      "source": [
        "#Heart Disease"
      ]
    },
    {
      "cell_type": "markdown",
      "metadata": {
        "id": "nLqvvPYvrGGw",
        "colab_type": "text"
      },
      "source": [
        "##Diccionario de Datos"
      ]
    },
    {
      "cell_type": "markdown",
      "metadata": {
        "id": "RTgSj1qNq0dw",
        "colab_type": "text"
      },
      "source": [
        "![texto alternativo](https://drive.google.com/uc?id=1MAv6FaCNK0YjjU1LEbJpv3z1Y4pii9SH)"
      ]
    },
    {
      "cell_type": "markdown",
      "metadata": {
        "id": "g1sEgC2uZW8_",
        "colab_type": "text"
      },
      "source": [
        "##Importar Data"
      ]
    },
    {
      "cell_type": "code",
      "metadata": {
        "id": "uf3yh4SyVqK6",
        "colab_type": "code",
        "colab": {}
      },
      "source": [
        "import pandas as pd"
      ],
      "execution_count": 0,
      "outputs": []
    },
    {
      "cell_type": "code",
      "metadata": {
        "id": "V72DWDWnY9mE",
        "colab_type": "code",
        "colab": {
          "base_uri": "https://localhost:8080/",
          "height": 206
        },
        "outputId": "6ba50928-c927-4f0b-f72f-99538ad00445"
      },
      "source": [
        "df = pd.read_csv(\"heart.csv\")\n",
        "df.head()"
      ],
      "execution_count": 204,
      "outputs": [
        {
          "output_type": "execute_result",
          "data": {
            "text/html": [
              "<div>\n",
              "<style scoped>\n",
              "    .dataframe tbody tr th:only-of-type {\n",
              "        vertical-align: middle;\n",
              "    }\n",
              "\n",
              "    .dataframe tbody tr th {\n",
              "        vertical-align: top;\n",
              "    }\n",
              "\n",
              "    .dataframe thead th {\n",
              "        text-align: right;\n",
              "    }\n",
              "</style>\n",
              "<table border=\"1\" class=\"dataframe\">\n",
              "  <thead>\n",
              "    <tr style=\"text-align: right;\">\n",
              "      <th></th>\n",
              "      <th>age</th>\n",
              "      <th>sex</th>\n",
              "      <th>cp</th>\n",
              "      <th>trestbps</th>\n",
              "      <th>chol</th>\n",
              "      <th>fbs</th>\n",
              "      <th>restecg</th>\n",
              "      <th>thalach</th>\n",
              "      <th>exang</th>\n",
              "      <th>oldpeak</th>\n",
              "      <th>slope</th>\n",
              "      <th>ca</th>\n",
              "      <th>thal</th>\n",
              "      <th>target</th>\n",
              "    </tr>\n",
              "  </thead>\n",
              "  <tbody>\n",
              "    <tr>\n",
              "      <th>0</th>\n",
              "      <td>63</td>\n",
              "      <td>1</td>\n",
              "      <td>3</td>\n",
              "      <td>145</td>\n",
              "      <td>233</td>\n",
              "      <td>1</td>\n",
              "      <td>0</td>\n",
              "      <td>150</td>\n",
              "      <td>0</td>\n",
              "      <td>2.3</td>\n",
              "      <td>0</td>\n",
              "      <td>0</td>\n",
              "      <td>1</td>\n",
              "      <td>1</td>\n",
              "    </tr>\n",
              "    <tr>\n",
              "      <th>1</th>\n",
              "      <td>37</td>\n",
              "      <td>1</td>\n",
              "      <td>2</td>\n",
              "      <td>130</td>\n",
              "      <td>250</td>\n",
              "      <td>0</td>\n",
              "      <td>1</td>\n",
              "      <td>187</td>\n",
              "      <td>0</td>\n",
              "      <td>3.5</td>\n",
              "      <td>0</td>\n",
              "      <td>0</td>\n",
              "      <td>2</td>\n",
              "      <td>1</td>\n",
              "    </tr>\n",
              "    <tr>\n",
              "      <th>2</th>\n",
              "      <td>41</td>\n",
              "      <td>0</td>\n",
              "      <td>1</td>\n",
              "      <td>130</td>\n",
              "      <td>204</td>\n",
              "      <td>0</td>\n",
              "      <td>0</td>\n",
              "      <td>172</td>\n",
              "      <td>0</td>\n",
              "      <td>1.4</td>\n",
              "      <td>2</td>\n",
              "      <td>0</td>\n",
              "      <td>2</td>\n",
              "      <td>1</td>\n",
              "    </tr>\n",
              "    <tr>\n",
              "      <th>3</th>\n",
              "      <td>56</td>\n",
              "      <td>1</td>\n",
              "      <td>1</td>\n",
              "      <td>120</td>\n",
              "      <td>236</td>\n",
              "      <td>0</td>\n",
              "      <td>1</td>\n",
              "      <td>178</td>\n",
              "      <td>0</td>\n",
              "      <td>0.8</td>\n",
              "      <td>2</td>\n",
              "      <td>0</td>\n",
              "      <td>2</td>\n",
              "      <td>1</td>\n",
              "    </tr>\n",
              "    <tr>\n",
              "      <th>4</th>\n",
              "      <td>57</td>\n",
              "      <td>0</td>\n",
              "      <td>0</td>\n",
              "      <td>120</td>\n",
              "      <td>354</td>\n",
              "      <td>0</td>\n",
              "      <td>1</td>\n",
              "      <td>163</td>\n",
              "      <td>1</td>\n",
              "      <td>0.6</td>\n",
              "      <td>2</td>\n",
              "      <td>0</td>\n",
              "      <td>2</td>\n",
              "      <td>1</td>\n",
              "    </tr>\n",
              "  </tbody>\n",
              "</table>\n",
              "</div>"
            ],
            "text/plain": [
              "   age  sex  cp  trestbps  chol  fbs  ...  exang  oldpeak  slope  ca  thal  target\n",
              "0   63    1   3       145   233    1  ...      0      2.3      0   0     1       1\n",
              "1   37    1   2       130   250    0  ...      0      3.5      0   0     2       1\n",
              "2   41    0   1       130   204    0  ...      0      1.4      2   0     2       1\n",
              "3   56    1   1       120   236    0  ...      0      0.8      2   0     2       1\n",
              "4   57    0   0       120   354    0  ...      1      0.6      2   0     2       1\n",
              "\n",
              "[5 rows x 14 columns]"
            ]
          },
          "metadata": {
            "tags": []
          },
          "execution_count": 204
        }
      ]
    },
    {
      "cell_type": "markdown",
      "metadata": {
        "id": "y4_8lwjZZgGm",
        "colab_type": "text"
      },
      "source": [
        "##Data Train y Data Test"
      ]
    },
    {
      "cell_type": "code",
      "metadata": {
        "id": "ToP3AbajZISO",
        "colab_type": "code",
        "colab": {}
      },
      "source": [
        "X=df.drop(['target'],axis=1)\n",
        "y=df['target']"
      ],
      "execution_count": 0,
      "outputs": []
    },
    {
      "cell_type": "code",
      "metadata": {
        "id": "4vMium1eZ164",
        "colab_type": "code",
        "colab": {
          "base_uri": "https://localhost:8080/",
          "height": 54
        },
        "outputId": "39a8af12-d4e2-4c54-fa4b-cf8714f4bfc3"
      },
      "source": [
        "from sklearn.model_selection import train_test_split\n",
        "X_train, X_test, y_train, y_test = train_test_split(X, y, test_size=0.20,random_state=8)#5,8,13\n",
        "print(\"X_train shape:\",X_train.shape)\n",
        "print(\"X_test shape:\",X_test.shape)"
      ],
      "execution_count": 206,
      "outputs": [
        {
          "output_type": "stream",
          "text": [
            "X_train shape: (242, 13)\n",
            "X_test shape: (61, 13)\n"
          ],
          "name": "stdout"
        }
      ]
    },
    {
      "cell_type": "markdown",
      "metadata": {
        "id": "f30apGAUZ5J4",
        "colab_type": "text"
      },
      "source": [
        "##Normalizar Data"
      ]
    },
    {
      "cell_type": "code",
      "metadata": {
        "id": "qVuAw-PZZ3Zd",
        "colab_type": "code",
        "colab": {}
      },
      "source": [
        "from sklearn.preprocessing import MinMaxScaler\n",
        "scaler = MinMaxScaler()\n",
        "X_train = pd.DataFrame(scaler.fit_transform(X_train))\n",
        "X_test = pd.DataFrame(scaler.transform(X_test))"
      ],
      "execution_count": 0,
      "outputs": []
    },
    {
      "cell_type": "markdown",
      "metadata": {
        "id": "NaJoY3nxZ7se",
        "colab_type": "text"
      },
      "source": [
        "##KNN"
      ]
    },
    {
      "cell_type": "code",
      "metadata": {
        "id": "dBMNJVUfZ9Ue",
        "colab_type": "code",
        "colab": {
          "base_uri": "https://localhost:8080/",
          "height": 72
        },
        "outputId": "4fdbe920-9f09-4997-9396-912b19407fc1"
      },
      "source": [
        "from sklearn.neighbors import KNeighborsClassifier\n",
        "classifier = KNeighborsClassifier(n_neighbors=7,weights='distance',metric='euclidean')\n",
        "classifier.fit(X_train, y_train)"
      ],
      "execution_count": 208,
      "outputs": [
        {
          "output_type": "execute_result",
          "data": {
            "text/plain": [
              "KNeighborsClassifier(algorithm='auto', leaf_size=30, metric='euclidean',\n",
              "                     metric_params=None, n_jobs=None, n_neighbors=7, p=2,\n",
              "                     weights='distance')"
            ]
          },
          "metadata": {
            "tags": []
          },
          "execution_count": 208
        }
      ]
    },
    {
      "cell_type": "code",
      "metadata": {
        "id": "GeaBEv07Z-nq",
        "colab_type": "code",
        "colab": {
          "base_uri": "https://localhost:8080/",
          "height": 35
        },
        "outputId": "62551c01-07dc-472e-e5ff-ad149da1b7b0"
      },
      "source": [
        "classifier.score(X_test,y_test)"
      ],
      "execution_count": 209,
      "outputs": [
        {
          "output_type": "execute_result",
          "data": {
            "text/plain": [
              "0.8852459016393442"
            ]
          },
          "metadata": {
            "tags": []
          },
          "execution_count": 209
        }
      ]
    },
    {
      "cell_type": "code",
      "metadata": {
        "id": "WzxRYXX6b-K4",
        "colab_type": "code",
        "colab": {}
      },
      "source": [
        "max_depth_range = list(range(2, 15))\n",
        "accuracy_KNN = []\n",
        "for depth in max_depth_range:\n",
        "    classifier2 = KNeighborsClassifier(n_neighbors=depth,weights='distance',metric='euclidean')\n",
        "    classifier2.fit(X_train, y_train)  \n",
        "    score = classifier2.score(X_test, y_test)\n",
        "    \n",
        "    accuracy_KNN.append(score)"
      ],
      "execution_count": 0,
      "outputs": []
    },
    {
      "cell_type": "code",
      "metadata": {
        "id": "pekBQZpgcANM",
        "colab_type": "code",
        "colab": {}
      },
      "source": [
        "import matplotlib.pyplot as plt\n",
        "%matplotlib inline\n",
        "plt.plot(accuracy_KNN)\n",
        "plt.xticks(list(range(len(max_depth_range))),max_depth_range)\n",
        "plt.grid()\n",
        "plt.show()"
      ],
      "execution_count": 0,
      "outputs": []
    },
    {
      "cell_type": "markdown",
      "metadata": {
        "id": "rbzSs5hXallt",
        "colab_type": "text"
      },
      "source": [
        "##Decision Tree"
      ]
    },
    {
      "cell_type": "code",
      "metadata": {
        "id": "5ua2nU62an-M",
        "colab_type": "code",
        "colab": {
          "base_uri": "https://localhost:8080/",
          "height": 127
        },
        "outputId": "f221b146-2a6f-4f5f-dbf4-66240814fb0e"
      },
      "source": [
        "from sklearn.tree import DecisionTreeClassifier\n",
        "arbol = DecisionTreeClassifier(max_depth=3)\n",
        "arbol.fit(X_train,y_train)"
      ],
      "execution_count": 212,
      "outputs": [
        {
          "output_type": "execute_result",
          "data": {
            "text/plain": [
              "DecisionTreeClassifier(ccp_alpha=0.0, class_weight=None, criterion='gini',\n",
              "                       max_depth=3, max_features=None, max_leaf_nodes=None,\n",
              "                       min_impurity_decrease=0.0, min_impurity_split=None,\n",
              "                       min_samples_leaf=1, min_samples_split=2,\n",
              "                       min_weight_fraction_leaf=0.0, presort='deprecated',\n",
              "                       random_state=None, splitter='best')"
            ]
          },
          "metadata": {
            "tags": []
          },
          "execution_count": 212
        }
      ]
    },
    {
      "cell_type": "code",
      "metadata": {
        "id": "aVTDPnPvasox",
        "colab_type": "code",
        "colab": {
          "base_uri": "https://localhost:8080/",
          "height": 35
        },
        "outputId": "8aead9a8-2a9c-45bb-d498-72cc67a422f3"
      },
      "source": [
        "arbol.score(X_test,y_test)"
      ],
      "execution_count": 213,
      "outputs": [
        {
          "output_type": "execute_result",
          "data": {
            "text/plain": [
              "0.8360655737704918"
            ]
          },
          "metadata": {
            "tags": []
          },
          "execution_count": 213
        }
      ]
    },
    {
      "cell_type": "code",
      "metadata": {
        "id": "TXpEErgQdWX-",
        "colab_type": "code",
        "colab": {}
      },
      "source": [
        "max_depth_range = list(range(2, 15)) #Reemplazar el max valor (15) con la máxima profundidad por defecto para su arbol +1\n",
        "accuracy_arbol = []\n",
        "for depth in max_depth_range:\n",
        "    arbol2 = DecisionTreeClassifier(max_depth = depth)\n",
        "    arbol2.fit(X_train,y_train) \n",
        "    score = arbol2.score(X_test, y_test)\n",
        "    \n",
        "    accuracy_arbol.append(score)"
      ],
      "execution_count": 0,
      "outputs": []
    },
    {
      "cell_type": "code",
      "metadata": {
        "id": "kMw32qrudau2",
        "colab_type": "code",
        "colab": {}
      },
      "source": [
        "import matplotlib.pyplot as plt\n",
        "%matplotlib inline\n",
        "plt.plot(accuracy_arbol)\n",
        "plt.xticks(list(range(len(max_depth_range))),max_depth_range)\n",
        "plt.grid()\n",
        "plt.show()"
      ],
      "execution_count": 0,
      "outputs": []
    },
    {
      "cell_type": "markdown",
      "metadata": {
        "id": "OD0nDXNZe_Jx",
        "colab_type": "text"
      },
      "source": [
        "##Matriz de Confusión"
      ]
    },
    {
      "cell_type": "markdown",
      "metadata": {
        "id": "hCjrVDFjtBnp",
        "colab_type": "text"
      },
      "source": [
        "\n",
        "\n",
        "> KNN\n",
        "\n"
      ]
    },
    {
      "cell_type": "code",
      "metadata": {
        "id": "ox3it4c5giul",
        "colab_type": "code",
        "colab": {
          "base_uri": "https://localhost:8080/",
          "height": 143
        },
        "outputId": "c7c60af9-ce93-4f6d-f2f7-d7ef6c68c883"
      },
      "source": [
        "y_pred = classifier.predict(X_test)\n",
        "df_confusion_KNN = pd.crosstab(y_test, y_pred,rownames=['Original'], colnames=['Predicted'])\n",
        "df_confusion_KNN"
      ],
      "execution_count": 216,
      "outputs": [
        {
          "output_type": "execute_result",
          "data": {
            "text/html": [
              "<div>\n",
              "<style scoped>\n",
              "    .dataframe tbody tr th:only-of-type {\n",
              "        vertical-align: middle;\n",
              "    }\n",
              "\n",
              "    .dataframe tbody tr th {\n",
              "        vertical-align: top;\n",
              "    }\n",
              "\n",
              "    .dataframe thead th {\n",
              "        text-align: right;\n",
              "    }\n",
              "</style>\n",
              "<table border=\"1\" class=\"dataframe\">\n",
              "  <thead>\n",
              "    <tr style=\"text-align: right;\">\n",
              "      <th>Predicted</th>\n",
              "      <th>0</th>\n",
              "      <th>1</th>\n",
              "    </tr>\n",
              "    <tr>\n",
              "      <th>Original</th>\n",
              "      <th></th>\n",
              "      <th></th>\n",
              "    </tr>\n",
              "  </thead>\n",
              "  <tbody>\n",
              "    <tr>\n",
              "      <th>0</th>\n",
              "      <td>20</td>\n",
              "      <td>2</td>\n",
              "    </tr>\n",
              "    <tr>\n",
              "      <th>1</th>\n",
              "      <td>5</td>\n",
              "      <td>34</td>\n",
              "    </tr>\n",
              "  </tbody>\n",
              "</table>\n",
              "</div>"
            ],
            "text/plain": [
              "Predicted   0   1\n",
              "Original         \n",
              "0          20   2\n",
              "1           5  34"
            ]
          },
          "metadata": {
            "tags": []
          },
          "execution_count": 216
        }
      ]
    },
    {
      "cell_type": "code",
      "metadata": {
        "id": "udY9cH_ihCbV",
        "colab_type": "code",
        "colab": {}
      },
      "source": [
        "from sklearn.metrics import classification_report \n",
        "print(classification_report(y_test, y_pred))"
      ],
      "execution_count": 0,
      "outputs": []
    },
    {
      "cell_type": "markdown",
      "metadata": {
        "id": "YJL24qNPtEP0",
        "colab_type": "text"
      },
      "source": [
        "\n",
        "\n",
        "> Árbol de Clasificación\n",
        "\n"
      ]
    },
    {
      "cell_type": "code",
      "metadata": {
        "id": "MIRQ8vk1g7ep",
        "colab_type": "code",
        "colab": {
          "base_uri": "https://localhost:8080/",
          "height": 143
        },
        "outputId": "75d8e4b4-e86c-4079-b875-135881b833c1"
      },
      "source": [
        "y_pred = arbol.predict(X_test)\n",
        "df_confusion_arbol = pd.crosstab(y_test, y_pred,rownames=['Original'], colnames=['Predicted'])\n",
        "df_confusion_arbol"
      ],
      "execution_count": 218,
      "outputs": [
        {
          "output_type": "execute_result",
          "data": {
            "text/html": [
              "<div>\n",
              "<style scoped>\n",
              "    .dataframe tbody tr th:only-of-type {\n",
              "        vertical-align: middle;\n",
              "    }\n",
              "\n",
              "    .dataframe tbody tr th {\n",
              "        vertical-align: top;\n",
              "    }\n",
              "\n",
              "    .dataframe thead th {\n",
              "        text-align: right;\n",
              "    }\n",
              "</style>\n",
              "<table border=\"1\" class=\"dataframe\">\n",
              "  <thead>\n",
              "    <tr style=\"text-align: right;\">\n",
              "      <th>Predicted</th>\n",
              "      <th>0</th>\n",
              "      <th>1</th>\n",
              "    </tr>\n",
              "    <tr>\n",
              "      <th>Original</th>\n",
              "      <th></th>\n",
              "      <th></th>\n",
              "    </tr>\n",
              "  </thead>\n",
              "  <tbody>\n",
              "    <tr>\n",
              "      <th>0</th>\n",
              "      <td>16</td>\n",
              "      <td>6</td>\n",
              "    </tr>\n",
              "    <tr>\n",
              "      <th>1</th>\n",
              "      <td>4</td>\n",
              "      <td>35</td>\n",
              "    </tr>\n",
              "  </tbody>\n",
              "</table>\n",
              "</div>"
            ],
            "text/plain": [
              "Predicted   0   1\n",
              "Original         \n",
              "0          16   6\n",
              "1           4  35"
            ]
          },
          "metadata": {
            "tags": []
          },
          "execution_count": 218
        }
      ]
    },
    {
      "cell_type": "code",
      "metadata": {
        "id": "yvOWPuJShMSx",
        "colab_type": "code",
        "colab": {}
      },
      "source": [
        "from sklearn.metrics import classification_report \n",
        "print(classification_report(y_test, y_pred))"
      ],
      "execution_count": 0,
      "outputs": []
    },
    {
      "cell_type": "markdown",
      "metadata": {
        "id": "6cqsEd6bsLuc",
        "colab_type": "text"
      },
      "source": [
        "##Graficando la Matriz "
      ]
    },
    {
      "cell_type": "code",
      "metadata": {
        "id": "oHCkHSadsOVf",
        "colab_type": "code",
        "colab": {}
      },
      "source": [
        "#Función para mostrar la matriz de confusión\n",
        "def print_confusion_matrix(cm):\n",
        "  import seaborn as sn\n",
        "  plt.figure(figsize=(10,7))\n",
        "  sn.heatmap(cm, annot=True, fmt='d')\n",
        "  plt.xlabel('Predicted')\n",
        "  plt.ylabel('True')\n",
        "  plt.title('Confusion matrix.')\n",
        "  plt.show() "
      ],
      "execution_count": 0,
      "outputs": []
    },
    {
      "cell_type": "code",
      "metadata": {
        "id": "so4gAmZCsPxa",
        "colab_type": "code",
        "colab": {}
      },
      "source": [
        "print_confusion_matrix(df_confusion_KNN)"
      ],
      "execution_count": 0,
      "outputs": []
    },
    {
      "cell_type": "code",
      "metadata": {
        "id": "HCAYLhW9s5UG",
        "colab_type": "code",
        "colab": {}
      },
      "source": [
        "print_confusion_matrix(df_confusion_arbol)"
      ],
      "execution_count": 0,
      "outputs": []
    },
    {
      "cell_type": "markdown",
      "metadata": {
        "id": "Skczuhj_wwmV",
        "colab_type": "text"
      },
      "source": [
        "##Cross Validation"
      ]
    },
    {
      "cell_type": "markdown",
      "metadata": {
        "id": "knKA7kJiMyQp",
        "colab_type": "text"
      },
      "source": [
        "\n",
        "\n",
        "> Árbol de Clasificación\n",
        "\n"
      ]
    },
    {
      "cell_type": "code",
      "metadata": {
        "id": "qUYC7il3wwyq",
        "colab_type": "code",
        "colab": {
          "base_uri": "https://localhost:8080/",
          "height": 35
        },
        "outputId": "63154809-8c51-4878-f062-bb3fc06b7aea"
      },
      "source": [
        "from sklearn.model_selection import KFold\n",
        "from sklearn import metrics\n",
        "NSplits = 10\n",
        "kf = KFold(n_splits=NSplits)\n",
        "kf.get_n_splits(X)\n",
        "print(kf)"
      ],
      "execution_count": 223,
      "outputs": [
        {
          "output_type": "stream",
          "text": [
            "KFold(n_splits=10, random_state=None, shuffle=False)\n"
          ],
          "name": "stdout"
        }
      ]
    },
    {
      "cell_type": "code",
      "metadata": {
        "id": "YfsiLFhUzExN",
        "colab_type": "code",
        "colab": {
          "base_uri": "https://localhost:8080/",
          "height": 219
        },
        "outputId": "f9810bae-49c5-47f7-be0c-023dc9bdafdb"
      },
      "source": [
        "AccTotal = 0\n",
        "for train_index, test_index in kf.split(X):\n",
        "  #print(\"TRAIN:\", train_index, \"TEST:\", test_index)\n",
        "  X_train, X_test = X.iloc[train_index], X.iloc[test_index]\n",
        "  y_train, y_test = y[train_index], y[test_index]\n",
        "  \n",
        "  arbol3 = DecisionTreeClassifier(max_depth=5)\n",
        "  arbol3.fit(X_train,y_train)\n",
        "\n",
        "  y_pred = arbol3.predict(X_test)\n",
        "  AccFolder = metrics.accuracy_score(y_test, y_pred)*100\n",
        "  print(\"Accuracy Folder\", AccFolder)\n",
        "  \n",
        "  AccTotal += AccFolder\n",
        "  \n",
        "print(\"Accuracy General:\", AccTotal/NSplits)"
      ],
      "execution_count": 224,
      "outputs": [
        {
          "output_type": "stream",
          "text": [
            "Accuracy Folder 67.74193548387096\n",
            "Accuracy Folder 93.54838709677419\n",
            "Accuracy Folder 87.09677419354838\n",
            "Accuracy Folder 63.33333333333333\n",
            "Accuracy Folder 86.66666666666667\n",
            "Accuracy Folder 80.0\n",
            "Accuracy Folder 76.66666666666667\n",
            "Accuracy Folder 66.66666666666666\n",
            "Accuracy Folder 63.33333333333333\n",
            "Accuracy Folder 53.333333333333336\n",
            "Accuracy General: 73.83870967741936\n"
          ],
          "name": "stdout"
        }
      ]
    },
    {
      "cell_type": "code",
      "metadata": {
        "id": "HbMU1pHT4mAC",
        "colab_type": "code",
        "colab": {}
      },
      "source": [
        "# Grafico de ajuste del árbol de decisión\n",
        "train_prec =  []\n",
        "eval_prec = []\n",
        "max_deep_list = list(range(2, 20))\n",
        "\n",
        "for deep in max_deep_list:\n",
        "    arbol3 = DecisionTreeClassifier(max_depth=deep)\n",
        "    arbol3.fit(X_train,y_train)\n",
        "    train_prec.append(arbol3.score(X_train, y_train))\n",
        "    eval_prec.append(arbol3.score(X_test, y_test))\n",
        "\n",
        "# graficar los resultados.\n",
        "plt.plot(max_deep_list, train_prec, color='r', label='entrenamiento')\n",
        "plt.plot(max_deep_list, eval_prec, color='b', label='evaluacion')\n",
        "plt.title('Grafico de ajuste arbol de decision')\n",
        "plt.legend()\n",
        "plt.grid()\n",
        "plt.xticks(list(range(len(max_deep_list))),max_deep_list)\n",
        "plt.ylabel('Score')\n",
        "plt.xlabel('Cant de nodos')\n",
        "plt.show()"
      ],
      "execution_count": 0,
      "outputs": []
    },
    {
      "cell_type": "markdown",
      "metadata": {
        "id": "vKFyF6jzM4nw",
        "colab_type": "text"
      },
      "source": [
        "\n",
        "\n",
        "> KNN\n",
        "\n"
      ]
    },
    {
      "cell_type": "code",
      "metadata": {
        "id": "TvrjglWyN34U",
        "colab_type": "code",
        "colab": {}
      },
      "source": [
        "from sklearn.preprocessing import MinMaxScaler\n",
        "scaler = MinMaxScaler()\n",
        "X = pd.DataFrame(scaler.fit_transform(X))"
      ],
      "execution_count": 0,
      "outputs": []
    },
    {
      "cell_type": "code",
      "metadata": {
        "id": "UesnCP8FOGox",
        "colab_type": "code",
        "colab": {
          "base_uri": "https://localhost:8080/",
          "height": 35
        },
        "outputId": "aab6875b-e1d9-40b6-ccfc-0c2a66f12db5"
      },
      "source": [
        "from sklearn.model_selection import KFold\n",
        "from sklearn import metrics\n",
        "NSplits = 10\n",
        "kf = KFold(n_splits=NSplits)\n",
        "kf.get_n_splits(X)\n",
        "print(kf)"
      ],
      "execution_count": 227,
      "outputs": [
        {
          "output_type": "stream",
          "text": [
            "KFold(n_splits=10, random_state=None, shuffle=False)\n"
          ],
          "name": "stdout"
        }
      ]
    },
    {
      "cell_type": "code",
      "metadata": {
        "id": "VaP_Ws9VMxRk",
        "colab_type": "code",
        "colab": {
          "base_uri": "https://localhost:8080/",
          "height": 219
        },
        "outputId": "7acacb83-4b93-4c68-9613-72ed5cdc7139"
      },
      "source": [
        "AccTotal = 0\n",
        "for train_index, test_index in kf.split(X):\n",
        "  #print(\"TRAIN:\", train_index, \"TEST:\", test_index)\n",
        "  X_train, X_test = X.iloc[train_index], X.iloc[test_index]\n",
        "  y_train, y_test = y[train_index], y[test_index]\n",
        "  \n",
        "  classifier3 = KNeighborsClassifier(n_neighbors=7,weights='distance',metric='cosine')\n",
        "  classifier3.fit(X_train, y_train)\n",
        "\n",
        "  y_pred = classifier3.predict(X_test)\n",
        "  AccFolder = metrics.accuracy_score(y_test, y_pred)*100\n",
        "  print(\"Accuracy Folder\", AccFolder)\n",
        "  \n",
        "  AccTotal += AccFolder\n",
        "  \n",
        "print(\"Accuracy General:\", AccTotal/NSplits)"
      ],
      "execution_count": 228,
      "outputs": [
        {
          "output_type": "stream",
          "text": [
            "Accuracy Folder 87.09677419354838\n",
            "Accuracy Folder 77.41935483870968\n",
            "Accuracy Folder 83.87096774193549\n",
            "Accuracy Folder 73.33333333333333\n",
            "Accuracy Folder 90.0\n",
            "Accuracy Folder 83.33333333333334\n",
            "Accuracy Folder 56.666666666666664\n",
            "Accuracy Folder 83.33333333333334\n",
            "Accuracy Folder 80.0\n",
            "Accuracy Folder 60.0\n",
            "Accuracy General: 77.50537634408602\n"
          ],
          "name": "stdout"
        }
      ]
    },
    {
      "cell_type": "code",
      "metadata": {
        "id": "48EbOS0QMotj",
        "colab_type": "code",
        "colab": {}
      },
      "source": [
        "# Grafico de ajuste del árbol de decisión\n",
        "train_prec =  []\n",
        "eval_prec = []\n",
        "max_deep_list = list(range(2, 20))\n",
        "\n",
        "for deep in max_deep_list:\n",
        "    classifier3 = KNeighborsClassifier(n_neighbors=deep,weights='distance',metric='euclidean')\n",
        "    classifier3.fit(X_train, y_train)\n",
        "    train_prec.append(classifier3.score(X_train, y_train))\n",
        "    eval_prec.append(classifier3.score(X_test, y_test))\n",
        "\n",
        "# graficar los resultados.\n",
        "plt.plot(max_deep_list, train_prec, color='r', label='entrenamiento')\n",
        "plt.plot(max_deep_list, eval_prec, color='b', label='evaluacion')\n",
        "plt.title('Grafico de ajuste KNN')\n",
        "plt.legend()\n",
        "plt.grid()\n",
        "plt.xticks(list(range(len(max_deep_list))),max_deep_list)\n",
        "plt.ylabel('Score')\n",
        "plt.xlabel('Cant de nodos')\n",
        "plt.show()"
      ],
      "execution_count": 0,
      "outputs": []
    },
    {
      "cell_type": "markdown",
      "metadata": {
        "id": "XkZkLMhnPoxZ",
        "colab_type": "text"
      },
      "source": [
        "##Curva ROC"
      ]
    },
    {
      "cell_type": "code",
      "metadata": {
        "id": "Qe71LSQISFxM",
        "colab_type": "code",
        "colab": {
          "base_uri": "https://localhost:8080/",
          "height": 54
        },
        "outputId": "4926310e-b0a4-46d4-efcb-1ef1ff6353e9"
      },
      "source": [
        "X=df.drop(['target'],axis=1)\n",
        "y=df['target']\n",
        "\n",
        "from sklearn.model_selection import train_test_split\n",
        "X_train, X_test, y_train, y_test = train_test_split(X, y, test_size=0.20,random_state=8)#5,8,13\n",
        "print(\"X_train shape:\",X_train.shape)\n",
        "print(\"X_test shape:\",X_test.shape)\n",
        "\n",
        "from sklearn.preprocessing import MinMaxScaler\n",
        "scaler = MinMaxScaler()\n",
        "X_train = pd.DataFrame(scaler.fit_transform(X_train))\n",
        "X_test = pd.DataFrame(scaler.transform(X_test))"
      ],
      "execution_count": 235,
      "outputs": [
        {
          "output_type": "stream",
          "text": [
            "X_train shape: (242, 13)\n",
            "X_test shape: (61, 13)\n"
          ],
          "name": "stdout"
        }
      ]
    },
    {
      "cell_type": "markdown",
      "metadata": {
        "id": "S1iYqOaISwnX",
        "colab_type": "text"
      },
      "source": [
        "\n",
        "\n",
        "> KNN\n",
        "\n"
      ]
    },
    {
      "cell_type": "code",
      "metadata": {
        "id": "3b47SU4sPoT6",
        "colab_type": "code",
        "colab": {
          "base_uri": "https://localhost:8080/",
          "height": 279
        },
        "outputId": "317c85d5-acd4-4aaf-916b-787d3631a568"
      },
      "source": [
        "# Cálculo del AUC y gráfica de la Curva ROC\n",
        "y_pred_proba = classifier.predict_proba(X_test)[::,1]\n",
        "fpr, tpr, _ = metrics.roc_curve(y_test,  y_pred_proba)\n",
        "auc = metrics.roc_auc_score(y_test, y_pred_proba)\n",
        "plt.plot(fpr,tpr,label=\"KNN, auc=\"+str(auc))\n",
        "plt.xlabel(\"Especificidad\")\n",
        "plt.ylabel(\"Sensibilidad\")\n",
        "plt.legend(loc=4)\n",
        "plt.show()"
      ],
      "execution_count": 240,
      "outputs": [
        {
          "output_type": "display_data",
          "data": {
            "image/png": "[encoded data removed]",
            "text/plain": [
              "<Figure size 432x288 with 1 Axes>"
            ]
          },
          "metadata": {
            "tags": []
          }
        }
      ]
    },
    {
      "cell_type": "markdown",
      "metadata": {
        "id": "buvabcMwS3C3",
        "colab_type": "text"
      },
      "source": [
        "\n",
        "\n",
        "> Árbol de Clasificación\n",
        "\n"
      ]
    },
    {
      "cell_type": "code",
      "metadata": {
        "id": "T93R-MX8P9y1",
        "colab_type": "code",
        "colab": {
          "base_uri": "https://localhost:8080/",
          "height": 265
        },
        "outputId": "e5c8a8e5-cb3d-471f-8ceb-103667413794"
      },
      "source": [
        "# Cálculo del AUC y gráfica de la Curva ROC\n",
        "y_pred_proba = arbol.predict_proba(X_test)[::,1]\n",
        "fpr, tpr, _ = metrics.roc_curve(y_test,  y_pred_proba)\n",
        "auc = metrics.roc_auc_score(y_test, y_pred_proba)\n",
        "plt.plot(fpr,tpr,label=\"Árbol de Clasificación, auc=\"+str(auc))\n",
        "plt.legend(loc=4)\n",
        "plt.show()"
      ],
      "execution_count": 238,
      "outputs": [
        {
          "output_type": "display_data",
          "data": {
            "image/png": "[encoded data removed]",
            "text/plain": [
              "<Figure size 432x288 with 1 Axes>"
            ]
          },
          "metadata": {
            "tags": []
          }
        }
      ]
    }
  ]
}