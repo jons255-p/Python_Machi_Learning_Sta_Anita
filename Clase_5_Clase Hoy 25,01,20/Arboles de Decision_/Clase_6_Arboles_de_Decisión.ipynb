{
  "nbformat": 4,
  "nbformat_minor": 0,
  "metadata": {
    "colab": {
      "name": "Clase_6_Arboles_de_Decisión.ipynb",
      "provenance": []
    },
    "kernelspec": {
      "name": "python3",
      "display_name": "Python 3"
    }
  },
  "cells": [
    {
      "cell_type": "markdown",
      "metadata": {
        "id": "f1Ov_sYMIs75",
        "colab_type": "text"
      },
      "source": [
        "#Importar Data"
      ]
    },
    {
      "cell_type": "code",
      "metadata": {
        "id": "ZI5g9Oo0IoYs",
        "colab_type": "code",
        "colab": {}
      },
      "source": [
        "import pandas as pd"
      ],
      "execution_count": 0,
      "outputs": []
    },
    {
      "cell_type": "code",
      "metadata": {
        "id": "2fUUgSkAI1yz",
        "colab_type": "code",
        "outputId": "c73a5ed5-7c57-431a-a938-44de723f14a7",
        "colab": {
          "base_uri": "https://localhost:8080/",
          "height": 206
        }
      },
      "source": [
        "df = pd.read_csv(\"Titanic_Limpio.csv\")\n",
        "df.head()"
      ],
      "execution_count": 2,
      "outputs": [
        {
          "output_type": "execute_result",
          "data": {
            "text/html": [
              "<div>\n",
              "<style scoped>\n",
              "    .dataframe tbody tr th:only-of-type {\n",
              "        vertical-align: middle;\n",
              "    }\n",
              "\n",
              "    .dataframe tbody tr th {\n",
              "        vertical-align: top;\n",
              "    }\n",
              "\n",
              "    .dataframe thead th {\n",
              "        text-align: right;\n",
              "    }\n",
              "</style>\n",
              "<table border=\"1\" class=\"dataframe\">\n",
              "  <thead>\n",
              "    <tr style=\"text-align: right;\">\n",
              "      <th></th>\n",
              "      <th>Survived</th>\n",
              "      <th>Pclass</th>\n",
              "      <th>Sex</th>\n",
              "      <th>SibSp</th>\n",
              "      <th>Parch</th>\n",
              "      <th>Embarked</th>\n",
              "      <th>Edad</th>\n",
              "      <th>Tarifa</th>\n",
              "      <th>Lname</th>\n",
              "      <th>NamePrefix</th>\n",
              "    </tr>\n",
              "  </thead>\n",
              "  <tbody>\n",
              "    <tr>\n",
              "      <th>0</th>\n",
              "      <td>0</td>\n",
              "      <td>3</td>\n",
              "      <td>1</td>\n",
              "      <td>1</td>\n",
              "      <td>0</td>\n",
              "      <td>2</td>\n",
              "      <td>4</td>\n",
              "      <td>0</td>\n",
              "      <td>73</td>\n",
              "      <td>11</td>\n",
              "    </tr>\n",
              "    <tr>\n",
              "      <th>1</th>\n",
              "      <td>1</td>\n",
              "      <td>1</td>\n",
              "      <td>0</td>\n",
              "      <td>1</td>\n",
              "      <td>0</td>\n",
              "      <td>0</td>\n",
              "      <td>0</td>\n",
              "      <td>3</td>\n",
              "      <td>136</td>\n",
              "      <td>12</td>\n",
              "    </tr>\n",
              "    <tr>\n",
              "      <th>2</th>\n",
              "      <td>1</td>\n",
              "      <td>3</td>\n",
              "      <td>0</td>\n",
              "      <td>0</td>\n",
              "      <td>0</td>\n",
              "      <td>2</td>\n",
              "      <td>7</td>\n",
              "      <td>0</td>\n",
              "      <td>251</td>\n",
              "      <td>8</td>\n",
              "    </tr>\n",
              "    <tr>\n",
              "      <th>3</th>\n",
              "      <td>1</td>\n",
              "      <td>1</td>\n",
              "      <td>0</td>\n",
              "      <td>1</td>\n",
              "      <td>0</td>\n",
              "      <td>2</td>\n",
              "      <td>7</td>\n",
              "      <td>3</td>\n",
              "      <td>198</td>\n",
              "      <td>12</td>\n",
              "    </tr>\n",
              "    <tr>\n",
              "      <th>4</th>\n",
              "      <td>0</td>\n",
              "      <td>3</td>\n",
              "      <td>1</td>\n",
              "      <td>0</td>\n",
              "      <td>0</td>\n",
              "      <td>2</td>\n",
              "      <td>7</td>\n",
              "      <td>1</td>\n",
              "      <td>11</td>\n",
              "      <td>11</td>\n",
              "    </tr>\n",
              "  </tbody>\n",
              "</table>\n",
              "</div>"
            ],
            "text/plain": [
              "   Survived  Pclass  Sex  SibSp  ...  Edad  Tarifa  Lname  NamePrefix\n",
              "0         0       3    1      1  ...     4       0     73          11\n",
              "1         1       1    0      1  ...     0       3    136          12\n",
              "2         1       3    0      0  ...     7       0    251           8\n",
              "3         1       1    0      1  ...     7       3    198          12\n",
              "4         0       3    1      0  ...     7       1     11          11\n",
              "\n",
              "[5 rows x 10 columns]"
            ]
          },
          "metadata": {
            "tags": []
          },
          "execution_count": 2
        }
      ]
    },
    {
      "cell_type": "markdown",
      "metadata": {
        "id": "vOIgsWv9JLTU",
        "colab_type": "text"
      },
      "source": [
        "#Árbol de Clasificación"
      ]
    },
    {
      "cell_type": "code",
      "metadata": {
        "id": "jWIZuIb2JELZ",
        "colab_type": "code",
        "colab": {}
      },
      "source": [
        "x = df.drop('Survived', axis=1)\n",
        "y = df['Survived']"
      ],
      "execution_count": 0,
      "outputs": []
    },
    {
      "cell_type": "code",
      "metadata": {
        "id": "grcpx52VJVEi",
        "colab_type": "code",
        "colab": {}
      },
      "source": [
        "# Entrenamos un arbol con poca profundidad, para visualizarlo comodamente:\n",
        "from sklearn.tree import DecisionTreeClassifier\n",
        "m = DecisionTreeClassifier(max_depth=3)\n",
        "m = m.fit(x, y)"
      ],
      "execution_count": 0,
      "outputs": []
    },
    {
      "cell_type": "code",
      "metadata": {
        "id": "BVKJGCe_JO-f",
        "colab_type": "code",
        "outputId": "ae9e99ed-25e8-470c-8658-faae6fa46725",
        "colab": {
          "base_uri": "https://localhost:8080/",
          "height": 35
        }
      },
      "source": [
        "m.score(x,y)"
      ],
      "execution_count": 0,
      "outputs": [
        {
          "output_type": "execute_result",
          "data": {
            "text/plain": [
              "0.8316498316498316"
            ]
          },
          "metadata": {
            "tags": []
          },
          "execution_count": 6
        }
      ]
    },
    {
      "cell_type": "markdown",
      "metadata": {
        "id": "NC-CZusEW2Rk",
        "colab_type": "text"
      },
      "source": [
        "# ¿Cómo saber si el modelo esta haciendo un buen trabajo?"
      ]
    },
    {
      "cell_type": "markdown",
      "metadata": {
        "id": "Q4IbGwdUW2Rl",
        "colab_type": "text"
      },
      "source": [
        "Vamos a separar la data en 2 conjuntos: uno para entrenar el modelo (**train set**) y otro para validar el modelo (**validation set**)."
      ]
    },
    {
      "cell_type": "code",
      "metadata": {
        "id": "yuHgZe3jW2Rl",
        "colab_type": "code",
        "outputId": "e6dee756-b7ad-4c18-c9c8-cad068eca53e",
        "colab": {
          "base_uri": "https://localhost:8080/",
          "height": 54
        }
      },
      "source": [
        "from sklearn.model_selection import train_test_split\n",
        "\n",
        "# Usamos método \"train_test_split\" para usar el 20% de la data para validar el modelo.\n",
        "# El parámetro \"random state\" nos sirve para poder replicar la misma separación.\n",
        "x_train, x_val, y_train, y_val = train_test_split(x, y, test_size=0.2, random_state=42)\n",
        "print('Train shape: ',x_train.shape)\n",
        "print('Validation shape: ',x_val.shape)"
      ],
      "execution_count": 5,
      "outputs": [
        {
          "output_type": "stream",
          "text": [
            "Train shape:  (712, 9)\n",
            "Validation shape:  (179, 9)\n"
          ],
          "name": "stdout"
        }
      ]
    },
    {
      "cell_type": "code",
      "metadata": {
        "id": "ooUrdDdcLDoE",
        "colab_type": "code",
        "outputId": "7fe3750d-bc9c-4d97-942d-9e31a3f951e3",
        "colab": {
          "base_uri": "https://localhost:8080/",
          "height": 206
        }
      },
      "source": [
        "x_train.head()"
      ],
      "execution_count": 6,
      "outputs": [
        {
          "output_type": "execute_result",
          "data": {
            "text/html": [
              "<div>\n",
              "<style scoped>\n",
              "    .dataframe tbody tr th:only-of-type {\n",
              "        vertical-align: middle;\n",
              "    }\n",
              "\n",
              "    .dataframe tbody tr th {\n",
              "        vertical-align: top;\n",
              "    }\n",
              "\n",
              "    .dataframe thead th {\n",
              "        text-align: right;\n",
              "    }\n",
              "</style>\n",
              "<table border=\"1\" class=\"dataframe\">\n",
              "  <thead>\n",
              "    <tr style=\"text-align: right;\">\n",
              "      <th></th>\n",
              "      <th>Pclass</th>\n",
              "      <th>Sex</th>\n",
              "      <th>SibSp</th>\n",
              "      <th>Parch</th>\n",
              "      <th>Embarked</th>\n",
              "      <th>Edad</th>\n",
              "      <th>Tarifa</th>\n",
              "      <th>Lname</th>\n",
              "      <th>NamePrefix</th>\n",
              "    </tr>\n",
              "  </thead>\n",
              "  <tbody>\n",
              "    <tr>\n",
              "      <th>331</th>\n",
              "      <td>1</td>\n",
              "      <td>1</td>\n",
              "      <td>0</td>\n",
              "      <td>0</td>\n",
              "      <td>2</td>\n",
              "      <td>0</td>\n",
              "      <td>2</td>\n",
              "      <td>468</td>\n",
              "      <td>11</td>\n",
              "    </tr>\n",
              "    <tr>\n",
              "      <th>733</th>\n",
              "      <td>2</td>\n",
              "      <td>1</td>\n",
              "      <td>0</td>\n",
              "      <td>0</td>\n",
              "      <td>2</td>\n",
              "      <td>4</td>\n",
              "      <td>1</td>\n",
              "      <td>55</td>\n",
              "      <td>11</td>\n",
              "    </tr>\n",
              "    <tr>\n",
              "      <th>382</th>\n",
              "      <td>3</td>\n",
              "      <td>1</td>\n",
              "      <td>0</td>\n",
              "      <td>0</td>\n",
              "      <td>2</td>\n",
              "      <td>7</td>\n",
              "      <td>0</td>\n",
              "      <td>602</td>\n",
              "      <td>11</td>\n",
              "    </tr>\n",
              "    <tr>\n",
              "      <th>704</th>\n",
              "      <td>3</td>\n",
              "      <td>1</td>\n",
              "      <td>1</td>\n",
              "      <td>0</td>\n",
              "      <td>2</td>\n",
              "      <td>7</td>\n",
              "      <td>0</td>\n",
              "      <td>235</td>\n",
              "      <td>11</td>\n",
              "    </tr>\n",
              "    <tr>\n",
              "      <th>813</th>\n",
              "      <td>3</td>\n",
              "      <td>0</td>\n",
              "      <td>4</td>\n",
              "      <td>2</td>\n",
              "      <td>2</td>\n",
              "      <td>2</td>\n",
              "      <td>3</td>\n",
              "      <td>16</td>\n",
              "      <td>8</td>\n",
              "    </tr>\n",
              "  </tbody>\n",
              "</table>\n",
              "</div>"
            ],
            "text/plain": [
              "     Pclass  Sex  SibSp  Parch  Embarked  Edad  Tarifa  Lname  NamePrefix\n",
              "331       1    1      0      0         2     0       2    468          11\n",
              "733       2    1      0      0         2     4       1     55          11\n",
              "382       3    1      0      0         2     7       0    602          11\n",
              "704       3    1      1      0         2     7       0    235          11\n",
              "813       3    0      4      2         2     2       3     16           8"
            ]
          },
          "metadata": {
            "tags": []
          },
          "execution_count": 6
        }
      ]
    },
    {
      "cell_type": "markdown",
      "metadata": {
        "id": "akUAmZ06W2Ro",
        "colab_type": "text"
      },
      "source": [
        "### a. Entrenar un árbol de decisión con la data de entrenamiento."
      ]
    },
    {
      "cell_type": "code",
      "metadata": {
        "id": "SCh-8L-4Lu1R",
        "colab_type": "code",
        "colab": {}
      },
      "source": [
        "m2 = DecisionTreeClassifier(max_depth=3)\n",
        "m2 = m2.fit(x_train,y_train)"
      ],
      "execution_count": 0,
      "outputs": []
    },
    {
      "cell_type": "markdown",
      "metadata": {
        "id": "IR_31RL8W2Rq",
        "colab_type": "text"
      },
      "source": [
        "### b. Evaluar el resultado con la data de entrenamiento."
      ]
    },
    {
      "cell_type": "code",
      "metadata": {
        "id": "UZ5a4dDFOHpT",
        "colab_type": "code",
        "outputId": "4c71478f-787b-4175-89bc-a46a8f0ae00c",
        "colab": {
          "base_uri": "https://localhost:8080/",
          "height": 35
        }
      },
      "source": [
        "m2.score(x_train,y_train)"
      ],
      "execution_count": 8,
      "outputs": [
        {
          "output_type": "execute_result",
          "data": {
            "text/plain": [
              "0.8384831460674157"
            ]
          },
          "metadata": {
            "tags": []
          },
          "execution_count": 8
        }
      ]
    },
    {
      "cell_type": "markdown",
      "metadata": {
        "id": "wp4bofyCW2Rt",
        "colab_type": "text"
      },
      "source": [
        "### c. Evaluar el resultado con la data de validación."
      ]
    },
    {
      "cell_type": "code",
      "metadata": {
        "id": "ums6KLX9OqTJ",
        "colab_type": "code",
        "outputId": "917d65a8-2a06-4399-dfdf-0f73010467bb",
        "colab": {
          "base_uri": "https://localhost:8080/",
          "height": 35
        }
      },
      "source": [
        "m2.score(x_val,y_val)"
      ],
      "execution_count": 9,
      "outputs": [
        {
          "output_type": "execute_result",
          "data": {
            "text/plain": [
              "0.8044692737430168"
            ]
          },
          "metadata": {
            "tags": []
          },
          "execution_count": 9
        }
      ]
    },
    {
      "cell_type": "markdown",
      "metadata": {
        "id": "YcU1r-aeZwl6",
        "colab_type": "text"
      },
      "source": [
        "###d. Encontrando el valor optimo para max_depth"
      ]
    },
    {
      "cell_type": "code",
      "metadata": {
        "id": "RSJX-XTATtB-",
        "colab_type": "code",
        "colab": {}
      },
      "source": [
        "# List of values to try for max_depth:\n",
        "max_depth_range = list(range(2, 15))# List to store the average RMSE for each value of max_depth:\n",
        "accuracy = []\n",
        "for depth in max_depth_range:\n",
        "    clf = DecisionTreeClassifier(max_depth = depth)\n",
        "    clf.fit(x_train, y_train)    \n",
        "    score = clf.score(x_val, y_val)\n",
        "    \n",
        "    accuracy.append(score)"
      ],
      "execution_count": 0,
      "outputs": []
    },
    {
      "cell_type": "code",
      "metadata": {
        "id": "MfBEMUSBT8-a",
        "colab_type": "code",
        "colab": {}
      },
      "source": [
        "import matplotlib.pyplot as plt\n",
        "%matplotlib inline"
      ],
      "execution_count": 0,
      "outputs": []
    },
    {
      "cell_type": "code",
      "metadata": {
        "id": "BT7mZCbAT_Ji",
        "colab_type": "code",
        "colab": {
          "base_uri": "https://localhost:8080/",
          "height": 265
        },
        "outputId": "ba87e0ff-c8ee-4f7f-f0d9-d6f0241b8dc7"
      },
      "source": [
        "plt.plot(accuracy)\n",
        "plt.xticks(list(range(len(max_depth_range))),max_depth_range)\n",
        "plt.grid()\n",
        "plt.show()"
      ],
      "execution_count": 12,
      "outputs": [
        {
          "output_type": "display_data",
          "data": {
            "image/png": "[encoded data removed]",
            "text/plain": [
              "<Figure size 432x288 with 1 Axes>"
            ]
          },
          "metadata": {
            "tags": []
          }
        }
      ]
    },
    {
      "cell_type": "markdown",
      "metadata": {
        "id": "sbHH-bhhgDua",
        "colab_type": "text"
      },
      "source": [
        "###e. Graficando nuestro arbol"
      ]
    },
    {
      "cell_type": "code",
      "metadata": {
        "id": "sSgT6sl8gnaD",
        "colab_type": "code",
        "colab": {}
      },
      "source": [
        "from sklearn.tree import export_graphviz\n",
        "import graphviz"
      ],
      "execution_count": 0,
      "outputs": []
    },
    {
      "cell_type": "code",
      "metadata": {
        "id": "RKjtR7LigH2d",
        "colab_type": "code",
        "colab": {
          "base_uri": "https://localhost:8080/",
          "height": 618
        },
        "outputId": "e4827883-7702-4df9-81f1-659842d8fdee"
      },
      "source": [
        "dot_data = export_graphviz(m2,feature_names= x.columns, class_names= ['Muerto','Vivo'],filled=True, rounded=True,special_characters=True) \n",
        "graph = graphviz.Source(dot_data)\n",
        "graph\n",
        "#graph.render(\"arbol\",format='png') "
      ],
      "execution_count": 14,
      "outputs": [
        {
          "output_type": "execute_result",
          "data": {
            "text/plain": [
              "<graphviz.files.Source at 0x7f03e5c82470>"
            ],
            "image/svg+xml": "<?xml version=\"1.0\" encoding=\"UTF-8\" standalone=\"no\"?>\n<!DOCTYPE svg PUBLIC \"-//W3C//DTD SVG 1.1//EN\"\n \"http://www.w3.org/Graphics/SVG/1.1/DTD/svg11.dtd\">\n<!-- Generated by graphviz version 2.40.1 (20161225.0304)\n -->\n<!-- Title: Tree Pages: 1 -->\n<svg width=\"1053pt\" height=\"433pt\"\n viewBox=\"0.00 0.00 1053.00 433.00\" xmlns=\"http://www.w3.org/2000/svg\" xmlns:xlink=\"http://www.w3.org/1999/xlink\">\n<g id=\"graph0\" class=\"graph\" transform=\"scale(1 1) rotate(0) translate(4 429)\">\n<title>Tree</title>\n<polygon fill=\"#ffffff\" stroke=\"transparent\" points=\"-4,4 -4,-429 1049,-429 1049,4 -4,4\"/>\n<!-- 0 -->\n<g id=\"node1\" class=\"node\">\n<title>0</title>\n<path fill=\"#f5cdb1\" stroke=\"#000000\" d=\"M568,-425C568,-425 460,-425 460,-425 454,-425 448,-419 448,-413 448,-413 448,-354 448,-354 448,-348 454,-342 460,-342 460,-342 568,-342 568,-342 574,-342 580,-348 580,-354 580,-354 580,-413 580,-413 580,-419 574,-425 568,-425\"/>\n<text text-anchor=\"start\" x=\"483.5\" y=\"-409.8\" font-family=\"Helvetica,sans-Serif\" font-size=\"14.00\" fill=\"#000000\">Sex ≤ 0.5</text>\n<text text-anchor=\"start\" x=\"476\" y=\"-394.8\" font-family=\"Helvetica,sans-Serif\" font-size=\"14.00\" fill=\"#000000\">gini = 0.469</text>\n<text text-anchor=\"start\" x=\"466\" y=\"-379.8\" font-family=\"Helvetica,sans-Serif\" font-size=\"14.00\" fill=\"#000000\">samples = 712</text>\n<text text-anchor=\"start\" x=\"456\" y=\"-364.8\" font-family=\"Helvetica,sans-Serif\" font-size=\"14.00\" fill=\"#000000\">value = [444, 268]</text>\n<text text-anchor=\"start\" x=\"466.5\" y=\"-349.8\" font-family=\"Helvetica,sans-Serif\" font-size=\"14.00\" fill=\"#000000\">class = Muerto</text>\n</g>\n<!-- 1 -->\n<g id=\"node2\" class=\"node\">\n<title>1</title>\n<path fill=\"#7fc0ee\" stroke=\"#000000\" d=\"M434,-306C434,-306 334,-306 334,-306 328,-306 322,-300 322,-294 322,-294 322,-235 322,-235 322,-229 328,-223 334,-223 334,-223 434,-223 434,-223 440,-223 446,-229 446,-235 446,-235 446,-294 446,-294 446,-300 440,-306 434,-306\"/>\n<text text-anchor=\"start\" x=\"344.5\" y=\"-290.8\" font-family=\"Helvetica,sans-Serif\" font-size=\"14.00\" fill=\"#000000\">Pclass ≤ 2.5</text>\n<text text-anchor=\"start\" x=\"346\" y=\"-275.8\" font-family=\"Helvetica,sans-Serif\" font-size=\"14.00\" fill=\"#000000\">gini = 0.386</text>\n<text text-anchor=\"start\" x=\"336\" y=\"-260.8\" font-family=\"Helvetica,sans-Serif\" font-size=\"14.00\" fill=\"#000000\">samples = 245</text>\n<text text-anchor=\"start\" x=\"330\" y=\"-245.8\" font-family=\"Helvetica,sans-Serif\" font-size=\"14.00\" fill=\"#000000\">value = [64, 181]</text>\n<text text-anchor=\"start\" x=\"344.5\" y=\"-230.8\" font-family=\"Helvetica,sans-Serif\" font-size=\"14.00\" fill=\"#000000\">class = Vivo</text>\n</g>\n<!-- 0&#45;&gt;1 -->\n<g id=\"edge1\" class=\"edge\">\n<title>0&#45;&gt;1</title>\n<path fill=\"none\" stroke=\"#000000\" d=\"M468.5323,-341.8796C458.3983,-332.6031 447.566,-322.6874 437.1535,-313.1559\"/>\n<polygon fill=\"#000000\" stroke=\"#000000\" points=\"439.4013,-310.4685 429.6618,-306.2981 434.6748,-315.6319 439.4013,-310.4685\"/>\n<text text-anchor=\"middle\" x=\"430.7651\" y=\"-327.5737\" font-family=\"Helvetica,sans-Serif\" font-size=\"14.00\" fill=\"#000000\">True</text>\n</g>\n<!-- 8 -->\n<g id=\"node9\" class=\"node\">\n<title>8</title>\n<path fill=\"#eb9e66\" stroke=\"#000000\" d=\"M698,-306C698,-306 594,-306 594,-306 588,-306 582,-300 582,-294 582,-294 582,-235 582,-235 582,-229 588,-223 594,-223 594,-223 698,-223 698,-223 704,-223 710,-229 710,-235 710,-235 710,-294 710,-294 710,-300 704,-306 698,-306\"/>\n<text text-anchor=\"start\" x=\"590\" y=\"-290.8\" font-family=\"Helvetica,sans-Serif\" font-size=\"14.00\" fill=\"#000000\">NamePrefix ≤ 9.0</text>\n<text text-anchor=\"start\" x=\"608\" y=\"-275.8\" font-family=\"Helvetica,sans-Serif\" font-size=\"14.00\" fill=\"#000000\">gini = 0.303</text>\n<text text-anchor=\"start\" x=\"598\" y=\"-260.8\" font-family=\"Helvetica,sans-Serif\" font-size=\"14.00\" fill=\"#000000\">samples = 467</text>\n<text text-anchor=\"start\" x=\"592\" y=\"-245.8\" font-family=\"Helvetica,sans-Serif\" font-size=\"14.00\" fill=\"#000000\">value = [380, 87]</text>\n<text text-anchor=\"start\" x=\"598.5\" y=\"-230.8\" font-family=\"Helvetica,sans-Serif\" font-size=\"14.00\" fill=\"#000000\">class = Muerto</text>\n</g>\n<!-- 0&#45;&gt;8 -->\n<g id=\"edge8\" class=\"edge\">\n<title>0&#45;&gt;8</title>\n<path fill=\"none\" stroke=\"#000000\" d=\"M560.1672,-341.8796C570.4571,-332.6031 581.456,-322.6874 592.0287,-313.1559\"/>\n<polygon fill=\"#000000\" stroke=\"#000000\" points=\"594.5519,-315.5935 599.6358,-306.2981 589.8648,-310.3944 594.5519,-315.5935\"/>\n<text text-anchor=\"middle\" x=\"598.3427\" y=\"-327.5646\" font-family=\"Helvetica,sans-Serif\" font-size=\"14.00\" fill=\"#000000\">False</text>\n</g>\n<!-- 2 -->\n<g id=\"node3\" class=\"node\">\n<title>2</title>\n<path fill=\"#41a1e6\" stroke=\"#000000\" d=\"M236,-187C236,-187 144,-187 144,-187 138,-187 132,-181 132,-175 132,-175 132,-116 132,-116 132,-110 138,-104 144,-104 144,-104 236,-104 236,-104 242,-104 248,-110 248,-116 248,-116 248,-175 248,-175 248,-181 242,-187 236,-187\"/>\n<text text-anchor=\"start\" x=\"141.5\" y=\"-171.8\" font-family=\"Helvetica,sans-Serif\" font-size=\"14.00\" fill=\"#000000\">Lname ≤ 656.0</text>\n<text text-anchor=\"start\" x=\"152\" y=\"-156.8\" font-family=\"Helvetica,sans-Serif\" font-size=\"14.00\" fill=\"#000000\">gini = 0.074</text>\n<text text-anchor=\"start\" x=\"142\" y=\"-141.8\" font-family=\"Helvetica,sans-Serif\" font-size=\"14.00\" fill=\"#000000\">samples = 130</text>\n<text text-anchor=\"start\" x=\"140\" y=\"-126.8\" font-family=\"Helvetica,sans-Serif\" font-size=\"14.00\" fill=\"#000000\">value = [5, 125]</text>\n<text text-anchor=\"start\" x=\"150.5\" y=\"-111.8\" font-family=\"Helvetica,sans-Serif\" font-size=\"14.00\" fill=\"#000000\">class = Vivo</text>\n</g>\n<!-- 1&#45;&gt;2 -->\n<g id=\"edge2\" class=\"edge\">\n<title>1&#45;&gt;2</title>\n<path fill=\"none\" stroke=\"#000000\" d=\"M321.8167,-226.3566C301.0688,-213.6298 277.8706,-199.4 256.7877,-186.4677\"/>\n<polygon fill=\"#000000\" stroke=\"#000000\" points=\"258.5601,-183.4489 248.2059,-181.2036 254.8999,-189.4158 258.5601,-183.4489\"/>\n</g>\n<!-- 5 -->\n<g id=\"node6\" class=\"node\">\n<title>5</title>\n<path fill=\"#fef9f5\" stroke=\"#000000\" d=\"M431.5,-187C431.5,-187 336.5,-187 336.5,-187 330.5,-187 324.5,-181 324.5,-175 324.5,-175 324.5,-116 324.5,-116 324.5,-110 330.5,-104 336.5,-104 336.5,-104 431.5,-104 431.5,-104 437.5,-104 443.5,-110 443.5,-116 443.5,-116 443.5,-175 443.5,-175 443.5,-181 437.5,-187 431.5,-187\"/>\n<text text-anchor=\"start\" x=\"332.5\" y=\"-171.8\" font-family=\"Helvetica,sans-Serif\" font-size=\"14.00\" fill=\"#000000\">Embarked ≤ 1.5</text>\n<text text-anchor=\"start\" x=\"354.5\" y=\"-156.8\" font-family=\"Helvetica,sans-Serif\" font-size=\"14.00\" fill=\"#000000\">gini = 0.5</text>\n<text text-anchor=\"start\" x=\"336\" y=\"-141.8\" font-family=\"Helvetica,sans-Serif\" font-size=\"14.00\" fill=\"#000000\">samples = 115</text>\n<text text-anchor=\"start\" x=\"334\" y=\"-126.8\" font-family=\"Helvetica,sans-Serif\" font-size=\"14.00\" fill=\"#000000\">value = [59, 56]</text>\n<text text-anchor=\"start\" x=\"336.5\" y=\"-111.8\" font-family=\"Helvetica,sans-Serif\" font-size=\"14.00\" fill=\"#000000\">class = Muerto</text>\n</g>\n<!-- 1&#45;&gt;5 -->\n<g id=\"edge5\" class=\"edge\">\n<title>1&#45;&gt;5</title>\n<path fill=\"none\" stroke=\"#000000\" d=\"M384,-222.8796C384,-214.6838 384,-205.9891 384,-197.5013\"/>\n<polygon fill=\"#000000\" stroke=\"#000000\" points=\"387.5001,-197.298 384,-187.2981 380.5001,-197.2981 387.5001,-197.298\"/>\n</g>\n<!-- 3 -->\n<g id=\"node4\" class=\"node\">\n<title>3</title>\n<path fill=\"#3fa0e6\" stroke=\"#000000\" d=\"M104,-68C104,-68 12,-68 12,-68 6,-68 0,-62 0,-56 0,-56 0,-12 0,-12 0,-6 6,0 12,0 12,0 104,0 104,0 110,0 116,-6 116,-12 116,-12 116,-56 116,-56 116,-62 110,-68 104,-68\"/>\n<text text-anchor=\"start\" x=\"24.5\" y=\"-52.8\" font-family=\"Helvetica,sans-Serif\" font-size=\"14.00\" fill=\"#000000\">gini = 0.06</text>\n<text text-anchor=\"start\" x=\"10\" y=\"-37.8\" font-family=\"Helvetica,sans-Serif\" font-size=\"14.00\" fill=\"#000000\">samples = 129</text>\n<text text-anchor=\"start\" x=\"8\" y=\"-22.8\" font-family=\"Helvetica,sans-Serif\" font-size=\"14.00\" fill=\"#000000\">value = [4, 125]</text>\n<text text-anchor=\"start\" x=\"18.5\" y=\"-7.8\" font-family=\"Helvetica,sans-Serif\" font-size=\"14.00\" fill=\"#000000\">class = Vivo</text>\n</g>\n<!-- 2&#45;&gt;3 -->\n<g id=\"edge3\" class=\"edge\">\n<title>2&#45;&gt;3</title>\n<path fill=\"none\" stroke=\"#000000\" d=\"M140.8481,-103.9815C129.5324,-94.4232 117.5087,-84.2668 106.2325,-74.7419\"/>\n<polygon fill=\"#000000\" stroke=\"#000000\" points=\"108.4612,-72.0429 98.5633,-68.2637 103.9441,-77.3904 108.4612,-72.0429\"/>\n</g>\n<!-- 4 -->\n<g id=\"node5\" class=\"node\">\n<title>4</title>\n<path fill=\"#e58139\" stroke=\"#000000\" d=\"M233.5,-68C233.5,-68 146.5,-68 146.5,-68 140.5,-68 134.5,-62 134.5,-56 134.5,-56 134.5,-12 134.5,-12 134.5,-6 140.5,0 146.5,0 146.5,0 233.5,0 233.5,0 239.5,0 245.5,-6 245.5,-12 245.5,-12 245.5,-56 245.5,-56 245.5,-62 239.5,-68 233.5,-68\"/>\n<text text-anchor=\"start\" x=\"160.5\" y=\"-52.8\" font-family=\"Helvetica,sans-Serif\" font-size=\"14.00\" fill=\"#000000\">gini = 0.0</text>\n<text text-anchor=\"start\" x=\"150.5\" y=\"-37.8\" font-family=\"Helvetica,sans-Serif\" font-size=\"14.00\" fill=\"#000000\">samples = 1</text>\n<text text-anchor=\"start\" x=\"148.5\" y=\"-22.8\" font-family=\"Helvetica,sans-Serif\" font-size=\"14.00\" fill=\"#000000\">value = [1, 0]</text>\n<text text-anchor=\"start\" x=\"142.5\" y=\"-7.8\" font-family=\"Helvetica,sans-Serif\" font-size=\"14.00\" fill=\"#000000\">class = Muerto</text>\n</g>\n<!-- 2&#45;&gt;4 -->\n<g id=\"edge4\" class=\"edge\">\n<title>2&#45;&gt;4</title>\n<path fill=\"none\" stroke=\"#000000\" d=\"M190,-103.9815C190,-95.618 190,-86.7965 190,-78.3409\"/>\n<polygon fill=\"#000000\" stroke=\"#000000\" points=\"193.5001,-78.2636 190,-68.2637 186.5001,-78.2637 193.5001,-78.2636\"/>\n</g>\n<!-- 6 -->\n<g id=\"node7\" class=\"node\">\n<title>6</title>\n<path fill=\"#87c4ef\" stroke=\"#000000\" d=\"M368,-68C368,-68 276,-68 276,-68 270,-68 264,-62 264,-56 264,-56 264,-12 264,-12 264,-6 270,0 276,0 276,0 368,0 368,0 374,0 380,-6 380,-12 380,-12 380,-56 380,-56 380,-62 374,-68 368,-68\"/>\n<text text-anchor=\"start\" x=\"284\" y=\"-52.8\" font-family=\"Helvetica,sans-Serif\" font-size=\"14.00\" fill=\"#000000\">gini = 0.405</text>\n<text text-anchor=\"start\" x=\"278\" y=\"-37.8\" font-family=\"Helvetica,sans-Serif\" font-size=\"14.00\" fill=\"#000000\">samples = 39</text>\n<text text-anchor=\"start\" x=\"272\" y=\"-22.8\" font-family=\"Helvetica,sans-Serif\" font-size=\"14.00\" fill=\"#000000\">value = [11, 28]</text>\n<text text-anchor=\"start\" x=\"282.5\" y=\"-7.8\" font-family=\"Helvetica,sans-Serif\" font-size=\"14.00\" fill=\"#000000\">class = Vivo</text>\n</g>\n<!-- 5&#45;&gt;6 -->\n<g id=\"edge6\" class=\"edge\">\n<title>5&#45;&gt;6</title>\n<path fill=\"none\" stroke=\"#000000\" d=\"M360.9135,-103.9815C356.0585,-95.2504 350.926,-86.0202 346.0371,-77.2281\"/>\n<polygon fill=\"#000000\" stroke=\"#000000\" points=\"348.9712,-75.3025 341.0524,-68.2637 342.8533,-78.7043 348.9712,-75.3025\"/>\n</g>\n<!-- 7 -->\n<g id=\"node8\" class=\"node\">\n<title>7</title>\n<path fill=\"#f4caac\" stroke=\"#000000\" d=\"M502,-68C502,-68 410,-68 410,-68 404,-68 398,-62 398,-56 398,-56 398,-12 398,-12 398,-6 404,0 410,0 410,0 502,0 502,0 508,0 514,-6 514,-12 514,-12 514,-56 514,-56 514,-62 508,-68 502,-68\"/>\n<text text-anchor=\"start\" x=\"418\" y=\"-52.8\" font-family=\"Helvetica,sans-Serif\" font-size=\"14.00\" fill=\"#000000\">gini = 0.465</text>\n<text text-anchor=\"start\" x=\"412\" y=\"-37.8\" font-family=\"Helvetica,sans-Serif\" font-size=\"14.00\" fill=\"#000000\">samples = 76</text>\n<text text-anchor=\"start\" x=\"406\" y=\"-22.8\" font-family=\"Helvetica,sans-Serif\" font-size=\"14.00\" fill=\"#000000\">value = [48, 28]</text>\n<text text-anchor=\"start\" x=\"408.5\" y=\"-7.8\" font-family=\"Helvetica,sans-Serif\" font-size=\"14.00\" fill=\"#000000\">class = Muerto</text>\n</g>\n<!-- 5&#45;&gt;7 -->\n<g id=\"edge7\" class=\"edge\">\n<title>5&#45;&gt;7</title>\n<path fill=\"none\" stroke=\"#000000\" d=\"M410.8101,-103.9815C416.5669,-95.0666 422.6596,-85.6313 428.4441,-76.6734\"/>\n<polygon fill=\"#000000\" stroke=\"#000000\" points=\"431.3901,-78.5631 433.8746,-68.2637 425.5096,-74.7658 431.3901,-78.5631\"/>\n</g>\n<!-- 9 -->\n<g id=\"node10\" class=\"node\">\n<title>9</title>\n<path fill=\"#f6fbfe\" stroke=\"#000000\" d=\"M692,-187C692,-187 600,-187 600,-187 594,-187 588,-181 588,-175 588,-175 588,-116 588,-116 588,-110 594,-104 600,-104 600,-104 692,-104 692,-104 698,-104 704,-110 704,-116 704,-116 704,-175 704,-175 704,-181 698,-187 692,-187\"/>\n<text text-anchor=\"start\" x=\"608.5\" y=\"-171.8\" font-family=\"Helvetica,sans-Serif\" font-size=\"14.00\" fill=\"#000000\">SibSp ≤ 2.5</text>\n<text text-anchor=\"start\" x=\"616.5\" y=\"-156.8\" font-family=\"Helvetica,sans-Serif\" font-size=\"14.00\" fill=\"#000000\">gini = 0.5</text>\n<text text-anchor=\"start\" x=\"602\" y=\"-141.8\" font-family=\"Helvetica,sans-Serif\" font-size=\"14.00\" fill=\"#000000\">samples = 43</text>\n<text text-anchor=\"start\" x=\"596\" y=\"-126.8\" font-family=\"Helvetica,sans-Serif\" font-size=\"14.00\" fill=\"#000000\">value = [21, 22]</text>\n<text text-anchor=\"start\" x=\"606.5\" y=\"-111.8\" font-family=\"Helvetica,sans-Serif\" font-size=\"14.00\" fill=\"#000000\">class = Vivo</text>\n</g>\n<!-- 8&#45;&gt;9 -->\n<g id=\"edge9\" class=\"edge\">\n<title>8&#45;&gt;9</title>\n<path fill=\"none\" stroke=\"#000000\" d=\"M646,-222.8796C646,-214.6838 646,-205.9891 646,-197.5013\"/>\n<polygon fill=\"#000000\" stroke=\"#000000\" points=\"649.5001,-197.298 646,-187.2981 642.5001,-197.2981 649.5001,-197.298\"/>\n</g>\n<!-- 12 -->\n<g id=\"node13\" class=\"node\">\n<title>12</title>\n<path fill=\"#ea985d\" stroke=\"#000000\" d=\"M895,-187C895,-187 795,-187 795,-187 789,-187 783,-181 783,-175 783,-175 783,-116 783,-116 783,-110 789,-104 795,-104 795,-104 895,-104 895,-104 901,-104 907,-110 907,-116 907,-116 907,-175 907,-175 907,-181 901,-187 895,-187\"/>\n<text text-anchor=\"start\" x=\"805.5\" y=\"-171.8\" font-family=\"Helvetica,sans-Serif\" font-size=\"14.00\" fill=\"#000000\">Pclass ≤ 1.5</text>\n<text text-anchor=\"start\" x=\"811.5\" y=\"-156.8\" font-family=\"Helvetica,sans-Serif\" font-size=\"14.00\" fill=\"#000000\">gini = 0.26</text>\n<text text-anchor=\"start\" x=\"797\" y=\"-141.8\" font-family=\"Helvetica,sans-Serif\" font-size=\"14.00\" fill=\"#000000\">samples = 424</text>\n<text text-anchor=\"start\" x=\"791\" y=\"-126.8\" font-family=\"Helvetica,sans-Serif\" font-size=\"14.00\" fill=\"#000000\">value = [359, 65]</text>\n<text text-anchor=\"start\" x=\"797.5\" y=\"-111.8\" font-family=\"Helvetica,sans-Serif\" font-size=\"14.00\" fill=\"#000000\">class = Muerto</text>\n</g>\n<!-- 8&#45;&gt;12 -->\n<g id=\"edge12\" class=\"edge\">\n<title>8&#45;&gt;12</title>\n<path fill=\"none\" stroke=\"#000000\" d=\"M710.0602,-226.1926C730.441,-214.0051 753.1038,-200.453 773.948,-187.9884\"/>\n<polygon fill=\"#000000\" stroke=\"#000000\" points=\"775.9717,-190.8563 782.7579,-182.7201 772.3791,-184.8486 775.9717,-190.8563\"/>\n</g>\n<!-- 10 -->\n<g id=\"node11\" class=\"node\">\n<title>10</title>\n<path fill=\"#72b9ec\" stroke=\"#000000\" d=\"M627.5,-68C627.5,-68 544.5,-68 544.5,-68 538.5,-68 532.5,-62 532.5,-56 532.5,-56 532.5,-12 532.5,-12 532.5,-6 538.5,0 544.5,0 544.5,0 627.5,0 627.5,0 633.5,0 639.5,-6 639.5,-12 639.5,-12 639.5,-56 639.5,-56 639.5,-62 633.5,-68 627.5,-68\"/>\n<text text-anchor=\"start\" x=\"548\" y=\"-52.8\" font-family=\"Helvetica,sans-Serif\" font-size=\"14.00\" fill=\"#000000\">gini = 0.346</text>\n<text text-anchor=\"start\" x=\"542\" y=\"-37.8\" font-family=\"Helvetica,sans-Serif\" font-size=\"14.00\" fill=\"#000000\">samples = 27</text>\n<text text-anchor=\"start\" x=\"540.5\" y=\"-22.8\" font-family=\"Helvetica,sans-Serif\" font-size=\"14.00\" fill=\"#000000\">value = [6, 21]</text>\n<text text-anchor=\"start\" x=\"546.5\" y=\"-7.8\" font-family=\"Helvetica,sans-Serif\" font-size=\"14.00\" fill=\"#000000\">class = Vivo</text>\n</g>\n<!-- 9&#45;&gt;10 -->\n<g id=\"edge10\" class=\"edge\">\n<title>9&#45;&gt;10</title>\n<path fill=\"none\" stroke=\"#000000\" d=\"M623.6582,-103.9815C618.9598,-95.2504 613.9929,-86.0202 609.2617,-77.2281\"/>\n<polygon fill=\"#000000\" stroke=\"#000000\" points=\"612.2586,-75.4111 604.4379,-68.2637 606.0944,-78.7282 612.2586,-75.4111\"/>\n</g>\n<!-- 11 -->\n<g id=\"node12\" class=\"node\">\n<title>11</title>\n<path fill=\"#e78946\" stroke=\"#000000\" d=\"M756.5,-68C756.5,-68 669.5,-68 669.5,-68 663.5,-68 657.5,-62 657.5,-56 657.5,-56 657.5,-12 657.5,-12 657.5,-6 663.5,0 669.5,0 669.5,0 756.5,0 756.5,0 762.5,0 768.5,-6 768.5,-12 768.5,-12 768.5,-56 768.5,-56 768.5,-62 762.5,-68 756.5,-68\"/>\n<text text-anchor=\"start\" x=\"675\" y=\"-52.8\" font-family=\"Helvetica,sans-Serif\" font-size=\"14.00\" fill=\"#000000\">gini = 0.117</text>\n<text text-anchor=\"start\" x=\"669\" y=\"-37.8\" font-family=\"Helvetica,sans-Serif\" font-size=\"14.00\" fill=\"#000000\">samples = 16</text>\n<text text-anchor=\"start\" x=\"667.5\" y=\"-22.8\" font-family=\"Helvetica,sans-Serif\" font-size=\"14.00\" fill=\"#000000\">value = [15, 1]</text>\n<text text-anchor=\"start\" x=\"665.5\" y=\"-7.8\" font-family=\"Helvetica,sans-Serif\" font-size=\"14.00\" fill=\"#000000\">class = Muerto</text>\n</g>\n<!-- 9&#45;&gt;11 -->\n<g id=\"edge11\" class=\"edge\">\n<title>9&#45;&gt;11</title>\n<path fill=\"none\" stroke=\"#000000\" d=\"M670.9483,-103.9815C676.2501,-95.1585 681.8581,-85.8258 687.1911,-76.9506\"/>\n<polygon fill=\"#000000\" stroke=\"#000000\" points=\"690.2605,-78.638 692.4111,-68.2637 684.2604,-75.0325 690.2605,-78.638\"/>\n</g>\n<!-- 13 -->\n<g id=\"node14\" class=\"node\">\n<title>13</title>\n<path fill=\"#f1bc95\" stroke=\"#000000\" d=\"M891,-68C891,-68 799,-68 799,-68 793,-68 787,-62 787,-56 787,-56 787,-12 787,-12 787,-6 793,0 799,0 799,0 891,0 891,0 897,0 903,-6 903,-12 903,-12 903,-56 903,-56 903,-62 897,-68 891,-68\"/>\n<text text-anchor=\"start\" x=\"807\" y=\"-52.8\" font-family=\"Helvetica,sans-Serif\" font-size=\"14.00\" fill=\"#000000\">gini = 0.433</text>\n<text text-anchor=\"start\" x=\"801\" y=\"-37.8\" font-family=\"Helvetica,sans-Serif\" font-size=\"14.00\" fill=\"#000000\">samples = 82</text>\n<text text-anchor=\"start\" x=\"795\" y=\"-22.8\" font-family=\"Helvetica,sans-Serif\" font-size=\"14.00\" fill=\"#000000\">value = [56, 26]</text>\n<text text-anchor=\"start\" x=\"797.5\" y=\"-7.8\" font-family=\"Helvetica,sans-Serif\" font-size=\"14.00\" fill=\"#000000\">class = Muerto</text>\n</g>\n<!-- 12&#45;&gt;13 -->\n<g id=\"edge13\" class=\"edge\">\n<title>12&#45;&gt;13</title>\n<path fill=\"none\" stroke=\"#000000\" d=\"M845,-103.9815C845,-95.618 845,-86.7965 845,-78.3409\"/>\n<polygon fill=\"#000000\" stroke=\"#000000\" points=\"848.5001,-78.2636 845,-68.2637 841.5001,-78.2637 848.5001,-78.2636\"/>\n</g>\n<!-- 14 -->\n<g id=\"node15\" class=\"node\">\n<title>14</title>\n<path fill=\"#e89152\" stroke=\"#000000\" d=\"M1033,-68C1033,-68 933,-68 933,-68 927,-68 921,-62 921,-56 921,-56 921,-12 921,-12 921,-6 927,0 933,0 933,0 1033,0 1033,0 1039,0 1045,-6 1045,-12 1045,-12 1045,-56 1045,-56 1045,-62 1039,-68 1033,-68\"/>\n<text text-anchor=\"start\" x=\"945\" y=\"-52.8\" font-family=\"Helvetica,sans-Serif\" font-size=\"14.00\" fill=\"#000000\">gini = 0.202</text>\n<text text-anchor=\"start\" x=\"935\" y=\"-37.8\" font-family=\"Helvetica,sans-Serif\" font-size=\"14.00\" fill=\"#000000\">samples = 342</text>\n<text text-anchor=\"start\" x=\"929\" y=\"-22.8\" font-family=\"Helvetica,sans-Serif\" font-size=\"14.00\" fill=\"#000000\">value = [303, 39]</text>\n<text text-anchor=\"start\" x=\"935.5\" y=\"-7.8\" font-family=\"Helvetica,sans-Serif\" font-size=\"14.00\" fill=\"#000000\">class = Muerto</text>\n</g>\n<!-- 12&#45;&gt;14 -->\n<g id=\"edge14\" class=\"edge\">\n<title>12&#45;&gt;14</title>\n<path fill=\"none\" stroke=\"#000000\" d=\"M896.3861,-103.9815C908.2161,-94.4232 920.7864,-84.2668 932.5751,-74.7419\"/>\n<polygon fill=\"#000000\" stroke=\"#000000\" points=\"935.0142,-77.2708 940.5929,-68.2637 930.6149,-71.826 935.0142,-77.2708\"/>\n</g>\n</g>\n</svg>\n"
          },
          "metadata": {
            "tags": []
          },
          "execution_count": 14
        }
      ]
    },
    {
      "cell_type": "markdown",
      "metadata": {
        "id": "6WHeq4lBe--Q",
        "colab_type": "text"
      },
      "source": [
        "#Árbol de Regresión"
      ]
    },
    {
      "cell_type": "code",
      "metadata": {
        "id": "B8FuDuzkfSu0",
        "colab_type": "code",
        "colab": {}
      },
      "source": [
        "from sklearn.tree import DecisionTreeRegressor"
      ],
      "execution_count": 0,
      "outputs": []
    },
    {
      "cell_type": "code",
      "metadata": {
        "id": "EP23sKEOfivV",
        "colab_type": "code",
        "colab": {}
      },
      "source": [
        "regresion = DecisionTreeRegressor(max_depth = 3)\n",
        "regresion = regresion.fit (x_train, y_train)"
      ],
      "execution_count": 0,
      "outputs": []
    },
    {
      "cell_type": "code",
      "metadata": {
        "id": "zEZnIzHRf7FE",
        "colab_type": "code",
        "outputId": "04acf0cc-9e87-474b-e679-bcd2711ab7d9",
        "colab": {
          "base_uri": "https://localhost:8080/",
          "height": 35
        }
      },
      "source": [
        "regresion.score(x_val,y_val)"
      ],
      "execution_count": 17,
      "outputs": [
        {
          "output_type": "execute_result",
          "data": {
            "text/plain": [
              "0.43331801729429636"
            ]
          },
          "metadata": {
            "tags": []
          },
          "execution_count": 17
        }
      ]
    },
    {
      "cell_type": "code",
      "metadata": {
        "id": "bhhkOGZEf_je",
        "colab_type": "code",
        "colab": {
          "base_uri": "https://localhost:8080/",
          "height": 538
        },
        "outputId": "936705f6-695e-4e0a-b133-78cbf3dc4aa3"
      },
      "source": [
        "dot_data = export_graphviz(regresion,feature_names= x.columns, class_names= ['Muerto','Vivo'],filled=True, rounded=True,special_characters=True) \n",
        "graph = graphviz.Source(dot_data)\n",
        "graph"
      ],
      "execution_count": 18,
      "outputs": [
        {
          "output_type": "execute_result",
          "data": {
            "text/plain": [
              "<graphviz.files.Source at 0x7f04073f5438>"
            ],
            "image/svg+xml": "<?xml version=\"1.0\" encoding=\"UTF-8\" standalone=\"no\"?>\n<!DOCTYPE svg PUBLIC \"-//W3C//DTD SVG 1.1//EN\"\n \"http://www.w3.org/Graphics/SVG/1.1/DTD/svg11.dtd\">\n<!-- Generated by graphviz version 2.40.1 (20161225.0304)\n -->\n<!-- Title: Tree Pages: 1 -->\n<svg width=\"974pt\" height=\"373pt\"\n viewBox=\"0.00 0.00 974.00 373.00\" xmlns=\"http://www.w3.org/2000/svg\" xmlns:xlink=\"http://www.w3.org/1999/xlink\">\n<g id=\"graph0\" class=\"graph\" transform=\"scale(1 1) rotate(0) translate(4 369)\">\n<title>Tree</title>\n<polygon fill=\"#ffffff\" stroke=\"transparent\" points=\"-4,4 -4,-369 970,-369 970,4 -4,4\"/>\n<!-- 0 -->\n<g id=\"node1\" class=\"node\">\n<title>0</title>\n<path fill=\"#f5ceb2\" stroke=\"#000000\" d=\"M515,-365C515,-365 427,-365 427,-365 421,-365 415,-359 415,-353 415,-353 415,-309 415,-309 415,-303 421,-297 427,-297 427,-297 515,-297 515,-297 521,-297 527,-303 527,-309 527,-309 527,-353 527,-353 527,-359 521,-365 515,-365\"/>\n<text text-anchor=\"start\" x=\"440.5\" y=\"-349.8\" font-family=\"Helvetica,sans-Serif\" font-size=\"14.00\" fill=\"#000000\">Sex ≤ 0.5</text>\n<text text-anchor=\"start\" x=\"430.5\" y=\"-334.8\" font-family=\"Helvetica,sans-Serif\" font-size=\"14.00\" fill=\"#000000\">mse = 0.235</text>\n<text text-anchor=\"start\" x=\"423\" y=\"-319.8\" font-family=\"Helvetica,sans-Serif\" font-size=\"14.00\" fill=\"#000000\">samples = 712</text>\n<text text-anchor=\"start\" x=\"427\" y=\"-304.8\" font-family=\"Helvetica,sans-Serif\" font-size=\"14.00\" fill=\"#000000\">value = 0.376</text>\n</g>\n<!-- 1 -->\n<g id=\"node2\" class=\"node\">\n<title>1</title>\n<path fill=\"#eb9f68\" stroke=\"#000000\" d=\"M401,-261C401,-261 313,-261 313,-261 307,-261 301,-255 301,-249 301,-249 301,-205 301,-205 301,-199 307,-193 313,-193 313,-193 401,-193 401,-193 407,-193 413,-199 413,-205 413,-205 413,-249 413,-249 413,-255 407,-261 401,-261\"/>\n<text text-anchor=\"start\" x=\"317.5\" y=\"-245.8\" font-family=\"Helvetica,sans-Serif\" font-size=\"14.00\" fill=\"#000000\">Pclass ≤ 2.5</text>\n<text text-anchor=\"start\" x=\"316.5\" y=\"-230.8\" font-family=\"Helvetica,sans-Serif\" font-size=\"14.00\" fill=\"#000000\">mse = 0.193</text>\n<text text-anchor=\"start\" x=\"309\" y=\"-215.8\" font-family=\"Helvetica,sans-Serif\" font-size=\"14.00\" fill=\"#000000\">samples = 245</text>\n<text text-anchor=\"start\" x=\"313\" y=\"-200.8\" font-family=\"Helvetica,sans-Serif\" font-size=\"14.00\" fill=\"#000000\">value = 0.739</text>\n</g>\n<!-- 0&#45;&gt;1 -->\n<g id=\"edge1\" class=\"edge\">\n<title>0&#45;&gt;1</title>\n<path fill=\"none\" stroke=\"#000000\" d=\"M433.6721,-296.9465C423.535,-287.6986 412.4517,-277.5876 401.9417,-267.9994\"/>\n<polygon fill=\"#000000\" stroke=\"#000000\" points=\"404.1583,-265.284 394.4117,-261.13 399.4405,-270.4553 404.1583,-265.284\"/>\n<text text-anchor=\"middle\" x=\"395.5573\" y=\"-282.4037\" font-family=\"Helvetica,sans-Serif\" font-size=\"14.00\" fill=\"#000000\">True</text>\n</g>\n<!-- 8 -->\n<g id=\"node9\" class=\"node\">\n<title>8</title>\n<path fill=\"#fae7d9\" stroke=\"#000000\" d=\"M651,-261C651,-261 547,-261 547,-261 541,-261 535,-255 535,-249 535,-249 535,-205 535,-205 535,-199 541,-193 547,-193 547,-193 651,-193 651,-193 657,-193 663,-199 663,-205 663,-205 663,-249 663,-249 663,-255 657,-261 651,-261\"/>\n<text text-anchor=\"start\" x=\"543\" y=\"-245.8\" font-family=\"Helvetica,sans-Serif\" font-size=\"14.00\" fill=\"#000000\">NamePrefix ≤ 9.0</text>\n<text text-anchor=\"start\" x=\"558.5\" y=\"-230.8\" font-family=\"Helvetica,sans-Serif\" font-size=\"14.00\" fill=\"#000000\">mse = 0.152</text>\n<text text-anchor=\"start\" x=\"551\" y=\"-215.8\" font-family=\"Helvetica,sans-Serif\" font-size=\"14.00\" fill=\"#000000\">samples = 467</text>\n<text text-anchor=\"start\" x=\"555\" y=\"-200.8\" font-family=\"Helvetica,sans-Serif\" font-size=\"14.00\" fill=\"#000000\">value = 0.186</text>\n</g>\n<!-- 0&#45;&gt;8 -->\n<g id=\"edge8\" class=\"edge\">\n<title>0&#45;&gt;8</title>\n<path fill=\"none\" stroke=\"#000000\" d=\"M512.912,-296.9465C524.515,-287.519 537.2221,-277.1946 549.2259,-267.4415\"/>\n<polygon fill=\"#000000\" stroke=\"#000000\" points=\"551.4398,-270.1524 556.9939,-261.13 547.0256,-264.7196 551.4398,-270.1524\"/>\n<text text-anchor=\"middle\" x=\"554.4214\" y=\"-282.2973\" font-family=\"Helvetica,sans-Serif\" font-size=\"14.00\" fill=\"#000000\">False</text>\n</g>\n<!-- 2 -->\n<g id=\"node3\" class=\"node\">\n<title>2</title>\n<path fill=\"#e5823b\" stroke=\"#000000\" d=\"M222.5,-157C222.5,-157 133.5,-157 133.5,-157 127.5,-157 121.5,-151 121.5,-145 121.5,-145 121.5,-101 121.5,-101 121.5,-95 127.5,-89 133.5,-89 133.5,-89 222.5,-89 222.5,-89 228.5,-89 234.5,-95 234.5,-101 234.5,-101 234.5,-145 234.5,-145 234.5,-151 228.5,-157 222.5,-157\"/>\n<text text-anchor=\"start\" x=\"129.5\" y=\"-141.8\" font-family=\"Helvetica,sans-Serif\" font-size=\"14.00\" fill=\"#000000\">Lname ≤ 656.0</text>\n<text text-anchor=\"start\" x=\"137.5\" y=\"-126.8\" font-family=\"Helvetica,sans-Serif\" font-size=\"14.00\" fill=\"#000000\">mse = 0.037</text>\n<text text-anchor=\"start\" x=\"130\" y=\"-111.8\" font-family=\"Helvetica,sans-Serif\" font-size=\"14.00\" fill=\"#000000\">samples = 130</text>\n<text text-anchor=\"start\" x=\"134\" y=\"-96.8\" font-family=\"Helvetica,sans-Serif\" font-size=\"14.00\" fill=\"#000000\">value = 0.962</text>\n</g>\n<!-- 1&#45;&gt;2 -->\n<g id=\"edge2\" class=\"edge\">\n<title>1&#45;&gt;2</title>\n<path fill=\"none\" stroke=\"#000000\" d=\"M300.8544,-194.3791C282.6211,-183.7854 262.2325,-171.9395 243.3856,-160.9894\"/>\n<polygon fill=\"#000000\" stroke=\"#000000\" points=\"244.9667,-157.8602 234.5618,-155.8627 241.4501,-163.9128 244.9667,-157.8602\"/>\n</g>\n<!-- 5 -->\n<g id=\"node6\" class=\"node\">\n<title>5</title>\n<path fill=\"#f2c09b\" stroke=\"#000000\" d=\"M404.5,-157C404.5,-157 309.5,-157 309.5,-157 303.5,-157 297.5,-151 297.5,-145 297.5,-145 297.5,-101 297.5,-101 297.5,-95 303.5,-89 309.5,-89 309.5,-89 404.5,-89 404.5,-89 410.5,-89 416.5,-95 416.5,-101 416.5,-101 416.5,-145 416.5,-145 416.5,-151 410.5,-157 404.5,-157\"/>\n<text text-anchor=\"start\" x=\"305.5\" y=\"-141.8\" font-family=\"Helvetica,sans-Serif\" font-size=\"14.00\" fill=\"#000000\">Embarked ≤ 1.5</text>\n<text text-anchor=\"start\" x=\"320.5\" y=\"-126.8\" font-family=\"Helvetica,sans-Serif\" font-size=\"14.00\" fill=\"#000000\">mse = 0.25</text>\n<text text-anchor=\"start\" x=\"309\" y=\"-111.8\" font-family=\"Helvetica,sans-Serif\" font-size=\"14.00\" fill=\"#000000\">samples = 115</text>\n<text text-anchor=\"start\" x=\"313\" y=\"-96.8\" font-family=\"Helvetica,sans-Serif\" font-size=\"14.00\" fill=\"#000000\">value = 0.487</text>\n</g>\n<!-- 1&#45;&gt;5 -->\n<g id=\"edge5\" class=\"edge\">\n<title>1&#45;&gt;5</title>\n<path fill=\"none\" stroke=\"#000000\" d=\"M357,-192.9465C357,-184.776 357,-175.9318 357,-167.3697\"/>\n<polygon fill=\"#000000\" stroke=\"#000000\" points=\"360.5001,-167.13 357,-157.13 353.5001,-167.13 360.5001,-167.13\"/>\n</g>\n<!-- 3 -->\n<g id=\"node4\" class=\"node\">\n<title>3</title>\n<path fill=\"#e58139\" stroke=\"#000000\" d=\"M100,-53C100,-53 12,-53 12,-53 6,-53 0,-47 0,-41 0,-41 0,-12 0,-12 0,-6 6,0 12,0 12,0 100,0 100,0 106,0 112,-6 112,-12 112,-12 112,-41 112,-41 112,-47 106,-53 100,-53\"/>\n<text text-anchor=\"start\" x=\"19.5\" y=\"-37.8\" font-family=\"Helvetica,sans-Serif\" font-size=\"14.00\" fill=\"#000000\">mse = 0.03</text>\n<text text-anchor=\"start\" x=\"8\" y=\"-22.8\" font-family=\"Helvetica,sans-Serif\" font-size=\"14.00\" fill=\"#000000\">samples = 129</text>\n<text text-anchor=\"start\" x=\"12\" y=\"-7.8\" font-family=\"Helvetica,sans-Serif\" font-size=\"14.00\" fill=\"#000000\">value = 0.969</text>\n</g>\n<!-- 2&#45;&gt;3 -->\n<g id=\"edge3\" class=\"edge\">\n<title>2&#45;&gt;3</title>\n<path fill=\"none\" stroke=\"#000000\" d=\"M134.9874,-88.9777C122.9476,-79.4545 109.8812,-69.1191 97.9065,-59.6473\"/>\n<polygon fill=\"#000000\" stroke=\"#000000\" points=\"99.8311,-56.7072 89.8167,-53.2485 95.4885,-62.1973 99.8311,-56.7072\"/>\n</g>\n<!-- 4 -->\n<g id=\"node5\" class=\"node\">\n<title>4</title>\n<path fill=\"#ffffff\" stroke=\"#000000\" d=\"M213.5,-53C213.5,-53 142.5,-53 142.5,-53 136.5,-53 130.5,-47 130.5,-41 130.5,-41 130.5,-12 130.5,-12 130.5,-6 136.5,0 142.5,0 142.5,0 213.5,0 213.5,0 219.5,0 225.5,-6 225.5,-12 225.5,-12 225.5,-41 225.5,-41 225.5,-47 219.5,-53 213.5,-53\"/>\n<text text-anchor=\"start\" x=\"146\" y=\"-37.8\" font-family=\"Helvetica,sans-Serif\" font-size=\"14.00\" fill=\"#000000\">mse = 0.0</text>\n<text text-anchor=\"start\" x=\"138.5\" y=\"-22.8\" font-family=\"Helvetica,sans-Serif\" font-size=\"14.00\" fill=\"#000000\">samples = 1</text>\n<text text-anchor=\"start\" x=\"142\" y=\"-7.8\" font-family=\"Helvetica,sans-Serif\" font-size=\"14.00\" fill=\"#000000\">value = 0.0</text>\n</g>\n<!-- 2&#45;&gt;4 -->\n<g id=\"edge4\" class=\"edge\">\n<title>2&#45;&gt;4</title>\n<path fill=\"none\" stroke=\"#000000\" d=\"M178,-88.9777C178,-80.7364 178,-71.887 178,-63.5153\"/>\n<polygon fill=\"#000000\" stroke=\"#000000\" points=\"181.5001,-63.2484 178,-53.2485 174.5001,-63.2485 181.5001,-63.2484\"/>\n</g>\n<!-- 6 -->\n<g id=\"node7\" class=\"node\">\n<title>6</title>\n<path fill=\"#eca26c\" stroke=\"#000000\" d=\"M336,-53C336,-53 256,-53 256,-53 250,-53 244,-47 244,-41 244,-41 244,-12 244,-12 244,-6 250,0 256,0 256,0 336,0 336,0 342,0 348,-6 348,-12 348,-12 348,-41 348,-41 348,-47 342,-53 336,-53\"/>\n<text text-anchor=\"start\" x=\"255.5\" y=\"-37.8\" font-family=\"Helvetica,sans-Serif\" font-size=\"14.00\" fill=\"#000000\">mse = 0.202</text>\n<text text-anchor=\"start\" x=\"252\" y=\"-22.8\" font-family=\"Helvetica,sans-Serif\" font-size=\"14.00\" fill=\"#000000\">samples = 39</text>\n<text text-anchor=\"start\" x=\"252\" y=\"-7.8\" font-family=\"Helvetica,sans-Serif\" font-size=\"14.00\" fill=\"#000000\">value = 0.718</text>\n</g>\n<!-- 5&#45;&gt;6 -->\n<g id=\"edge6\" class=\"edge\">\n<title>5&#45;&gt;6</title>\n<path fill=\"none\" stroke=\"#000000\" d=\"M335.4937,-88.9777C329.9369,-80.187 323.9427,-70.7044 318.3441,-61.8477\"/>\n<polygon fill=\"#000000\" stroke=\"#000000\" points=\"321.2101,-59.8312 312.9084,-53.2485 315.2931,-63.5714 321.2101,-59.8312\"/>\n</g>\n<!-- 7 -->\n<g id=\"node8\" class=\"node\">\n<title>7</title>\n<path fill=\"#f5cfb4\" stroke=\"#000000\" d=\"M458,-53C458,-53 378,-53 378,-53 372,-53 366,-47 366,-41 366,-41 366,-12 366,-12 366,-6 372,0 378,0 378,0 458,0 458,0 464,0 470,-6 470,-12 470,-12 470,-41 470,-41 470,-47 464,-53 458,-53\"/>\n<text text-anchor=\"start\" x=\"377.5\" y=\"-37.8\" font-family=\"Helvetica,sans-Serif\" font-size=\"14.00\" fill=\"#000000\">mse = 0.233</text>\n<text text-anchor=\"start\" x=\"374\" y=\"-22.8\" font-family=\"Helvetica,sans-Serif\" font-size=\"14.00\" fill=\"#000000\">samples = 76</text>\n<text text-anchor=\"start\" x=\"374\" y=\"-7.8\" font-family=\"Helvetica,sans-Serif\" font-size=\"14.00\" fill=\"#000000\">value = 0.368</text>\n</g>\n<!-- 5&#45;&gt;7 -->\n<g id=\"edge7\" class=\"edge\">\n<title>5&#45;&gt;7</title>\n<path fill=\"none\" stroke=\"#000000\" d=\"M378.5063,-88.9777C384.0631,-80.187 390.0573,-70.7044 395.6559,-61.8477\"/>\n<polygon fill=\"#000000\" stroke=\"#000000\" points=\"398.7069,-63.5714 401.0916,-53.2485 392.7899,-59.8312 398.7069,-63.5714\"/>\n</g>\n<!-- 9 -->\n<g id=\"node10\" class=\"node\">\n<title>9</title>\n<path fill=\"#f1bc96\" stroke=\"#000000\" d=\"M639,-157C639,-157 559,-157 559,-157 553,-157 547,-151 547,-145 547,-145 547,-101 547,-101 547,-95 553,-89 559,-89 559,-89 639,-89 639,-89 645,-89 651,-95 651,-101 651,-101 651,-145 651,-145 651,-151 645,-157 639,-157\"/>\n<text text-anchor=\"start\" x=\"561.5\" y=\"-141.8\" font-family=\"Helvetica,sans-Serif\" font-size=\"14.00\" fill=\"#000000\">SibSp ≤ 2.5</text>\n<text text-anchor=\"start\" x=\"562.5\" y=\"-126.8\" font-family=\"Helvetica,sans-Serif\" font-size=\"14.00\" fill=\"#000000\">mse = 0.25</text>\n<text text-anchor=\"start\" x=\"555\" y=\"-111.8\" font-family=\"Helvetica,sans-Serif\" font-size=\"14.00\" fill=\"#000000\">samples = 43</text>\n<text text-anchor=\"start\" x=\"555\" y=\"-96.8\" font-family=\"Helvetica,sans-Serif\" font-size=\"14.00\" fill=\"#000000\">value = 0.512</text>\n</g>\n<!-- 8&#45;&gt;9 -->\n<g id=\"edge9\" class=\"edge\">\n<title>8&#45;&gt;9</title>\n<path fill=\"none\" stroke=\"#000000\" d=\"M599,-192.9465C599,-184.776 599,-175.9318 599,-167.3697\"/>\n<polygon fill=\"#000000\" stroke=\"#000000\" points=\"602.5001,-167.13 599,-157.13 595.5001,-167.13 602.5001,-167.13\"/>\n</g>\n<!-- 12 -->\n<g id=\"node13\" class=\"node\">\n<title>12</title>\n<path fill=\"#fbebe0\" stroke=\"#000000\" d=\"M828,-157C828,-157 740,-157 740,-157 734,-157 728,-151 728,-145 728,-145 728,-101 728,-101 728,-95 734,-89 740,-89 740,-89 828,-89 828,-89 834,-89 840,-95 840,-101 840,-101 840,-145 840,-145 840,-151 834,-157 828,-157\"/>\n<text text-anchor=\"start\" x=\"744.5\" y=\"-141.8\" font-family=\"Helvetica,sans-Serif\" font-size=\"14.00\" fill=\"#000000\">Pclass ≤ 1.5</text>\n<text text-anchor=\"start\" x=\"747.5\" y=\"-126.8\" font-family=\"Helvetica,sans-Serif\" font-size=\"14.00\" fill=\"#000000\">mse = 0.13</text>\n<text text-anchor=\"start\" x=\"736\" y=\"-111.8\" font-family=\"Helvetica,sans-Serif\" font-size=\"14.00\" fill=\"#000000\">samples = 424</text>\n<text text-anchor=\"start\" x=\"740\" y=\"-96.8\" font-family=\"Helvetica,sans-Serif\" font-size=\"14.00\" fill=\"#000000\">value = 0.153</text>\n</g>\n<!-- 8&#45;&gt;12 -->\n<g id=\"edge12\" class=\"edge\">\n<title>8&#45;&gt;12</title>\n<path fill=\"none\" stroke=\"#000000\" d=\"M659.5759,-192.9465C678.675,-182.2098 699.8436,-170.3095 719.2234,-159.4149\"/>\n<polygon fill=\"#000000\" stroke=\"#000000\" points=\"720.9861,-162.4393 727.9879,-154.4879 717.5558,-156.3373 720.9861,-162.4393\"/>\n</g>\n<!-- 10 -->\n<g id=\"node11\" class=\"node\">\n<title>10</title>\n<path fill=\"#ea9a60\" stroke=\"#000000\" d=\"M580,-53C580,-53 500,-53 500,-53 494,-53 488,-47 488,-41 488,-41 488,-12 488,-12 488,-6 494,0 500,0 500,0 580,0 580,0 586,0 592,-6 592,-12 592,-12 592,-41 592,-41 592,-47 586,-53 580,-53\"/>\n<text text-anchor=\"start\" x=\"499.5\" y=\"-37.8\" font-family=\"Helvetica,sans-Serif\" font-size=\"14.00\" fill=\"#000000\">mse = 0.173</text>\n<text text-anchor=\"start\" x=\"496\" y=\"-22.8\" font-family=\"Helvetica,sans-Serif\" font-size=\"14.00\" fill=\"#000000\">samples = 27</text>\n<text text-anchor=\"start\" x=\"496\" y=\"-7.8\" font-family=\"Helvetica,sans-Serif\" font-size=\"14.00\" fill=\"#000000\">value = 0.778</text>\n</g>\n<!-- 9&#45;&gt;10 -->\n<g id=\"edge10\" class=\"edge\">\n<title>9&#45;&gt;10</title>\n<path fill=\"none\" stroke=\"#000000\" d=\"M578.1988,-88.9777C572.8242,-80.187 567.0265,-70.7044 561.6115,-61.8477\"/>\n<polygon fill=\"#000000\" stroke=\"#000000\" points=\"564.5564,-59.9545 556.354,-53.2485 558.5842,-63.6059 564.5564,-59.9545\"/>\n</g>\n<!-- 11 -->\n<g id=\"node12\" class=\"node\">\n<title>11</title>\n<path fill=\"#fdf7f2\" stroke=\"#000000\" d=\"M702,-53C702,-53 622,-53 622,-53 616,-53 610,-47 610,-41 610,-41 610,-12 610,-12 610,-6 616,0 622,0 622,0 702,0 702,0 708,0 714,-6 714,-12 714,-12 714,-41 714,-41 714,-47 708,-53 702,-53\"/>\n<text text-anchor=\"start\" x=\"621.5\" y=\"-37.8\" font-family=\"Helvetica,sans-Serif\" font-size=\"14.00\" fill=\"#000000\">mse = 0.059</text>\n<text text-anchor=\"start\" x=\"618\" y=\"-22.8\" font-family=\"Helvetica,sans-Serif\" font-size=\"14.00\" fill=\"#000000\">samples = 16</text>\n<text text-anchor=\"start\" x=\"618\" y=\"-7.8\" font-family=\"Helvetica,sans-Serif\" font-size=\"14.00\" fill=\"#000000\">value = 0.062</text>\n</g>\n<!-- 9&#45;&gt;11 -->\n<g id=\"edge11\" class=\"edge\">\n<title>9&#45;&gt;11</title>\n<path fill=\"none\" stroke=\"#000000\" d=\"M621.2114,-88.9777C626.9504,-80.187 633.1412,-70.7044 638.9233,-61.8477\"/>\n<polygon fill=\"#000000\" stroke=\"#000000\" points=\"642.0013,-63.5354 644.5373,-53.2485 636.1398,-59.7087 642.0013,-63.5354\"/>\n</g>\n<!-- 13 -->\n<g id=\"node14\" class=\"node\">\n<title>13</title>\n<path fill=\"#f6d6be\" stroke=\"#000000\" d=\"M824,-53C824,-53 744,-53 744,-53 738,-53 732,-47 732,-41 732,-41 732,-12 732,-12 732,-6 738,0 744,0 744,0 824,0 824,0 830,0 836,-6 836,-12 836,-12 836,-41 836,-41 836,-47 830,-53 824,-53\"/>\n<text text-anchor=\"start\" x=\"743.5\" y=\"-37.8\" font-family=\"Helvetica,sans-Serif\" font-size=\"14.00\" fill=\"#000000\">mse = 0.217</text>\n<text text-anchor=\"start\" x=\"740\" y=\"-22.8\" font-family=\"Helvetica,sans-Serif\" font-size=\"14.00\" fill=\"#000000\">samples = 82</text>\n<text text-anchor=\"start\" x=\"740\" y=\"-7.8\" font-family=\"Helvetica,sans-Serif\" font-size=\"14.00\" fill=\"#000000\">value = 0.317</text>\n</g>\n<!-- 12&#45;&gt;13 -->\n<g id=\"edge13\" class=\"edge\">\n<title>12&#45;&gt;13</title>\n<path fill=\"none\" stroke=\"#000000\" d=\"M784,-88.9777C784,-80.7364 784,-71.887 784,-63.5153\"/>\n<polygon fill=\"#000000\" stroke=\"#000000\" points=\"787.5001,-63.2484 784,-53.2485 780.5001,-63.2485 787.5001,-63.2484\"/>\n</g>\n<!-- 14 -->\n<g id=\"node15\" class=\"node\">\n<title>14</title>\n<path fill=\"#fcf0e8\" stroke=\"#000000\" d=\"M954,-53C954,-53 866,-53 866,-53 860,-53 854,-47 854,-41 854,-41 854,-12 854,-12 854,-6 860,0 866,0 866,0 954,0 954,0 960,0 966,-6 966,-12 966,-12 966,-41 966,-41 966,-47 960,-53 954,-53\"/>\n<text text-anchor=\"start\" x=\"869.5\" y=\"-37.8\" font-family=\"Helvetica,sans-Serif\" font-size=\"14.00\" fill=\"#000000\">mse = 0.101</text>\n<text text-anchor=\"start\" x=\"862\" y=\"-22.8\" font-family=\"Helvetica,sans-Serif\" font-size=\"14.00\" fill=\"#000000\">samples = 342</text>\n<text text-anchor=\"start\" x=\"866\" y=\"-7.8\" font-family=\"Helvetica,sans-Serif\" font-size=\"14.00\" fill=\"#000000\">value = 0.114</text>\n</g>\n<!-- 12&#45;&gt;14 -->\n<g id=\"edge14\" class=\"edge\">\n<title>12&#45;&gt;14</title>\n<path fill=\"none\" stroke=\"#000000\" d=\"M828.4229,-88.9777C840.977,-79.3629 854.6119,-68.9203 867.076,-59.3743\"/>\n<polygon fill=\"#000000\" stroke=\"#000000\" points=\"869.2635,-62.1076 875.0745,-53.2485 865.0073,-56.5502 869.2635,-62.1076\"/>\n</g>\n</g>\n</svg>\n"
          },
          "metadata": {
            "tags": []
          },
          "execution_count": 18
        }
      ]
    }
  ]
}