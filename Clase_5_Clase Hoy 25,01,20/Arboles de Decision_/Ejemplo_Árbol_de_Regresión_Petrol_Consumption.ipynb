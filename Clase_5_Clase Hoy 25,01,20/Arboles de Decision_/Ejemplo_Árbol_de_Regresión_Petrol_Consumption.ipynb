{
  "nbformat": 4,
  "nbformat_minor": 0,
  "metadata": {
    "colab": {
      "name": "Ejemplo: Árbol de Regresión - Petrol Consumption.ipynb",
      "provenance": [],
      "collapsed_sections": []
    },
    "kernelspec": {
      "name": "python3",
      "display_name": "Python 3"
    }
  },
  "cells": [
    {
      "cell_type": "markdown",
      "metadata": {
        "id": "gebJ6z-rgnOA",
        "colab_type": "text"
      },
      "source": [
        "#Ejemplo: Árbol de Regresión - Petrol Consumption"
      ]
    },
    {
      "cell_type": "code",
      "metadata": {
        "id": "oy-66GMZ5EIy",
        "colab_type": "code",
        "colab": {}
      },
      "source": [
        "import pandas as pd"
      ],
      "execution_count": 0,
      "outputs": []
    },
    {
      "cell_type": "code",
      "metadata": {
        "id": "dMihpUQo5KHN",
        "colab_type": "code",
        "outputId": "083deb53-2ad6-40c8-8d88-a14afea8c030",
        "colab": {
          "base_uri": "https://localhost:8080/",
          "height": 226
        }
      },
      "source": [
        "df = pd.read_csv(\"petrol_consumption.csv\")\n",
        "df.head()"
      ],
      "execution_count": 0,
      "outputs": [
        {
          "output_type": "execute_result",
          "data": {
            "text/html": [
              "<div>\n",
              "<style scoped>\n",
              "    .dataframe tbody tr th:only-of-type {\n",
              "        vertical-align: middle;\n",
              "    }\n",
              "\n",
              "    .dataframe tbody tr th {\n",
              "        vertical-align: top;\n",
              "    }\n",
              "\n",
              "    .dataframe thead th {\n",
              "        text-align: right;\n",
              "    }\n",
              "</style>\n",
              "<table border=\"1\" class=\"dataframe\">\n",
              "  <thead>\n",
              "    <tr style=\"text-align: right;\">\n",
              "      <th></th>\n",
              "      <th>Petrol_tax</th>\n",
              "      <th>Average_income</th>\n",
              "      <th>Paved_Highways</th>\n",
              "      <th>Population_Driver_licence(%)</th>\n",
              "      <th>Petrol_Consumption</th>\n",
              "    </tr>\n",
              "  </thead>\n",
              "  <tbody>\n",
              "    <tr>\n",
              "      <th>0</th>\n",
              "      <td>9.0</td>\n",
              "      <td>3571</td>\n",
              "      <td>1976</td>\n",
              "      <td>0.525</td>\n",
              "      <td>541</td>\n",
              "    </tr>\n",
              "    <tr>\n",
              "      <th>1</th>\n",
              "      <td>9.0</td>\n",
              "      <td>4092</td>\n",
              "      <td>1250</td>\n",
              "      <td>0.572</td>\n",
              "      <td>524</td>\n",
              "    </tr>\n",
              "    <tr>\n",
              "      <th>2</th>\n",
              "      <td>9.0</td>\n",
              "      <td>3865</td>\n",
              "      <td>1586</td>\n",
              "      <td>0.580</td>\n",
              "      <td>561</td>\n",
              "    </tr>\n",
              "    <tr>\n",
              "      <th>3</th>\n",
              "      <td>7.5</td>\n",
              "      <td>4870</td>\n",
              "      <td>2351</td>\n",
              "      <td>0.529</td>\n",
              "      <td>414</td>\n",
              "    </tr>\n",
              "    <tr>\n",
              "      <th>4</th>\n",
              "      <td>8.0</td>\n",
              "      <td>4399</td>\n",
              "      <td>431</td>\n",
              "      <td>0.544</td>\n",
              "      <td>410</td>\n",
              "    </tr>\n",
              "  </tbody>\n",
              "</table>\n",
              "</div>"
            ],
            "text/plain": [
              "   Petrol_tax  Average_income  ...  Population_Driver_licence(%)  Petrol_Consumption\n",
              "0         9.0            3571  ...                         0.525                 541\n",
              "1         9.0            4092  ...                         0.572                 524\n",
              "2         9.0            3865  ...                         0.580                 561\n",
              "3         7.5            4870  ...                         0.529                 414\n",
              "4         8.0            4399  ...                         0.544                 410\n",
              "\n",
              "[5 rows x 5 columns]"
            ]
          },
          "metadata": {
            "tags": []
          },
          "execution_count": 5
        }
      ]
    },
    {
      "cell_type": "markdown",
      "metadata": {
        "id": "NW8CE6wigvDG",
        "colab_type": "text"
      },
      "source": [
        "##Separación de atributos y objetivos"
      ]
    },
    {
      "cell_type": "code",
      "metadata": {
        "id": "_T5KmH9o51mV",
        "colab_type": "code",
        "colab": {}
      },
      "source": [
        "x = df.drop('Petrol_Consumption', axis=1)\n",
        "y = df['Petrol_Consumption']"
      ],
      "execution_count": 0,
      "outputs": []
    },
    {
      "cell_type": "markdown",
      "metadata": {
        "id": "DefLb4r_gzQI",
        "colab_type": "text"
      },
      "source": [
        "##Separación de Data de Entrenamiento y Data de Validación"
      ]
    },
    {
      "cell_type": "code",
      "metadata": {
        "id": "yuHgZe3jW2Rl",
        "colab_type": "code",
        "outputId": "baa8d31a-e5ea-4b29-9fd9-4ca115168a40",
        "colab": {
          "base_uri": "https://localhost:8080/",
          "height": 54
        }
      },
      "source": [
        "from sklearn.model_selection import train_test_split\n",
        "\n",
        "# Usamos método \"train_test_split\" para usar el 20% de la data para validar el modelo.\n",
        "# El parámetro \"random state\" nos sirve para poder replicar la misma separación.\n",
        "x_train, x_val, y_train, y_val = train_test_split(x, y, test_size=0.2)\n",
        "print('Train shape: ',x_train.shape)\n",
        "print('Validation shape: ',x_val.shape)"
      ],
      "execution_count": 0,
      "outputs": [
        {
          "output_type": "stream",
          "text": [
            "Train shape:  (38, 4)\n",
            "Validation shape:  (10, 4)\n"
          ],
          "name": "stdout"
        }
      ]
    },
    {
      "cell_type": "markdown",
      "metadata": {
        "id": "ZS6xeNhYg3HZ",
        "colab_type": "text"
      },
      "source": [
        "##Entrenamiento de Árbol de Regresión"
      ]
    },
    {
      "cell_type": "code",
      "metadata": {
        "id": "k7XaizOT6SUY",
        "colab_type": "code",
        "colab": {}
      },
      "source": [
        "from sklearn.tree import DecisionTreeRegressor"
      ],
      "execution_count": 0,
      "outputs": []
    },
    {
      "cell_type": "code",
      "metadata": {
        "id": "vFoChswI6XGw",
        "colab_type": "code",
        "outputId": "b7e53f0a-26de-4c41-d975-7e743f82ff41",
        "colab": {
          "base_uri": "https://localhost:8080/",
          "height": 128
        }
      },
      "source": [
        "regresion = DecisionTreeRegressor()\n",
        "regresion.fit (x_train, y_train)"
      ],
      "execution_count": 0,
      "outputs": [
        {
          "output_type": "execute_result",
          "data": {
            "text/plain": [
              "DecisionTreeRegressor(ccp_alpha=0.0, criterion='mse', max_depth=None,\n",
              "                      max_features=None, max_leaf_nodes=None,\n",
              "                      min_impurity_decrease=0.0, min_impurity_split=None,\n",
              "                      min_samples_leaf=1, min_samples_split=2,\n",
              "                      min_weight_fraction_leaf=0.0, presort='deprecated',\n",
              "                      random_state=None, splitter='best')"
            ]
          },
          "metadata": {
            "tags": []
          },
          "execution_count": 28
        }
      ]
    },
    {
      "cell_type": "code",
      "metadata": {
        "id": "bkiHH5Vs6gxc",
        "colab_type": "code",
        "outputId": "f54da67d-4585-4817-947e-2e294d8dc481",
        "colab": {
          "base_uri": "https://localhost:8080/",
          "height": 36
        }
      },
      "source": [
        "regresion.score(x_train,y_train)"
      ],
      "execution_count": 0,
      "outputs": [
        {
          "output_type": "execute_result",
          "data": {
            "text/plain": [
              "1.0"
            ]
          },
          "metadata": {
            "tags": []
          },
          "execution_count": 19
        }
      ]
    },
    {
      "cell_type": "code",
      "metadata": {
        "id": "MEHyoKPW6dPb",
        "colab_type": "code",
        "outputId": "7c91b9fb-a0e9-49d0-f7e3-73ae48331480",
        "colab": {
          "base_uri": "https://localhost:8080/",
          "height": 36
        }
      },
      "source": [
        "regresion.score(x_val,y_val)"
      ],
      "execution_count": 0,
      "outputs": [
        {
          "output_type": "execute_result",
          "data": {
            "text/plain": [
              "0.3681803858921465"
            ]
          },
          "metadata": {
            "tags": []
          },
          "execution_count": 29
        }
      ]
    },
    {
      "cell_type": "markdown",
      "metadata": {
        "id": "oiIRgEM9hHIf",
        "colab_type": "text"
      },
      "source": [
        "Para valores continuos, el árbol de regresión no es óptimo"
      ]
    },
    {
      "cell_type": "markdown",
      "metadata": {
        "id": "j1yc261Xg7Fe",
        "colab_type": "text"
      },
      "source": [
        "##Árbol de Clasificación para valores continuos"
      ]
    },
    {
      "cell_type": "code",
      "metadata": {
        "id": "5_ULyk7C8GLZ",
        "colab_type": "code",
        "colab": {}
      },
      "source": [
        "from sklearn.tree import DecisionTreeClassifier"
      ],
      "execution_count": 0,
      "outputs": []
    },
    {
      "cell_type": "code",
      "metadata": {
        "id": "MgHGJc7K8BSN",
        "colab_type": "code",
        "colab": {}
      },
      "source": [
        "m2 = DecisionTreeClassifier(max_depth=5)\n",
        "m2 = m2.fit(x_train,y_train)"
      ],
      "execution_count": 0,
      "outputs": []
    },
    {
      "cell_type": "code",
      "metadata": {
        "id": "fO5TeNfL8JZT",
        "colab_type": "code",
        "outputId": "9c5f1a53-d4e6-45e8-8ff9-8462b689e307",
        "colab": {
          "base_uri": "https://localhost:8080/",
          "height": 36
        }
      },
      "source": [
        "m2.score(x_val,y_val)"
      ],
      "execution_count": 0,
      "outputs": [
        {
          "output_type": "execute_result",
          "data": {
            "text/plain": [
              "0.0"
            ]
          },
          "metadata": {
            "tags": []
          },
          "execution_count": 33
        }
      ]
    },
    {
      "cell_type": "markdown",
      "metadata": {
        "id": "0mIXAJVMhAkw",
        "colab_type": "text"
      },
      "source": [
        "Nos percatamos que para valores continuos, arboles de clasificación no funcionan"
      ]
    }
  ]
}