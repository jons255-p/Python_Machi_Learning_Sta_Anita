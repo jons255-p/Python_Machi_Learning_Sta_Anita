{
  "nbformat": 4,
  "nbformat_minor": 0,
  "metadata": {
    "colab": {
      "name": "Tarea_Smarthphone_Classification.ipynb",
      "provenance": []
    },
    "kernelspec": {
      "name": "python3",
      "display_name": "Python 3"
    }
  },
  "cells": [
    {
      "cell_type": "markdown",
      "metadata": {
        "id": "LMu58lEhq4MK",
        "colab_type": "text"
      },
      "source": [
        "#Smarthphone Classification"
      ]
    },
    {
      "cell_type": "markdown",
      "metadata": {
        "id": "dEbWITTjr0JG",
        "colab_type": "text"
      },
      "source": [
        "> En el presente problema, se le pide predecir en qué rango de precio se encontrará un smartphone con ciertas características, para eso usará el modelo de predición de árboles de clasificación\n",
        "\n"
      ]
    },
    {
      "cell_type": "markdown",
      "metadata": {
        "id": "Pmux9sr7t4CR",
        "colab_type": "text"
      },
      "source": [
        "###Diccionario de Datos:"
      ]
    },
    {
      "cell_type": "markdown",
      "metadata": {
        "id": "O_cvfP2ErIPw",
        "colab_type": "text"
      },
      "source": [
        "![texto alternativo](https://drive.google.com/uc?id=1KXjM7fibU8RzzI3KCqA5Sh2AySBR1PbZ)"
      ]
    },
    {
      "cell_type": "markdown",
      "metadata": {
        "id": "Wrxx8_gdt8vj",
        "colab_type": "text"
      },
      "source": [
        "###Importar CSV"
      ]
    },
    {
      "cell_type": "code",
      "metadata": {
        "id": "iPTvroqMaQ7Z",
        "colab_type": "code",
        "colab": {}
      },
      "source": [
        "import pandas as pd\n",
        "#Smarthphone.csv"
      ],
      "execution_count": 0,
      "outputs": []
    },
    {
      "cell_type": "markdown",
      "metadata": {
        "id": "rWinIryMuGcb",
        "colab_type": "text"
      },
      "source": [
        "###Limpieza de Datos"
      ]
    },
    {
      "cell_type": "markdown",
      "metadata": {
        "id": "XckYXNKguIcR",
        "colab_type": "text"
      },
      "source": [
        "> Haga los ajustes que crea conveniente (si los hubiera) para poder procesar la data\n",
        "\n"
      ]
    },
    {
      "cell_type": "code",
      "metadata": {
        "id": "LxeJbQA3-lYY",
        "colab_type": "code",
        "colab": {}
      },
      "source": [
        ""
      ],
      "execution_count": 0,
      "outputs": []
    },
    {
      "cell_type": "markdown",
      "metadata": {
        "id": "vgG517FUuWC5",
        "colab_type": "text"
      },
      "source": [
        "###Data de Entrenamiento y Validación"
      ]
    },
    {
      "cell_type": "markdown",
      "metadata": {
        "id": "ze7sKStBuidJ",
        "colab_type": "text"
      },
      "source": [
        "> Nuestro target es el \"price_range\" ¿Cúantas etiquetas o clases tiene?\n",
        "\n"
      ]
    },
    {
      "cell_type": "code",
      "metadata": {
        "id": "PCqQ00_3-iov",
        "colab_type": "code",
        "colab": {}
      },
      "source": [
        ""
      ],
      "execution_count": 0,
      "outputs": []
    },
    {
      "cell_type": "markdown",
      "metadata": {
        "id": "2TyynivOvcFs",
        "colab_type": "text"
      },
      "source": [
        "> Separe los atributos de los targets\n",
        "\n"
      ]
    },
    {
      "cell_type": "code",
      "metadata": {
        "id": "_j18lj72kThT",
        "colab_type": "code",
        "colab": {}
      },
      "source": [
        "# X e Y"
      ],
      "execution_count": 0,
      "outputs": []
    },
    {
      "cell_type": "markdown",
      "metadata": {
        "id": "R_4HB6xKvpRq",
        "colab_type": "text"
      },
      "source": [
        "> Finalmente separe la data con un porcentaje de \"test_size\" que crea conveniente\n",
        "\n"
      ]
    },
    {
      "cell_type": "code",
      "metadata": {
        "id": "cXqPGxKq-fOi",
        "colab_type": "code",
        "colab": {}
      },
      "source": [
        ""
      ],
      "execution_count": 0,
      "outputs": []
    },
    {
      "cell_type": "markdown",
      "metadata": {
        "id": "XaRuYfFOwND9",
        "colab_type": "text"
      },
      "source": [
        "###Entrenamiento del árbol de clasificación"
      ]
    },
    {
      "cell_type": "markdown",
      "metadata": {
        "id": "cmyLg1vTwb5k",
        "colab_type": "text"
      },
      "source": [
        "> Entrene el modelo sin un \"max_depth\" definido\n",
        "\n"
      ]
    },
    {
      "cell_type": "code",
      "metadata": {
        "id": "e3yWzutA-U0A",
        "colab_type": "code",
        "colab": {}
      },
      "source": [
        ""
      ],
      "execution_count": 0,
      "outputs": []
    },
    {
      "cell_type": "markdown",
      "metadata": {
        "id": "S_D8D1aQwlBK",
        "colab_type": "text"
      },
      "source": [
        "> ¿Cúal es el \"max_depth\" que dio por defecto?\n",
        "\n"
      ]
    },
    {
      "cell_type": "code",
      "metadata": {
        "id": "wqhE5OpnknXz",
        "colab_type": "code",
        "colab": {}
      },
      "source": [
        "#Reemplace 'clasificador' por el nombre de su árbol\n",
        "clasificador.tree_.max_depth"
      ],
      "execution_count": 0,
      "outputs": []
    },
    {
      "cell_type": "markdown",
      "metadata": {
        "id": "sA4YWgILxkqH",
        "colab_type": "text"
      },
      "source": [
        "> ¿Cúal es el score para la data de entrenamiento?\n",
        "\n"
      ]
    },
    {
      "cell_type": "code",
      "metadata": {
        "id": "b7Omlds1-TOb",
        "colab_type": "code",
        "colab": {}
      },
      "source": [
        ""
      ],
      "execution_count": 0,
      "outputs": []
    },
    {
      "cell_type": "markdown",
      "metadata": {
        "id": "_6-e3BfExjIg",
        "colab_type": "text"
      },
      "source": [
        "> ¿Cúal es el score para la data de validación?\n",
        "\n"
      ]
    },
    {
      "cell_type": "code",
      "metadata": {
        "id": "ToS4fnt4-Slc",
        "colab_type": "code",
        "colab": {}
      },
      "source": [
        ""
      ],
      "execution_count": 0,
      "outputs": []
    },
    {
      "cell_type": "markdown",
      "metadata": {
        "id": "hBJS7PNHzcPs",
        "colab_type": "text"
      },
      "source": [
        "###Hallando el \"max_depth\" óptimo"
      ]
    },
    {
      "cell_type": "markdown",
      "metadata": {
        "id": "z_-r5NmX0Z9a",
        "colab_type": "text"
      },
      "source": [
        "\n",
        "\n",
        "> ¿Se puede mejorar el Score de la data de validación? Lo hallaremos mediante este algoritmo\n",
        "\n"
      ]
    },
    {
      "cell_type": "code",
      "metadata": {
        "id": "jIcWbsVJq-kJ",
        "colab_type": "code",
        "colab": {}
      },
      "source": [
        "max_depth_range = list(range(2, 15)) #Reemplazar el max valor (15) con la máxima profundidad por defecto para su arbol +1\n",
        "accuracy = []\n",
        "for depth in max_depth_range:\n",
        "    clf = DecisionTreeClassifier(max_depth = depth)\n",
        "    clf.fit(x_train, y_train)    \n",
        "    score = clf.score(x_val, y_val)\n",
        "    \n",
        "    accuracy.append(score)"
      ],
      "execution_count": 0,
      "outputs": []
    },
    {
      "cell_type": "code",
      "metadata": {
        "id": "hdqOyl8Zq7Kp",
        "colab_type": "code",
        "colab": {}
      },
      "source": [
        "import matplotlib.pyplot as plt\n",
        "%matplotlib inline"
      ],
      "execution_count": 0,
      "outputs": []
    },
    {
      "cell_type": "code",
      "metadata": {
        "id": "wXaxf9gEq846",
        "colab_type": "code",
        "colab": {}
      },
      "source": [
        "plt.plot(accuracy)\n",
        "plt.xticks(list(range(len(max_depth_range))),max_depth_range)\n",
        "plt.grid()\n",
        "plt.show()"
      ],
      "execution_count": 0,
      "outputs": []
    },
    {
      "cell_type": "markdown",
      "metadata": {
        "id": "l5ilNOTr3uzK",
        "colab_type": "text"
      },
      "source": [
        "\n",
        "\n",
        "> ¿Cúal es el \"max_depth\" óptimo? Entrene su árbol con el \"max_depth\" hallado\n",
        "\n"
      ]
    },
    {
      "cell_type": "code",
      "metadata": {
        "id": "JePh6tX54SWv",
        "colab_type": "code",
        "colab": {}
      },
      "source": [
        ""
      ],
      "execution_count": 0,
      "outputs": []
    },
    {
      "cell_type": "markdown",
      "metadata": {
        "id": "-nLWIc2B4syU",
        "colab_type": "text"
      },
      "source": [
        "\n",
        "\n",
        "> Observe los Scores de la data de entrenamiento y validación ¿Cúal Score aumentó y cúal disminuyó? ¿Por qué sucede esto?\n",
        "\n"
      ]
    },
    {
      "cell_type": "code",
      "metadata": {
        "id": "Bs2mgnnL-O6u",
        "colab_type": "code",
        "colab": {}
      },
      "source": [
        ""
      ],
      "execution_count": 0,
      "outputs": []
    },
    {
      "cell_type": "markdown",
      "metadata": {
        "id": "_wP3OPSU5e1p",
        "colab_type": "text"
      },
      "source": [
        "###Graficando el árbol"
      ]
    },
    {
      "cell_type": "markdown",
      "metadata": {
        "id": "w4lnGHJO6PRL",
        "colab_type": "text"
      },
      "source": [
        "\n",
        "\n",
        "> Gráfique su árbol de clasificación\n",
        "\n"
      ]
    },
    {
      "cell_type": "code",
      "metadata": {
        "id": "w_o70EG3kqXf",
        "colab_type": "code",
        "colab": {}
      },
      "source": [
        "from sklearn.tree import export_graphviz\n",
        "import graphviz\n",
        "etiquetas = ['Común','Gama Baja','Gama Media','Gama Alta'] #Nombres para las 4 clases existentes en price_range\n",
        "dot_data = export_graphviz(clasificador,feature_names= x.columns,class_names= etiquetas,filled=True, rounded=True,special_characters=True) \n",
        "graph = graphviz.Source(dot_data)\n",
        "graph.render(\"Clasificacion-Smathphone\",format='png') #Función que permite guardar una imagen del árbol generado\n",
        "graph"
      ],
      "execution_count": 0,
      "outputs": []
    },
    {
      "cell_type": "markdown",
      "metadata": {
        "id": "a8bsOYEH7QVq",
        "colab_type": "text"
      },
      "source": [
        "\n",
        "\n",
        "> Ya generamos nuestro árbol de clasificación con el \"max_depth\" óptimo, mas el arbol puede resultar un poco grande al momento de analizarlo ¿Es posible disminuir el nivel (max_depth) a costa de perder Score pero ganando simplicidad? Si es posible, ¿Cúal cree que podría ser el nuevo \"max_depth\" para llegar a esa simplicidad?\n",
        "\n"
      ]
    },
    {
      "cell_type": "code",
      "metadata": {
        "id": "t5-wNVkX91gd",
        "colab_type": "code",
        "colab": {}
      },
      "source": [
        ""
      ],
      "execution_count": 0,
      "outputs": []
    }
  ]
}