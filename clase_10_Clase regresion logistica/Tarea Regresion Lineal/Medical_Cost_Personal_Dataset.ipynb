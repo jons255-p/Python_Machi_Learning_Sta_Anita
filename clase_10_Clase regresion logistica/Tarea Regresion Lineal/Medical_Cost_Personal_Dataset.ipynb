{
  "nbformat": 4,
  "nbformat_minor": 0,
  "metadata": {
    "colab": {
      "name": "Medical Cost Personal Dataset.ipynb",
      "provenance": []
    },
    "kernelspec": {
      "name": "python3",
      "display_name": "Python 3"
    }
  },
  "cells": [
    {
      "cell_type": "markdown",
      "metadata": {
        "id": "YC5sWx8sFkDZ",
        "colab_type": "text"
      },
      "source": [
        "#Medical Cost Personal Dataset"
      ]
    },
    {
      "cell_type": "markdown",
      "metadata": {
        "id": "R5f1KCsqGpuJ",
        "colab_type": "text"
      },
      "source": [
        "Can you accurately predict insurance costs?"
      ]
    },
    {
      "cell_type": "markdown",
      "metadata": {
        "id": "H659HJ7FF0Ie",
        "colab_type": "text"
      },
      "source": [
        "![texto alternativo](https://drive.google.com/uc?id=1v_IeAS65KZ6ktlttDgFJh9MxZqnu_Ws_)"
      ]
    },
    {
      "cell_type": "markdown",
      "metadata": {
        "id": "VobcQ6WvF_Eo",
        "colab_type": "text"
      },
      "source": [
        "##Importar Datos"
      ]
    },
    {
      "cell_type": "code",
      "metadata": {
        "id": "lkmVOaaptqtw",
        "colab_type": "code",
        "colab": {}
      },
      "source": [
        "import pandas as pd"
      ],
      "execution_count": 0,
      "outputs": []
    },
    {
      "cell_type": "code",
      "metadata": {
        "id": "d-DWEuKHtyLW",
        "colab_type": "code",
        "colab": {
          "base_uri": "https://localhost:8080/",
          "height": 206
        },
        "outputId": "d3c19158-89ff-485d-ca66-b79b934ff1b7"
      },
      "source": [
        "df = pd.read_csv(\"insurance.csv\")\n",
        "df.head()"
      ],
      "execution_count": 50,
      "outputs": [
        {
          "output_type": "execute_result",
          "data": {
            "text/html": [
              "<div>\n",
              "<style scoped>\n",
              "    .dataframe tbody tr th:only-of-type {\n",
              "        vertical-align: middle;\n",
              "    }\n",
              "\n",
              "    .dataframe tbody tr th {\n",
              "        vertical-align: top;\n",
              "    }\n",
              "\n",
              "    .dataframe thead th {\n",
              "        text-align: right;\n",
              "    }\n",
              "</style>\n",
              "<table border=\"1\" class=\"dataframe\">\n",
              "  <thead>\n",
              "    <tr style=\"text-align: right;\">\n",
              "      <th></th>\n",
              "      <th>age</th>\n",
              "      <th>sex</th>\n",
              "      <th>bmi</th>\n",
              "      <th>children</th>\n",
              "      <th>smoker</th>\n",
              "      <th>region</th>\n",
              "      <th>charges</th>\n",
              "    </tr>\n",
              "  </thead>\n",
              "  <tbody>\n",
              "    <tr>\n",
              "      <th>0</th>\n",
              "      <td>19</td>\n",
              "      <td>female</td>\n",
              "      <td>27.900</td>\n",
              "      <td>0</td>\n",
              "      <td>yes</td>\n",
              "      <td>southwest</td>\n",
              "      <td>16884.92400</td>\n",
              "    </tr>\n",
              "    <tr>\n",
              "      <th>1</th>\n",
              "      <td>18</td>\n",
              "      <td>male</td>\n",
              "      <td>33.770</td>\n",
              "      <td>1</td>\n",
              "      <td>no</td>\n",
              "      <td>southeast</td>\n",
              "      <td>1725.55230</td>\n",
              "    </tr>\n",
              "    <tr>\n",
              "      <th>2</th>\n",
              "      <td>28</td>\n",
              "      <td>male</td>\n",
              "      <td>33.000</td>\n",
              "      <td>3</td>\n",
              "      <td>no</td>\n",
              "      <td>southeast</td>\n",
              "      <td>4449.46200</td>\n",
              "    </tr>\n",
              "    <tr>\n",
              "      <th>3</th>\n",
              "      <td>33</td>\n",
              "      <td>male</td>\n",
              "      <td>22.705</td>\n",
              "      <td>0</td>\n",
              "      <td>no</td>\n",
              "      <td>northwest</td>\n",
              "      <td>21984.47061</td>\n",
              "    </tr>\n",
              "    <tr>\n",
              "      <th>4</th>\n",
              "      <td>32</td>\n",
              "      <td>male</td>\n",
              "      <td>28.880</td>\n",
              "      <td>0</td>\n",
              "      <td>no</td>\n",
              "      <td>northwest</td>\n",
              "      <td>3866.85520</td>\n",
              "    </tr>\n",
              "  </tbody>\n",
              "</table>\n",
              "</div>"
            ],
            "text/plain": [
              "   age     sex     bmi  children smoker     region      charges\n",
              "0   19  female  27.900         0    yes  southwest  16884.92400\n",
              "1   18    male  33.770         1     no  southeast   1725.55230\n",
              "2   28    male  33.000         3     no  southeast   4449.46200\n",
              "3   33    male  22.705         0     no  northwest  21984.47061\n",
              "4   32    male  28.880         0     no  northwest   3866.85520"
            ]
          },
          "metadata": {
            "tags": []
          },
          "execution_count": 50
        }
      ]
    },
    {
      "cell_type": "markdown",
      "metadata": {
        "id": "o1CF3-VaG8Ab",
        "colab_type": "text"
      },
      "source": [
        "##Label Encoding"
      ]
    },
    {
      "cell_type": "markdown",
      "metadata": {
        "id": "lDY73wDNHCvb",
        "colab_type": "text"
      },
      "source": [
        "Algunas columnas se deben convertir a datos numericos"
      ]
    },
    {
      "cell_type": "code",
      "metadata": {
        "id": "QpTFabnOu7R3",
        "colab_type": "code",
        "colab": {}
      },
      "source": [
        "df.head()"
      ],
      "execution_count": 0,
      "outputs": []
    },
    {
      "cell_type": "markdown",
      "metadata": {
        "id": "ytE8NlywG-jE",
        "colab_type": "text"
      },
      "source": [
        "##Detección de Outliers"
      ]
    },
    {
      "cell_type": "markdown",
      "metadata": {
        "id": "H_ohbA6KHIEb",
        "colab_type": "text"
      },
      "source": [
        "Gráfique un boxplot de los datos del dataset"
      ]
    },
    {
      "cell_type": "markdown",
      "metadata": {
        "id": "PT6W9jGmHPJC",
        "colab_type": "text"
      },
      "source": [
        "###IRQ"
      ]
    },
    {
      "cell_type": "markdown",
      "metadata": {
        "id": "fr07TafeHSJE",
        "colab_type": "text"
      },
      "source": [
        "Solo una columna presenta outliers, halle su IRQ y halle el tamaño del dataframe modificado"
      ]
    },
    {
      "cell_type": "code",
      "metadata": {
        "id": "k_2P0ikjuJsr",
        "colab_type": "code",
        "colab": {}
      },
      "source": [
        "df_modificado.shape"
      ],
      "execution_count": 0,
      "outputs": []
    },
    {
      "cell_type": "markdown",
      "metadata": {
        "id": "MY85OPo_Hy7o",
        "colab_type": "text"
      },
      "source": [
        "###Z-Score"
      ]
    },
    {
      "cell_type": "markdown",
      "metadata": {
        "id": "kkdzgE38H7VD",
        "colab_type": "text"
      },
      "source": [
        "Utilice el método Z-Score para eliminar outliers y halle el tamaño del dataframe modificado"
      ]
    },
    {
      "cell_type": "code",
      "metadata": {
        "id": "748iQpXhuUiE",
        "colab_type": "code",
        "colab": {}
      },
      "source": [
        "df_z.shape"
      ],
      "execution_count": 0,
      "outputs": []
    },
    {
      "cell_type": "markdown",
      "metadata": {
        "id": "Ft8yDANwIGZu",
        "colab_type": "text"
      },
      "source": [
        "##Separar Data"
      ]
    },
    {
      "cell_type": "markdown",
      "metadata": {
        "id": "0XfqDJ4SIVZB",
        "colab_type": "text"
      },
      "source": [
        "Separe la data en X - y y luego en Data train y Data test"
      ]
    },
    {
      "cell_type": "code",
      "metadata": {
        "id": "w68dolY0TXAB",
        "colab_type": "code",
        "colab": {}
      },
      "source": [
        ""
      ],
      "execution_count": 0,
      "outputs": []
    },
    {
      "cell_type": "markdown",
      "metadata": {
        "id": "dlVvOCVNNuSN",
        "colab_type": "text"
      },
      "source": [
        "##Elección del mejor método"
      ]
    },
    {
      "cell_type": "markdown",
      "metadata": {
        "id": "g6dQ1N_zN0wp",
        "colab_type": "text"
      },
      "source": [
        "Evaluaremos los 3 dataframes para regresión lineal modificando el X para hallar la mejor opción por medio del cross validation, ¿Cúal resultó con mejor score?"
      ]
    },
    {
      "cell_type": "code",
      "metadata": {
        "colab_type": "code",
        "id": "Lgw4GzHKNsMV",
        "colab": {}
      },
      "source": [
        "from sklearn.model_selection import KFold\n",
        "from sklearn import metrics\n",
        "NSplits = 10\n",
        "kf = KFold(n_splits=NSplits)\n",
        "kf.get_n_splits(X)\n",
        "print(kf)"
      ],
      "execution_count": 0,
      "outputs": []
    },
    {
      "cell_type": "code",
      "metadata": {
        "id": "FQVZo08S8irc",
        "colab_type": "code",
        "colab": {}
      },
      "source": [
        "AccTotal = 0\n",
        "for train_index, test_index in kf.split(X):\n",
        "  #print(\"TRAIN:\", train_index, \"TEST:\", test_index)\n",
        "  X_train_cv, X_test_cv = X.iloc[train_index], X.iloc[test_index]\n",
        "  y_train_cv, y_test_cv = y.iloc[train_index], y.iloc[test_index]\n",
        "  \n",
        "  reg = LinearRegression()\n",
        "  reg.fit(X_train_cv,y_train_cv)\n",
        "\n",
        "  AccFolder = reg.score(X_test_cv, y_test_cv)*100\n",
        "  print(\"Accuracy Folder\", AccFolder)\n",
        "  \n",
        "  AccTotal += AccFolder\n",
        "  \n",
        "print(\"Accuracy General:\", AccTotal/NSplits)"
      ],
      "execution_count": 0,
      "outputs": []
    },
    {
      "cell_type": "markdown",
      "metadata": {
        "id": "5FhsF8DgOjuf",
        "colab_type": "text"
      },
      "source": [
        "Una vez elegimos nuestro método, entrenaremos nuestra regresión lineal"
      ]
    },
    {
      "cell_type": "markdown",
      "metadata": {
        "id": "RWa-dLueIUTU",
        "colab_type": "text"
      },
      "source": [
        "##Estandarizar los datos"
      ]
    },
    {
      "cell_type": "markdown",
      "metadata": {
        "id": "cP1TwBEBI2Z_",
        "colab_type": "text"
      },
      "source": [
        "Para realizar un modelo de regresión lineal es recomendable estandarizar los datos"
      ]
    },
    {
      "cell_type": "markdown",
      "metadata": {
        "id": "oNYlnLpLIeHA",
        "colab_type": "text"
      },
      "source": [
        "##Regresión Lineal"
      ]
    },
    {
      "cell_type": "markdown",
      "metadata": {
        "id": "vdAuFotIIgal",
        "colab_type": "text"
      },
      "source": [
        "Realice la regresión lineal y halle el score de train y test"
      ]
    },
    {
      "cell_type": "code",
      "metadata": {
        "id": "_aU6cc9oTl-W",
        "colab_type": "code",
        "colab": {}
      },
      "source": [
        ""
      ],
      "execution_count": 0,
      "outputs": []
    },
    {
      "cell_type": "markdown",
      "metadata": {
        "id": "mzNXnNSFJExC",
        "colab_type": "text"
      },
      "source": [
        "###Analizando la regresión lineal"
      ]
    },
    {
      "cell_type": "markdown",
      "metadata": {
        "id": "ra5md2c0JJlS",
        "colab_type": "text"
      },
      "source": [
        "Halle los coeficientes y el intercepto de la regresión lineal, ¿Cúal seria la formula?"
      ]
    },
    {
      "cell_type": "code",
      "metadata": {
        "id": "UChigbNBToNg",
        "colab_type": "code",
        "colab": {}
      },
      "source": [
        ""
      ],
      "execution_count": 0,
      "outputs": []
    },
    {
      "cell_type": "markdown",
      "metadata": {
        "id": "mxDRw5MtL7OW",
        "colab_type": "text"
      },
      "source": [
        "Grafique diagramas de dispersión de relaciones entre las variables con la ayuda de la librería seaborn y la funcion pairplot"
      ]
    },
    {
      "cell_type": "code",
      "metadata": {
        "id": "lKPTMygzTpd4",
        "colab_type": "code",
        "colab": {}
      },
      "source": [
        ""
      ],
      "execution_count": 0,
      "outputs": []
    },
    {
      "cell_type": "markdown",
      "metadata": {
        "id": "snmrz9KTPEqX",
        "colab_type": "text"
      },
      "source": [
        "##KNN Regresion"
      ]
    },
    {
      "cell_type": "markdown",
      "metadata": {
        "id": "MxaLIL77PHY4",
        "colab_type": "text"
      },
      "source": [
        "Para trabajar con KNN es recomendable normalizar la data"
      ]
    },
    {
      "cell_type": "markdown",
      "metadata": {
        "id": "iLrR6KHBPL4C",
        "colab_type": "text"
      },
      "source": [
        "###Normalizar Data"
      ]
    },
    {
      "cell_type": "code",
      "metadata": {
        "id": "GO5ixmIsTqYO",
        "colab_type": "code",
        "colab": {}
      },
      "source": [
        ""
      ],
      "execution_count": 0,
      "outputs": []
    },
    {
      "cell_type": "markdown",
      "metadata": {
        "id": "qf3XsycpPU3q",
        "colab_type": "text"
      },
      "source": [
        "###Hallando el mejor K"
      ]
    },
    {
      "cell_type": "markdown",
      "metadata": {
        "id": "vJj11jJ3c6h_",
        "colab_type": "text"
      },
      "source": [
        "\n",
        "\n",
        "Buscar el mejor método y métrica para obtener el mayor score, anotar para cada uno con el mejor K (n_neighbors).\n",
        "\n",
        "\n",
        "1.   weights: **uniform** ->\n",
        "2.   weights: **distance** metric: **euclidean** ->\n",
        "3.   weights: **distance** metric: **manhattan** ->\n",
        "4.   weights: **distance** metric: **cosine** ->\n",
        "5.   weights: **distance** metric: **minkowski** ->\n",
        "\n",
        "\n",
        "\n",
        "\n",
        "\n",
        "\n"
      ]
    },
    {
      "cell_type": "code",
      "metadata": {
        "id": "Ibvtj9mu-NiW",
        "colab_type": "code",
        "colab": {}
      },
      "source": [
        "from sklearn.neighbors import KNeighborsRegressor\n",
        "neigh = KNeighborsRegressor(n_neighbors=11,weights='distance',metric='euclidean')\n",
        "neigh.fit(X_train, y_train)"
      ],
      "execution_count": 0,
      "outputs": []
    },
    {
      "cell_type": "code",
      "metadata": {
        "id": "rf142C4KPYj0",
        "colab_type": "code",
        "colab": {}
      },
      "source": [
        "neigh.score(X_test,y_test)"
      ],
      "execution_count": 0,
      "outputs": []
    },
    {
      "cell_type": "code",
      "metadata": {
        "id": "Q739pYsT-QEX",
        "colab_type": "code",
        "colab": {}
      },
      "source": [
        "max_depth_range = list(range(2, 15))\n",
        "accuracy_KNN = []\n",
        "for depth in max_depth_range:\n",
        "    neigh = KNeighborsRegressor(n_neighbors=depth,weights='distance',metric='euclidean') #Cambiar aquí\n",
        "    neigh.fit(X_train, y_train)  \n",
        "    score = neigh.score(X_test, y_test)\n",
        "    \n",
        "    accuracy_KNN.append(score)"
      ],
      "execution_count": 0,
      "outputs": []
    },
    {
      "cell_type": "code",
      "metadata": {
        "id": "GcOq6Vp6-RTm",
        "colab_type": "code",
        "colab": {}
      },
      "source": [
        "import matplotlib.pyplot as plt\n",
        "%matplotlib inline\n",
        "plt.plot(accuracy_KNN)\n",
        "plt.xticks(list(range(len(max_depth_range))),max_depth_range)\n",
        "plt.grid()\n",
        "plt.show()"
      ],
      "execution_count": 0,
      "outputs": []
    },
    {
      "cell_type": "markdown",
      "metadata": {
        "id": "pGsSMxYiQiJr",
        "colab_type": "text"
      },
      "source": [
        "##KNN Regression - Cross Validation"
      ]
    },
    {
      "cell_type": "code",
      "metadata": {
        "id": "Hz6wGgw-jlJ8",
        "colab_type": "code",
        "colab": {}
      },
      "source": [
        "from sklearn.preprocessing import MinMaxScaler\n",
        "scaler = MinMaxScaler()\n",
        "X = pd.DataFrame(scaler.fit_transform(X))"
      ],
      "execution_count": 0,
      "outputs": []
    },
    {
      "cell_type": "code",
      "metadata": {
        "id": "Y2L6FfVMjhH3",
        "colab_type": "code",
        "colab": {}
      },
      "source": [
        "from sklearn.model_selection import KFold\n",
        "from sklearn import metrics\n",
        "NSplits = 10\n",
        "kf = KFold(n_splits=NSplits)\n",
        "kf.get_n_splits(X)\n",
        "print(kf)"
      ],
      "execution_count": 0,
      "outputs": []
    },
    {
      "cell_type": "code",
      "metadata": {
        "id": "QRhCeUcLjikW",
        "colab_type": "code",
        "colab": {}
      },
      "source": [
        "AccTotal = 0\n",
        "for train_index, test_index in kf.split(X):\n",
        "  #print(\"TRAIN:\", train_index, \"TEST:\", test_index)\n",
        "  X_train_cv, X_test_cv = X.iloc[train_index], X.iloc[test_index]\n",
        "  y_train_cv, y_test_cv = y.iloc[train_index], y.iloc[test_index]\n",
        "  \n",
        "  neigh = KNeighborsRegressor(n_neighbors=3,weights='distance',metric='euclidean') #Cambiar aqui\n",
        "  neigh.fit(X_train_cv, y_train_cv)\n",
        "\n",
        "  AccFolder = neigh.score(X_test_cv, y_test_cv)*100\n",
        "  print(\"Accuracy Folder\", AccFolder)\n",
        "  \n",
        "  AccTotal += AccFolder\n",
        "  \n",
        "print(\"Accuracy General:\", AccTotal/NSplits)"
      ],
      "execution_count": 0,
      "outputs": []
    },
    {
      "cell_type": "markdown",
      "metadata": {
        "id": "RI9bXFrmQ0U1",
        "colab_type": "text"
      },
      "source": [
        "##KNN Regression vs Linear Regression"
      ]
    },
    {
      "cell_type": "markdown",
      "metadata": {
        "id": "SQLtGJqxSU-v",
        "colab_type": "text"
      },
      "source": [
        "Existen otras métricas de comparación para las regresiones, puede encontrarlas en el siguiente link:\n",
        "[texto del enlace](http://sitiobigdata.com/2018/08/27/machine-learning-metricas-regresion-mse/)"
      ]
    },
    {
      "cell_type": "markdown",
      "metadata": {
        "id": "aaEEt29KSfjl",
        "colab_type": "text"
      },
      "source": [
        "###¿Cúal método de predicción vamos a utilizar para esta Data? ¿KNN o Regresión Lineal? ¿Por qué?"
      ]
    }
  ]
}