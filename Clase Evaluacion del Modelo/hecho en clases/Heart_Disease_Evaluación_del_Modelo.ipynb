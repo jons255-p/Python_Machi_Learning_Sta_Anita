{
  "nbformat": 4,
  "nbformat_minor": 0,
  "metadata": {
    "colab": {
      "name": "Heart_Disease_Evaluación_del_Modelo.ipynb",
      "provenance": []
    },
    "kernelspec": {
      "name": "python3",
      "display_name": "Python 3"
    }
  },
  "cells": [
    {
      "cell_type": "markdown",
      "metadata": {
        "id": "uikFjT6EZI7W",
        "colab_type": "text"
      },
      "source": [
        "#Heart Disease"
      ]
    },
    {
      "cell_type": "markdown",
      "metadata": {
        "id": "nLqvvPYvrGGw",
        "colab_type": "text"
      },
      "source": [
        "##Diccionario de Datos"
      ]
    },
    {
      "cell_type": "markdown",
      "metadata": {
        "id": "RTgSj1qNq0dw",
        "colab_type": "text"
      },
      "source": [
        "![texto alternativo](https://drive.google.com/uc?id=1MAv6FaCNK0YjjU1LEbJpv3z1Y4pii9SH)"
      ]
    },
    {
      "cell_type": "markdown",
      "metadata": {
        "id": "g1sEgC2uZW8_",
        "colab_type": "text"
      },
      "source": [
        "##Importar Data"
      ]
    },
    {
      "cell_type": "code",
      "metadata": {
        "id": "uf3yh4SyVqK6",
        "colab_type": "code",
        "colab": {}
      },
      "source": [
        "import pandas as pd"
      ],
      "execution_count": 0,
      "outputs": []
    },
    {
      "cell_type": "code",
      "metadata": {
        "id": "V72DWDWnY9mE",
        "colab_type": "code",
        "outputId": "3d56ee4c-587b-4a23-82c2-29ba95670d1e",
        "colab": {
          "base_uri": "https://localhost:8080/",
          "height": 204
        }
      },
      "source": [
        "df = pd.read_csv(\"heart.csv\")\n",
        "df.head()"
      ],
      "execution_count": 5,
      "outputs": [
        {
          "output_type": "execute_result",
          "data": {
            "text/html": [
              "<div>\n",
              "<style scoped>\n",
              "    .dataframe tbody tr th:only-of-type {\n",
              "        vertical-align: middle;\n",
              "    }\n",
              "\n",
              "    .dataframe tbody tr th {\n",
              "        vertical-align: top;\n",
              "    }\n",
              "\n",
              "    .dataframe thead th {\n",
              "        text-align: right;\n",
              "    }\n",
              "</style>\n",
              "<table border=\"1\" class=\"dataframe\">\n",
              "  <thead>\n",
              "    <tr style=\"text-align: right;\">\n",
              "      <th></th>\n",
              "      <th>age</th>\n",
              "      <th>sex</th>\n",
              "      <th>cp</th>\n",
              "      <th>trestbps</th>\n",
              "      <th>chol</th>\n",
              "      <th>fbs</th>\n",
              "      <th>restecg</th>\n",
              "      <th>thalach</th>\n",
              "      <th>exang</th>\n",
              "      <th>oldpeak</th>\n",
              "      <th>slope</th>\n",
              "      <th>ca</th>\n",
              "      <th>thal</th>\n",
              "      <th>target</th>\n",
              "    </tr>\n",
              "  </thead>\n",
              "  <tbody>\n",
              "    <tr>\n",
              "      <th>0</th>\n",
              "      <td>63</td>\n",
              "      <td>1</td>\n",
              "      <td>3</td>\n",
              "      <td>145</td>\n",
              "      <td>233</td>\n",
              "      <td>1</td>\n",
              "      <td>0</td>\n",
              "      <td>150</td>\n",
              "      <td>0</td>\n",
              "      <td>2.3</td>\n",
              "      <td>0</td>\n",
              "      <td>0</td>\n",
              "      <td>1</td>\n",
              "      <td>1</td>\n",
              "    </tr>\n",
              "    <tr>\n",
              "      <th>1</th>\n",
              "      <td>37</td>\n",
              "      <td>1</td>\n",
              "      <td>2</td>\n",
              "      <td>130</td>\n",
              "      <td>250</td>\n",
              "      <td>0</td>\n",
              "      <td>1</td>\n",
              "      <td>187</td>\n",
              "      <td>0</td>\n",
              "      <td>3.5</td>\n",
              "      <td>0</td>\n",
              "      <td>0</td>\n",
              "      <td>2</td>\n",
              "      <td>1</td>\n",
              "    </tr>\n",
              "    <tr>\n",
              "      <th>2</th>\n",
              "      <td>41</td>\n",
              "      <td>0</td>\n",
              "      <td>1</td>\n",
              "      <td>130</td>\n",
              "      <td>204</td>\n",
              "      <td>0</td>\n",
              "      <td>0</td>\n",
              "      <td>172</td>\n",
              "      <td>0</td>\n",
              "      <td>1.4</td>\n",
              "      <td>2</td>\n",
              "      <td>0</td>\n",
              "      <td>2</td>\n",
              "      <td>1</td>\n",
              "    </tr>\n",
              "    <tr>\n",
              "      <th>3</th>\n",
              "      <td>56</td>\n",
              "      <td>1</td>\n",
              "      <td>1</td>\n",
              "      <td>120</td>\n",
              "      <td>236</td>\n",
              "      <td>0</td>\n",
              "      <td>1</td>\n",
              "      <td>178</td>\n",
              "      <td>0</td>\n",
              "      <td>0.8</td>\n",
              "      <td>2</td>\n",
              "      <td>0</td>\n",
              "      <td>2</td>\n",
              "      <td>1</td>\n",
              "    </tr>\n",
              "    <tr>\n",
              "      <th>4</th>\n",
              "      <td>57</td>\n",
              "      <td>0</td>\n",
              "      <td>0</td>\n",
              "      <td>120</td>\n",
              "      <td>354</td>\n",
              "      <td>0</td>\n",
              "      <td>1</td>\n",
              "      <td>163</td>\n",
              "      <td>1</td>\n",
              "      <td>0.6</td>\n",
              "      <td>2</td>\n",
              "      <td>0</td>\n",
              "      <td>2</td>\n",
              "      <td>1</td>\n",
              "    </tr>\n",
              "  </tbody>\n",
              "</table>\n",
              "</div>"
            ],
            "text/plain": [
              "   age  sex  cp  trestbps  chol  fbs  ...  exang  oldpeak  slope  ca  thal  target\n",
              "0   63    1   3       145   233    1  ...      0      2.3      0   0     1       1\n",
              "1   37    1   2       130   250    0  ...      0      3.5      0   0     2       1\n",
              "2   41    0   1       130   204    0  ...      0      1.4      2   0     2       1\n",
              "3   56    1   1       120   236    0  ...      0      0.8      2   0     2       1\n",
              "4   57    0   0       120   354    0  ...      1      0.6      2   0     2       1\n",
              "\n",
              "[5 rows x 14 columns]"
            ]
          },
          "metadata": {
            "tags": []
          },
          "execution_count": 5
        }
      ]
    },
    {
      "cell_type": "markdown",
      "metadata": {
        "id": "y4_8lwjZZgGm",
        "colab_type": "text"
      },
      "source": [
        "##Data Train y Data Test"
      ]
    },
    {
      "cell_type": "code",
      "metadata": {
        "id": "ToP3AbajZISO",
        "colab_type": "code",
        "colab": {}
      },
      "source": [
        "X=df.drop(['target'],axis=1)\n",
        "y=df['target']"
      ],
      "execution_count": 0,
      "outputs": []
    },
    {
      "cell_type": "code",
      "metadata": {
        "id": "4vMium1eZ164",
        "colab_type": "code",
        "outputId": "c4c2569a-7531-4397-c62d-96ffc02308e4",
        "colab": {
          "base_uri": "https://localhost:8080/",
          "height": 51
        }
      },
      "source": [
        "from sklearn.model_selection import train_test_split\n",
        "X_train, X_test, y_train, y_test = train_test_split(X, y, test_size=0.20,random_state=5)#5,8,13\n",
        "print(\"X_train shape:\",X_train.shape)\n",
        "print(\"X_test shape:\",X_test.shape)"
      ],
      "execution_count": 26,
      "outputs": [
        {
          "output_type": "stream",
          "text": [
            "X_train shape: (242, 13)\n",
            "X_test shape: (61, 13)\n"
          ],
          "name": "stdout"
        }
      ]
    },
    {
      "cell_type": "markdown",
      "metadata": {
        "id": "f30apGAUZ5J4",
        "colab_type": "text"
      },
      "source": [
        "##Normalizar Data"
      ]
    },
    {
      "cell_type": "code",
      "metadata": {
        "id": "qVuAw-PZZ3Zd",
        "colab_type": "code",
        "colab": {}
      },
      "source": [
        "from sklearn.preprocessing import MinMaxScaler\n",
        "scaler = MinMaxScaler()\n",
        "X_train = pd.DataFrame(scaler.fit_transform(X_train))\n",
        "X_test = pd.DataFrame(scaler.transform(X_test))"
      ],
      "execution_count": 0,
      "outputs": []
    },
    {
      "cell_type": "markdown",
      "metadata": {
        "id": "NaJoY3nxZ7se",
        "colab_type": "text"
      },
      "source": [
        "##KNN"
      ]
    },
    {
      "cell_type": "code",
      "metadata": {
        "id": "dBMNJVUfZ9Ue",
        "colab_type": "code",
        "outputId": "27303ec5-98af-4c54-cdef-bb164683074d",
        "colab": {
          "base_uri": "https://localhost:8080/",
          "height": 68
        }
      },
      "source": [
        "\n",
        "from sklearn.neighbors import KNeighborsClassifier\n",
        "classifier = KNeighborsClassifier(n_neighbors=4,weights='distance', metric='manhattan') # #=7,weights='distance',metric='euclidean'\n",
        "classifier.fit(X_train, y_train)"
      ],
      "execution_count": 30,
      "outputs": [
        {
          "output_type": "execute_result",
          "data": {
            "text/plain": [
              "KNeighborsClassifier(algorithm='auto', leaf_size=30, metric='manhattan',\n",
              "                     metric_params=None, n_jobs=None, n_neighbors=4, p=2,\n",
              "                     weights='distance')"
            ]
          },
          "metadata": {
            "tags": []
          },
          "execution_count": 30
        }
      ]
    },
    {
      "cell_type": "code",
      "metadata": {
        "id": "GeaBEv07Z-nq",
        "colab_type": "code",
        "outputId": "bac50109-4032-4760-bfdd-ab0405e1f7a5",
        "colab": {
          "base_uri": "https://localhost:8080/",
          "height": 34
        }
      },
      "source": [
        "classifier.score(X_test,y_test)"
      ],
      "execution_count": 31,
      "outputs": [
        {
          "output_type": "execute_result",
          "data": {
            "text/plain": [
              "0.9016393442622951"
            ]
          },
          "metadata": {
            "tags": []
          },
          "execution_count": 31
        }
      ]
    },
    {
      "cell_type": "code",
      "metadata": {
        "id": "WzxRYXX6b-K4",
        "colab_type": "code",
        "colab": {}
      },
      "source": [
        "# calculo para K maximo\n",
        "max_depth_range = list(range(2, 15))\n",
        "accuracy_KNN = []\n",
        "for depth in max_depth_range:\n",
        "    classifier2 = KNeighborsClassifier(n_neighbors=depth,weights='distance', metric='manhattan')\n",
        "    classifier2.fit(X_train, y_train)  \n",
        "    score = classifier2.score(X_test, y_test)\n",
        "    \n",
        "    accuracy_KNN.append(score)"
      ],
      "execution_count": 0,
      "outputs": []
    },
    {
      "cell_type": "code",
      "metadata": {
        "id": "pekBQZpgcANM",
        "colab_type": "code",
        "colab": {
          "base_uri": "https://localhost:8080/",
          "height": 265
        },
        "outputId": "0c48b9b8-b743-4518-9bee-c028422081cc"
      },
      "source": [
        "import matplotlib.pyplot as plt\n",
        "%matplotlib inline\n",
        "plt.plot(accuracy_KNN)\n",
        "plt.xticks(list(range(len(max_depth_range))),max_depth_range)\n",
        "plt.grid()\n",
        "plt.show()"
      ],
      "execution_count": 33,
      "outputs": [
        {
          "output_type": "display_data",
          "data": {
            "image/png": "[encoded data removed]",
            "text/plain": [
              "<Figure size 432x288 with 1 Axes>"
            ]
          },
          "metadata": {
            "tags": []
          }
        }
      ]
    },
    {
      "cell_type": "markdown",
      "metadata": {
        "id": "W0AlUKXBx92l",
        "colab_type": "text"
      },
      "source": [
        "uniform-> score 0.868 ////\n",
        "weigth - distancia metric- euclidiana ->score 0.885 /// wei-distancia metric -manhathan -->0.8524 //// wiegth- distancia -->score 0.8852\n",
        "\n",
        "particion randon_state=5 ----> manhattan  score (0.901)"
      ]
    },
    {
      "cell_type": "markdown",
      "metadata": {
        "id": "rbzSs5hXallt",
        "colab_type": "text"
      },
      "source": [
        "##Decision Tree"
      ]
    },
    {
      "cell_type": "markdown",
      "metadata": {
        "id": "PKYBqDi81BR3",
        "colab_type": "text"
      },
      "source": [
        "particion == randons state=5"
      ]
    },
    {
      "cell_type": "code",
      "metadata": {
        "id": "5ua2nU62an-M",
        "colab_type": "code",
        "outputId": "f8297c70-3bbf-49fd-dfb3-f6b307028ace",
        "colab": {
          "base_uri": "https://localhost:8080/",
          "height": 119
        }
      },
      "source": [
        "from sklearn.tree import DecisionTreeClassifier\n",
        "arbol = DecisionTreeClassifier(max_depth=3)\n",
        "arbol.fit(X_train,y_train)"
      ],
      "execution_count": 34,
      "outputs": [
        {
          "output_type": "execute_result",
          "data": {
            "text/plain": [
              "DecisionTreeClassifier(ccp_alpha=0.0, class_weight=None, criterion='gini',\n",
              "                       max_depth=3, max_features=None, max_leaf_nodes=None,\n",
              "                       min_impurity_decrease=0.0, min_impurity_split=None,\n",
              "                       min_samples_leaf=1, min_samples_split=2,\n",
              "                       min_weight_fraction_leaf=0.0, presort='deprecated',\n",
              "                       random_state=None, splitter='best')"
            ]
          },
          "metadata": {
            "tags": []
          },
          "execution_count": 34
        }
      ]
    },
    {
      "cell_type": "code",
      "metadata": {
        "id": "aVTDPnPvasox",
        "colab_type": "code",
        "outputId": "e0bc348d-24d9-4b86-cbd9-90935f08a7d1",
        "colab": {
          "base_uri": "https://localhost:8080/",
          "height": 34
        }
      },
      "source": [
        "arbol.score(X_test,y_test)"
      ],
      "execution_count": 35,
      "outputs": [
        {
          "output_type": "execute_result",
          "data": {
            "text/plain": [
              "0.8688524590163934"
            ]
          },
          "metadata": {
            "tags": []
          },
          "execution_count": 35
        }
      ]
    },
    {
      "cell_type": "code",
      "metadata": {
        "id": "TXpEErgQdWX-",
        "colab_type": "code",
        "colab": {}
      },
      "source": [
        "max_depth_range = list(range(2, 15)) #Reemplazar el max valor (15) con la máxima profundidad por defecto para su arbol +1\n",
        "accuracy_arbol = []\n",
        "for depth in max_depth_range:\n",
        "    arbol2 = DecisionTreeClassifier(max_depth = depth)\n",
        "    arbol2.fit(X_train,y_train) \n",
        "    score = arbol2.score(X_test, y_test)\n",
        "    \n",
        "    accuracy_arbol.append(score)"
      ],
      "execution_count": 0,
      "outputs": []
    },
    {
      "cell_type": "code",
      "metadata": {
        "id": "kMw32qrudau2",
        "colab_type": "code",
        "colab": {
          "base_uri": "https://localhost:8080/",
          "height": 265
        },
        "outputId": "2e5c3622-df10-4877-b6fd-0edbc8ba12e0"
      },
      "source": [
        "import matplotlib.pyplot as plt\n",
        "%matplotlib inline\n",
        "plt.plot(accuracy_arbol)\n",
        "plt.xticks(list(range(len(max_depth_range))),max_depth_range)\n",
        "plt.grid()\n",
        "plt.show()"
      ],
      "execution_count": 37,
      "outputs": [
        {
          "output_type": "display_data",
          "data": {
            "image/png": "[encoded data removed]",
            "text/plain": [
              "<Figure size 432x288 with 1 Axes>"
            ]
          },
          "metadata": {
            "tags": []
          }
        }
      ]
    },
    {
      "cell_type": "markdown",
      "metadata": {
        "id": "OD0nDXNZe_Jx",
        "colab_type": "text"
      },
      "source": [
        "##Matriz de Confusión"
      ]
    },
    {
      "cell_type": "markdown",
      "metadata": {
        "id": "hCjrVDFjtBnp",
        "colab_type": "text"
      },
      "source": [
        "\n",
        "\n",
        "> KNN\n",
        "\n"
      ]
    },
    {
      "cell_type": "code",
      "metadata": {
        "id": "ox3it4c5giul",
        "colab_type": "code",
        "outputId": "d780bb76-1fbe-4019-8cd8-91674744f52f",
        "colab": {
          "base_uri": "https://localhost:8080/",
          "height": 142
        }
      },
      "source": [
        "y_pred = classifier.predict(X_test)\n",
        "df_confusion_KNN = pd.crosstab(y_test, y_pred,rownames=['Original'], colnames=['Predicted'])\n",
        "df_confusion_KNN"
      ],
      "execution_count": 38,
      "outputs": [
        {
          "output_type": "execute_result",
          "data": {
            "text/html": [
              "<div>\n",
              "<style scoped>\n",
              "    .dataframe tbody tr th:only-of-type {\n",
              "        vertical-align: middle;\n",
              "    }\n",
              "\n",
              "    .dataframe tbody tr th {\n",
              "        vertical-align: top;\n",
              "    }\n",
              "\n",
              "    .dataframe thead th {\n",
              "        text-align: right;\n",
              "    }\n",
              "</style>\n",
              "<table border=\"1\" class=\"dataframe\">\n",
              "  <thead>\n",
              "    <tr style=\"text-align: right;\">\n",
              "      <th>Predicted</th>\n",
              "      <th>0</th>\n",
              "      <th>1</th>\n",
              "    </tr>\n",
              "    <tr>\n",
              "      <th>Original</th>\n",
              "      <th></th>\n",
              "      <th></th>\n",
              "    </tr>\n",
              "  </thead>\n",
              "  <tbody>\n",
              "    <tr>\n",
              "      <th>0</th>\n",
              "      <td>28</td>\n",
              "      <td>2</td>\n",
              "    </tr>\n",
              "    <tr>\n",
              "      <th>1</th>\n",
              "      <td>4</td>\n",
              "      <td>27</td>\n",
              "    </tr>\n",
              "  </tbody>\n",
              "</table>\n",
              "</div>"
            ],
            "text/plain": [
              "Predicted   0   1\n",
              "Original         \n",
              "0          28   2\n",
              "1           4  27"
            ]
          },
          "metadata": {
            "tags": []
          },
          "execution_count": 38
        }
      ]
    },
    {
      "cell_type": "markdown",
      "metadata": {
        "id": "JL-QpMaO2M4G",
        "colab_type": "text"
      },
      "source": [
        "\n",
        "analisis vertical AL RECALL- LA DATA ANALIZAR IMPORTANCIA ES, SANO O ENFERMO, AQUI ES IMPORTANTE ANALIZAR EL ENFERMO\n",
        "1.   precision=(28)/(28+4)=0.87 para 0\n",
        "2.   precision= 27/(27+2)= 0.93 para 1\n",
        "\n",
        "ACURRACY ES EL VALOR QUE ANTERIORMENTE ANALIZABAMOS\n",
        "\n",
        "\n",
        "\n",
        "\n",
        "\n",
        "\n",
        "> \n",
        "\n"
      ]
    },
    {
      "cell_type": "code",
      "metadata": {
        "id": "udY9cH_ihCbV",
        "colab_type": "code",
        "colab": {
          "base_uri": "https://localhost:8080/",
          "height": 170
        },
        "outputId": "55e09c38-726c-420d-8067-8f15ca0e478b"
      },
      "source": [
        "from sklearn.metrics import classification_report \n",
        "print(classification_report(y_test, y_pred))"
      ],
      "execution_count": 39,
      "outputs": [
        {
          "output_type": "stream",
          "text": [
            "              precision    recall  f1-score   support\n",
            "\n",
            "           0       0.88      0.93      0.90        30\n",
            "           1       0.93      0.87      0.90        31\n",
            "\n",
            "    accuracy                           0.90        61\n",
            "   macro avg       0.90      0.90      0.90        61\n",
            "weighted avg       0.90      0.90      0.90        61\n",
            "\n"
          ],
          "name": "stdout"
        }
      ]
    },
    {
      "cell_type": "markdown",
      "metadata": {
        "id": "j-ZCGkUL3TaN",
        "colab_type": "text"
      },
      "source": [
        "recall : Horizaintal\n",
        "\n",
        "\n",
        "1.   para 0 : 28/28+2 =\n",
        "2.   Elemento de lista\n",
        "\n"
      ]
    },
    {
      "cell_type": "markdown",
      "metadata": {
        "id": "KfgpkYH22_zd",
        "colab_type": "text"
      },
      "source": [
        "CAMBIO EN RANDON STATE =8"
      ]
    },
    {
      "cell_type": "code",
      "metadata": {
        "id": "jESz0D6B6AAP",
        "colab_type": "code",
        "colab": {}
      },
      "source": [
        "from sklearn.model_selection import train_test_split\n",
        "X_train, X_test, y_train, y_test = train_test_split(X, y, test_size=0.20,random_state=8)#5,8,13\n",
        "print(\"X_train shape:\",X_train.shape)\n",
        "print(\"X_test shape:\",X_test.shape)"
      ],
      "execution_count": 0,
      "outputs": []
    },
    {
      "cell_type": "code",
      "metadata": {
        "id": "jKBCT9eU6H8g",
        "colab_type": "code",
        "colab": {}
      },
      "source": [
        "from sklearn.preprocessing import MinMaxScaler\n",
        "scaler = MinMaxScaler()\n",
        "X_train = pd.DataFrame(scaler.fit_transform(X_train))\n",
        "X_test = pd.DataFrame(scaler.transform(X_test))"
      ],
      "execution_count": 0,
      "outputs": []
    },
    {
      "cell_type": "markdown",
      "metadata": {
        "id": "YJL24qNPtEP0",
        "colab_type": "text"
      },
      "source": [
        "\n",
        "\n",
        "> Árbol de Clasificación\n",
        "\n"
      ]
    },
    {
      "cell_type": "code",
      "metadata": {
        "id": "0jFwZJlX5-9e",
        "colab_type": "code",
        "colab": {}
      },
      "source": [
        ""
      ],
      "execution_count": 0,
      "outputs": []
    },
    {
      "cell_type": "code",
      "metadata": {
        "id": "MIRQ8vk1g7ep",
        "colab_type": "code",
        "outputId": "962fc73d-d4f9-42ba-b3e6-7f2f585e568f",
        "colab": {
          "base_uri": "https://localhost:8080/",
          "height": 142
        }
      },
      "source": [
        "y_pred = arbol.predict(X_test)\n",
        "df_confusion_arbol = pd.crosstab(y_test, y_pred,rownames=['Original'], colnames=['Predicted'])\n",
        "df_confusion_arbol"
      ],
      "execution_count": 40,
      "outputs": [
        {
          "output_type": "execute_result",
          "data": {
            "text/html": [
              "<div>\n",
              "<style scoped>\n",
              "    .dataframe tbody tr th:only-of-type {\n",
              "        vertical-align: middle;\n",
              "    }\n",
              "\n",
              "    .dataframe tbody tr th {\n",
              "        vertical-align: top;\n",
              "    }\n",
              "\n",
              "    .dataframe thead th {\n",
              "        text-align: right;\n",
              "    }\n",
              "</style>\n",
              "<table border=\"1\" class=\"dataframe\">\n",
              "  <thead>\n",
              "    <tr style=\"text-align: right;\">\n",
              "      <th>Predicted</th>\n",
              "      <th>0</th>\n",
              "      <th>1</th>\n",
              "    </tr>\n",
              "    <tr>\n",
              "      <th>Original</th>\n",
              "      <th></th>\n",
              "      <th></th>\n",
              "    </tr>\n",
              "  </thead>\n",
              "  <tbody>\n",
              "    <tr>\n",
              "      <th>0</th>\n",
              "      <td>24</td>\n",
              "      <td>6</td>\n",
              "    </tr>\n",
              "    <tr>\n",
              "      <th>1</th>\n",
              "      <td>2</td>\n",
              "      <td>29</td>\n",
              "    </tr>\n",
              "  </tbody>\n",
              "</table>\n",
              "</div>"
            ],
            "text/plain": [
              "Predicted   0   1\n",
              "Original         \n",
              "0          24   6\n",
              "1           2  29"
            ]
          },
          "metadata": {
            "tags": []
          },
          "execution_count": 40
        }
      ]
    },
    {
      "cell_type": "code",
      "metadata": {
        "id": "yvOWPuJShMSx",
        "colab_type": "code",
        "colab": {
          "base_uri": "https://localhost:8080/",
          "height": 170
        },
        "outputId": "bc376ce8-fad7-4f6f-9f63-a35871d9fe62"
      },
      "source": [
        "from sklearn.metrics import classification_report \n",
        "print(classification_report(y_test, y_pred))"
      ],
      "execution_count": 41,
      "outputs": [
        {
          "output_type": "stream",
          "text": [
            "              precision    recall  f1-score   support\n",
            "\n",
            "           0       0.92      0.80      0.86        30\n",
            "           1       0.83      0.94      0.88        31\n",
            "\n",
            "    accuracy                           0.87        61\n",
            "   macro avg       0.88      0.87      0.87        61\n",
            "weighted avg       0.88      0.87      0.87        61\n",
            "\n"
          ],
          "name": "stdout"
        }
      ]
    },
    {
      "cell_type": "markdown",
      "metadata": {
        "id": "6cqsEd6bsLuc",
        "colab_type": "text"
      },
      "source": [
        "##Graficando la Matriz "
      ]
    },
    {
      "cell_type": "code",
      "metadata": {
        "id": "oHCkHSadsOVf",
        "colab_type": "code",
        "colab": {}
      },
      "source": [
        "#Función para mostrar la matriz de confusión\n",
        "def print_confusion_matrix(cm):\n",
        "  import seaborn as sn\n",
        "  plt.figure(figsize=(10,7))\n",
        "  sn.heatmap(cm, annot=True, fmt='d')\n",
        "  plt.xlabel('Predicted')\n",
        "  plt.ylabel('True')\n",
        "  plt.title('Confusion matrix.')\n",
        "  plt.show() "
      ],
      "execution_count": 0,
      "outputs": []
    },
    {
      "cell_type": "code",
      "metadata": {
        "id": "so4gAmZCsPxa",
        "colab_type": "code",
        "colab": {
          "base_uri": "https://localhost:8080/",
          "height": 458
        },
        "outputId": "1bb22143-c454-41de-a602-700e5abee4e1"
      },
      "source": [
        "print_confusion_matrix(df_confusion_KNN)"
      ],
      "execution_count": 43,
      "outputs": [
        {
          "output_type": "display_data",
          "data": {
            "image/png": "[encoded data removed]",
            "text/plain": [
              "<Figure size 720x504 with 2 Axes>"
            ]
          },
          "metadata": {
            "tags": []
          }
        }
      ]
    },
    {
      "cell_type": "code",
      "metadata": {
        "id": "HCAYLhW9s5UG",
        "colab_type": "code",
        "colab": {
          "base_uri": "https://localhost:8080/",
          "height": 458
        },
        "outputId": "e4913f5c-ec89-4a7f-e5aa-edef6f1b790c"
      },
      "source": [
        "print_confusion_matrix(df_confusion_arbol)"
      ],
      "execution_count": 44,
      "outputs": [
        {
          "output_type": "display_data",
          "data": {
            "image/png": "[encoded data removed]",
            "text/plain": [
              "<Figure size 720x504 with 2 Axes>"
            ]
          },
          "metadata": {
            "tags": []
          }
        }
      ]
    },
    {
      "cell_type": "markdown",
      "metadata": {
        "id": "Skczuhj_wwmV",
        "colab_type": "text"
      },
      "source": [
        "##Cross Validation"
      ]
    },
    {
      "cell_type": "markdown",
      "metadata": {
        "id": "knKA7kJiMyQp",
        "colab_type": "text"
      },
      "source": [
        "\n",
        "\n",
        "> Árbol de Clasificación\n",
        "\n"
      ]
    },
    {
      "cell_type": "code",
      "metadata": {
        "id": "qUYC7il3wwyq",
        "colab_type": "code",
        "outputId": "5d18a822-77f8-483c-b0f9-f11cf9c59829",
        "colab": {
          "base_uri": "https://localhost:8080/",
          "height": 34
        }
      },
      "source": [
        "from sklearn.model_selection import KFold\n",
        "from sklearn import metrics\n",
        "NSplits = 10\n",
        "kf = KFold(n_splits=NSplits)\n",
        "kf.get_n_splits(X)\n",
        "print(kf)"
      ],
      "execution_count": 45,
      "outputs": [
        {
          "output_type": "stream",
          "text": [
            "KFold(n_splits=10, random_state=None, shuffle=False)\n"
          ],
          "name": "stdout"
        }
      ]
    },
    {
      "cell_type": "code",
      "metadata": {
        "id": "YfsiLFhUzExN",
        "colab_type": "code",
        "outputId": "7305e34f-1fc2-4470-e544-64a8c28bac31",
        "colab": {
          "base_uri": "https://localhost:8080/",
          "height": 204
        }
      },
      "source": [
        "AccTotal = 0\n",
        "for train_index, test_index in kf.split(X):\n",
        "  #print(\"TRAIN:\", train_index, \"TEST:\", test_index)\n",
        "  X_train, X_test = X.iloc[train_index], X.iloc[test_index]\n",
        "  y_train, y_test = y[train_index], y[test_index]\n",
        "  \n",
        "  arbol3 = DecisionTreeClassifier(max_depth=5)\n",
        "  arbol3.fit(X_train,y_train)\n",
        "\n",
        "  y_pred = arbol3.predict(X_test)\n",
        "  AccFolder = metrics.accuracy_score(y_test, y_pred)*100\n",
        "  print(\"Accuracy Folder\", AccFolder)\n",
        "  \n",
        "  AccTotal += AccFolder\n",
        "  \n",
        "print(\"Accuracy General:\", AccTotal/NSplits)"
      ],
      "execution_count": 46,
      "outputs": [
        {
          "output_type": "stream",
          "text": [
            "Accuracy Folder 67.74193548387096\n",
            "Accuracy Folder 90.32258064516128\n",
            "Accuracy Folder 80.64516129032258\n",
            "Accuracy Folder 63.33333333333333\n",
            "Accuracy Folder 83.33333333333334\n",
            "Accuracy Folder 80.0\n",
            "Accuracy Folder 80.0\n",
            "Accuracy Folder 76.66666666666667\n",
            "Accuracy Folder 63.33333333333333\n",
            "Accuracy Folder 53.333333333333336\n",
            "Accuracy General: 73.87096774193549\n"
          ],
          "name": "stdout"
        }
      ]
    },
    {
      "cell_type": "code",
      "metadata": {
        "id": "HbMU1pHT4mAC",
        "colab_type": "code",
        "colab": {
          "base_uri": "https://localhost:8080/",
          "height": 295
        },
        "outputId": "e3b04c4a-d1a0-49d5-d017-8307c30e2ae3"
      },
      "source": [
        "# Grafico de ajuste del árbol de decisión\n",
        "train_prec =  []\n",
        "eval_prec = []\n",
        "max_deep_list = list(range(2, 20))\n",
        "\n",
        "for deep in max_deep_list:\n",
        "    arbol3 = DecisionTreeClassifier(max_depth=deep)\n",
        "    arbol3.fit(X_train,y_train)\n",
        "    train_prec.append(arbol3.score(X_train, y_train))\n",
        "    eval_prec.append(arbol3.score(X_test, y_test))\n",
        "\n",
        "# graficar los resultados.\n",
        "plt.plot(max_deep_list, train_prec, color='r', label='entrenamiento')\n",
        "plt.plot(max_deep_list, eval_prec, color='b', label='evaluacion')\n",
        "plt.title('Grafico de ajuste arbol de decision')\n",
        "plt.legend()\n",
        "plt.grid()\n",
        "plt.xticks(list(range(len(max_deep_list))),max_deep_list)\n",
        "plt.ylabel('Score')\n",
        "plt.xlabel('Cant de nodos')\n",
        "plt.show()"
      ],
      "execution_count": 47,
      "outputs": [
        {
          "output_type": "display_data",
          "data": {
            "image/png": "[encoded data removed]",
            "text/plain": [
              "<Figure size 432x288 with 1 Axes>"
            ]
          },
          "metadata": {
            "tags": []
          }
        }
      ]
    },
    {
      "cell_type": "markdown",
      "metadata": {
        "id": "vKFyF6jzM4nw",
        "colab_type": "text"
      },
      "source": [
        "\n",
        "\n",
        "> KNN\n",
        "\n"
      ]
    },
    {
      "cell_type": "code",
      "metadata": {
        "id": "TvrjglWyN34U",
        "colab_type": "code",
        "colab": {}
      },
      "source": [
        "from sklearn.preprocessing import MinMaxScaler\n",
        "scaler = MinMaxScaler()\n",
        "X = pd.DataFrame(scaler.fit_transform(X))"
      ],
      "execution_count": 0,
      "outputs": []
    },
    {
      "cell_type": "code",
      "metadata": {
        "id": "UesnCP8FOGox",
        "colab_type": "code",
        "outputId": "051545bc-c147-4926-ba6a-880933fc392d",
        "colab": {
          "base_uri": "https://localhost:8080/",
          "height": 34
        }
      },
      "source": [
        "from sklearn.model_selection import KFold\n",
        "from sklearn import metrics\n",
        "NSplits = 10\n",
        "kf = KFold(n_splits=NSplits)\n",
        "kf.get_n_splits(X)\n",
        "print(kf)"
      ],
      "execution_count": 49,
      "outputs": [
        {
          "output_type": "stream",
          "text": [
            "KFold(n_splits=10, random_state=None, shuffle=False)\n"
          ],
          "name": "stdout"
        }
      ]
    },
    {
      "cell_type": "code",
      "metadata": {
        "id": "VaP_Ws9VMxRk",
        "colab_type": "code",
        "outputId": "b61f439b-8d41-4577-fc05-5951db7e584b",
        "colab": {
          "base_uri": "https://localhost:8080/",
          "height": 204
        }
      },
      "source": [
        "AccTotal = 0\n",
        "for train_index, test_index in kf.split(X):\n",
        "  #print(\"TRAIN:\", train_index, \"TEST:\", test_index)\n",
        "  X_train, X_test = X.iloc[train_index], X.iloc[test_index]\n",
        "  y_train, y_test = y[train_index], y[test_index]\n",
        "  \n",
        "  classifier3 = KNeighborsClassifier(n_neighbors=7,weights='distance',metric='cosine')\n",
        "  classifier3.fit(X_train, y_train)\n",
        "\n",
        "  y_pred = classifier3.predict(X_test)\n",
        "  AccFolder = metrics.accuracy_score(y_test, y_pred)*100\n",
        "  print(\"Accuracy Folder\", AccFolder)\n",
        "  \n",
        "  AccTotal += AccFolder\n",
        "  \n",
        "print(\"Accuracy General:\", AccTotal/NSplits)"
      ],
      "execution_count": 50,
      "outputs": [
        {
          "output_type": "stream",
          "text": [
            "Accuracy Folder 87.09677419354838\n",
            "Accuracy Folder 77.41935483870968\n",
            "Accuracy Folder 83.87096774193549\n",
            "Accuracy Folder 73.33333333333333\n",
            "Accuracy Folder 90.0\n",
            "Accuracy Folder 83.33333333333334\n",
            "Accuracy Folder 56.666666666666664\n",
            "Accuracy Folder 83.33333333333334\n",
            "Accuracy Folder 80.0\n",
            "Accuracy Folder 60.0\n",
            "Accuracy General: 77.50537634408602\n"
          ],
          "name": "stdout"
        }
      ]
    },
    {
      "cell_type": "code",
      "metadata": {
        "id": "48EbOS0QMotj",
        "colab_type": "code",
        "colab": {
          "base_uri": "https://localhost:8080/",
          "height": 295
        },
        "outputId": "3c154ffa-7f7a-4009-fd16-a244a5139298"
      },
      "source": [
        "# Grafico de ajuste del árbol de decisión\n",
        "train_prec =  []\n",
        "eval_prec = []\n",
        "max_deep_list = list(range(2, 20))\n",
        "\n",
        "for deep in max_deep_list:\n",
        "    classifier3 = KNeighborsClassifier(n_neighbors=deep,weights='distance',metric='euclidean')\n",
        "    classifier3.fit(X_train, y_train)\n",
        "    train_prec.append(classifier3.score(X_train, y_train))\n",
        "    eval_prec.append(classifier3.score(X_test, y_test))\n",
        "\n",
        "# graficar los resultados.\n",
        "plt.plot(max_deep_list, train_prec, color='r', label='entrenamiento')\n",
        "plt.plot(max_deep_list, eval_prec, color='b', label='evaluacion')\n",
        "plt.title('Grafico de ajuste KNN')\n",
        "plt.legend()\n",
        "plt.grid()\n",
        "plt.xticks(list(range(len(max_deep_list))),max_deep_list)\n",
        "plt.ylabel('Score')\n",
        "plt.xlabel('Cant de nodos')\n",
        "plt.show()"
      ],
      "execution_count": 51,
      "outputs": [
        {
          "output_type": "display_data",
          "data": {
            "image/png": "[encoded data removed]",
            "text/plain": [
              "<Figure size 432x288 with 1 Axes>"
            ]
          },
          "metadata": {
            "tags": []
          }
        }
      ]
    },
    {
      "cell_type": "markdown",
      "metadata": {
        "id": "XkZkLMhnPoxZ",
        "colab_type": "text"
      },
      "source": [
        "##Curva ROC"
      ]
    },
    {
      "cell_type": "code",
      "metadata": {
        "id": "Qe71LSQISFxM",
        "colab_type": "code",
        "outputId": "10b8ddc2-0fc4-49a3-c48d-64d10c34a1bc",
        "colab": {
          "base_uri": "https://localhost:8080/",
          "height": 51
        }
      },
      "source": [
        "#reseteo debido a cambios anteriores\n",
        " #target binario ( hombre , mujer; vivo,muerto)\n",
        " #roc= cuanta de esa data a sido predicha correctamente\n",
        " # triangulo seria perfeccion\n",
        "#sensibilida= recall\n",
        "#especicidad\n",
        "X=df.drop(['target'],axis=1)\n",
        "y=df['target']\n",
        "\n",
        "from sklearn.model_selection import train_test_split\n",
        "X_train, X_test, y_train, y_test = train_test_split(X, y, test_size=0.20,random_state=8)#5,8,13\n",
        "print(\"X_train shape:\",X_train.shape)\n",
        "print(\"X_test shape:\",X_test.shape)\n",
        "\n",
        "from sklearn.preprocessing import MinMaxScaler\n",
        "scaler = MinMaxScaler()\n",
        "X_train = pd.DataFrame(scaler.fit_transform(X_train))\n",
        "X_test = pd.DataFrame(scaler.transform(X_test))"
      ],
      "execution_count": 59,
      "outputs": [
        {
          "output_type": "stream",
          "text": [
            "X_train shape: (242, 13)\n",
            "X_test shape: (61, 13)\n"
          ],
          "name": "stdout"
        }
      ]
    },
    {
      "cell_type": "markdown",
      "metadata": {
        "id": "S1iYqOaISwnX",
        "colab_type": "text"
      },
      "source": [
        "\n",
        "\n",
        "> KNN\n",
        "\n"
      ]
    },
    {
      "cell_type": "code",
      "metadata": {
        "id": "3b47SU4sPoT6",
        "colab_type": "code",
        "outputId": "b9f5142f-b748-427a-df6d-a867871334d1",
        "colab": {
          "base_uri": "https://localhost:8080/",
          "height": 279
        }
      },
      "source": [
        "# Cálculo del AUC y gráfica de la Curva ROC\n",
        "# area bajo la curva\n",
        "y_pred_proba = classifier.predict_proba(X_test)[::,1]\n",
        "fpr, tpr, _ = metrics.roc_curve(y_test,  y_pred_proba)\n",
        "auc = metrics.roc_auc_score(y_test, y_pred_proba)\n",
        "plt.plot(fpr,tpr,label=\"KNN, auc=\"+str(auc))\n",
        "plt.xlabel(\"Especificidad\")\n",
        "plt.ylabel(\"Sensibilidad\")\n",
        "plt.legend(loc=4)\n",
        "plt.show()"
      ],
      "execution_count": 60,
      "outputs": [
        {
          "output_type": "display_data",
          "data": {
            "image/png": "[encoded data removed]",
            "text/plain": [
              "<Figure size 432x288 with 1 Axes>"
            ]
          },
          "metadata": {
            "tags": []
          }
        }
      ]
    },
    {
      "cell_type": "markdown",
      "metadata": {
        "id": "buvabcMwS3C3",
        "colab_type": "text"
      },
      "source": [
        "\n",
        "\n",
        "> Árbol de Clasificación\n",
        "\n"
      ]
    },
    {
      "cell_type": "code",
      "metadata": {
        "id": "T93R-MX8P9y1",
        "colab_type": "code",
        "outputId": "f374cd05-4e6c-4e48-fca1-223252dfc841",
        "colab": {
          "base_uri": "https://localhost:8080/",
          "height": 265
        }
      },
      "source": [
        "# Cálculo del AUC y gráfica de la Curva ROC\n",
        "# auc= area bajo la curva\n",
        "y_pred_proba = arbol.predict_proba(X_test)[::,1]\n",
        "fpr, tpr, _ = metrics.roc_curve(y_test,  y_pred_proba)\n",
        "auc = metrics.roc_auc_score(y_test, y_pred_proba)\n",
        "plt.plot(fpr,tpr,label=\"Árbol de Clasificación, auc=\"+str(auc))\n",
        "plt.legend(loc=4)\n",
        "plt.show()"
      ],
      "execution_count": 61,
      "outputs": [
        {
          "output_type": "display_data",
          "data": {
            "image/png": "[encoded data removed]",
            "text/plain": [
              "<Figure size 432x288 with 1 Axes>"
            ]
          },
          "metadata": {
            "tags": []
          }
        }
      ]
    }
  ]
}